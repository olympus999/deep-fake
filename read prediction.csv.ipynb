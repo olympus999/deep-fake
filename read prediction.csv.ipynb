{
 "cells": [
  {
   "cell_type": "code",
   "execution_count": 199,
   "metadata": {
    "ExecuteTime": {
     "end_time": "2020-02-17T08:48:01.284026Z",
     "start_time": "2020-02-17T08:48:01.280052Z"
    }
   },
   "outputs": [],
   "source": [
    "import pandas as pd\n",
    "import numpy as np\n",
    "from ast import literal_eval"
   ]
  },
  {
   "cell_type": "code",
   "execution_count": 26,
   "metadata": {
    "ExecuteTime": {
     "end_time": "2020-02-17T00:06:21.190056Z",
     "start_time": "2020-02-17T00:06:18.693031Z"
    }
   },
   "outputs": [],
   "source": [
    "# Predict df\n",
    "df_pred = pd.read_csv('predictions.csv')\n",
    "df_pred = df_pred[df_pred.columns[1:]] # Remove column: \"Unnamed: 0\"\n",
    "\n",
    "# Split the string array into columns 'idx_*'\n",
    "new_predictions = []\n",
    "for idx, row in df_pred.iterrows():\n",
    "    arr = literal_eval(row['predictions'].replace('\\n', ','))\n",
    "    d = {'idx_' + str(idx):x[0] for idx, x in enumerate(arr)}\n",
    "    d['index'] = idx\n",
    "    new_predictions.append(d)\n",
    "\n",
    "# Join the 'idx_*' columns with df\n",
    "df_2 = pd.DataFrame(new_predictions)\n",
    "df = df_pred.join(df_2)\n",
    "df = df[df.columns[:-1]] # Remove unnecessary index"
   ]
  },
  {
   "cell_type": "code",
   "execution_count": 7,
   "metadata": {
    "ExecuteTime": {
     "end_time": "2020-02-16T23:53:08.386517Z",
     "start_time": "2020-02-16T23:53:08.383517Z"
    },
    "scrolled": true
   },
   "outputs": [],
   "source": [
    "col_probs = [x for x in df.columns if 'idx_' in x]"
   ]
  },
  {
   "cell_type": "code",
   "execution_count": 99,
   "metadata": {
    "ExecuteTime": {
     "end_time": "2020-02-17T00:58:30.706785Z",
     "start_time": "2020-02-17T00:58:30.680761Z"
    }
   },
   "outputs": [],
   "source": [
    "# Add mean and max columns\n",
    "df['mean'] = df[col_probs].mean(axis=1)\n",
    "df['max'] = df[col_probs].max(axis=1)\n",
    "df['std'] = df[col_probs].std(axis=1)"
   ]
  },
  {
   "cell_type": "code",
   "execution_count": 100,
   "metadata": {
    "ExecuteTime": {
     "end_time": "2020-02-17T00:58:31.228785Z",
     "start_time": "2020-02-17T00:58:31.196788Z"
    },
    "scrolled": true
   },
   "outputs": [
    {
     "data": {
      "text/html": [
       "<div>\n",
       "<style scoped>\n",
       "    .dataframe tbody tr th:only-of-type {\n",
       "        vertical-align: middle;\n",
       "    }\n",
       "\n",
       "    .dataframe tbody tr th {\n",
       "        vertical-align: top;\n",
       "    }\n",
       "\n",
       "    .dataframe thead th {\n",
       "        text-align: right;\n",
       "    }\n",
       "</style>\n",
       "<table border=\"1\" class=\"dataframe\">\n",
       "  <thead>\n",
       "    <tr style=\"text-align: right;\">\n",
       "      <th></th>\n",
       "      <th>path</th>\n",
       "      <th>annotation</th>\n",
       "      <th>predictions</th>\n",
       "      <th>idx_0</th>\n",
       "      <th>idx_1</th>\n",
       "      <th>idx_2</th>\n",
       "      <th>idx_3</th>\n",
       "      <th>idx_4</th>\n",
       "      <th>idx_5</th>\n",
       "      <th>idx_6</th>\n",
       "      <th>idx_7</th>\n",
       "      <th>idx_8</th>\n",
       "      <th>idx_9</th>\n",
       "      <th>mean</th>\n",
       "      <th>max</th>\n",
       "      <th>std</th>\n",
       "    </tr>\n",
       "  </thead>\n",
       "  <tbody>\n",
       "    <tr>\n",
       "      <th>0</th>\n",
       "      <td>../deepfake_train_full\\dfdc_train_part_45\\dfdc...</td>\n",
       "      <td>FAKE</td>\n",
       "      <td>[[3.5265051e-03]\\n [3.0813090e-04]\\n [5.886242...</td>\n",
       "      <td>3.526505e-03</td>\n",
       "      <td>3.081309e-04</td>\n",
       "      <td>5.886243e-07</td>\n",
       "      <td>7.620351e-01</td>\n",
       "      <td>9.460791e-03</td>\n",
       "      <td>9.917978e-01</td>\n",
       "      <td>5.767963e-03</td>\n",
       "      <td>5.711840e-01</td>\n",
       "      <td>5.038002e-02</td>\n",
       "      <td>9.682453e-03</td>\n",
       "      <td>2.404143e-01</td>\n",
       "      <td>9.917978e-01</td>\n",
       "      <td>3.823012e-01</td>\n",
       "    </tr>\n",
       "    <tr>\n",
       "      <th>1</th>\n",
       "      <td>../deepfake_train_full\\dfdc_train_part_45\\dfdc...</td>\n",
       "      <td>REAL</td>\n",
       "      <td>[[5.8379888e-09]\\n [7.9770279e-09]\\n [8.329672...</td>\n",
       "      <td>5.837989e-09</td>\n",
       "      <td>7.977028e-09</td>\n",
       "      <td>8.329672e-10</td>\n",
       "      <td>7.284967e-08</td>\n",
       "      <td>1.048334e-09</td>\n",
       "      <td>1.857281e-05</td>\n",
       "      <td>4.091373e-06</td>\n",
       "      <td>1.767048e-07</td>\n",
       "      <td>8.640434e-06</td>\n",
       "      <td>2.559106e-07</td>\n",
       "      <td>3.182578e-06</td>\n",
       "      <td>1.857281e-05</td>\n",
       "      <td>6.102458e-06</td>\n",
       "    </tr>\n",
       "    <tr>\n",
       "      <th>2</th>\n",
       "      <td>../deepfake_train_full\\dfdc_train_part_45\\dfdc...</td>\n",
       "      <td>FAKE</td>\n",
       "      <td>[[1.6838417e-08]\\n [1.0031427e-07]\\n [1.951372...</td>\n",
       "      <td>1.683842e-08</td>\n",
       "      <td>1.003143e-07</td>\n",
       "      <td>1.951373e-08</td>\n",
       "      <td>2.371918e-07</td>\n",
       "      <td>2.939314e-08</td>\n",
       "      <td>9.288438e-09</td>\n",
       "      <td>3.840892e-08</td>\n",
       "      <td>4.499417e-08</td>\n",
       "      <td>8.906171e-08</td>\n",
       "      <td>8.732678e-08</td>\n",
       "      <td>6.723314e-08</td>\n",
       "      <td>2.371918e-07</td>\n",
       "      <td>6.814379e-08</td>\n",
       "    </tr>\n",
       "    <tr>\n",
       "      <th>3</th>\n",
       "      <td>../deepfake_train_full\\dfdc_train_part_45\\dfdc...</td>\n",
       "      <td>REAL</td>\n",
       "      <td>[[8.8938551e-10]\\n [1.4731814e-08]\\n [1.667182...</td>\n",
       "      <td>8.893855e-10</td>\n",
       "      <td>1.473181e-08</td>\n",
       "      <td>1.667182e-08</td>\n",
       "      <td>1.528423e-07</td>\n",
       "      <td>1.299510e-08</td>\n",
       "      <td>6.636372e-10</td>\n",
       "      <td>9.088133e-09</td>\n",
       "      <td>7.997305e-09</td>\n",
       "      <td>1.020815e-08</td>\n",
       "      <td>4.842430e-09</td>\n",
       "      <td>2.309301e-08</td>\n",
       "      <td>1.528423e-07</td>\n",
       "      <td>4.590713e-08</td>\n",
       "    </tr>\n",
       "    <tr>\n",
       "      <th>4</th>\n",
       "      <td>../deepfake_train_full\\dfdc_train_part_45\\dfdc...</td>\n",
       "      <td>FAKE</td>\n",
       "      <td>[]</td>\n",
       "      <td>NaN</td>\n",
       "      <td>NaN</td>\n",
       "      <td>NaN</td>\n",
       "      <td>NaN</td>\n",
       "      <td>NaN</td>\n",
       "      <td>NaN</td>\n",
       "      <td>NaN</td>\n",
       "      <td>NaN</td>\n",
       "      <td>NaN</td>\n",
       "      <td>NaN</td>\n",
       "      <td>NaN</td>\n",
       "      <td>NaN</td>\n",
       "      <td>NaN</td>\n",
       "    </tr>\n",
       "    <tr>\n",
       "      <th>...</th>\n",
       "      <td>...</td>\n",
       "      <td>...</td>\n",
       "      <td>...</td>\n",
       "      <td>...</td>\n",
       "      <td>...</td>\n",
       "      <td>...</td>\n",
       "      <td>...</td>\n",
       "      <td>...</td>\n",
       "      <td>...</td>\n",
       "      <td>...</td>\n",
       "      <td>...</td>\n",
       "      <td>...</td>\n",
       "      <td>...</td>\n",
       "      <td>...</td>\n",
       "      <td>...</td>\n",
       "      <td>...</td>\n",
       "    </tr>\n",
       "    <tr>\n",
       "      <th>13364</th>\n",
       "      <td>../deepfake_train_full\\dfdc_train_part_48\\dfdc...</td>\n",
       "      <td>FAKE</td>\n",
       "      <td>[[2.5187552e-01]\\n [4.5120154e-04]\\n [2.207254...</td>\n",
       "      <td>2.518755e-01</td>\n",
       "      <td>4.512015e-04</td>\n",
       "      <td>2.207254e-04</td>\n",
       "      <td>4.435138e-04</td>\n",
       "      <td>4.268513e-04</td>\n",
       "      <td>8.939055e-04</td>\n",
       "      <td>2.637182e-03</td>\n",
       "      <td>4.462444e-05</td>\n",
       "      <td>9.684254e-03</td>\n",
       "      <td>2.919674e-04</td>\n",
       "      <td>2.669697e-02</td>\n",
       "      <td>2.518755e-01</td>\n",
       "      <td>7.917368e-02</td>\n",
       "    </tr>\n",
       "    <tr>\n",
       "      <th>13365</th>\n",
       "      <td>../deepfake_train_full\\dfdc_train_part_48\\dfdc...</td>\n",
       "      <td>REAL</td>\n",
       "      <td>[[5.6307060e-01]\\n [2.5973301e-05]\\n [1.557213...</td>\n",
       "      <td>5.630706e-01</td>\n",
       "      <td>2.597330e-05</td>\n",
       "      <td>1.557214e-03</td>\n",
       "      <td>8.356873e-04</td>\n",
       "      <td>2.083818e-03</td>\n",
       "      <td>5.511399e-04</td>\n",
       "      <td>8.146752e-04</td>\n",
       "      <td>9.282292e-04</td>\n",
       "      <td>1.633087e-03</td>\n",
       "      <td>2.126001e-03</td>\n",
       "      <td>5.736264e-02</td>\n",
       "      <td>5.630706e-01</td>\n",
       "      <td>1.776889e-01</td>\n",
       "    </tr>\n",
       "    <tr>\n",
       "      <th>13366</th>\n",
       "      <td>../deepfake_train_full\\dfdc_train_part_48\\dfdc...</td>\n",
       "      <td>FAKE</td>\n",
       "      <td>[[1.3763700e-03]\\n [8.6559319e-01]\\n [9.874792...</td>\n",
       "      <td>1.376370e-03</td>\n",
       "      <td>8.655932e-01</td>\n",
       "      <td>9.874793e-01</td>\n",
       "      <td>9.164143e-01</td>\n",
       "      <td>2.825730e-06</td>\n",
       "      <td>1.791343e-04</td>\n",
       "      <td>5.000479e-04</td>\n",
       "      <td>1.275874e-01</td>\n",
       "      <td>3.877553e-06</td>\n",
       "      <td>9.782170e-01</td>\n",
       "      <td>3.877353e-01</td>\n",
       "      <td>9.874793e-01</td>\n",
       "      <td>4.753927e-01</td>\n",
       "    </tr>\n",
       "    <tr>\n",
       "      <th>13367</th>\n",
       "      <td>../deepfake_train_full\\dfdc_train_part_48\\dfdc...</td>\n",
       "      <td>REAL</td>\n",
       "      <td>[[4.48190107e-08]\\n [1.36630842e-03]\\n [7.9808...</td>\n",
       "      <td>4.481901e-08</td>\n",
       "      <td>1.366308e-03</td>\n",
       "      <td>7.980809e-01</td>\n",
       "      <td>3.295229e-04</td>\n",
       "      <td>3.179362e-06</td>\n",
       "      <td>1.765153e-04</td>\n",
       "      <td>1.381531e-06</td>\n",
       "      <td>1.155194e-07</td>\n",
       "      <td>6.173848e-06</td>\n",
       "      <td>4.508075e-02</td>\n",
       "      <td>8.450449e-02</td>\n",
       "      <td>7.980809e-01</td>\n",
       "      <td>2.511213e-01</td>\n",
       "    </tr>\n",
       "    <tr>\n",
       "      <th>13368</th>\n",
       "      <td>../deepfake_train_full\\dfdc_train_part_48\\dfdc...</td>\n",
       "      <td>FAKE</td>\n",
       "      <td>[[2.3951878e-07]\\n [3.0927695e-04]\\n [5.785713...</td>\n",
       "      <td>2.395188e-07</td>\n",
       "      <td>3.092769e-04</td>\n",
       "      <td>5.785713e-05</td>\n",
       "      <td>3.849181e-04</td>\n",
       "      <td>2.863678e-07</td>\n",
       "      <td>2.308980e-06</td>\n",
       "      <td>NaN</td>\n",
       "      <td>NaN</td>\n",
       "      <td>NaN</td>\n",
       "      <td>NaN</td>\n",
       "      <td>1.258145e-04</td>\n",
       "      <td>3.849181e-04</td>\n",
       "      <td>1.744657e-04</td>\n",
       "    </tr>\n",
       "  </tbody>\n",
       "</table>\n",
       "<p>13369 rows × 16 columns</p>\n",
       "</div>"
      ],
      "text/plain": [
       "                                                    path annotation  \\\n",
       "0      ../deepfake_train_full\\dfdc_train_part_45\\dfdc...       FAKE   \n",
       "1      ../deepfake_train_full\\dfdc_train_part_45\\dfdc...       REAL   \n",
       "2      ../deepfake_train_full\\dfdc_train_part_45\\dfdc...       FAKE   \n",
       "3      ../deepfake_train_full\\dfdc_train_part_45\\dfdc...       REAL   \n",
       "4      ../deepfake_train_full\\dfdc_train_part_45\\dfdc...       FAKE   \n",
       "...                                                  ...        ...   \n",
       "13364  ../deepfake_train_full\\dfdc_train_part_48\\dfdc...       FAKE   \n",
       "13365  ../deepfake_train_full\\dfdc_train_part_48\\dfdc...       REAL   \n",
       "13366  ../deepfake_train_full\\dfdc_train_part_48\\dfdc...       FAKE   \n",
       "13367  ../deepfake_train_full\\dfdc_train_part_48\\dfdc...       REAL   \n",
       "13368  ../deepfake_train_full\\dfdc_train_part_48\\dfdc...       FAKE   \n",
       "\n",
       "                                             predictions         idx_0  \\\n",
       "0      [[3.5265051e-03]\\n [3.0813090e-04]\\n [5.886242...  3.526505e-03   \n",
       "1      [[5.8379888e-09]\\n [7.9770279e-09]\\n [8.329672...  5.837989e-09   \n",
       "2      [[1.6838417e-08]\\n [1.0031427e-07]\\n [1.951372...  1.683842e-08   \n",
       "3      [[8.8938551e-10]\\n [1.4731814e-08]\\n [1.667182...  8.893855e-10   \n",
       "4                                                     []           NaN   \n",
       "...                                                  ...           ...   \n",
       "13364  [[2.5187552e-01]\\n [4.5120154e-04]\\n [2.207254...  2.518755e-01   \n",
       "13365  [[5.6307060e-01]\\n [2.5973301e-05]\\n [1.557213...  5.630706e-01   \n",
       "13366  [[1.3763700e-03]\\n [8.6559319e-01]\\n [9.874792...  1.376370e-03   \n",
       "13367  [[4.48190107e-08]\\n [1.36630842e-03]\\n [7.9808...  4.481901e-08   \n",
       "13368  [[2.3951878e-07]\\n [3.0927695e-04]\\n [5.785713...  2.395188e-07   \n",
       "\n",
       "              idx_1         idx_2         idx_3         idx_4         idx_5  \\\n",
       "0      3.081309e-04  5.886243e-07  7.620351e-01  9.460791e-03  9.917978e-01   \n",
       "1      7.977028e-09  8.329672e-10  7.284967e-08  1.048334e-09  1.857281e-05   \n",
       "2      1.003143e-07  1.951373e-08  2.371918e-07  2.939314e-08  9.288438e-09   \n",
       "3      1.473181e-08  1.667182e-08  1.528423e-07  1.299510e-08  6.636372e-10   \n",
       "4               NaN           NaN           NaN           NaN           NaN   \n",
       "...             ...           ...           ...           ...           ...   \n",
       "13364  4.512015e-04  2.207254e-04  4.435138e-04  4.268513e-04  8.939055e-04   \n",
       "13365  2.597330e-05  1.557214e-03  8.356873e-04  2.083818e-03  5.511399e-04   \n",
       "13366  8.655932e-01  9.874793e-01  9.164143e-01  2.825730e-06  1.791343e-04   \n",
       "13367  1.366308e-03  7.980809e-01  3.295229e-04  3.179362e-06  1.765153e-04   \n",
       "13368  3.092769e-04  5.785713e-05  3.849181e-04  2.863678e-07  2.308980e-06   \n",
       "\n",
       "              idx_6         idx_7         idx_8         idx_9          mean  \\\n",
       "0      5.767963e-03  5.711840e-01  5.038002e-02  9.682453e-03  2.404143e-01   \n",
       "1      4.091373e-06  1.767048e-07  8.640434e-06  2.559106e-07  3.182578e-06   \n",
       "2      3.840892e-08  4.499417e-08  8.906171e-08  8.732678e-08  6.723314e-08   \n",
       "3      9.088133e-09  7.997305e-09  1.020815e-08  4.842430e-09  2.309301e-08   \n",
       "4               NaN           NaN           NaN           NaN           NaN   \n",
       "...             ...           ...           ...           ...           ...   \n",
       "13364  2.637182e-03  4.462444e-05  9.684254e-03  2.919674e-04  2.669697e-02   \n",
       "13365  8.146752e-04  9.282292e-04  1.633087e-03  2.126001e-03  5.736264e-02   \n",
       "13366  5.000479e-04  1.275874e-01  3.877553e-06  9.782170e-01  3.877353e-01   \n",
       "13367  1.381531e-06  1.155194e-07  6.173848e-06  4.508075e-02  8.450449e-02   \n",
       "13368           NaN           NaN           NaN           NaN  1.258145e-04   \n",
       "\n",
       "                max           std  \n",
       "0      9.917978e-01  3.823012e-01  \n",
       "1      1.857281e-05  6.102458e-06  \n",
       "2      2.371918e-07  6.814379e-08  \n",
       "3      1.528423e-07  4.590713e-08  \n",
       "4               NaN           NaN  \n",
       "...             ...           ...  \n",
       "13364  2.518755e-01  7.917368e-02  \n",
       "13365  5.630706e-01  1.776889e-01  \n",
       "13366  9.874793e-01  4.753927e-01  \n",
       "13367  7.980809e-01  2.511213e-01  \n",
       "13368  3.849181e-04  1.744657e-04  \n",
       "\n",
       "[13369 rows x 16 columns]"
      ]
     },
     "execution_count": 100,
     "metadata": {},
     "output_type": "execute_result"
    }
   ],
   "source": [
    "df"
   ]
  },
  {
   "cell_type": "code",
   "execution_count": 10,
   "metadata": {
    "ExecuteTime": {
     "end_time": "2020-02-16T23:53:08.446516Z",
     "start_time": "2020-02-16T23:53:08.434516Z"
    }
   },
   "outputs": [
    {
     "data": {
      "text/plain": [
       "annotation\n",
       "FAKE    0.588933\n",
       "REAL    0.456032\n",
       "Name: max, dtype: float64"
      ]
     },
     "execution_count": 10,
     "metadata": {},
     "output_type": "execute_result"
    }
   ],
   "source": [
    "df.groupby('annotation')['max'].mean()"
   ]
  },
  {
   "cell_type": "code",
   "execution_count": 11,
   "metadata": {
    "ExecuteTime": {
     "end_time": "2020-02-16T23:53:08.453515Z",
     "start_time": "2020-02-16T23:53:08.447516Z"
    }
   },
   "outputs": [
    {
     "data": {
      "text/plain": [
       "annotation\n",
       "FAKE    0.419042\n",
       "REAL    0.298746\n",
       "Name: mean, dtype: float64"
      ]
     },
     "execution_count": 11,
     "metadata": {},
     "output_type": "execute_result"
    }
   ],
   "source": [
    "df.groupby('annotation')['mean'].mean()"
   ]
  },
  {
   "cell_type": "code",
   "execution_count": 12,
   "metadata": {
    "ExecuteTime": {
     "end_time": "2020-02-16T23:53:08.462514Z",
     "start_time": "2020-02-16T23:53:08.455515Z"
    }
   },
   "outputs": [
    {
     "data": {
      "text/plain": [
       "annotation\n",
       "FAKE    0.424146\n",
       "REAL    0.392878\n",
       "Name: mean, dtype: float64"
      ]
     },
     "execution_count": 12,
     "metadata": {},
     "output_type": "execute_result"
    }
   ],
   "source": [
    "df.groupby('annotation')['mean'].std()"
   ]
  },
  {
   "cell_type": "code",
   "execution_count": 13,
   "metadata": {
    "ExecuteTime": {
     "end_time": "2020-02-16T23:53:08.470516Z",
     "start_time": "2020-02-16T23:53:08.463522Z"
    }
   },
   "outputs": [
    {
     "data": {
      "text/plain": [
       "annotation\n",
       "FAKE    0.467837\n",
       "REAL    0.473068\n",
       "Name: max, dtype: float64"
      ]
     },
     "execution_count": 13,
     "metadata": {},
     "output_type": "execute_result"
    }
   ],
   "source": [
    "df.groupby('annotation')['max'].std()"
   ]
  },
  {
   "cell_type": "code",
   "execution_count": 14,
   "metadata": {
    "ExecuteTime": {
     "end_time": "2020-02-16T23:53:08.481514Z",
     "start_time": "2020-02-16T23:53:08.472515Z"
    }
   },
   "outputs": [],
   "source": [
    "max_prob = df[df['annotation'] == 'REAL']['max'].max()"
   ]
  },
  {
   "cell_type": "markdown",
   "metadata": {},
   "source": [
    "# Measure current results"
   ]
  },
  {
   "cell_type": "code",
   "execution_count": 315,
   "metadata": {
    "ExecuteTime": {
     "end_time": "2020-02-19T06:50:38.865262Z",
     "start_time": "2020-02-19T06:50:38.859262Z"
    }
   },
   "outputs": [],
   "source": [
    "df_temp = df[['annotation', 'mean', 'max', 'std']]"
   ]
  },
  {
   "cell_type": "code",
   "execution_count": 316,
   "metadata": {
    "ExecuteTime": {
     "end_time": "2020-02-19T06:50:39.149260Z",
     "start_time": "2020-02-19T06:50:39.140287Z"
    }
   },
   "outputs": [
    {
     "name": "stderr",
     "output_type": "stream",
     "text": [
      "C:\\Users\\Anti\\Anaconda3\\envs\\torch\\lib\\site-packages\\ipykernel_launcher.py:1: SettingWithCopyWarning: \n",
      "A value is trying to be set on a copy of a slice from a DataFrame.\n",
      "Try using .loc[row_indexer,col_indexer] = value instead\n",
      "\n",
      "See the caveats in the documentation: https://pandas.pydata.org/pandas-docs/stable/user_guide/indexing.html#returning-a-view-versus-a-copy\n",
      "  \"\"\"Entry point for launching an IPython kernel.\n"
     ]
    }
   ],
   "source": [
    "df_temp['annotation'] = df_temp['annotation'].replace('FAKE', 1).replace('REAL', 0)"
   ]
  },
  {
   "cell_type": "code",
   "execution_count": 317,
   "metadata": {
    "ExecuteTime": {
     "end_time": "2020-02-19T06:50:39.658506Z",
     "start_time": "2020-02-19T06:50:39.654506Z"
    }
   },
   "outputs": [],
   "source": [
    "df_temp = df_temp.fillna(0.5)"
   ]
  },
  {
   "cell_type": "code",
   "execution_count": 318,
   "metadata": {
    "ExecuteTime": {
     "end_time": "2020-02-19T06:50:40.040574Z",
     "start_time": "2020-02-19T06:50:40.027599Z"
    }
   },
   "outputs": [
    {
     "data": {
      "text/html": [
       "<div>\n",
       "<style scoped>\n",
       "    .dataframe tbody tr th:only-of-type {\n",
       "        vertical-align: middle;\n",
       "    }\n",
       "\n",
       "    .dataframe tbody tr th {\n",
       "        vertical-align: top;\n",
       "    }\n",
       "\n",
       "    .dataframe thead th {\n",
       "        text-align: right;\n",
       "    }\n",
       "</style>\n",
       "<table border=\"1\" class=\"dataframe\">\n",
       "  <thead>\n",
       "    <tr style=\"text-align: right;\">\n",
       "      <th></th>\n",
       "      <th>annotation</th>\n",
       "      <th>mean</th>\n",
       "      <th>max</th>\n",
       "      <th>std</th>\n",
       "    </tr>\n",
       "  </thead>\n",
       "  <tbody>\n",
       "    <tr>\n",
       "      <th>0</th>\n",
       "      <td>1</td>\n",
       "      <td>2.404143e-01</td>\n",
       "      <td>9.917978e-01</td>\n",
       "      <td>3.823012e-01</td>\n",
       "    </tr>\n",
       "    <tr>\n",
       "      <th>1</th>\n",
       "      <td>0</td>\n",
       "      <td>3.182578e-06</td>\n",
       "      <td>1.857281e-05</td>\n",
       "      <td>6.102458e-06</td>\n",
       "    </tr>\n",
       "    <tr>\n",
       "      <th>2</th>\n",
       "      <td>1</td>\n",
       "      <td>6.723314e-08</td>\n",
       "      <td>2.371918e-07</td>\n",
       "      <td>6.814379e-08</td>\n",
       "    </tr>\n",
       "    <tr>\n",
       "      <th>3</th>\n",
       "      <td>0</td>\n",
       "      <td>2.309301e-08</td>\n",
       "      <td>1.528423e-07</td>\n",
       "      <td>4.590713e-08</td>\n",
       "    </tr>\n",
       "    <tr>\n",
       "      <th>4</th>\n",
       "      <td>1</td>\n",
       "      <td>5.000000e-01</td>\n",
       "      <td>5.000000e-01</td>\n",
       "      <td>5.000000e-01</td>\n",
       "    </tr>\n",
       "    <tr>\n",
       "      <th>...</th>\n",
       "      <td>...</td>\n",
       "      <td>...</td>\n",
       "      <td>...</td>\n",
       "      <td>...</td>\n",
       "    </tr>\n",
       "    <tr>\n",
       "      <th>13364</th>\n",
       "      <td>1</td>\n",
       "      <td>2.669697e-02</td>\n",
       "      <td>2.518755e-01</td>\n",
       "      <td>7.917368e-02</td>\n",
       "    </tr>\n",
       "    <tr>\n",
       "      <th>13365</th>\n",
       "      <td>0</td>\n",
       "      <td>5.736264e-02</td>\n",
       "      <td>5.630706e-01</td>\n",
       "      <td>1.776889e-01</td>\n",
       "    </tr>\n",
       "    <tr>\n",
       "      <th>13366</th>\n",
       "      <td>1</td>\n",
       "      <td>3.877353e-01</td>\n",
       "      <td>9.874793e-01</td>\n",
       "      <td>4.753927e-01</td>\n",
       "    </tr>\n",
       "    <tr>\n",
       "      <th>13367</th>\n",
       "      <td>0</td>\n",
       "      <td>8.450449e-02</td>\n",
       "      <td>7.980809e-01</td>\n",
       "      <td>2.511213e-01</td>\n",
       "    </tr>\n",
       "    <tr>\n",
       "      <th>13368</th>\n",
       "      <td>1</td>\n",
       "      <td>1.258145e-04</td>\n",
       "      <td>3.849181e-04</td>\n",
       "      <td>1.744657e-04</td>\n",
       "    </tr>\n",
       "  </tbody>\n",
       "</table>\n",
       "<p>13369 rows × 4 columns</p>\n",
       "</div>"
      ],
      "text/plain": [
       "       annotation          mean           max           std\n",
       "0               1  2.404143e-01  9.917978e-01  3.823012e-01\n",
       "1               0  3.182578e-06  1.857281e-05  6.102458e-06\n",
       "2               1  6.723314e-08  2.371918e-07  6.814379e-08\n",
       "3               0  2.309301e-08  1.528423e-07  4.590713e-08\n",
       "4               1  5.000000e-01  5.000000e-01  5.000000e-01\n",
       "...           ...           ...           ...           ...\n",
       "13364           1  2.669697e-02  2.518755e-01  7.917368e-02\n",
       "13365           0  5.736264e-02  5.630706e-01  1.776889e-01\n",
       "13366           1  3.877353e-01  9.874793e-01  4.753927e-01\n",
       "13367           0  8.450449e-02  7.980809e-01  2.511213e-01\n",
       "13368           1  1.258145e-04  3.849181e-04  1.744657e-04\n",
       "\n",
       "[13369 rows x 4 columns]"
      ]
     },
     "execution_count": 318,
     "metadata": {},
     "output_type": "execute_result"
    }
   ],
   "source": [
    "df_temp"
   ]
  },
  {
   "cell_type": "code",
   "execution_count": 319,
   "metadata": {
    "ExecuteTime": {
     "end_time": "2020-02-19T06:50:41.540983Z",
     "start_time": "2020-02-19T06:50:41.151980Z"
    }
   },
   "outputs": [
    {
     "data": {
      "text/plain": [
       "array([[<matplotlib.axes._subplots.AxesSubplot object at 0x0000017702083E80>,\n",
       "        <matplotlib.axes._subplots.AxesSubplot object at 0x00000177020A6320>],\n",
       "       [<matplotlib.axes._subplots.AxesSubplot object at 0x00000177020CC470>,\n",
       "        <matplotlib.axes._subplots.AxesSubplot object at 0x00000177020F25C0>]],\n",
       "      dtype=object)"
      ]
     },
     "execution_count": 319,
     "metadata": {},
     "output_type": "execute_result"
    },
    {
     "data": {
      "image/png": "[encoded data removed]",
      "text/plain": [
       "<Figure size 432x288 with 4 Axes>"
      ]
     },
     "metadata": {
      "needs_background": "light"
     },
     "output_type": "display_data"
    }
   ],
   "source": [
    "df_temp.hist()"
   ]
  },
  {
   "cell_type": "code",
   "execution_count": 320,
   "metadata": {
    "ExecuteTime": {
     "end_time": "2020-02-19T06:50:43.101544Z",
     "start_time": "2020-02-19T06:50:42.948543Z"
    }
   },
   "outputs": [
    {
     "data": {
      "text/plain": [
       "<matplotlib.axes._subplots.AxesSubplot at 0x177021d0748>"
      ]
     },
     "execution_count": 320,
     "metadata": {},
     "output_type": "execute_result"
    },
    {
     "data": {
      "image/png": "[encoded data removed]",
      "text/plain": [
       "<Figure size 432x288 with 1 Axes>"
      ]
     },
     "metadata": {
      "needs_background": "light"
     },
     "output_type": "display_data"
    }
   ],
   "source": [
    "df_temp[df_temp['std'] < 0.2]['mean'].hist()"
   ]
  },
  {
   "cell_type": "code",
   "execution_count": 321,
   "metadata": {
    "ExecuteTime": {
     "end_time": "2020-02-19T06:50:44.523617Z",
     "start_time": "2020-02-19T06:50:44.516621Z"
    }
   },
   "outputs": [],
   "source": [
    "df_temp_2 = df_temp[df_temp['std'] < 0.2]"
   ]
  },
  {
   "cell_type": "code",
   "execution_count": 312,
   "metadata": {
    "ExecuteTime": {
     "end_time": "2020-02-19T06:50:27.402439Z",
     "start_time": "2020-02-19T06:50:27.398440Z"
    }
   },
   "outputs": [],
   "source": [
    "y = df_temp_2['annotation']\n",
    "yu = df_temp_2['mean']"
   ]
  },
  {
   "cell_type": "code",
   "execution_count": null,
   "metadata": {},
   "outputs": [],
   "source": [
    "def calculate_loss(true, pred):\n",
    "    y = true\n",
    "    yu = pred"
   ]
  },
  {
   "cell_type": "code",
   "execution_count": 322,
   "metadata": {
    "ExecuteTime": {
     "end_time": "2020-02-19T06:50:48.446802Z",
     "start_time": "2020-02-19T06:50:48.442802Z"
    }
   },
   "outputs": [],
   "source": [
    "y = df_temp['annotation']\n",
    "yu = df_temp['mean']"
   ]
  },
  {
   "cell_type": "code",
   "execution_count": 327,
   "metadata": {
    "ExecuteTime": {
     "end_time": "2020-02-19T07:03:24.251460Z",
     "start_time": "2020-02-19T07:03:24.246460Z"
    }
   },
   "outputs": [],
   "source": [
    "import sklearn"
   ]
  },
  {
   "cell_type": "code",
   "execution_count": 328,
   "metadata": {
    "ExecuteTime": {
     "end_time": "2020-02-19T07:03:45.718115Z",
     "start_time": "2020-02-19T07:03:45.701087Z"
    }
   },
   "outputs": [
    {
     "data": {
      "text/plain": [
       "2.688387298052754"
      ]
     },
     "execution_count": 328,
     "metadata": {},
     "output_type": "execute_result"
    }
   ],
   "source": [
    "sklearn.metrics.log_loss(df_temp['annotation'], df_temp['mean'])"
   ]
  },
  {
   "cell_type": "code",
   "execution_count": 326,
   "metadata": {
    "ExecuteTime": {
     "end_time": "2020-02-19T06:51:27.555548Z",
     "start_time": "2020-02-19T06:51:27.405513Z"
    }
   },
   "outputs": [
    {
     "name": "stderr",
     "output_type": "stream",
     "text": [
      "C:\\Users\\Anti\\Anaconda3\\envs\\torch\\lib\\site-packages\\ipykernel_launcher.py:3: SettingWithCopyWarning: \n",
      "A value is trying to be set on a copy of a slice from a DataFrame.\n",
      "Try using .loc[row_indexer,col_indexer] = value instead\n",
      "\n",
      "See the caveats in the documentation: https://pandas.pydata.org/pandas-docs/stable/user_guide/indexing.html#returning-a-view-versus-a-copy\n",
      "  This is separate from the ipykernel package so we can avoid doing imports until\n"
     ]
    },
    {
     "data": {
      "text/plain": [
       "<matplotlib.axes._subplots.AxesSubplot at 0x177022f8c88>"
      ]
     },
     "execution_count": 326,
     "metadata": {},
     "output_type": "execute_result"
    },
    {
     "data": {
      "image/png": "[encoded data removed]",
      "text/plain": [
       "<Figure size 432x288 with 1 Axes>"
      ]
     },
     "metadata": {
      "needs_background": "light"
     },
     "output_type": "display_data"
    }
   ],
   "source": [
    "y = df_temp_2['annotation']\n",
    "yu = df_temp_2['mean']\n",
    "df_temp_2['loss'] = (y*np.log(yu) + (1-y)*np.log(1-yu))\n",
    "df_temp_2['loss'].hist()"
   ]
  },
  {
   "cell_type": "code",
   "execution_count": 325,
   "metadata": {
    "ExecuteTime": {
     "end_time": "2020-02-19T06:51:00.453951Z",
     "start_time": "2020-02-19T06:51:00.309929Z"
    }
   },
   "outputs": [
    {
     "data": {
      "text/plain": [
       "<matplotlib.axes._subplots.AxesSubplot at 0x17702282b38>"
      ]
     },
     "execution_count": 325,
     "metadata": {},
     "output_type": "execute_result"
    },
    {
     "data": {
      "image/png": "[encoded data removed]",
      "text/plain": [
       "<Figure size 432x288 with 1 Axes>"
      ]
     },
     "metadata": {
      "needs_background": "light"
     },
     "output_type": "display_data"
    }
   ],
   "source": [
    "df_temp['loss'] = (y*np.log(yu) + (1-y)*np.log(1-yu))\n",
    "df_temp['loss'].hist()"
   ]
  },
  {
   "cell_type": "code",
   "execution_count": null,
   "metadata": {},
   "outputs": [],
   "source": []
  },
  {
   "cell_type": "code",
   "execution_count": 276,
   "metadata": {
    "ExecuteTime": {
     "end_time": "2020-02-19T06:33:06.914686Z",
     "start_time": "2020-02-19T06:33:06.906691Z"
    }
   },
   "outputs": [
    {
     "data": {
      "text/plain": [
       "-2.688387298052754"
      ]
     },
     "execution_count": 276,
     "metadata": {},
     "output_type": "execute_result"
    }
   ],
   "source": [
    "df_temp['loss'].mean()"
   ]
  },
  {
   "cell_type": "code",
   "execution_count": 263,
   "metadata": {
    "ExecuteTime": {
     "end_time": "2020-02-18T10:09:09.657021Z",
     "start_time": "2020-02-18T10:09:09.648020Z"
    }
   },
   "outputs": [
    {
     "data": {
      "text/plain": [
       "2.6883872980527537"
      ]
     },
     "execution_count": 263,
     "metadata": {},
     "output_type": "execute_result"
    }
   ],
   "source": [
    "np.sum((y*np.log(yu) + (1-y)*np.log(1-yu)))*(-(1/len(df_temp)))"
   ]
  },
  {
   "cell_type": "code",
   "execution_count": 248,
   "metadata": {
    "ExecuteTime": {
     "end_time": "2020-02-18T10:05:15.036018Z",
     "start_time": "2020-02-18T10:05:15.027019Z"
    }
   },
   "outputs": [
    {
     "data": {
      "text/plain": [
       "0       -2.749822e-01\n",
       "1       -3.182583e-06\n",
       "2       -6.723314e-08\n",
       "3       -2.309301e-08\n",
       "4       -6.931472e-01\n",
       "             ...     \n",
       "13364   -2.705981e-02\n",
       "13365   -5.907363e-02\n",
       "13366   -4.905906e-01\n",
       "13367   -8.828982e-02\n",
       "13368   -1.258224e-04\n",
       "Name: mean, Length: 13369, dtype: float64"
      ]
     },
     "execution_count": 248,
     "metadata": {},
     "output_type": "execute_result"
    }
   ],
   "source": [
    "np.log(1-yu)"
   ]
  },
  {
   "cell_type": "code",
   "execution_count": null,
   "metadata": {},
   "outputs": [],
   "source": []
  },
  {
   "cell_type": "code",
   "execution_count": null,
   "metadata": {},
   "outputs": [],
   "source": []
  },
  {
   "cell_type": "code",
   "execution_count": 45,
   "metadata": {
    "ExecuteTime": {
     "end_time": "2020-02-17T00:22:48.401434Z",
     "start_time": "2020-02-17T00:22:48.385428Z"
    },
    "scrolled": true
   },
   "outputs": [
    {
     "data": {
      "text/plain": [
       "7454"
      ]
     },
     "execution_count": 45,
     "metadata": {},
     "output_type": "execute_result"
    }
   ],
   "source": [
    "df[df['path'].str.contains('dfdc_train_part_47')].index[0]"
   ]
  },
  {
   "cell_type": "markdown",
   "metadata": {},
   "source": [
    "# LightGBM"
   ]
  },
  {
   "cell_type": "code",
   "execution_count": 88,
   "metadata": {
    "ExecuteTime": {
     "end_time": "2020-02-17T00:53:43.554408Z",
     "start_time": "2020-02-17T00:53:41.688738Z"
    }
   },
   "outputs": [],
   "source": [
    "import lightgbm as lgb"
   ]
  },
  {
   "cell_type": "code",
   "execution_count": 98,
   "metadata": {
    "ExecuteTime": {
     "end_time": "2020-02-17T00:58:03.690776Z",
     "start_time": "2020-02-17T00:58:03.684776Z"
    }
   },
   "outputs": [
    {
     "data": {
      "text/plain": [
       "['idx_0',\n",
       " 'idx_1',\n",
       " 'idx_2',\n",
       " 'idx_3',\n",
       " 'idx_4',\n",
       " 'idx_5',\n",
       " 'idx_6',\n",
       " 'idx_7',\n",
       " 'idx_8',\n",
       " 'idx_9',\n",
       " 'mean']"
      ]
     },
     "execution_count": 98,
     "metadata": {},
     "output_type": "execute_result"
    }
   ],
   "source": [
    "col_probs + ['mean','max', 'std']"
   ]
  },
  {
   "cell_type": "code",
   "execution_count": 303,
   "metadata": {
    "ExecuteTime": {
     "end_time": "2020-02-19T06:47:55.043654Z",
     "start_time": "2020-02-19T06:47:55.031630Z"
    }
   },
   "outputs": [],
   "source": [
    "# data_x = df[col_probs + ['mean','max', 'std']].fillna(-1).values\n",
    "data_x = df[['mean','max', 'std']].fillna(-1).values\n",
    "data_y = df['annotation'].replace('FAKE', 1).replace('REAL', 0).values"
   ]
  },
  {
   "cell_type": "code",
   "execution_count": 304,
   "metadata": {
    "ExecuteTime": {
     "end_time": "2020-02-19T06:47:55.242610Z",
     "start_time": "2020-02-19T06:47:55.227610Z"
    }
   },
   "outputs": [],
   "source": [
    "# Train val split\n",
    "split_idx = df[df['path'].str.contains('dfdc_train_part_47')].index[0]\n",
    "train_x = data_x[:split_idx]\n",
    "train_y = data_y[:split_idx]\n",
    "val_x = data_x[split_idx:]\n",
    "val_y = data_y[split_idx:]"
   ]
  },
  {
   "cell_type": "code",
   "execution_count": 305,
   "metadata": {
    "ExecuteTime": {
     "end_time": "2020-02-19T06:47:55.817262Z",
     "start_time": "2020-02-19T06:47:55.812265Z"
    }
   },
   "outputs": [],
   "source": [
    "# Increase training data size\n",
    "copy_train_x = np.copy(train_x)\n",
    "copy_train_y = np.copy(train_y)\n",
    "# for i in range(10):\n",
    "#     print(i)\n",
    "#     seed = random.randint(0, 10000)\n",
    "#     for i in range(len(copy_train_x)):\n",
    "#         random.shuffle(copy_train_x[i])\n",
    "# #     random.seed(seed)\n",
    "# #     random.shuffle(copy_train_x)\n",
    "# #     random.seed(seed)\n",
    "# #     random.shuffle(copy_train_y)\n",
    "    \n",
    "# #     temp_x = np.concatenate((train_x, copy_train_x))\n",
    "# #     temp_y = np.concatenate((train_y, copy_train_y))\n",
    "#     train_x = np.concatenate((train_x, copy_train_x))\n",
    "#     train_y = np.concatenate((train_y, copy_train_y))"
   ]
  },
  {
   "cell_type": "code",
   "execution_count": 306,
   "metadata": {
    "ExecuteTime": {
     "end_time": "2020-02-19T06:47:56.774415Z",
     "start_time": "2020-02-19T06:47:56.769388Z"
    }
   },
   "outputs": [
    {
     "data": {
      "text/plain": [
       "array([1.23952374e-07, 7.61817720e-07, 2.34536270e-07])"
      ]
     },
     "execution_count": 306,
     "metadata": {},
     "output_type": "execute_result"
    }
   ],
   "source": [
    "copy_train_x[i]"
   ]
  },
  {
   "cell_type": "code",
   "execution_count": 308,
   "metadata": {
    "ExecuteTime": {
     "end_time": "2020-02-19T06:48:01.785221Z",
     "start_time": "2020-02-19T06:48:01.772213Z"
    }
   },
   "outputs": [
    {
     "data": {
      "text/html": [
       "<div>\n",
       "<style scoped>\n",
       "    .dataframe tbody tr th:only-of-type {\n",
       "        vertical-align: middle;\n",
       "    }\n",
       "\n",
       "    .dataframe tbody tr th {\n",
       "        vertical-align: top;\n",
       "    }\n",
       "\n",
       "    .dataframe thead th {\n",
       "        text-align: right;\n",
       "    }\n",
       "</style>\n",
       "<table border=\"1\" class=\"dataframe\">\n",
       "  <thead>\n",
       "    <tr style=\"text-align: right;\">\n",
       "      <th></th>\n",
       "      <th>0</th>\n",
       "      <th>1</th>\n",
       "      <th>2</th>\n",
       "    </tr>\n",
       "  </thead>\n",
       "  <tbody>\n",
       "    <tr>\n",
       "      <th>0</th>\n",
       "      <td>2.404143e-01</td>\n",
       "      <td>9.917978e-01</td>\n",
       "      <td>3.823012e-01</td>\n",
       "    </tr>\n",
       "    <tr>\n",
       "      <th>1</th>\n",
       "      <td>3.182578e-06</td>\n",
       "      <td>1.857281e-05</td>\n",
       "      <td>6.102458e-06</td>\n",
       "    </tr>\n",
       "    <tr>\n",
       "      <th>2</th>\n",
       "      <td>6.723314e-08</td>\n",
       "      <td>2.371918e-07</td>\n",
       "      <td>6.814379e-08</td>\n",
       "    </tr>\n",
       "    <tr>\n",
       "      <th>3</th>\n",
       "      <td>2.309301e-08</td>\n",
       "      <td>1.528423e-07</td>\n",
       "      <td>4.590713e-08</td>\n",
       "    </tr>\n",
       "    <tr>\n",
       "      <th>4</th>\n",
       "      <td>-1.000000e+00</td>\n",
       "      <td>-1.000000e+00</td>\n",
       "      <td>-1.000000e+00</td>\n",
       "    </tr>\n",
       "    <tr>\n",
       "      <th>...</th>\n",
       "      <td>...</td>\n",
       "      <td>...</td>\n",
       "      <td>...</td>\n",
       "    </tr>\n",
       "    <tr>\n",
       "      <th>7449</th>\n",
       "      <td>6.190193e-08</td>\n",
       "      <td>4.135120e-07</td>\n",
       "      <td>1.273721e-07</td>\n",
       "    </tr>\n",
       "    <tr>\n",
       "      <th>7450</th>\n",
       "      <td>2.178967e-08</td>\n",
       "      <td>1.488973e-07</td>\n",
       "      <td>4.607911e-08</td>\n",
       "    </tr>\n",
       "    <tr>\n",
       "      <th>7451</th>\n",
       "      <td>5.732998e-08</td>\n",
       "      <td>1.782345e-07</td>\n",
       "      <td>6.442794e-08</td>\n",
       "    </tr>\n",
       "    <tr>\n",
       "      <th>7452</th>\n",
       "      <td>7.769878e-08</td>\n",
       "      <td>4.656225e-07</td>\n",
       "      <td>1.473684e-07</td>\n",
       "    </tr>\n",
       "    <tr>\n",
       "      <th>7453</th>\n",
       "      <td>1.239524e-07</td>\n",
       "      <td>7.618177e-07</td>\n",
       "      <td>2.345363e-07</td>\n",
       "    </tr>\n",
       "  </tbody>\n",
       "</table>\n",
       "<p>7454 rows × 3 columns</p>\n",
       "</div>"
      ],
      "text/plain": [
       "                 0             1             2\n",
       "0     2.404143e-01  9.917978e-01  3.823012e-01\n",
       "1     3.182578e-06  1.857281e-05  6.102458e-06\n",
       "2     6.723314e-08  2.371918e-07  6.814379e-08\n",
       "3     2.309301e-08  1.528423e-07  4.590713e-08\n",
       "4    -1.000000e+00 -1.000000e+00 -1.000000e+00\n",
       "...            ...           ...           ...\n",
       "7449  6.190193e-08  4.135120e-07  1.273721e-07\n",
       "7450  2.178967e-08  1.488973e-07  4.607911e-08\n",
       "7451  5.732998e-08  1.782345e-07  6.442794e-08\n",
       "7452  7.769878e-08  4.656225e-07  1.473684e-07\n",
       "7453  1.239524e-07  7.618177e-07  2.345363e-07\n",
       "\n",
       "[7454 rows x 3 columns]"
      ]
     },
     "execution_count": 308,
     "metadata": {},
     "output_type": "execute_result"
    }
   ],
   "source": [
    "pd.DataFrame(train_x)"
   ]
  },
  {
   "cell_type": "code",
   "execution_count": 309,
   "metadata": {
    "ExecuteTime": {
     "end_time": "2020-02-19T06:48:24.850903Z",
     "start_time": "2020-02-19T06:48:24.844932Z"
    }
   },
   "outputs": [
    {
     "data": {
      "text/plain": [
       "array([1, 0, 1, ..., 0, 1, 0], dtype=int64)"
      ]
     },
     "execution_count": 309,
     "metadata": {},
     "output_type": "execute_result"
    }
   ],
   "source": [
    "train_y"
   ]
  },
  {
   "cell_type": "code",
   "execution_count": 294,
   "metadata": {
    "ExecuteTime": {
     "end_time": "2020-02-19T06:46:12.776624Z",
     "start_time": "2020-02-19T06:46:12.764604Z"
    }
   },
   "outputs": [],
   "source": [
    "train_data = lgb.Dataset(train_x, label=train_y)\n",
    "val_data = lgb.Dataset(val_x, label=val_y)"
   ]
  },
  {
   "cell_type": "code",
   "execution_count": 300,
   "metadata": {
    "ExecuteTime": {
     "end_time": "2020-02-19T06:46:43.281591Z",
     "start_time": "2020-02-19T06:46:43.227600Z"
    },
    "scrolled": true
   },
   "outputs": [
    {
     "name": "stdout",
     "output_type": "stream",
     "text": [
      "[1]\ttraining's binary_logloss: 0.689463\tvalid_1's binary_logloss: 0.691107\n",
      "[2]\ttraining's binary_logloss: 0.686152\tvalid_1's binary_logloss: 0.689373\n",
      "[3]\ttraining's binary_logloss: 0.683592\tvalid_1's binary_logloss: 0.688122\n",
      "[4]\ttraining's binary_logloss: 0.681175\tvalid_1's binary_logloss: 0.687517\n",
      "[5]\ttraining's binary_logloss: 0.679383\tvalid_1's binary_logloss: 0.686729\n",
      "[6]\ttraining's binary_logloss: 0.677522\tvalid_1's binary_logloss: 0.686266\n",
      "[7]\ttraining's binary_logloss: 0.676196\tvalid_1's binary_logloss: 0.685875\n",
      "[8]\ttraining's binary_logloss: 0.674812\tvalid_1's binary_logloss: 0.685788\n",
      "[9]\ttraining's binary_logloss: 0.673769\tvalid_1's binary_logloss: 0.685263\n",
      "[10]\ttraining's binary_logloss: 0.672718\tvalid_1's binary_logloss: 0.685054\n",
      "[11]\ttraining's binary_logloss: 0.671762\tvalid_1's binary_logloss: 0.68594\n",
      "[12]\ttraining's binary_logloss: 0.670875\tvalid_1's binary_logloss: 0.685777\n",
      "[13]\ttraining's binary_logloss: 0.670065\tvalid_1's binary_logloss: 0.686763\n",
      "[14]\ttraining's binary_logloss: 0.669235\tvalid_1's binary_logloss: 0.686857\n",
      "[15]\ttraining's binary_logloss: 0.668639\tvalid_1's binary_logloss: 0.686516\n",
      "[16]\ttraining's binary_logloss: 0.66794\tvalid_1's binary_logloss: 0.686515\n",
      "[17]\ttraining's binary_logloss: 0.667315\tvalid_1's binary_logloss: 0.686816\n",
      "[18]\ttraining's binary_logloss: 0.666396\tvalid_1's binary_logloss: 0.686923\n",
      "[19]\ttraining's binary_logloss: 0.665934\tvalid_1's binary_logloss: 0.68708\n",
      "[20]\ttraining's binary_logloss: 0.665441\tvalid_1's binary_logloss: 0.686965\n",
      "[21]\ttraining's binary_logloss: 0.665038\tvalid_1's binary_logloss: 0.687097\n",
      "[22]\ttraining's binary_logloss: 0.664559\tvalid_1's binary_logloss: 0.68673\n",
      "[23]\ttraining's binary_logloss: 0.66393\tvalid_1's binary_logloss: 0.687198\n",
      "[24]\ttraining's binary_logloss: 0.663146\tvalid_1's binary_logloss: 0.687113\n",
      "[25]\ttraining's binary_logloss: 0.662824\tvalid_1's binary_logloss: 0.687271\n",
      "[26]\ttraining's binary_logloss: 0.662407\tvalid_1's binary_logloss: 0.687052\n",
      "[27]\ttraining's binary_logloss: 0.661973\tvalid_1's binary_logloss: 0.687698\n",
      "[28]\ttraining's binary_logloss: 0.661475\tvalid_1's binary_logloss: 0.687801\n",
      "[29]\ttraining's binary_logloss: 0.661211\tvalid_1's binary_logloss: 0.68781\n",
      "[30]\ttraining's binary_logloss: 0.660981\tvalid_1's binary_logloss: 0.687845\n",
      "[31]\ttraining's binary_logloss: 0.660518\tvalid_1's binary_logloss: 0.688281\n",
      "[32]\ttraining's binary_logloss: 0.660255\tvalid_1's binary_logloss: 0.688275\n",
      "[33]\ttraining's binary_logloss: 0.659528\tvalid_1's binary_logloss: 0.688298\n",
      "[34]\ttraining's binary_logloss: 0.659302\tvalid_1's binary_logloss: 0.688281\n",
      "[35]\ttraining's binary_logloss: 0.658723\tvalid_1's binary_logloss: 0.688432\n",
      "[36]\ttraining's binary_logloss: 0.65837\tvalid_1's binary_logloss: 0.689611\n",
      "[37]\ttraining's binary_logloss: 0.65805\tvalid_1's binary_logloss: 0.689524\n",
      "[38]\ttraining's binary_logloss: 0.657852\tvalid_1's binary_logloss: 0.689535\n",
      "[39]\ttraining's binary_logloss: 0.657689\tvalid_1's binary_logloss: 0.689654\n",
      "[40]\ttraining's binary_logloss: 0.657177\tvalid_1's binary_logloss: 0.690069\n",
      "[41]\ttraining's binary_logloss: 0.656934\tvalid_1's binary_logloss: 0.690153\n",
      "[42]\ttraining's binary_logloss: 0.656531\tvalid_1's binary_logloss: 0.690099\n",
      "[43]\ttraining's binary_logloss: 0.655976\tvalid_1's binary_logloss: 0.690079\n",
      "[44]\ttraining's binary_logloss: 0.655609\tvalid_1's binary_logloss: 0.690527\n",
      "[45]\ttraining's binary_logloss: 0.655373\tvalid_1's binary_logloss: 0.690697\n",
      "[46]\ttraining's binary_logloss: 0.655005\tvalid_1's binary_logloss: 0.690664\n",
      "[47]\ttraining's binary_logloss: 0.6544\tvalid_1's binary_logloss: 0.690856\n",
      "[48]\ttraining's binary_logloss: 0.65394\tvalid_1's binary_logloss: 0.691056\n",
      "[49]\ttraining's binary_logloss: 0.653821\tvalid_1's binary_logloss: 0.691305\n",
      "[50]\ttraining's binary_logloss: 0.653275\tvalid_1's binary_logloss: 0.691186\n"
     ]
    }
   ],
   "source": [
    "num_round = 50\n",
    "param = {'num_leaves': 4, \n",
    "         'objective': 'binary', \n",
    "#          'tree_learner': 'serial', \n",
    "#          'tree_learner_type':'serial', \n",
    "#          'max_depth': 5,\n",
    "         'feature_fraction': 1,\n",
    "#          'extra_trees': 50,\n",
    "#          'min_data_in_leaf': 70,\n",
    "#          'min_sum_hessian_in_leaf': 1e-8\n",
    "        }\n",
    "param['metric'] = 'binary'\n",
    "bst = lgb.train(param, train_data, num_round, valid_sets=[train_data, val_data])"
   ]
  },
  {
   "cell_type": "code",
   "execution_count": 197,
   "metadata": {
    "ExecuteTime": {
     "end_time": "2020-02-17T01:16:54.962777Z",
     "start_time": "2020-02-17T01:16:54.914779Z"
    },
    "scrolled": true
   },
   "outputs": [
    {
     "name": "stdout",
     "output_type": "stream",
     "text": [
      "[1]\tvalid_0's binary_logloss: 0.691387\n",
      "[2]\tvalid_0's binary_logloss: 0.689708\n",
      "[3]\tvalid_0's binary_logloss: 0.68896\n",
      "[4]\tvalid_0's binary_logloss: 0.68799\n",
      "[5]\tvalid_0's binary_logloss: 0.687395\n",
      "[6]\tvalid_0's binary_logloss: 0.686636\n",
      "[7]\tvalid_0's binary_logloss: 0.686336\n",
      "[8]\tvalid_0's binary_logloss: 0.685596\n",
      "[9]\tvalid_0's binary_logloss: 0.685261\n",
      "[10]\tvalid_0's binary_logloss: 0.684784\n",
      "[11]\tvalid_0's binary_logloss: 0.684601\n",
      "[12]\tvalid_0's binary_logloss: 0.683925\n",
      "[13]\tvalid_0's binary_logloss: 0.683816\n",
      "[14]\tvalid_0's binary_logloss: 0.683429\n",
      "[15]\tvalid_0's binary_logloss: 0.683281\n",
      "[16]\tvalid_0's binary_logloss: 0.683259\n",
      "[17]\tvalid_0's binary_logloss: 0.683121\n",
      "[18]\tvalid_0's binary_logloss: 0.682598\n",
      "[19]\tvalid_0's binary_logloss: 0.682675\n",
      "[20]\tvalid_0's binary_logloss: 0.68259\n",
      "[21]\tvalid_0's binary_logloss: 0.682178\n",
      "[22]\tvalid_0's binary_logloss: 0.682022\n",
      "[23]\tvalid_0's binary_logloss: 0.681943\n",
      "[24]\tvalid_0's binary_logloss: 0.681916\n",
      "[25]\tvalid_0's binary_logloss: 0.681557\n",
      "[26]\tvalid_0's binary_logloss: 0.681499\n",
      "[27]\tvalid_0's binary_logloss: 0.681265\n",
      "[28]\tvalid_0's binary_logloss: 0.681193\n",
      "[29]\tvalid_0's binary_logloss: 0.681063\n",
      "[30]\tvalid_0's binary_logloss: 0.68089\n",
      "[31]\tvalid_0's binary_logloss: 0.680854\n",
      "[32]\tvalid_0's binary_logloss: 0.680893\n",
      "[33]\tvalid_0's binary_logloss: 0.680862\n",
      "[34]\tvalid_0's binary_logloss: 0.680835\n",
      "[35]\tvalid_0's binary_logloss: 0.680886\n",
      "[36]\tvalid_0's binary_logloss: 0.68071\n",
      "[37]\tvalid_0's binary_logloss: 0.680752\n",
      "[38]\tvalid_0's binary_logloss: 0.680772\n",
      "[39]\tvalid_0's binary_logloss: 0.680686\n",
      "[40]\tvalid_0's binary_logloss: 0.680767\n",
      "[41]\tvalid_0's binary_logloss: 0.681368\n",
      "[42]\tvalid_0's binary_logloss: 0.68144\n",
      "[43]\tvalid_0's binary_logloss: 0.681382\n",
      "[44]\tvalid_0's binary_logloss: 0.681269\n",
      "[45]\tvalid_0's binary_logloss: 0.681268\n",
      "[46]\tvalid_0's binary_logloss: 0.681323\n",
      "[47]\tvalid_0's binary_logloss: 0.681325\n",
      "[48]\tvalid_0's binary_logloss: 0.681201\n",
      "[49]\tvalid_0's binary_logloss: 0.681287\n",
      "[50]\tvalid_0's binary_logloss: 0.681386\n"
     ]
    }
   ],
   "source": [
    "num_round = 50\n",
    "param = {'num_leaves': 3, \n",
    "         'objective': 'binary', \n",
    "#          'tree_learner': 'serial', \n",
    "#          'tree_learner_type':'serial', \n",
    "#          'max_depth': 5,\n",
    "         'feature_fraction': 1,\n",
    "#          'extra_trees': 50,\n",
    "         'min_data_in_leaf': 70,\n",
    "         'min_sum_hessian_in_leaf': 1e-8\n",
    "        }\n",
    "param['metric'] = 'binary'\n",
    "bst = lgb.train(param, train_data, num_round, valid_sets=[val_data])"
   ]
  },
  {
   "cell_type": "code",
   "execution_count": null,
   "metadata": {},
   "outputs": [],
   "source": []
  },
  {
   "cell_type": "code",
   "execution_count": 35,
   "metadata": {
    "ExecuteTime": {
     "end_time": "2020-02-17T00:12:40.339218Z",
     "start_time": "2020-02-17T00:12:40.332215Z"
    }
   },
   "outputs": [
    {
     "data": {
      "text/plain": [
       "array([1, 0, 1, ..., 1, 0, 1], dtype=int64)"
      ]
     },
     "execution_count": 35,
     "metadata": {},
     "output_type": "execute_result"
    }
   ],
   "source": [
    "data_y"
   ]
  },
  {
   "cell_type": "code",
   "execution_count": 83,
   "metadata": {
    "ExecuteTime": {
     "end_time": "2020-02-17T00:37:54.096003Z",
     "start_time": "2020-02-17T00:37:54.090000Z"
    }
   },
   "outputs": [],
   "source": [
    "def generator(x, y, batch_size=16):\n",
    "    assert len(x) == len(y)\n",
    "    while True:\n",
    "        idx = [random.randrange(0, len(y), 1) for x in range(batch_size)]\n",
    "        X = x[idx]\n",
    "        print(len(X))\n",
    "        Y = y[idx]\n",
    "        seed = random.randint(0, 10000)\n",
    "        random.seed(seed)\n",
    "        random.shuffle(X)\n",
    "        random.seed(seed)\n",
    "        random.shuffle(Y)\n",
    "        \n",
    "        print(len(X))\n",
    "        \n",
    "        yield (X,Y)"
   ]
  },
  {
   "cell_type": "code",
   "execution_count": 84,
   "metadata": {
    "ExecuteTime": {
     "end_time": "2020-02-17T00:37:54.473592Z",
     "start_time": "2020-02-17T00:37:54.468617Z"
    }
   },
   "outputs": [
    {
     "name": "stdout",
     "output_type": "stream",
     "text": [
      "16\n",
      "16\n"
     ]
    }
   ],
   "source": [
    "for x, y in generator(train_x, train_y):\n",
    "    break"
   ]
  },
  {
   "cell_type": "code",
   "execution_count": 85,
   "metadata": {
    "ExecuteTime": {
     "end_time": "2020-02-17T00:37:55.618582Z",
     "start_time": "2020-02-17T00:37:55.610584Z"
    },
    "scrolled": true
   },
   "outputs": [
    {
     "data": {
      "text/plain": [
       "array([[ 9.9989460e-01,  9.9976950e-01,  9.9986270e-01,  9.9968030e-01,\n",
       "         9.9988100e-01,  9.9941635e-01,  9.9990260e-01,  9.9973270e-01,\n",
       "         9.9987364e-01,  9.9982870e-01],\n",
       "       [ 9.9989460e-01,  9.9976950e-01,  9.9986270e-01,  9.9968030e-01,\n",
       "         9.9988100e-01,  9.9941635e-01,  9.9990260e-01,  9.9973270e-01,\n",
       "         9.9987364e-01,  9.9982870e-01],\n",
       "       [ 1.5153906e-04,  1.4891996e-04,  1.6024345e-04,  6.5257831e-05,\n",
       "         1.3059237e-04,  1.3209638e-04,  1.0105080e-04,  3.9629780e-05,\n",
       "         3.1746193e-05,  3.0909014e-05],\n",
       "       [ 4.9731204e-01,  1.8505410e-01,  1.2821124e-01,  1.0611197e-01,\n",
       "         7.8165650e-02,  1.8989880e-02,  5.7844880e-02,  1.0104400e-02,\n",
       "         4.1804800e-03, -1.0000000e+00],\n",
       "       [ 1.5153906e-04,  1.4891996e-04,  1.6024345e-04,  6.5257831e-05,\n",
       "         1.3059237e-04,  1.3209638e-04,  1.0105080e-04,  3.9629780e-05,\n",
       "         3.1746193e-05,  3.0909014e-05],\n",
       "       [ 9.9928147e-01,  9.9963560e-01,  9.9931660e-01,  9.9932003e-01,\n",
       "         9.9940550e-01,  9.9930704e-01,  9.9954430e-01,  9.9980680e-01,\n",
       "         9.9949740e-01,  9.9979144e-01],\n",
       "       [ 9.9268085e-01,  2.1934144e-04,  3.9219358e-06,  2.6583248e-01,\n",
       "         9.9287534e-01,  9.9843341e-01,  9.9830639e-01,  9.9600011e-01,\n",
       "         9.8840302e-01,  9.9950683e-01],\n",
       "       [ 3.3797787e-10,  6.2507077e-08,  5.8805454e-09,  8.8791850e-08,\n",
       "         1.4273063e-08,  2.5162251e-08,  7.8966744e-09,  3.0735126e-09,\n",
       "         2.3459152e-09,  1.4560245e-04],\n",
       "       [ 4.9731204e-01,  1.8505410e-01,  1.2821124e-01,  1.0611197e-01,\n",
       "         7.8165650e-02,  1.8989880e-02,  5.7844880e-02,  1.0104400e-02,\n",
       "         4.1804800e-03, -1.0000000e+00],\n",
       "       [ 9.9989460e-01,  9.9976950e-01,  9.9986270e-01,  9.9968030e-01,\n",
       "         9.9988100e-01,  9.9941635e-01,  9.9990260e-01,  9.9973270e-01,\n",
       "         9.9987364e-01,  9.9982870e-01],\n",
       "       [ 4.9731204e-01,  1.8505410e-01,  1.2821124e-01,  1.0611197e-01,\n",
       "         7.8165650e-02,  1.8989880e-02,  5.7844880e-02,  1.0104400e-02,\n",
       "         4.1804800e-03, -1.0000000e+00],\n",
       "       [ 9.9989460e-01,  9.9976950e-01,  9.9986270e-01,  9.9968030e-01,\n",
       "         9.9988100e-01,  9.9941635e-01,  9.9990260e-01,  9.9973270e-01,\n",
       "         9.9987364e-01,  9.9982870e-01],\n",
       "       [ 1.5153906e-04,  1.4891996e-04,  1.6024345e-04,  6.5257831e-05,\n",
       "         1.3059237e-04,  1.3209638e-04,  1.0105080e-04,  3.9629780e-05,\n",
       "         3.1746193e-05,  3.0909014e-05],\n",
       "       [ 7.4830496e-01,  9.4590294e-01,  9.9718827e-01,  9.9940896e-01,\n",
       "         8.1249416e-01,  8.6158010e-01,  6.1968360e-01,  9.5003825e-01,\n",
       "         9.9335253e-01,  9.9729510e-01],\n",
       "       [ 9.9268085e-01,  2.1934144e-04,  3.9219358e-06,  2.6583248e-01,\n",
       "         9.9287534e-01,  9.9843341e-01,  9.9830639e-01,  9.9600011e-01,\n",
       "         9.8840302e-01,  9.9950683e-01],\n",
       "       [ 1.5248097e-05,  6.6818734e-07,  5.0246501e-07,  2.5832494e-06,\n",
       "         5.6724770e-07,  2.0841394e-07,  8.2982086e-07,  5.7726623e-07,\n",
       "         5.9061763e-06,  1.9013779e-06]])"
      ]
     },
     "execution_count": 85,
     "metadata": {},
     "output_type": "execute_result"
    }
   ],
   "source": [
    "x"
   ]
  },
  {
   "cell_type": "code",
   "execution_count": 86,
   "metadata": {
    "ExecuteTime": {
     "end_time": "2020-02-17T00:37:55.851951Z",
     "start_time": "2020-02-17T00:37:55.845976Z"
    }
   },
   "outputs": [
    {
     "data": {
      "text/plain": [
       "array([0, 1, 1, 1, 1, 1, 0, 0, 1, 0, 1, 1, 0, 0, 1, 0], dtype=int64)"
      ]
     },
     "execution_count": 86,
     "metadata": {},
     "output_type": "execute_result"
    }
   ],
   "source": [
    "y"
   ]
  },
  {
   "cell_type": "code",
   "execution_count": null,
   "metadata": {},
   "outputs": [],
   "source": []
  },
  {
   "cell_type": "code",
   "execution_count": 52,
   "metadata": {
    "ExecuteTime": {
     "end_time": "2020-02-17T00:26:54.219506Z",
     "start_time": "2020-02-17T00:26:54.215502Z"
    }
   },
   "outputs": [],
   "source": [
    "import random"
   ]
  },
  {
   "cell_type": "code",
   "execution_count": 54,
   "metadata": {
    "ExecuteTime": {
     "end_time": "2020-02-17T00:27:17.640440Z",
     "start_time": "2020-02-17T00:27:17.633444Z"
    }
   },
   "outputs": [
    {
     "data": {
      "text/plain": [
       "[array([ 9.4251311e-01,  4.1341351e-05,  1.3783807e-05,  5.3508065e-05,\n",
       "         8.7021693e-04,  1.9094761e-05,  2.1192658e-08,  5.8930099e-02,\n",
       "         1.3040159e-07, -1.0000000e+00]),\n",
       " array([0.9995709 , 0.99984705, 0.9994122 , 0.9996532 , 0.9994568 ,\n",
       "        0.9994143 , 0.9993012 , 0.9995364 , 0.99950576, 0.999874  ]),\n",
       " array([ 9.9885607e-01,  9.9883026e-01,  9.8502827e-01,  9.9959630e-01,\n",
       "         9.9741274e-01,  9.9877959e-01,  6.9176441e-01,  9.9965644e-01,\n",
       "         8.5896277e-04, -1.0000000e+00]),\n",
       " array([ 3.8291063e-02,  2.5308425e-02,  8.0752274e-05,  9.9777514e-01,\n",
       "         5.7796848e-01,  7.3198326e-02,  5.2726400e-01,  3.2605308e-01,\n",
       "         2.0390122e-01, -1.0000000e+00])]"
      ]
     },
     "execution_count": 54,
     "metadata": {},
     "output_type": "execute_result"
    }
   ],
   "source": [
    "random.choices(train_x, k=4)"
   ]
  },
  {
   "cell_type": "code",
   "execution_count": 58,
   "metadata": {
    "ExecuteTime": {
     "end_time": "2020-02-17T00:29:11.259852Z",
     "start_time": "2020-02-17T00:29:11.249853Z"
    }
   },
   "outputs": [
    {
     "ename": "TypeError",
     "evalue": "'int' object is not iterable",
     "output_type": "error",
     "traceback": [
      "\u001b[1;31m---------------------------------------------------------------------------\u001b[0m",
      "\u001b[1;31mTypeError\u001b[0m                                 Traceback (most recent call last)",
      "\u001b[1;32m<ipython-input-58-112450014771>\u001b[0m in \u001b[0;36m<module>\u001b[1;34m\u001b[0m\n\u001b[1;32m----> 1\u001b[1;33m \u001b[1;32mfor\u001b[0m \u001b[0mi\u001b[0m \u001b[1;32min\u001b[0m \u001b[0mrandom\u001b[0m\u001b[1;33m.\u001b[0m\u001b[0mrandrange\u001b[0m\u001b[1;33m(\u001b[0m\u001b[1;36m0\u001b[0m\u001b[1;33m,\u001b[0m \u001b[1;36m100\u001b[0m\u001b[1;33m,\u001b[0m \u001b[1;36m1\u001b[0m\u001b[1;33m)\u001b[0m\u001b[1;33m:\u001b[0m\u001b[1;33m\u001b[0m\u001b[1;33m\u001b[0m\u001b[0m\n\u001b[0m\u001b[0;32m      2\u001b[0m     \u001b[0mprint\u001b[0m \u001b[1;33m(\u001b[0m\u001b[0mstr\u001b[0m\u001b[1;33m(\u001b[0m\u001b[0mi\u001b[0m\u001b[1;33m)\u001b[0m\u001b[1;33m)\u001b[0m\u001b[1;33m\u001b[0m\u001b[1;33m\u001b[0m\u001b[0m\n",
      "\u001b[1;31mTypeError\u001b[0m: 'int' object is not iterable"
     ]
    }
   ],
   "source": [
    "for i in random.randrange(0, 100, 1):\n",
    "    print (str(i))"
   ]
  },
  {
   "cell_type": "code",
   "execution_count": 64,
   "metadata": {
    "ExecuteTime": {
     "end_time": "2020-02-17T00:30:42.419909Z",
     "start_time": "2020-02-17T00:30:42.413938Z"
    }
   },
   "outputs": [
    {
     "data": {
      "text/plain": [
       "[23, 1, 31]"
      ]
     },
     "execution_count": 64,
     "metadata": {},
     "output_type": "execute_result"
    }
   ],
   "source": [
    "[random.randrange(0, 100, 1) for x in range(3)]"
   ]
  },
  {
   "cell_type": "code",
   "execution_count": 70,
   "metadata": {
    "ExecuteTime": {
     "end_time": "2020-02-17T00:32:31.769446Z",
     "start_time": "2020-02-17T00:32:31.763445Z"
    }
   },
   "outputs": [
    {
     "data": {
      "text/plain": [
       "0.6394267984578837"
      ]
     },
     "execution_count": 70,
     "metadata": {},
     "output_type": "execute_result"
    }
   ],
   "source": [
    "random.seed(42)\n",
    "random.random()\n",
    "random.seed(42)\n",
    "random.random()"
   ]
  },
  {
   "cell_type": "code",
   "execution_count": null,
   "metadata": {},
   "outputs": [],
   "source": []
  }
 ],
 "metadata": {
  "kernelspec": {
   "display_name": "Python 3",
   "language": "python",
   "name": "python3"
  },
  "language_info": {
   "codemirror_mode": {
    "name": "ipython",
    "version": 3
   },
   "file_extension": ".py",
   "mimetype": "text/x-python",
   "name": "python",
   "nbconvert_exporter": "python",
   "pygments_lexer": "ipython3",
   "version": "3.6.10"
  }
 },
 "nbformat": 4,
 "nbformat_minor": 4
}
