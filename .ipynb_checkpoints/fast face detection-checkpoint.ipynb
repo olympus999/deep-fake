{
 "cells": [
  {
   "cell_type": "code",
   "execution_count": 1,
   "metadata": {
    "ExecuteTime": {
     "end_time": "2020-01-07T23:57:21.545369Z",
     "start_time": "2020-01-07T23:57:18.451320Z"
    }
   },
   "outputs": [
    {
     "name": "stderr",
     "output_type": "stream",
     "text": [
      "C:\\Users\\Anti\\Anaconda3\\envs\\ml\\lib\\site-packages\\h5py\\__init__.py:36: FutureWarning: Conversion of the second argument of issubdtype from `float` to `np.floating` is deprecated. In future, it will be treated as `np.float64 == np.dtype(float).type`.\n",
      "  from ._conv import register_converters as _register_converters\n",
      "Using TensorFlow backend.\n"
     ]
    }
   ],
   "source": [
    "import os\n",
    "import numpy as np\n",
    "import pandas as pd\n",
    "import keras.backend as K\n",
    "import pickle\n",
    "import matplotlib.pyplot as plt\n",
    "import cv2\n",
    "import time\n",
    "from PIL import Image\n",
    "from keras.layers import Input, Lambda\n",
    "from keras.models import Model, load_model, Sequential\n",
    "from keras.optimizers import Adam\n",
    "from keras.callbacks import TensorBoard, ModelCheckpoint, ReduceLROnPlateau, EarlyStopping\n",
    "import tensorflow as tf\n",
    "\n",
    "from yolo3.model import preprocess_true_boxes, yolo_body, tiny_yolo_body, yolo_loss, yolo_head, yolo_correct_boxes\n",
    "from yolo3.utils import get_random_data, letterbox_image"
   ]
  },
  {
   "cell_type": "markdown",
   "metadata": {},
   "source": [
    "## Generate annotations file"
   ]
  },
  {
   "cell_type": "code",
   "execution_count": 2,
   "metadata": {
    "ExecuteTime": {
     "end_time": "2020-01-07T23:57:21.551368Z",
     "start_time": "2020-01-07T23:57:21.547393Z"
    }
   },
   "outputs": [],
   "source": [
    "def load_obj(name, path):\n",
    "    with open(path + name + '.pkl', 'rb') as f:\n",
    "        return pickle.load(f)"
   ]
  },
  {
   "cell_type": "code",
   "execution_count": 3,
   "metadata": {
    "ExecuteTime": {
     "end_time": "2020-01-07T23:57:21.556371Z",
     "start_time": "2020-01-07T23:57:21.553369Z"
    }
   },
   "outputs": [],
   "source": [
    "faces_path = '../face_detection/'"
   ]
  },
  {
   "cell_type": "code",
   "execution_count": 4,
   "metadata": {
    "ExecuteTime": {
     "end_time": "2020-01-07T23:57:21.960393Z",
     "start_time": "2020-01-07T23:57:21.558368Z"
    }
   },
   "outputs": [],
   "source": [
    "face_coordinates_per_video = load_obj('face_coordinates_per_video', faces_path)"
   ]
  },
  {
   "cell_type": "code",
   "execution_count": 5,
   "metadata": {
    "ExecuteTime": {
     "end_time": "2020-01-07T23:57:21.968368Z",
     "start_time": "2020-01-07T23:57:21.961394Z"
    },
    "scrolled": true
   },
   "outputs": [
    {
     "data": {
      "text/plain": [
       "{'0_0': {'coordinates': {'x1': 883, 'y1': 184, 'width': 88, 'height': 110},\n",
       "  'keypoints': {'left_eye': (895, 220),\n",
       "   'right_eye': (927, 215),\n",
       "   'nose': (896, 241),\n",
       "   'mouth_left': (898, 272),\n",
       "   'mouth_right': (923, 268)},\n",
       "  'confidence': 0.9997058510780334},\n",
       " '0_1': {'coordinates': {'x1': 437, 'y1': 221, 'width': 101, 'height': 142},\n",
       "  'keypoints': {'left_eye': (499, 271),\n",
       "   'right_eye': (527, 265),\n",
       "   'nose': (535, 295),\n",
       "   'mouth_left': (504, 325),\n",
       "   'mouth_right': (530, 322)},\n",
       "  'confidence': 0.9992200136184692},\n",
       " '75_0': {'coordinates': {'x1': 962, 'y1': 209, 'width': 90, 'height': 115},\n",
       "  'keypoints': {'left_eye': (984, 245),\n",
       "   'right_eye': (1020, 239),\n",
       "   'nose': (994, 265),\n",
       "   'mouth_left': (991, 296),\n",
       "   'mouth_right': (1021, 292)},\n",
       "  'confidence': 0.9998145699501038},\n",
       " '75_1': {'coordinates': {'x1': 521, 'y1': 245, 'width': 100, 'height': 144},\n",
       "  'keypoints': {'left_eye': (584, 298),\n",
       "   'right_eye': (608, 292),\n",
       "   'nose': (618, 323),\n",
       "   'mouth_left': (587, 353),\n",
       "   'mouth_right': (610, 349)},\n",
       "  'confidence': 0.9995905756950378},\n",
       " '150_0': {'coordinates': {'x1': 1009, 'y1': 143, 'width': 92, 'height': 112},\n",
       "  'keypoints': {'left_eye': (1022, 183),\n",
       "   'right_eye': (1057, 180),\n",
       "   'nose': (1024, 203),\n",
       "   'mouth_left': (1023, 228),\n",
       "   'mouth_right': (1053, 225)},\n",
       "  'confidence': 0.9999895095825195},\n",
       " '150_1': {'coordinates': {'x1': 536, 'y1': 213, 'width': 101, 'height': 124},\n",
       "  'keypoints': {'left_eye': (588, 258),\n",
       "   'right_eye': (625, 246),\n",
       "   'nose': (629, 274),\n",
       "   'mouth_left': (603, 309),\n",
       "   'mouth_right': (636, 299)},\n",
       "  'confidence': 0.9997672438621521}}"
      ]
     },
     "execution_count": 5,
     "metadata": {},
     "output_type": "execute_result"
    }
   ],
   "source": [
    "face_coordinates_per_video['wrvlvrtarm.mp4']"
   ]
  },
  {
   "cell_type": "code",
   "execution_count": 6,
   "metadata": {
    "ExecuteTime": {
     "end_time": "2020-01-07T23:57:22.511407Z",
     "start_time": "2020-01-07T23:57:21.969367Z"
    },
    "scrolled": true
   },
   "outputs": [],
   "source": [
    "annotations = {}\n",
    "for key in face_coordinates_per_video.keys():\n",
    "    file_name = key.split('.')[0]\n",
    "    faces = face_coordinates_per_video[key]\n",
    "    for frame_nr in np.unique([x.split('_')[0] for x in faces.keys()]):\n",
    "        path = os.path.join(faces_path, '{}_{}.png'.format(file_name, frame_nr))\n",
    "        keys = [x for x in faces.keys() if (frame_nr in x.split('_')[0]) and (len(frame_nr) == len(x.split('_')[0]))]\n",
    "        annotations[path] = [faces[x] for x in keys]\n",
    "#     for face_key in faces.keys():\n",
    "#         path = os.path.join(faces_path, '{}.png'.format(file_name))"
   ]
  },
  {
   "cell_type": "code",
   "execution_count": 7,
   "metadata": {
    "ExecuteTime": {
     "end_time": "2020-01-07T23:57:22.866397Z",
     "start_time": "2020-01-07T23:57:22.513397Z"
    }
   },
   "outputs": [],
   "source": [
    "training_file = []\n",
    "for key in annotations.keys():\n",
    "    # key = '../face_detection/wrvlvrtarm_0.png'\n",
    "    img_detections = annotations[key]\n",
    "    detection_line = ''\n",
    "    for detection in img_detections:\n",
    "        c = detection['coordinates']\n",
    "        additional_space = '' if len(detection_line) == 0 else ' '\n",
    "        d = '{}{},{},{},{},0'.format(additional_space, \\\n",
    "                                      c['x1'], \\\n",
    "                                      c['y1'], \\\n",
    "                                      str(int(c['x1']) + int(c['width'])),\\\n",
    "                                      str(int(c['y1']) + int(c['height'])))\n",
    "        detection_line = detection_line + d\n",
    "    training_file.append([key, detection_line])"
   ]
  },
  {
   "cell_type": "code",
   "execution_count": 8,
   "metadata": {
    "ExecuteTime": {
     "end_time": "2020-01-07T23:57:22.877371Z",
     "start_time": "2020-01-07T23:57:22.867393Z"
    }
   },
   "outputs": [],
   "source": [
    "lines = [' '.join(x) for x in training_file]"
   ]
  },
  {
   "cell_type": "code",
   "execution_count": 9,
   "metadata": {
    "ExecuteTime": {
     "end_time": "2020-01-07T23:57:22.882371Z",
     "start_time": "2020-01-07T23:57:22.879385Z"
    }
   },
   "outputs": [],
   "source": [
    "# pd.DataFrame(training_file).to_csv('test.csv', sep=' ', header=False, index=False)"
   ]
  },
  {
   "cell_type": "markdown",
   "metadata": {},
   "source": [
    "## Build model and train"
   ]
  },
  {
   "cell_type": "markdown",
   "metadata": {},
   "source": [
    "### Train"
   ]
  },
  {
   "cell_type": "code",
   "execution_count": 10,
   "metadata": {
    "ExecuteTime": {
     "end_time": "2020-01-07T23:57:22.888368Z",
     "start_time": "2020-01-07T23:57:22.883367Z"
    }
   },
   "outputs": [],
   "source": [
    "def get_classes(classes_path):\n",
    "    '''loads the classes'''\n",
    "    with open(classes_path) as f:\n",
    "        class_names = f.readlines()\n",
    "    class_names = [c.strip() for c in class_names]\n",
    "    return class_names\n",
    "\n",
    "def get_anchors(anchors_path):\n",
    "    '''loads the anchors from a file'''\n",
    "    with open(anchors_path) as f:\n",
    "        anchors = f.readline()\n",
    "    anchors = [float(x) for x in anchors.split(',')]\n",
    "    return np.array(anchors).reshape(-1, 2)"
   ]
  },
  {
   "cell_type": "code",
   "execution_count": 11,
   "metadata": {
    "ExecuteTime": {
     "end_time": "2020-01-07T23:57:22.894367Z",
     "start_time": "2020-01-07T23:57:22.889368Z"
    }
   },
   "outputs": [],
   "source": [
    "annotation_path = 'train.txt'\n",
    "log_dir = 'logs/000/'\n",
    "classes_path = 'model_data/face_classes.txt'\n",
    "anchors_path = 'model_data/face_anchors.txt'\n",
    "class_names = get_classes(classes_path)\n",
    "num_classes = len(class_names)\n",
    "anchors = get_anchors(anchors_path)\n",
    "# anchors = np.flip(anchors)\n",
    "input_shape = (416,416) # multiple of 32, hw"
   ]
  },
  {
   "cell_type": "code",
   "execution_count": 12,
   "metadata": {
    "ExecuteTime": {
     "end_time": "2020-01-07T23:57:22.904370Z",
     "start_time": "2020-01-07T23:57:22.896369Z"
    }
   },
   "outputs": [],
   "source": [
    "def create_tiny_model(input_shape, anchors, num_classes, load_pretrained=True, freeze_body=2,\n",
    "            weights_path='model_data/tiny_yolo_weights.h5'):\n",
    "    '''create the training model, for Tiny YOLOv3'''\n",
    "    K.clear_session() # get a new session\n",
    "    image_input = Input(shape=(None, None, 3))\n",
    "    h, w = input_shape\n",
    "    num_anchors = len(anchors)\n",
    "\n",
    "    y_true = [Input(shape=(h//{0:32, 1:16}[l], w//{0:32, 1:16}[l], \\\n",
    "        num_anchors//2, num_classes+5)) for l in range(2)]\n",
    "\n",
    "    model_body = tiny_yolo_body(image_input, num_anchors//2, num_classes)\n",
    "    print('Create Tiny YOLOv3 model with {} anchors and {} classes.'.format(num_anchors, num_classes))\n",
    "\n",
    "    if load_pretrained:\n",
    "        model_body.load_weights(weights_path, by_name=True, skip_mismatch=True)\n",
    "        print('Load weights {}.'.format(weights_path))\n",
    "        if freeze_body in [1, 2]:\n",
    "            # Freeze the darknet body or freeze all but 2 output layers.\n",
    "            num = (20, len(model_body.layers)-2)[freeze_body-1]\n",
    "            for i in range(num): model_body.layers[i].trainable = False\n",
    "            print('Freeze the first {} layers of total {} layers.'.format(num, len(model_body.layers)))\n",
    "\n",
    "    model_loss = Lambda(yolo_loss, output_shape=(1,), name='yolo_loss',\n",
    "        arguments={'anchors': anchors, 'num_classes': num_classes, 'ignore_thresh': 0.7})(\n",
    "        [*model_body.output, *y_true])\n",
    "    model = Model([model_body.input, *y_true], model_loss)\n",
    "\n",
    "    return model"
   ]
  },
  {
   "cell_type": "code",
   "execution_count": 13,
   "metadata": {
    "ExecuteTime": {
     "end_time": "2020-01-07T23:57:25.506671Z",
     "start_time": "2020-01-07T23:57:22.905369Z"
    },
    "scrolled": false
   },
   "outputs": [
    {
     "name": "stdout",
     "output_type": "stream",
     "text": [
      "Create Tiny YOLOv3 model with 6 anchors and 1 classes.\n"
     ]
    }
   ],
   "source": [
    "model = create_tiny_model(input_shape, anchors, num_classes, load_pretrained=False,\n",
    "            freeze_body=2)"
   ]
  },
  {
   "cell_type": "code",
   "execution_count": 14,
   "metadata": {
    "ExecuteTime": {
     "end_time": "2020-01-07T23:57:25.511640Z",
     "start_time": "2020-01-07T23:57:25.507638Z"
    }
   },
   "outputs": [],
   "source": [
    "# logging = TensorBoard(log_dir=log_dir)\n",
    "checkpoint = ModelCheckpoint(log_dir + 'ep{epoch:03d}-loss{loss:.3f}-val_loss{val_loss:.3f}.h5',\n",
    "    monitor='val_loss', save_weights_only=True, save_best_only=True, period=3)\n",
    "reduce_lr = ReduceLROnPlateau(monitor='val_loss', factor=0.1, patience=3, verbose=1)\n",
    "early_stopping = EarlyStopping(monitor='val_loss', min_delta=0, patience=10, verbose=1)"
   ]
  },
  {
   "cell_type": "code",
   "execution_count": 15,
   "metadata": {
    "ExecuteTime": {
     "end_time": "2020-01-07T23:57:25.520635Z",
     "start_time": "2020-01-07T23:57:25.512636Z"
    }
   },
   "outputs": [],
   "source": [
    "def data_generator(annotation_lines, batch_size, input_shape, anchors, num_classes):\n",
    "    '''data generator for fit_generator'''\n",
    "    n = len(annotation_lines)\n",
    "    i = 0\n",
    "    while True:\n",
    "        image_data = []\n",
    "        box_data = []\n",
    "        for b in range(batch_size):\n",
    "            if i==0:\n",
    "                np.random.shuffle(annotation_lines)\n",
    "            image, box = get_random_data(annotation_lines[i], input_shape, random=False)\n",
    "            image_data.append(image)\n",
    "            box_data.append(box)\n",
    "            i = (i+1) % n\n",
    "        image_data = np.array(image_data)\n",
    "        box_data = np.array(box_data)\n",
    "        y_true = preprocess_true_boxes(box_data, input_shape, anchors, num_classes)\n",
    "        yield [image_data, *y_true], np.zeros(batch_size)\n",
    "\n",
    "def data_generator_wrapper(annotation_lines, batch_size, input_shape, anchors, num_classes):\n",
    "    n = len(annotation_lines)\n",
    "    if n==0 or batch_size<=0: return None\n",
    "    return data_generator(annotation_lines, batch_size, input_shape, anchors, num_classes)"
   ]
  },
  {
   "cell_type": "code",
   "execution_count": 16,
   "metadata": {
    "ExecuteTime": {
     "end_time": "2020-01-07T23:57:25.533638Z",
     "start_time": "2020-01-07T23:57:25.522644Z"
    }
   },
   "outputs": [],
   "source": [
    "val_split = 0.2\n",
    "np.random.seed(10101)\n",
    "np.random.shuffle(lines)\n",
    "np.random.seed(None)\n",
    "num_val = int(len(lines)*val_split)\n",
    "num_train = len(lines) - num_val"
   ]
  },
  {
   "cell_type": "code",
   "execution_count": 17,
   "metadata": {
    "ExecuteTime": {
     "end_time": "2020-01-07T23:57:25.570634Z",
     "start_time": "2020-01-07T23:57:25.536645Z"
    }
   },
   "outputs": [
    {
     "name": "stdout",
     "output_type": "stream",
     "text": [
      "Unfreeze all of the layers.\n"
     ]
    }
   ],
   "source": [
    "for i in range(len(model.layers)):\n",
    "    model.layers[i].trainable = True\n",
    "model.compile(optimizer=Adam(lr=1e-4), loss={'yolo_loss': lambda y_true, y_pred: y_pred}) # recompile to apply the change\n",
    "print('Unfreeze all of the layers.')"
   ]
  },
  {
   "cell_type": "code",
   "execution_count": 18,
   "metadata": {
    "ExecuteTime": {
     "end_time": "2020-01-07T23:57:25.638634Z",
     "start_time": "2020-01-07T23:57:25.571635Z"
    }
   },
   "outputs": [],
   "source": [
    "model.load_weights('tiny-yolov3.h5', by_name=True)"
   ]
  },
  {
   "cell_type": "code",
   "execution_count": 19,
   "metadata": {
    "ExecuteTime": {
     "end_time": "2020-01-07T23:57:25.739634Z",
     "start_time": "2020-01-07T23:57:25.639635Z"
    }
   },
   "outputs": [],
   "source": [
    "import threading\n",
    "import multiprocessing\n",
    "import generator\n",
    "from importlib import reload\n",
    "reload(generator)\n",
    "m = multiprocessing.Manager()\n",
    "\n",
    "batch_size = 1\n",
    "# Train\n",
    "arr_train = []\n",
    "p_train = threading.Thread(target=generator.data_generator_multi_process, \\\n",
    "            args=(lines[:num_train], batch_size, input_shape, anchors, num_classes, arr_train, False,))\n",
    "p_train.start()\n",
    "\n",
    "# Validation\n",
    "arr_val = []\n",
    "p_val = threading.Thread(target=generator.data_generator_multi_process, \\\n",
    "            args=(lines[num_train:], batch_size, input_shape, anchors, num_classes, arr_val, False,))\n",
    "p_val.start()"
   ]
  },
  {
   "cell_type": "code",
   "execution_count": 20,
   "metadata": {
    "ExecuteTime": {
     "end_time": "2020-01-07T23:57:25.745636Z",
     "start_time": "2020-01-07T23:57:25.741635Z"
    }
   },
   "outputs": [],
   "source": [
    "def generator(arr):\n",
    "    while True:\n",
    "        if len(arr) > 0:\n",
    "            x, y = arr.pop()\n",
    "            yield((x, y))\n",
    "        else:\n",
    "            time.sleep(0.001)"
   ]
  },
  {
   "cell_type": "code",
   "execution_count": 53,
   "metadata": {
    "ExecuteTime": {
     "end_time": "2020-01-07T21:46:46.080525Z",
     "start_time": "2020-01-07T21:39:13.481229Z"
    },
    "scrolled": true
   },
   "outputs": [
    {
     "name": "stdout",
     "output_type": "stream",
     "text": [
      "Train on 47997 samples, val on 5333 samples, with batch size 32.\n",
      "Epoch 1/100\n",
      "149/149 [==============================] - 213s 1s/step - loss: 3.8571 - val_loss: 4.9000\n",
      "Epoch 2/100\n",
      "149/149 [==============================] - 234s 2s/step - loss: 3.7447 - val_loss: 5.0993\n",
      "Epoch 3/100\n",
      " 18/149 [==>...........................] - ETA: 42s - loss: 3.6836"
     ]
    },
    {
     "ename": "KeyboardInterrupt",
     "evalue": "",
     "output_type": "error",
     "traceback": [
      "\u001b[1;31m---------------------------------------------------------------------------\u001b[0m",
      "\u001b[1;31mKeyboardInterrupt\u001b[0m                         Traceback (most recent call last)",
      "\u001b[1;32m<ipython-input-53-4c30e7ec41b6>\u001b[0m in \u001b[0;36m<module>\u001b[1;34m\u001b[0m\n\u001b[0;32m      6\u001b[0m     \u001b[0mepochs\u001b[0m\u001b[1;33m=\u001b[0m\u001b[1;36m100\u001b[0m\u001b[1;33m,\u001b[0m\u001b[1;33m\u001b[0m\u001b[1;33m\u001b[0m\u001b[0m\n\u001b[0;32m      7\u001b[0m     \u001b[0minitial_epoch\u001b[0m\u001b[1;33m=\u001b[0m\u001b[1;36m0\u001b[0m\u001b[1;33m,\u001b[0m\u001b[1;33m\u001b[0m\u001b[1;33m\u001b[0m\u001b[0m\n\u001b[1;32m----> 8\u001b[1;33m     callbacks=[checkpoint, reduce_lr, early_stopping])\n\u001b[0m",
      "\u001b[1;32m~\\Anaconda3\\lib\\site-packages\\keras\\legacy\\interfaces.py\u001b[0m in \u001b[0;36mwrapper\u001b[1;34m(*args, **kwargs)\u001b[0m\n\u001b[0;32m     89\u001b[0m                 warnings.warn('Update your `' + object_name + '` call to the ' +\n\u001b[0;32m     90\u001b[0m                               'Keras 2 API: ' + signature, stacklevel=2)\n\u001b[1;32m---> 91\u001b[1;33m             \u001b[1;32mreturn\u001b[0m \u001b[0mfunc\u001b[0m\u001b[1;33m(\u001b[0m\u001b[1;33m*\u001b[0m\u001b[0margs\u001b[0m\u001b[1;33m,\u001b[0m \u001b[1;33m**\u001b[0m\u001b[0mkwargs\u001b[0m\u001b[1;33m)\u001b[0m\u001b[1;33m\u001b[0m\u001b[1;33m\u001b[0m\u001b[0m\n\u001b[0m\u001b[0;32m     92\u001b[0m         \u001b[0mwrapper\u001b[0m\u001b[1;33m.\u001b[0m\u001b[0m_original_function\u001b[0m \u001b[1;33m=\u001b[0m \u001b[0mfunc\u001b[0m\u001b[1;33m\u001b[0m\u001b[1;33m\u001b[0m\u001b[0m\n\u001b[0;32m     93\u001b[0m         \u001b[1;32mreturn\u001b[0m \u001b[0mwrapper\u001b[0m\u001b[1;33m\u001b[0m\u001b[1;33m\u001b[0m\u001b[0m\n",
      "\u001b[1;32m~\\Anaconda3\\lib\\site-packages\\keras\\engine\\training.py\u001b[0m in \u001b[0;36mfit_generator\u001b[1;34m(self, generator, steps_per_epoch, epochs, verbose, callbacks, validation_data, validation_steps, class_weight, max_queue_size, workers, use_multiprocessing, shuffle, initial_epoch)\u001b[0m\n\u001b[0;32m   1416\u001b[0m             \u001b[0muse_multiprocessing\u001b[0m\u001b[1;33m=\u001b[0m\u001b[0muse_multiprocessing\u001b[0m\u001b[1;33m,\u001b[0m\u001b[1;33m\u001b[0m\u001b[1;33m\u001b[0m\u001b[0m\n\u001b[0;32m   1417\u001b[0m             \u001b[0mshuffle\u001b[0m\u001b[1;33m=\u001b[0m\u001b[0mshuffle\u001b[0m\u001b[1;33m,\u001b[0m\u001b[1;33m\u001b[0m\u001b[1;33m\u001b[0m\u001b[0m\n\u001b[1;32m-> 1418\u001b[1;33m             initial_epoch=initial_epoch)\n\u001b[0m\u001b[0;32m   1419\u001b[0m \u001b[1;33m\u001b[0m\u001b[0m\n\u001b[0;32m   1420\u001b[0m     \u001b[1;33m@\u001b[0m\u001b[0minterfaces\u001b[0m\u001b[1;33m.\u001b[0m\u001b[0mlegacy_generator_methods_support\u001b[0m\u001b[1;33m\u001b[0m\u001b[1;33m\u001b[0m\u001b[0m\n",
      "\u001b[1;32m~\\Anaconda3\\lib\\site-packages\\keras\\engine\\training_generator.py\u001b[0m in \u001b[0;36mfit_generator\u001b[1;34m(model, generator, steps_per_epoch, epochs, verbose, callbacks, validation_data, validation_steps, class_weight, max_queue_size, workers, use_multiprocessing, shuffle, initial_epoch)\u001b[0m\n\u001b[0;32m    215\u001b[0m                 outs = model.train_on_batch(x, y,\n\u001b[0;32m    216\u001b[0m                                             \u001b[0msample_weight\u001b[0m\u001b[1;33m=\u001b[0m\u001b[0msample_weight\u001b[0m\u001b[1;33m,\u001b[0m\u001b[1;33m\u001b[0m\u001b[1;33m\u001b[0m\u001b[0m\n\u001b[1;32m--> 217\u001b[1;33m                                             class_weight=class_weight)\n\u001b[0m\u001b[0;32m    218\u001b[0m \u001b[1;33m\u001b[0m\u001b[0m\n\u001b[0;32m    219\u001b[0m                 \u001b[0mouts\u001b[0m \u001b[1;33m=\u001b[0m \u001b[0mto_list\u001b[0m\u001b[1;33m(\u001b[0m\u001b[0mouts\u001b[0m\u001b[1;33m)\u001b[0m\u001b[1;33m\u001b[0m\u001b[1;33m\u001b[0m\u001b[0m\n",
      "\u001b[1;32m~\\Anaconda3\\lib\\site-packages\\keras\\engine\\training.py\u001b[0m in \u001b[0;36mtrain_on_batch\u001b[1;34m(self, x, y, sample_weight, class_weight)\u001b[0m\n\u001b[0;32m   1215\u001b[0m             \u001b[0mins\u001b[0m \u001b[1;33m=\u001b[0m \u001b[0mx\u001b[0m \u001b[1;33m+\u001b[0m \u001b[0my\u001b[0m \u001b[1;33m+\u001b[0m \u001b[0msample_weights\u001b[0m\u001b[1;33m\u001b[0m\u001b[1;33m\u001b[0m\u001b[0m\n\u001b[0;32m   1216\u001b[0m         \u001b[0mself\u001b[0m\u001b[1;33m.\u001b[0m\u001b[0m_make_train_function\u001b[0m\u001b[1;33m(\u001b[0m\u001b[1;33m)\u001b[0m\u001b[1;33m\u001b[0m\u001b[1;33m\u001b[0m\u001b[0m\n\u001b[1;32m-> 1217\u001b[1;33m         \u001b[0moutputs\u001b[0m \u001b[1;33m=\u001b[0m \u001b[0mself\u001b[0m\u001b[1;33m.\u001b[0m\u001b[0mtrain_function\u001b[0m\u001b[1;33m(\u001b[0m\u001b[0mins\u001b[0m\u001b[1;33m)\u001b[0m\u001b[1;33m\u001b[0m\u001b[1;33m\u001b[0m\u001b[0m\n\u001b[0m\u001b[0;32m   1218\u001b[0m         \u001b[1;32mreturn\u001b[0m \u001b[0munpack_singleton\u001b[0m\u001b[1;33m(\u001b[0m\u001b[0moutputs\u001b[0m\u001b[1;33m)\u001b[0m\u001b[1;33m\u001b[0m\u001b[1;33m\u001b[0m\u001b[0m\n\u001b[0;32m   1219\u001b[0m \u001b[1;33m\u001b[0m\u001b[0m\n",
      "\u001b[1;32m~\\Anaconda3\\lib\\site-packages\\keras\\backend\\tensorflow_backend.py\u001b[0m in \u001b[0;36m__call__\u001b[1;34m(self, inputs)\u001b[0m\n\u001b[0;32m   2713\u001b[0m                 \u001b[1;32mreturn\u001b[0m \u001b[0mself\u001b[0m\u001b[1;33m.\u001b[0m\u001b[0m_legacy_call\u001b[0m\u001b[1;33m(\u001b[0m\u001b[0minputs\u001b[0m\u001b[1;33m)\u001b[0m\u001b[1;33m\u001b[0m\u001b[1;33m\u001b[0m\u001b[0m\n\u001b[0;32m   2714\u001b[0m \u001b[1;33m\u001b[0m\u001b[0m\n\u001b[1;32m-> 2715\u001b[1;33m             \u001b[1;32mreturn\u001b[0m \u001b[0mself\u001b[0m\u001b[1;33m.\u001b[0m\u001b[0m_call\u001b[0m\u001b[1;33m(\u001b[0m\u001b[0minputs\u001b[0m\u001b[1;33m)\u001b[0m\u001b[1;33m\u001b[0m\u001b[1;33m\u001b[0m\u001b[0m\n\u001b[0m\u001b[0;32m   2716\u001b[0m         \u001b[1;32melse\u001b[0m\u001b[1;33m:\u001b[0m\u001b[1;33m\u001b[0m\u001b[1;33m\u001b[0m\u001b[0m\n\u001b[0;32m   2717\u001b[0m             \u001b[1;32mif\u001b[0m \u001b[0mpy_any\u001b[0m\u001b[1;33m(\u001b[0m\u001b[0mis_tensor\u001b[0m\u001b[1;33m(\u001b[0m\u001b[0mx\u001b[0m\u001b[1;33m)\u001b[0m \u001b[1;32mfor\u001b[0m \u001b[0mx\u001b[0m \u001b[1;32min\u001b[0m \u001b[0minputs\u001b[0m\u001b[1;33m)\u001b[0m\u001b[1;33m:\u001b[0m\u001b[1;33m\u001b[0m\u001b[1;33m\u001b[0m\u001b[0m\n",
      "\u001b[1;32m~\\Anaconda3\\lib\\site-packages\\keras\\backend\\tensorflow_backend.py\u001b[0m in \u001b[0;36m_call\u001b[1;34m(self, inputs)\u001b[0m\n\u001b[0;32m   2673\u001b[0m             \u001b[0mfetched\u001b[0m \u001b[1;33m=\u001b[0m \u001b[0mself\u001b[0m\u001b[1;33m.\u001b[0m\u001b[0m_callable_fn\u001b[0m\u001b[1;33m(\u001b[0m\u001b[1;33m*\u001b[0m\u001b[0marray_vals\u001b[0m\u001b[1;33m,\u001b[0m \u001b[0mrun_metadata\u001b[0m\u001b[1;33m=\u001b[0m\u001b[0mself\u001b[0m\u001b[1;33m.\u001b[0m\u001b[0mrun_metadata\u001b[0m\u001b[1;33m)\u001b[0m\u001b[1;33m\u001b[0m\u001b[1;33m\u001b[0m\u001b[0m\n\u001b[0;32m   2674\u001b[0m         \u001b[1;32melse\u001b[0m\u001b[1;33m:\u001b[0m\u001b[1;33m\u001b[0m\u001b[1;33m\u001b[0m\u001b[0m\n\u001b[1;32m-> 2675\u001b[1;33m             \u001b[0mfetched\u001b[0m \u001b[1;33m=\u001b[0m \u001b[0mself\u001b[0m\u001b[1;33m.\u001b[0m\u001b[0m_callable_fn\u001b[0m\u001b[1;33m(\u001b[0m\u001b[1;33m*\u001b[0m\u001b[0marray_vals\u001b[0m\u001b[1;33m)\u001b[0m\u001b[1;33m\u001b[0m\u001b[1;33m\u001b[0m\u001b[0m\n\u001b[0m\u001b[0;32m   2676\u001b[0m         \u001b[1;32mreturn\u001b[0m \u001b[0mfetched\u001b[0m\u001b[1;33m[\u001b[0m\u001b[1;33m:\u001b[0m\u001b[0mlen\u001b[0m\u001b[1;33m(\u001b[0m\u001b[0mself\u001b[0m\u001b[1;33m.\u001b[0m\u001b[0moutputs\u001b[0m\u001b[1;33m)\u001b[0m\u001b[1;33m]\u001b[0m\u001b[1;33m\u001b[0m\u001b[1;33m\u001b[0m\u001b[0m\n\u001b[0;32m   2677\u001b[0m \u001b[1;33m\u001b[0m\u001b[0m\n",
      "\u001b[1;32m~\\Anaconda3\\lib\\site-packages\\tensorflow\\python\\client\\session.py\u001b[0m in \u001b[0;36m__call__\u001b[1;34m(self, *args, **kwargs)\u001b[0m\n\u001b[0;32m   1437\u001b[0m           ret = tf_session.TF_SessionRunCallable(\n\u001b[0;32m   1438\u001b[0m               \u001b[0mself\u001b[0m\u001b[1;33m.\u001b[0m\u001b[0m_session\u001b[0m\u001b[1;33m.\u001b[0m\u001b[0m_session\u001b[0m\u001b[1;33m,\u001b[0m \u001b[0mself\u001b[0m\u001b[1;33m.\u001b[0m\u001b[0m_handle\u001b[0m\u001b[1;33m,\u001b[0m \u001b[0margs\u001b[0m\u001b[1;33m,\u001b[0m \u001b[0mstatus\u001b[0m\u001b[1;33m,\u001b[0m\u001b[1;33m\u001b[0m\u001b[1;33m\u001b[0m\u001b[0m\n\u001b[1;32m-> 1439\u001b[1;33m               run_metadata_ptr)\n\u001b[0m\u001b[0;32m   1440\u001b[0m         \u001b[1;32mif\u001b[0m \u001b[0mrun_metadata\u001b[0m\u001b[1;33m:\u001b[0m\u001b[1;33m\u001b[0m\u001b[1;33m\u001b[0m\u001b[0m\n\u001b[0;32m   1441\u001b[0m           \u001b[0mproto_data\u001b[0m \u001b[1;33m=\u001b[0m \u001b[0mtf_session\u001b[0m\u001b[1;33m.\u001b[0m\u001b[0mTF_GetBuffer\u001b[0m\u001b[1;33m(\u001b[0m\u001b[0mrun_metadata_ptr\u001b[0m\u001b[1;33m)\u001b[0m\u001b[1;33m\u001b[0m\u001b[1;33m\u001b[0m\u001b[0m\n",
      "\u001b[1;31mKeyboardInterrupt\u001b[0m: "
     ]
    }
   ],
   "source": [
    "print('Train on {} samples, val on {} samples, with batch size {}.'.format(num_train, num_val, batch_size))\n",
    "model.fit_generator(generator(arr_train),\n",
    "    steps_per_epoch=max(1, (num_train//batch_size)),\n",
    "    validation_data=generator(arr_val),\n",
    "    validation_steps=max(1, num_val//batch_size),\n",
    "    epochs=100,\n",
    "    initial_epoch=0,\n",
    "    callbacks=[checkpoint, reduce_lr, early_stopping])"
   ]
  },
  {
   "cell_type": "code",
   "execution_count": 19,
   "metadata": {
    "ExecuteTime": {
     "end_time": "2020-01-06T17:13:11.971364Z",
     "start_time": "2020-01-06T09:06:48.723893Z"
    },
    "deletable": false,
    "editable": false,
    "run_control": {
     "frozen": true
    },
    "scrolled": true
   },
   "outputs": [
    {
     "name": "stdout",
     "output_type": "stream",
     "text": [
      "Train on 47997 samples, val on 5333 samples, with batch size 32.\n",
      "Epoch 1/100\n",
      "1499/1499 [==============================] - 7361s 5s/step - loss: 4.9452 - val_loss: 5.4359\n",
      "Epoch 2/100\n",
      "1499/1499 [==============================] - 7296s 5s/step - loss: 4.7475 - val_loss: 4.8891\n",
      "Epoch 3/100\n",
      "1499/1499 [==============================] - 7289s 5s/step - loss: 4.6375 - val_loss: 5.0299\n",
      "Epoch 4/100\n",
      "1499/1499 [==============================] - 7204s 5s/step - loss: 4.4973 - val_loss: 4.4726\n",
      "Epoch 5/100\n",
      "  12/1499 [..............................] - ETA: 10:14 - loss: 4.4386"
     ]
    },
    {
     "ename": "KeyboardInterrupt",
     "evalue": "",
     "output_type": "error",
     "traceback": [
      "\u001b[1;31m---------------------------------------------------------------------------\u001b[0m",
      "\u001b[1;31mKeyboardInterrupt\u001b[0m                         Traceback (most recent call last)",
      "\u001b[1;32m<ipython-input-19-931906e95b1e>\u001b[0m in \u001b[0;36m<module>\u001b[1;34m\u001b[0m\n\u001b[0;32m      7\u001b[0m     \u001b[0mepochs\u001b[0m\u001b[1;33m=\u001b[0m\u001b[1;36m100\u001b[0m\u001b[1;33m,\u001b[0m\u001b[1;33m\u001b[0m\u001b[1;33m\u001b[0m\u001b[0m\n\u001b[0;32m      8\u001b[0m     \u001b[0minitial_epoch\u001b[0m\u001b[1;33m=\u001b[0m\u001b[1;36m0\u001b[0m\u001b[1;33m,\u001b[0m\u001b[1;33m\u001b[0m\u001b[1;33m\u001b[0m\u001b[0m\n\u001b[1;32m----> 9\u001b[1;33m     callbacks=[checkpoint, reduce_lr, early_stopping])\n\u001b[0m",
      "\u001b[1;32m~\\Anaconda3\\envs\\ml\\lib\\site-packages\\keras\\legacy\\interfaces.py\u001b[0m in \u001b[0;36mwrapper\u001b[1;34m(*args, **kwargs)\u001b[0m\n\u001b[0;32m     89\u001b[0m                 warnings.warn('Update your `' + object_name + '` call to the ' +\n\u001b[0;32m     90\u001b[0m                               'Keras 2 API: ' + signature, stacklevel=2)\n\u001b[1;32m---> 91\u001b[1;33m             \u001b[1;32mreturn\u001b[0m \u001b[0mfunc\u001b[0m\u001b[1;33m(\u001b[0m\u001b[1;33m*\u001b[0m\u001b[0margs\u001b[0m\u001b[1;33m,\u001b[0m \u001b[1;33m**\u001b[0m\u001b[0mkwargs\u001b[0m\u001b[1;33m)\u001b[0m\u001b[1;33m\u001b[0m\u001b[1;33m\u001b[0m\u001b[0m\n\u001b[0m\u001b[0;32m     92\u001b[0m         \u001b[0mwrapper\u001b[0m\u001b[1;33m.\u001b[0m\u001b[0m_original_function\u001b[0m \u001b[1;33m=\u001b[0m \u001b[0mfunc\u001b[0m\u001b[1;33m\u001b[0m\u001b[1;33m\u001b[0m\u001b[0m\n\u001b[0;32m     93\u001b[0m         \u001b[1;32mreturn\u001b[0m \u001b[0mwrapper\u001b[0m\u001b[1;33m\u001b[0m\u001b[1;33m\u001b[0m\u001b[0m\n",
      "\u001b[1;32m~\\Anaconda3\\envs\\ml\\lib\\site-packages\\keras\\engine\\training.py\u001b[0m in \u001b[0;36mfit_generator\u001b[1;34m(self, generator, steps_per_epoch, epochs, verbose, callbacks, validation_data, validation_steps, validation_freq, class_weight, max_queue_size, workers, use_multiprocessing, shuffle, initial_epoch)\u001b[0m\n\u001b[0;32m   1730\u001b[0m             \u001b[0muse_multiprocessing\u001b[0m\u001b[1;33m=\u001b[0m\u001b[0muse_multiprocessing\u001b[0m\u001b[1;33m,\u001b[0m\u001b[1;33m\u001b[0m\u001b[1;33m\u001b[0m\u001b[0m\n\u001b[0;32m   1731\u001b[0m             \u001b[0mshuffle\u001b[0m\u001b[1;33m=\u001b[0m\u001b[0mshuffle\u001b[0m\u001b[1;33m,\u001b[0m\u001b[1;33m\u001b[0m\u001b[1;33m\u001b[0m\u001b[0m\n\u001b[1;32m-> 1732\u001b[1;33m             initial_epoch=initial_epoch)\n\u001b[0m\u001b[0;32m   1733\u001b[0m \u001b[1;33m\u001b[0m\u001b[0m\n\u001b[0;32m   1734\u001b[0m     \u001b[1;33m@\u001b[0m\u001b[0minterfaces\u001b[0m\u001b[1;33m.\u001b[0m\u001b[0mlegacy_generator_methods_support\u001b[0m\u001b[1;33m\u001b[0m\u001b[1;33m\u001b[0m\u001b[0m\n",
      "\u001b[1;32m~\\Anaconda3\\envs\\ml\\lib\\site-packages\\keras\\engine\\training_generator.py\u001b[0m in \u001b[0;36mfit_generator\u001b[1;34m(model, generator, steps_per_epoch, epochs, verbose, callbacks, validation_data, validation_steps, validation_freq, class_weight, max_queue_size, workers, use_multiprocessing, shuffle, initial_epoch)\u001b[0m\n\u001b[0;32m    183\u001b[0m             \u001b[0mbatch_index\u001b[0m \u001b[1;33m=\u001b[0m \u001b[1;36m0\u001b[0m\u001b[1;33m\u001b[0m\u001b[1;33m\u001b[0m\u001b[0m\n\u001b[0;32m    184\u001b[0m             \u001b[1;32mwhile\u001b[0m \u001b[0msteps_done\u001b[0m \u001b[1;33m<\u001b[0m \u001b[0msteps_per_epoch\u001b[0m\u001b[1;33m:\u001b[0m\u001b[1;33m\u001b[0m\u001b[1;33m\u001b[0m\u001b[0m\n\u001b[1;32m--> 185\u001b[1;33m                 \u001b[0mgenerator_output\u001b[0m \u001b[1;33m=\u001b[0m \u001b[0mnext\u001b[0m\u001b[1;33m(\u001b[0m\u001b[0moutput_generator\u001b[0m\u001b[1;33m)\u001b[0m\u001b[1;33m\u001b[0m\u001b[1;33m\u001b[0m\u001b[0m\n\u001b[0m\u001b[0;32m    186\u001b[0m \u001b[1;33m\u001b[0m\u001b[0m\n\u001b[0;32m    187\u001b[0m                 \u001b[1;32mif\u001b[0m \u001b[1;32mnot\u001b[0m \u001b[0mhasattr\u001b[0m\u001b[1;33m(\u001b[0m\u001b[0mgenerator_output\u001b[0m\u001b[1;33m,\u001b[0m \u001b[1;34m'__len__'\u001b[0m\u001b[1;33m)\u001b[0m\u001b[1;33m:\u001b[0m\u001b[1;33m\u001b[0m\u001b[1;33m\u001b[0m\u001b[0m\n",
      "\u001b[1;32m~\\Anaconda3\\envs\\ml\\lib\\site-packages\\keras\\utils\\data_utils.py\u001b[0m in \u001b[0;36mget\u001b[1;34m(self)\u001b[0m\n\u001b[0;32m    709\u001b[0m                 \u001b[1;32mtry\u001b[0m\u001b[1;33m:\u001b[0m\u001b[1;33m\u001b[0m\u001b[1;33m\u001b[0m\u001b[0m\n\u001b[0;32m    710\u001b[0m                     \u001b[0mfuture\u001b[0m \u001b[1;33m=\u001b[0m \u001b[0mself\u001b[0m\u001b[1;33m.\u001b[0m\u001b[0mqueue\u001b[0m\u001b[1;33m.\u001b[0m\u001b[0mget\u001b[0m\u001b[1;33m(\u001b[0m\u001b[0mblock\u001b[0m\u001b[1;33m=\u001b[0m\u001b[1;32mTrue\u001b[0m\u001b[1;33m)\u001b[0m\u001b[1;33m\u001b[0m\u001b[1;33m\u001b[0m\u001b[0m\n\u001b[1;32m--> 711\u001b[1;33m                     \u001b[0minputs\u001b[0m \u001b[1;33m=\u001b[0m \u001b[0mfuture\u001b[0m\u001b[1;33m.\u001b[0m\u001b[0mget\u001b[0m\u001b[1;33m(\u001b[0m\u001b[0mtimeout\u001b[0m\u001b[1;33m=\u001b[0m\u001b[1;36m30\u001b[0m\u001b[1;33m)\u001b[0m\u001b[1;33m\u001b[0m\u001b[1;33m\u001b[0m\u001b[0m\n\u001b[0m\u001b[0;32m    712\u001b[0m                     \u001b[0mself\u001b[0m\u001b[1;33m.\u001b[0m\u001b[0mqueue\u001b[0m\u001b[1;33m.\u001b[0m\u001b[0mtask_done\u001b[0m\u001b[1;33m(\u001b[0m\u001b[1;33m)\u001b[0m\u001b[1;33m\u001b[0m\u001b[1;33m\u001b[0m\u001b[0m\n\u001b[0;32m    713\u001b[0m                 \u001b[1;32mexcept\u001b[0m \u001b[0mmp\u001b[0m\u001b[1;33m.\u001b[0m\u001b[0mTimeoutError\u001b[0m\u001b[1;33m:\u001b[0m\u001b[1;33m\u001b[0m\u001b[1;33m\u001b[0m\u001b[0m\n",
      "\u001b[1;32m~\\Anaconda3\\envs\\ml\\lib\\multiprocessing\\pool.py\u001b[0m in \u001b[0;36mget\u001b[1;34m(self, timeout)\u001b[0m\n\u001b[0;32m    636\u001b[0m \u001b[1;33m\u001b[0m\u001b[0m\n\u001b[0;32m    637\u001b[0m     \u001b[1;32mdef\u001b[0m \u001b[0mget\u001b[0m\u001b[1;33m(\u001b[0m\u001b[0mself\u001b[0m\u001b[1;33m,\u001b[0m \u001b[0mtimeout\u001b[0m\u001b[1;33m=\u001b[0m\u001b[1;32mNone\u001b[0m\u001b[1;33m)\u001b[0m\u001b[1;33m:\u001b[0m\u001b[1;33m\u001b[0m\u001b[1;33m\u001b[0m\u001b[0m\n\u001b[1;32m--> 638\u001b[1;33m         \u001b[0mself\u001b[0m\u001b[1;33m.\u001b[0m\u001b[0mwait\u001b[0m\u001b[1;33m(\u001b[0m\u001b[0mtimeout\u001b[0m\u001b[1;33m)\u001b[0m\u001b[1;33m\u001b[0m\u001b[1;33m\u001b[0m\u001b[0m\n\u001b[0m\u001b[0;32m    639\u001b[0m         \u001b[1;32mif\u001b[0m \u001b[1;32mnot\u001b[0m \u001b[0mself\u001b[0m\u001b[1;33m.\u001b[0m\u001b[0mready\u001b[0m\u001b[1;33m(\u001b[0m\u001b[1;33m)\u001b[0m\u001b[1;33m:\u001b[0m\u001b[1;33m\u001b[0m\u001b[1;33m\u001b[0m\u001b[0m\n\u001b[0;32m    640\u001b[0m             \u001b[1;32mraise\u001b[0m \u001b[0mTimeoutError\u001b[0m\u001b[1;33m\u001b[0m\u001b[1;33m\u001b[0m\u001b[0m\n",
      "\u001b[1;32m~\\Anaconda3\\envs\\ml\\lib\\multiprocessing\\pool.py\u001b[0m in \u001b[0;36mwait\u001b[1;34m(self, timeout)\u001b[0m\n\u001b[0;32m    633\u001b[0m \u001b[1;33m\u001b[0m\u001b[0m\n\u001b[0;32m    634\u001b[0m     \u001b[1;32mdef\u001b[0m \u001b[0mwait\u001b[0m\u001b[1;33m(\u001b[0m\u001b[0mself\u001b[0m\u001b[1;33m,\u001b[0m \u001b[0mtimeout\u001b[0m\u001b[1;33m=\u001b[0m\u001b[1;32mNone\u001b[0m\u001b[1;33m)\u001b[0m\u001b[1;33m:\u001b[0m\u001b[1;33m\u001b[0m\u001b[1;33m\u001b[0m\u001b[0m\n\u001b[1;32m--> 635\u001b[1;33m         \u001b[0mself\u001b[0m\u001b[1;33m.\u001b[0m\u001b[0m_event\u001b[0m\u001b[1;33m.\u001b[0m\u001b[0mwait\u001b[0m\u001b[1;33m(\u001b[0m\u001b[0mtimeout\u001b[0m\u001b[1;33m)\u001b[0m\u001b[1;33m\u001b[0m\u001b[1;33m\u001b[0m\u001b[0m\n\u001b[0m\u001b[0;32m    636\u001b[0m \u001b[1;33m\u001b[0m\u001b[0m\n\u001b[0;32m    637\u001b[0m     \u001b[1;32mdef\u001b[0m \u001b[0mget\u001b[0m\u001b[1;33m(\u001b[0m\u001b[0mself\u001b[0m\u001b[1;33m,\u001b[0m \u001b[0mtimeout\u001b[0m\u001b[1;33m=\u001b[0m\u001b[1;32mNone\u001b[0m\u001b[1;33m)\u001b[0m\u001b[1;33m:\u001b[0m\u001b[1;33m\u001b[0m\u001b[1;33m\u001b[0m\u001b[0m\n",
      "\u001b[1;32m~\\Anaconda3\\envs\\ml\\lib\\threading.py\u001b[0m in \u001b[0;36mwait\u001b[1;34m(self, timeout)\u001b[0m\n\u001b[0;32m    549\u001b[0m             \u001b[0msignaled\u001b[0m \u001b[1;33m=\u001b[0m \u001b[0mself\u001b[0m\u001b[1;33m.\u001b[0m\u001b[0m_flag\u001b[0m\u001b[1;33m\u001b[0m\u001b[1;33m\u001b[0m\u001b[0m\n\u001b[0;32m    550\u001b[0m             \u001b[1;32mif\u001b[0m \u001b[1;32mnot\u001b[0m \u001b[0msignaled\u001b[0m\u001b[1;33m:\u001b[0m\u001b[1;33m\u001b[0m\u001b[1;33m\u001b[0m\u001b[0m\n\u001b[1;32m--> 551\u001b[1;33m                 \u001b[0msignaled\u001b[0m \u001b[1;33m=\u001b[0m \u001b[0mself\u001b[0m\u001b[1;33m.\u001b[0m\u001b[0m_cond\u001b[0m\u001b[1;33m.\u001b[0m\u001b[0mwait\u001b[0m\u001b[1;33m(\u001b[0m\u001b[0mtimeout\u001b[0m\u001b[1;33m)\u001b[0m\u001b[1;33m\u001b[0m\u001b[1;33m\u001b[0m\u001b[0m\n\u001b[0m\u001b[0;32m    552\u001b[0m             \u001b[1;32mreturn\u001b[0m \u001b[0msignaled\u001b[0m\u001b[1;33m\u001b[0m\u001b[1;33m\u001b[0m\u001b[0m\n\u001b[0;32m    553\u001b[0m \u001b[1;33m\u001b[0m\u001b[0m\n",
      "\u001b[1;32m~\\Anaconda3\\envs\\ml\\lib\\threading.py\u001b[0m in \u001b[0;36mwait\u001b[1;34m(self, timeout)\u001b[0m\n\u001b[0;32m    297\u001b[0m             \u001b[1;32melse\u001b[0m\u001b[1;33m:\u001b[0m\u001b[1;33m\u001b[0m\u001b[1;33m\u001b[0m\u001b[0m\n\u001b[0;32m    298\u001b[0m                 \u001b[1;32mif\u001b[0m \u001b[0mtimeout\u001b[0m \u001b[1;33m>\u001b[0m \u001b[1;36m0\u001b[0m\u001b[1;33m:\u001b[0m\u001b[1;33m\u001b[0m\u001b[1;33m\u001b[0m\u001b[0m\n\u001b[1;32m--> 299\u001b[1;33m                     \u001b[0mgotit\u001b[0m \u001b[1;33m=\u001b[0m \u001b[0mwaiter\u001b[0m\u001b[1;33m.\u001b[0m\u001b[0macquire\u001b[0m\u001b[1;33m(\u001b[0m\u001b[1;32mTrue\u001b[0m\u001b[1;33m,\u001b[0m \u001b[0mtimeout\u001b[0m\u001b[1;33m)\u001b[0m\u001b[1;33m\u001b[0m\u001b[1;33m\u001b[0m\u001b[0m\n\u001b[0m\u001b[0;32m    300\u001b[0m                 \u001b[1;32melse\u001b[0m\u001b[1;33m:\u001b[0m\u001b[1;33m\u001b[0m\u001b[1;33m\u001b[0m\u001b[0m\n\u001b[0;32m    301\u001b[0m                     \u001b[0mgotit\u001b[0m \u001b[1;33m=\u001b[0m \u001b[0mwaiter\u001b[0m\u001b[1;33m.\u001b[0m\u001b[0macquire\u001b[0m\u001b[1;33m(\u001b[0m\u001b[1;32mFalse\u001b[0m\u001b[1;33m)\u001b[0m\u001b[1;33m\u001b[0m\u001b[1;33m\u001b[0m\u001b[0m\n",
      "\u001b[1;31mKeyboardInterrupt\u001b[0m: "
     ]
    }
   ],
   "source": [
    "batch_size = 32 # note that more GPU memory is required after unfreezing the body\n",
    "print('Train on {} samples, val on {} samples, with batch size {}.'.format(num_train, num_val, batch_size))\n",
    "model.fit_generator(data_generator_wrapper(lines[:num_train], batch_size, input_shape, anchors, num_classes),\n",
    "    steps_per_epoch=max(1, num_train//batch_size),\n",
    "    validation_data=data_generator_wrapper(lines[num_train:], batch_size, input_shape, anchors, num_classes),\n",
    "    validation_steps=max(1, num_val//batch_size),\n",
    "    epochs=100,\n",
    "    initial_epoch=0,\n",
    "    callbacks=[checkpoint, reduce_lr, early_stopping])"
   ]
  },
  {
   "cell_type": "code",
   "execution_count": 19,
   "metadata": {
    "ExecuteTime": {
     "end_time": "2020-01-05T16:09:57.965422Z",
     "start_time": "2020-01-05T07:43:57.015566Z"
    },
    "deletable": false,
    "editable": false,
    "run_control": {
     "frozen": true
    },
    "scrolled": true
   },
   "outputs": [
    {
     "name": "stdout",
     "output_type": "stream",
     "text": [
      "Train on 47997 samples, val on 5333 samples, with batch size 32.\n",
      "Epoch 1/100\n",
      "1499/1499 [==============================] - 6948s 5s/step - loss: 6.8163 - val_loss: 6.3364\n",
      "Epoch 2/100\n",
      "1499/1499 [==============================] - 6858s 5s/step - loss: 6.0349 - val_loss: 6.0053\n",
      "Epoch 3/100\n",
      "1499/1499 [==============================] - 6894s 5s/step - loss: 5.5713 - val_loss: 5.8492\n",
      "Epoch 4/100\n",
      "1499/1499 [==============================] - 6867s 5s/step - loss: 5.2414 - val_loss: 4.8183\n",
      "Epoch 5/100\n",
      " 738/1499 [=============>................] - ETA: 47:31 - loss: 5.0780"
     ]
    },
    {
     "ename": "KeyboardInterrupt",
     "evalue": "",
     "output_type": "error",
     "traceback": [
      "\u001b[1;31m---------------------------------------------------------------------------\u001b[0m",
      "\u001b[1;31mKeyboardInterrupt\u001b[0m                         Traceback (most recent call last)",
      "\u001b[1;32m<ipython-input-19-931906e95b1e>\u001b[0m in \u001b[0;36m<module>\u001b[1;34m\u001b[0m\n\u001b[0;32m      7\u001b[0m     \u001b[0mepochs\u001b[0m\u001b[1;33m=\u001b[0m\u001b[1;36m100\u001b[0m\u001b[1;33m,\u001b[0m\u001b[1;33m\u001b[0m\u001b[1;33m\u001b[0m\u001b[0m\n\u001b[0;32m      8\u001b[0m     \u001b[0minitial_epoch\u001b[0m\u001b[1;33m=\u001b[0m\u001b[1;36m0\u001b[0m\u001b[1;33m,\u001b[0m\u001b[1;33m\u001b[0m\u001b[1;33m\u001b[0m\u001b[0m\n\u001b[1;32m----> 9\u001b[1;33m     callbacks=[checkpoint, reduce_lr, early_stopping])\n\u001b[0m",
      "\u001b[1;32m~\\Anaconda3\\envs\\ml\\lib\\site-packages\\keras\\legacy\\interfaces.py\u001b[0m in \u001b[0;36mwrapper\u001b[1;34m(*args, **kwargs)\u001b[0m\n\u001b[0;32m     89\u001b[0m                 warnings.warn('Update your `' + object_name + '` call to the ' +\n\u001b[0;32m     90\u001b[0m                               'Keras 2 API: ' + signature, stacklevel=2)\n\u001b[1;32m---> 91\u001b[1;33m             \u001b[1;32mreturn\u001b[0m \u001b[0mfunc\u001b[0m\u001b[1;33m(\u001b[0m\u001b[1;33m*\u001b[0m\u001b[0margs\u001b[0m\u001b[1;33m,\u001b[0m \u001b[1;33m**\u001b[0m\u001b[0mkwargs\u001b[0m\u001b[1;33m)\u001b[0m\u001b[1;33m\u001b[0m\u001b[1;33m\u001b[0m\u001b[0m\n\u001b[0m\u001b[0;32m     92\u001b[0m         \u001b[0mwrapper\u001b[0m\u001b[1;33m.\u001b[0m\u001b[0m_original_function\u001b[0m \u001b[1;33m=\u001b[0m \u001b[0mfunc\u001b[0m\u001b[1;33m\u001b[0m\u001b[1;33m\u001b[0m\u001b[0m\n\u001b[0;32m     93\u001b[0m         \u001b[1;32mreturn\u001b[0m \u001b[0mwrapper\u001b[0m\u001b[1;33m\u001b[0m\u001b[1;33m\u001b[0m\u001b[0m\n",
      "\u001b[1;32m~\\Anaconda3\\envs\\ml\\lib\\site-packages\\keras\\engine\\training.py\u001b[0m in \u001b[0;36mfit_generator\u001b[1;34m(self, generator, steps_per_epoch, epochs, verbose, callbacks, validation_data, validation_steps, validation_freq, class_weight, max_queue_size, workers, use_multiprocessing, shuffle, initial_epoch)\u001b[0m\n\u001b[0;32m   1730\u001b[0m             \u001b[0muse_multiprocessing\u001b[0m\u001b[1;33m=\u001b[0m\u001b[0muse_multiprocessing\u001b[0m\u001b[1;33m,\u001b[0m\u001b[1;33m\u001b[0m\u001b[1;33m\u001b[0m\u001b[0m\n\u001b[0;32m   1731\u001b[0m             \u001b[0mshuffle\u001b[0m\u001b[1;33m=\u001b[0m\u001b[0mshuffle\u001b[0m\u001b[1;33m,\u001b[0m\u001b[1;33m\u001b[0m\u001b[1;33m\u001b[0m\u001b[0m\n\u001b[1;32m-> 1732\u001b[1;33m             initial_epoch=initial_epoch)\n\u001b[0m\u001b[0;32m   1733\u001b[0m \u001b[1;33m\u001b[0m\u001b[0m\n\u001b[0;32m   1734\u001b[0m     \u001b[1;33m@\u001b[0m\u001b[0minterfaces\u001b[0m\u001b[1;33m.\u001b[0m\u001b[0mlegacy_generator_methods_support\u001b[0m\u001b[1;33m\u001b[0m\u001b[1;33m\u001b[0m\u001b[0m\n",
      "\u001b[1;32m~\\Anaconda3\\envs\\ml\\lib\\site-packages\\keras\\engine\\training_generator.py\u001b[0m in \u001b[0;36mfit_generator\u001b[1;34m(model, generator, steps_per_epoch, epochs, verbose, callbacks, validation_data, validation_steps, validation_freq, class_weight, max_queue_size, workers, use_multiprocessing, shuffle, initial_epoch)\u001b[0m\n\u001b[0;32m    183\u001b[0m             \u001b[0mbatch_index\u001b[0m \u001b[1;33m=\u001b[0m \u001b[1;36m0\u001b[0m\u001b[1;33m\u001b[0m\u001b[1;33m\u001b[0m\u001b[0m\n\u001b[0;32m    184\u001b[0m             \u001b[1;32mwhile\u001b[0m \u001b[0msteps_done\u001b[0m \u001b[1;33m<\u001b[0m \u001b[0msteps_per_epoch\u001b[0m\u001b[1;33m:\u001b[0m\u001b[1;33m\u001b[0m\u001b[1;33m\u001b[0m\u001b[0m\n\u001b[1;32m--> 185\u001b[1;33m                 \u001b[0mgenerator_output\u001b[0m \u001b[1;33m=\u001b[0m \u001b[0mnext\u001b[0m\u001b[1;33m(\u001b[0m\u001b[0moutput_generator\u001b[0m\u001b[1;33m)\u001b[0m\u001b[1;33m\u001b[0m\u001b[1;33m\u001b[0m\u001b[0m\n\u001b[0m\u001b[0;32m    186\u001b[0m \u001b[1;33m\u001b[0m\u001b[0m\n\u001b[0;32m    187\u001b[0m                 \u001b[1;32mif\u001b[0m \u001b[1;32mnot\u001b[0m \u001b[0mhasattr\u001b[0m\u001b[1;33m(\u001b[0m\u001b[0mgenerator_output\u001b[0m\u001b[1;33m,\u001b[0m \u001b[1;34m'__len__'\u001b[0m\u001b[1;33m)\u001b[0m\u001b[1;33m:\u001b[0m\u001b[1;33m\u001b[0m\u001b[1;33m\u001b[0m\u001b[0m\n",
      "\u001b[1;32m~\\Anaconda3\\envs\\ml\\lib\\site-packages\\keras\\utils\\data_utils.py\u001b[0m in \u001b[0;36mget\u001b[1;34m(self)\u001b[0m\n\u001b[0;32m    709\u001b[0m                 \u001b[1;32mtry\u001b[0m\u001b[1;33m:\u001b[0m\u001b[1;33m\u001b[0m\u001b[1;33m\u001b[0m\u001b[0m\n\u001b[0;32m    710\u001b[0m                     \u001b[0mfuture\u001b[0m \u001b[1;33m=\u001b[0m \u001b[0mself\u001b[0m\u001b[1;33m.\u001b[0m\u001b[0mqueue\u001b[0m\u001b[1;33m.\u001b[0m\u001b[0mget\u001b[0m\u001b[1;33m(\u001b[0m\u001b[0mblock\u001b[0m\u001b[1;33m=\u001b[0m\u001b[1;32mTrue\u001b[0m\u001b[1;33m)\u001b[0m\u001b[1;33m\u001b[0m\u001b[1;33m\u001b[0m\u001b[0m\n\u001b[1;32m--> 711\u001b[1;33m                     \u001b[0minputs\u001b[0m \u001b[1;33m=\u001b[0m \u001b[0mfuture\u001b[0m\u001b[1;33m.\u001b[0m\u001b[0mget\u001b[0m\u001b[1;33m(\u001b[0m\u001b[0mtimeout\u001b[0m\u001b[1;33m=\u001b[0m\u001b[1;36m30\u001b[0m\u001b[1;33m)\u001b[0m\u001b[1;33m\u001b[0m\u001b[1;33m\u001b[0m\u001b[0m\n\u001b[0m\u001b[0;32m    712\u001b[0m                     \u001b[0mself\u001b[0m\u001b[1;33m.\u001b[0m\u001b[0mqueue\u001b[0m\u001b[1;33m.\u001b[0m\u001b[0mtask_done\u001b[0m\u001b[1;33m(\u001b[0m\u001b[1;33m)\u001b[0m\u001b[1;33m\u001b[0m\u001b[1;33m\u001b[0m\u001b[0m\n\u001b[0;32m    713\u001b[0m                 \u001b[1;32mexcept\u001b[0m \u001b[0mmp\u001b[0m\u001b[1;33m.\u001b[0m\u001b[0mTimeoutError\u001b[0m\u001b[1;33m:\u001b[0m\u001b[1;33m\u001b[0m\u001b[1;33m\u001b[0m\u001b[0m\n",
      "\u001b[1;32m~\\Anaconda3\\envs\\ml\\lib\\multiprocessing\\pool.py\u001b[0m in \u001b[0;36mget\u001b[1;34m(self, timeout)\u001b[0m\n\u001b[0;32m    636\u001b[0m \u001b[1;33m\u001b[0m\u001b[0m\n\u001b[0;32m    637\u001b[0m     \u001b[1;32mdef\u001b[0m \u001b[0mget\u001b[0m\u001b[1;33m(\u001b[0m\u001b[0mself\u001b[0m\u001b[1;33m,\u001b[0m \u001b[0mtimeout\u001b[0m\u001b[1;33m=\u001b[0m\u001b[1;32mNone\u001b[0m\u001b[1;33m)\u001b[0m\u001b[1;33m:\u001b[0m\u001b[1;33m\u001b[0m\u001b[1;33m\u001b[0m\u001b[0m\n\u001b[1;32m--> 638\u001b[1;33m         \u001b[0mself\u001b[0m\u001b[1;33m.\u001b[0m\u001b[0mwait\u001b[0m\u001b[1;33m(\u001b[0m\u001b[0mtimeout\u001b[0m\u001b[1;33m)\u001b[0m\u001b[1;33m\u001b[0m\u001b[1;33m\u001b[0m\u001b[0m\n\u001b[0m\u001b[0;32m    639\u001b[0m         \u001b[1;32mif\u001b[0m \u001b[1;32mnot\u001b[0m \u001b[0mself\u001b[0m\u001b[1;33m.\u001b[0m\u001b[0mready\u001b[0m\u001b[1;33m(\u001b[0m\u001b[1;33m)\u001b[0m\u001b[1;33m:\u001b[0m\u001b[1;33m\u001b[0m\u001b[1;33m\u001b[0m\u001b[0m\n\u001b[0;32m    640\u001b[0m             \u001b[1;32mraise\u001b[0m \u001b[0mTimeoutError\u001b[0m\u001b[1;33m\u001b[0m\u001b[1;33m\u001b[0m\u001b[0m\n",
      "\u001b[1;32m~\\Anaconda3\\envs\\ml\\lib\\multiprocessing\\pool.py\u001b[0m in \u001b[0;36mwait\u001b[1;34m(self, timeout)\u001b[0m\n\u001b[0;32m    633\u001b[0m \u001b[1;33m\u001b[0m\u001b[0m\n\u001b[0;32m    634\u001b[0m     \u001b[1;32mdef\u001b[0m \u001b[0mwait\u001b[0m\u001b[1;33m(\u001b[0m\u001b[0mself\u001b[0m\u001b[1;33m,\u001b[0m \u001b[0mtimeout\u001b[0m\u001b[1;33m=\u001b[0m\u001b[1;32mNone\u001b[0m\u001b[1;33m)\u001b[0m\u001b[1;33m:\u001b[0m\u001b[1;33m\u001b[0m\u001b[1;33m\u001b[0m\u001b[0m\n\u001b[1;32m--> 635\u001b[1;33m         \u001b[0mself\u001b[0m\u001b[1;33m.\u001b[0m\u001b[0m_event\u001b[0m\u001b[1;33m.\u001b[0m\u001b[0mwait\u001b[0m\u001b[1;33m(\u001b[0m\u001b[0mtimeout\u001b[0m\u001b[1;33m)\u001b[0m\u001b[1;33m\u001b[0m\u001b[1;33m\u001b[0m\u001b[0m\n\u001b[0m\u001b[0;32m    636\u001b[0m \u001b[1;33m\u001b[0m\u001b[0m\n\u001b[0;32m    637\u001b[0m     \u001b[1;32mdef\u001b[0m \u001b[0mget\u001b[0m\u001b[1;33m(\u001b[0m\u001b[0mself\u001b[0m\u001b[1;33m,\u001b[0m \u001b[0mtimeout\u001b[0m\u001b[1;33m=\u001b[0m\u001b[1;32mNone\u001b[0m\u001b[1;33m)\u001b[0m\u001b[1;33m:\u001b[0m\u001b[1;33m\u001b[0m\u001b[1;33m\u001b[0m\u001b[0m\n",
      "\u001b[1;32m~\\Anaconda3\\envs\\ml\\lib\\threading.py\u001b[0m in \u001b[0;36mwait\u001b[1;34m(self, timeout)\u001b[0m\n\u001b[0;32m    549\u001b[0m             \u001b[0msignaled\u001b[0m \u001b[1;33m=\u001b[0m \u001b[0mself\u001b[0m\u001b[1;33m.\u001b[0m\u001b[0m_flag\u001b[0m\u001b[1;33m\u001b[0m\u001b[1;33m\u001b[0m\u001b[0m\n\u001b[0;32m    550\u001b[0m             \u001b[1;32mif\u001b[0m \u001b[1;32mnot\u001b[0m \u001b[0msignaled\u001b[0m\u001b[1;33m:\u001b[0m\u001b[1;33m\u001b[0m\u001b[1;33m\u001b[0m\u001b[0m\n\u001b[1;32m--> 551\u001b[1;33m                 \u001b[0msignaled\u001b[0m \u001b[1;33m=\u001b[0m \u001b[0mself\u001b[0m\u001b[1;33m.\u001b[0m\u001b[0m_cond\u001b[0m\u001b[1;33m.\u001b[0m\u001b[0mwait\u001b[0m\u001b[1;33m(\u001b[0m\u001b[0mtimeout\u001b[0m\u001b[1;33m)\u001b[0m\u001b[1;33m\u001b[0m\u001b[1;33m\u001b[0m\u001b[0m\n\u001b[0m\u001b[0;32m    552\u001b[0m             \u001b[1;32mreturn\u001b[0m \u001b[0msignaled\u001b[0m\u001b[1;33m\u001b[0m\u001b[1;33m\u001b[0m\u001b[0m\n\u001b[0;32m    553\u001b[0m \u001b[1;33m\u001b[0m\u001b[0m\n",
      "\u001b[1;32m~\\Anaconda3\\envs\\ml\\lib\\threading.py\u001b[0m in \u001b[0;36mwait\u001b[1;34m(self, timeout)\u001b[0m\n\u001b[0;32m    297\u001b[0m             \u001b[1;32melse\u001b[0m\u001b[1;33m:\u001b[0m\u001b[1;33m\u001b[0m\u001b[1;33m\u001b[0m\u001b[0m\n\u001b[0;32m    298\u001b[0m                 \u001b[1;32mif\u001b[0m \u001b[0mtimeout\u001b[0m \u001b[1;33m>\u001b[0m \u001b[1;36m0\u001b[0m\u001b[1;33m:\u001b[0m\u001b[1;33m\u001b[0m\u001b[1;33m\u001b[0m\u001b[0m\n\u001b[1;32m--> 299\u001b[1;33m                     \u001b[0mgotit\u001b[0m \u001b[1;33m=\u001b[0m \u001b[0mwaiter\u001b[0m\u001b[1;33m.\u001b[0m\u001b[0macquire\u001b[0m\u001b[1;33m(\u001b[0m\u001b[1;32mTrue\u001b[0m\u001b[1;33m,\u001b[0m \u001b[0mtimeout\u001b[0m\u001b[1;33m)\u001b[0m\u001b[1;33m\u001b[0m\u001b[1;33m\u001b[0m\u001b[0m\n\u001b[0m\u001b[0;32m    300\u001b[0m                 \u001b[1;32melse\u001b[0m\u001b[1;33m:\u001b[0m\u001b[1;33m\u001b[0m\u001b[1;33m\u001b[0m\u001b[0m\n\u001b[0;32m    301\u001b[0m                     \u001b[0mgotit\u001b[0m \u001b[1;33m=\u001b[0m \u001b[0mwaiter\u001b[0m\u001b[1;33m.\u001b[0m\u001b[0macquire\u001b[0m\u001b[1;33m(\u001b[0m\u001b[1;32mFalse\u001b[0m\u001b[1;33m)\u001b[0m\u001b[1;33m\u001b[0m\u001b[1;33m\u001b[0m\u001b[0m\n",
      "\u001b[1;31mKeyboardInterrupt\u001b[0m: "
     ]
    }
   ],
   "source": [
    "batch_size = 32 # note that more GPU memory is required after unfreezing the body\n",
    "print('Train on {} samples, val on {} samples, with batch size {}.'.format(num_train, num_val, batch_size))\n",
    "model.fit_generator(data_generator_wrapper(lines[:num_train], batch_size, input_shape, anchors, num_classes),\n",
    "    steps_per_epoch=max(1, num_train//batch_size),\n",
    "    validation_data=data_generator_wrapper(lines[num_train:], batch_size, input_shape, anchors, num_classes),\n",
    "    validation_steps=max(1, num_val//batch_size),\n",
    "    epochs=100,\n",
    "    initial_epoch=0,\n",
    "    callbacks=[checkpoint, reduce_lr, early_stopping])"
   ]
  },
  {
   "cell_type": "code",
   "execution_count": 19,
   "metadata": {
    "ExecuteTime": {
     "end_time": "2020-01-03T16:33:09.786286Z",
     "start_time": "2020-01-03T04:28:27.311358Z"
    },
    "deletable": false,
    "editable": false,
    "run_control": {
     "frozen": true
    },
    "scrolled": true
   },
   "outputs": [
    {
     "name": "stdout",
     "output_type": "stream",
     "text": [
      "Train on 47997 samples, val on 5333 samples, with batch size 32.\n",
      "Epoch 1/100\n",
      "1499/1499 [==============================] - 7595s 5s/step - loss: 56.0141 - val_loss: 20.1968\n",
      "Epoch 2/100\n",
      "1499/1499 [==============================] - 6686s 4s/step - loss: 14.6628 - val_loss: 11.9098\n",
      "Epoch 3/100\n",
      "1499/1499 [==============================] - 6652s 4s/step - loss: 9.7116 - val_loss: 9.1515\n",
      "Epoch 4/100\n",
      " 869/1499 [================>.............] - ETA: 4:32:23 - loss: 7.9760"
     ]
    },
    {
     "ename": "KeyboardInterrupt",
     "evalue": "",
     "output_type": "error",
     "traceback": [
      "\u001b[1;31m---------------------------------------------------------------------------\u001b[0m",
      "\u001b[1;31mKeyboardInterrupt\u001b[0m                         Traceback (most recent call last)",
      "\u001b[1;32m<ipython-input-19-931906e95b1e>\u001b[0m in \u001b[0;36m<module>\u001b[1;34m\u001b[0m\n\u001b[0;32m      7\u001b[0m     \u001b[0mepochs\u001b[0m\u001b[1;33m=\u001b[0m\u001b[1;36m100\u001b[0m\u001b[1;33m,\u001b[0m\u001b[1;33m\u001b[0m\u001b[1;33m\u001b[0m\u001b[0m\n\u001b[0;32m      8\u001b[0m     \u001b[0minitial_epoch\u001b[0m\u001b[1;33m=\u001b[0m\u001b[1;36m0\u001b[0m\u001b[1;33m,\u001b[0m\u001b[1;33m\u001b[0m\u001b[1;33m\u001b[0m\u001b[0m\n\u001b[1;32m----> 9\u001b[1;33m     callbacks=[checkpoint, reduce_lr, early_stopping])\n\u001b[0m",
      "\u001b[1;32m~\\Anaconda3\\envs\\ml\\lib\\site-packages\\keras\\legacy\\interfaces.py\u001b[0m in \u001b[0;36mwrapper\u001b[1;34m(*args, **kwargs)\u001b[0m\n\u001b[0;32m     89\u001b[0m                 warnings.warn('Update your `' + object_name + '` call to the ' +\n\u001b[0;32m     90\u001b[0m                               'Keras 2 API: ' + signature, stacklevel=2)\n\u001b[1;32m---> 91\u001b[1;33m             \u001b[1;32mreturn\u001b[0m \u001b[0mfunc\u001b[0m\u001b[1;33m(\u001b[0m\u001b[1;33m*\u001b[0m\u001b[0margs\u001b[0m\u001b[1;33m,\u001b[0m \u001b[1;33m**\u001b[0m\u001b[0mkwargs\u001b[0m\u001b[1;33m)\u001b[0m\u001b[1;33m\u001b[0m\u001b[1;33m\u001b[0m\u001b[0m\n\u001b[0m\u001b[0;32m     92\u001b[0m         \u001b[0mwrapper\u001b[0m\u001b[1;33m.\u001b[0m\u001b[0m_original_function\u001b[0m \u001b[1;33m=\u001b[0m \u001b[0mfunc\u001b[0m\u001b[1;33m\u001b[0m\u001b[1;33m\u001b[0m\u001b[0m\n\u001b[0;32m     93\u001b[0m         \u001b[1;32mreturn\u001b[0m \u001b[0mwrapper\u001b[0m\u001b[1;33m\u001b[0m\u001b[1;33m\u001b[0m\u001b[0m\n",
      "\u001b[1;32m~\\Anaconda3\\envs\\ml\\lib\\site-packages\\keras\\engine\\training.py\u001b[0m in \u001b[0;36mfit_generator\u001b[1;34m(self, generator, steps_per_epoch, epochs, verbose, callbacks, validation_data, validation_steps, validation_freq, class_weight, max_queue_size, workers, use_multiprocessing, shuffle, initial_epoch)\u001b[0m\n\u001b[0;32m   1730\u001b[0m             \u001b[0muse_multiprocessing\u001b[0m\u001b[1;33m=\u001b[0m\u001b[0muse_multiprocessing\u001b[0m\u001b[1;33m,\u001b[0m\u001b[1;33m\u001b[0m\u001b[1;33m\u001b[0m\u001b[0m\n\u001b[0;32m   1731\u001b[0m             \u001b[0mshuffle\u001b[0m\u001b[1;33m=\u001b[0m\u001b[0mshuffle\u001b[0m\u001b[1;33m,\u001b[0m\u001b[1;33m\u001b[0m\u001b[1;33m\u001b[0m\u001b[0m\n\u001b[1;32m-> 1732\u001b[1;33m             initial_epoch=initial_epoch)\n\u001b[0m\u001b[0;32m   1733\u001b[0m \u001b[1;33m\u001b[0m\u001b[0m\n\u001b[0;32m   1734\u001b[0m     \u001b[1;33m@\u001b[0m\u001b[0minterfaces\u001b[0m\u001b[1;33m.\u001b[0m\u001b[0mlegacy_generator_methods_support\u001b[0m\u001b[1;33m\u001b[0m\u001b[1;33m\u001b[0m\u001b[0m\n",
      "\u001b[1;32m~\\Anaconda3\\envs\\ml\\lib\\site-packages\\keras\\engine\\training_generator.py\u001b[0m in \u001b[0;36mfit_generator\u001b[1;34m(model, generator, steps_per_epoch, epochs, verbose, callbacks, validation_data, validation_steps, validation_freq, class_weight, max_queue_size, workers, use_multiprocessing, shuffle, initial_epoch)\u001b[0m\n\u001b[0;32m    183\u001b[0m             \u001b[0mbatch_index\u001b[0m \u001b[1;33m=\u001b[0m \u001b[1;36m0\u001b[0m\u001b[1;33m\u001b[0m\u001b[1;33m\u001b[0m\u001b[0m\n\u001b[0;32m    184\u001b[0m             \u001b[1;32mwhile\u001b[0m \u001b[0msteps_done\u001b[0m \u001b[1;33m<\u001b[0m \u001b[0msteps_per_epoch\u001b[0m\u001b[1;33m:\u001b[0m\u001b[1;33m\u001b[0m\u001b[1;33m\u001b[0m\u001b[0m\n\u001b[1;32m--> 185\u001b[1;33m                 \u001b[0mgenerator_output\u001b[0m \u001b[1;33m=\u001b[0m \u001b[0mnext\u001b[0m\u001b[1;33m(\u001b[0m\u001b[0moutput_generator\u001b[0m\u001b[1;33m)\u001b[0m\u001b[1;33m\u001b[0m\u001b[1;33m\u001b[0m\u001b[0m\n\u001b[0m\u001b[0;32m    186\u001b[0m \u001b[1;33m\u001b[0m\u001b[0m\n\u001b[0;32m    187\u001b[0m                 \u001b[1;32mif\u001b[0m \u001b[1;32mnot\u001b[0m \u001b[0mhasattr\u001b[0m\u001b[1;33m(\u001b[0m\u001b[0mgenerator_output\u001b[0m\u001b[1;33m,\u001b[0m \u001b[1;34m'__len__'\u001b[0m\u001b[1;33m)\u001b[0m\u001b[1;33m:\u001b[0m\u001b[1;33m\u001b[0m\u001b[1;33m\u001b[0m\u001b[0m\n",
      "\u001b[1;32m~\\Anaconda3\\envs\\ml\\lib\\site-packages\\keras\\utils\\data_utils.py\u001b[0m in \u001b[0;36mget\u001b[1;34m(self)\u001b[0m\n\u001b[0;32m    709\u001b[0m                 \u001b[1;32mtry\u001b[0m\u001b[1;33m:\u001b[0m\u001b[1;33m\u001b[0m\u001b[1;33m\u001b[0m\u001b[0m\n\u001b[0;32m    710\u001b[0m                     \u001b[0mfuture\u001b[0m \u001b[1;33m=\u001b[0m \u001b[0mself\u001b[0m\u001b[1;33m.\u001b[0m\u001b[0mqueue\u001b[0m\u001b[1;33m.\u001b[0m\u001b[0mget\u001b[0m\u001b[1;33m(\u001b[0m\u001b[0mblock\u001b[0m\u001b[1;33m=\u001b[0m\u001b[1;32mTrue\u001b[0m\u001b[1;33m)\u001b[0m\u001b[1;33m\u001b[0m\u001b[1;33m\u001b[0m\u001b[0m\n\u001b[1;32m--> 711\u001b[1;33m                     \u001b[0minputs\u001b[0m \u001b[1;33m=\u001b[0m \u001b[0mfuture\u001b[0m\u001b[1;33m.\u001b[0m\u001b[0mget\u001b[0m\u001b[1;33m(\u001b[0m\u001b[0mtimeout\u001b[0m\u001b[1;33m=\u001b[0m\u001b[1;36m30\u001b[0m\u001b[1;33m)\u001b[0m\u001b[1;33m\u001b[0m\u001b[1;33m\u001b[0m\u001b[0m\n\u001b[0m\u001b[0;32m    712\u001b[0m                     \u001b[0mself\u001b[0m\u001b[1;33m.\u001b[0m\u001b[0mqueue\u001b[0m\u001b[1;33m.\u001b[0m\u001b[0mtask_done\u001b[0m\u001b[1;33m(\u001b[0m\u001b[1;33m)\u001b[0m\u001b[1;33m\u001b[0m\u001b[1;33m\u001b[0m\u001b[0m\n\u001b[0;32m    713\u001b[0m                 \u001b[1;32mexcept\u001b[0m \u001b[0mmp\u001b[0m\u001b[1;33m.\u001b[0m\u001b[0mTimeoutError\u001b[0m\u001b[1;33m:\u001b[0m\u001b[1;33m\u001b[0m\u001b[1;33m\u001b[0m\u001b[0m\n",
      "\u001b[1;32m~\\Anaconda3\\envs\\ml\\lib\\multiprocessing\\pool.py\u001b[0m in \u001b[0;36mget\u001b[1;34m(self, timeout)\u001b[0m\n\u001b[0;32m    636\u001b[0m \u001b[1;33m\u001b[0m\u001b[0m\n\u001b[0;32m    637\u001b[0m     \u001b[1;32mdef\u001b[0m \u001b[0mget\u001b[0m\u001b[1;33m(\u001b[0m\u001b[0mself\u001b[0m\u001b[1;33m,\u001b[0m \u001b[0mtimeout\u001b[0m\u001b[1;33m=\u001b[0m\u001b[1;32mNone\u001b[0m\u001b[1;33m)\u001b[0m\u001b[1;33m:\u001b[0m\u001b[1;33m\u001b[0m\u001b[1;33m\u001b[0m\u001b[0m\n\u001b[1;32m--> 638\u001b[1;33m         \u001b[0mself\u001b[0m\u001b[1;33m.\u001b[0m\u001b[0mwait\u001b[0m\u001b[1;33m(\u001b[0m\u001b[0mtimeout\u001b[0m\u001b[1;33m)\u001b[0m\u001b[1;33m\u001b[0m\u001b[1;33m\u001b[0m\u001b[0m\n\u001b[0m\u001b[0;32m    639\u001b[0m         \u001b[1;32mif\u001b[0m \u001b[1;32mnot\u001b[0m \u001b[0mself\u001b[0m\u001b[1;33m.\u001b[0m\u001b[0mready\u001b[0m\u001b[1;33m(\u001b[0m\u001b[1;33m)\u001b[0m\u001b[1;33m:\u001b[0m\u001b[1;33m\u001b[0m\u001b[1;33m\u001b[0m\u001b[0m\n\u001b[0;32m    640\u001b[0m             \u001b[1;32mraise\u001b[0m \u001b[0mTimeoutError\u001b[0m\u001b[1;33m\u001b[0m\u001b[1;33m\u001b[0m\u001b[0m\n",
      "\u001b[1;32m~\\Anaconda3\\envs\\ml\\lib\\multiprocessing\\pool.py\u001b[0m in \u001b[0;36mwait\u001b[1;34m(self, timeout)\u001b[0m\n\u001b[0;32m    633\u001b[0m \u001b[1;33m\u001b[0m\u001b[0m\n\u001b[0;32m    634\u001b[0m     \u001b[1;32mdef\u001b[0m \u001b[0mwait\u001b[0m\u001b[1;33m(\u001b[0m\u001b[0mself\u001b[0m\u001b[1;33m,\u001b[0m \u001b[0mtimeout\u001b[0m\u001b[1;33m=\u001b[0m\u001b[1;32mNone\u001b[0m\u001b[1;33m)\u001b[0m\u001b[1;33m:\u001b[0m\u001b[1;33m\u001b[0m\u001b[1;33m\u001b[0m\u001b[0m\n\u001b[1;32m--> 635\u001b[1;33m         \u001b[0mself\u001b[0m\u001b[1;33m.\u001b[0m\u001b[0m_event\u001b[0m\u001b[1;33m.\u001b[0m\u001b[0mwait\u001b[0m\u001b[1;33m(\u001b[0m\u001b[0mtimeout\u001b[0m\u001b[1;33m)\u001b[0m\u001b[1;33m\u001b[0m\u001b[1;33m\u001b[0m\u001b[0m\n\u001b[0m\u001b[0;32m    636\u001b[0m \u001b[1;33m\u001b[0m\u001b[0m\n\u001b[0;32m    637\u001b[0m     \u001b[1;32mdef\u001b[0m \u001b[0mget\u001b[0m\u001b[1;33m(\u001b[0m\u001b[0mself\u001b[0m\u001b[1;33m,\u001b[0m \u001b[0mtimeout\u001b[0m\u001b[1;33m=\u001b[0m\u001b[1;32mNone\u001b[0m\u001b[1;33m)\u001b[0m\u001b[1;33m:\u001b[0m\u001b[1;33m\u001b[0m\u001b[1;33m\u001b[0m\u001b[0m\n",
      "\u001b[1;32m~\\Anaconda3\\envs\\ml\\lib\\threading.py\u001b[0m in \u001b[0;36mwait\u001b[1;34m(self, timeout)\u001b[0m\n\u001b[0;32m    549\u001b[0m             \u001b[0msignaled\u001b[0m \u001b[1;33m=\u001b[0m \u001b[0mself\u001b[0m\u001b[1;33m.\u001b[0m\u001b[0m_flag\u001b[0m\u001b[1;33m\u001b[0m\u001b[1;33m\u001b[0m\u001b[0m\n\u001b[0;32m    550\u001b[0m             \u001b[1;32mif\u001b[0m \u001b[1;32mnot\u001b[0m \u001b[0msignaled\u001b[0m\u001b[1;33m:\u001b[0m\u001b[1;33m\u001b[0m\u001b[1;33m\u001b[0m\u001b[0m\n\u001b[1;32m--> 551\u001b[1;33m                 \u001b[0msignaled\u001b[0m \u001b[1;33m=\u001b[0m \u001b[0mself\u001b[0m\u001b[1;33m.\u001b[0m\u001b[0m_cond\u001b[0m\u001b[1;33m.\u001b[0m\u001b[0mwait\u001b[0m\u001b[1;33m(\u001b[0m\u001b[0mtimeout\u001b[0m\u001b[1;33m)\u001b[0m\u001b[1;33m\u001b[0m\u001b[1;33m\u001b[0m\u001b[0m\n\u001b[0m\u001b[0;32m    552\u001b[0m             \u001b[1;32mreturn\u001b[0m \u001b[0msignaled\u001b[0m\u001b[1;33m\u001b[0m\u001b[1;33m\u001b[0m\u001b[0m\n\u001b[0;32m    553\u001b[0m \u001b[1;33m\u001b[0m\u001b[0m\n",
      "\u001b[1;32m~\\Anaconda3\\envs\\ml\\lib\\threading.py\u001b[0m in \u001b[0;36mwait\u001b[1;34m(self, timeout)\u001b[0m\n\u001b[0;32m    297\u001b[0m             \u001b[1;32melse\u001b[0m\u001b[1;33m:\u001b[0m\u001b[1;33m\u001b[0m\u001b[1;33m\u001b[0m\u001b[0m\n\u001b[0;32m    298\u001b[0m                 \u001b[1;32mif\u001b[0m \u001b[0mtimeout\u001b[0m \u001b[1;33m>\u001b[0m \u001b[1;36m0\u001b[0m\u001b[1;33m:\u001b[0m\u001b[1;33m\u001b[0m\u001b[1;33m\u001b[0m\u001b[0m\n\u001b[1;32m--> 299\u001b[1;33m                     \u001b[0mgotit\u001b[0m \u001b[1;33m=\u001b[0m \u001b[0mwaiter\u001b[0m\u001b[1;33m.\u001b[0m\u001b[0macquire\u001b[0m\u001b[1;33m(\u001b[0m\u001b[1;32mTrue\u001b[0m\u001b[1;33m,\u001b[0m \u001b[0mtimeout\u001b[0m\u001b[1;33m)\u001b[0m\u001b[1;33m\u001b[0m\u001b[1;33m\u001b[0m\u001b[0m\n\u001b[0m\u001b[0;32m    300\u001b[0m                 \u001b[1;32melse\u001b[0m\u001b[1;33m:\u001b[0m\u001b[1;33m\u001b[0m\u001b[1;33m\u001b[0m\u001b[0m\n\u001b[0;32m    301\u001b[0m                     \u001b[0mgotit\u001b[0m \u001b[1;33m=\u001b[0m \u001b[0mwaiter\u001b[0m\u001b[1;33m.\u001b[0m\u001b[0macquire\u001b[0m\u001b[1;33m(\u001b[0m\u001b[1;32mFalse\u001b[0m\u001b[1;33m)\u001b[0m\u001b[1;33m\u001b[0m\u001b[1;33m\u001b[0m\u001b[0m\n",
      "\u001b[1;31mKeyboardInterrupt\u001b[0m: "
     ]
    }
   ],
   "source": [
    "batch_size = 32 # note that more GPU memory is required after unfreezing the body\n",
    "print('Train on {} samples, val on {} samples, with batch size {}.'.format(num_train, num_val, batch_size))\n",
    "model.fit_generator(data_generator_wrapper(lines[:num_train], batch_size, input_shape, anchors, num_classes),\n",
    "    steps_per_epoch=max(1, num_train//batch_size),\n",
    "    validation_data=data_generator_wrapper(lines[num_train:], batch_size, input_shape, anchors, num_classes),\n",
    "    validation_steps=max(1, num_val//batch_size),\n",
    "    epochs=100,\n",
    "    initial_epoch=0,\n",
    "    callbacks=[checkpoint, reduce_lr, early_stopping])"
   ]
  },
  {
   "cell_type": "code",
   "execution_count": 20,
   "metadata": {
    "ExecuteTime": {
     "end_time": "2020-01-05T16:10:07.373049Z",
     "start_time": "2020-01-05T16:10:06.404935Z"
    },
    "deletable": false,
    "editable": false,
    "run_control": {
     "frozen": true
    }
   },
   "outputs": [],
   "source": [
    "model.save('tiny-yolov3.h5')"
   ]
  },
  {
   "cell_type": "code",
   "execution_count": 20,
   "metadata": {
    "ExecuteTime": {
     "end_time": "2020-01-06T17:13:23.329041Z",
     "start_time": "2020-01-06T17:13:22.615888Z"
    },
    "deletable": false,
    "editable": false,
    "run_control": {
     "frozen": true
    }
   },
   "outputs": [],
   "source": [
    "model.save_weights('tiny-yolov3.weights')"
   ]
  },
  {
   "cell_type": "markdown",
   "metadata": {},
   "source": [
    "### Get rid of last layer"
   ]
  },
  {
   "cell_type": "code",
   "execution_count": 25,
   "metadata": {
    "ExecuteTime": {
     "end_time": "2020-01-07T22:33:54.946411Z",
     "start_time": "2020-01-07T22:33:54.938411Z"
    }
   },
   "outputs": [],
   "source": [
    "def create_tiny_model(input_shape, anchors, num_classes, load_pretrained=True, freeze_body=2,\n",
    "            weights_path='model_data/tiny_yolo_weights.h5'):\n",
    "    '''create the training model, for Tiny YOLOv3'''\n",
    "    K.clear_session() # get a new session\n",
    "    image_input = Input(shape=(None, None, 3))\n",
    "    h, w = input_shape\n",
    "    num_anchors = len(anchors)\n",
    "\n",
    "    y_true = [Input(shape=(h//{0:32, 1:16}[l], w//{0:32, 1:16}[l], \\\n",
    "        num_anchors//2, num_classes+5)) for l in range(2)]\n",
    "\n",
    "    model_body = tiny_yolo_body(image_input, num_anchors//2, num_classes)\n",
    "    print('Create Tiny YOLOv3 model with {} anchors and {} classes.'.format(num_anchors, num_classes))\n",
    "\n",
    "    if load_pretrained:\n",
    "        model_body.load_weights(weights_path, by_name=True, skip_mismatch=True)\n",
    "        print('Load weights {}.'.format(weights_path))\n",
    "        if freeze_body in [1, 2]:\n",
    "            # Freeze the darknet body or freeze all but 2 output layers.\n",
    "            num = (20, len(model_body.layers)-2)[freeze_body-1]\n",
    "            for i in range(num): model_body.layers[i].trainable = False\n",
    "            print('Freeze the first {} layers of total {} layers.'.format(num, len(model_body.layers)))\n",
    "\n",
    "#     model_loss = Lambda(yolo_loss, output_shape=(1,), name='yolo_loss',\n",
    "#         arguments={'anchors': anchors, 'num_classes': num_classes, 'ignore_thresh': 0.7})(\n",
    "#         [*model_body.output, *y_true])\n",
    "    model = Model([model_body.input], [*model_body.output])\n",
    "\n",
    "    return model"
   ]
  },
  {
   "cell_type": "code",
   "execution_count": 26,
   "metadata": {
    "ExecuteTime": {
     "end_time": "2020-01-07T22:33:56.898119Z",
     "start_time": "2020-01-07T22:33:55.982089Z"
    }
   },
   "outputs": [
    {
     "name": "stdout",
     "output_type": "stream",
     "text": [
      "Create Tiny YOLOv3 model with 6 anchors and 1 classes.\n"
     ]
    }
   ],
   "source": [
    "model = create_tiny_model(input_shape, anchors, num_classes, load_pretrained=False,\n",
    "            freeze_body=2)"
   ]
  },
  {
   "cell_type": "code",
   "execution_count": 27,
   "metadata": {
    "ExecuteTime": {
     "end_time": "2020-01-07T22:33:56.941112Z",
     "start_time": "2020-01-07T22:33:56.900111Z"
    }
   },
   "outputs": [
    {
     "name": "stderr",
     "output_type": "stream",
     "text": [
      "C:\\Users\\Anti\\Anaconda3\\envs\\ml\\lib\\site-packages\\keras\\engine\\training_utils.py:819: UserWarning: Output conv2d_10 missing from loss dictionary. We assume this was done on purpose. The fit and evaluate APIs will not be expecting any data to be passed to conv2d_10.\n",
      "  'be expecting any data to be passed to {0}.'.format(name))\n",
      "C:\\Users\\Anti\\Anaconda3\\envs\\ml\\lib\\site-packages\\keras\\engine\\training_utils.py:819: UserWarning: Output conv2d_13 missing from loss dictionary. We assume this was done on purpose. The fit and evaluate APIs will not be expecting any data to be passed to conv2d_13.\n",
      "  'be expecting any data to be passed to {0}.'.format(name))\n"
     ]
    }
   ],
   "source": [
    "model.compile(optimizer=Adam(lr=1e-4))"
   ]
  },
  {
   "cell_type": "code",
   "execution_count": 22,
   "metadata": {
    "ExecuteTime": {
     "end_time": "2020-01-07T01:27:08.784938Z",
     "start_time": "2020-01-07T01:27:08.721938Z"
    }
   },
   "outputs": [],
   "source": [
    "model.load_weights('tiny-yolov3.h5', by_name=True)"
   ]
  },
  {
   "cell_type": "code",
   "execution_count": 23,
   "metadata": {
    "ExecuteTime": {
     "end_time": "2020-01-07T01:27:08.800937Z",
     "start_time": "2020-01-07T01:27:08.787936Z"
    },
    "scrolled": true
   },
   "outputs": [
    {
     "name": "stdout",
     "output_type": "stream",
     "text": [
      "Model: \"model_2\"\n",
      "__________________________________________________________________________________________________\n",
      "Layer (type)                    Output Shape         Param #     Connected to                     \n",
      "==================================================================================================\n",
      "input_1 (InputLayer)            (None, None, None, 3 0                                            \n",
      "__________________________________________________________________________________________________\n",
      "conv2d_1 (Conv2D)               (None, None, None, 1 432         input_1[0][0]                    \n",
      "__________________________________________________________________________________________________\n",
      "batch_normalization_1 (BatchNor (None, None, None, 1 64          conv2d_1[0][0]                   \n",
      "__________________________________________________________________________________________________\n",
      "leaky_re_lu_1 (LeakyReLU)       (None, None, None, 1 0           batch_normalization_1[0][0]      \n",
      "__________________________________________________________________________________________________\n",
      "max_pooling2d_1 (MaxPooling2D)  (None, None, None, 1 0           leaky_re_lu_1[0][0]              \n",
      "__________________________________________________________________________________________________\n",
      "conv2d_2 (Conv2D)               (None, None, None, 3 4608        max_pooling2d_1[0][0]            \n",
      "__________________________________________________________________________________________________\n",
      "batch_normalization_2 (BatchNor (None, None, None, 3 128         conv2d_2[0][0]                   \n",
      "__________________________________________________________________________________________________\n",
      "leaky_re_lu_2 (LeakyReLU)       (None, None, None, 3 0           batch_normalization_2[0][0]      \n",
      "__________________________________________________________________________________________________\n",
      "max_pooling2d_2 (MaxPooling2D)  (None, None, None, 3 0           leaky_re_lu_2[0][0]              \n",
      "__________________________________________________________________________________________________\n",
      "conv2d_3 (Conv2D)               (None, None, None, 6 18432       max_pooling2d_2[0][0]            \n",
      "__________________________________________________________________________________________________\n",
      "batch_normalization_3 (BatchNor (None, None, None, 6 256         conv2d_3[0][0]                   \n",
      "__________________________________________________________________________________________________\n",
      "leaky_re_lu_3 (LeakyReLU)       (None, None, None, 6 0           batch_normalization_3[0][0]      \n",
      "__________________________________________________________________________________________________\n",
      "max_pooling2d_3 (MaxPooling2D)  (None, None, None, 6 0           leaky_re_lu_3[0][0]              \n",
      "__________________________________________________________________________________________________\n",
      "conv2d_4 (Conv2D)               (None, None, None, 1 73728       max_pooling2d_3[0][0]            \n",
      "__________________________________________________________________________________________________\n",
      "batch_normalization_4 (BatchNor (None, None, None, 1 512         conv2d_4[0][0]                   \n",
      "__________________________________________________________________________________________________\n",
      "leaky_re_lu_4 (LeakyReLU)       (None, None, None, 1 0           batch_normalization_4[0][0]      \n",
      "__________________________________________________________________________________________________\n",
      "max_pooling2d_4 (MaxPooling2D)  (None, None, None, 1 0           leaky_re_lu_4[0][0]              \n",
      "__________________________________________________________________________________________________\n",
      "conv2d_5 (Conv2D)               (None, None, None, 2 294912      max_pooling2d_4[0][0]            \n",
      "__________________________________________________________________________________________________\n",
      "batch_normalization_5 (BatchNor (None, None, None, 2 1024        conv2d_5[0][0]                   \n",
      "__________________________________________________________________________________________________\n",
      "leaky_re_lu_5 (LeakyReLU)       (None, None, None, 2 0           batch_normalization_5[0][0]      \n",
      "__________________________________________________________________________________________________\n",
      "max_pooling2d_5 (MaxPooling2D)  (None, None, None, 2 0           leaky_re_lu_5[0][0]              \n",
      "__________________________________________________________________________________________________\n",
      "conv2d_6 (Conv2D)               (None, None, None, 5 1179648     max_pooling2d_5[0][0]            \n",
      "__________________________________________________________________________________________________\n",
      "batch_normalization_6 (BatchNor (None, None, None, 5 2048        conv2d_6[0][0]                   \n",
      "__________________________________________________________________________________________________\n",
      "leaky_re_lu_6 (LeakyReLU)       (None, None, None, 5 0           batch_normalization_6[0][0]      \n",
      "__________________________________________________________________________________________________\n",
      "max_pooling2d_6 (MaxPooling2D)  (None, None, None, 5 0           leaky_re_lu_6[0][0]              \n",
      "__________________________________________________________________________________________________\n",
      "conv2d_7 (Conv2D)               (None, None, None, 1 4718592     max_pooling2d_6[0][0]            \n",
      "__________________________________________________________________________________________________\n",
      "batch_normalization_7 (BatchNor (None, None, None, 1 4096        conv2d_7[0][0]                   \n",
      "__________________________________________________________________________________________________\n",
      "leaky_re_lu_7 (LeakyReLU)       (None, None, None, 1 0           batch_normalization_7[0][0]      \n",
      "__________________________________________________________________________________________________\n",
      "conv2d_8 (Conv2D)               (None, None, None, 2 262144      leaky_re_lu_7[0][0]              \n",
      "__________________________________________________________________________________________________\n",
      "batch_normalization_8 (BatchNor (None, None, None, 2 1024        conv2d_8[0][0]                   \n",
      "__________________________________________________________________________________________________\n",
      "leaky_re_lu_8 (LeakyReLU)       (None, None, None, 2 0           batch_normalization_8[0][0]      \n",
      "__________________________________________________________________________________________________\n",
      "conv2d_11 (Conv2D)              (None, None, None, 1 32768       leaky_re_lu_8[0][0]              \n",
      "__________________________________________________________________________________________________\n",
      "batch_normalization_10 (BatchNo (None, None, None, 1 512         conv2d_11[0][0]                  \n",
      "__________________________________________________________________________________________________\n",
      "leaky_re_lu_10 (LeakyReLU)      (None, None, None, 1 0           batch_normalization_10[0][0]     \n",
      "__________________________________________________________________________________________________\n",
      "up_sampling2d_1 (UpSampling2D)  (None, None, None, 1 0           leaky_re_lu_10[0][0]             \n",
      "__________________________________________________________________________________________________\n",
      "concatenate_1 (Concatenate)     (None, None, None, 3 0           up_sampling2d_1[0][0]            \n",
      "                                                                 leaky_re_lu_5[0][0]              \n",
      "__________________________________________________________________________________________________\n",
      "conv2d_9 (Conv2D)               (None, None, None, 5 1179648     leaky_re_lu_8[0][0]              \n",
      "__________________________________________________________________________________________________\n",
      "conv2d_12 (Conv2D)              (None, None, None, 2 884736      concatenate_1[0][0]              \n",
      "__________________________________________________________________________________________________\n",
      "batch_normalization_9 (BatchNor (None, None, None, 5 2048        conv2d_9[0][0]                   \n",
      "__________________________________________________________________________________________________\n",
      "batch_normalization_11 (BatchNo (None, None, None, 2 1024        conv2d_12[0][0]                  \n",
      "__________________________________________________________________________________________________\n",
      "leaky_re_lu_9 (LeakyReLU)       (None, None, None, 5 0           batch_normalization_9[0][0]      \n",
      "__________________________________________________________________________________________________\n",
      "leaky_re_lu_11 (LeakyReLU)      (None, None, None, 2 0           batch_normalization_11[0][0]     \n",
      "__________________________________________________________________________________________________\n",
      "conv2d_10 (Conv2D)              (None, None, None, 1 9234        leaky_re_lu_9[0][0]              \n",
      "__________________________________________________________________________________________________\n",
      "conv2d_13 (Conv2D)              (None, None, None, 1 4626        leaky_re_lu_11[0][0]             \n",
      "==================================================================================================\n",
      "Total params: 8,676,244\n",
      "Trainable params: 8,669,876\n",
      "Non-trainable params: 6,368\n",
      "__________________________________________________________________________________________________\n"
     ]
    }
   ],
   "source": [
    "model.summary()"
   ]
  },
  {
   "cell_type": "code",
   "execution_count": 103,
   "metadata": {
    "ExecuteTime": {
     "end_time": "2020-01-07T02:04:57.770281Z",
     "start_time": "2020-01-07T02:04:57.687272Z"
    }
   },
   "outputs": [],
   "source": [
    "img = Image.open('../face_detection/znrixntqqb_0.png')\n",
    "boxed_image = letterbox_image(img, (416,416))\n",
    "image_data = np.array(boxed_image, dtype='float32')\n",
    "image_data /= 255.\n",
    "image_data = np.expand_dims(image_data, 0) "
   ]
  },
  {
   "cell_type": "code",
   "execution_count": 104,
   "metadata": {
    "ExecuteTime": {
     "end_time": "2020-01-07T02:04:57.902271Z",
     "start_time": "2020-01-07T02:04:57.868274Z"
    }
   },
   "outputs": [
    {
     "data": {
      "text/plain": [
       "[array([[[[-4.33202356e-01, -3.14866245e-01,  8.05194378e-02, ...,\n",
       "            1.28651108e-03, -1.34121008e+01,  1.22602880e+00],\n",
       "          [-6.32266581e-01, -9.82266903e-01,  1.68750763e-01, ...,\n",
       "           -4.53422591e-02, -1.38912964e+01,  1.52211189e+00],\n",
       "          [-2.38091558e-01, -8.88163447e-01,  1.90824598e-01, ...,\n",
       "           -5.72593808e-02, -1.40403900e+01,  1.56430185e+00],\n",
       "          ...,\n",
       "          [-3.53866488e-01, -1.18397212e+00,  2.43706271e-01, ...,\n",
       "           -1.00950435e-01, -1.43914499e+01,  1.80051422e+00],\n",
       "          [-3.50506574e-01, -1.11416805e+00,  1.14033826e-01, ...,\n",
       "           -1.06429085e-01, -1.46077070e+01,  1.82597685e+00],\n",
       "          [-8.33565444e-02, -8.38000417e-01, -5.63848913e-01, ...,\n",
       "           -4.25685048e-02, -1.38265724e+01,  1.55744076e+00]],\n",
       " \n",
       "         [[-2.28478372e-01, -8.37853253e-02, -1.14372410e-01, ...,\n",
       "           -8.60873237e-03, -1.28828554e+01,  1.31421709e+00],\n",
       "          [-1.31293535e-01, -4.32347238e-01,  6.76281527e-02, ...,\n",
       "           -5.64088523e-02, -1.33711863e+01,  1.68201470e+00],\n",
       "          [-2.61188336e-02, -2.76710451e-01,  1.23488650e-01, ...,\n",
       "           -8.09101015e-02, -1.34024630e+01,  1.74279964e+00],\n",
       "          ...,\n",
       "          [-7.21020252e-02, -2.15057105e-01,  1.47061706e-01, ...,\n",
       "           -1.47305965e-01, -1.41582813e+01,  2.07567692e+00],\n",
       "          [ 7.75988102e-02, -2.67796040e-01,  1.10930204e-02, ...,\n",
       "           -1.63678974e-01, -1.43934345e+01,  2.11738300e+00],\n",
       "          [ 1.31613880e-01, -4.78349417e-01, -8.65700066e-01, ...,\n",
       "           -8.96657854e-02, -1.30862303e+01,  1.67263162e+00]],\n",
       " \n",
       "         [[-5.50526917e-01,  2.41982862e-01, -1.56509846e-01, ...,\n",
       "            6.16486222e-02, -1.28709230e+01,  1.23546720e+00],\n",
       "          [ 4.87954319e-02, -2.39580199e-02, -4.44093114e-03, ...,\n",
       "            5.54942302e-02, -1.28952131e+01,  1.49923325e+00],\n",
       "          [-1.03882045e-01,  1.28297165e-01,  1.14375398e-01, ...,\n",
       "            2.05474012e-02, -1.31464977e+01,  1.58970952e+00],\n",
       "          ...,\n",
       "          [-5.03126442e-01,  6.03268147e-01,  2.43840247e-01, ...,\n",
       "           -5.63293993e-02, -1.32850380e+01,  1.77908015e+00],\n",
       "          [-1.76152825e-01,  1.03054166e-01,  1.13618590e-01, ...,\n",
       "           -9.22335461e-02, -1.37012529e+01,  1.93804550e+00],\n",
       "          [-4.90398854e-02, -5.52499950e-01, -6.73194706e-01, ...,\n",
       "           -4.34385464e-02, -1.25634890e+01,  1.58968842e+00]],\n",
       " \n",
       "         ...,\n",
       " \n",
       "         [[-2.73293316e-01, -3.64820719e-01,  1.65909186e-01, ...,\n",
       "           -3.89372483e-02, -1.41240492e+01,  1.43550563e+00],\n",
       "          [ 4.42961790e-03, -1.74390352e+00,  3.61669391e-01, ...,\n",
       "           -4.77696098e-02, -1.44912624e+01,  1.63896525e+00],\n",
       "          [ 3.59113395e-01, -2.02520657e+00,  7.10017741e-01, ...,\n",
       "           -5.66641577e-02, -1.47835531e+01,  1.56197762e+00],\n",
       "          ...,\n",
       "          [-8.54054332e-01, -1.36352336e+00,  5.25732338e-01, ...,\n",
       "           -1.41164646e-01, -1.55134954e+01,  1.65411162e+00],\n",
       "          [-2.02442870e-01, -1.61449564e+00,  1.95893586e-01, ...,\n",
       "           -1.54924333e-01, -1.64983006e+01,  1.88832557e+00],\n",
       "          [-6.63555339e-02, -1.66197181e+00, -7.86834180e-01, ...,\n",
       "           -8.03285167e-02, -1.45796175e+01,  1.67219830e+00]],\n",
       " \n",
       "         [[-9.63073969e-02,  2.42275968e-02,  3.04641873e-01, ...,\n",
       "           -8.58243257e-02, -1.45289526e+01,  1.72569585e+00],\n",
       "          [-1.29838660e-01, -7.72257686e-01,  2.67346054e-01, ...,\n",
       "           -1.46682590e-01, -1.48546152e+01,  2.06673694e+00],\n",
       "          [ 7.01328292e-02, -8.17814112e-01,  3.18429798e-01, ...,\n",
       "           -1.75737292e-01, -1.57064209e+01,  2.00560188e+00],\n",
       "          ...,\n",
       "          [-1.65899947e-01, -6.69147074e-01,  1.63030595e-01, ...,\n",
       "           -2.25345924e-01, -1.54495955e+01,  1.99294198e+00],\n",
       "          [ 1.30661711e-01, -7.54020095e-01, -6.35313243e-03, ...,\n",
       "           -2.27906466e-01, -1.58834925e+01,  2.15272307e+00],\n",
       "          [-1.12098388e-01, -1.07263339e+00, -9.39467967e-01, ...,\n",
       "           -1.25382572e-01, -1.39718485e+01,  1.80359423e+00]],\n",
       " \n",
       "         [[-1.81831464e-01,  5.96972644e-01,  2.39417076e-01, ...,\n",
       "           -4.89554070e-02, -1.32676945e+01,  1.47066593e+00],\n",
       "          [-3.53893578e-01,  4.79841650e-01,  1.74602196e-01, ...,\n",
       "           -1.04847200e-01, -1.36304750e+01,  1.76397288e+00],\n",
       "          [-3.67375463e-01,  5.73661149e-01,  1.09836645e-01, ...,\n",
       "           -1.24708697e-01, -1.41312342e+01,  1.77805889e+00],\n",
       "          ...,\n",
       "          [-1.55604765e-01,  2.10576653e-01,  5.24779409e-02, ...,\n",
       "           -1.42130360e-01, -1.31238165e+01,  1.75804055e+00],\n",
       "          [-8.59968588e-02,  2.16181934e-01, -2.80385334e-02, ...,\n",
       "           -1.42565191e-01, -1.32622108e+01,  1.81942165e+00],\n",
       "          [-2.85545528e-01, -3.23428512e-01, -6.02324665e-01, ...,\n",
       "           -7.04800263e-02, -1.21673975e+01,  1.54316151e+00]]]],\n",
       "       dtype=float32),\n",
       " array([[[[-9.20661867e-01, -1.85503244e-01, -1.24076262e-01, ...,\n",
       "           -5.16047657e-01, -1.24204140e+01,  1.57760954e+00],\n",
       "          [ 1.26001582e-01,  6.35855272e-02,  2.70066947e-01, ...,\n",
       "           -6.25062943e-01, -1.37152319e+01,  1.42037630e+00],\n",
       "          [ 2.50166684e-01,  5.54664247e-02,  4.07858670e-01, ...,\n",
       "           -6.41607523e-01, -1.32821026e+01,  1.60353935e+00],\n",
       "          ...,\n",
       "          [ 2.54071385e-01,  2.20520347e-01,  1.13929160e-01, ...,\n",
       "           -3.93198401e-01, -1.33230772e+01,  1.38515913e+00],\n",
       "          [ 1.57365859e-01,  2.56519794e-01,  1.37047306e-01, ...,\n",
       "           -3.39451432e-01, -1.39863234e+01,  1.21439612e+00],\n",
       "          [ 2.65534878e-01,  4.60190803e-01, -5.93715549e-01, ...,\n",
       "           -3.11754346e-01, -1.35354795e+01,  1.14742351e+00]],\n",
       " \n",
       "         [[-8.19974720e-01, -4.94974405e-01, -6.58280373e-01, ...,\n",
       "            4.48032767e-02, -1.27715845e+01,  9.19586658e-01],\n",
       "          [ 1.50181949e-01,  2.23966256e-01, -1.55152157e-01, ...,\n",
       "           -1.65366560e-01, -1.43677340e+01,  1.06175852e+00],\n",
       "          [ 4.99069124e-01,  3.74077082e-01, -1.89436853e-01, ...,\n",
       "           -3.02789539e-01, -1.43334503e+01,  1.40333569e+00],\n",
       "          ...,\n",
       "          [ 3.13629180e-01,  5.00077486e-01, -5.36568165e-01, ...,\n",
       "            2.11117357e-01, -1.40859957e+01,  1.05440760e+00],\n",
       "          [ 3.71885777e-01,  4.09685701e-01, -4.73864168e-01, ...,\n",
       "            2.99374402e-01, -1.36054440e+01,  9.96005714e-01],\n",
       "          [ 5.23848295e-01,  5.97822666e-01, -1.35783184e+00, ...,\n",
       "            8.18604901e-02, -1.32097921e+01,  1.02463341e+00]],\n",
       " \n",
       "         [[-9.35174346e-01, -5.18383563e-01, -8.25562239e-01, ...,\n",
       "            1.20333903e-01, -1.40533943e+01,  9.73537445e-01],\n",
       "          [ 2.85411119e-01,  1.97369292e-01, -2.01734006e-01, ...,\n",
       "           -2.46448014e-02, -1.53979301e+01,  1.13404500e+00],\n",
       "          [ 5.25894761e-01,  4.92278010e-01, -2.36994013e-01, ...,\n",
       "           -1.50438190e-01, -1.53291082e+01,  1.38200903e+00],\n",
       "          ...,\n",
       "          [ 3.55789095e-01,  7.23165274e-01, -6.75571978e-01, ...,\n",
       "            3.35465014e-01, -1.40327883e+01,  1.03288531e+00],\n",
       "          [ 4.45429832e-01,  7.09676385e-01, -5.48851430e-01, ...,\n",
       "            3.72174025e-01, -1.32870989e+01,  1.07085800e+00],\n",
       "          [ 3.30730140e-01,  5.24248123e-01, -1.35529149e+00, ...,\n",
       "            2.21495420e-01, -1.30757847e+01,  9.89410877e-01]],\n",
       " \n",
       "         ...,\n",
       " \n",
       "         [[-4.34395045e-01, -1.95689976e-01, -9.40153241e-01, ...,\n",
       "            1.55068159e-01, -1.52252426e+01,  9.00856614e-01],\n",
       "          [ 5.03636420e-01,  4.24481034e-01, -4.32249784e-01, ...,\n",
       "            3.47890466e-01, -1.51384058e+01,  1.11648536e+00],\n",
       "          [ 5.55167317e-01,  5.05941272e-01, -4.70087111e-01, ...,\n",
       "            2.63881832e-01, -1.48341970e+01,  1.28503871e+00],\n",
       "          ...,\n",
       "          [ 4.85424250e-01,  6.39844418e-01, -8.28037262e-01, ...,\n",
       "            6.03990614e-01, -1.40894270e+01,  8.27753961e-01],\n",
       "          [ 3.33752185e-01,  4.07139003e-01, -6.74285889e-01, ...,\n",
       "            6.46735489e-01, -1.36960707e+01,  9.58935738e-01],\n",
       "          [ 2.18959495e-01,  3.45806271e-01, -1.48697019e+00, ...,\n",
       "            4.21317279e-01, -1.39362488e+01,  8.37628961e-01]],\n",
       " \n",
       "         [[-6.05049193e-01, -3.24183047e-01, -8.57728601e-01, ...,\n",
       "            1.15681164e-01, -1.50111122e+01,  8.72950912e-01],\n",
       "          [ 4.33050841e-01,  5.11460841e-01, -3.88395846e-01, ...,\n",
       "            3.04665297e-01, -1.51565390e+01,  1.14768863e+00],\n",
       "          [ 4.73869383e-01,  6.15609765e-01, -4.13353831e-01, ...,\n",
       "            2.13871062e-01, -1.48254690e+01,  1.35893679e+00],\n",
       "          ...,\n",
       "          [ 3.38746637e-01,  5.69853306e-01, -7.67098725e-01, ...,\n",
       "            5.61411142e-01, -1.48208151e+01,  1.02206016e+00],\n",
       "          [ 2.24147990e-01,  4.11151081e-01, -5.92080951e-01, ...,\n",
       "            6.96607471e-01, -1.46593180e+01,  1.15646601e+00],\n",
       "          [ 2.99806327e-01,  3.59788686e-01, -1.43052912e+00, ...,\n",
       "            4.28400218e-01, -1.48190432e+01,  9.17999208e-01]],\n",
       " \n",
       "         [[-2.22789645e-01, -2.78537512e-01, -8.19351077e-02, ...,\n",
       "           -3.55103433e-01, -1.39106922e+01,  1.15540659e+00],\n",
       "          [ 4.57748204e-01,  4.19345289e-01,  4.60315138e-01, ...,\n",
       "           -2.84592599e-01, -1.39827938e+01,  1.17613482e+00],\n",
       "          [ 4.32103425e-01,  3.60214561e-01,  4.18332756e-01, ...,\n",
       "           -3.28780711e-01, -1.41358566e+01,  1.29038286e+00],\n",
       "          ...,\n",
       "          [ 3.53235364e-01,  4.38332886e-01,  2.44664311e-01, ...,\n",
       "           -1.31322235e-01, -1.42821856e+01,  1.14366066e+00],\n",
       "          [ 3.50300133e-01,  4.99252081e-01,  2.80901194e-01, ...,\n",
       "           -3.80576774e-02, -1.37832727e+01,  1.12441063e+00],\n",
       "          [ 6.36989176e-02,  1.49703417e-02, -5.89307189e-01, ...,\n",
       "           -2.34611295e-02, -1.33414917e+01,  1.28583312e+00]]]],\n",
       "       dtype=float32)]"
      ]
     },
     "execution_count": 104,
     "metadata": {},
     "output_type": "execute_result"
    }
   ],
   "source": [
    "pred = model.predict(image_data)\n",
    "pred"
   ]
  },
  {
   "cell_type": "code",
   "execution_count": 105,
   "metadata": {
    "ExecuteTime": {
     "end_time": "2020-01-07T02:04:58.200275Z",
     "start_time": "2020-01-07T02:04:58.041285Z"
    }
   },
   "outputs": [
    {
     "data": {
      "text/plain": [
       "<matplotlib.image.AxesImage at 0x26ff6948dd8>"
      ]
     },
     "execution_count": 105,
     "metadata": {},
     "output_type": "execute_result"
    },
    {
     "data": {
      "image/png": "[encoded data removed]",
      "text/plain": [
       "<Figure size 432x288 with 1 Axes>"
      ]
     },
     "metadata": {
      "needs_background": "light"
     },
     "output_type": "display_data"
    }
   ],
   "source": [
    "plt.imshow(boxed_image)"
   ]
  },
  {
   "cell_type": "code",
   "execution_count": 108,
   "metadata": {
    "ExecuteTime": {
     "end_time": "2020-01-07T02:04:59.307385Z",
     "start_time": "2020-01-07T02:04:59.303387Z"
    },
    "scrolled": true
   },
   "outputs": [],
   "source": [
    "num_layers = len(anchors)//3 # default setting\n",
    "yolo_outputs = pred[:num_layers]\n",
    "y_true = pred[num_layers:]\n",
    "anchor_mask = [[6,7,8], [3,4,5], [0,1,2]] if num_layers==3 else [[3,4,5], [1,2,3]]"
   ]
  },
  {
   "cell_type": "code",
   "execution_count": 109,
   "metadata": {
    "ExecuteTime": {
     "end_time": "2020-01-07T02:04:59.507409Z",
     "start_time": "2020-01-07T02:04:59.492385Z"
    }
   },
   "outputs": [],
   "source": [
    "for l in range(num_layers):\n",
    "    input_shape = K.cast(K.shape(tf.convert_to_tensor(yolo_outputs[l]))[1:3] * 32, K.dtype(tf.convert_to_tensor(yolo_outputs[l])))\n",
    "    m = K.shape(yolo_outputs[0])[0] # batch size, tensor\n",
    "    mf = K.cast(m, K.dtype(tf.convert_to_tensor(yolo_outputs[0])))\n",
    "\n",
    "    grid, raw_pred, pred_xy, pred_wh = yolo_head(tf.convert_to_tensor(yolo_outputs[l]),\n",
    "         anchors[anchor_mask[l]], num_classes, input_shape, calc_loss=True)\n",
    "    pred_box = K.concatenate([pred_xy, pred_wh])"
   ]
  },
  {
   "cell_type": "code",
   "execution_count": 112,
   "metadata": {
    "ExecuteTime": {
     "end_time": "2020-01-07T02:05:00.058411Z",
     "start_time": "2020-01-07T02:05:00.045387Z"
    }
   },
   "outputs": [],
   "source": [
    "box_xy, box_wh, box_confidence, box_class_probs = yolo_head(tf.convert_to_tensor(yolo_outputs[l]),\n",
    "     anchors[anchor_mask[l]], num_classes, input_shape)\n",
    "\n",
    "boxes = yolo_correct_boxes(box_xy, box_wh, input_shape, (416, 416))\n",
    "boxes = K.reshape(boxes, [-1, 4])\n",
    "box_scores = box_confidence * box_class_probs\n",
    "box_scores = K.reshape(box_scores, [-1, num_classes])"
   ]
  },
  {
   "cell_type": "code",
   "execution_count": 113,
   "metadata": {
    "ExecuteTime": {
     "end_time": "2020-01-07T02:05:00.369386Z",
     "start_time": "2020-01-07T02:05:00.364393Z"
    }
   },
   "outputs": [
    {
     "data": {
      "text/plain": [
       "array([[822],\n",
       "       [823],\n",
       "       [901]], dtype=int64)"
      ]
     },
     "execution_count": 113,
     "metadata": {},
     "output_type": "execute_result"
    }
   ],
   "source": [
    "np.argwhere(box_scores.numpy()>0.1)[:, :1]"
   ]
  },
  {
   "cell_type": "code",
   "execution_count": 114,
   "metadata": {
    "ExecuteTime": {
     "end_time": "2020-01-07T02:05:05.083527Z",
     "start_time": "2020-01-07T02:05:05.076555Z"
    }
   },
   "outputs": [
    {
     "data": {
      "text/plain": [
       "array([[[0.90720034]]], dtype=float32)"
      ]
     },
     "execution_count": 114,
     "metadata": {},
     "output_type": "execute_result"
    }
   ],
   "source": [
    "box_scores.numpy()[np.argwhere(box_scores.numpy()>0.5)[:, :1]]"
   ]
  },
  {
   "cell_type": "code",
   "execution_count": 115,
   "metadata": {
    "ExecuteTime": {
     "end_time": "2020-01-07T02:05:05.313530Z",
     "start_time": "2020-01-07T02:05:05.308551Z"
    }
   },
   "outputs": [
    {
     "data": {
      "text/plain": [
       "array([[[165.03624, 216.19621, 182.18805, 238.8812 ]]], dtype=float32)"
      ]
     },
     "execution_count": 115,
     "metadata": {},
     "output_type": "execute_result"
    }
   ],
   "source": [
    "boxes.numpy()[np.argwhere(box_scores.numpy()>0.5)[:, :1]]"
   ]
  },
  {
   "cell_type": "code",
   "execution_count": 116,
   "metadata": {
    "ExecuteTime": {
     "end_time": "2020-01-07T02:05:05.547525Z",
     "start_time": "2020-01-07T02:05:05.542553Z"
    }
   },
   "outputs": [
    {
     "data": {
      "text/plain": [
       "array([[[165.03624, 216.19621, 182.18805, 238.8812 ]]], dtype=float32)"
      ]
     },
     "execution_count": 116,
     "metadata": {},
     "output_type": "execute_result"
    }
   ],
   "source": [
    "boxes.numpy()[np.argwhere(box_scores.numpy()>0.5)[:, :1]]"
   ]
  },
  {
   "cell_type": "code",
   "execution_count": 122,
   "metadata": {
    "ExecuteTime": {
     "end_time": "2020-01-07T02:06:12.907556Z",
     "start_time": "2020-01-07T02:06:12.837531Z"
    }
   },
   "outputs": [],
   "source": [
    "img = Image.open('../face_detection/znrixntqqb_0.png')\n",
    "boxed_image = letterbox_image(img, (416,416))\n",
    "image_data = np.array(boxed_image, dtype='float32')\n",
    "image_data /= 255.\n",
    "image_data = np.expand_dims(image_data, 0) "
   ]
  },
  {
   "cell_type": "code",
   "execution_count": 123,
   "metadata": {
    "ExecuteTime": {
     "end_time": "2020-01-07T02:06:13.061528Z",
     "start_time": "2020-01-07T02:06:13.057531Z"
    }
   },
   "outputs": [],
   "source": [
    "boxed_image = cv2.rectangle(np.asarray(boxed_image), (250, 190), (204, 156), (255, 0, 0), 2) "
   ]
  },
  {
   "cell_type": "code",
   "execution_count": 120,
   "metadata": {
    "ExecuteTime": {
     "end_time": "2020-01-07T02:05:52.566131Z",
     "start_time": "2020-01-07T02:05:52.561137Z"
    }
   },
   "outputs": [],
   "source": [
    "boxed_image = cv2.rectangle(np.asarray(boxed_image), (250, 204), (190, 156), (255, 0, 0), 2) "
   ]
  },
  {
   "cell_type": "code",
   "execution_count": 124,
   "metadata": {
    "ExecuteTime": {
     "end_time": "2020-01-07T02:06:13.788530Z",
     "start_time": "2020-01-07T02:06:13.641531Z"
    }
   },
   "outputs": [
    {
     "data": {
      "text/plain": [
       "<matplotlib.image.AxesImage at 0x26ff67b36d8>"
      ]
     },
     "execution_count": 124,
     "metadata": {},
     "output_type": "execute_result"
    },
    {
     "data": {
      "image/png": "[encoded data removed]",
      "text/plain": [
       "<Figure size 432x288 with 1 Axes>"
      ]
     },
     "metadata": {
      "needs_background": "light"
     },
     "output_type": "display_data"
    }
   ],
   "source": [
    "plt.imshow(boxed_image)"
   ]
  },
  {
   "cell_type": "code",
   "execution_count": 149,
   "metadata": {
    "ExecuteTime": {
     "end_time": "2020-01-07T02:24:35.734506Z",
     "start_time": "2020-01-07T02:24:35.729527Z"
    }
   },
   "outputs": [],
   "source": [
    "img = Image.open('../face_detection/znrixntqqb_0.png')"
   ]
  },
  {
   "cell_type": "code",
   "execution_count": 144,
   "metadata": {
    "ExecuteTime": {
     "end_time": "2020-01-07T02:20:06.928441Z",
     "start_time": "2020-01-07T02:20:06.924441Z"
    }
   },
   "outputs": [],
   "source": [
    "img = cv2.rectangle(np.asarray(img), (975, 309), (1164, 458), (255, 0, 0), 10)"
   ]
  },
  {
   "cell_type": "code",
   "execution_count": 150,
   "metadata": {
    "ExecuteTime": {
     "end_time": "2020-01-07T02:24:37.057527Z",
     "start_time": "2020-01-07T02:24:37.001507Z"
    }
   },
   "outputs": [],
   "source": [
    "img = cv2.rectangle(np.asarray(img), (975, 309), (975+149, 309+189), (255, 0, 0), 10) "
   ]
  },
  {
   "cell_type": "code",
   "execution_count": 146,
   "metadata": {
    "ExecuteTime": {
     "end_time": "2020-01-07T02:23:25.753309Z",
     "start_time": "2020-01-07T02:23:25.746312Z"
    }
   },
   "outputs": [
    {
     "data": {
      "text/plain": [
       "{'0_0': {'coordinates': {'x1': 975, 'y1': 309, 'width': 149, 'height': 189},\n",
       "  'keypoints': {'left_eye': (1017, 378),\n",
       "   'right_eye': (1088, 377),\n",
       "   'nose': (1054, 405),\n",
       "   'mouth_left': (1026, 449),\n",
       "   'mouth_right': (1082, 447)},\n",
       "  'confidence': 0.9998020529747009},\n",
       " '75_0': {'coordinates': {'x1': 963, 'y1': 313, 'width': 174, 'height': 223},\n",
       "  'keypoints': {'left_eye': (1008, 398),\n",
       "   'right_eye': (1087, 390),\n",
       "   'nose': (1041, 430),\n",
       "   'mouth_left': (1019, 484),\n",
       "   'mouth_right': (1079, 477)},\n",
       "  'confidence': 0.9999175071716309},\n",
       " '150_0': {'coordinates': {'x1': 937, 'y1': 294, 'width': 179, 'height': 229},\n",
       "  'keypoints': {'left_eye': (982, 380),\n",
       "   'right_eye': (1064, 379),\n",
       "   'nose': (1014, 415),\n",
       "   'mouth_left': (987, 464),\n",
       "   'mouth_right': (1057, 464)},\n",
       "  'confidence': 0.9999678134918213}}"
      ]
     },
     "execution_count": 146,
     "metadata": {},
     "output_type": "execute_result"
    }
   ],
   "source": [
    "face_coordinates_per_video['znrixntqqb.mp4']"
   ]
  },
  {
   "cell_type": "code",
   "execution_count": null,
   "metadata": {},
   "outputs": [],
   "source": []
  },
  {
   "cell_type": "code",
   "execution_count": null,
   "metadata": {},
   "outputs": [],
   "source": []
  },
  {
   "cell_type": "code",
   "execution_count": 21,
   "metadata": {
    "ExecuteTime": {
     "end_time": "2020-01-07T23:57:37.074638Z",
     "start_time": "2020-01-07T23:57:28.462636Z"
    }
   },
   "outputs": [],
   "source": [
    "for x, y in generator(arr_train):\n",
    "    break"
   ]
  },
  {
   "cell_type": "code",
   "execution_count": 22,
   "metadata": {
    "ExecuteTime": {
     "end_time": "2020-01-07T23:57:37.266641Z",
     "start_time": "2020-01-07T23:57:37.243639Z"
    }
   },
   "outputs": [
    {
     "data": {
      "text/plain": [
       "3"
      ]
     },
     "execution_count": 22,
     "metadata": {},
     "output_type": "execute_result"
    }
   ],
   "source": [
    "len(x)"
   ]
  },
  {
   "cell_type": "code",
   "execution_count": 23,
   "metadata": {
    "ExecuteTime": {
     "end_time": "2020-01-07T23:57:37.424635Z",
     "start_time": "2020-01-07T23:57:37.292634Z"
    }
   },
   "outputs": [],
   "source": [
    "num_layers = len(anchors)//3 # default setting\n",
    "yolo_outputs = x[1:]\n",
    "anchor_mask = [[6,7,8], [3,4,5], [0,1,2]] if num_layers==3 else [[3,4,5], [1,2,3]]\n",
    "\n",
    "for l in range(num_layers):\n",
    "    input_shape = K.cast(K.shape(tf.convert_to_tensor(yolo_outputs[l]))[1:3] * 32, K.dtype(tf.convert_to_tensor(yolo_outputs[l])))\n",
    "    m = K.shape(yolo_outputs[0])[0] # batch size, tensor\n",
    "    mf = K.cast(m, K.dtype(tf.convert_to_tensor(yolo_outputs[0])))\n",
    "\n",
    "    grid, raw_pred, pred_xy, pred_wh = yolo_head(tf.convert_to_tensor(yolo_outputs[l]),\n",
    "         anchors[anchor_mask[l]], num_classes, input_shape, calc_loss=True)\n",
    "    pred_box = K.concatenate([pred_xy, pred_wh])\n",
    "    break\n",
    "    \n",
    "box_xy, box_wh, box_confidence, box_class_probs = yolo_head(tf.convert_to_tensor(yolo_outputs[l]),\n",
    "     anchors[anchor_mask[l]], num_classes, input_shape)\n",
    "\n",
    "boxes = yolo_correct_boxes(box_xy, box_wh, input_shape, (416, 416))\n",
    "boxes = K.reshape(boxes, [-1, 4])\n",
    "box_scores = box_confidence * box_class_probs\n",
    "box_scores = K.reshape(box_scores, [-1, num_classes])"
   ]
  },
  {
   "cell_type": "code",
   "execution_count": 24,
   "metadata": {
    "ExecuteTime": {
     "end_time": "2020-01-07T23:57:37.434635Z",
     "start_time": "2020-01-07T23:57:37.426635Z"
    },
    "scrolled": true
   },
   "outputs": [
    {
     "data": {
      "text/plain": [
       "array([[216]], dtype=int64)"
      ]
     },
     "execution_count": 24,
     "metadata": {},
     "output_type": "execute_result"
    }
   ],
   "source": [
    "np.argwhere(box_scores.numpy()>0.5)[:, :1]"
   ]
  },
  {
   "cell_type": "code",
   "execution_count": 25,
   "metadata": {
    "ExecuteTime": {
     "end_time": "2020-01-07T23:57:37.496634Z",
     "start_time": "2020-01-07T23:57:37.436634Z"
    },
    "scrolled": true
   },
   "outputs": [
    {
     "data": {
      "text/plain": [
       "array([[[0.53444666]]], dtype=float32)"
      ]
     },
     "execution_count": 25,
     "metadata": {},
     "output_type": "execute_result"
    }
   ],
   "source": [
    "box_scores.numpy()[np.argwhere(box_scores.numpy()>0.5)[:, :1]]"
   ]
  },
  {
   "cell_type": "code",
   "execution_count": 26,
   "metadata": {
    "ExecuteTime": {
     "end_time": "2020-01-07T23:57:37.505634Z",
     "start_time": "2020-01-07T23:57:37.498634Z"
    },
    "scrolled": true
   },
   "outputs": [
    {
     "data": {
      "text/plain": [
       "array([[[161.69617, 221.04106, 197.01065, 267.4793 ]]], dtype=float32)"
      ]
     },
     "execution_count": 26,
     "metadata": {},
     "output_type": "execute_result"
    }
   ],
   "source": [
    "boxes.numpy()[np.argwhere(box_scores.numpy()>0.5)[:, :1]]"
   ]
  },
  {
   "cell_type": "code",
   "execution_count": 27,
   "metadata": {
    "ExecuteTime": {
     "end_time": "2020-01-07T23:57:37.518637Z",
     "start_time": "2020-01-07T23:57:37.507633Z"
    }
   },
   "outputs": [
    {
     "data": {
      "text/plain": [
       "array([161.69617, 221.04106, 197.01065, 267.4793 ], dtype=float32)"
      ]
     },
     "execution_count": 27,
     "metadata": {},
     "output_type": "execute_result"
    }
   ],
   "source": [
    "face = boxes.numpy()[np.argwhere(box_scores.numpy()>0.5)[:, :1]][0][0]\n",
    "face"
   ]
  },
  {
   "cell_type": "code",
   "execution_count": 28,
   "metadata": {
    "ExecuteTime": {
     "end_time": "2020-01-07T23:57:38.027639Z",
     "start_time": "2020-01-07T23:57:37.522635Z"
    }
   },
   "outputs": [
    {
     "data": {
      "text/plain": [
       "<matplotlib.image.AxesImage at 0x2ba7ce2c1d0>"
      ]
     },
     "execution_count": 28,
     "metadata": {},
     "output_type": "execute_result"
    },
    {
     "data": {
      "image/png": "[encoded data removed]",
      "text/plain": [
       "<Figure size 432x288 with 1 Axes>"
      ]
     },
     "metadata": {
      "needs_background": "light"
     },
     "output_type": "display_data"
    }
   ],
   "source": [
    "plt.imshow(np.copy(x[0][0]))"
   ]
  },
  {
   "cell_type": "code",
   "execution_count": 29,
   "metadata": {
    "ExecuteTime": {
     "end_time": "2020-01-07T23:57:38.424635Z",
     "start_time": "2020-01-07T23:57:38.034635Z"
    }
   },
   "outputs": [
    {
     "data": {
      "text/plain": [
       "<matplotlib.image.AxesImage at 0x2ba7c7ebac8>"
      ]
     },
     "execution_count": 29,
     "metadata": {},
     "output_type": "execute_result"
    },
    {
     "data": {
      "image/png": "[encoded data removed]",
      "text/plain": [
       "<Figure size 432x288 with 1 Axes>"
      ]
     },
     "metadata": {
      "needs_background": "light"
     },
     "output_type": "display_data"
    }
   ],
   "source": [
    "img = cv2.rectangle(np.asarray(np.copy(x[0][0])), (face[1],face[0]), (face[3], face[2]), (1, 0, 0), 2)\n",
    "plt.imshow(img)"
   ]
  },
  {
   "cell_type": "code",
   "execution_count": 44,
   "metadata": {
    "ExecuteTime": {
     "end_time": "2020-01-07T23:55:07.577327Z",
     "start_time": "2020-01-07T23:55:07.404319Z"
    }
   },
   "outputs": [
    {
     "data": {
      "text/plain": [
       "<matplotlib.image.AxesImage at 0x2187c778550>"
      ]
     },
     "execution_count": 44,
     "metadata": {},
     "output_type": "execute_result"
    },
    {
     "data": {
      "image/png": "[encoded data removed]",
      "text/plain": [
       "<Figure size 432x288 with 1 Axes>"
      ]
     },
     "metadata": {
      "needs_background": "light"
     },
     "output_type": "display_data"
    }
   ],
   "source": [
    "img = cv2.rectangle(np.asarray(np.copy(x[0][0])), (face[1],face[0]), (face[3], face[2]), (1, 0, 0), 2)\n",
    "plt.imshow(img)"
   ]
  },
  {
   "cell_type": "code",
   "execution_count": 28,
   "metadata": {
    "ExecuteTime": {
     "end_time": "2020-01-07T23:31:49.894843Z",
     "start_time": "2020-01-07T23:31:49.890843Z"
    }
   },
   "outputs": [],
   "source": [
    "import matplotlib\n",
    "\n",
    "# matplotlib.image.imsave('test.png', img)"
   ]
  },
  {
   "cell_type": "code",
   "execution_count": 29,
   "metadata": {
    "ExecuteTime": {
     "end_time": "2020-01-07T23:31:50.173843Z",
     "start_time": "2020-01-07T23:31:50.070845Z"
    }
   },
   "outputs": [],
   "source": [
    "matplotlib.image.imsave('test.png', np.asarray(np.copy(x[0][0])))"
   ]
  },
  {
   "cell_type": "code",
   "execution_count": 37,
   "metadata": {
    "ExecuteTime": {
     "end_time": "2020-01-07T22:44:36.358041Z",
     "start_time": "2020-01-07T22:44:36.354042Z"
    },
    "scrolled": true
   },
   "outputs": [
    {
     "data": {
      "text/plain": [
       "array([[[0.50196078, 0.50196078, 0.50196078],\n",
       "        [0.50196078, 0.50196078, 0.50196078],\n",
       "        [0.50196078, 0.50196078, 0.50196078],\n",
       "        ...,\n",
       "        [0.50196078, 0.50196078, 0.50196078],\n",
       "        [0.50196078, 0.50196078, 0.50196078],\n",
       "        [0.50196078, 0.50196078, 0.50196078]],\n",
       "\n",
       "       [[0.50196078, 0.50196078, 0.50196078],\n",
       "        [0.50196078, 0.50196078, 0.50196078],\n",
       "        [0.50196078, 0.50196078, 0.50196078],\n",
       "        ...,\n",
       "        [0.50196078, 0.50196078, 0.50196078],\n",
       "        [0.50196078, 0.50196078, 0.50196078],\n",
       "        [0.50196078, 0.50196078, 0.50196078]],\n",
       "\n",
       "       [[0.50196078, 0.50196078, 0.50196078],\n",
       "        [0.50196078, 0.50196078, 0.50196078],\n",
       "        [0.50196078, 0.50196078, 0.50196078],\n",
       "        ...,\n",
       "        [0.50196078, 0.50196078, 0.50196078],\n",
       "        [0.50196078, 0.50196078, 0.50196078],\n",
       "        [0.50196078, 0.50196078, 0.50196078]],\n",
       "\n",
       "       ...,\n",
       "\n",
       "       [[0.50196078, 0.50196078, 0.50196078],\n",
       "        [0.50196078, 0.50196078, 0.50196078],\n",
       "        [0.50196078, 0.50196078, 0.50196078],\n",
       "        ...,\n",
       "        [0.50196078, 0.50196078, 0.50196078],\n",
       "        [0.50196078, 0.50196078, 0.50196078],\n",
       "        [0.50196078, 0.50196078, 0.50196078]],\n",
       "\n",
       "       [[0.50196078, 0.50196078, 0.50196078],\n",
       "        [0.50196078, 0.50196078, 0.50196078],\n",
       "        [0.50196078, 0.50196078, 0.50196078],\n",
       "        ...,\n",
       "        [0.50196078, 0.50196078, 0.50196078],\n",
       "        [0.50196078, 0.50196078, 0.50196078],\n",
       "        [0.50196078, 0.50196078, 0.50196078]],\n",
       "\n",
       "       [[0.50196078, 0.50196078, 0.50196078],\n",
       "        [0.50196078, 0.50196078, 0.50196078],\n",
       "        [0.50196078, 0.50196078, 0.50196078],\n",
       "        ...,\n",
       "        [0.50196078, 0.50196078, 0.50196078],\n",
       "        [0.50196078, 0.50196078, 0.50196078],\n",
       "        [0.50196078, 0.50196078, 0.50196078]]])"
      ]
     },
     "execution_count": 37,
     "metadata": {},
     "output_type": "execute_result"
    }
   ],
   "source": [
    "img"
   ]
  },
  {
   "cell_type": "code",
   "execution_count": 27,
   "metadata": {
    "ExecuteTime": {
     "end_time": "2020-01-07T22:50:10.697725Z",
     "start_time": "2020-01-07T22:50:10.322727Z"
    }
   },
   "outputs": [
    {
     "ename": "NameError",
     "evalue": "name 'img' is not defined",
     "output_type": "error",
     "traceback": [
      "\u001b[1;31m---------------------------------------------------------------------------\u001b[0m",
      "\u001b[1;31mNameError\u001b[0m                                 Traceback (most recent call last)",
      "\u001b[1;32m<ipython-input-27-23af6c37b3d0>\u001b[0m in \u001b[0;36m<module>\u001b[1;34m\u001b[0m\n\u001b[1;32m----> 1\u001b[1;33m \u001b[0mplt\u001b[0m\u001b[1;33m.\u001b[0m\u001b[0mimshow\u001b[0m\u001b[1;33m(\u001b[0m\u001b[0mimg\u001b[0m\u001b[1;33m)\u001b[0m\u001b[1;33m\u001b[0m\u001b[1;33m\u001b[0m\u001b[0m\n\u001b[0m",
      "\u001b[1;31mNameError\u001b[0m: name 'img' is not defined"
     ]
    }
   ],
   "source": [
    "plt.imshow(img)"
   ]
  },
  {
   "cell_type": "code",
   "execution_count": 29,
   "metadata": {
    "ExecuteTime": {
     "end_time": "2020-01-07T22:39:35.985176Z",
     "start_time": "2020-01-07T22:39:35.660177Z"
    }
   },
   "outputs": [
    {
     "data": {
      "text/plain": [
       "<matplotlib.image.AxesImage at 0x21d495cb358>"
      ]
     },
     "execution_count": 29,
     "metadata": {},
     "output_type": "execute_result"
    },
    {
     "data": {
      "image/png": "[encoded data removed]",
      "text/plain": [
       "<Figure size 432x288 with 1 Axes>"
      ]
     },
     "metadata": {
      "needs_background": "light"
     },
     "output_type": "display_data"
    }
   ],
   "source": [
    "plt.imshow(x[0][0])"
   ]
  },
  {
   "cell_type": "code",
   "execution_count": 21,
   "metadata": {
    "ExecuteTime": {
     "end_time": "2020-01-07T22:38:23.839223Z",
     "start_time": "2020-01-07T22:38:23.817223Z"
    }
   },
   "outputs": [
    {
     "data": {
      "text/plain": [
       "['../face_detection/znrixntqqb_0.png 975,309,1124,498,0',\n",
       " '../face_detection/rpwjfquqal_75.png 858,393,1012,607,0',\n",
       " '../face_detection/wczgyxmjnt_150.png 721,276,1113,769,0',\n",
       " '../face_detection/tcarsvtmlc_150.png 902,485,996,611,0',\n",
       " '../face_detection/rylynffzhh_0.png 672,158,826,332,0',\n",
       " '../face_detection/tvpnmwpkcx_0.png 753,230,929,465,0',\n",
       " '../face_detection/otfewufpsw_0.png 413,394,487,483,0',\n",
       " '../face_detection/szkodmxxtz_0.png 841,82,961,249,0',\n",
       " '../face_detection/lqkyroubqx_75.png 675,155,826,348,0',\n",
       " '../face_detection/twenwjpqvo_75.png 781,255,931,483,0',\n",
       " '../face_detection/qqxohuaupb_0.png 895,284,1063,484,0',\n",
       " '../face_detection/gbwgfjfwax_75.png 692,450,816,636,0 1275,424,1410,600,0',\n",
       " '../face_detection/ijvqpzanqe_0.png 897,458,997,591,0',\n",
       " '../face_detection/pojvzwdlwd_75.png 791,515,933,707,0',\n",
       " '../face_detection/dljegkgcan_75.png 647,491,772,661,0 1221,207,1371,397,0',\n",
       " '../face_detection/yiooctyvit_0.png 952,313,1019,394,0',\n",
       " '../face_detection/czfqlbcfpa_150.png 859,67,1059,325,0',\n",
       " '../face_detection/uhxmcolvzv_150.png 306,555,397,675,0',\n",
       " '../face_detection/mvzakhzrrn_75.png 942,177,1146,437,0',\n",
       " '../face_detection/kafzwjrhwj_150.png 537,369,723,601,0 1331,332,1570,640,0',\n",
       " '../face_detection/femupkjzdk_0.png 868,89,1002,264,0',\n",
       " '../face_detection/puupfthjwb_150.png 798,358,969,606,0',\n",
       " '../face_detection/eyltmgzqal_0.png 1052,143,1202,367,0 178,134,340,363,0',\n",
       " '../face_detection/lyepvpxdyx_150.png 882,158,1088,436,0',\n",
       " '../face_detection/iksqygcnyj_150.png 904,144,982,242,0',\n",
       " '../face_detection/nhkegaqwuc_75.png 825,85,902,201,0',\n",
       " '../face_detection/krgdrnmezx_75.png 254,705,322,792,0 514,729,576,821,0',\n",
       " '../face_detection/lktpvfaxrf_150.png 801,162,1014,419,0',\n",
       " '../face_detection/ioyizgxnmo_0.png 243,697,319,800,0',\n",
       " '../face_detection/yoyhmxtrys_0.png 881,275,995,423,0',\n",
       " '../face_detection/yunzfvsgit_75.png 745,722,844,846,0 174,723,280,860,0',\n",
       " '../face_detection/wuhsetsmba_75.png 527,569,672,760,0 1050,581,1197,773,0',\n",
       " '../face_detection/jwfizmebox_150.png 190,316,278,432,0 494,313,570,419,0',\n",
       " '../face_detection/qhmkhzoadp_75.png 825,300,906,404,0',\n",
       " '../face_detection/wegsexmajl_75.png 414,826,584,1040,0',\n",
       " '../face_detection/nsjtsvvsly_75.png 1109,188,1196,317,0 578,99,654,203,0',\n",
       " '../face_detection/javdjdbfhf_0.png 452,102,578,269,0',\n",
       " '../face_detection/wzjknaaogp_0.png 464,477,566,612,0',\n",
       " '../face_detection/dgggkeswzb_75.png 561,680,687,840,0',\n",
       " '../face_detection/gaezfjhckb_0.png 452,1064,576,1219,0',\n",
       " '../face_detection/kczovqojew_0.png 931,71,1071,238,0',\n",
       " '../face_detection/meuvcvqjpf_150.png 853,122,1003,320,0',\n",
       " '../face_detection/xncqpmoabm_150.png 915,247,1082,448,0',\n",
       " '../face_detection/svzyxamwkr_150.png 1091,285,1301,582,0',\n",
       " '../face_detection/cracusggal_0.png 742,290,910,514,0',\n",
       " '../face_detection/cjhflcxdas_0.png 880,95,961,195,0',\n",
       " '../face_detection/ziqarwpdiz_0.png 857,189,1022,392,0',\n",
       " '../face_detection/gqnzocbvpg_75.png 644,112,866,390,0',\n",
       " '../face_detection/pgykvnimbr_0.png 176,316,258,417,0',\n",
       " '../face_detection/fpbcmfberh_150.png 830,134,956,285,0',\n",
       " '../face_detection/kzydcqhpql_75.png 930,370,1097,585,0',\n",
       " '../face_detection/xzjnbbtitm_0.png 205,325,285,423,0 471,360,541,454,0',\n",
       " '../face_detection/gbqmtnsweh_75.png 475,185,626,408,0 1273,360,1416,567,0',\n",
       " '../face_detection/cqvmcswepa_75.png 951,362,1070,512,0',\n",
       " '../face_detection/hlzkuryxas_75.png 856,165,957,292,0',\n",
       " '../face_detection/rtadrcsexg_0.png 533,357,724,610,0 1341,275,1598,649,0',\n",
       " '../face_detection/ivrrtkfqyf_150.png 479,735,555,827,0 252,707,321,794,0',\n",
       " '../face_detection/xugbywbvgv_75.png 891,231,969,333,0',\n",
       " '../face_detection/osnuxyotnv_75.png 832,146,984,332,0',\n",
       " '../face_detection/nxaaytgqkj_75.png 795,154,881,257,0',\n",
       " '../face_detection/qjivjommrk_0.png 316,521,375,596,0',\n",
       " '../face_detection/vmwcynlwee_150.png 613,679,797,931,0',\n",
       " '../face_detection/xrhqtmxlvx_150.png 705,115,990,484,0',\n",
       " '../face_detection/oeoycyooyr_150.png 834,129,999,334,0',\n",
       " '../face_detection/dontwxbnza_75.png 720,124,1009,475,0',\n",
       " '../face_detection/olzjecehcq_0.png 893,86,979,212,0',\n",
       " '../face_detection/abvgbvoxco_75.png 822,148,909,262,0',\n",
       " '../face_detection/keuvybqsbr_0.png 408,0,582,257,0',\n",
       " '../face_detection/qjivjommrk_75.png 315,524,377,597,0',\n",
       " '../face_detection/ilflslfgbn_150.png 546,238,677,405,0',\n",
       " '../face_detection/ooeopkhgnw_150.png 394,587,459,667,0',\n",
       " '../face_detection/taykmwtpqj_75.png 1032,616,1101,702,0',\n",
       " '../face_detection/gvgiwbkaiu_75.png 1345,348,1586,651,0 530,356,718,604,0',\n",
       " '../face_detection/ruqxarjklw_0.png 301,564,371,651,0',\n",
       " '../face_detection/tzfapzrglv_0.png 873,133,1068,390,0',\n",
       " '../face_detection/nyitlsbdcb_0.png 823,295,927,425,0',\n",
       " '../face_detection/cruebsmlgr_0.png 455,382,522,458,0',\n",
       " '../face_detection/jivvpnwwcm_0.png 945,305,1037,428,0',\n",
       " '../face_detection/erbfxwbqic_75.png 413,329,535,499,0',\n",
       " '../face_detection/deoexpsdqf_75.png 404,338,619,639,0 1286,315,1454,544,0',\n",
       " '../face_detection/tgniuovpll_75.png 1046,131,1140,244,0',\n",
       " '../face_detection/qnhbpidutk_150.png 347,624,441,741,0',\n",
       " '../face_detection/egscoezvho_75.png 1081,274,1292,556,0',\n",
       " '../face_detection/enljrpodub_0.png 1169,136,1298,308,0',\n",
       " '../face_detection/quibiltcfc_0.png 985,195,1109,361,0',\n",
       " '../face_detection/lmvvnmqcjo_0.png 964,230,1149,483,0',\n",
       " '../face_detection/mlguvuxlbr_75.png 361,624,454,737,0',\n",
       " '../face_detection/zxknocbndw_0.png 970,374,1112,552,0',\n",
       " '../face_detection/vmktcesfcg_0.png 716,177,939,456,0',\n",
       " '../face_detection/nqpclnatsm_150.png 702,204,885,435,0',\n",
       " '../face_detection/ogualjbong_150.png 460,1065,585,1221,0',\n",
       " '../face_detection/zmbmqjhvop_150.png 868,200,1227,637,0',\n",
       " '../face_detection/ccjiwxnihq_0.png 625,602,726,741,0',\n",
       " '../face_detection/xbjffkzsuv_150.png 385,586,443,654,0',\n",
       " '../face_detection/nhzzaivpfk_150.png 824,113,901,209,0',\n",
       " '../face_detection/pgybuuxxip_0.png 815,289,962,477,0',\n",
       " '../face_detection/giwvqjhljm_150.png 522,166,690,361,0',\n",
       " '../face_detection/tjzmecgyxc_150.png 928,456,1021,573,0',\n",
       " '../face_detection/lmnvioxzqu_75.png 685,120,769,229,0',\n",
       " '../face_detection/bnjpqypcmg_75.png 957,371,1105,553,0',\n",
       " '../face_detection/pmxiikatcx_75.png 839,234,999,446,0',\n",
       " '../face_detection/wlqxyshgal_75.png 821,153,903,264,0',\n",
       " '../face_detection/jsyinaqlaf_0.png 360,367,462,511,0',\n",
       " '../face_detection/zzqhtdwcyl_75.png 871,119,988,274,0',\n",
       " '../face_detection/jgrdzsjsqn_75.png 873,153,978,278,0',\n",
       " '../face_detection/adffjkqxhu_0.png 837,123,1012,355,0',\n",
       " '../face_detection/gcdavsiegr_75.png 1031,201,1156,374,0',\n",
       " '../face_detection/jcsqblnqum_150.png 966,383,1106,551,0',\n",
       " '../face_detection/ahwduszjzf_150.png 248,410,382,576,0',\n",
       " '../face_detection/rhlbxcznio_75.png 579,447,733,640,0',\n",
       " '../face_detection/bsbyvsgodg_75.png 649,153,902,455,0',\n",
       " '../face_detection/rpsnjtsgrz_150.png 588,82,730,272,0',\n",
       " '../face_detection/pzqxrczvxb_150.png 405,0,593,249,0',\n",
       " '../face_detection/jqdxklmzfb_0.png 712,293,808,412,0',\n",
       " '../face_detection/rzxgegjfax_150.png 1409,325,1556,534,0 508,189,653,408,0',\n",
       " '../face_detection/iqvnqsjhvo_75.png 802,124,1003,392,0',\n",
       " '../face_detection/nioeronoih_75.png 862,85,1055,339,0',\n",
       " '../face_detection/xzqgptotdo_75.png 411,330,534,506,0',\n",
       " '../face_detection/vdnsbjfqkq_0.png 619,373,814,645,0',\n",
       " '../face_detection/wtsklpmrwp_0.png 786,70,952,298,0',\n",
       " '../face_detection/xpqlcziqqb_0.png 804,129,1045,432,0',\n",
       " '../face_detection/piqrfppjjx_0.png 525,1063,646,1235,0',\n",
       " '../face_detection/miltxpsvmr_75.png 807,92,889,204,0',\n",
       " '../face_detection/fniwtkekbc_0.png 1107,241,1265,432,0',\n",
       " '../face_detection/dljbvhseze_150.png 921,366,1097,586,0',\n",
       " '../face_detection/qbxdkocqaq_0.png 1085,296,1295,574,0',\n",
       " '../face_detection/ogaqkbajxk_150.png 702,279,865,493,0',\n",
       " '../face_detection/ppecrtgorb_75.png 749,142,914,339,0',\n",
       " '../face_detection/uvlynrnmgb_75.png 802,90,1033,376,0',\n",
       " '../face_detection/ojagblcuat_75.png 742,721,832,842,0 127,717,224,851,0',\n",
       " '../face_detection/jstwvimaml_75.png 618,612,724,768,0',\n",
       " '../face_detection/ocsnhldayx_150.png 339,459,408,544,0',\n",
       " '../face_detection/vdwoazrodt_150.png 493,607,632,777,0',\n",
       " '../face_detection/rsqxvdohdq_75.png 829,115,901,205,0',\n",
       " '../face_detection/kzupellgtr_75.png 775,323,893,480,0',\n",
       " '../face_detection/sgkzajvfmk_75.png 1051,303,1260,583,0',\n",
       " '../face_detection/bnwgnvnreu_150.png 442,609,605,827,0 691,1834,714,1866,0',\n",
       " '../face_detection/apahohbfek_0.png 520,582,662,771,0 1051,597,1198,786,0',\n",
       " '../face_detection/ysqvflesvi_75.png 943,153,1026,256,0',\n",
       " '../face_detection/gftkrnewfv_75.png 897,117,1024,267,0',\n",
       " '../face_detection/lorysiznty_150.png 743,492,879,667,0',\n",
       " '../face_detection/rffoncdaqy_0.png 457,315,523,408,0 837,279,938,412,0',\n",
       " '../face_detection/gwhirvvovr_150.png 1118,142,1209,263,0',\n",
       " '../face_detection/gemkhcfaka_150.png 516,568,655,755,0 1061,561,1214,755,0',\n",
       " '../face_detection/bxdhnnffvw_150.png 755,236,983,530,0',\n",
       " '../face_detection/ctwljxvbdp_150.png 577,203,798,517,0',\n",
       " '../face_detection/wtoqnvchtu_150.png 531,320,713,550,0 1331,336,1571,645,0',\n",
       " '../face_detection/aycjerwghk_150.png 447,431,555,568,0',\n",
       " '../face_detection/atzbzdzkep_75.png 735,269,946,565,0',\n",
       " '../face_detection/fcdwmtqhzb_0.png 849,40,991,215,0',\n",
       " '../face_detection/upqgpwzejd_0.png 691,456,793,591,0',\n",
       " '../face_detection/ujfjhtsqbf_75.png 1011,106,1097,213,0',\n",
       " '../face_detection/qpvgdzncxe_75.png 1061,69,1239,302,0',\n",
       " '../face_detection/vekuanlmlt_150.png 953,124,1129,386,0',\n",
       " '../face_detection/runqzmfxhs_0.png 1176,299,1407,613,0',\n",
       " '../face_detection/vzocjdjdcg_75.png 252,907,353,1034,0',\n",
       " '../face_detection/iuukqiavbb_150.png 550,570,692,771,0 1050,558,1202,760,0',\n",
       " '../face_detection/llwjhmnnvq_0.png 1000,319,1114,480,0',\n",
       " '../face_detection/yifxgmhtie_150.png 454,224,593,425,0',\n",
       " '../face_detection/jmqmljznhv_150.png 938,171,1060,328,0 1504,0,1623,162,0',\n",
       " '../face_detection/vydpnxshqy_75.png 840,84,926,194,0',\n",
       " '../face_detection/zzpbsapyyf_0.png 723,83,836,219,0',\n",
       " '../face_detection/oqpixhijkg_0.png 879,71,1024,252,0',\n",
       " '../face_detection/qnvmkjbnfp_150.png 313,416,439,576,0',\n",
       " '../face_detection/saoucxwpfi_150.png 251,704,316,789,0 479,736,554,826,0',\n",
       " '../face_detection/joaohtlqqt_75.png 283,565,352,648,0',\n",
       " '../face_detection/gowtkwqkqd_0.png 714,89,822,224,0',\n",
       " '../face_detection/myelaqodcy_150.png 258,708,326,798,0',\n",
       " '../face_detection/tlmlrntoxs_0.png 946,109,1098,303,0',\n",
       " '../face_detection/ooedijmplb_150.png 621,272,795,498,0',\n",
       " '../face_detection/vaghiaapwi_75.png 689,498,845,711,0',\n",
       " '../face_detection/nuppyekpaf_0.png 676,141,921,444,0',\n",
       " '../face_detection/aymlynzeni_150.png 966,285,1199,608,0',\n",
       " '../face_detection/eaquarsawu_0.png 535,567,677,766,0 1040,566,1180,751,0',\n",
       " '../face_detection/qvsntcmwti_75.png 856,322,989,481,0',\n",
       " '../face_detection/jydccimjww_75.png 585,0,707,161,0',\n",
       " '../face_detection/pvfnkxpaqd_150.png 678,114,767,225,0',\n",
       " '../face_detection/dfxtesniah_150.png 951,157,1111,375,0',\n",
       " '../face_detection/qhtyzltjxc_150.png 864,486,957,607,0',\n",
       " '../face_detection/afnxnrrqsj_150.png 351,809,490,1004,0',\n",
       " '../face_detection/hknucpztup_0.png 833,153,1006,392,0',\n",
       " '../face_detection/photozuczx_150.png 305,572,391,675,0',\n",
       " '../face_detection/gcoyyxhxrw_0.png 991,103,1205,374,0',\n",
       " '../face_detection/toinozytsp_75.png 412,317,546,507,0',\n",
       " '../face_detection/ivnnyzpgkg_75.png 789,157,928,354,0',\n",
       " '../face_detection/pohltxwtau_150.png 413,416,477,493,0',\n",
       " '../face_detection/wxdtsmszxj_150.png 967,371,1130,615,0',\n",
       " '../face_detection/csmvoigpmo_75.png 856,138,1064,384,0',\n",
       " '../face_detection/lconqdflxc_75.png 859,214,1033,445,0',\n",
       " '../face_detection/llwmwxosgl_150.png 1216,117,1339,284,0',\n",
       " '../face_detection/rwzrbzubij_0.png 460,487,564,625,0',\n",
       " '../face_detection/mbdjwoaxcq_0.png 1080,71,1169,173,0',\n",
       " '../face_detection/rxhqujqzwh_0.png 376,234,456,346,0 760,227,843,338,0',\n",
       " '../face_detection/hhdtuilvnd_0.png 447,607,515,688,0',\n",
       " '../face_detection/kohvzfkpqb_75.png 385,360,610,646,0 669,841,710,893,0',\n",
       " '../face_detection/sxultduxtw_150.png 1119,332,1273,506,0',\n",
       " '../face_detection/dinukxjoce_75.png 834,100,926,217,0',\n",
       " '../face_detection/czuxbovyvl_150.png 1213,117,1336,280,0',\n",
       " '../face_detection/mvlaaoplxi_0.png 858,221,1065,534,0',\n",
       " '../face_detection/brxksmkyrv_150.png 920,312,1041,462,0 1045,919,1066,945,0',\n",
       " '../face_detection/bcajvxttuv_75.png 314,404,457,583,0',\n",
       " '../face_detection/cerwqpmouj_0.png 631,600,736,751,0',\n",
       " '../face_detection/faldrzrfbs_75.png 836,593,990,807,0',\n",
       " '../face_detection/rnjcusueiu_0.png 864,110,1034,338,0',\n",
       " '../face_detection/ndvaqbmiqd_75.png 714,137,998,488,0',\n",
       " '../face_detection/hlgbviwvka_150.png 850,137,1000,329,0',\n",
       " '../face_detection/pnfekwenbd_0.png 819,141,1012,409,0',\n",
       " '../face_detection/btdjfsvmvz_150.png 832,172,995,385,0',\n",
       " '../face_detection/gwixomgafk_0.png 584,105,696,260,0',\n",
       " '../face_detection/pplguxlthg_150.png 529,316,718,556,0 1331,336,1569,645,0',\n",
       " '../face_detection/fwimqamfst_0.png 283,558,436,744,0',\n",
       " '../face_detection/lsecdbtopn_75.png 839,111,912,201,0',\n",
       " '../face_detection/zrxhzkryrt_0.png 805,85,886,199,0',\n",
       " '../face_detection/cujsfckgxq_0.png 952,216,1121,458,0',\n",
       " '../face_detection/ztwlbdwyni_75.png 610,607,715,749,0',\n",
       " '../face_detection/wzldwhdxfm_150.png 409,393,481,475,0',\n",
       " '../face_detection/lhsuaiqgkm_0.png 376,438,490,578,0',\n",
       " '../face_detection/mgffqovfzc_75.png 542,115,780,435,0',\n",
       " '../face_detection/vrpyzcuabm_150.png 882,119,1037,304,0',\n",
       " '../face_detection/xjpwlxducl_150.png 959,282,1172,554,0',\n",
       " '../face_detection/fpckfenbbw_150.png 245,639,318,728,0',\n",
       " '../face_detection/zrocimpulv_0.png 928,263,1099,480,0',\n",
       " '../face_detection/lubjdakceq_0.png 533,599,616,710,0',\n",
       " '../face_detection/hqcnaesvmg_75.png 788,160,872,257,0',\n",
       " '../face_detection/ftylolqzmd_75.png 793,152,911,291,0',\n",
       " '../face_detection/mqwcdmtzsz_0.png 530,1078,643,1230,0',\n",
       " '../face_detection/hmmvpqabgv_75.png 995,195,1109,340,0',\n",
       " '../face_detection/fqrrmbzntu_0.png 885,247,992,377,0',\n",
       " '../face_detection/seajqleghs_150.png 920,299,978,374,0',\n",
       " '../face_detection/scdqmdyxss_0.png 803,130,1045,431,0',\n",
       " '../face_detection/egsbilbdyb_0.png 588,114,658,213,0 1150,194,1228,308,0',\n",
       " '../face_detection/hrfesnigjd_150.png 1062,341,1284,611,0',\n",
       " '../face_detection/cnbgfhcdkl_75.png 853,135,977,280,0',\n",
       " '../face_detection/ldoaprlmsq_0.png 483,738,556,833,0 254,701,326,792,0',\n",
       " '../face_detection/sorlojolvz_150.png 845,170,962,311,0',\n",
       " '../face_detection/zcvxxffava_75.png 1282,324,1465,563,0 459,333,653,637,0',\n",
       " '../face_detection/rhuxlnvrph_0.png 674,136,953,483,0',\n",
       " '../face_detection/cyzhcxqbjg_0.png 933,317,1026,422,0 511,339,606,461,0',\n",
       " '../face_detection/pqlirihvaz_0.png 669,152,920,452,0',\n",
       " '../face_detection/irjywrjaqj_0.png 901,54,1029,220,0',\n",
       " '../face_detection/jlpzyrhwik_0.png 761,123,905,315,0',\n",
       " '../face_detection/xhfwtxgvbn_150.png 409,396,479,475,0',\n",
       " '../face_detection/wpgcdskkyh_75.png 363,629,456,746,0',\n",
       " '../face_detection/nnpolboyog_150.png 374,539,443,620,0',\n",
       " '../face_detection/bgqnopotbe_150.png 947,63,1113,280,0',\n",
       " '../face_detection/vycjvimbgl_0.png 425,784,625,1053,0',\n",
       " '../face_detection/pnpgiugmxr_150.png 374,430,500,595,0',\n",
       " '../face_detection/lvtesorlxs_150.png 313,638,403,758,0',\n",
       " '../face_detection/msxbrrfttv_0.png 689,309,1266,995,0',\n",
       " '../face_detection/uipygodqdq_0.png 961,270,1185,582,0',\n",
       " '../face_detection/sijhfakbgl_0.png 363,534,433,610,0',\n",
       " '../face_detection/iprrhqrxvd_150.png 494,469,708,747,0',\n",
       " '../face_detection/addknoverp_75.png 744,165,919,404,0',\n",
       " '../face_detection/xpzfhhwkwb_0.png 919,284,1162,613,0',\n",
       " '../face_detection/xfpznkgirw_75.png 1157,139,1284,298,0',\n",
       " '../face_detection/mfltygzuau_75.png 820,118,964,304,0',\n",
       " '../face_detection/xppjhsqnnm_75.png 921,494,1012,617,0',\n",
       " '../face_detection/ysvogisftd_75.png 485,878,637,1071,0',\n",
       " '../face_detection/iallgurddp_150.png 419,398,490,480,0',\n",
       " '../face_detection/iwtttiqeco_0.png 504,1066,624,1239,0',\n",
       " '../face_detection/yvpujjznsn_75.png 705,463,829,621,0 1285,422,1435,613,0',\n",
       " '../face_detection/ysrddknlfm_0.png 1004,381,1118,535,0',\n",
       " '../face_detection/xiutcafpof_75.png 880,125,1031,328,0',\n",
       " '../face_detection/svodgmtwsu_150.png 570,194,703,394,0 1378,320,1524,548,0',\n",
       " '../face_detection/oaifhwqmwn_75.png 948,367,1070,515,0',\n",
       " '../face_detection/dhtmhszncm_150.png 955,380,1092,555,0',\n",
       " '../face_detection/ffygnvpvtv_75.png 892,440,992,567,0',\n",
       " '../face_detection/qiwhwafbgy_75.png 526,717,595,812,0 273,706,337,801,0',\n",
       " '../face_detection/clgpmpxpxa_150.png 842,463,958,606,0',\n",
       " '../face_detection/jctahcrbkh_75.png 1146,139,1278,304,0',\n",
       " '../face_detection/dcjpplfvok_150.png 897,108,1035,274,0',\n",
       " '../face_detection/tvskduixkx_75.png 861,127,976,283,0',\n",
       " '../face_detection/auapkhjjlb_150.png 537,329,736,590,0 1318,319,1548,610,0',\n",
       " '../face_detection/lnuwkizkiw_75.png 885,163,1119,465,0',\n",
       " '../face_detection/dztvxrzuta_0.png 774,69,1046,402,0',\n",
       " '../face_detection/yhprjqndda_150.png 451,88,596,276,0',\n",
       " '../face_detection/creyvvrxcf_150.png 911,227,1059,446,0',\n",
       " '../face_detection/nakqjvoids_75.png 341,709,421,805,0',\n",
       " '../face_detection/zllgbpslut_75.png 462,153,617,362,0',\n",
       " '../face_detection/rplxcgcmaq_150.png 607,193,765,406,0 1317,332,1457,549,0',\n",
       " '../face_detection/smcelxixcs_150.png 160,1025,324,1247,0',\n",
       " '../face_detection/arzcgyecpy_0.png 1236,211,1351,393,0 538,160,672,358,0',\n",
       " '../face_detection/jbiypdwofh_150.png 856,246,1094,566,0',\n",
       " '../face_detection/xrqhflacsg_75.png 397,0,579,234,0',\n",
       " '../face_detection/ffpxoabdgt_75.png 907,128,1073,347,0',\n",
       " '../face_detection/xyxuomjbvq_150.png 877,200,1062,445,0',\n",
       " '../face_detection/ntyxnzblsp_75.png 900,100,985,212,0',\n",
       " '../face_detection/cukadnrzpo_150.png 370,530,443,616,0',\n",
       " '../face_detection/niretxbhcr_75.png 578,93,728,284,0',\n",
       " '../face_detection/qjormspuna_0.png 921,77,1043,247,0',\n",
       " '../face_detection/couoovfwtb_0.png 963,307,1087,454,0',\n",
       " '../face_detection/ubmrdjftxe_150.png 1035,115,1194,315,0',\n",
       " '../face_detection/toifquoawo_0.png 891,274,1057,475,0',\n",
       " '../face_detection/xnkktewjmu_150.png 330,179,516,424,0',\n",
       " '../face_detection/fdyzixbbni_150.png 637,385,836,645,0',\n",
       " '../face_detection/mnqidylcpm_0.png 834,300,924,417,0',\n",
       " '../face_detection/jtdycuybti_150.png 517,578,656,765,0 1041,560,1197,763,0',\n",
       " '../face_detection/qmfnpmddeq_150.png 1271,355,1415,574,0 526,214,687,439,0',\n",
       " '../face_detection/gwhfrfguef_0.png 913,109,1036,275,0',\n",
       " '../face_detection/acpaumltcm_0.png 914,97,1061,286,0',\n",
       " '../face_detection/doydmpebcj_75.png 902,208,1066,438,0',\n",
       " '../face_detection/luisbvtrwa_75.png 958,420,1086,580,0',\n",
       " '../face_detection/qmtbmvcvhb_75.png 875,180,1070,417,0',\n",
       " '../face_detection/bwspwiymvk_150.png 831,281,953,436,0',\n",
       " '../face_detection/rblgnprkoy_150.png 284,575,354,658,0',\n",
       " '../face_detection/dcqjlozdwm_75.png 1070,344,1228,548,0',\n",
       " '../face_detection/gfblmjoqek_0.png 728,307,826,432,0',\n",
       " '../face_detection/gvlxpgoijy_0.png 872,190,995,354,0',\n",
       " '../face_detection/oztehrzgoh_75.png 943,403,1075,573,0',\n",
       " '../face_detection/ubljcvpxun_75.png 1231,217,1371,396,0 665,504,786,691,0',\n",
       " '../face_detection/reoncfgvfd_150.png 344,433,423,529,0',\n",
       " '../face_detection/dfllzqcyug_150.png 289,562,363,652,0',\n",
       " '../face_detection/matmepwiel_75.png 919,212,1100,477,0',\n",
       " '../face_detection/doiljuhamq_75.png 1251,212,1387,397,0',\n",
       " '../face_detection/amluexcfvi_0.png 441,373,692,725,0',\n",
       " '../face_detection/ulzcsrlkxn_150.png 820,160,1061,469,0',\n",
       " '../face_detection/rbabuyhufj_75.png 791,87,944,297,0',\n",
       " '../face_detection/rkafihsjnd_150.png 462,203,602,398,0',\n",
       " '../face_detection/imrlhajrpy_0.png 370,442,479,564,0',\n",
       " '../face_detection/gyrtordvwo_0.png 817,103,1030,380,0',\n",
       " '../face_detection/nauznkzktz_75.png 993,383,1073,484,0',\n",
       " '../face_detection/wsqjykletd_150.png 494,604,719,899,0',\n",
       " '../face_detection/hiictcyiid_150.png 818,234,1055,557,0',\n",
       " '../face_detection/jbzixvffsf_0.png 380,538,451,620,0',\n",
       " '../face_detection/zkuwezbuma_0.png 910,132,1079,359,0',\n",
       " '../face_detection/isoiooeznt_75.png 872,462,986,620,0',\n",
       " '../face_detection/laumqvjrgp_150.png 1139,306,1337,574,0',\n",
       " '../face_detection/azloskdmkl_75.png 728,288,887,507,0',\n",
       " '../face_detection/ormijnmkvd_150.png 845,239,986,430,0',\n",
       " '../face_detection/emsfwzohii_150.png 408,393,484,486,0',\n",
       " '../face_detection/nvqxfueunb_75.png 940,114,1117,329,0',\n",
       " '../face_detection/slrfqkkyzu_75.png 880,428,986,574,0',\n",
       " '../face_detection/kkhtabarcx_0.png 416,675,550,854,0',\n",
       " '../face_detection/svycuadeyq_75.png 244,558,386,736,0',\n",
       " '../face_detection/mvfrifsgrb_150.png 535,601,679,792,0 1041,568,1196,771,0',\n",
       " '../face_detection/wdzefhhcwt_150.png 908,92,1063,290,0',\n",
       " '../face_detection/cfpmeadviw_150.png 352,437,425,526,0',\n",
       " '../face_detection/fzmnxvmtgh_150.png 683,445,805,623,0 1294,405,1430,584,0',\n",
       " '../face_detection/mwkhzfllsh_0.png 810,172,987,397,0',\n",
       " '../face_detection/getnufqfhq_150.png 951,504,1039,620,0',\n",
       " '../face_detection/jygnpdukjy_0.png 1356,255,1486,431,0 663,265,797,450,0',\n",
       " '../face_detection/efjpwlxrna_0.png 347,376,472,542,0',\n",
       " '../face_detection/bwadizhfgh_150.png 971,423,1106,595,0',\n",
       " '../face_detection/rckdmkkfpe_0.png 813,106,897,214,0',\n",
       " '../face_detection/bhneimyaiz_75.png 472,492,569,622,0',\n",
       " '../face_detection/quibiltcfc_150.png 902,183,1022,344,0',\n",
       " '../face_detection/pqlxybtkbo_75.png 506,210,640,405,0 1285,352,1441,578,0',\n",
       " '../face_detection/tznaadzmsu_75.png 1100,56,1252,249,0',\n",
       " '../face_detection/fpiybwcszz_0.png 478,365,685,674,0 1316,349,1484,575,0',\n",
       " '../face_detection/dsiirbwwyt_0.png 389,750,566,974,0',\n",
       " '../face_detection/tzcdyqctcl_0.png 823,230,1055,543,0',\n",
       " '../face_detection/egfsdciomi_150.png 427,239,658,537,0',\n",
       " '../face_detection/vvtcvjvkqx_0.png 837,145,967,307,0',\n",
       " '../face_detection/oxwglsatdl_0.png 738,733,928,989,0',\n",
       " '../face_detection/svjtuoxuvk_150.png 994,159,1171,374,0',\n",
       " '../face_detection/iyjscyomzv_75.png 575,113,644,214,0',\n",
       " '../face_detection/lpqxwrshfb_150.png 385,585,445,656,0',\n",
       " '../face_detection/zmoryxsvex_75.png 889,230,1026,413,0',\n",
       " '../face_detection/wojudxwtqn_0.png 806,137,1047,461,0',\n",
       " '../face_detection/fcfuyeauun_150.png 1274,354,1415,576,0 527,214,688,440,0',\n",
       " '../face_detection/pegeauyezt_150.png 902,331,1083,587,0',\n",
       " '../face_detection/uqrjsjwkdq_75.png 985,382,1107,540,0',\n",
       " '../face_detection/qqdkguczpc_0.png 472,489,676,737,0',\n",
       " '../face_detection/qgzafofgvg_0.png 473,497,570,628,0',\n",
       " '../face_detection/kudprnomkm_150.png 858,150,938,253,0',\n",
       " '../face_detection/cyywjpwwdn_150.png 741,714,844,848,0 192,712,290,842,0',\n",
       " '../face_detection/towerzohyf_0.png 254,708,321,795,0 499,743,563,838,0',\n",
       " '../face_detection/ayaquhexqz_0.png 898,280,1032,451,0 1018,496,1061,541,0',\n",
       " '../face_detection/ovhhfetnri_0.png 910,74,1055,251,0',\n",
       " '../face_detection/pyttfccelg_75.png 980,599,1044,683,0',\n",
       " '../face_detection/pqlirihvaz_150.png 706,141,960,465,0',\n",
       " '../face_detection/rjyvbdcygj_75.png 877,172,1080,427,0',\n",
       " '../face_detection/buzkrvzzlp_150.png 939,135,1104,351,0',\n",
       " '../face_detection/vauwynfqoz_0.png 634,617,729,751,0',\n",
       " '../face_detection/uvyrabzenf_150.png 290,572,358,656,0',\n",
       " '../face_detection/atwlvegbed_150.png 952,214,1075,374,0 1097,568,1129,602,0 912,752,941,785,0',\n",
       " '../face_detection/ifasoqslzi_75.png 747,139,876,301,0',\n",
       " '../face_detection/yrnvzuotht_0.png 367,434,482,579,0',\n",
       " '../face_detection/impdmlidjl_0.png 334,628,425,745,0',\n",
       " '../face_detection/nprqsxxjae_0.png 347,709,430,803,0',\n",
       " '../face_detection/tqdocbbvgq_150.png 315,565,396,668,0',\n",
       " '../face_detection/czjxkqbhmy_75.png 794,353,926,513,0',\n",
       " '../face_detection/lqbdnoglfj_0.png 388,845,525,1046,0',\n",
       " '../face_detection/lbbsofshdu_0.png 927,31,1059,191,0',\n",
       " '../face_detection/anewicpmkd_75.png 822,118,971,304,0',\n",
       " '../face_detection/joxrxwqzec_150.png 1000,339,1130,505,0',\n",
       " '../face_detection/yxdleubquk_150.png 917,482,1016,621,0',\n",
       " '../face_detection/nlrmvmkoux_75.png 382,532,453,621,0',\n",
       " '../face_detection/caolfufjvz_0.png 381,538,455,631,0',\n",
       " '../face_detection/fernwnthuy_75.png 727,126,991,450,0',\n",
       " '../face_detection/jxboywjitl_150.png 1095,288,1299,579,0',\n",
       " '../face_detection/aqgbewikxk_150.png 1314,231,1402,392,0',\n",
       " '../face_detection/ajrtkchido_150.png 945,436,1075,602,0',\n",
       " '../face_detection/hqcrauawma_150.png 774,219,999,510,0',\n",
       " '../face_detection/ogaakxbtdl_75.png 752,674,857,812,0 188,677,292,817,0',\n",
       " '../face_detection/rocmxliauc_150.png 1066,334,1276,606,0',\n",
       " '../face_detection/krgtejyztc_0.png 266,656,344,750,0',\n",
       " '../face_detection/bclowkiysp_150.png 1301,344,1473,573,0 459,344,656,646,0',\n",
       " '../face_detection/egwektrfea_75.png 759,266,920,463,0',\n",
       " '../face_detection/cbtcwfzudb_150.png 903,186,995,307,0',\n",
       " '../face_detection/hwfvxqqadm_75.png 841,87,927,196,0',\n",
       " '../face_detection/whpwsctanc_0.png 1118,326,1325,607,0',\n",
       " '../face_detection/qnkvjufsyp_0.png 589,109,663,210,0',\n",
       " '../face_detection/uweqkojgcd_75.png 815,302,903,421,0',\n",
       " '../face_detection/mlxbtnifob_75.png 681,285,882,575,0',\n",
       " '../face_detection/mvsfidzcno_0.png 302,568,381,663,0',\n",
       " '../face_detection/kuiurcmxdl_0.png 924,249,1088,458,0',\n",
       " '../face_detection/mgkyurkpqv_150.png 729,135,994,457,0',\n",
       " '../face_detection/uyndmiqdei_0.png 1231,114,1354,257,0',\n",
       " '../face_detection/zkcajdijeo_150.png 785,110,1043,427,0',\n",
       " '../face_detection/qcxkzxksxm_0.png 921,191,1051,369,0',\n",
       " '../face_detection/tdoduhmbps_75.png 308,580,393,693,0',\n",
       " '../face_detection/mskuywhlfh_0.png 905,65,1100,304,0',\n",
       " '../face_detection/evqxazxbnh_0.png 524,337,732,606,0 1330,335,1578,642,0',\n",
       " '../face_detection/frgbhpkdyf_0.png 816,171,992,400,0',\n",
       " '../face_detection/jweaeexdbp_75.png 328,446,397,531,0',\n",
       " '../face_detection/fjrueenjyp_75.png 775,229,990,521,0',\n",
       " '../face_detection/ylntmnbfvk_75.png 924,79,1049,239,0',\n",
       " '../face_detection/bdnoxibdvz_75.png 809,132,972,340,0',\n",
       " '../face_detection/wukrqihtjc_0.png 380,539,452,620,0',\n",
       " '../face_detection/lawnipsakn_75.png 432,383,510,473,0',\n",
       " '../face_detection/ayxuxnxwxa_0.png 284,568,357,656,0',\n",
       " '../face_detection/omhuumpxaw_75.png 338,706,423,806,0',\n",
       " '../face_detection/xfhegxbnpo_75.png 876,382,1025,585,0',\n",
       " '../face_detection/omrcrmiknk_75.png 834,116,980,304,0',\n",
       " '../face_detection/fafoyorfuc_150.png 240,546,390,740,0',\n",
       " '../face_detection/pbwkrxzgkd_150.png 504,734,682,961,0',\n",
       " '../face_detection/wywmsnneuv_150.png 546,573,691,772,0 1069,559,1213,748,0',\n",
       " '../face_detection/rtuoohyikq_0.png 526,585,665,766,0 1110,549,1250,740,0',\n",
       " '../face_detection/lnitxcpngr_75.png 838,134,994,318,0',\n",
       " '../face_detection/nvpwvgyuwp_150.png 706,164,939,448,0',\n",
       " '../face_detection/ntqwhlovhk_75.png 919,143,1104,358,0',\n",
       " '../face_detection/kiyuduxzuc_0.png 387,5,563,232,0',\n",
       " '../face_detection/nawmthvlow_0.png 397,160,618,448,0',\n",
       " '../face_detection/rbmfwexzgh_150.png 786,171,958,391,0',\n",
       " '../face_detection/etqtqvoofo_150.png 492,158,632,352,0',\n",
       " '../face_detection/ntpvqwgmqe_0.png 420,325,542,497,0',\n",
       " '../face_detection/uqhoxraupo_150.png 883,167,1081,429,0',\n",
       " '../face_detection/dbdlybcefl_75.png 423,366,496,456,0',\n",
       " '../face_detection/slvtflibjo_150.png 431,170,583,368,0',\n",
       " '../face_detection/uwuytbmjgz_75.png 405,316,484,415,0 848,277,946,413,0',\n",
       " '../face_detection/zcnslhnnhl_75.png 401,316,527,506,0',\n",
       " '../face_detection/blpsprzbrp_0.png 796,160,981,389,0',\n",
       " '../face_detection/fbxpssbrqp_75.png 1504,163,1672,382,0',\n",
       " '../face_detection/awbwkdsdkh_150.png 883,319,990,458,0 1013,965,1037,994,0',\n",
       " '../face_detection/mzlxoxafgf_0.png 1015,422,1116,544,0',\n",
       " '../face_detection/lkbxgoyknt_75.png 435,458,669,750,0',\n",
       " '../face_detection/ielwvvgavv_0.png 534,579,673,766,0 1042,564,1179,748,0',\n",
       " '../face_detection/vphzarsoea_75.png 557,227,786,535,0',\n",
       " '../face_detection/kugjvnhxpe_0.png 324,525,377,590,0',\n",
       " '../face_detection/yttiwrqnmz_150.png 558,358,735,591,0 1319,332,1559,639,0',\n",
       " '../face_detection/fpfqjqyrum_0.png 896,107,1048,296,0',\n",
       " '../face_detection/aglalfjfer_0.png 413,815,546,999,0',\n",
       " '../face_detection/leymeqbzho_150.png 1132,300,1336,571,0',\n",
       " '../face_detection/ppkzpkiart_75.png 882,259,1020,443,0',\n",
       " '../face_detection/ejmpycnatt_0.png 1098,227,1267,445,0',\n",
       " '../face_detection/nqbyjxbvwm_0.png 1245,182,1388,366,0 625,486,748,646,0',\n",
       " '../face_detection/daijlfwakh_75.png 565,256,701,421,0',\n",
       " '../face_detection/liloryfkmk_150.png 375,548,442,631,0',\n",
       " '../face_detection/xlgzsipnhf_0.png 903,244,981,344,0',\n",
       " '../face_detection/txcbkicwgk_150.png 685,428,814,608,0 1334,407,1499,619,0',\n",
       " '../face_detection/doiljuhamq_150.png 1328,208,1466,390,0',\n",
       " '../face_detection/snvgdxhfkb_75.png 1153,134,1287,303,0',\n",
       " '../face_detection/obrlocqism_75.png 395,579,452,650,0',\n",
       " '../face_detection/uvwhhohdvp_0.png 589,108,664,210,0',\n",
       " '../face_detection/upufdnalyp_75.png 408,415,533,561,0',\n",
       " '../face_detection/mimxuwpveu_0.png 755,245,1151,763,0',\n",
       " '../face_detection/hpcuqrtslu_75.png 807,125,1002,380,0',\n",
       " '../face_detection/ffbbbjollg_75.png 846,80,934,192,0',\n",
       " '../face_detection/senvnpnkqi_75.png 825,202,1020,454,0',\n",
       " '../face_detection/bzxesmhumc_75.png 697,187,1004,600,0',\n",
       " '../face_detection/yvhbqflikl_150.png 841,312,922,413,0',\n",
       " '../face_detection/uhakqelqri_0.png 612,601,716,753,0',\n",
       " '../face_detection/pooyjoentg_150.png 908,403,1053,599,0',\n",
       " '../face_detection/ysfotvgdcm_0.png 412,389,483,475,0',\n",
       " '../face_detection/ywlqmtcggy_0.png 552,106,635,228,0 1113,189,1190,311,0',\n",
       " '../face_detection/lobxktzhbg_75.png 450,619,593,812,0',\n",
       " '../face_detection/imtmwlmlpf_0.png 858,125,1066,374,0',\n",
       " '../face_detection/zqsmqkovmq_0.png 404,544,513,681,0',\n",
       " '../face_detection/ldhylgmuhd_0.png 1003,93,1177,310,0',\n",
       " '../face_detection/zqtbxbjpaz_0.png 291,554,381,673,0',\n",
       " '../face_detection/udorrtoaqi_0.png 818,159,933,294,0',\n",
       " '../face_detection/cuafoggwku_75.png 421,354,529,503,0',\n",
       " '../face_detection/cczisiwrmd_150.png 905,95,1124,393,0',\n",
       " '../face_detection/ktlfuovlcm_0.png 884,236,1034,441,0',\n",
       " '../face_detection/diymeordny_0.png 468,354,537,455,0',\n",
       " '../face_detection/fvcxtymazh_0.png 833,99,1091,417,0',\n",
       " '../face_detection/buesukpgjd_150.png 420,477,518,581,0',\n",
       " '../face_detection/coayfxnsgw_0.png 1062,171,1232,386,0',\n",
       " '../face_detection/ochctetzwh_150.png 390,589,445,656,0',\n",
       " '../face_detection/kwwrpybezr_75.png 749,257,930,482,0',\n",
       " '../face_detection/yjxbunjucp_150.png 758,111,851,238,0',\n",
       " '../face_detection/hpdnhefbll_150.png 851,243,1010,446,0',\n",
       " '../face_detection/ualfefzngn_0.png 953,311,1022,395,0',\n",
       " '../face_detection/yoijornhmt_150.png 469,319,536,414,0 852,262,949,386,0',\n",
       " '../face_detection/fapkhkflmj_0.png 1354,315,1497,529,0 527,174,675,399,0',\n",
       " '../face_detection/kpwwhpqfkx_150.png 375,325,502,527,0',\n",
       " '../face_detection/nxfbpqkosg_0.png 737,727,828,853,0 174,724,269,853,0',\n",
       " '../face_detection/kzntrdxatr_75.png 296,570,367,664,0',\n",
       " '../face_detection/yaxgjlahjv_150.png 494,367,577,472,0',\n",
       " '../face_detection/mogvaichzb_75.png 467,317,538,418,0 843,267,941,394,0',\n",
       " '../face_detection/vstmxsekmm_0.png 818,140,969,334,0',\n",
       " '../face_detection/ltctttgupm_150.png 476,188,633,405,0 1289,347,1435,565,0',\n",
       " '../face_detection/nvvghjfiqq_0.png 891,415,974,522,0',\n",
       " '../face_detection/htwfgdztjj_150.png 223,311,308,418,0 490,353,556,448,0',\n",
       " '../face_detection/pebxahyaac_0.png 975,136,1079,272,0',\n",
       " '../face_detection/dmduprrrmo_0.png 1085,160,1175,290,0',\n",
       " '../face_detection/urkkpopfzg_75.png 519,1044,649,1228,0',\n",
       " '../face_detection/vyncisxxci_150.png 656,124,866,384,0',\n",
       " '../face_detection/qdhkyhriqi_0.png 719,491,870,676,0',\n",
       " '../face_detection/xnfrhixfym_0.png 418,332,538,509,0',\n",
       " '../face_detection/uimejlrwlk_75.png 898,151,1067,367,0',\n",
       " '../face_detection/xchjfklncb_150.png 795,151,1004,414,0',\n",
       " '../face_detection/maktypgsfl_0.png 791,107,1062,420,0',\n",
       " '../face_detection/aglalfjfer_75.png 347,814,486,1003,0',\n",
       " '../face_detection/qbgbbhwubk_0.png 1245,181,1400,377,0 682,504,810,668,0',\n",
       " '../face_detection/flqeiqdoza_0.png 786,530,914,697,0',\n",
       " '../face_detection/jpgejzqzxc_75.png 924,75,1047,241,0',\n",
       " '../face_detection/neupqmvglo_150.png 833,154,914,261,0',\n",
       " '../face_detection/fqeebgwwfs_0.png 384,245,455,334,0 787,204,877,329,0',\n",
       " '../face_detection/tfqrimpcfz_0.png 1222,220,1358,395,0 674,499,800,685,0',\n",
       " '../face_detection/xauhzmhqdk_75.png 1164,382,1339,629,0',\n",
       " '../face_detection/bmhghysucl_0.png 957,270,1186,573,0',\n",
       " '../face_detection/mrlwazwhol_0.png 1035,427,1173,597,0',\n",
       " '../face_detection/mtowgsfoti_0.png 755,235,935,477,0',\n",
       " '../face_detection/bfmvjimrqn_75.png 1144,136,1280,303,0',\n",
       " '../face_detection/ahhdprhoww_0.png 420,330,544,524,0',\n",
       " '../face_detection/ddbhhoxaib_75.png 748,65,913,290,0',\n",
       " '../face_detection/yprqkgcoid_0.png 746,203,964,512,0',\n",
       " '../face_detection/etpwjvibdn_0.png 797,155,981,375,0',\n",
       " '../face_detection/vbyjwspnie_150.png 1213,184,1455,490,0',\n",
       " '../face_detection/yncjoacwmk_150.png 383,529,632,867,0',\n",
       " '../face_detection/kmtwntzbfy_75.png 798,160,881,263,0',\n",
       " '../face_detection/rpexbvllae_150.png 371,387,447,475,0',\n",
       " '../face_detection/qwxekdfymh_150.png 811,110,1057,404,0',\n",
       " '../face_detection/bftqgyprmz_75.png 427,105,545,275,0',\n",
       " '../face_detection/ockfqfgwmm_0.png 1086,494,1168,599,0',\n",
       " '../face_detection/xhwacojjdg_150.png 909,156,986,254,0',\n",
       " '../face_detection/edggkddtuv_0.png 342,464,412,548,0',\n",
       " '../face_detection/peqtejnxvv_75.png 1323,279,1515,545,0 526,197,691,410,0',\n",
       " '../face_detection/uywaaxlaca_150.png 699,204,850,386,0',\n",
       " '../face_detection/wuhxicjmkj_150.png 869,92,980,237,0',\n",
       " '../face_detection/fsaronfupy_150.png 387,313,519,515,0',\n",
       " '../face_detection/gcdavsiegr_150.png 973,222,1091,383,0',\n",
       " '../face_detection/fzznhjogqj_150.png 382,579,440,644,0',\n",
       " '../face_detection/suenouugfr_75.png 1084,152,1251,358,0',\n",
       " '../face_detection/tswfawjeei_150.png 351,810,491,1003,0',\n",
       " '../face_detection/nxosnovbjl_150.png 1102,340,1205,490,0',\n",
       " '../face_detection/rmbfitfevx_0.png 591,110,664,210,0',\n",
       " '../face_detection/pxatunhkih_0.png 891,253,1082,505,0',\n",
       " '../face_detection/ujaemekjcx_75.png 864,392,1012,613,0',\n",
       " '../face_detection/xfimbeeqma_75.png 267,690,341,786,0 492,729,557,816,0',\n",
       " '../face_detection/qixxotadmr_150.png 372,540,442,630,0',\n",
       " '../face_detection/yqkdlpvcpp_150.png 353,687,437,790,0',\n",
       " '../face_detection/ighgptshjh_0.png 557,342,741,592,0 1327,340,1565,644,0',\n",
       " '../face_detection/ynykatpaku_150.png 871,95,1060,339,0',\n",
       " '../face_detection/tmfamikbwm_150.png 865,249,953,366,0',\n",
       " '../face_detection/xokkkyyagn_75.png 1306,366,1441,575,0 515,202,668,412,0',\n",
       " '../face_detection/wydfrjeniu_150.png 939,388,1116,643,0',\n",
       " '../face_detection/oxmmvpptfo_0.png 898,233,1049,433,0',\n",
       " '../face_detection/knddyeyosu_150.png 887,116,1037,305,0',\n",
       " '../face_detection/jnltojrecm_0.png 795,120,938,314,0',\n",
       " '../face_detection/rqlpmeyhqh_150.png 643,599,742,752,0',\n",
       " '../face_detection/ncfgdgdumj_0.png 1095,313,1304,578,0',\n",
       " '../face_detection/wszlxixmte_150.png 866,153,1025,354,0',\n",
       " '../face_detection/nwvsbmyndn_0.png 849,605,995,799,0',\n",
       " '../face_detection/rbvrmojort_75.png 897,116,1027,278,0',\n",
       " '../face_detection/jxmkxhlphh_75.png 863,109,956,232,0',\n",
       " '../face_detection/ypsydrqqsl_0.png 438,841,685,1169,0',\n",
       " '../face_detection/trwucycqvi_150.png 461,347,658,644,0 1300,343,1474,569,0',\n",
       " '../face_detection/ojhhvdfarw_75.png 1049,234,1233,472,0',\n",
       " '../face_detection/bgebgmkxyc_75.png 287,561,366,656,0',\n",
       " '../face_detection/rjgqkowhuj_150.png 360,640,452,760,0',\n",
       " '../face_detection/nyvadgqzno_0.png 624,226,762,422,0 1278,318,1412,512,0',\n",
       " '../face_detection/ztyvglkcsf_75.png 675,263,880,544,0',\n",
       " '../face_detection/qivqhjfjda_150.png 1112,227,1249,414,0',\n",
       " '../face_detection/ydbnctieuk_150.png 825,190,940,320,0',\n",
       " '../face_detection/ycqxwzrorr_0.png 865,330,1049,583,0',\n",
       " '../face_detection/bhhyypufqy_150.png 411,391,483,480,0',\n",
       " '../face_detection/iksqygcnyj_0.png 895,160,974,256,0',\n",
       " '../face_detection/pykjeuufie_150.png 741,120,895,321,0',\n",
       " '../face_detection/obdcjfjdwk_75.png 309,530,370,602,0',\n",
       " '../face_detection/ybjbxrpmod_75.png 293,676,503,977,0',\n",
       " '../face_detection/ddqtdcasgi_0.png 996,116,1150,312,0',\n",
       " '../face_detection/wzyeipmbqb_150.png 975,226,1165,469,0',\n",
       " '../face_detection/tghhmitmpp_150.png 779,149,944,365,0',\n",
       " '../face_detection/yacilqlipr_0.png 784,201,873,333,0 368,231,449,351,0',\n",
       " '../face_detection/wkajsuweae_75.png 998,317,1065,404,0',\n",
       " '../face_detection/fnwkskwmff_150.png 924,315,999,416,0',\n",
       " '../face_detection/nyamcaufxi_150.png 687,152,949,478,0',\n",
       " '../face_detection/wsbxcztvel_0.png 875,276,999,435,0',\n",
       " '../face_detection/jqvbozufvl_75.png 882,95,966,203,0',\n",
       " '../face_detection/rxhqujqzwh_75.png 381,242,460,347,0 794,243,889,371,0',\n",
       " '../face_detection/rdhjgflrjg_150.png 1065,342,1283,608,0',\n",
       " '../face_detection/hbgmgdlkdd_75.png 1031,170,1216,401,0',\n",
       " '../face_detection/uhydodxuvb_150.png 867,203,1076,472,0',\n",
       " '../face_detection/hjjsuvothd_0.png 775,203,977,493,0',\n",
       " '../face_detection/xiizouutms_0.png 968,380,1108,557,0',\n",
       " '../face_detection/dmdhwpgbtx_0.png 896,252,1034,427,0',\n",
       " '../face_detection/zsdgdoluzg_150.png 622,202,769,400,0 1317,331,1457,550,0',\n",
       " '../face_detection/mrzxwbdycf_0.png 747,717,845,847,0 188,701,289,832,0',\n",
       " '../face_detection/rbvrmojort_0.png 955,115,1090,283,0',\n",
       " '../face_detection/jknutfonoa_75.png 415,417,535,557,0 284,746,321,793,0',\n",
       " '../face_detection/arvqhnzltg_0.png 991,349,1110,491,0',\n",
       " '../face_detection/ulbqxiejgi_150.png 771,65,887,202,0',\n",
       " '../face_detection/yukgstpxjp_0.png 347,629,442,741,0',\n",
       " '../face_detection/ebyyimdpyq_150.png 1113,89,1204,200,0',\n",
       " '../face_detection/zldzgyuxam_0.png 1053,350,1259,613,0',\n",
       " '../face_detection/okyiroviaz_75.png 526,714,599,815,0 273,706,337,797,0',\n",
       " '../face_detection/gkxirdxzbp_75.png 949,208,1136,457,0',\n",
       " '../face_detection/jbzixvffsf_75.png 391,543,460,627,0',\n",
       " '../face_detection/twsavjswax_0.png 381,589,439,656,0',\n",
       " '../face_detection/fcmdzspgeh_0.png 1037,100,1234,366,0',\n",
       " '../face_detection/pjzyiquxuh_150.png 969,143,1132,364,0',\n",
       " '../face_detection/acuplpopso_0.png 433,517,576,704,0',\n",
       " '../face_detection/csdjsonmcd_75.png 889,263,1074,507,0',\n",
       " '../face_detection/lsyfeltfuk_150.png 483,731,543,813,0 258,704,326,795,0',\n",
       " '../face_detection/kipsisnlxc_75.png 477,188,630,407,0 1275,356,1418,568,0',\n",
       " '../face_detection/rqndfubbro_75.png 675,264,882,543,0',\n",
       " '../face_detection/kgirhdnwgb_150.png 868,90,1015,284,0',\n",
       " '../face_detection/kwzdyatjln_75.png 937,61,1079,249,0',\n",
       " '../face_detection/knlpnpafsh_75.png 334,457,405,543,0',\n",
       " '../face_detection/gimfdwnnpj_150.png 824,113,899,207,0',\n",
       " '../face_detection/khjkpcgfek_150.png 622,204,768,405,0 1319,326,1462,558,0',\n",
       " '../face_detection/bwtyeeplxj_0.png 672,214,814,401,0',\n",
       " '../face_detection/ihwuefyndk_75.png 828,118,982,306,0',\n",
       " '../face_detection/plrbbgkrrf_0.png 245,708,318,803,0',\n",
       " '../face_detection/wdxpipozvj_0.png 580,343,762,598,0 1328,335,1567,639,0',\n",
       " '../face_detection/cgxyezxteb_150.png 753,661,860,797,0 207,647,307,776,0',\n",
       " '../face_detection/jpfaiudvgd_75.png 1087,150,1238,343,0',\n",
       " '../face_detection/ndpkorqsvv_150.png 517,149,660,352,0 1237,206,1350,397,0',\n",
       " '../face_detection/litakpzghb_150.png 770,290,930,515,0',\n",
       " '../face_detection/pxrhjlzird_75.png 349,816,479,988,0',\n",
       " '../face_detection/gklxjvzirw_75.png 1288,361,1432,576,0 454,169,596,383,0',\n",
       " '../face_detection/kpfqvgmnzw_150.png 634,189,789,366,0',\n",
       " '../face_detection/borwxlaoje_75.png 508,603,591,710,0',\n",
       " '../face_detection/hchiymmdqm_150.png 847,236,996,433,0',\n",
       " '../face_detection/ycqojhujkr_75.png 435,336,623,572,0',\n",
       " '../face_detection/lxubdzurrp_150.png 583,198,791,495,0',\n",
       " '../face_detection/fztpqmvlzp_150.png 1075,120,1217,326,0',\n",
       " '../face_detection/horutnradk_75.png 448,604,686,928,0',\n",
       " '../face_detection/cqrjepnrii_0.png 847,162,921,253,0',\n",
       " '../face_detection/jrqvrjdthp_150.png 940,311,1035,432,0',\n",
       " '../face_detection/dhfxzbuooo_75.png 414,411,540,560,0',\n",
       " '../face_detection/nlnziakqhq_0.png 1334,327,1564,630,0 566,358,744,612,0',\n",
       " '../face_detection/joaohtlqqt_0.png 303,564,374,651,0',\n",
       " '../face_detection/pngnzctffz_75.png 758,148,911,332,0',\n",
       " '../face_detection/kohrhtitja_75.png 883,318,1002,467,0',\n",
       " '../face_detection/qjgqdcpxbj_0.png 350,465,415,547,0',\n",
       " '../face_detection/raordaotvd_0.png 457,315,522,407,0 838,273,937,405,0',\n",
       " '../face_detection/ezuyqnjbwb_0.png 879,153,1066,352,0',\n",
       " '../face_detection/ydntymedcu_75.png 469,247,603,443,0 1282,266,1401,446,0',\n",
       " '../face_detection/sgdiraogcc_150.png 294,807,471,1027,0',\n",
       " '../face_detection/eoorgqcdxi_75.png 773,290,939,516,0',\n",
       " '../face_detection/knttlzqbxz_75.png 771,231,991,522,0',\n",
       " '../face_detection/sblcoyjgfv_75.png 900,341,1088,594,0',\n",
       " '../face_detection/sqlgevuajy_75.png 1019,150,1122,276,0',\n",
       " '../face_detection/ckkhekfajw_150.png 888,89,1009,243,0',\n",
       " '../face_detection/luxybgpeww_150.png 1010,409,1093,511,0 805,630,844,673,0',\n",
       " '../face_detection/oquzrhlhip_75.png 820,140,1023,402,0',\n",
       " '../face_detection/ecqulzqtgl_150.png 921,88,1068,280,0',\n",
       " '../face_detection/gpzlnnljhn_75.png 879,102,957,199,0',\n",
       " '../face_detection/gnlvnyrpfq_150.png 385,313,520,516,0',\n",
       " '../face_detection/yprxcbpmaj_75.png 233,545,370,720,0',\n",
       " '../face_detection/onewdbuehd_150.png 793,109,1059,432,0',\n",
       " '../face_detection/zxowjkhmmo_75.png 882,224,1025,412,0',\n",
       " '../face_detection/gnktnqnipj_75.png 382,244,459,347,0 785,206,889,342,0',\n",
       " '../face_detection/ujlvwgyhgk_150.png 683,444,805,622,0 1287,399,1430,594,0',\n",
       " '../face_detection/czugwbbiox_0.png 985,312,1104,463,0',\n",
       " '../face_detection/qweikxnvyq_150.png 369,325,499,517,0',\n",
       " '../face_detection/xpttchstmj_0.png 809,108,896,215,0',\n",
       " '../face_detection/vxbxvkgzoj_75.png 860,215,1006,406,0',\n",
       " '../face_detection/adwtqjusqx_75.png 605,102,670,202,0 1125,165,1214,295,0',\n",
       " '../face_detection/chhcmabekn_75.png 453,775,597,968,0',\n",
       " '../face_detection/gwqplejvnt_150.png 845,423,943,556,0',\n",
       " '../face_detection/iggixplyqf_150.png 824,145,930,280,0',\n",
       " '../face_detection/aavyetamvt_150.png 728,283,888,506,0',\n",
       " '../face_detection/blxtweqoax_150.png 895,241,1122,548,0',\n",
       " '../face_detection/mauhkjfaww_0.png 745,725,941,993,0',\n",
       " '../face_detection/vpysbzvfol_150.png 676,270,879,559,0',\n",
       " '../face_detection/xpflsgexnu_150.png 873,74,1015,257,0',\n",
       " '../face_detection/xysoqvpvfe_150.png 537,321,735,575,0 1380,282,1625,601,0',\n",
       " '../face_detection/hotcatfjfd_75.png 864,211,1016,409,0',\n",
       " '../face_detection/xlmduthjih_0.png 944,278,1160,541,0',\n",
       " '../face_detection/nsyxopfoau_75.png 713,335,780,421,0',\n",
       " '../face_detection/gopykvbaxq_150.png 832,181,1077,499,0',\n",
       " '../face_detection/vkqivxnett_150.png 1095,295,1304,577,0',\n",
       " '../face_detection/fmzmwupomf_150.png 773,249,925,468,0',\n",
       " '../face_detection/bhkjrexduj_150.png 773,296,871,421,0',\n",
       " '../face_detection/eupepgixho_150.png 966,363,1139,613,0',\n",
       " '../face_detection/wixujncvee_150.png 805,488,936,660,0',\n",
       " '../face_detection/aqgocqgpqp_150.png 442,328,652,637,0 1297,321,1468,545,0',\n",
       " '../face_detection/hgrmznqdzx_0.png 833,599,981,795,0',\n",
       " '../face_detection/idaqwmmsnm_150.png 778,113,1031,419,0',\n",
       " '../face_detection/dnydntpsxb_0.png 555,342,742,598,0 1339,340,1576,642,0',\n",
       " '../face_detection/gujltqnimc_75.png 547,575,686,766,0 1045,570,1200,769,0',\n",
       " '../face_detection/izjvqhjokl_75.png 379,4,554,259,0',\n",
       " '../face_detection/prknsveask_0.png 370,539,440,621,0',\n",
       " '../face_detection/gwtzqfraxf_0.png 872,185,996,359,0',\n",
       " '../face_detection/tzsnrrptgs_150.png 800,100,1002,373,0',\n",
       " '../face_detection/iostcayhox_75.png 800,123,884,230,0',\n",
       " '../face_detection/hsllgbjitl_0.png 402,576,455,641,0',\n",
       " '../face_detection/yuqqamlvbh_0.png 448,381,515,463,0',\n",
       " '../face_detection/gaezfjhckb_150.png 464,1070,586,1223,0',\n",
       " '../face_detection/bydtnhfnyp_150.png 842,140,962,292,0',\n",
       " '../face_detection/ymldbifpdy_0.png 839,596,974,781,0',\n",
       " '../face_detection/mjdbjwruav_150.png 375,389,449,474,0',\n",
       " '../face_detection/zvekgbrkvh_0.png 585,104,655,207,0',\n",
       " '../face_detection/edudlkyelu_0.png 779,346,926,534,0',\n",
       " '../face_detection/bphndjivob_0.png 1023,161,1159,383,0 162,133,309,361,0',\n",
       " '../face_detection/eqslzbqfea_75.png 873,270,1004,430,0',\n",
       " '../face_detection/pvaeizstfs_150.png 752,157,786,205,0 853,69,939,189,0',\n",
       " '../face_detection/ehthgupumf_0.png 963,386,1106,562,0',\n",
       " '../face_detection/byymvbttdc_150.png 895,262,1023,423,0',\n",
       " '../face_detection/klvpqabkcc_150.png 1013,148,1163,341,0',\n",
       " '../face_detection/lfxaxzsqxz_0.png 346,633,441,737,0',\n",
       " '../face_detection/ulhborgscf_0.png 946,237,1090,422,0',\n",
       " '../face_detection/vvixicbzkx_0.png 828,281,919,406,0 502,324,567,411,0',\n",
       " '../face_detection/wnoqyswmcj_150.png 360,621,448,729,0',\n",
       " '../face_detection/bptuspvmzq_75.png 786,529,924,715,0',\n",
       " '../face_detection/vkpnerzefy_0.png 738,720,836,849,0 147,694,249,834,0',\n",
       " '../face_detection/prpwmciuun_0.png 753,245,925,468,0',\n",
       " '../face_detection/mvzbyfqaav_150.png 894,246,1042,446,0 1089,961,1120,987,0',\n",
       " '../face_detection/wlxatkenif_0.png 453,220,590,413,0',\n",
       " '../face_detection/wrvwxjnzls_150.png 668,205,755,329,0 1141,150,1241,302,0',\n",
       " '../face_detection/gvythshkdh_150.png 350,377,480,548,0',\n",
       " '../face_detection/qtsxsaahex_0.png 180,316,258,413,0',\n",
       " '../face_detection/rpieqdamhl_0.png 985,306,1107,466,0',\n",
       " '../face_detection/hwgqgirdyc_0.png 891,267,1079,502,0',\n",
       " '../face_detection/rjyvbdcygj_0.png 887,173,1101,458,0',\n",
       " '../face_detection/pkkvvhnrla_75.png 383,5,557,258,0',\n",
       " '../face_detection/uoawpgthjz_0.png 848,183,1022,419,0',\n",
       " '../face_detection/jbpxyyacyj_75.png 866,224,1011,406,0',\n",
       " '../face_detection/wbsedosftd_75.png 932,187,1079,370,0',\n",
       " '../face_detection/zglixpvcna_0.png 975,377,1104,544,0',\n",
       " '../face_detection/ommvnsljtz_75.png 891,185,1042,370,0',\n",
       " '../face_detection/ycjbvwgnmk_150.png 849,247,1069,540,0',\n",
       " '../face_detection/tmhvbtmddg_0.png 669,150,832,336,0',\n",
       " '../face_detection/ygglrlqryk_150.png 894,437,997,571,0',\n",
       " '../face_detection/nxzpmygaut_150.png 364,730,558,983,0',\n",
       " '../face_detection/mlkqqghbru_0.png 1089,84,1296,371,0',\n",
       " '../face_detection/junllgghcq_0.png 784,345,931,527,0',\n",
       " '../face_detection/ukxulfmlut_150.png 893,101,1007,259,0',\n",
       " '../face_detection/aicezwkwgl_75.png 824,137,991,347,0',\n",
       " '../face_detection/xoaifvijgo_75.png 1226,217,1367,398,0 668,505,787,679,0',\n",
       " '../face_detection/gopbzglrzb_150.png 585,96,701,259,0',\n",
       " '../face_detection/iqgxpctdvo_75.png 223,305,312,419,0 476,360,546,459,0',\n",
       " '../face_detection/vbckyiygjj_150.png 282,575,356,661,0',\n",
       " '../face_detection/wqmllzylmd_150.png 889,96,972,203,0',\n",
       " '../face_detection/mnocmfylmg_150.png 870,217,1007,381,0',\n",
       " '../face_detection/nkhymwamrq_75.png 458,1054,579,1209,0',\n",
       " '../face_detection/lidetzyzjl_75.png 535,573,679,769,0 1036,565,1189,765,0',\n",
       " '../face_detection/arafzhoqil_150.png 365,237,446,350,0 780,209,882,342,0',\n",
       " '../face_detection/ynbttnqakp_150.png 846,78,935,194,0',\n",
       " '../face_detection/zfarvtxcax_0.png 863,85,1006,266,0',\n",
       " '../face_detection/ngyoubuxyf_150.png 387,536,635,868,0',\n",
       " '../face_detection/tnxvuevtqp_0.png 719,284,878,510,0',\n",
       " '../face_detection/bdnoxibdvz_150.png 800,161,960,371,0',\n",
       " '../face_detection/smmgysaxvl_0.png 547,193,771,497,0',\n",
       " '../face_detection/kpoxjpxtwn_0.png 878,152,1053,350,0',\n",
       " '../face_detection/olamtmlblj_0.png 538,1058,659,1212,0',\n",
       " '../face_detection/ggidptmvad_0.png 445,382,517,469,0',\n",
       " '../face_detection/wrkplbjpat_150.png 818,176,921,301,0',\n",
       " '../face_detection/uprhmcacrm_75.png 1052,315,1258,583,0',\n",
       " '../face_detection/zlgswtevyi_0.png 282,566,355,657,0',\n",
       " '../face_detection/qnhbpidutk_0.png 336,627,439,757,0',\n",
       " '../face_detection/dpcsinlpgj_150.png 482,267,674,525,0',\n",
       " '../face_detection/kxmsgjcosz_75.png 471,356,555,459,0',\n",
       " '../face_detection/ipisbnwavn_75.png 1135,124,1372,427,0',\n",
       " '../face_detection/dbiuxvqhrt_0.png 736,132,977,450,0',\n",
       " '../face_detection/xakgjcexsg_75.png 1046,131,1141,244,0',\n",
       " '../face_detection/qxfroxwskk_75.png 758,147,978,429,0',\n",
       " '../face_detection/lierfqvljh_150.png 434,473,533,586,0',\n",
       " '../face_detection/xarletcyje_75.png 518,608,603,724,0',\n",
       " '../face_detection/uhbmabnbkn_150.png 352,114,575,385,0',\n",
       " '../face_detection/rcjyfjozsp_150.png 459,1069,583,1224,0',\n",
       " '../face_detection/zaqhdqviez_75.png 509,599,591,706,0',\n",
       " '../face_detection/gmbjdmpmnh_0.png 911,94,1088,334,0',\n",
       " '../face_detection/vizerpsvbz_150.png 785,350,925,524,0',\n",
       " '../face_detection/elocxgidli_150.png 811,73,904,196,0',\n",
       " '../face_detection/dxfdovivlw_75.png 257,909,352,1029,0',\n",
       " '../face_detection/zmetpwttnz_150.png 797,167,982,394,0',\n",
       " '../face_detection/uzhjkdujit_150.png 946,143,1092,337,0',\n",
       " '../face_detection/zlqlajyayj_150.png 547,576,688,771,0 1071,552,1221,747,0',\n",
       " '../face_detection/blncrpznaa_0.png 863,120,1006,291,0',\n",
       " '../face_detection/alqayvaatm_0.png 937,308,1032,429,0',\n",
       " '../face_detection/hbhnsldfzo_75.png 771,347,927,546,0',\n",
       " '../face_detection/oiataegfag_150.png 904,229,1036,407,0',\n",
       " '../face_detection/wlpmeecjje_75.png 991,384,1071,485,0',\n",
       " '../face_detection/cxsjnptter_75.png 938,150,1099,370,0',\n",
       " '../face_detection/puylpqprqd_150.png 507,1043,624,1193,0',\n",
       " '../face_detection/nkvgaupnen_75.png 1379,276,1510,449,0 662,265,794,446,0',\n",
       " '../face_detection/ntqwhlovhk_0.png 933,107,1108,323,0',\n",
       " '../face_detection/pkmjflgidb_150.png 337,456,406,540,0',\n",
       " '../face_detection/cfwkrubysq_0.png 831,66,1041,349,0',\n",
       " '../face_detection/jrrslkdiaf_150.png 837,63,936,199,0',\n",
       " '../face_detection/aieprwfqzp_150.png 257,711,324,799,0 487,733,554,826,0',\n",
       " '../face_detection/gruarwuebb_0.png 774,164,942,392,0',\n",
       " '../face_detection/zezletzemg_75.png 283,565,378,679,0',\n",
       " '../face_detection/tlxrxywuhr_75.png 251,706,321,797,0',\n",
       " '../face_detection/hrshyeoquj_0.png 306,459,451,656,0',\n",
       " '../face_detection/wdyzqwntoe_0.png 427,325,552,515,0',\n",
       " '../face_detection/dcnltnfeeg_150.png 306,443,456,642,0',\n",
       " '../face_detection/jrentcffjc_0.png 1030,244,1263,569,0',\n",
       " '../face_detection/bupcliysfg_0.png 854,50,958,186,0',\n",
       " '../face_detection/ifzspsyvsu_75.png 479,506,582,643,0',\n",
       " '../face_detection/eopsexsidw_150.png 921,293,1084,498,0',\n",
       " '../face_detection/raehpbyvsy_75.png 422,397,496,494,0',\n",
       " '../face_detection/cspbxdvhzz_0.png 933,235,1078,420,0',\n",
       " '../face_detection/utkaptlbpw_0.png 457,427,563,572,0',\n",
       " '../face_detection/rhzrzwwdla_150.png 248,412,383,575,0',\n",
       " '../face_detection/cdiwhirjmi_0.png 917,191,1052,369,0',\n",
       " '../face_detection/iqqbkfscte_75.png 866,144,1073,424,0',\n",
       " '../face_detection/aeconjpzxx_75.png 944,360,1057,503,0',\n",
       " '../face_detection/jsdzhlsgbl_75.png 1111,190,1196,315,0 578,95,659,207,0',\n",
       " '../face_detection/wrybstjzbb_75.png 474,484,573,614,0',\n",
       " '../face_detection/jrsknzrssp_75.png 303,565,388,671,0',\n",
       " '../face_detection/olbarmbqpp_0.png 397,178,608,430,0',\n",
       " '../face_detection/azivnorcbt_75.png 491,974,648,1169,0',\n",
       " '../face_detection/dheefpgewg_75.png 403,340,619,639,0 1283,318,1450,544,0',\n",
       " '../face_detection/vbcgoyxsvn_0.png 827,282,949,430,0',\n",
       " '../face_detection/qqiedmmibt_0.png 730,329,857,483,0',\n",
       " '../face_detection/llwajzixvu_0.png 895,161,974,257,0',\n",
       " '../face_detection/rgwenetndf_150.png 934,240,1082,459,0',\n",
       " '../face_detection/knrmffbghi_0.png 861,147,1003,320,0',\n",
       " '../face_detection/prvytafjrk_75.png 859,133,945,250,0',\n",
       " '../face_detection/dwkkqhxclz_0.png 415,226,548,389,0',\n",
       " '../face_detection/rgzwmifgcj_75.png 853,176,934,279,0',\n",
       " '../face_detection/imbxxuipbi_150.png 423,394,496,482,0',\n",
       " '../face_detection/eiymzaejwi_75.png 780,326,938,527,0',\n",
       " '../face_detection/akmvjzulkz_75.png 841,144,935,259,0',\n",
       " '../face_detection/zwxpyekywc_0.png 543,195,690,401,0 1338,356,1475,570,0',\n",
       " '../face_detection/mzhigmfuby_150.png 370,456,481,589,0 234,772,266,814,0',\n",
       " '../face_detection/qyijvwfdvx_150.png 398,580,454,651,0',\n",
       " '../face_detection/tsyrafkwre_150.png 902,125,1025,300,0',\n",
       " '../face_detection/jcsqrhfgso_150.png 1026,322,1089,402,0',\n",
       " '../face_detection/esvhogkdzs_75.png 740,282,870,432,0',\n",
       " '../face_detection/vkzauartyf_0.png 345,464,413,549,0',\n",
       " '../face_detection/dmfednlroq_75.png 913,257,1084,457,0',\n",
       " '../face_detection/pkmjflgidb_0.png 336,463,401,543,0',\n",
       " '../face_detection/ydzbpreamo_0.png 716,432,838,621,0 1319,412,1457,596,0',\n",
       " '../face_detection/rwqpthrvfs_75.png 831,99,1030,352,0',\n",
       " '../face_detection/httftywuok_0.png 902,181,1063,390,0',\n",
       " '../face_detection/wcfiqthqyh_150.png 617,201,768,403,0 1319,302,1470,568,0',\n",
       " '../face_detection/pueipmaude_150.png 318,524,381,602,0',\n",
       " '../face_detection/pstkkfubvq_150.png 215,322,300,435,0 445,375,505,465,0',\n",
       " '../face_detection/wbwipxamgj_150.png 705,451,831,637,0 1250,410,1388,597,0',\n",
       " '../face_detection/qxpacncnfp_150.png 235,524,377,689,0',\n",
       " '../face_detection/nheslaitil_0.png 846,344,974,509,0',\n",
       " '../face_detection/vokunmhqum_75.png 910,114,1024,276,0',\n",
       " '../face_detection/wqewxnshij_75.png 966,129,1145,401,0',\n",
       " '../face_detection/wtahejnbel_75.png 417,663,569,854,0',\n",
       " '../face_detection/rtpblvywlq_0.png 836,149,961,295,0',\n",
       " '../face_detection/xivfssfypr_0.png 519,579,662,775,0 1054,602,1198,785,0',\n",
       " '../face_detection/bphailefxg_0.png 951,414,1082,581,0',\n",
       " '../face_detection/zxrrlzkgwj_75.png 425,766,577,976,0',\n",
       " '../face_detection/rmpbqeawlq_0.png 939,375,1064,534,0',\n",
       " '../face_detection/eoynlharxe_0.png 956,87,1055,255,0',\n",
       " '../face_detection/cstfqsxyhp_75.png 350,119,496,316,0',\n",
       " '../face_detection/wauznxenru_75.png 742,22,858,167,0',\n",
       " '../face_detection/cmpmbimess_150.png 826,127,983,333,0',\n",
       " '../face_detection/seumizxuis_150.png 885,193,993,347,0',\n",
       " '../face_detection/pokfbdequm_75.png 1011,104,1098,214,0',\n",
       " '../face_detection/kqlvggiqee_0.png 630,599,737,754,0',\n",
       " '../face_detection/sllndzvmea_150.png 695,110,884,364,0',\n",
       " '../face_detection/ojjaajdzhv_75.png 303,568,388,673,0',\n",
       " '../face_detection/ftfiiokrpe_150.png 444,441,555,594,0',\n",
       " '../face_detection/hwtupajxgl_0.png 1017,134,1178,339,0',\n",
       " '../face_detection/pzkdefgfyc_150.png 884,92,964,191,0',\n",
       " '../face_detection/krifcuqyay_150.png 1349,372,1500,589,0 529,175,681,387,0',\n",
       " '../face_detection/hjgxryckbx_0.png 868,313,993,471,0',\n",
       " '../face_detection/rfllwbwugy_0.png 1007,198,1140,366,0',\n",
       " '../face_detection/hnqocyfmyk_75.png 928,295,1053,456,0',\n",
       " '../face_detection/yodsqrvmxe_0.png 875,329,982,465,0',\n",
       " '../face_detection/mtrwraidkc_150.png 625,110,739,266,0',\n",
       " '../face_detection/lrjfwstjpr_0.png 800,189,892,321,0 408,229,485,340,0',\n",
       " '../face_detection/pjpodphqdu_75.png 810,306,936,466,0',\n",
       " '../face_detection/masfllwgjt_150.png 883,252,1062,486,0',\n",
       " '../face_detection/lhkqbslhqc_150.png 326,442,398,533,0',\n",
       " '../face_detection/iwqsvoozfx_75.png 854,254,1082,556,0',\n",
       " '../face_detection/ldqsqgnyol_0.png 1246,186,1396,376,0 682,502,810,669,0',\n",
       " '../face_detection/sackbsykqo_75.png 946,145,1154,406,0',\n",
       " '../face_detection/gasawaljil_75.png 850,79,939,188,0',\n",
       " '../face_detection/ycqrcqkrsi_75.png 336,806,477,999,0',\n",
       " '../face_detection/hjagxgkfhb_75.png 907,122,1053,305,0',\n",
       " '../face_detection/cjoykobwyh_150.png 961,377,1112,553,0',\n",
       " '../face_detection/btkhzjaqho_75.png 1275,356,1417,568,0 478,190,630,406,0',\n",
       " '../face_detection/oywsozuuyn_0.png 799,348,939,525,0',\n",
       " '../face_detection/ehypjoufkk_0.png 769,240,950,477,0',\n",
       " '../face_detection/mkziijlgsh_0.png 278,576,348,655,0',\n",
       " '../face_detection/fkmphbvzgx_75.png 374,537,445,621,0',\n",
       " '../face_detection/meehftqexr_150.png 410,3,601,246,0',\n",
       " '../face_detection/iqvxawitga_0.png 817,210,970,420,0',\n",
       " '../face_detection/hrehhvcwjv_75.png 1032,303,1113,404,0',\n",
       " '../face_detection/mshibrgvlv_150.png 515,561,655,759,0 1058,560,1213,756,0',\n",
       " '../face_detection/rtzxnlqhqt_0.png 780,124,1036,419,0',\n",
       " '../face_detection/fkdghyvcvc_150.png 214,328,295,431,0',\n",
       " '../face_detection/bqgwnuocdo_150.png 951,311,1016,390,0',\n",
       " '../face_detection/zqqfrjeokp_75.png 961,357,1106,538,0',\n",
       " '../face_detection/ytjwmglptg_75.png 485,634,622,826,0',\n",
       " '../face_detection/xvrmugrctg_0.png 670,128,962,494,0',\n",
       " '../face_detection/ysabskzckv_0.png 908,274,1082,486,0',\n",
       " '../face_detection/qlstcyptrk_0.png 549,642,625,743,0',\n",
       " '../face_detection/hgyiqroihk_75.png 850,136,974,285,0',\n",
       " '../face_detection/vebdzodnfd_0.png 262,697,333,793,0 491,734,549,814,0',\n",
       " '../face_detection/pivunfuemt_150.png 930,304,1051,448,0 1113,921,1131,942,0',\n",
       " '../face_detection/xfenokyrkn_75.png 818,127,1065,454,0',\n",
       " '../face_detection/yvpimaskia_150.png 655,376,854,652,0',\n",
       " '../face_detection/surcmsyrlz_150.png 389,534,633,864,0',\n",
       " '../face_detection/rpdzhweqtv_0.png 397,357,478,455,0',\n",
       " '../face_detection/xhoruswklx_75.png 826,79,909,193,0',\n",
       " '../face_detection/cuhbygmfxd_150.png 881,208,1082,461,0',\n",
       " '../face_detection/rewyhkernx_0.png 748,719,846,845,0 188,703,289,833,0',\n",
       " '../face_detection/lcqvnjqyji_0.png 735,123,1022,468,0',\n",
       " '../face_detection/dhpmnokwfn_150.png 829,130,982,335,0',\n",
       " '../face_detection/fvwfayarlg_75.png 451,776,655,1039,0',\n",
       " '../face_detection/vmakjnpbmv_150.png 1041,61,1265,356,0',\n",
       " '../face_detection/tohrqjyter_75.png 216,815,391,1030,0',\n",
       " '../face_detection/ajgqualrbi_75.png 208,322,292,430,0 450,352,523,458,0',\n",
       " '../face_detection/iallgurddp_0.png 422,392,493,482,0',\n",
       " '../face_detection/tatfpdvzoz_0.png 347,815,486,1008,0',\n",
       " '../face_detection/cmwqaulwau_0.png 959,381,1108,557,0',\n",
       " '../face_detection/tqavhnyfvs_0.png 878,241,1084,516,0',\n",
       " '../face_detection/hxqkgjannv_0.png 834,596,979,795,0',\n",
       " '../face_detection/qeopftwnwe_150.png 778,104,978,383,0',\n",
       " '../face_detection/rrcoqadebn_75.png 853,223,1011,417,0',\n",
       " '../face_detection/lvzibxmaeo_75.png 899,96,986,211,0',\n",
       " '../face_detection/ktamugxlwy_0.png 278,577,347,657,0',\n",
       " '../face_detection/qnagmkkjqz_150.png 558,356,739,597,0 1318,331,1559,639,0',\n",
       " '../face_detection/kyeewoffli_150.png 565,192,720,398,0 1412,304,1578,555,0',\n",
       " '../face_detection/rcxeypjgnl_0.png 870,170,1073,446,0',\n",
       " '../face_detection/jzaedaoqcm_75.png 974,230,1164,479,0',\n",
       " '../face_detection/mexxpmdfcr_150.png 774,297,871,417,0',\n",
       " '../face_detection/xarfrtqenk_150.png 383,1025,579,1277,0',\n",
       " '../face_detection/ljtadkfwvm_150.png 825,225,992,423,0',\n",
       " '../face_detection/rcmbefdvml_75.png 313,507,372,579,0',\n",
       " '../face_detection/unzgopcuuq_0.png 968,306,1127,498,0',\n",
       " '../face_detection/yplgmdzacb_150.png 982,114,1140,303,0',\n",
       " '../face_detection/detsnvjgrp_75.png 936,227,1065,450,0',\n",
       " '../face_detection/ibitakjzzn_0.png 849,226,1014,423,0',\n",
       " '../face_detection/kyvxzpwohk_0.png 926,78,1010,175,0',\n",
       " '../face_detection/kojdbsktjh_0.png 915,289,1087,520,0',\n",
       " '../face_detection/jfhujpvkay_150.png 943,432,1072,602,0',\n",
       " '../face_detection/wimbntkoha_0.png 910,224,1080,450,0',\n",
       " '../face_detection/nxbakpkutv_0.png 792,119,1034,401,0',\n",
       " '../face_detection/swqazbkruv_75.png 908,355,1080,592,0',\n",
       " '../face_detection/ggnkmvyrts_150.png 794,292,895,425,0',\n",
       " '../face_detection/imfcdepsrs_150.png 900,270,1025,426,0',\n",
       " '../face_detection/jdcwoqqeir_150.png 268,433,384,576,0',\n",
       " '../face_detection/msdjclfkuf_150.png 886,83,972,202,0',\n",
       " '../face_detection/dhgizzwrma_0.png 894,126,1058,330,0',\n",
       " '../face_detection/ecdvjgbxko_150.png 538,332,735,589,0 1314,284,1559,610,0',\n",
       " '../face_detection/cgmyiexmbk_75.png 768,221,963,458,0',\n",
       " '../face_detection/gygjqhfdvw_75.png 1374,267,1513,450,0 660,265,791,447,0',\n",
       " '../face_detection/ukpahpwqlr_75.png 866,407,950,514,0',\n",
       " '../face_detection/pshvwyylic_0.png 462,490,560,619,0',\n",
       " '../face_detection/ezuckynksv_75.png 393,579,454,651,0',\n",
       " '../face_detection/qflvhvhymj_75.png 686,440,814,623,0 1354,380,1487,539,0',\n",
       " '../face_detection/idsupeszcp_0.png 627,602,723,737,0',\n",
       " '../face_detection/qspdmgpzkn_150.png 516,1053,641,1226,0',\n",
       " '../face_detection/bnhjdjlszu_150.png 777,61,902,229,0',\n",
       " '../face_detection/mdahmdjnkk_75.png 271,669,498,972,0',\n",
       " '../face_detection/alrtntfxtd_0.png 881,274,1010,435,0',\n",
       " '../face_detection/icoexulwur_150.png 681,118,768,233,0',\n",
       " '../face_detection/dozjwhnedd_150.png 1105,327,1279,527,0',\n",
       " '../face_detection/llvlronfmw_150.png 293,566,366,652,0',\n",
       " '../face_detection/zpsgquuwuv_0.png 834,176,1008,391,0',\n",
       " '../face_detection/nygtvtsfiw_150.png 791,305,874,410,0',\n",
       " '../face_detection/ihgfevczof_150.png 1107,89,1200,201,0',\n",
       " '../face_detection/nfzbslpenp_75.png 1147,237,1282,427,0',\n",
       " '../face_detection/wdukmquzms_0.png 805,175,968,371,0 959,533,997,573,0',\n",
       " '../face_detection/mvkhbeiskl_150.png 822,198,1003,423,0',\n",
       " '../face_detection/zueclxodar_150.png 410,540,547,714,0',\n",
       " '../face_detection/uyzwvjizwq_0.png 702,455,820,625,0 1261,418,1399,607,0',\n",
       " '../face_detection/vyismybxnv_75.png 939,186,1085,376,0',\n",
       " '../face_detection/xuztiyokuz_75.png 892,266,1063,465,0',\n",
       " '../face_detection/koifnfvjbv_75.png 829,443,940,592,0',\n",
       " '../face_detection/opithuhnkd_0.png 454,319,522,414,0 896,285,1005,422,0',\n",
       " '../face_detection/ugrlhuxwkw_0.png 952,157,1034,267,0',\n",
       " '../face_detection/oxrhxiuhaq_150.png 275,649,345,732,0',\n",
       " '../face_detection/kufzoapffv_75.png 846,363,934,477,0',\n",
       " '../face_detection/bzyawroeif_75.png 243,908,342,1041,0',\n",
       " '../face_detection/poghsiouyo_150.png 851,112,977,284,0',\n",
       " '../face_detection/hbhnsldfzo_150.png 747,363,900,545,0',\n",
       " '../face_detection/bvufynfwom_75.png 991,382,1071,485,0',\n",
       " '../face_detection/fuiglusbnl_0.png 626,604,725,743,0',\n",
       " '../face_detection/npwekyspjo_0.png 464,428,691,715,0',\n",
       " '../face_detection/pftrwqispi_75.png 387,0,556,237,0',\n",
       " '../face_detection/eahthbqnbe_0.png 717,434,839,620,0 1299,403,1457,609,0',\n",
       " '../face_detection/skrwnpzxfz_0.png 966,386,1108,563,0',\n",
       " '../face_detection/iqedbspdto_150.png 814,223,1018,480,0',\n",
       " '../face_detection/qmqfqyqmfx_75.png 804,146,886,245,0',\n",
       " '../face_detection/gwhzrvwcky_75.png 810,123,916,265,0',\n",
       " '../face_detection/dbrzclhznh_0.png 1081,297,1290,568,0',\n",
       " '../face_detection/ammkabwonw_150.png 931,322,1085,513,0 874,617,911,665,0',\n",
       " '../face_detection/xhourslujq_75.png 791,122,1052,433,0',\n",
       " '../face_detection/teraptabzy_150.png 826,158,974,350,0',\n",
       " '../face_detection/ktzvbxfzmx_75.png 856,185,1039,426,0',\n",
       " '../face_detection/topjxzsfzn_0.png 854,128,940,242,0',\n",
       " '../face_detection/umxpqkdxkq_150.png 928,357,1088,578,0',\n",
       " ...]"
      ]
     },
     "execution_count": 21,
     "metadata": {},
     "output_type": "execute_result"
    }
   ],
   "source": [
    "lines[:num_train]"
   ]
  },
  {
   "cell_type": "code",
   "execution_count": 36,
   "metadata": {
    "ExecuteTime": {
     "end_time": "2020-01-07T23:08:32.071326Z",
     "start_time": "2020-01-07T23:08:32.065329Z"
    }
   },
   "outputs": [
    {
     "data": {
      "text/plain": [
       "['975', '309', '1124', '498']"
      ]
     },
     "execution_count": 36,
     "metadata": {},
     "output_type": "execute_result"
    }
   ],
   "source": [
    "lines[0].split(' ')[1].split(',')[:4]"
   ]
  },
  {
   "cell_type": "code",
   "execution_count": 39,
   "metadata": {
    "ExecuteTime": {
     "end_time": "2020-01-07T23:08:56.634997Z",
     "start_time": "2020-01-07T23:08:56.278976Z"
    }
   },
   "outputs": [],
   "source": [
    "df = pd.DataFrame([x.split(' ')[1].split(',')[:4] for x in lines])"
   ]
  },
  {
   "cell_type": "code",
   "execution_count": 48,
   "metadata": {
    "ExecuteTime": {
     "end_time": "2020-01-07T23:11:37.211492Z",
     "start_time": "2020-01-07T23:11:37.183491Z"
    },
    "scrolled": true
   },
   "outputs": [],
   "source": [
    "df['x_width'] = (df[2].astype('int32') - df[0].astype('int32')) / 4.6\n",
    "df['y_height'] = (df[3].astype('int32') - df[1].astype('int32')) / 4.6"
   ]
  },
  {
   "cell_type": "code",
   "execution_count": 49,
   "metadata": {
    "ExecuteTime": {
     "end_time": "2020-01-07T23:11:37.582485Z",
     "start_time": "2020-01-07T23:11:37.433490Z"
    }
   },
   "outputs": [
    {
     "data": {
      "text/plain": [
       "<matplotlib.axes._subplots.AxesSubplot at 0x2509ce87128>"
      ]
     },
     "execution_count": 49,
     "metadata": {},
     "output_type": "execute_result"
    },
    {
     "data": {
      "image/png": "[encoded data removed]",
      "text/plain": [
       "<Figure size 432x288 with 1 Axes>"
      ]
     },
     "metadata": {
      "needs_background": "light"
     },
     "output_type": "display_data"
    }
   ],
   "source": [
    "df['x_width'].hist()"
   ]
  },
  {
   "cell_type": "code",
   "execution_count": 50,
   "metadata": {
    "ExecuteTime": {
     "end_time": "2020-01-07T23:11:38.073652Z",
     "start_time": "2020-01-07T23:11:37.924643Z"
    }
   },
   "outputs": [
    {
     "data": {
      "text/plain": [
       "<matplotlib.axes._subplots.AxesSubplot at 0x2509cff58d0>"
      ]
     },
     "execution_count": 50,
     "metadata": {},
     "output_type": "execute_result"
    },
    {
     "data": {
      "image/png": "[encoded data removed]",
      "text/plain": [
       "<Figure size 432x288 with 1 Axes>"
      ]
     },
     "metadata": {
      "needs_background": "light"
     },
     "output_type": "display_data"
    }
   ],
   "source": [
    "df['y_height'].hist()"
   ]
  },
  {
   "cell_type": "code",
   "execution_count": 55,
   "metadata": {
    "ExecuteTime": {
     "end_time": "2020-01-07T23:15:19.511486Z",
     "start_time": "2020-01-07T23:15:17.499279Z"
    }
   },
   "outputs": [],
   "source": [
    "from sklearn.cluster import KMeans"
   ]
  },
  {
   "cell_type": "code",
   "execution_count": 70,
   "metadata": {
    "ExecuteTime": {
     "end_time": "2020-01-07T23:19:49.052758Z",
     "start_time": "2020-01-07T23:19:47.708759Z"
    }
   },
   "outputs": [],
   "source": [
    "kmeans = KMeans(n_clusters=6, random_state=0).fit(df[['x_width', 'y_height']].to_numpy())"
   ]
  },
  {
   "cell_type": "code",
   "execution_count": 71,
   "metadata": {
    "ExecuteTime": {
     "end_time": "2020-01-07T23:19:49.057756Z",
     "start_time": "2020-01-07T23:19:49.053759Z"
    }
   },
   "outputs": [
    {
     "data": {
      "text/plain": [
       "array([0, 0, 5, ..., 3, 4, 1])"
      ]
     },
     "execution_count": 71,
     "metadata": {},
     "output_type": "execute_result"
    }
   ],
   "source": [
    "kmeans.labels_"
   ]
  },
  {
   "cell_type": "code",
   "execution_count": 72,
   "metadata": {
    "ExecuteTime": {
     "end_time": "2020-01-07T23:19:49.138756Z",
     "start_time": "2020-01-07T23:19:49.132756Z"
    }
   },
   "outputs": [
    {
     "data": {
      "text/plain": [
       "(array([0, 1, 2, 3, 4, 5]),\n",
       " array([13065, 12894,  4549,  8653, 14131,    38], dtype=int64))"
      ]
     },
     "execution_count": 72,
     "metadata": {},
     "output_type": "execute_result"
    }
   ],
   "source": [
    "np.unique(kmeans.labels_, return_counts=True)"
   ]
  },
  {
   "cell_type": "code",
   "execution_count": 73,
   "metadata": {
    "ExecuteTime": {
     "end_time": "2020-01-07T23:19:49.476759Z",
     "start_time": "2020-01-07T23:19:49.472756Z"
    }
   },
   "outputs": [
    {
     "data": {
      "text/plain": [
       "array([[ 32.82691885,  43.13041149],\n",
       "       [ 25.59851638,  33.17867437],\n",
       "       [ 51.38709275,  66.82791934],\n",
       "       [ 41.43886356,  54.42120288],\n",
       "       [ 17.20763477,  21.86967906],\n",
       "       [106.78489703, 131.69908467]])"
      ]
     },
     "execution_count": 73,
     "metadata": {},
     "output_type": "execute_result"
    }
   ],
   "source": [
    "kmeans.cluster_centers_"
   ]
  },
  {
   "cell_type": "code",
   "execution_count": 45,
   "metadata": {
    "ExecuteTime": {
     "end_time": "2020-01-07T23:29:44.674617Z",
     "start_time": "2020-01-07T23:29:44.670618Z"
    }
   },
   "outputs": [
    {
     "data": {
      "text/plain": [
       "array([[ 17.,  21.],\n",
       "       [ 25.,  33.],\n",
       "       [ 32.,  43.],\n",
       "       [ 41.,  54.],\n",
       "       [ 51.,  66.],\n",
       "       [106., 131.]])"
      ]
     },
     "execution_count": 45,
     "metadata": {},
     "output_type": "execute_result"
    }
   ],
   "source": [
    "anchors"
   ]
  },
  {
   "cell_type": "code",
   "execution_count": 46,
   "metadata": {
    "ExecuteTime": {
     "end_time": "2020-01-07T23:29:45.938962Z",
     "start_time": "2020-01-07T23:29:45.933982Z"
    }
   },
   "outputs": [
    {
     "data": {
      "text/plain": [
       "array([[131., 106.],\n",
       "       [ 66.,  51.],\n",
       "       [ 54.,  41.],\n",
       "       [ 43.,  32.],\n",
       "       [ 33.,  25.],\n",
       "       [ 21.,  17.]])"
      ]
     },
     "execution_count": 46,
     "metadata": {},
     "output_type": "execute_result"
    }
   ],
   "source": [
    "np.flip(anchors)"
   ]
  },
  {
   "cell_type": "code",
   "execution_count": null,
   "metadata": {},
   "outputs": [],
   "source": []
  },
  {
   "cell_type": "code",
   "execution_count": 64,
   "metadata": {
    "ExecuteTime": {
     "end_time": "2020-01-07T23:17:41.187953Z",
     "start_time": "2020-01-07T23:17:40.698958Z"
    }
   },
   "outputs": [
    {
     "data": {
      "text/plain": [
       "<matplotlib.collections.PathCollection at 0x250a001a5f8>"
      ]
     },
     "execution_count": 64,
     "metadata": {},
     "output_type": "execute_result"
    },
    {
     "data": {
      "image/png": "[encoded data removed]",
      "text/plain": [
       "<Figure size 432x288 with 1 Axes>"
      ]
     },
     "metadata": {
      "needs_background": "light"
     },
     "output_type": "display_data"
    }
   ],
   "source": [
    "plt.scatter(df['y_height'], df['x_width'])"
   ]
  },
  {
   "cell_type": "code",
   "execution_count": 47,
   "metadata": {
    "ExecuteTime": {
     "end_time": "2020-01-07T23:11:15.650491Z",
     "start_time": "2020-01-07T23:11:15.645492Z"
    }
   },
   "outputs": [
    {
     "data": {
      "text/plain": [
       "4.615384615384615"
      ]
     },
     "execution_count": 47,
     "metadata": {},
     "output_type": "execute_result"
    }
   ],
   "source": [
    "1920/416"
   ]
  },
  {
   "cell_type": "markdown",
   "metadata": {
    "heading_collapsed": true
   },
   "source": [
    "### Load YOLO"
   ]
  },
  {
   "cell_type": "code",
   "execution_count": 19,
   "metadata": {
    "ExecuteTime": {
     "end_time": "2020-01-06T04:21:02.468859Z",
     "start_time": "2020-01-06T04:21:02.464858Z"
    },
    "hidden": true
   },
   "outputs": [],
   "source": [
    "from PIL import Image"
   ]
  },
  {
   "cell_type": "code",
   "execution_count": 20,
   "metadata": {
    "ExecuteTime": {
     "end_time": "2020-01-06T04:21:18.055922Z",
     "start_time": "2020-01-06T04:21:16.908891Z"
    },
    "hidden": true
   },
   "outputs": [
    {
     "name": "stdout",
     "output_type": "stream",
     "text": [
      "WARNING:tensorflow:From E:\\data\\deepfake-detection-challenge\\notebooks\\yolov3.py:45: The name tf.keras.backend.get_session is deprecated. Please use tf.compat.v1.keras.backend.get_session instead.\n",
      "\n",
      "tiny-yolov3.h5 model, anchors, and classes loaded.\n"
     ]
    }
   ],
   "source": [
    "import importlib\n",
    "import yolov3\n",
    "from yolov3 import YOLO\n",
    "importlib.reload(yolov3)\n",
    "# yolo = YOLO(yolo_model=model)\n",
    "yolo = YOLO()"
   ]
  },
  {
   "cell_type": "code",
   "execution_count": 21,
   "metadata": {
    "ExecuteTime": {
     "end_time": "2020-01-06T04:21:32.526913Z",
     "start_time": "2020-01-06T04:21:32.511889Z"
    },
    "hidden": true
   },
   "outputs": [],
   "source": [
    "img = Image.open('../face_detection/znrixntqqb_0.png')"
   ]
  },
  {
   "cell_type": "code",
   "execution_count": 22,
   "metadata": {
    "ExecuteTime": {
     "end_time": "2020-01-06T04:21:47.226891Z",
     "start_time": "2020-01-06T04:21:46.971900Z"
    },
    "hidden": true
   },
   "outputs": [
    {
     "name": "stdout",
     "output_type": "stream",
     "text": [
      "(416, 416, 3)\n"
     ]
    },
    {
     "ename": "TypeError",
     "evalue": "Tensor is unhashable if Tensor equality is enabled. Instead, use tensor.experimental_ref() as the key.",
     "output_type": "error",
     "traceback": [
      "\u001b[1;31m---------------------------------------------------------------------------\u001b[0m",
      "\u001b[1;31mTypeError\u001b[0m                                 Traceback (most recent call last)",
      "\u001b[1;32m<ipython-input-22-058b844da1bc>\u001b[0m in \u001b[0;36m<module>\u001b[1;34m\u001b[0m\n\u001b[1;32m----> 1\u001b[1;33m \u001b[0mres\u001b[0m \u001b[1;33m=\u001b[0m \u001b[0myolo\u001b[0m\u001b[1;33m.\u001b[0m\u001b[0mdetect_image\u001b[0m\u001b[1;33m(\u001b[0m\u001b[0mimg\u001b[0m\u001b[1;33m)\u001b[0m\u001b[1;33m\u001b[0m\u001b[1;33m\u001b[0m\u001b[0m\n\u001b[0m",
      "\u001b[1;32mE:\\data\\deepfake-detection-challenge\\notebooks\\yolov3.py\u001b[0m in \u001b[0;36mdetect_image\u001b[1;34m(self, image)\u001b[0m\n\u001b[0;32m    127\u001b[0m                 \u001b[0mself\u001b[0m\u001b[1;33m.\u001b[0m\u001b[0myolo_model\u001b[0m\u001b[1;33m.\u001b[0m\u001b[0minput\u001b[0m\u001b[1;33m:\u001b[0m \u001b[0mimage_data\u001b[0m\u001b[1;33m,\u001b[0m\u001b[1;33m\u001b[0m\u001b[1;33m\u001b[0m\u001b[0m\n\u001b[0;32m    128\u001b[0m                 \u001b[0mself\u001b[0m\u001b[1;33m.\u001b[0m\u001b[0minput_image_shape\u001b[0m\u001b[1;33m:\u001b[0m \u001b[1;33m[\u001b[0m\u001b[0mimage\u001b[0m\u001b[1;33m.\u001b[0m\u001b[0msize\u001b[0m\u001b[1;33m[\u001b[0m\u001b[1;36m1\u001b[0m\u001b[1;33m]\u001b[0m\u001b[1;33m,\u001b[0m \u001b[0mimage\u001b[0m\u001b[1;33m.\u001b[0m\u001b[0msize\u001b[0m\u001b[1;33m[\u001b[0m\u001b[1;36m0\u001b[0m\u001b[1;33m]\u001b[0m\u001b[1;33m]\u001b[0m\u001b[1;33m,\u001b[0m\u001b[1;33m\u001b[0m\u001b[1;33m\u001b[0m\u001b[0m\n\u001b[1;32m--> 129\u001b[1;33m                 \u001b[0mK\u001b[0m\u001b[1;33m.\u001b[0m\u001b[0mlearning_phase\u001b[0m\u001b[1;33m(\u001b[0m\u001b[1;33m)\u001b[0m\u001b[1;33m:\u001b[0m \u001b[1;36m0\u001b[0m\u001b[1;33m\u001b[0m\u001b[1;33m\u001b[0m\u001b[0m\n\u001b[0m\u001b[0;32m    130\u001b[0m             })\n\u001b[0;32m    131\u001b[0m \u001b[1;33m\u001b[0m\u001b[0m\n",
      "\u001b[1;32m~\\Anaconda3\\envs\\ml\\lib\\site-packages\\tensorflow_core\\python\\framework\\ops.py\u001b[0m in \u001b[0;36m__hash__\u001b[1;34m(self)\u001b[0m\n\u001b[0;32m    711\u001b[0m     if (Tensor._USE_EQUALITY and executing_eagerly_outside_functions() and\n\u001b[0;32m    712\u001b[0m         (g is None or g._building_function)):  # pylint: disable=protected-access\n\u001b[1;32m--> 713\u001b[1;33m       raise TypeError(\"Tensor is unhashable if Tensor equality is enabled. \"\n\u001b[0m\u001b[0;32m    714\u001b[0m                       \"Instead, use tensor.experimental_ref() as the key.\")\n\u001b[0;32m    715\u001b[0m     \u001b[1;32melse\u001b[0m\u001b[1;33m:\u001b[0m\u001b[1;33m\u001b[0m\u001b[1;33m\u001b[0m\u001b[0m\n",
      "\u001b[1;31mTypeError\u001b[0m: Tensor is unhashable if Tensor equality is enabled. Instead, use tensor.experimental_ref() as the key."
     ]
    }
   ],
   "source": [
    "res = yolo.detect_image(img)"
   ]
  },
  {
   "cell_type": "code",
   "execution_count": 64,
   "metadata": {
    "ExecuteTime": {
     "end_time": "2020-01-06T02:16:35.822162Z",
     "start_time": "2020-01-06T02:16:35.803163Z"
    },
    "hidden": true
   },
   "outputs": [
    {
     "name": "stdout",
     "output_type": "stream",
     "text": [
      "Version:  2.0.0\n",
      "Eager mode:  True\n"
     ]
    },
    {
     "ename": "NameError",
     "evalue": "name 'hub' is not defined",
     "output_type": "error",
     "traceback": [
      "\u001b[1;31m---------------------------------------------------------------------------\u001b[0m",
      "\u001b[1;31mNameError\u001b[0m                                 Traceback (most recent call last)",
      "\u001b[1;32m<ipython-input-64-31d8b5b75d49>\u001b[0m in \u001b[0;36m<module>\u001b[1;34m\u001b[0m\n\u001b[0;32m      1\u001b[0m \u001b[0mprint\u001b[0m\u001b[1;33m(\u001b[0m\u001b[1;34m\"Version: \"\u001b[0m\u001b[1;33m,\u001b[0m \u001b[0mtf\u001b[0m\u001b[1;33m.\u001b[0m\u001b[0m__version__\u001b[0m\u001b[1;33m)\u001b[0m\u001b[1;33m\u001b[0m\u001b[1;33m\u001b[0m\u001b[0m\n\u001b[0;32m      2\u001b[0m \u001b[0mprint\u001b[0m\u001b[1;33m(\u001b[0m\u001b[1;34m\"Eager mode: \"\u001b[0m\u001b[1;33m,\u001b[0m \u001b[0mtf\u001b[0m\u001b[1;33m.\u001b[0m\u001b[0mexecuting_eagerly\u001b[0m\u001b[1;33m(\u001b[0m\u001b[1;33m)\u001b[0m\u001b[1;33m)\u001b[0m\u001b[1;33m\u001b[0m\u001b[1;33m\u001b[0m\u001b[0m\n\u001b[1;32m----> 3\u001b[1;33m \u001b[0mprint\u001b[0m\u001b[1;33m(\u001b[0m\u001b[1;34m\"Hub version: \"\u001b[0m\u001b[1;33m,\u001b[0m \u001b[0mhub\u001b[0m\u001b[1;33m.\u001b[0m\u001b[0m__version__\u001b[0m\u001b[1;33m)\u001b[0m\u001b[1;33m\u001b[0m\u001b[1;33m\u001b[0m\u001b[0m\n\u001b[0m",
      "\u001b[1;31mNameError\u001b[0m: name 'hub' is not defined"
     ]
    }
   ],
   "source": [
    "print(\"Version: \", tf.__version__)\n",
    "print(\"Eager mode: \", tf.executing_eagerly())\n",
    "print(\"Hub version: \", hub.__version__)\n"
   ]
  },
  {
   "cell_type": "code",
   "execution_count": null,
   "metadata": {
    "ExecuteTime": {
     "end_time": "2020-01-06T02:00:58.549465Z",
     "start_time": "2020-01-06T02:00:55.000Z"
    },
    "hidden": true,
    "scrolled": true
   },
   "outputs": [],
   "source": [
    "res"
   ]
  },
  {
   "cell_type": "markdown",
   "metadata": {
    "heading_collapsed": true
   },
   "source": [
    "### Predict"
   ]
  },
  {
   "cell_type": "code",
   "execution_count": 21,
   "metadata": {
    "ExecuteTime": {
     "end_time": "2020-01-04T22:50:16.609034Z",
     "start_time": "2020-01-04T22:50:16.605034Z"
    },
    "hidden": true
   },
   "outputs": [
    {
     "data": {
      "text/plain": [
       "(None, 1)"
      ]
     },
     "execution_count": 21,
     "metadata": {},
     "output_type": "execute_result"
    }
   ],
   "source": [
    "model.output_shape"
   ]
  },
  {
   "cell_type": "code",
   "execution_count": 22,
   "metadata": {
    "ExecuteTime": {
     "end_time": "2020-01-04T22:50:16.637033Z",
     "start_time": "2020-01-04T22:50:16.611035Z"
    },
    "hidden": true
   },
   "outputs": [
    {
     "name": "stderr",
     "output_type": "stream",
     "text": [
      "C:\\Users\\Anti\\Anaconda3\\envs\\ml\\lib\\site-packages\\keras\\engine\\training_utils.py:819: UserWarning: Output yolo_loss missing from loss dictionary. We assume this was done on purpose. The fit and evaluate APIs will not be expecting any data to be passed to yolo_loss.\n",
      "  'be expecting any data to be passed to {0}.'.format(name))\n"
     ]
    }
   ],
   "source": [
    "model.compile(optimizer=Adam(lr=1e-4))"
   ]
  },
  {
   "cell_type": "code",
   "execution_count": 22,
   "metadata": {
    "ExecuteTime": {
     "end_time": "2020-01-04T22:55:46.908404Z",
     "start_time": "2020-01-04T22:55:46.885407Z"
    },
    "hidden": true,
    "scrolled": true
   },
   "outputs": [
    {
     "name": "stdout",
     "output_type": "stream",
     "text": [
      "Model: \"model_2\"\n",
      "__________________________________________________________________________________________________\n",
      "Layer (type)                    Output Shape         Param #     Connected to                     \n",
      "==================================================================================================\n",
      "input_1 (InputLayer)            (None, None, None, 3 0                                            \n",
      "__________________________________________________________________________________________________\n",
      "conv2d_1 (Conv2D)               (None, None, None, 1 432         input_1[0][0]                    \n",
      "__________________________________________________________________________________________________\n",
      "batch_normalization_1 (BatchNor (None, None, None, 1 64          conv2d_1[0][0]                   \n",
      "__________________________________________________________________________________________________\n",
      "leaky_re_lu_1 (LeakyReLU)       (None, None, None, 1 0           batch_normalization_1[0][0]      \n",
      "__________________________________________________________________________________________________\n",
      "max_pooling2d_1 (MaxPooling2D)  (None, None, None, 1 0           leaky_re_lu_1[0][0]              \n",
      "__________________________________________________________________________________________________\n",
      "conv2d_2 (Conv2D)               (None, None, None, 3 4608        max_pooling2d_1[0][0]            \n",
      "__________________________________________________________________________________________________\n",
      "batch_normalization_2 (BatchNor (None, None, None, 3 128         conv2d_2[0][0]                   \n",
      "__________________________________________________________________________________________________\n",
      "leaky_re_lu_2 (LeakyReLU)       (None, None, None, 3 0           batch_normalization_2[0][0]      \n",
      "__________________________________________________________________________________________________\n",
      "max_pooling2d_2 (MaxPooling2D)  (None, None, None, 3 0           leaky_re_lu_2[0][0]              \n",
      "__________________________________________________________________________________________________\n",
      "conv2d_3 (Conv2D)               (None, None, None, 6 18432       max_pooling2d_2[0][0]            \n",
      "__________________________________________________________________________________________________\n",
      "batch_normalization_3 (BatchNor (None, None, None, 6 256         conv2d_3[0][0]                   \n",
      "__________________________________________________________________________________________________\n",
      "leaky_re_lu_3 (LeakyReLU)       (None, None, None, 6 0           batch_normalization_3[0][0]      \n",
      "__________________________________________________________________________________________________\n",
      "max_pooling2d_3 (MaxPooling2D)  (None, None, None, 6 0           leaky_re_lu_3[0][0]              \n",
      "__________________________________________________________________________________________________\n",
      "conv2d_4 (Conv2D)               (None, None, None, 1 73728       max_pooling2d_3[0][0]            \n",
      "__________________________________________________________________________________________________\n",
      "batch_normalization_4 (BatchNor (None, None, None, 1 512         conv2d_4[0][0]                   \n",
      "__________________________________________________________________________________________________\n",
      "leaky_re_lu_4 (LeakyReLU)       (None, None, None, 1 0           batch_normalization_4[0][0]      \n",
      "__________________________________________________________________________________________________\n",
      "max_pooling2d_4 (MaxPooling2D)  (None, None, None, 1 0           leaky_re_lu_4[0][0]              \n",
      "__________________________________________________________________________________________________\n",
      "conv2d_5 (Conv2D)               (None, None, None, 2 294912      max_pooling2d_4[0][0]            \n",
      "__________________________________________________________________________________________________\n",
      "batch_normalization_5 (BatchNor (None, None, None, 2 1024        conv2d_5[0][0]                   \n",
      "__________________________________________________________________________________________________\n",
      "leaky_re_lu_5 (LeakyReLU)       (None, None, None, 2 0           batch_normalization_5[0][0]      \n",
      "__________________________________________________________________________________________________\n",
      "max_pooling2d_5 (MaxPooling2D)  (None, None, None, 2 0           leaky_re_lu_5[0][0]              \n",
      "__________________________________________________________________________________________________\n",
      "conv2d_6 (Conv2D)               (None, None, None, 5 1179648     max_pooling2d_5[0][0]            \n",
      "__________________________________________________________________________________________________\n",
      "batch_normalization_6 (BatchNor (None, None, None, 5 2048        conv2d_6[0][0]                   \n",
      "__________________________________________________________________________________________________\n",
      "leaky_re_lu_6 (LeakyReLU)       (None, None, None, 5 0           batch_normalization_6[0][0]      \n",
      "__________________________________________________________________________________________________\n",
      "max_pooling2d_6 (MaxPooling2D)  (None, None, None, 5 0           leaky_re_lu_6[0][0]              \n",
      "__________________________________________________________________________________________________\n",
      "conv2d_7 (Conv2D)               (None, None, None, 1 4718592     max_pooling2d_6[0][0]            \n",
      "__________________________________________________________________________________________________\n",
      "batch_normalization_7 (BatchNor (None, None, None, 1 4096        conv2d_7[0][0]                   \n",
      "__________________________________________________________________________________________________\n",
      "leaky_re_lu_7 (LeakyReLU)       (None, None, None, 1 0           batch_normalization_7[0][0]      \n",
      "__________________________________________________________________________________________________\n",
      "conv2d_8 (Conv2D)               (None, None, None, 2 262144      leaky_re_lu_7[0][0]              \n",
      "__________________________________________________________________________________________________\n",
      "batch_normalization_8 (BatchNor (None, None, None, 2 1024        conv2d_8[0][0]                   \n",
      "__________________________________________________________________________________________________\n",
      "leaky_re_lu_8 (LeakyReLU)       (None, None, None, 2 0           batch_normalization_8[0][0]      \n",
      "__________________________________________________________________________________________________\n",
      "conv2d_11 (Conv2D)              (None, None, None, 1 32768       leaky_re_lu_8[0][0]              \n",
      "__________________________________________________________________________________________________\n",
      "batch_normalization_10 (BatchNo (None, None, None, 1 512         conv2d_11[0][0]                  \n",
      "__________________________________________________________________________________________________\n",
      "leaky_re_lu_10 (LeakyReLU)      (None, None, None, 1 0           batch_normalization_10[0][0]     \n",
      "__________________________________________________________________________________________________\n",
      "up_sampling2d_1 (UpSampling2D)  (None, None, None, 1 0           leaky_re_lu_10[0][0]             \n",
      "__________________________________________________________________________________________________\n",
      "concatenate_1 (Concatenate)     (None, None, None, 3 0           up_sampling2d_1[0][0]            \n",
      "                                                                 leaky_re_lu_5[0][0]              \n",
      "__________________________________________________________________________________________________\n",
      "conv2d_9 (Conv2D)               (None, None, None, 5 1179648     leaky_re_lu_8[0][0]              \n",
      "__________________________________________________________________________________________________\n",
      "conv2d_12 (Conv2D)              (None, None, None, 2 884736      concatenate_1[0][0]              \n",
      "__________________________________________________________________________________________________\n",
      "batch_normalization_9 (BatchNor (None, None, None, 5 2048        conv2d_9[0][0]                   \n",
      "__________________________________________________________________________________________________\n",
      "batch_normalization_11 (BatchNo (None, None, None, 2 1024        conv2d_12[0][0]                  \n",
      "__________________________________________________________________________________________________\n",
      "leaky_re_lu_9 (LeakyReLU)       (None, None, None, 5 0           batch_normalization_9[0][0]      \n",
      "__________________________________________________________________________________________________\n",
      "leaky_re_lu_11 (LeakyReLU)      (None, None, None, 2 0           batch_normalization_11[0][0]     \n",
      "__________________________________________________________________________________________________\n",
      "conv2d_10 (Conv2D)              (None, None, None, 1 9234        leaky_re_lu_9[0][0]              \n",
      "__________________________________________________________________________________________________\n",
      "conv2d_13 (Conv2D)              (None, None, None, 1 4626        leaky_re_lu_11[0][0]             \n",
      "__________________________________________________________________________________________________\n",
      "input_2 (InputLayer)            (None, 13, 13, 3, 6) 0                                            \n",
      "__________________________________________________________________________________________________\n",
      "input_3 (InputLayer)            (None, 26, 26, 3, 6) 0                                            \n",
      "__________________________________________________________________________________________________\n",
      "yolo_loss (Lambda)              (None, 1)            0           conv2d_10[0][0]                  \n",
      "                                                                 conv2d_13[0][0]                  \n",
      "                                                                 input_2[0][0]                    \n",
      "                                                                 input_3[0][0]                    \n",
      "==================================================================================================\n",
      "Total params: 8,676,244\n",
      "Trainable params: 8,669,876\n",
      "Non-trainable params: 6,368\n",
      "__________________________________________________________________________________________________\n"
     ]
    }
   ],
   "source": [
    "model.summary()"
   ]
  },
  {
   "cell_type": "code",
   "execution_count": 24,
   "metadata": {
    "ExecuteTime": {
     "end_time": "2020-01-04T22:47:58.397477Z",
     "start_time": "2020-01-04T22:47:58.393501Z"
    },
    "deletable": false,
    "editable": false,
    "hidden": true,
    "run_control": {
     "frozen": true
    }
   },
   "outputs": [],
   "source": [
    "import os\n",
    "os.environ[\"PATH\"] += os.pathsep + 'C:/Users/Anti/Anaconda3/envs/ml/Lib/site-packages/graphviz'"
   ]
  },
  {
   "cell_type": "code",
   "execution_count": 25,
   "metadata": {
    "ExecuteTime": {
     "end_time": "2020-01-04T22:47:58.404503Z",
     "start_time": "2020-01-04T22:47:58.398479Z"
    },
    "deletable": false,
    "editable": false,
    "hidden": true,
    "run_control": {
     "frozen": true
    }
   },
   "outputs": [
    {
     "data": {
      "text/plain": [
       "'C:\\\\Users\\\\Anti\\\\Anaconda3\\\\envs\\\\ml\\\\lib\\\\site-packages\\\\pywin32_system32;C:\\\\Users\\\\Anti\\\\Anaconda3\\\\envs\\\\ml\\\\lib\\\\site-packages\\\\pywin32_system32;C:\\\\Users\\\\Anti\\\\Anaconda3\\\\envs\\\\ml;C:\\\\Users\\\\Anti\\\\Anaconda3\\\\envs\\\\ml\\\\Library\\\\mingw-w64\\\\bin;C:\\\\Users\\\\Anti\\\\Anaconda3\\\\envs\\\\ml\\\\Library\\\\usr\\\\bin;C:\\\\Users\\\\Anti\\\\Anaconda3\\\\envs\\\\ml\\\\Library\\\\bin;C:\\\\Users\\\\Anti\\\\Anaconda3\\\\envs\\\\ml\\\\Scripts;C:\\\\Users\\\\Anti\\\\Anaconda3\\\\envs\\\\ml\\\\bin;C:\\\\Users\\\\Anti\\\\Anaconda3\\\\condabin;C:\\\\Program Files\\\\NVIDIA GPU Computing Toolkit\\\\CUDA\\\\v10.2\\\\bin;C:\\\\Program Files\\\\NVIDIA GPU Computing Toolkit\\\\CUDA\\\\v10.2\\\\libnvvp;C:\\\\ProgramData\\\\DockerDesktop\\\\version-bin;C:\\\\Program Files\\\\Docker\\\\Docker\\\\Resources\\\\bin;C:\\\\Windows\\\\system32;C:\\\\Windows;C:\\\\Windows\\\\System32\\\\Wbem;C:\\\\Windows\\\\System32\\\\WindowsPowerShell\\\\v1.0;C:\\\\Windows\\\\System32\\\\OpenSSH;C:\\\\Program Files (x86)\\\\NVIDIA Corporation\\\\PhysX\\\\Common;C:\\\\Program Files\\\\NVIDIA Corporation\\\\NVIDIA NvDLISR;C:\\\\Program Files\\\\Git\\\\cmd;C:\\\\Program Files\\\\nodejs;C:\\\\Program Files\\\\PuTTY;C:\\\\Program Files (x86)\\\\IDEMIA\\\\AWP\\\\Dlls;C:\\\\Program Files\\\\IDEMIA\\\\AWP\\\\Dlls;C:\\\\Program Files\\\\NVIDIA Corporation\\\\Nsight Compute 2019.5.0;C:\\\\Program Files\\\\CMake\\\\bin;C:\\\\Users\\\\Anti\\\\AppData\\\\Local\\\\Microsoft\\\\WindowsApps;C:\\\\Users\\\\Anti\\\\AppData\\\\Roaming\\\\npm;C:/Users/Anti/Anaconda3/envs/ml/Lib/site-packages/graphviz'"
      ]
     },
     "execution_count": 25,
     "metadata": {},
     "output_type": "execute_result"
    }
   ],
   "source": [
    "os.environ[\"PATH\"]"
   ]
  },
  {
   "cell_type": "code",
   "execution_count": 26,
   "metadata": {
    "ExecuteTime": {
     "end_time": "2020-01-04T22:47:58.410482Z",
     "start_time": "2020-01-04T22:47:58.405478Z"
    },
    "deletable": false,
    "editable": false,
    "hidden": true,
    "run_control": {
     "frozen": true
    }
   },
   "outputs": [
    {
     "data": {
      "text/plain": [
       "';C:/Users/Anti/Anaconda3/envs/ml/Lib/site-packages/graphviz'"
      ]
     },
     "execution_count": 26,
     "metadata": {},
     "output_type": "execute_result"
    }
   ],
   "source": [
    "os.pathsep + 'C:/Users/Anti/Anaconda3/envs/ml/Lib/site-packages/graphviz'"
   ]
  },
  {
   "cell_type": "code",
   "execution_count": 48,
   "metadata": {
    "ExecuteTime": {
     "end_time": "2020-01-04T22:39:14.392169Z",
     "start_time": "2020-01-04T22:39:14.386166Z"
    },
    "hidden": true,
    "scrolled": true
   },
   "outputs": [
    {
     "data": {
      "text/plain": [
       "[<keras.layers.normalization.BatchNormalization at 0x1ec412d2358>,\n",
       " <keras.layers.advanced_activations.LeakyReLU at 0x1ec412d2eb8>,\n",
       " <keras.layers.pooling.MaxPooling2D at 0x1ec412d25c0>,\n",
       " <keras.layers.convolutional.Conv2D at 0x1ec412d22e8>,\n",
       " <keras.layers.normalization.BatchNormalization at 0x1ec412d2dd8>,\n",
       " <keras.layers.advanced_activations.LeakyReLU at 0x1ec412fa358>,\n",
       " <keras.layers.pooling.MaxPooling2D at 0x1ec412fa0b8>,\n",
       " <keras.layers.convolutional.Conv2D at 0x1ec412fa390>,\n",
       " <keras.layers.normalization.BatchNormalization at 0x1ec412fa7b8>,\n",
       " <keras.layers.advanced_activations.LeakyReLU at 0x1ec412fa550>,\n",
       " <keras.layers.pooling.MaxPooling2D at 0x1ec412fa518>,\n",
       " <keras.layers.convolutional.Conv2D at 0x1ec412fa8d0>,\n",
       " <keras.layers.normalization.BatchNormalization at 0x1ec412faa58>,\n",
       " <keras.layers.advanced_activations.LeakyReLU at 0x1ec412fab70>,\n",
       " <keras.layers.pooling.MaxPooling2D at 0x1ec412faba8>,\n",
       " <keras.layers.convolutional.Conv2D at 0x1ec412fac88>,\n",
       " <keras.layers.normalization.BatchNormalization at 0x1ec412fae10>,\n",
       " <keras.layers.advanced_activations.LeakyReLU at 0x1ec412faf28>,\n",
       " <keras.layers.pooling.MaxPooling2D at 0x1ec4130e128>,\n",
       " <keras.layers.convolutional.Conv2D at 0x1ec4130e198>,\n",
       " <keras.layers.normalization.BatchNormalization at 0x1ee78c05978>,\n",
       " <keras.layers.advanced_activations.LeakyReLU at 0x1ee78bf0f60>,\n",
       " <keras.layers.pooling.MaxPooling2D at 0x1ee78ccffd0>,\n",
       " <keras.layers.convolutional.Conv2D at 0x1ee78ccfd68>,\n",
       " <keras.layers.normalization.BatchNormalization at 0x1ee78ccfac8>,\n",
       " <keras.layers.advanced_activations.LeakyReLU at 0x1ee78ccf978>,\n",
       " <keras.layers.convolutional.Conv2D at 0x1ee78ccfa90>,\n",
       " <keras.layers.normalization.BatchNormalization at 0x1ee78ccf8d0>,\n",
       " <keras.layers.advanced_activations.LeakyReLU at 0x1ee78ccfef0>,\n",
       " <keras.layers.convolutional.Conv2D at 0x1ee78fecb38>,\n",
       " <keras.layers.normalization.BatchNormalization at 0x1ee79100400>,\n",
       " <keras.layers.advanced_activations.LeakyReLU at 0x1ee79100fd0>,\n",
       " <keras.layers.convolutional.UpSampling2D at 0x1ee79100f60>,\n",
       " <keras.layers.merge.Concatenate at 0x1ee79100908>,\n",
       " <keras.layers.convolutional.Conv2D at 0x1ee78cd8390>,\n",
       " <keras.layers.convolutional.Conv2D at 0x1ee791003c8>,\n",
       " <keras.layers.normalization.BatchNormalization at 0x1ee78f1d5f8>,\n",
       " <keras.layers.normalization.BatchNormalization at 0x1ee792235c0>,\n",
       " <keras.layers.advanced_activations.LeakyReLU at 0x1ee78f1dbe0>,\n",
       " <keras.layers.advanced_activations.LeakyReLU at 0x1ee792239e8>,\n",
       " <keras.layers.convolutional.Conv2D at 0x1ee78f0e240>,\n",
       " <keras.layers.convolutional.Conv2D at 0x1ee79223320>,\n",
       " <keras.engine.input_layer.InputLayer at 0x1ec3c0eab70>,\n",
       " <keras.engine.input_layer.InputLayer at 0x1ec412d2080>]"
      ]
     },
     "execution_count": 48,
     "metadata": {},
     "output_type": "execute_result"
    }
   ],
   "source": [
    "model.layers"
   ]
  },
  {
   "cell_type": "code",
   "execution_count": 22,
   "metadata": {
    "ExecuteTime": {
     "end_time": "2020-01-04T19:04:10.275405Z",
     "start_time": "2020-01-04T19:03:57.881406Z"
    },
    "hidden": true
   },
   "outputs": [],
   "source": [
    "idx = 0\n",
    "for x, y in data_generator_wrapper(lines[:num_train], 32, input_shape, anchors, num_classes):\n",
    "    idx += 1\n",
    "    if idx > 2:\n",
    "        break"
   ]
  },
  {
   "cell_type": "code",
   "execution_count": 23,
   "metadata": {
    "ExecuteTime": {
     "end_time": "2020-01-04T19:04:10.284405Z",
     "start_time": "2020-01-04T19:04:10.279409Z"
    },
    "hidden": true
   },
   "outputs": [
    {
     "data": {
      "text/plain": [
       "3"
      ]
     },
     "execution_count": 23,
     "metadata": {},
     "output_type": "execute_result"
    }
   ],
   "source": [
    "len(x)"
   ]
  },
  {
   "cell_type": "code",
   "execution_count": 24,
   "metadata": {
    "ExecuteTime": {
     "end_time": "2020-01-04T19:04:10.295405Z",
     "start_time": "2020-01-04T19:04:10.288406Z"
    },
    "hidden": true
   },
   "outputs": [
    {
     "data": {
      "text/plain": [
       "(32, 416, 416, 3)"
      ]
     },
     "execution_count": 24,
     "metadata": {},
     "output_type": "execute_result"
    }
   ],
   "source": [
    "x[0].shape"
   ]
  },
  {
   "cell_type": "code",
   "execution_count": 25,
   "metadata": {
    "ExecuteTime": {
     "end_time": "2020-01-04T19:04:10.301407Z",
     "start_time": "2020-01-04T19:04:10.297408Z"
    },
    "hidden": true
   },
   "outputs": [
    {
     "data": {
      "text/plain": [
       "(32, 13, 13, 3, 6)"
      ]
     },
     "execution_count": 25,
     "metadata": {},
     "output_type": "execute_result"
    }
   ],
   "source": [
    "x[1].shape"
   ]
  },
  {
   "cell_type": "code",
   "execution_count": 26,
   "metadata": {
    "ExecuteTime": {
     "end_time": "2020-01-04T19:04:10.309405Z",
     "start_time": "2020-01-04T19:04:10.303407Z"
    },
    "hidden": true
   },
   "outputs": [
    {
     "data": {
      "text/plain": [
       "(32, 26, 26, 3, 6)"
      ]
     },
     "execution_count": 26,
     "metadata": {},
     "output_type": "execute_result"
    }
   ],
   "source": [
    "x[2].shape"
   ]
  },
  {
   "cell_type": "code",
   "execution_count": 27,
   "metadata": {
    "ExecuteTime": {
     "end_time": "2020-01-04T19:04:10.317408Z",
     "start_time": "2020-01-04T19:04:10.311406Z"
    },
    "hidden": true
   },
   "outputs": [
    {
     "data": {
      "text/plain": [
       "array([0.        , 0.04807692, 0.08173077, 0.0889423 , 0.09615385,\n",
       "       0.14903846, 0.1514423 , 0.15865384, 0.17067307, 0.17307693,\n",
       "       0.18509616, 0.18990384, 0.19711539, 0.20192307, 0.20432693,\n",
       "       0.20913461, 0.21875   , 0.2235577 , 0.22596154, 0.25      ,\n",
       "       0.3125    , 0.33653846, 0.375     , 0.41105768, 0.44951922,\n",
       "       0.45192307, 0.4783654 , 0.48076922, 0.5192308 , 0.55288464,\n",
       "       0.6418269 , 0.68990386, 0.86538464, 1.        ], dtype=float32)"
      ]
     },
     "execution_count": 27,
     "metadata": {},
     "output_type": "execute_result"
    }
   ],
   "source": [
    "np.unique(x[1])"
   ]
  },
  {
   "cell_type": "code",
   "execution_count": 28,
   "metadata": {
    "ExecuteTime": {
     "end_time": "2020-01-04T19:04:10.332407Z",
     "start_time": "2020-01-04T19:04:10.319410Z"
    },
    "hidden": true
   },
   "outputs": [
    {
     "data": {
      "text/plain": [
       "array([0.        , 0.03605769, 0.03846154, 0.04326923, 0.04567308,\n",
       "       0.04807692, 0.05288462, 0.05769231, 0.06009615, 0.0625    ,\n",
       "       0.06490385, 0.0673077 , 0.06971154, 0.07211538, 0.07451923,\n",
       "       0.07692308, 0.08173077, 0.08413462, 0.08653846, 0.0889423 ,\n",
       "       0.09134615, 0.09615385, 0.10336538, 0.10576923, 0.10817308,\n",
       "       0.11538462, 0.1201923 , 0.12259615, 0.13221154, 0.13701923,\n",
       "       0.13942307, 0.14663461, 0.14903846, 0.1514423 , 0.15384616,\n",
       "       0.15865384, 0.1610577 , 0.16346154, 0.16586539, 0.17067307,\n",
       "       0.17307693, 0.18028846, 0.18509616, 0.18990384, 0.19711539,\n",
       "       0.20192307, 0.20432693, 0.20913461, 0.21875   , 0.22115384,\n",
       "       0.2235577 , 0.22596154, 0.22836539, 0.23557693, 0.24038461,\n",
       "       0.25      , 0.25480768, 0.27403846, 0.3125    , 0.33653846,\n",
       "       0.33894232, 0.34615386, 0.35576922, 0.375     , 0.37980768,\n",
       "       0.38701922, 0.39423078, 0.40384614, 0.40625   , 0.41105768,\n",
       "       0.43269232, 0.4375    , 0.44951922, 0.45192307, 0.4783654 ,\n",
       "       0.48076922, 0.48317307, 0.48557693, 0.4903846 , 0.50721157,\n",
       "       0.5192308 , 0.52403843, 0.5360577 , 0.54086536, 0.5432692 ,\n",
       "       0.55288464, 0.55528843, 0.5793269 , 0.625     , 0.6418269 ,\n",
       "       0.64903843, 0.65865386, 0.6730769 , 0.68028843, 0.6875    ,\n",
       "       0.68990386, 0.6923077 , 0.85096157, 0.86538464, 1.        ],\n",
       "      dtype=float32)"
      ]
     },
     "execution_count": 28,
     "metadata": {},
     "output_type": "execute_result"
    }
   ],
   "source": [
    "np.unique(x[2])"
   ]
  },
  {
   "cell_type": "code",
   "execution_count": 29,
   "metadata": {
    "ExecuteTime": {
     "end_time": "2020-01-04T19:04:10.340406Z",
     "start_time": "2020-01-04T19:04:10.334408Z"
    },
    "hidden": true
   },
   "outputs": [
    {
     "data": {
      "text/plain": [
       "(32, 26, 26, 3, 6)"
      ]
     },
     "execution_count": 29,
     "metadata": {},
     "output_type": "execute_result"
    }
   ],
   "source": [
    "x[2].shape"
   ]
  },
  {
   "cell_type": "code",
   "execution_count": 30,
   "metadata": {
    "ExecuteTime": {
     "end_time": "2020-01-04T19:04:10.352407Z",
     "start_time": "2020-01-04T19:04:10.342405Z"
    },
    "hidden": true
   },
   "outputs": [
    {
     "data": {
      "text/plain": [
       "array([[[[0., 0., 0., 0., 0., 0.],\n",
       "         [0., 0., 0., 0., 0., 0.],\n",
       "         [0., 0., 0., 0., 0., 0.]],\n",
       "\n",
       "        [[0., 0., 0., 0., 0., 0.],\n",
       "         [0., 0., 0., 0., 0., 0.],\n",
       "         [0., 0., 0., 0., 0., 0.]],\n",
       "\n",
       "        [[0., 0., 0., 0., 0., 0.],\n",
       "         [0., 0., 0., 0., 0., 0.],\n",
       "         [0., 0., 0., 0., 0., 0.]],\n",
       "\n",
       "        ...,\n",
       "\n",
       "        [[0., 0., 0., 0., 0., 0.],\n",
       "         [0., 0., 0., 0., 0., 0.],\n",
       "         [0., 0., 0., 0., 0., 0.]],\n",
       "\n",
       "        [[0., 0., 0., 0., 0., 0.],\n",
       "         [0., 0., 0., 0., 0., 0.],\n",
       "         [0., 0., 0., 0., 0., 0.]],\n",
       "\n",
       "        [[0., 0., 0., 0., 0., 0.],\n",
       "         [0., 0., 0., 0., 0., 0.],\n",
       "         [0., 0., 0., 0., 0., 0.]]],\n",
       "\n",
       "\n",
       "       [[[0., 0., 0., 0., 0., 0.],\n",
       "         [0., 0., 0., 0., 0., 0.],\n",
       "         [0., 0., 0., 0., 0., 0.]],\n",
       "\n",
       "        [[0., 0., 0., 0., 0., 0.],\n",
       "         [0., 0., 0., 0., 0., 0.],\n",
       "         [0., 0., 0., 0., 0., 0.]],\n",
       "\n",
       "        [[0., 0., 0., 0., 0., 0.],\n",
       "         [0., 0., 0., 0., 0., 0.],\n",
       "         [0., 0., 0., 0., 0., 0.]],\n",
       "\n",
       "        ...,\n",
       "\n",
       "        [[0., 0., 0., 0., 0., 0.],\n",
       "         [0., 0., 0., 0., 0., 0.],\n",
       "         [0., 0., 0., 0., 0., 0.]],\n",
       "\n",
       "        [[0., 0., 0., 0., 0., 0.],\n",
       "         [0., 0., 0., 0., 0., 0.],\n",
       "         [0., 0., 0., 0., 0., 0.]],\n",
       "\n",
       "        [[0., 0., 0., 0., 0., 0.],\n",
       "         [0., 0., 0., 0., 0., 0.],\n",
       "         [0., 0., 0., 0., 0., 0.]]],\n",
       "\n",
       "\n",
       "       [[[0., 0., 0., 0., 0., 0.],\n",
       "         [0., 0., 0., 0., 0., 0.],\n",
       "         [0., 0., 0., 0., 0., 0.]],\n",
       "\n",
       "        [[0., 0., 0., 0., 0., 0.],\n",
       "         [0., 0., 0., 0., 0., 0.],\n",
       "         [0., 0., 0., 0., 0., 0.]],\n",
       "\n",
       "        [[0., 0., 0., 0., 0., 0.],\n",
       "         [0., 0., 0., 0., 0., 0.],\n",
       "         [0., 0., 0., 0., 0., 0.]],\n",
       "\n",
       "        ...,\n",
       "\n",
       "        [[0., 0., 0., 0., 0., 0.],\n",
       "         [0., 0., 0., 0., 0., 0.],\n",
       "         [0., 0., 0., 0., 0., 0.]],\n",
       "\n",
       "        [[0., 0., 0., 0., 0., 0.],\n",
       "         [0., 0., 0., 0., 0., 0.],\n",
       "         [0., 0., 0., 0., 0., 0.]],\n",
       "\n",
       "        [[0., 0., 0., 0., 0., 0.],\n",
       "         [0., 0., 0., 0., 0., 0.],\n",
       "         [0., 0., 0., 0., 0., 0.]]],\n",
       "\n",
       "\n",
       "       ...,\n",
       "\n",
       "\n",
       "       [[[0., 0., 0., 0., 0., 0.],\n",
       "         [0., 0., 0., 0., 0., 0.],\n",
       "         [0., 0., 0., 0., 0., 0.]],\n",
       "\n",
       "        [[0., 0., 0., 0., 0., 0.],\n",
       "         [0., 0., 0., 0., 0., 0.],\n",
       "         [0., 0., 0., 0., 0., 0.]],\n",
       "\n",
       "        [[0., 0., 0., 0., 0., 0.],\n",
       "         [0., 0., 0., 0., 0., 0.],\n",
       "         [0., 0., 0., 0., 0., 0.]],\n",
       "\n",
       "        ...,\n",
       "\n",
       "        [[0., 0., 0., 0., 0., 0.],\n",
       "         [0., 0., 0., 0., 0., 0.],\n",
       "         [0., 0., 0., 0., 0., 0.]],\n",
       "\n",
       "        [[0., 0., 0., 0., 0., 0.],\n",
       "         [0., 0., 0., 0., 0., 0.],\n",
       "         [0., 0., 0., 0., 0., 0.]],\n",
       "\n",
       "        [[0., 0., 0., 0., 0., 0.],\n",
       "         [0., 0., 0., 0., 0., 0.],\n",
       "         [0., 0., 0., 0., 0., 0.]]],\n",
       "\n",
       "\n",
       "       [[[0., 0., 0., 0., 0., 0.],\n",
       "         [0., 0., 0., 0., 0., 0.],\n",
       "         [0., 0., 0., 0., 0., 0.]],\n",
       "\n",
       "        [[0., 0., 0., 0., 0., 0.],\n",
       "         [0., 0., 0., 0., 0., 0.],\n",
       "         [0., 0., 0., 0., 0., 0.]],\n",
       "\n",
       "        [[0., 0., 0., 0., 0., 0.],\n",
       "         [0., 0., 0., 0., 0., 0.],\n",
       "         [0., 0., 0., 0., 0., 0.]],\n",
       "\n",
       "        ...,\n",
       "\n",
       "        [[0., 0., 0., 0., 0., 0.],\n",
       "         [0., 0., 0., 0., 0., 0.],\n",
       "         [0., 0., 0., 0., 0., 0.]],\n",
       "\n",
       "        [[0., 0., 0., 0., 0., 0.],\n",
       "         [0., 0., 0., 0., 0., 0.],\n",
       "         [0., 0., 0., 0., 0., 0.]],\n",
       "\n",
       "        [[0., 0., 0., 0., 0., 0.],\n",
       "         [0., 0., 0., 0., 0., 0.],\n",
       "         [0., 0., 0., 0., 0., 0.]]],\n",
       "\n",
       "\n",
       "       [[[0., 0., 0., 0., 0., 0.],\n",
       "         [0., 0., 0., 0., 0., 0.],\n",
       "         [0., 0., 0., 0., 0., 0.]],\n",
       "\n",
       "        [[0., 0., 0., 0., 0., 0.],\n",
       "         [0., 0., 0., 0., 0., 0.],\n",
       "         [0., 0., 0., 0., 0., 0.]],\n",
       "\n",
       "        [[0., 0., 0., 0., 0., 0.],\n",
       "         [0., 0., 0., 0., 0., 0.],\n",
       "         [0., 0., 0., 0., 0., 0.]],\n",
       "\n",
       "        ...,\n",
       "\n",
       "        [[0., 0., 0., 0., 0., 0.],\n",
       "         [0., 0., 0., 0., 0., 0.],\n",
       "         [0., 0., 0., 0., 0., 0.]],\n",
       "\n",
       "        [[0., 0., 0., 0., 0., 0.],\n",
       "         [0., 0., 0., 0., 0., 0.],\n",
       "         [0., 0., 0., 0., 0., 0.]],\n",
       "\n",
       "        [[0., 0., 0., 0., 0., 0.],\n",
       "         [0., 0., 0., 0., 0., 0.],\n",
       "         [0., 0., 0., 0., 0., 0.]]]], dtype=float32)"
      ]
     },
     "execution_count": 30,
     "metadata": {},
     "output_type": "execute_result"
    }
   ],
   "source": [
    "x[2][0]"
   ]
  },
  {
   "cell_type": "code",
   "execution_count": 31,
   "metadata": {
    "ExecuteTime": {
     "end_time": "2020-01-04T19:04:10.359406Z",
     "start_time": "2020-01-04T19:04:10.353404Z"
    },
    "hidden": true
   },
   "outputs": [
    {
     "data": {
      "text/plain": [
       "32"
      ]
     },
     "execution_count": 31,
     "metadata": {},
     "output_type": "execute_result"
    }
   ],
   "source": [
    "len(y)"
   ]
  },
  {
   "cell_type": "code",
   "execution_count": 36,
   "metadata": {
    "ExecuteTime": {
     "end_time": "2020-01-04T19:40:25.071109Z",
     "start_time": "2020-01-04T19:40:24.821110Z"
    },
    "hidden": true
   },
   "outputs": [
    {
     "data": {
      "text/plain": [
       "array([7.271364, 7.271364, 7.271364, 7.271364, 7.271364, 7.271364,\n",
       "       7.271364, 7.271364, 7.271364, 7.271364, 7.271364, 7.271364,\n",
       "       7.271364, 7.271364, 7.271364, 7.271364, 7.271364, 7.271364,\n",
       "       7.271364, 7.271364, 7.271364, 7.271364, 7.271364, 7.271364,\n",
       "       7.271364, 7.271364, 7.271364, 7.271364, 7.271364, 7.271364,\n",
       "       7.271364, 7.271364], dtype=float32)"
      ]
     },
     "execution_count": 36,
     "metadata": {},
     "output_type": "execute_result"
    }
   ],
   "source": [
    "pred = model.predict(x)\n",
    "pred"
   ]
  },
  {
   "cell_type": "code",
   "execution_count": 40,
   "metadata": {
    "ExecuteTime": {
     "end_time": "2020-01-04T07:30:29.857978Z",
     "start_time": "2020-01-04T07:30:29.608008Z"
    },
    "hidden": true
   },
   "outputs": [],
   "source": [
    "pred = model.predict(x)"
   ]
  },
  {
   "cell_type": "code",
   "execution_count": 41,
   "metadata": {
    "ExecuteTime": {
     "end_time": "2020-01-04T07:30:44.471616Z",
     "start_time": "2020-01-04T07:30:44.467615Z"
    },
    "hidden": true
   },
   "outputs": [
    {
     "data": {
      "text/plain": [
       "array([5.7237024, 5.7237024, 5.7237024, 5.7237024, 5.7237024, 5.7237024,\n",
       "       5.7237024, 5.7237024, 5.7237024, 5.7237024, 5.7237024, 5.7237024,\n",
       "       5.7237024, 5.7237024, 5.7237024, 5.7237024, 5.7237024, 5.7237024,\n",
       "       5.7237024, 5.7237024, 5.7237024, 5.7237024, 5.7237024, 5.7237024,\n",
       "       5.7237024, 5.7237024, 5.7237024, 5.7237024, 5.7237024, 5.7237024,\n",
       "       5.7237024, 5.7237024], dtype=float32)"
      ]
     },
     "execution_count": 41,
     "metadata": {},
     "output_type": "execute_result"
    }
   ],
   "source": [
    "pred"
   ]
  },
  {
   "cell_type": "code",
   "execution_count": 41,
   "metadata": {
    "ExecuteTime": {
     "end_time": "2020-01-04T03:00:31.274620Z",
     "start_time": "2020-01-04T03:00:31.266783Z"
    },
    "hidden": true
   },
   "outputs": [
    {
     "data": {
      "text/plain": [
       "array([0., 0., 0., 0., 0., 0., 0., 0., 0., 0., 0., 0., 0., 0., 0., 0., 0.,\n",
       "       0., 0., 0., 0., 0., 0., 0., 0., 0., 0., 0., 0., 0., 0., 0.])"
      ]
     },
     "execution_count": 41,
     "metadata": {},
     "output_type": "execute_result"
    }
   ],
   "source": [
    "y"
   ]
  },
  {
   "cell_type": "code",
   "execution_count": null,
   "metadata": {
    "hidden": true
   },
   "outputs": [],
   "source": []
  },
  {
   "cell_type": "code",
   "execution_count": 50,
   "metadata": {
    "ExecuteTime": {
     "end_time": "2020-01-04T03:11:26.036214Z",
     "start_time": "2020-01-04T03:11:26.029213Z"
    },
    "hidden": true
   },
   "outputs": [],
   "source": [
    "def data_generator(annotation_lines, batch_size, input_shape, anchors, num_classes):\n",
    "    '''data generator for fit_generator'''\n",
    "    n = len(annotation_lines)\n",
    "    i = 0\n",
    "    while True:\n",
    "        image_data = []\n",
    "        box_data = []\n",
    "        for b in range(batch_size):\n",
    "            if i==0:\n",
    "                np.random.shuffle(annotation_lines)\n",
    "            image, box = get_random_data(annotation_lines[i], input_shape, random=True)\n",
    "            image_data.append(image)\n",
    "            box_data.append(box)\n",
    "            i = (i+1) % n\n",
    "        image_data = np.array(image_data)\n",
    "        box_data = np.array(box_data)\n",
    "        y_true = preprocess_true_boxes(box_data, input_shape, anchors, num_classes)\n",
    "        yield y_true\n",
    "        yield [image_data, *y_true], np.zeros(batch_size)\n",
    "\n",
    "def data_generator_wrapper(annotation_lines, batch_size, input_shape, anchors, num_classes):\n",
    "    n = len(annotation_lines)\n",
    "    if n==0 or batch_size<=0: return None\n",
    "    return data_generator(annotation_lines, batch_size, input_shape, anchors, num_classes)"
   ]
  },
  {
   "cell_type": "code",
   "execution_count": 51,
   "metadata": {
    "ExecuteTime": {
     "end_time": "2020-01-04T03:11:36.228233Z",
     "start_time": "2020-01-04T03:11:32.018195Z"
    },
    "hidden": true
   },
   "outputs": [],
   "source": [
    "for x, y in data_generator_wrapper(lines[:num_train], 32, input_shape, anchors, num_classes):\n",
    "    break"
   ]
  },
  {
   "cell_type": "code",
   "execution_count": 53,
   "metadata": {
    "ExecuteTime": {
     "end_time": "2020-01-04T03:11:51.379197Z",
     "start_time": "2020-01-04T03:11:51.375196Z"
    },
    "hidden": true
   },
   "outputs": [
    {
     "data": {
      "text/plain": [
       "(32, 13, 13, 3, 6)"
      ]
     },
     "execution_count": 53,
     "metadata": {},
     "output_type": "execute_result"
    }
   ],
   "source": [
    "x.shape"
   ]
  },
  {
   "cell_type": "code",
   "execution_count": 54,
   "metadata": {
    "ExecuteTime": {
     "end_time": "2020-01-04T03:11:57.001193Z",
     "start_time": "2020-01-04T03:11:56.995194Z"
    },
    "hidden": true
   },
   "outputs": [
    {
     "data": {
      "text/plain": [
       "(32, 26, 26, 3, 6)"
      ]
     },
     "execution_count": 54,
     "metadata": {},
     "output_type": "execute_result"
    }
   ],
   "source": [
    "y.shape"
   ]
  },
  {
   "cell_type": "code",
   "execution_count": 56,
   "metadata": {
    "ExecuteTime": {
     "end_time": "2020-01-04T03:12:18.180220Z",
     "start_time": "2020-01-04T03:12:18.176194Z"
    },
    "hidden": true
   },
   "outputs": [
    {
     "data": {
      "text/plain": [
       "1.0"
      ]
     },
     "execution_count": 56,
     "metadata": {},
     "output_type": "execute_result"
    }
   ],
   "source": [
    "y.max()"
   ]
  },
  {
   "cell_type": "code",
   "execution_count": 73,
   "metadata": {
    "ExecuteTime": {
     "end_time": "2020-01-04T03:48:32.378401Z",
     "start_time": "2020-01-04T03:48:32.375399Z"
    },
    "hidden": true
   },
   "outputs": [],
   "source": [
    "import importlib"
   ]
  },
  {
   "cell_type": "code",
   "execution_count": 79,
   "metadata": {
    "ExecuteTime": {
     "end_time": "2020-01-04T03:52:39.381876Z",
     "start_time": "2020-01-04T03:52:39.376879Z"
    },
    "hidden": true
   },
   "outputs": [],
   "source": [
    "import yolov3\n",
    "from yolov3 import YOLO"
   ]
  },
  {
   "cell_type": "code",
   "execution_count": 83,
   "metadata": {
    "ExecuteTime": {
     "end_time": "2020-01-04T03:55:53.277254Z",
     "start_time": "2020-01-04T03:55:51.476253Z"
    },
    "hidden": true,
    "scrolled": true
   },
   "outputs": [
    {
     "ename": "ValueError",
     "evalue": "Shapes (1, 1, 512, 255) and (18, 512, 1, 1) are incompatible",
     "output_type": "error",
     "traceback": [
      "\u001b[1;31m---------------------------------------------------------------------------\u001b[0m",
      "\u001b[1;31mNameError\u001b[0m                                 Traceback (most recent call last)",
      "\u001b[1;32mE:\\data\\deepfake-detection-challenge\\notebooks\\yolov3.py\u001b[0m in \u001b[0;36mgenerate\u001b[1;34m(self)\u001b[0m\n\u001b[0;32m     70\u001b[0m         \u001b[1;32mtry\u001b[0m\u001b[1;33m:\u001b[0m\u001b[1;33m\u001b[0m\u001b[1;33m\u001b[0m\u001b[0m\n\u001b[1;32m---> 71\u001b[1;33m             \u001b[0mself\u001b[0m\u001b[1;33m.\u001b[0m\u001b[0myolo_model\u001b[0m \u001b[1;33m=\u001b[0m \u001b[0mload_model\u001b[0m\u001b[1;33m(\u001b[0m\u001b[0mmodel_path\u001b[0m\u001b[1;33m,\u001b[0m \u001b[0mcompile\u001b[0m\u001b[1;33m=\u001b[0m\u001b[1;32mFalse\u001b[0m\u001b[1;33m)\u001b[0m\u001b[1;33m\u001b[0m\u001b[1;33m\u001b[0m\u001b[0m\n\u001b[0m\u001b[0;32m     72\u001b[0m         \u001b[1;32mexcept\u001b[0m\u001b[1;33m:\u001b[0m\u001b[1;33m\u001b[0m\u001b[1;33m\u001b[0m\u001b[0m\n",
      "\u001b[1;32m~\\Anaconda3\\envs\\ml\\lib\\site-packages\\keras\\engine\\saving.py\u001b[0m in \u001b[0;36mload_wrapper\u001b[1;34m(*args, **kwargs)\u001b[0m\n\u001b[0;32m    491\u001b[0m             \u001b[1;32mreturn\u001b[0m \u001b[0mres\u001b[0m\u001b[1;33m\u001b[0m\u001b[1;33m\u001b[0m\u001b[0m\n\u001b[1;32m--> 492\u001b[1;33m         \u001b[1;32mreturn\u001b[0m \u001b[0mload_function\u001b[0m\u001b[1;33m(\u001b[0m\u001b[1;33m*\u001b[0m\u001b[0margs\u001b[0m\u001b[1;33m,\u001b[0m \u001b[1;33m**\u001b[0m\u001b[0mkwargs\u001b[0m\u001b[1;33m)\u001b[0m\u001b[1;33m\u001b[0m\u001b[1;33m\u001b[0m\u001b[0m\n\u001b[0m\u001b[0;32m    493\u001b[0m \u001b[1;33m\u001b[0m\u001b[0m\n",
      "\u001b[1;32m~\\Anaconda3\\envs\\ml\\lib\\site-packages\\keras\\engine\\saving.py\u001b[0m in \u001b[0;36mload_model\u001b[1;34m(filepath, custom_objects, compile)\u001b[0m\n\u001b[0;32m    583\u001b[0m         \u001b[1;32mwith\u001b[0m \u001b[0mH5Dict\u001b[0m\u001b[1;33m(\u001b[0m\u001b[0mfilepath\u001b[0m\u001b[1;33m,\u001b[0m \u001b[0mmode\u001b[0m\u001b[1;33m=\u001b[0m\u001b[1;34m'r'\u001b[0m\u001b[1;33m)\u001b[0m \u001b[1;32mas\u001b[0m \u001b[0mh5dict\u001b[0m\u001b[1;33m:\u001b[0m\u001b[1;33m\u001b[0m\u001b[1;33m\u001b[0m\u001b[0m\n\u001b[1;32m--> 584\u001b[1;33m             \u001b[0mmodel\u001b[0m \u001b[1;33m=\u001b[0m \u001b[0m_deserialize_model\u001b[0m\u001b[1;33m(\u001b[0m\u001b[0mh5dict\u001b[0m\u001b[1;33m,\u001b[0m \u001b[0mcustom_objects\u001b[0m\u001b[1;33m,\u001b[0m \u001b[0mcompile\u001b[0m\u001b[1;33m)\u001b[0m\u001b[1;33m\u001b[0m\u001b[1;33m\u001b[0m\u001b[0m\n\u001b[0m\u001b[0;32m    585\u001b[0m     \u001b[1;32melif\u001b[0m \u001b[0mhasattr\u001b[0m\u001b[1;33m(\u001b[0m\u001b[0mfilepath\u001b[0m\u001b[1;33m,\u001b[0m \u001b[1;34m'write'\u001b[0m\u001b[1;33m)\u001b[0m \u001b[1;32mand\u001b[0m \u001b[0mcallable\u001b[0m\u001b[1;33m(\u001b[0m\u001b[0mfilepath\u001b[0m\u001b[1;33m.\u001b[0m\u001b[0mwrite\u001b[0m\u001b[1;33m)\u001b[0m\u001b[1;33m:\u001b[0m\u001b[1;33m\u001b[0m\u001b[1;33m\u001b[0m\u001b[0m\n",
      "\u001b[1;32m~\\Anaconda3\\envs\\ml\\lib\\site-packages\\keras\\engine\\saving.py\u001b[0m in \u001b[0;36m_deserialize_model\u001b[1;34m(h5dict, custom_objects, compile)\u001b[0m\n\u001b[0;32m    273\u001b[0m     \u001b[0mmodel_config\u001b[0m \u001b[1;33m=\u001b[0m \u001b[0mjson\u001b[0m\u001b[1;33m.\u001b[0m\u001b[0mloads\u001b[0m\u001b[1;33m(\u001b[0m\u001b[0mmodel_config\u001b[0m\u001b[1;33m.\u001b[0m\u001b[0mdecode\u001b[0m\u001b[1;33m(\u001b[0m\u001b[1;34m'utf-8'\u001b[0m\u001b[1;33m)\u001b[0m\u001b[1;33m)\u001b[0m\u001b[1;33m\u001b[0m\u001b[1;33m\u001b[0m\u001b[0m\n\u001b[1;32m--> 274\u001b[1;33m     \u001b[0mmodel\u001b[0m \u001b[1;33m=\u001b[0m \u001b[0mmodel_from_config\u001b[0m\u001b[1;33m(\u001b[0m\u001b[0mmodel_config\u001b[0m\u001b[1;33m,\u001b[0m \u001b[0mcustom_objects\u001b[0m\u001b[1;33m=\u001b[0m\u001b[0mcustom_objects\u001b[0m\u001b[1;33m)\u001b[0m\u001b[1;33m\u001b[0m\u001b[1;33m\u001b[0m\u001b[0m\n\u001b[0m\u001b[0;32m    275\u001b[0m     \u001b[0mmodel_weights_group\u001b[0m \u001b[1;33m=\u001b[0m \u001b[0mh5dict\u001b[0m\u001b[1;33m[\u001b[0m\u001b[1;34m'model_weights'\u001b[0m\u001b[1;33m]\u001b[0m\u001b[1;33m\u001b[0m\u001b[1;33m\u001b[0m\u001b[0m\n",
      "\u001b[1;32m~\\Anaconda3\\envs\\ml\\lib\\site-packages\\keras\\engine\\saving.py\u001b[0m in \u001b[0;36mmodel_from_config\u001b[1;34m(config, custom_objects)\u001b[0m\n\u001b[0;32m    626\u001b[0m     \u001b[1;32mfrom\u001b[0m \u001b[1;33m.\u001b[0m\u001b[1;33m.\u001b[0m\u001b[0mlayers\u001b[0m \u001b[1;32mimport\u001b[0m \u001b[0mdeserialize\u001b[0m\u001b[1;33m\u001b[0m\u001b[1;33m\u001b[0m\u001b[0m\n\u001b[1;32m--> 627\u001b[1;33m     \u001b[1;32mreturn\u001b[0m \u001b[0mdeserialize\u001b[0m\u001b[1;33m(\u001b[0m\u001b[0mconfig\u001b[0m\u001b[1;33m,\u001b[0m \u001b[0mcustom_objects\u001b[0m\u001b[1;33m=\u001b[0m\u001b[0mcustom_objects\u001b[0m\u001b[1;33m)\u001b[0m\u001b[1;33m\u001b[0m\u001b[1;33m\u001b[0m\u001b[0m\n\u001b[0m\u001b[0;32m    628\u001b[0m \u001b[1;33m\u001b[0m\u001b[0m\n",
      "\u001b[1;32m~\\Anaconda3\\envs\\ml\\lib\\site-packages\\keras\\layers\\__init__.py\u001b[0m in \u001b[0;36mdeserialize\u001b[1;34m(config, custom_objects)\u001b[0m\n\u001b[0;32m    167\u001b[0m                                     \u001b[0mcustom_objects\u001b[0m\u001b[1;33m=\u001b[0m\u001b[0mcustom_objects\u001b[0m\u001b[1;33m,\u001b[0m\u001b[1;33m\u001b[0m\u001b[1;33m\u001b[0m\u001b[0m\n\u001b[1;32m--> 168\u001b[1;33m                                     printable_module_name='layer')\n\u001b[0m",
      "\u001b[1;32m~\\Anaconda3\\envs\\ml\\lib\\site-packages\\keras\\utils\\generic_utils.py\u001b[0m in \u001b[0;36mdeserialize_keras_object\u001b[1;34m(identifier, module_objects, custom_objects, printable_module_name)\u001b[0m\n\u001b[0;32m    146\u001b[0m                     custom_objects=dict(list(_GLOBAL_CUSTOM_OBJECTS.items()) +\n\u001b[1;32m--> 147\u001b[1;33m                                         list(custom_objects.items())))\n\u001b[0m\u001b[0;32m    148\u001b[0m             \u001b[1;32mwith\u001b[0m \u001b[0mCustomObjectScope\u001b[0m\u001b[1;33m(\u001b[0m\u001b[0mcustom_objects\u001b[0m\u001b[1;33m)\u001b[0m\u001b[1;33m:\u001b[0m\u001b[1;33m\u001b[0m\u001b[1;33m\u001b[0m\u001b[0m\n",
      "\u001b[1;32m~\\Anaconda3\\envs\\ml\\lib\\site-packages\\keras\\engine\\network.py\u001b[0m in \u001b[0;36mfrom_config\u001b[1;34m(cls, config, custom_objects)\u001b[0m\n\u001b[0;32m   1074\u001b[0m                         \u001b[1;32mtry\u001b[0m\u001b[1;33m:\u001b[0m\u001b[1;33m\u001b[0m\u001b[1;33m\u001b[0m\u001b[0m\n\u001b[1;32m-> 1075\u001b[1;33m                             \u001b[0mprocess_node\u001b[0m\u001b[1;33m(\u001b[0m\u001b[0mlayer\u001b[0m\u001b[1;33m,\u001b[0m \u001b[0mnode_data\u001b[0m\u001b[1;33m)\u001b[0m\u001b[1;33m\u001b[0m\u001b[1;33m\u001b[0m\u001b[0m\n\u001b[0m\u001b[0;32m   1076\u001b[0m \u001b[1;33m\u001b[0m\u001b[0m\n",
      "\u001b[1;32m~\\Anaconda3\\envs\\ml\\lib\\site-packages\\keras\\engine\\network.py\u001b[0m in \u001b[0;36mprocess_node\u001b[1;34m(layer, node_data)\u001b[0m\n\u001b[0;32m   1024\u001b[0m             \u001b[1;32mif\u001b[0m \u001b[0minput_tensors\u001b[0m\u001b[1;33m:\u001b[0m\u001b[1;33m\u001b[0m\u001b[1;33m\u001b[0m\u001b[0m\n\u001b[1;32m-> 1025\u001b[1;33m                 \u001b[0mlayer\u001b[0m\u001b[1;33m(\u001b[0m\u001b[0munpack_singleton\u001b[0m\u001b[1;33m(\u001b[0m\u001b[0minput_tensors\u001b[0m\u001b[1;33m)\u001b[0m\u001b[1;33m,\u001b[0m \u001b[1;33m**\u001b[0m\u001b[0mkwargs\u001b[0m\u001b[1;33m)\u001b[0m\u001b[1;33m\u001b[0m\u001b[1;33m\u001b[0m\u001b[0m\n\u001b[0m\u001b[0;32m   1026\u001b[0m \u001b[1;33m\u001b[0m\u001b[0m\n",
      "\u001b[1;32m~\\Anaconda3\\envs\\ml\\lib\\site-packages\\keras\\backend\\tensorflow_backend.py\u001b[0m in \u001b[0;36msymbolic_fn_wrapper\u001b[1;34m(*args, **kwargs)\u001b[0m\n\u001b[0;32m     74\u001b[0m             \u001b[1;32mwith\u001b[0m \u001b[0mget_graph\u001b[0m\u001b[1;33m(\u001b[0m\u001b[1;33m)\u001b[0m\u001b[1;33m.\u001b[0m\u001b[0mas_default\u001b[0m\u001b[1;33m(\u001b[0m\u001b[1;33m)\u001b[0m\u001b[1;33m:\u001b[0m\u001b[1;33m\u001b[0m\u001b[1;33m\u001b[0m\u001b[0m\n\u001b[1;32m---> 75\u001b[1;33m                 \u001b[1;32mreturn\u001b[0m \u001b[0mfunc\u001b[0m\u001b[1;33m(\u001b[0m\u001b[1;33m*\u001b[0m\u001b[0margs\u001b[0m\u001b[1;33m,\u001b[0m \u001b[1;33m**\u001b[0m\u001b[0mkwargs\u001b[0m\u001b[1;33m)\u001b[0m\u001b[1;33m\u001b[0m\u001b[1;33m\u001b[0m\u001b[0m\n\u001b[0m\u001b[0;32m     76\u001b[0m         \u001b[1;32melse\u001b[0m\u001b[1;33m:\u001b[0m\u001b[1;33m\u001b[0m\u001b[1;33m\u001b[0m\u001b[0m\n",
      "\u001b[1;32m~\\Anaconda3\\envs\\ml\\lib\\site-packages\\keras\\engine\\base_layer.py\u001b[0m in \u001b[0;36m__call__\u001b[1;34m(self, inputs, **kwargs)\u001b[0m\n\u001b[0;32m    488\u001b[0m             \u001b[1;31m# collecting output(s), mask(s), and shape(s).\u001b[0m\u001b[1;33m\u001b[0m\u001b[1;33m\u001b[0m\u001b[1;33m\u001b[0m\u001b[0m\n\u001b[1;32m--> 489\u001b[1;33m             \u001b[0moutput\u001b[0m \u001b[1;33m=\u001b[0m \u001b[0mself\u001b[0m\u001b[1;33m.\u001b[0m\u001b[0mcall\u001b[0m\u001b[1;33m(\u001b[0m\u001b[0minputs\u001b[0m\u001b[1;33m,\u001b[0m \u001b[1;33m**\u001b[0m\u001b[0mkwargs\u001b[0m\u001b[1;33m)\u001b[0m\u001b[1;33m\u001b[0m\u001b[1;33m\u001b[0m\u001b[0m\n\u001b[0m\u001b[0;32m    490\u001b[0m             \u001b[0moutput_mask\u001b[0m \u001b[1;33m=\u001b[0m \u001b[0mself\u001b[0m\u001b[1;33m.\u001b[0m\u001b[0mcompute_mask\u001b[0m\u001b[1;33m(\u001b[0m\u001b[0minputs\u001b[0m\u001b[1;33m,\u001b[0m \u001b[0mprevious_mask\u001b[0m\u001b[1;33m)\u001b[0m\u001b[1;33m\u001b[0m\u001b[1;33m\u001b[0m\u001b[0m\n",
      "\u001b[1;32m~\\Anaconda3\\envs\\ml\\lib\\site-packages\\keras\\layers\\core.py\u001b[0m in \u001b[0;36mcall\u001b[1;34m(self, inputs, mask)\u001b[0m\n\u001b[0;32m    715\u001b[0m             \u001b[0mself\u001b[0m\u001b[1;33m.\u001b[0m\u001b[0m_input_dtypes\u001b[0m \u001b[1;33m=\u001b[0m \u001b[0mK\u001b[0m\u001b[1;33m.\u001b[0m\u001b[0mdtype\u001b[0m\u001b[1;33m(\u001b[0m\u001b[0minputs\u001b[0m\u001b[1;33m)\u001b[0m\u001b[1;33m\u001b[0m\u001b[1;33m\u001b[0m\u001b[0m\n\u001b[1;32m--> 716\u001b[1;33m         \u001b[1;32mreturn\u001b[0m \u001b[0mself\u001b[0m\u001b[1;33m.\u001b[0m\u001b[0mfunction\u001b[0m\u001b[1;33m(\u001b[0m\u001b[0minputs\u001b[0m\u001b[1;33m,\u001b[0m \u001b[1;33m**\u001b[0m\u001b[0marguments\u001b[0m\u001b[1;33m)\u001b[0m\u001b[1;33m\u001b[0m\u001b[1;33m\u001b[0m\u001b[0m\n\u001b[0m\u001b[0;32m    717\u001b[0m \u001b[1;33m\u001b[0m\u001b[0m\n",
      "\u001b[1;32m~\\Anaconda3\\envs\\ml\\lib\\site-packages\\keras\\layers\\core.py\u001b[0m in \u001b[0;36myolo_loss\u001b[1;34m(args, anchors, num_classes, ignore_thresh, print_loss)\u001b[0m\n\u001b[0;32m    374\u001b[0m \u001b[1;33m\u001b[0m\u001b[0m\n\u001b[1;32m--> 375\u001b[1;33m         grid, raw_pred, pred_xy, pred_wh = yolo_head(yolo_outputs[l],\n\u001b[0m\u001b[0;32m    376\u001b[0m              anchors[anchor_mask[l]], num_classes, input_shape, calc_loss=True)\n",
      "\u001b[1;31mNameError\u001b[0m: name 'yolo_head' is not defined",
      "\nDuring handling of the above exception, another exception occurred:\n",
      "\u001b[1;31mValueError\u001b[0m                                Traceback (most recent call last)",
      "\u001b[1;32m<ipython-input-83-b61982bc7790>\u001b[0m in \u001b[0;36m<module>\u001b[1;34m\u001b[0m\n\u001b[0;32m      1\u001b[0m \u001b[0mimportlib\u001b[0m\u001b[1;33m.\u001b[0m\u001b[0mreload\u001b[0m\u001b[1;33m(\u001b[0m\u001b[0myolov3\u001b[0m\u001b[1;33m)\u001b[0m\u001b[1;33m\u001b[0m\u001b[1;33m\u001b[0m\u001b[0m\n\u001b[0;32m      2\u001b[0m \u001b[1;32mfrom\u001b[0m \u001b[0myolov3\u001b[0m \u001b[1;32mimport\u001b[0m \u001b[0mYOLO\u001b[0m\u001b[1;33m\u001b[0m\u001b[1;33m\u001b[0m\u001b[0m\n\u001b[1;32m----> 3\u001b[1;33m \u001b[0myolo\u001b[0m \u001b[1;33m=\u001b[0m \u001b[0mYOLO\u001b[0m\u001b[1;33m(\u001b[0m\u001b[1;33m)\u001b[0m\u001b[1;33m\u001b[0m\u001b[1;33m\u001b[0m\u001b[0m\n\u001b[0m",
      "\u001b[1;32mE:\\data\\deepfake-detection-challenge\\notebooks\\yolov3.py\u001b[0m in \u001b[0;36m__init__\u001b[1;34m(self, **kwargs)\u001b[0m\n\u001b[0;32m     44\u001b[0m         \u001b[0mself\u001b[0m\u001b[1;33m.\u001b[0m\u001b[0manchors\u001b[0m \u001b[1;33m=\u001b[0m \u001b[0mself\u001b[0m\u001b[1;33m.\u001b[0m\u001b[0m_get_anchors\u001b[0m\u001b[1;33m(\u001b[0m\u001b[1;33m)\u001b[0m\u001b[1;33m\u001b[0m\u001b[1;33m\u001b[0m\u001b[0m\n\u001b[0;32m     45\u001b[0m         \u001b[0mself\u001b[0m\u001b[1;33m.\u001b[0m\u001b[0msess\u001b[0m \u001b[1;33m=\u001b[0m \u001b[0mtf\u001b[0m\u001b[1;33m.\u001b[0m\u001b[0mcompat\u001b[0m\u001b[1;33m.\u001b[0m\u001b[0mv1\u001b[0m\u001b[1;33m.\u001b[0m\u001b[0mkeras\u001b[0m\u001b[1;33m.\u001b[0m\u001b[0mbackend\u001b[0m\u001b[1;33m.\u001b[0m\u001b[0mget_session\u001b[0m\u001b[1;33m(\u001b[0m\u001b[1;33m)\u001b[0m\u001b[1;33m\u001b[0m\u001b[1;33m\u001b[0m\u001b[0m\n\u001b[1;32m---> 46\u001b[1;33m         \u001b[0mself\u001b[0m\u001b[1;33m.\u001b[0m\u001b[0mboxes\u001b[0m\u001b[1;33m,\u001b[0m \u001b[0mself\u001b[0m\u001b[1;33m.\u001b[0m\u001b[0mscores\u001b[0m\u001b[1;33m,\u001b[0m \u001b[0mself\u001b[0m\u001b[1;33m.\u001b[0m\u001b[0mclasses\u001b[0m \u001b[1;33m=\u001b[0m \u001b[0mself\u001b[0m\u001b[1;33m.\u001b[0m\u001b[0mgenerate\u001b[0m\u001b[1;33m(\u001b[0m\u001b[1;33m)\u001b[0m\u001b[1;33m\u001b[0m\u001b[1;33m\u001b[0m\u001b[0m\n\u001b[0m\u001b[0;32m     47\u001b[0m \u001b[1;33m\u001b[0m\u001b[0m\n\u001b[0;32m     48\u001b[0m     \u001b[1;32mdef\u001b[0m \u001b[0m_get_class\u001b[0m\u001b[1;33m(\u001b[0m\u001b[0mself\u001b[0m\u001b[1;33m)\u001b[0m\u001b[1;33m:\u001b[0m\u001b[1;33m\u001b[0m\u001b[1;33m\u001b[0m\u001b[0m\n",
      "\u001b[1;32mE:\\data\\deepfake-detection-challenge\\notebooks\\yolov3.py\u001b[0m in \u001b[0;36mgenerate\u001b[1;34m(self)\u001b[0m\n\u001b[0;32m     73\u001b[0m             \u001b[0mself\u001b[0m\u001b[1;33m.\u001b[0m\u001b[0myolo_model\u001b[0m \u001b[1;33m=\u001b[0m \u001b[0mtiny_yolo_body\u001b[0m\u001b[1;33m(\u001b[0m\u001b[0mInput\u001b[0m\u001b[1;33m(\u001b[0m\u001b[0mshape\u001b[0m\u001b[1;33m=\u001b[0m\u001b[1;33m(\u001b[0m\u001b[1;32mNone\u001b[0m\u001b[1;33m,\u001b[0m\u001b[1;32mNone\u001b[0m\u001b[1;33m,\u001b[0m\u001b[1;36m3\u001b[0m\u001b[1;33m)\u001b[0m\u001b[1;33m)\u001b[0m\u001b[1;33m,\u001b[0m \u001b[0mnum_anchors\u001b[0m\u001b[1;33m//\u001b[0m\u001b[1;36m2\u001b[0m\u001b[1;33m,\u001b[0m \u001b[0mnum_classes\u001b[0m\u001b[1;33m)\u001b[0m\u001b[0;31m \u001b[0m\u001b[0;31m\\\u001b[0m\u001b[1;33m\u001b[0m\u001b[1;33m\u001b[0m\u001b[0m\n\u001b[0;32m     74\u001b[0m                 \u001b[1;32mif\u001b[0m \u001b[0mis_tiny_version\u001b[0m \u001b[1;32melse\u001b[0m \u001b[0myolo_body\u001b[0m\u001b[1;33m(\u001b[0m\u001b[0mInput\u001b[0m\u001b[1;33m(\u001b[0m\u001b[0mshape\u001b[0m\u001b[1;33m=\u001b[0m\u001b[1;33m(\u001b[0m\u001b[1;32mNone\u001b[0m\u001b[1;33m,\u001b[0m\u001b[1;32mNone\u001b[0m\u001b[1;33m,\u001b[0m\u001b[1;36m3\u001b[0m\u001b[1;33m)\u001b[0m\u001b[1;33m)\u001b[0m\u001b[1;33m,\u001b[0m \u001b[0mnum_anchors\u001b[0m\u001b[1;33m//\u001b[0m\u001b[1;36m3\u001b[0m\u001b[1;33m,\u001b[0m \u001b[0mnum_classes\u001b[0m\u001b[1;33m)\u001b[0m\u001b[1;33m\u001b[0m\u001b[1;33m\u001b[0m\u001b[0m\n\u001b[1;32m---> 75\u001b[1;33m             \u001b[0mself\u001b[0m\u001b[1;33m.\u001b[0m\u001b[0myolo_model\u001b[0m\u001b[1;33m.\u001b[0m\u001b[0mload_weights\u001b[0m\u001b[1;33m(\u001b[0m\u001b[0mself\u001b[0m\u001b[1;33m.\u001b[0m\u001b[0mmodel_path\u001b[0m\u001b[1;33m)\u001b[0m \u001b[1;31m# make sure model, anchors and classes match\u001b[0m\u001b[1;33m\u001b[0m\u001b[1;33m\u001b[0m\u001b[0m\n\u001b[0m\u001b[0;32m     76\u001b[0m         \u001b[1;32melse\u001b[0m\u001b[1;33m:\u001b[0m\u001b[1;33m\u001b[0m\u001b[1;33m\u001b[0m\u001b[0m\n\u001b[0;32m     77\u001b[0m             \u001b[1;32massert\u001b[0m \u001b[0mself\u001b[0m\u001b[1;33m.\u001b[0m\u001b[0myolo_model\u001b[0m\u001b[1;33m.\u001b[0m\u001b[0mlayers\u001b[0m\u001b[1;33m[\u001b[0m\u001b[1;33m-\u001b[0m\u001b[1;36m1\u001b[0m\u001b[1;33m]\u001b[0m\u001b[1;33m.\u001b[0m\u001b[0moutput_shape\u001b[0m\u001b[1;33m[\u001b[0m\u001b[1;33m-\u001b[0m\u001b[1;36m1\u001b[0m\u001b[1;33m]\u001b[0m \u001b[1;33m==\u001b[0m\u001b[0;31m \u001b[0m\u001b[0;31m\\\u001b[0m\u001b[1;33m\u001b[0m\u001b[1;33m\u001b[0m\u001b[0m\n",
      "\u001b[1;32m~\\Anaconda3\\envs\\ml\\lib\\site-packages\\keras\\engine\\saving.py\u001b[0m in \u001b[0;36mload_wrapper\u001b[1;34m(*args, **kwargs)\u001b[0m\n\u001b[0;32m    490\u001b[0m                 \u001b[0mos\u001b[0m\u001b[1;33m.\u001b[0m\u001b[0mremove\u001b[0m\u001b[1;33m(\u001b[0m\u001b[0mtmp_filepath\u001b[0m\u001b[1;33m)\u001b[0m\u001b[1;33m\u001b[0m\u001b[1;33m\u001b[0m\u001b[0m\n\u001b[0;32m    491\u001b[0m             \u001b[1;32mreturn\u001b[0m \u001b[0mres\u001b[0m\u001b[1;33m\u001b[0m\u001b[1;33m\u001b[0m\u001b[0m\n\u001b[1;32m--> 492\u001b[1;33m         \u001b[1;32mreturn\u001b[0m \u001b[0mload_function\u001b[0m\u001b[1;33m(\u001b[0m\u001b[1;33m*\u001b[0m\u001b[0margs\u001b[0m\u001b[1;33m,\u001b[0m \u001b[1;33m**\u001b[0m\u001b[0mkwargs\u001b[0m\u001b[1;33m)\u001b[0m\u001b[1;33m\u001b[0m\u001b[1;33m\u001b[0m\u001b[0m\n\u001b[0m\u001b[0;32m    493\u001b[0m \u001b[1;33m\u001b[0m\u001b[0m\n\u001b[0;32m    494\u001b[0m     \u001b[1;32mreturn\u001b[0m \u001b[0mload_wrapper\u001b[0m\u001b[1;33m\u001b[0m\u001b[1;33m\u001b[0m\u001b[0m\n",
      "\u001b[1;32m~\\Anaconda3\\envs\\ml\\lib\\site-packages\\keras\\engine\\network.py\u001b[0m in \u001b[0;36mload_weights\u001b[1;34m(self, filepath, by_name, skip_mismatch, reshape)\u001b[0m\n\u001b[0;32m   1228\u001b[0m             \u001b[1;32melse\u001b[0m\u001b[1;33m:\u001b[0m\u001b[1;33m\u001b[0m\u001b[1;33m\u001b[0m\u001b[0m\n\u001b[0;32m   1229\u001b[0m                 saving.load_weights_from_hdf5_group(\n\u001b[1;32m-> 1230\u001b[1;33m                     f, self.layers, reshape=reshape)\n\u001b[0m\u001b[0;32m   1231\u001b[0m             \u001b[1;32mif\u001b[0m \u001b[0mhasattr\u001b[0m\u001b[1;33m(\u001b[0m\u001b[0mf\u001b[0m\u001b[1;33m,\u001b[0m \u001b[1;34m'close'\u001b[0m\u001b[1;33m)\u001b[0m\u001b[1;33m:\u001b[0m\u001b[1;33m\u001b[0m\u001b[1;33m\u001b[0m\u001b[0m\n\u001b[0;32m   1232\u001b[0m                 \u001b[0mf\u001b[0m\u001b[1;33m.\u001b[0m\u001b[0mclose\u001b[0m\u001b[1;33m(\u001b[0m\u001b[1;33m)\u001b[0m\u001b[1;33m\u001b[0m\u001b[1;33m\u001b[0m\u001b[0m\n",
      "\u001b[1;32m~\\Anaconda3\\envs\\ml\\lib\\site-packages\\keras\\engine\\saving.py\u001b[0m in \u001b[0;36mload_weights_from_hdf5_group\u001b[1;34m(f, layers, reshape)\u001b[0m\n\u001b[0;32m   1235\u001b[0m                              ' elements.')\n\u001b[0;32m   1236\u001b[0m         \u001b[0mweight_value_tuples\u001b[0m \u001b[1;33m+=\u001b[0m \u001b[0mzip\u001b[0m\u001b[1;33m(\u001b[0m\u001b[0msymbolic_weights\u001b[0m\u001b[1;33m,\u001b[0m \u001b[0mweight_values\u001b[0m\u001b[1;33m)\u001b[0m\u001b[1;33m\u001b[0m\u001b[1;33m\u001b[0m\u001b[0m\n\u001b[1;32m-> 1237\u001b[1;33m     \u001b[0mK\u001b[0m\u001b[1;33m.\u001b[0m\u001b[0mbatch_set_value\u001b[0m\u001b[1;33m(\u001b[0m\u001b[0mweight_value_tuples\u001b[0m\u001b[1;33m)\u001b[0m\u001b[1;33m\u001b[0m\u001b[1;33m\u001b[0m\u001b[0m\n\u001b[0m\u001b[0;32m   1238\u001b[0m \u001b[1;33m\u001b[0m\u001b[0m\n\u001b[0;32m   1239\u001b[0m \u001b[1;33m\u001b[0m\u001b[0m\n",
      "\u001b[1;32m~\\Anaconda3\\envs\\ml\\lib\\site-packages\\keras\\backend\\tensorflow_backend.py\u001b[0m in \u001b[0;36mbatch_set_value\u001b[1;34m(tuples)\u001b[0m\n\u001b[0;32m   2958\u001b[0m             \u001b[0;31m`\u001b[0m\u001b[0mvalue\u001b[0m\u001b[0;31m`\u001b[0m \u001b[0mshould\u001b[0m \u001b[0mbe\u001b[0m \u001b[0ma\u001b[0m \u001b[0mNumpy\u001b[0m \u001b[0marray\u001b[0m\u001b[1;33m.\u001b[0m\u001b[1;33m\u001b[0m\u001b[1;33m\u001b[0m\u001b[0m\n\u001b[0;32m   2959\u001b[0m     \"\"\"\n\u001b[1;32m-> 2960\u001b[1;33m     \u001b[0mtf_keras_backend\u001b[0m\u001b[1;33m.\u001b[0m\u001b[0mbatch_set_value\u001b[0m\u001b[1;33m(\u001b[0m\u001b[0mtuples\u001b[0m\u001b[1;33m)\u001b[0m\u001b[1;33m\u001b[0m\u001b[1;33m\u001b[0m\u001b[0m\n\u001b[0m\u001b[0;32m   2961\u001b[0m \u001b[1;33m\u001b[0m\u001b[0m\n\u001b[0;32m   2962\u001b[0m \u001b[1;33m\u001b[0m\u001b[0m\n",
      "\u001b[1;32m~\\Anaconda3\\envs\\ml\\lib\\site-packages\\tensorflow_core\\python\\keras\\backend.py\u001b[0m in \u001b[0;36mbatch_set_value\u001b[1;34m(tuples)\u001b[0m\n\u001b[0;32m   3341\u001b[0m     \u001b[1;32mwith\u001b[0m \u001b[0mops\u001b[0m\u001b[1;33m.\u001b[0m\u001b[0minit_scope\u001b[0m\u001b[1;33m(\u001b[0m\u001b[1;33m)\u001b[0m\u001b[1;33m:\u001b[0m\u001b[1;33m\u001b[0m\u001b[1;33m\u001b[0m\u001b[0m\n\u001b[0;32m   3342\u001b[0m       \u001b[1;32mfor\u001b[0m \u001b[0mx\u001b[0m\u001b[1;33m,\u001b[0m \u001b[0mvalue\u001b[0m \u001b[1;32min\u001b[0m \u001b[0mtuples\u001b[0m\u001b[1;33m:\u001b[0m\u001b[1;33m\u001b[0m\u001b[1;33m\u001b[0m\u001b[0m\n\u001b[1;32m-> 3343\u001b[1;33m         \u001b[0mx\u001b[0m\u001b[1;33m.\u001b[0m\u001b[0massign\u001b[0m\u001b[1;33m(\u001b[0m\u001b[0mnp\u001b[0m\u001b[1;33m.\u001b[0m\u001b[0masarray\u001b[0m\u001b[1;33m(\u001b[0m\u001b[0mvalue\u001b[0m\u001b[1;33m,\u001b[0m \u001b[0mdtype\u001b[0m\u001b[1;33m=\u001b[0m\u001b[0mdtype\u001b[0m\u001b[1;33m(\u001b[0m\u001b[0mx\u001b[0m\u001b[1;33m)\u001b[0m\u001b[1;33m)\u001b[0m\u001b[1;33m)\u001b[0m\u001b[1;33m\u001b[0m\u001b[1;33m\u001b[0m\u001b[0m\n\u001b[0m\u001b[0;32m   3344\u001b[0m   \u001b[1;32melse\u001b[0m\u001b[1;33m:\u001b[0m\u001b[1;33m\u001b[0m\u001b[1;33m\u001b[0m\u001b[0m\n\u001b[0;32m   3345\u001b[0m     \u001b[1;32mwith\u001b[0m \u001b[0mget_graph\u001b[0m\u001b[1;33m(\u001b[0m\u001b[1;33m)\u001b[0m\u001b[1;33m.\u001b[0m\u001b[0mas_default\u001b[0m\u001b[1;33m(\u001b[0m\u001b[1;33m)\u001b[0m\u001b[1;33m:\u001b[0m\u001b[1;33m\u001b[0m\u001b[1;33m\u001b[0m\u001b[0m\n",
      "\u001b[1;32m~\\Anaconda3\\envs\\ml\\lib\\site-packages\\tensorflow_core\\python\\ops\\resource_variable_ops.py\u001b[0m in \u001b[0;36massign\u001b[1;34m(self, value, use_locking, name, read_value)\u001b[0m\n\u001b[0;32m    812\u001b[0m     \u001b[1;32mwith\u001b[0m \u001b[0m_handle_graph\u001b[0m\u001b[1;33m(\u001b[0m\u001b[0mself\u001b[0m\u001b[1;33m.\u001b[0m\u001b[0mhandle\u001b[0m\u001b[1;33m)\u001b[0m\u001b[1;33m:\u001b[0m\u001b[1;33m\u001b[0m\u001b[1;33m\u001b[0m\u001b[0m\n\u001b[0;32m    813\u001b[0m       \u001b[0mvalue_tensor\u001b[0m \u001b[1;33m=\u001b[0m \u001b[0mops\u001b[0m\u001b[1;33m.\u001b[0m\u001b[0mconvert_to_tensor\u001b[0m\u001b[1;33m(\u001b[0m\u001b[0mvalue\u001b[0m\u001b[1;33m,\u001b[0m \u001b[0mdtype\u001b[0m\u001b[1;33m=\u001b[0m\u001b[0mself\u001b[0m\u001b[1;33m.\u001b[0m\u001b[0mdtype\u001b[0m\u001b[1;33m)\u001b[0m\u001b[1;33m\u001b[0m\u001b[1;33m\u001b[0m\u001b[0m\n\u001b[1;32m--> 814\u001b[1;33m       \u001b[0mself\u001b[0m\u001b[1;33m.\u001b[0m\u001b[0m_shape\u001b[0m\u001b[1;33m.\u001b[0m\u001b[0massert_is_compatible_with\u001b[0m\u001b[1;33m(\u001b[0m\u001b[0mvalue_tensor\u001b[0m\u001b[1;33m.\u001b[0m\u001b[0mshape\u001b[0m\u001b[1;33m)\u001b[0m\u001b[1;33m\u001b[0m\u001b[1;33m\u001b[0m\u001b[0m\n\u001b[0m\u001b[0;32m    815\u001b[0m       assign_op = gen_resource_variable_ops.assign_variable_op(\n\u001b[0;32m    816\u001b[0m           self.handle, value_tensor, name=name)\n",
      "\u001b[1;32m~\\Anaconda3\\envs\\ml\\lib\\site-packages\\tensorflow_core\\python\\framework\\tensor_shape.py\u001b[0m in \u001b[0;36massert_is_compatible_with\u001b[1;34m(self, other)\u001b[0m\n\u001b[0;32m   1113\u001b[0m     \"\"\"\n\u001b[0;32m   1114\u001b[0m     \u001b[1;32mif\u001b[0m \u001b[1;32mnot\u001b[0m \u001b[0mself\u001b[0m\u001b[1;33m.\u001b[0m\u001b[0mis_compatible_with\u001b[0m\u001b[1;33m(\u001b[0m\u001b[0mother\u001b[0m\u001b[1;33m)\u001b[0m\u001b[1;33m:\u001b[0m\u001b[1;33m\u001b[0m\u001b[1;33m\u001b[0m\u001b[0m\n\u001b[1;32m-> 1115\u001b[1;33m       \u001b[1;32mraise\u001b[0m \u001b[0mValueError\u001b[0m\u001b[1;33m(\u001b[0m\u001b[1;34m\"Shapes %s and %s are incompatible\"\u001b[0m \u001b[1;33m%\u001b[0m \u001b[1;33m(\u001b[0m\u001b[0mself\u001b[0m\u001b[1;33m,\u001b[0m \u001b[0mother\u001b[0m\u001b[1;33m)\u001b[0m\u001b[1;33m)\u001b[0m\u001b[1;33m\u001b[0m\u001b[1;33m\u001b[0m\u001b[0m\n\u001b[0m\u001b[0;32m   1116\u001b[0m \u001b[1;33m\u001b[0m\u001b[0m\n\u001b[0;32m   1117\u001b[0m   \u001b[1;32mdef\u001b[0m \u001b[0mmost_specific_compatible_shape\u001b[0m\u001b[1;33m(\u001b[0m\u001b[0mself\u001b[0m\u001b[1;33m,\u001b[0m \u001b[0mother\u001b[0m\u001b[1;33m)\u001b[0m\u001b[1;33m:\u001b[0m\u001b[1;33m\u001b[0m\u001b[1;33m\u001b[0m\u001b[0m\n",
      "\u001b[1;31mValueError\u001b[0m: Shapes (1, 1, 512, 255) and (18, 512, 1, 1) are incompatible"
     ]
    }
   ],
   "source": [
    "importlib.reload(yolov3)\n",
    "from yolov3 import YOLO\n",
    "yolo = YOLO()"
   ]
  },
  {
   "cell_type": "code",
   "execution_count": null,
   "metadata": {
    "hidden": true
   },
   "outputs": [],
   "source": []
  }
 ],
 "metadata": {
  "kernelspec": {
   "display_name": "Python 3",
   "language": "python",
   "name": "python3"
  },
  "language_info": {
   "codemirror_mode": {
    "name": "ipython",
    "version": 3
   },
   "file_extension": ".py",
   "mimetype": "text/x-python",
   "name": "python",
   "nbconvert_exporter": "python",
   "pygments_lexer": "ipython3",
   "version": "3.6.9"
  },
  "varInspector": {
   "cols": {
    "lenName": 16,
    "lenType": 16,
    "lenVar": 40
   },
   "kernels_config": {
    "python": {
     "delete_cmd_postfix": "",
     "delete_cmd_prefix": "del ",
     "library": "var_list.py",
     "varRefreshCmd": "print(var_dic_list())"
    },
    "r": {
     "delete_cmd_postfix": ") ",
     "delete_cmd_prefix": "rm(",
     "library": "var_list.r",
     "varRefreshCmd": "cat(var_dic_list()) "
    }
   },
   "types_to_exclude": [
    "module",
    "function",
    "builtin_function_or_method",
    "instance",
    "_Feature"
   ],
   "window_display": false
  }
 },
 "nbformat": 4,
 "nbformat_minor": 2
}
