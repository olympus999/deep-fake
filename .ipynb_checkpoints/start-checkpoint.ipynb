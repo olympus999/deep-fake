{
 "cells": [
  {
   "cell_type": "code",
   "execution_count": 1,
   "metadata": {
    "ExecuteTime": {
     "end_time": "2020-01-13T21:25:28.109494Z",
     "start_time": "2020-01-13T21:25:21.434439Z"
    }
   },
   "outputs": [
    {
     "name": "stderr",
     "output_type": "stream",
     "text": [
      "C:\\Users\\Anti\\Anaconda3\\envs\\ml\\lib\\site-packages\\h5py\\__init__.py:36: FutureWarning: Conversion of the second argument of issubdtype from `float` to `np.floating` is deprecated. In future, it will be treated as `np.float64 == np.dtype(float).type`.\n",
      "  from ._conv import register_converters as _register_converters\n",
      "Using TensorFlow backend.\n"
     ]
    }
   ],
   "source": [
    "from yolov3 import create_tiny_model\n",
    "from yolo3.utils import letterbox_image\n",
    "from yolo3.model import yolo_head, yolo_correct_boxes\n",
    "import numpy as np\n",
    "from PIL import Image\n",
    "import matplotlib.pyplot as plt\n",
    "import keras.backend as K\n",
    "import tensorflow as tf\n",
    "import cv2\n",
    "import os\n",
    "import imageio\n",
    "import time"
   ]
  },
  {
   "cell_type": "code",
   "execution_count": 2,
   "metadata": {
    "ExecuteTime": {
     "end_time": "2020-01-13T21:25:28.115497Z",
     "start_time": "2020-01-13T21:25:28.110494Z"
    }
   },
   "outputs": [],
   "source": [
    "class Video:\n",
    "    def __init__(self, path):\n",
    "        self.path = path\n",
    "        self.container = imageio.get_reader(path, 'ffmpeg')\n",
    "        self.length = self.container.count_frames()\n",
    "        self.fps = self.container.get_meta_data()['fps']\n",
    "    \n",
    "    def init_head(self):\n",
    "        self.container.set_image_index(0)\n",
    "    \n",
    "    def next_frame(self):\n",
    "        self.container.get_next_data()\n",
    "    \n",
    "    def get(self, key):\n",
    "        return self.container.get_data(key)\n",
    "    \n",
    "    def __call__(self, key):\n",
    "        return self.get(key)\n",
    "    \n",
    "    def __len__(self):\n",
    "        return self.length"
   ]
  },
  {
   "cell_type": "code",
   "execution_count": 3,
   "metadata": {
    "ExecuteTime": {
     "end_time": "2020-01-13T21:25:28.124496Z",
     "start_time": "2020-01-13T21:25:28.118494Z"
    }
   },
   "outputs": [],
   "source": [
    "def get_classes(classes_path):\n",
    "    '''loads the classes'''\n",
    "    with open(classes_path) as f:\n",
    "        class_names = f.readlines()\n",
    "    class_names = [c.strip() for c in class_names]\n",
    "    return class_names\n",
    "\n",
    "def get_anchors(anchors_path):\n",
    "    '''loads the anchors from a file'''\n",
    "    with open(anchors_path) as f:\n",
    "        anchors = f.readline()\n",
    "    anchors = [float(x) for x in anchors.split(',')]\n",
    "    return np.array(anchors).reshape(-1, 2)"
   ]
  },
  {
   "cell_type": "code",
   "execution_count": 4,
   "metadata": {
    "ExecuteTime": {
     "end_time": "2020-01-13T21:25:28.134495Z",
     "start_time": "2020-01-13T21:25:28.126497Z"
    }
   },
   "outputs": [],
   "source": [
    "train_path = '../deepfake_train_full'\n",
    "train_folders = [os.path.join(train_path, x) for x in os.listdir(train_path) if x[-1] != 'p']\n",
    "train_video_folders = [os.path.join(x, os.listdir(x)[0]) for x in train_folders]"
   ]
  },
  {
   "cell_type": "code",
   "execution_count": 5,
   "metadata": {
    "ExecuteTime": {
     "end_time": "2020-01-13T21:25:28.324493Z",
     "start_time": "2020-01-13T21:25:28.136496Z"
    }
   },
   "outputs": [],
   "source": [
    "for train_video_folder in train_video_folders[9:]:\n",
    "    train_videos = [os.path.join(train_video_folder, x) for x in os.listdir(train_video_folder) if x[-1] == '4']\n",
    "    for idx, train_video in enumerate(train_videos):\n",
    "        video_file_name = train_video.split('\\\\')[-1]\n",
    "        video = Video(train_video)\n",
    "        break\n",
    "    break"
   ]
  },
  {
   "cell_type": "code",
   "execution_count": 6,
   "metadata": {
    "ExecuteTime": {
     "end_time": "2020-01-13T21:25:28.389497Z",
     "start_time": "2020-01-13T21:25:28.325495Z"
    }
   },
   "outputs": [],
   "source": [
    "imgs = []\n",
    "for i in range(4):\n",
    "    img = Image.fromarray(video.get(i))\n",
    "    imgs.append(img)\n",
    "#     boxed_image = letterbox_image(img, (416,416))\n",
    "#     image_data = np.array(boxed_image, dtype='float32')\n",
    "#     image_data /= 255.\n",
    "#     imgs.append(image_data)"
   ]
  },
  {
   "cell_type": "code",
   "execution_count": 7,
   "metadata": {
    "ExecuteTime": {
     "end_time": "2020-01-13T21:25:28.408495Z",
     "start_time": "2020-01-13T21:25:28.390495Z"
    }
   },
   "outputs": [],
   "source": [
    "class Yolo:\n",
    "    def __init__(self):\n",
    "        self.classes_path = 'model_data/face_classes.txt'\n",
    "        self.anchors_path = 'model_data/tiny_yolo_anchors.txt'\n",
    "        self.class_names = self.__get_classes(self.classes_path)\n",
    "        self.num_classes = len(self.class_names)\n",
    "        self.anchors = self.__get_anchors(self.anchors_path)\n",
    "        self.input_shape = (416,416) # multiple of 32, hw\n",
    "        self.model = create_tiny_model(self.input_shape, self.anchors, self.num_classes, freeze_body=2)\n",
    "        self.model.load_weights('tiny-yolov3.h5', by_name=True)\n",
    "        self.num_layers = len(self.anchors)//3 # default setting\n",
    "        self.anchor_mask = [[3,4,5], [1,2,3]]\n",
    "        \n",
    "    @staticmethod\n",
    "    def __get_classes(classes_path):\n",
    "        '''loads the classes'''\n",
    "        with open(classes_path) as f:\n",
    "            class_names = f.readlines()\n",
    "        class_names = [c.strip() for c in class_names]\n",
    "        return class_names\n",
    "\n",
    "    @staticmethod\n",
    "    def __get_anchors(anchors_path):\n",
    "        '''loads the anchors from a file'''\n",
    "        with open(anchors_path) as f:\n",
    "            anchors = f.readline()\n",
    "        anchors = [float(x) for x in anchors.split(',')]\n",
    "        return np.array(anchors).reshape(-1, 2)\n",
    "    \n",
    "    def __prepare_images(self, images):\n",
    "        images_adjusted = []\n",
    "        for img in images:\n",
    "            boxed_image = letterbox_image(img, (416,416))\n",
    "            image_data = np.array(boxed_image, dtype='float32')\n",
    "            image_data /= 255.\n",
    "            images_adjusted.append(image_data)\n",
    "        return np.array(images_adjusted)\n",
    "    \n",
    "    def __set_high_prob_boxes(self, layer_boxes, n_pred, boxes, box_scores, cutoff=0.7):\n",
    "        \"\"\"\n",
    "        Set high prob boxes for \"layer_boxes\". High prob is defined by cutoff\n",
    "        \"\"\"\n",
    "        bpp = len(boxes)/n_pred\n",
    "        cutoff_boxes = []\n",
    "        for i in range(n_pred):\n",
    "            b = boxes.numpy()[int(i*bpp):int((i+1)*bpp)]\n",
    "            bs = box_scores.numpy()[int(i*bpp):int((i+1)*bpp)]\n",
    "            if b[np.argwhere(bs>cutoff)[:, 0]].shape[0] > 0:\n",
    "                t = np.concatenate((b[np.argwhere(bs>0.5)[:, 0]], \\\n",
    "                        bs[np.argwhere(bs>0.5)[:, 0]]), axis=1)\n",
    "                layer_boxes[i].extend(t)\n",
    "#                 layer_boxes[i].extend([b[np.argwhere(bs>cutoff)[:, 0]].tolist(), \\\n",
    "#                                        bs[np.argwhere(bs>cutoff)[:, 0]].flatten().tolist()])\n",
    "    \n",
    "    def get_boxes_and_scores(self, prediction):\n",
    "        \"\"\"\n",
    "        Return filtered boxes which are ready to use\n",
    "        \"\"\"\n",
    "        filtered_boxes = []\n",
    "        n_pred = prediction[0].shape[0]\n",
    "        yolo_outputs = prediction[:self.num_layers]\n",
    "        layer_boxes = [[] for x in range(n_pred)]\n",
    "        for l in range(self.num_layers):\n",
    "            input_shape = K.cast(K.shape(tf.convert_to_tensor(yolo_outputs[l]))[1:3] * 32, \\\n",
    "                                 K.dtype(tf.convert_to_tensor(yolo_outputs[l])))\n",
    "            m = K.shape(yolo_outputs[0])[0] # batch size, tensor\n",
    "            mf = K.cast(m, K.dtype(tf.convert_to_tensor(yolo_outputs[0])))\n",
    "\n",
    "            grid, raw_pred, pred_xy, pred_wh = yolo_head(tf.convert_to_tensor(yolo_outputs[l]),\n",
    "                 self.anchors[self.anchor_mask[l]], self.num_classes, self.input_shape, calc_loss=True)\n",
    "            pred_box = K.concatenate([pred_xy, pred_wh])\n",
    "            \n",
    "            box_xy, box_wh, box_confidence, box_class_probs = yolo_head(tf.convert_to_tensor(yolo_outputs[l]),\n",
    "            self.anchors[self.anchor_mask[l]], self.num_classes, self.input_shape)\n",
    "\n",
    "            boxes = yolo_correct_boxes(box_xy, box_wh, self.input_shape, self.input_shape)\n",
    "            boxes = K.reshape(boxes, [-1, 4])\n",
    "            box_scores = box_confidence * box_class_probs\n",
    "            box_scores = K.reshape(box_scores, [-1, self.num_classes])\n",
    "#             return (boxes, box_scores)\n",
    "            self.__set_high_prob_boxes(layer_boxes, n_pred, boxes, box_scores)\n",
    "        \n",
    "        # Convert list to numpy\n",
    "        for idx, lb in enumerate(layer_boxes):\n",
    "            layer_boxes[idx] = np.array(lb)\n",
    "        \n",
    "        return layer_boxes\n",
    "    \n",
    "    def predict(self, images):\n",
    "        image_data = self.__prepare_images(images)\n",
    "        prediction = self.model.predict(image_data)\n",
    "        return prediction\n",
    "        # boxes = self.get_boxes()"
   ]
  },
  {
   "cell_type": "code",
   "execution_count": null,
   "metadata": {
    "ExecuteTime": {
     "start_time": "2020-01-13T21:25:19.447Z"
    }
   },
   "outputs": [],
   "source": [
    "yolo = Yolo()"
   ]
  },
  {
   "cell_type": "code",
   "execution_count": null,
   "metadata": {
    "ExecuteTime": {
     "start_time": "2020-01-13T21:25:19.449Z"
    }
   },
   "outputs": [],
   "source": [
    "def read_img(path):\n",
    "    img = Image.open(path)\n",
    "#     boxed_image = letterbox_image(img, (416,416))\n",
    "#     image_data = np.array(boxed_image, dtype='float32')\n",
    "#     image_data /= 255.\n",
    "    \n",
    "    return img"
   ]
  },
  {
   "cell_type": "code",
   "execution_count": null,
   "metadata": {
    "ExecuteTime": {
     "start_time": "2020-01-13T21:25:19.451Z"
    }
   },
   "outputs": [],
   "source": [
    "image_data = []\n",
    "img = read_img('../face_detection/znrixntqqb_0.png')\n",
    "img2 = read_img('../face_detection/aidocisbby_0.png')\n",
    "img3 = read_img('../face_detection/xpwzoebyho_75.png')\n",
    "img4 = read_img('../face_detection/aidnmtgwlv_75.png')\n",
    "image_data.append(img)\n",
    "image_data.append(img2)\n",
    "image_data.append(img3)\n",
    "image_data.append(img4)\n",
    "# image_data = np.array(image_data)\n",
    "# image_data = np.expand_dims(img, 0) "
   ]
  },
  {
   "cell_type": "code",
   "execution_count": null,
   "metadata": {
    "ExecuteTime": {
     "start_time": "2020-01-13T21:25:19.453Z"
    }
   },
   "outputs": [],
   "source": [
    "pred = yolo.predict(image_data)"
   ]
  },
  {
   "cell_type": "code",
   "execution_count": null,
   "metadata": {
    "ExecuteTime": {
     "start_time": "2020-01-13T21:25:19.455Z"
    }
   },
   "outputs": [],
   "source": [
    "layer_boxes = yolo.get_boxes_and_scores(pred)"
   ]
  },
  {
   "cell_type": "code",
   "execution_count": null,
   "metadata": {
    "ExecuteTime": {
     "start_time": "2020-01-13T21:25:19.457Z"
    }
   },
   "outputs": [],
   "source": [
    "layer_boxes"
   ]
  },
  {
   "cell_type": "code",
   "execution_count": null,
   "metadata": {
    "ExecuteTime": {
     "start_time": "2020-01-13T21:25:19.459Z"
    }
   },
   "outputs": [],
   "source": [
    "len(layer_boxes)"
   ]
  },
  {
   "cell_type": "code",
   "execution_count": null,
   "metadata": {
    "ExecuteTime": {
     "start_time": "2020-01-13T21:25:19.461Z"
    }
   },
   "outputs": [],
   "source": [
    "def find_overlapping_boxes(all_boxes, sum_cutoff=200):\n",
    "    restart = True\n",
    "    while restart == True:\n",
    "        for idx, box in enumerate(all_boxes):\n",
    "#             print('idx', idx)\n",
    "            boxes_sum = np.sum(np.abs(box[:4] - all_boxes[:, :4]), axis=1)\n",
    "            boxes_overlapping_idx = np.argwhere(boxes_sum<sum_cutoff).flatten()\n",
    "            # boxes_overlapping_idx = np.delete(boxes_overlapping_idx, idx, 0)\n",
    "#             print('boxes_overlapping_idx', boxes_overlapping_idx)\n",
    "            box_idx_to_keep = np.argmax(all_boxes[boxes_overlapping_idx][:, 4])\n",
    "#             print('box_idx_to_keep', box_idx_to_keep)\n",
    "            boxes_idx_to_delete = np.delete(boxes_overlapping_idx, box_idx_to_keep)\n",
    "            if len(boxes_idx_to_delete)>0:\n",
    "#                 print(all_boxes)\n",
    "#                 print('boxes_idx_to_delete', boxes_idx_to_delete)\n",
    "                all_boxes = np.delete(all_boxes, boxes_idx_to_delete, axis=0)\n",
    "                restart = True\n",
    "#                 time.sleep(1)\n",
    "                break\n",
    "            restart = False\n",
    "    return all_boxes"
   ]
  },
  {
   "cell_type": "code",
   "execution_count": null,
   "metadata": {
    "ExecuteTime": {
     "start_time": "2020-01-13T21:25:19.463Z"
    }
   },
   "outputs": [],
   "source": [
    "filtered_boxes_per_image = []\n",
    "for boxes_per_images in layer_boxes:\n",
    "    filtered_boxes_per_image.append(find_overlapping_boxes(boxes_per_images))\n",
    "filtered_boxes_per_image = np.array(filtered_boxes_per_image)"
   ]
  },
  {
   "cell_type": "code",
   "execution_count": null,
   "metadata": {
    "ExecuteTime": {
     "start_time": "2020-01-13T21:25:19.466Z"
    }
   },
   "outputs": [],
   "source": [
    "filtered_boxes_per_image"
   ]
  },
  {
   "cell_type": "code",
   "execution_count": 120,
   "metadata": {
    "ExecuteTime": {
     "end_time": "2020-01-13T06:03:36.359862Z",
     "start_time": "2020-01-13T06:03:35.350882Z"
    }
   },
   "outputs": [
    {
     "name": "stdout",
     "output_type": "stream",
     "text": [
      "idx 0\n",
      "boxes_overlapping_idx [0 1 2 3]\n",
      "box_idx_to_keep 1\n",
      "[[150.39125    196.85631    186.83034    245.64525      0.800711  ]\n",
      " [150.64386    200.3669     189.36375    254.58243      0.95507103]\n",
      " [150.39125    196.85631    186.83034    245.64525      0.800711  ]\n",
      " [150.64386    200.3669     189.36375    254.58243      0.95507103]]\n",
      "boxes_idx_to_delete [0 2 3]\n",
      "idx 0\n",
      "boxes_overlapping_idx [0]\n",
      "box_idx_to_keep 0\n"
     ]
    }
   ],
   "source": [
    "t = find_overlapping_boxes(boxes_per_images)"
   ]
  },
  {
   "cell_type": "code",
   "execution_count": null,
   "metadata": {},
   "outputs": [],
   "source": []
  },
  {
   "cell_type": "code",
   "execution_count": 268,
   "metadata": {
    "ExecuteTime": {
     "end_time": "2020-01-10T11:58:53.885243Z",
     "start_time": "2020-01-10T11:58:53.880244Z"
    }
   },
   "outputs": [
    {
     "data": {
      "text/plain": [
       "array([0, 1], dtype=int64)"
      ]
     },
     "execution_count": 268,
     "metadata": {},
     "output_type": "execute_result"
    }
   ],
   "source": [
    "boxes_overlapping_idx"
   ]
  },
  {
   "cell_type": "code",
   "execution_count": 49,
   "metadata": {
    "ExecuteTime": {
     "end_time": "2020-01-10T10:34:06.245405Z",
     "start_time": "2020-01-10T10:34:06.241435Z"
    }
   },
   "outputs": [],
   "source": [
    "boxes_in_image[0].extend(boxes_in_image[0])\n",
    "boxes_in_image[1].extend(boxes_in_image[1])"
   ]
  },
  {
   "cell_type": "code",
   "execution_count": 50,
   "metadata": {
    "ExecuteTime": {
     "end_time": "2020-01-10T10:34:07.604428Z",
     "start_time": "2020-01-10T10:34:07.599427Z"
    }
   },
   "outputs": [
    {
     "data": {
      "text/plain": [
       "[[[150.39125061035156,\n",
       "   196.85630798339844,\n",
       "   186.83033752441406,\n",
       "   245.64524841308594],\n",
       "  [150.64385986328125,\n",
       "   200.3668975830078,\n",
       "   189.36375427246094,\n",
       "   254.58242797851562],\n",
       "  [150.39125061035156,\n",
       "   196.85630798339844,\n",
       "   186.83033752441406,\n",
       "   245.64524841308594],\n",
       "  [150.64385986328125,\n",
       "   200.3668975830078,\n",
       "   189.36375427246094,\n",
       "   254.58242797851562]],\n",
       " [0.8007109761238098,\n",
       "  0.9550710320472717,\n",
       "  0.8007109761238098,\n",
       "  0.9550710320472717]]"
      ]
     },
     "execution_count": 50,
     "metadata": {},
     "output_type": "execute_result"
    }
   ],
   "source": [
    "boxes_in_image"
   ]
  },
  {
   "cell_type": "code",
   "execution_count": 30,
   "metadata": {
    "ExecuteTime": {
     "end_time": "2020-01-10T10:19:49.141706Z",
     "start_time": "2020-01-10T10:19:49.133706Z"
    }
   },
   "outputs": [
    {
     "data": {
      "text/plain": [
       "array([[0.        , 0.        , 0.        , 0.        ],\n",
       "       [0.25260925, 3.5105896 , 2.53341675, 8.93717957],\n",
       "       [0.        , 0.        , 0.        , 0.        ],\n",
       "       [0.25260925, 3.5105896 , 2.53341675, 8.93717957]])"
      ]
     },
     "execution_count": 30,
     "metadata": {},
     "output_type": "execute_result"
    }
   ],
   "source": [
    "np.abs(np.array(boxes_in_image[0][0]) - np.array(boxes_in_image[0][:]))"
   ]
  },
  {
   "cell_type": "code",
   "execution_count": 31,
   "metadata": {
    "ExecuteTime": {
     "end_time": "2020-01-10T10:19:50.792227Z",
     "start_time": "2020-01-10T10:19:50.787226Z"
    }
   },
   "outputs": [],
   "source": [
    "boxes_sum = np.sum(np.abs(np.array(boxes_in_image[0][0]) - np.array(boxes_in_image[0][:])), axis=1)"
   ]
  },
  {
   "cell_type": "code",
   "execution_count": 32,
   "metadata": {
    "ExecuteTime": {
     "end_time": "2020-01-10T10:19:51.110225Z",
     "start_time": "2020-01-10T10:19:51.105220Z"
    }
   },
   "outputs": [
    {
     "data": {
      "text/plain": [
       "array([ 0.        , 15.23379517,  0.        , 15.23379517])"
      ]
     },
     "execution_count": 32,
     "metadata": {},
     "output_type": "execute_result"
    }
   ],
   "source": [
    "boxes_sum"
   ]
  },
  {
   "cell_type": "code",
   "execution_count": 51,
   "metadata": {
    "ExecuteTime": {
     "end_time": "2020-01-10T10:42:03.279542Z",
     "start_time": "2020-01-10T10:42:03.276519Z"
    }
   },
   "outputs": [],
   "source": [
    "boxes_overlapping_idx = np.argwhere(boxes_sum<1).flatten()"
   ]
  },
  {
   "cell_type": "code",
   "execution_count": 52,
   "metadata": {
    "ExecuteTime": {
     "end_time": "2020-01-10T10:42:03.531515Z",
     "start_time": "2020-01-10T10:42:03.527516Z"
    }
   },
   "outputs": [
    {
     "data": {
      "text/plain": [
       "array([0, 2], dtype=int64)"
      ]
     },
     "execution_count": 52,
     "metadata": {},
     "output_type": "execute_result"
    }
   ],
   "source": [
    "boxes_overlapping_idx"
   ]
  },
  {
   "cell_type": "code",
   "execution_count": 55,
   "metadata": {
    "ExecuteTime": {
     "end_time": "2020-01-10T10:42:40.294541Z",
     "start_time": "2020-01-10T10:42:40.289539Z"
    }
   },
   "outputs": [
    {
     "data": {
      "text/plain": [
       "[[150.39125061035156,\n",
       "  196.85630798339844,\n",
       "  186.83033752441406,\n",
       "  245.64524841308594],\n",
       " [150.39125061035156,\n",
       "  196.85630798339844,\n",
       "  186.83033752441406,\n",
       "  245.64524841308594]]"
      ]
     },
     "execution_count": 55,
     "metadata": {},
     "output_type": "execute_result"
    }
   ],
   "source": [
    "[boxes_in_image[0][i] for i in boxes_overlapping_idx]"
   ]
  },
  {
   "cell_type": "code",
   "execution_count": 16,
   "metadata": {
    "ExecuteTime": {
     "end_time": "2020-01-10T04:58:57.500906Z",
     "start_time": "2020-01-10T04:58:57.494906Z"
    }
   },
   "outputs": [
    {
     "data": {
      "text/plain": [
       "array([197.51409912, 195.14474487, 228.9597168 , 234.91314697])"
      ]
     },
     "execution_count": 16,
     "metadata": {},
     "output_type": "execute_result"
    }
   ],
   "source": [
    "np.array(boxes_in_image[0][0])"
   ]
  },
  {
   "cell_type": "code",
   "execution_count": 17,
   "metadata": {
    "ExecuteTime": {
     "end_time": "2020-01-10T04:58:57.505906Z",
     "start_time": "2020-01-10T04:58:57.501905Z"
    }
   },
   "outputs": [
    {
     "data": {
      "text/plain": [
       "array([196.96575928, 195.97064209, 228.03343201, 235.71832275])"
      ]
     },
     "execution_count": 17,
     "metadata": {},
     "output_type": "execute_result"
    }
   ],
   "source": [
    "np.array(boxes_in_image[0][1])"
   ]
  },
  {
   "cell_type": "code",
   "execution_count": 18,
   "metadata": {
    "ExecuteTime": {
     "end_time": "2020-01-10T04:58:57.512906Z",
     "start_time": "2020-01-10T04:58:57.506906Z"
    }
   },
   "outputs": [
    {
     "data": {
      "text/plain": [
       "array([ 0.54833984, -0.82589722,  0.92628479, -0.80517578])"
      ]
     },
     "execution_count": 18,
     "metadata": {},
     "output_type": "execute_result"
    }
   ],
   "source": [
    "np.array(boxes_in_image[0][0]) - np.array(boxes_in_image[0][1])"
   ]
  },
  {
   "cell_type": "code",
   "execution_count": 19,
   "metadata": {
    "ExecuteTime": {
     "end_time": "2020-01-10T04:58:57.518907Z",
     "start_time": "2020-01-10T04:58:57.513906Z"
    }
   },
   "outputs": [
    {
     "data": {
      "text/plain": [
       "3.1056976318359375"
      ]
     },
     "execution_count": 19,
     "metadata": {},
     "output_type": "execute_result"
    }
   ],
   "source": [
    "np.sum(np.abs(np.array(boxes_in_image[0][0]) - np.array(boxes_in_image[0][1])))"
   ]
  },
  {
   "cell_type": "code",
   "execution_count": 20,
   "metadata": {
    "ExecuteTime": {
     "end_time": "2020-01-10T04:58:57.525905Z",
     "start_time": "2020-01-10T04:58:57.519905Z"
    }
   },
   "outputs": [
    {
     "data": {
      "text/plain": [
       "0.7365660667419434"
      ]
     },
     "execution_count": 20,
     "metadata": {},
     "output_type": "execute_result"
    }
   ],
   "source": [
    "boxes_in_image[1][0]"
   ]
  },
  {
   "cell_type": "code",
   "execution_count": 21,
   "metadata": {
    "ExecuteTime": {
     "end_time": "2020-01-10T04:58:57.530905Z",
     "start_time": "2020-01-10T04:58:57.527905Z"
    }
   },
   "outputs": [
    {
     "data": {
      "text/plain": [
       "0.9098683595657349"
      ]
     },
     "execution_count": 21,
     "metadata": {},
     "output_type": "execute_result"
    }
   ],
   "source": [
    "boxes_in_image[1][1]"
   ]
  },
  {
   "cell_type": "code",
   "execution_count": 22,
   "metadata": {
    "ExecuteTime": {
     "end_time": "2020-01-10T04:59:35.697567Z",
     "start_time": "2020-01-10T04:59:35.691548Z"
    }
   },
   "outputs": [
    {
     "data": {
      "text/plain": [
       "[[[[156.4603271484375,\n",
       "    204.8537139892578,\n",
       "    190.7639617919922,\n",
       "    250.22369384765625]],\n",
       "  [0.9072004556655884]],\n",
       " [[[150.39125061035156,\n",
       "    196.85630798339844,\n",
       "    186.83033752441406,\n",
       "    245.64524841308594],\n",
       "   [150.64385986328125,\n",
       "    200.3668975830078,\n",
       "    189.36375427246094,\n",
       "    254.58242797851562]],\n",
       "  [0.8007109761238098, 0.9550710320472717]],\n",
       " [[[197.51409912109375,\n",
       "    195.14474487304688,\n",
       "    228.959716796875,\n",
       "    234.91314697265625],\n",
       "   [196.96575927734375,\n",
       "    195.97064208984375,\n",
       "    228.03343200683594,\n",
       "    235.71832275390625]],\n",
       "  [0.7365660667419434, 0.9098683595657349]],\n",
       " [[[197.51409912109375,\n",
       "    195.14474487304688,\n",
       "    228.959716796875,\n",
       "    234.91314697265625],\n",
       "   [196.96575927734375,\n",
       "    195.97064208984375,\n",
       "    228.03343200683594,\n",
       "    235.71832275390625]],\n",
       "  [0.7365660667419434, 0.9098683595657349]]]"
      ]
     },
     "execution_count": 22,
     "metadata": {},
     "output_type": "execute_result"
    }
   ],
   "source": [
    "layer_boxes"
   ]
  },
  {
   "cell_type": "code",
   "execution_count": 82,
   "metadata": {
    "ExecuteTime": {
     "end_time": "2020-01-09T08:58:01.612020Z",
     "start_time": "2020-01-09T08:58:01.607016Z"
    }
   },
   "outputs": [
    {
     "data": {
      "text/plain": [
       "0.7365660667419434"
      ]
     },
     "execution_count": 82,
     "metadata": {},
     "output_type": "execute_result"
    }
   ],
   "source": [
    "boxes_in_image[0].pop(0)\n",
    "boxes_in_image[1].pop(0)"
   ]
  },
  {
   "cell_type": "code",
   "execution_count": 40,
   "metadata": {
    "ExecuteTime": {
     "end_time": "2020-01-10T05:21:35.945009Z",
     "start_time": "2020-01-10T05:21:35.939002Z"
    }
   },
   "outputs": [
    {
     "data": {
      "text/plain": [
       "[[[[156.4603271484375,\n",
       "    204.8537139892578,\n",
       "    190.7639617919922,\n",
       "    250.22369384765625]],\n",
       "  [0.9072004556655884]],\n",
       " [[[150.39125061035156,\n",
       "    196.85630798339844,\n",
       "    186.83033752441406,\n",
       "    245.64524841308594],\n",
       "   [150.64385986328125,\n",
       "    200.3668975830078,\n",
       "    189.36375427246094,\n",
       "    254.58242797851562]],\n",
       "  [0.8007109761238098, 0.9550710320472717]],\n",
       " [[[197.51409912109375,\n",
       "    195.14474487304688,\n",
       "    228.959716796875,\n",
       "    234.91314697265625],\n",
       "   [196.96575927734375,\n",
       "    195.97064208984375,\n",
       "    228.03343200683594,\n",
       "    235.71832275390625]],\n",
       "  [0.7365660667419434, 0.9098683595657349]],\n",
       " [[[197.51409912109375,\n",
       "    195.14474487304688,\n",
       "    228.959716796875,\n",
       "    234.91314697265625],\n",
       "   [196.96575927734375,\n",
       "    195.97064208984375,\n",
       "    228.03343200683594,\n",
       "    235.71832275390625]],\n",
       "  [0.7365660667419434, 0.9098683595657349]]]"
      ]
     },
     "execution_count": 40,
     "metadata": {},
     "output_type": "execute_result"
    }
   ],
   "source": [
    "layer_boxes"
   ]
  },
  {
   "cell_type": "code",
   "execution_count": null,
   "metadata": {},
   "outputs": [],
   "source": []
  },
  {
   "cell_type": "code",
   "execution_count": 41,
   "metadata": {
    "ExecuteTime": {
     "end_time": "2020-01-10T05:21:43.417108Z",
     "start_time": "2020-01-10T05:21:43.412112Z"
    }
   },
   "outputs": [],
   "source": [
    "a = np.arange(10)"
   ]
  },
  {
   "cell_type": "code",
   "execution_count": 44,
   "metadata": {
    "ExecuteTime": {
     "end_time": "2020-01-10T05:21:58.989219Z",
     "start_time": "2020-01-10T05:21:58.982214Z"
    }
   },
   "outputs": [
    {
     "data": {
      "text/plain": [
       "array([ 0,  1,  2,  3,  4, 30, 36, 42, 48, 54])"
      ]
     },
     "execution_count": 44,
     "metadata": {},
     "output_type": "execute_result"
    }
   ],
   "source": [
    "np.where(a < 5, a, 6*a)"
   ]
  },
  {
   "cell_type": "code",
   "execution_count": null,
   "metadata": {},
   "outputs": [],
   "source": []
  },
  {
   "cell_type": "code",
   "execution_count": null,
   "metadata": {},
   "outputs": [],
   "source": []
  },
  {
   "cell_type": "markdown",
   "metadata": {
    "heading_collapsed": true
   },
   "source": [
    "### Legacy / Old stuff"
   ]
  },
  {
   "cell_type": "code",
   "execution_count": 203,
   "metadata": {
    "ExecuteTime": {
     "end_time": "2020-01-09T06:22:10.058555Z",
     "start_time": "2020-01-09T06:22:10.035555Z"
    },
    "hidden": true
   },
   "outputs": [
    {
     "data": {
      "text/plain": [
       "[array([[[[-6.04508281e-01, -2.89438695e-01,  2.09489584e-01, ...,\n",
       "           -4.49968204e-02, -1.34842920e+01,  1.37683916e+00],\n",
       "          [-7.97640622e-01, -1.27762973e+00,  3.25729907e-01, ...,\n",
       "           -1.10311180e-01, -1.40889206e+01,  1.78751540e+00],\n",
       "          [-2.97825992e-01, -1.27790546e+00,  2.53453135e-01, ...,\n",
       "           -1.10054821e-01, -1.44891644e+01,  1.83928120e+00],\n",
       "          ...,\n",
       "          [-5.64120889e-01, -8.74186099e-01,  1.63710847e-01, ...,\n",
       "           -5.55234179e-02, -1.46384249e+01,  1.62884068e+00],\n",
       "          [-2.60692388e-01, -7.89859354e-01,  8.02152753e-02, ...,\n",
       "           -6.28951713e-02, -1.51082697e+01,  1.71721792e+00],\n",
       "          [ 3.55615169e-01, -2.73957908e-01, -5.06497145e-01, ...,\n",
       "           -1.68718733e-02, -1.38724957e+01,  1.46182334e+00]],\n",
       " \n",
       "         [[-4.02831137e-01,  1.87427253e-02,  6.80004805e-02, ...,\n",
       "           -9.35816765e-02, -1.28531742e+01,  1.57837832e+00],\n",
       "          [-3.21312398e-01, -3.74267131e-01,  1.79195836e-01, ...,\n",
       "           -1.79612160e-01, -1.37986984e+01,  2.14647436e+00],\n",
       "          [-3.04949358e-02, -1.48231134e-01,  1.05868325e-01, ...,\n",
       "           -1.80830628e-01, -1.41900749e+01,  2.19398212e+00],\n",
       "          ...,\n",
       "          [-1.79327935e-01,  8.10545623e-01,  7.44106174e-02, ...,\n",
       "           -7.42582828e-02, -1.33562107e+01,  1.63080859e+00],\n",
       "          [-4.47260868e-03,  1.02443063e+00,  9.71351713e-02, ...,\n",
       "           -8.82788599e-02, -1.31198215e+01,  1.62159526e+00],\n",
       "          [-4.83357981e-02,  7.99767554e-01, -5.52226305e-01, ...,\n",
       "           -4.52571623e-02, -1.19978313e+01,  1.35783184e+00]],\n",
       " \n",
       "         [[-1.76247284e-01,  3.50412399e-01,  6.04350194e-02, ...,\n",
       "           -6.41519353e-02, -1.27553444e+01,  1.55713296e+00],\n",
       "          [ 1.62196293e-01,  1.90700263e-01,  1.06931783e-01, ...,\n",
       "           -1.13191836e-01, -1.33207035e+01,  2.01681471e+00],\n",
       "          [-1.59708396e-01,  8.76387060e-01,  1.61802828e-01, ...,\n",
       "           -1.01819940e-01, -1.35447969e+01,  1.96030796e+00],\n",
       "          ...,\n",
       "          [-5.92344739e-02,  1.95291603e+00,  2.10925698e-01, ...,\n",
       "            6.17401339e-02, -1.31232433e+01,  1.19687808e+00],\n",
       "          [-8.69350731e-02,  1.96460068e+00,  1.88518941e-01, ...,\n",
       "            2.36542113e-02, -1.11113672e+01,  1.03688228e+00],\n",
       "          [-1.48152137e+00,  1.37360346e+00, -2.81381220e-01, ...,\n",
       "            2.04152539e-02, -1.12278852e+01,  1.04098558e+00]],\n",
       " \n",
       "         ...,\n",
       " \n",
       "         [[ 3.94478403e-02,  2.85107568e-02,  3.15933496e-01, ...,\n",
       "           -7.95011446e-02, -1.36376057e+01,  1.55921721e+00],\n",
       "          [-1.20122537e-01, -8.96731496e-01,  4.02889341e-01, ...,\n",
       "           -1.25016943e-01, -1.48106871e+01,  1.82760680e+00],\n",
       "          [ 2.93306053e-01, -5.01237810e-01,  2.73852676e-01, ...,\n",
       "           -1.16112411e-01, -1.56494341e+01,  1.70698988e+00],\n",
       "          ...,\n",
       "          [-4.66801733e-01, -1.71712399e+00,  2.66510308e-01, ...,\n",
       "           -4.25695553e-02, -1.37280340e+01,  1.44513130e+00],\n",
       "          [-5.50486088e-01, -1.51284969e+00,  1.27734244e-01, ...,\n",
       "           -7.27700591e-02, -1.40223351e+01,  1.60777104e+00],\n",
       "          [-6.89719081e-01, -1.12436306e+00, -6.13144040e-01, ...,\n",
       "           -3.49364802e-02, -1.38115454e+01,  1.49648333e+00]],\n",
       " \n",
       "         [[ 9.94665548e-02,  2.00993428e-03,  3.53115112e-01, ...,\n",
       "           -9.62657258e-02, -1.37408781e+01,  1.69117963e+00],\n",
       "          [-1.54926196e-01, -7.95269251e-01,  2.46892616e-01, ...,\n",
       "           -1.62739277e-01, -1.46617060e+01,  2.08018208e+00],\n",
       "          [ 6.24779351e-02, -7.54002392e-01,  4.36903238e-02, ...,\n",
       "           -1.68555677e-01, -1.53838511e+01,  2.03286600e+00],\n",
       "          ...,\n",
       "          [-6.54712766e-02, -7.04620838e-01, -2.57826094e-02, ...,\n",
       "           -1.72412083e-01, -1.55668631e+01,  2.08206296e+00],\n",
       "          [ 8.63064174e-03, -6.46556616e-01, -7.05605000e-02, ...,\n",
       "           -1.83246166e-01, -1.55918541e+01,  2.16764140e+00],\n",
       "          [-4.24349934e-01, -9.76814806e-01, -9.23573732e-01, ...,\n",
       "           -9.89587680e-02, -1.42596807e+01,  1.81300306e+00]],\n",
       " \n",
       "         [[-2.68521458e-01,  4.45157677e-01,  2.15836540e-01, ...,\n",
       "           -4.91177104e-02, -1.28102713e+01,  1.45840061e+00],\n",
       "          [-3.98380846e-01,  1.80154607e-01,  8.93624797e-02, ...,\n",
       "           -9.96375829e-02, -1.29499178e+01,  1.77082372e+00],\n",
       "          [-2.84012139e-01,  2.47005120e-01,  4.45667561e-03, ...,\n",
       "           -1.07523553e-01, -1.31705837e+01,  1.80099845e+00],\n",
       "          ...,\n",
       "          [-2.06117392e-01,  4.97691393e-01,  3.55369002e-02, ...,\n",
       "           -1.25456080e-01, -1.39799623e+01,  1.86390340e+00],\n",
       "          [-2.12788358e-01,  4.01835471e-01, -1.53784687e-02, ...,\n",
       "           -1.31416649e-01, -1.38035364e+01,  1.87671411e+00],\n",
       "          [-5.36437094e-01, -1.71558082e-01, -5.77336013e-01, ...,\n",
       "           -6.81538060e-02, -1.26829481e+01,  1.55886567e+00]]],\n",
       " \n",
       " \n",
       "        [[[-6.11958385e-01, -2.76955366e-01,  2.05532134e-01, ...,\n",
       "           -4.42836508e-02, -1.34629345e+01,  1.37026680e+00],\n",
       "          [-8.11860800e-01, -1.26800728e+00,  3.22294205e-01, ...,\n",
       "           -1.09564535e-01, -1.40740490e+01,  1.78224254e+00],\n",
       "          [-2.93687105e-01, -1.25903916e+00,  2.48659566e-01, ...,\n",
       "           -1.08624160e-01, -1.44538317e+01,  1.83165812e+00],\n",
       "          ...,\n",
       "          [-5.81804693e-01, -8.99164736e-01,  1.65704176e-01, ...,\n",
       "           -5.79787865e-02, -1.46952715e+01,  1.64608610e+00],\n",
       "          [-2.67305523e-01, -8.01021695e-01,  8.18690658e-02, ...,\n",
       "           -6.44235089e-02, -1.51671753e+01,  1.73341763e+00],\n",
       "          [ 3.68303955e-01, -2.69061953e-01, -5.07209063e-01, ...,\n",
       "           -1.73771940e-02, -1.38929291e+01,  1.46922886e+00]],\n",
       " \n",
       "         [[-4.01949048e-01,  6.01596665e-03,  6.60068989e-02, ...,\n",
       "           -9.20898095e-02, -1.28413839e+01,  1.56784296e+00],\n",
       "          [-3.04735869e-01, -4.01098728e-01,  1.81399420e-01, ...,\n",
       "           -1.77638873e-01, -1.37751369e+01,  2.13680577e+00],\n",
       "          [ 4.34867945e-03, -1.20969407e-01,  9.36590657e-02, ...,\n",
       "           -1.77715033e-01, -1.40902758e+01,  2.17342854e+00],\n",
       "          ...,\n",
       "          [-1.70689449e-01,  8.31067801e-01,  7.42030889e-02, ...,\n",
       "           -7.72041902e-02, -1.33937740e+01,  1.65139675e+00],\n",
       "          [-5.24100102e-03,  1.09305513e+00,  9.71020758e-02, ...,\n",
       "           -8.90001357e-02, -1.31002178e+01,  1.62147379e+00],\n",
       "          [-7.48858750e-02,  8.45969439e-01, -5.43465734e-01, ...,\n",
       "           -4.52141687e-02, -1.19513884e+01,  1.34725976e+00]],\n",
       " \n",
       "         [[-2.06228539e-01,  3.32057863e-01,  5.59618175e-02, ...,\n",
       "           -6.23472035e-02, -1.28028812e+01,  1.55356216e+00],\n",
       "          [ 1.94941252e-01,  1.68948963e-01,  1.09665684e-01, ...,\n",
       "           -1.09353282e-01, -1.33884840e+01,  2.01599312e+00],\n",
       "          [-8.41338784e-02,  8.86321425e-01,  1.58199579e-01, ...,\n",
       "           -9.54320654e-02, -1.34937382e+01,  1.94382608e+00],\n",
       "          ...,\n",
       "          [-9.62982327e-03,  1.98869550e+00,  2.38279462e-01, ...,\n",
       "            6.11342192e-02, -1.31175404e+01,  1.21395242e+00],\n",
       "          [-9.01234448e-02,  1.98552072e+00,  2.01302260e-01, ...,\n",
       "            2.52128989e-02, -1.09540367e+01,  1.00108707e+00],\n",
       "          [-1.61335409e+00,  1.36426926e+00, -2.51653910e-01, ...,\n",
       "            2.22802237e-02, -1.12002325e+01,  1.00733876e+00]],\n",
       " \n",
       "         ...,\n",
       " \n",
       "         [[ 2.75312327e-02, -1.57439485e-02,  3.36222529e-01, ...,\n",
       "           -8.23410898e-02, -1.35759535e+01,  1.54593408e+00],\n",
       "          [-1.21013008e-01, -8.89307678e-01,  4.13283855e-01, ...,\n",
       "           -1.29734486e-01, -1.47794695e+01,  1.81088686e+00],\n",
       "          [ 2.81690866e-01, -4.86587763e-01,  2.78617799e-01, ...,\n",
       "           -1.19967088e-01, -1.56544981e+01,  1.70471466e+00],\n",
       "          ...,\n",
       "          [-4.57387626e-01, -1.72044790e+00,  2.66773254e-01, ...,\n",
       "           -3.98619808e-02, -1.37338057e+01,  1.43831778e+00],\n",
       "          [-5.60023129e-01, -1.48611915e+00,  1.30904555e-01, ...,\n",
       "           -7.24570006e-02, -1.40254612e+01,  1.60299015e+00],\n",
       "          [-7.03155816e-01, -1.10641229e+00, -6.08421922e-01, ...,\n",
       "           -3.52145173e-02, -1.38098278e+01,  1.49347723e+00]],\n",
       " \n",
       "         [[ 9.66166854e-02, -1.46455625e-02,  3.65755856e-01, ...,\n",
       "           -9.82306525e-02, -1.37378101e+01,  1.68902409e+00],\n",
       "          [-1.31172106e-01, -8.07325006e-01,  2.48842731e-01, ...,\n",
       "           -1.65576532e-01, -1.46609774e+01,  2.07285714e+00],\n",
       "          [ 8.35432038e-02, -7.64961064e-01,  3.35308015e-02, ...,\n",
       "           -1.70781493e-01, -1.53520603e+01,  2.01943612e+00],\n",
       "          ...,\n",
       "          [-5.43140657e-02, -7.12674379e-01, -2.52651684e-02, ...,\n",
       "           -1.71137884e-01, -1.55562668e+01,  2.07825327e+00],\n",
       "          [ 1.03873638e-02, -6.53308153e-01, -7.08076209e-02, ...,\n",
       "           -1.82895020e-01, -1.55726509e+01,  2.16369152e+00],\n",
       "          [-4.31829631e-01, -9.81152534e-01, -9.22299385e-01, ...,\n",
       "           -9.90901440e-02, -1.42496576e+01,  1.81061840e+00]],\n",
       " \n",
       "         [[-2.66526639e-01,  4.42951471e-01,  2.20809832e-01, ...,\n",
       "           -4.98229600e-02, -1.28053646e+01,  1.45572948e+00],\n",
       "          [-3.97286177e-01,  1.75136507e-01,  9.23277289e-02, ...,\n",
       "           -1.00425422e-01, -1.29461985e+01,  1.76603901e+00],\n",
       "          [-2.82936841e-01,  2.31258839e-01,  2.52907025e-03, ...,\n",
       "           -1.08006306e-01, -1.31483479e+01,  1.79572546e+00],\n",
       "          ...,\n",
       "          [-1.98523462e-01,  5.04208505e-01,  3.42321247e-02, ...,\n",
       "           -1.25418067e-01, -1.39925632e+01,  1.86450422e+00],\n",
       "          [-2.08644688e-01,  4.01205003e-01, -1.55369993e-02, ...,\n",
       "           -1.31330058e-01, -1.38039150e+01,  1.87648237e+00],\n",
       "          [-5.38266838e-01, -1.75579742e-01, -5.77027857e-01, ...,\n",
       "           -6.81246892e-02, -1.26832457e+01,  1.55916095e+00]]],\n",
       " \n",
       " \n",
       "        [[[-6.15087092e-01, -2.91196853e-01,  2.09006965e-01, ...,\n",
       "           -4.48208302e-02, -1.34843369e+01,  1.37648141e+00],\n",
       "          [-7.99571872e-01, -1.28040910e+00,  3.19263220e-01, ...,\n",
       "           -1.09852687e-01, -1.41151991e+01,  1.78902209e+00],\n",
       "          [-2.85453141e-01, -1.27765632e+00,  2.45566770e-01, ...,\n",
       "           -1.08888961e-01, -1.44794016e+01,  1.83557463e+00],\n",
       "          ...,\n",
       "          [-5.69480836e-01, -8.88604283e-01,  1.63756058e-01, ...,\n",
       "           -5.65993711e-02, -1.46529980e+01,  1.63629997e+00],\n",
       "          [-2.53138572e-01, -7.95940638e-01,  7.94516578e-02, ...,\n",
       "           -6.35926127e-02, -1.51212149e+01,  1.72390890e+00],\n",
       "          [ 3.53412151e-01, -2.67067313e-01, -5.07223308e-01, ...,\n",
       "           -1.73651017e-02, -1.38497887e+01,  1.46287215e+00]],\n",
       " \n",
       "         [[-4.24210548e-01,  5.41946618e-03,  6.74877539e-02, ...,\n",
       "           -9.36211646e-02, -1.28627758e+01,  1.58012581e+00],\n",
       "          [-3.10011953e-01, -3.82747352e-01,  1.73873588e-01, ...,\n",
       "           -1.79142088e-01, -1.38381052e+01,  2.15108943e+00],\n",
       "          [-1.14070820e-02, -1.25462756e-01,  9.15805176e-02, ...,\n",
       "           -1.78995043e-01, -1.41649904e+01,  2.18834519e+00],\n",
       "          ...,\n",
       "          [-1.49917141e-01,  7.80731797e-01,  7.68134296e-02, ...,\n",
       "           -7.58077577e-02, -1.34261065e+01,  1.64915192e+00],\n",
       "          [ 4.02247123e-02,  1.00157726e+00,  9.59476531e-02, ...,\n",
       "           -8.85443911e-02, -1.31270418e+01,  1.63123822e+00],\n",
       "          [-5.66759817e-02,  7.61899114e-01, -5.48467457e-01, ...,\n",
       "           -4.44848724e-02, -1.19847631e+01,  1.35761058e+00]],\n",
       " \n",
       "         [[-2.25482911e-01,  3.62538397e-01,  5.60647249e-02, ...,\n",
       "           -6.44473061e-02, -1.27996340e+01,  1.56313503e+00],\n",
       "          [ 1.87491894e-01,  2.17544198e-01,  9.91689339e-02, ...,\n",
       "           -1.11972660e-01, -1.34134378e+01,  2.02446723e+00],\n",
       "          [-1.14702776e-01,  9.23945248e-01,  1.51236027e-01, ...,\n",
       "           -9.85413566e-02, -1.35412884e+01,  1.95175815e+00],\n",
       "          ...,\n",
       "          [-1.01984084e-01,  1.92799401e+00,  2.41892353e-01, ...,\n",
       "            6.19159266e-02, -1.32009697e+01,  1.23368132e+00],\n",
       "          [-9.66884792e-02,  1.87498271e+00,  2.03750923e-01, ...,\n",
       "            2.65524983e-02, -1.11932430e+01,  1.06525755e+00],\n",
       "          [-1.49857509e+00,  1.27487969e+00, -2.60347128e-01, ...,\n",
       "            2.38219947e-02, -1.13870182e+01,  1.06173170e+00]],\n",
       " \n",
       "         ...,\n",
       " \n",
       "         [[ 3.28097530e-02,  3.54702286e-02,  3.30785662e-01, ...,\n",
       "           -8.20820704e-02, -1.35488987e+01,  1.53949440e+00],\n",
       "          [-1.25072584e-01, -8.57520759e-01,  4.11828399e-01, ...,\n",
       "           -1.28443569e-01, -1.47446251e+01,  1.80032802e+00],\n",
       "          [ 2.92150438e-01, -4.97949302e-01,  2.83833712e-01, ...,\n",
       "           -1.18020602e-01, -1.56531525e+01,  1.69806743e+00],\n",
       "          ...,\n",
       "          [-4.53396797e-01, -1.71115959e+00,  2.62255073e-01, ...,\n",
       "           -4.19762805e-02, -1.36700010e+01,  1.43386996e+00],\n",
       "          [-5.85365057e-01, -1.49511623e+00,  1.32185429e-01, ...,\n",
       "           -7.38222748e-02, -1.40148630e+01,  1.60345995e+00],\n",
       "          [-6.93782449e-01, -1.09950519e+00, -6.10491991e-01, ...,\n",
       "           -3.58944573e-02, -1.38220024e+01,  1.49478710e+00]],\n",
       " \n",
       "         [[ 9.91603360e-02, -1.60239600e-02,  3.62245381e-01, ...,\n",
       "           -9.75109637e-02, -1.37322788e+01,  1.68676507e+00],\n",
       "          [-1.48272857e-01, -8.20150912e-01,  2.55988747e-01, ...,\n",
       "           -1.64666459e-01, -1.46735249e+01,  2.07326245e+00],\n",
       "          [ 8.32180083e-02, -7.80712426e-01,  4.25358564e-02, ...,\n",
       "           -1.69915065e-01, -1.53716555e+01,  2.02144098e+00],\n",
       "          ...,\n",
       "          [-5.48164807e-02, -7.26832628e-01, -2.41702367e-02, ...,\n",
       "           -1.71343416e-01, -1.55359354e+01,  2.07898879e+00],\n",
       "          [ 3.56029533e-03, -6.52736247e-01, -6.85055554e-02, ...,\n",
       "           -1.83322325e-01, -1.55696421e+01,  2.16376829e+00],\n",
       "          [-4.25239086e-01, -9.73562717e-01, -9.22631085e-01, ...,\n",
       "           -9.92295220e-02, -1.42496796e+01,  1.81101084e+00]],\n",
       " \n",
       "         [[-2.66901344e-01,  4.45933759e-01,  2.19957411e-01, ...,\n",
       "           -4.96287383e-02, -1.28191319e+01,  1.45756054e+00],\n",
       "          [-4.02612031e-01,  1.84008732e-01,  9.37192813e-02, ...,\n",
       "           -1.00334086e-01, -1.29668341e+01,  1.76925826e+00],\n",
       "          [-2.84071952e-01,  2.43509695e-01,  4.95841075e-03, ...,\n",
       "           -1.07825398e-01, -1.31701965e+01,  1.79855764e+00],\n",
       "          ...,\n",
       "          [-1.98703051e-01,  5.02257943e-01,  3.34622189e-02, ...,\n",
       "           -1.25249177e-01, -1.39849472e+01,  1.86446202e+00],\n",
       "          [-2.08902672e-01,  4.02754158e-01, -1.62788182e-02, ...,\n",
       "           -1.31245375e-01, -1.37928238e+01,  1.87508750e+00],\n",
       "          [-5.38231611e-01, -1.71769187e-01, -5.77528536e-01, ...,\n",
       "           -6.81205913e-02, -1.26761274e+01,  1.55770040e+00]]],\n",
       " \n",
       " \n",
       "        [[[-6.00497305e-01, -2.87285566e-01,  2.07674265e-01, ...,\n",
       "           -4.44621183e-02, -1.34718857e+01,  1.37340748e+00],\n",
       "          [-8.00174534e-01, -1.27162111e+00,  3.21904242e-01, ...,\n",
       "           -1.09728068e-01, -1.40742989e+01,  1.78271019e+00],\n",
       "          [-2.90938318e-01, -1.26754498e+00,  2.50261694e-01, ...,\n",
       "           -1.09713666e-01, -1.44723330e+01,  1.83471370e+00],\n",
       "          ...,\n",
       "          [-5.62926233e-01, -8.77783656e-01,  1.69396222e-01, ...,\n",
       "           -5.52663244e-02, -1.46739473e+01,  1.63338661e+00],\n",
       "          [-2.53747582e-01, -7.83683121e-01,  8.73050243e-02, ...,\n",
       "           -6.17880970e-02, -1.51303015e+01,  1.71723139e+00],\n",
       "          [ 3.68405610e-01, -2.41620392e-01, -5.02749145e-01, ...,\n",
       "           -1.60436220e-02, -1.38516636e+01,  1.45603490e+00]],\n",
       " \n",
       "         [[-3.97168487e-01,  6.03481987e-03,  7.03397766e-02, ...,\n",
       "           -9.28945988e-02, -1.28271313e+01,  1.57328045e+00],\n",
       "          [-2.97900409e-01, -4.01668161e-01,  1.83683693e-01, ...,\n",
       "           -1.78678378e-01, -1.37399216e+01,  2.13926935e+00],\n",
       "          [ 1.25783531e-03, -1.32500306e-01,  9.40595493e-02, ...,\n",
       "           -1.79937527e-01, -1.40780392e+01,  2.17975616e+00],\n",
       "          ...,\n",
       "          [-1.77785352e-01,  8.05831671e-01,  8.60268176e-02, ...,\n",
       "           -7.45778903e-02, -1.33689518e+01,  1.63576174e+00],\n",
       "          [ 1.77300945e-02,  1.04539549e+00,  1.08604193e-01, ...,\n",
       "           -8.67639035e-02, -1.31231251e+01,  1.61615252e+00],\n",
       "          [-5.01473323e-02,  8.13947618e-01, -5.41487694e-01, ...,\n",
       "           -4.34967093e-02, -1.19710751e+01,  1.34300911e+00]],\n",
       " \n",
       "         [[-2.18465731e-01,  3.29303950e-01,  6.37014434e-02, ...,\n",
       "           -6.36870861e-02, -1.27650223e+01,  1.55755568e+00],\n",
       "          [ 2.00493574e-01,  1.62008062e-01,  1.11065798e-01, ...,\n",
       "           -1.11975640e-01, -1.33365841e+01,  2.02394581e+00],\n",
       "          [-6.30722269e-02,  9.00965750e-01,  1.41995713e-01, ...,\n",
       "           -9.79801714e-02, -1.34305124e+01,  1.95096040e+00],\n",
       "          ...,\n",
       "          [-1.10165715e-01,  1.96441317e+00,  2.45313242e-01, ...,\n",
       "            6.30724281e-02, -1.31238375e+01,  1.21319735e+00],\n",
       "          [-1.02612711e-01,  1.98024654e+00,  2.02022865e-01, ...,\n",
       "            2.60331035e-02, -1.10727386e+01,  1.03120804e+00],\n",
       "          [-1.52478135e+00,  1.38395619e+00, -2.67116219e-01, ...,\n",
       "            2.32307874e-02, -1.13305140e+01,  1.03481746e+00]],\n",
       " \n",
       "         ...,\n",
       " \n",
       "         [[ 3.78792211e-02,  1.70603022e-03,  3.12737763e-01, ...,\n",
       "           -7.78343827e-02, -1.35526428e+01,  1.54095697e+00],\n",
       "          [-1.46113813e-01, -9.41038191e-01,  3.99591088e-01, ...,\n",
       "           -1.22942150e-01, -1.48170834e+01,  1.81524491e+00],\n",
       "          [ 2.60181129e-01, -5.46022892e-01,  2.83077598e-01, ...,\n",
       "           -1.15027696e-01, -1.57147627e+01,  1.71230590e+00],\n",
       "          ...,\n",
       "          [-4.63152140e-01, -1.80874360e+00,  2.65388817e-01, ...,\n",
       "           -3.69709358e-02, -1.37731638e+01,  1.44860077e+00],\n",
       "          [-5.60852110e-01, -1.52931738e+00,  1.28857240e-01, ...,\n",
       "           -7.10117072e-02, -1.40232220e+01,  1.60886168e+00],\n",
       "          [-7.09204912e-01, -1.11206889e+00, -6.11144006e-01, ...,\n",
       "           -3.45999599e-02, -1.38159370e+01,  1.49495959e+00]],\n",
       " \n",
       "         [[ 9.53281075e-02, -8.75561405e-03,  3.50995481e-01, ...,\n",
       "           -9.55804959e-02, -1.37415190e+01,  1.68680537e+00],\n",
       "          [-1.56113520e-01, -8.03963661e-01,  2.46060804e-01, ...,\n",
       "           -1.62129015e-01, -1.46901608e+01,  2.07803345e+00],\n",
       "          [ 5.79228401e-02, -7.32839286e-01,  4.82663065e-02, ...,\n",
       "           -1.69291124e-01, -1.54522963e+01,  2.03837466e+00],\n",
       "          ...,\n",
       "          [-6.06356896e-02, -7.14827776e-01, -1.96476169e-02, ...,\n",
       "           -1.70711905e-01, -1.55878000e+01,  2.08439422e+00],\n",
       "          [ 1.91771835e-02, -6.46477461e-01, -6.86230138e-02, ...,\n",
       "           -1.82357311e-01, -1.55771036e+01,  2.16682887e+00],\n",
       "          [-4.26437020e-01, -9.75942850e-01, -9.23928678e-01, ...,\n",
       "           -9.86989960e-02, -1.42447119e+01,  1.81137705e+00]],\n",
       " \n",
       "         [[-2.65021533e-01,  4.50507820e-01,  2.15885192e-01, ...,\n",
       "           -4.90636267e-02, -1.28252249e+01,  1.45682549e+00],\n",
       "          [-3.93460423e-01,  1.92273781e-01,  9.21023861e-02, ...,\n",
       "           -9.98274088e-02, -1.29816084e+01,  1.76958168e+00],\n",
       "          [-2.81802475e-01,  2.75225371e-01,  5.72110154e-03, ...,\n",
       "           -1.08247228e-01, -1.32043810e+01,  1.79966593e+00],\n",
       "          ...,\n",
       "          [-2.01611936e-01,  5.11363029e-01,  3.20116654e-02, ...,\n",
       "           -1.25617102e-01, -1.40036955e+01,  1.86526561e+00],\n",
       "          [-2.06030622e-01,  4.11905020e-01, -1.69045236e-02, ...,\n",
       "           -1.31359741e-01, -1.38059769e+01,  1.87630975e+00],\n",
       "          [-5.35404503e-01, -1.68886408e-01, -5.77423215e-01, ...,\n",
       "           -6.81667179e-02, -1.26799946e+01,  1.55881441e+00]]]],\n",
       "       dtype=float32),\n",
       " array([[[[-8.23453069e-01, -1.44019112e-01, -2.18914270e-01, ...,\n",
       "           -4.98254329e-01, -1.22832499e+01,  1.49961150e+00],\n",
       "          [ 1.00003034e-01,  7.97584206e-02,  1.97849602e-01, ...,\n",
       "           -5.61840832e-01, -1.30729704e+01,  1.31713533e+00],\n",
       "          [ 1.56107828e-01,  3.90055142e-02,  2.93891340e-01, ...,\n",
       "           -5.42942226e-01, -1.31145535e+01,  1.46693254e+00],\n",
       "          ...,\n",
       "          [ 3.07119548e-01,  3.35562974e-01, -3.03655816e-03, ...,\n",
       "           -5.40566742e-01, -1.41723967e+01,  1.21077561e+00],\n",
       "          [ 2.69405574e-01,  4.19408828e-01,  9.20535251e-02, ...,\n",
       "           -5.73360324e-01, -1.43693514e+01,  1.21377504e+00],\n",
       "          [ 1.90611303e-01,  5.89158177e-01, -5.08720815e-01, ...,\n",
       "           -4.45751786e-01, -1.32350044e+01,  1.24504828e+00]],\n",
       " \n",
       "         [[-7.22562730e-01, -3.99073660e-01, -7.73830175e-01, ...,\n",
       "            8.20970535e-02, -1.22286224e+01,  8.68570089e-01],\n",
       "          [ 4.17551696e-02,  2.76238650e-01, -3.20127934e-01, ...,\n",
       "            1.74116492e-02, -1.30766611e+01,  9.29754257e-01],\n",
       "          [ 2.96541035e-01,  4.21108842e-01, -3.47833961e-01, ...,\n",
       "           -6.07197173e-02, -1.36495533e+01,  1.18175292e+00],\n",
       "          ...,\n",
       "          [ 3.25695217e-01,  6.82518125e-01, -6.46561682e-01, ...,\n",
       "           -4.23987657e-02, -1.48116941e+01,  1.00327671e+00],\n",
       "          [ 4.83157605e-01,  5.87681830e-01, -5.14004886e-01, ...,\n",
       "           -1.93531625e-03, -1.40597124e+01,  9.49578524e-01],\n",
       "          [ 3.86098623e-01,  6.87109649e-01, -1.25447416e+00, ...,\n",
       "           -1.32803440e-01, -1.33083801e+01,  1.04375768e+00]],\n",
       " \n",
       "         [[-7.38734961e-01, -3.00636977e-01, -9.52474535e-01, ...,\n",
       "            1.84939891e-01, -1.27574749e+01,  9.13622737e-01],\n",
       "          [ 2.24902913e-01,  4.31539893e-01, -4.21975672e-01, ...,\n",
       "            1.53096467e-01, -1.30780439e+01,  9.59825873e-01],\n",
       "          [ 3.16142887e-01,  6.56377971e-01, -4.82052922e-01, ...,\n",
       "            9.89061370e-02, -1.36959753e+01,  1.13276863e+00],\n",
       "          ...,\n",
       "          [ 3.93842489e-01,  8.79387498e-01, -6.79392993e-01, ...,\n",
       "            3.92391011e-02, -1.42467031e+01,  1.00446200e+00],\n",
       "          [ 4.98674959e-01,  8.92790139e-01, -5.15659571e-01, ...,\n",
       "            4.71299291e-02, -1.35627432e+01,  1.03143549e+00],\n",
       "          [ 1.80266574e-01,  5.49557686e-01, -1.23976481e+00, ...,\n",
       "           -2.55164225e-02, -1.33149958e+01,  1.04858637e+00]],\n",
       " \n",
       "         ...,\n",
       " \n",
       "         [[-4.40831393e-01, -1.45593017e-01, -9.53082919e-01, ...,\n",
       "            1.24536432e-01, -1.47375259e+01,  8.64796400e-01],\n",
       "          [ 4.23582643e-01,  4.69786227e-01, -4.64113235e-01, ...,\n",
       "            3.60606611e-01, -1.44114838e+01,  1.04060209e+00],\n",
       "          [ 4.74290788e-01,  5.53473413e-01, -4.99026746e-01, ...,\n",
       "            2.68630445e-01, -1.44158335e+01,  1.19434261e+00],\n",
       "          ...,\n",
       "          [ 3.73283356e-01,  5.87695062e-01, -7.09692836e-01, ...,\n",
       "            4.68800217e-01, -1.39672775e+01,  1.16599178e+00],\n",
       "          [ 1.49755582e-01,  3.45618367e-01, -6.08802736e-01, ...,\n",
       "            6.02341473e-01, -1.35616169e+01,  1.17319369e+00],\n",
       "          [ 7.54383020e-03,  2.64505595e-01, -1.41642308e+00, ...,\n",
       "            4.03068930e-01, -1.41063671e+01,  8.88776660e-01]],\n",
       " \n",
       "         [[-6.85294271e-01, -3.66062433e-01, -8.67413104e-01, ...,\n",
       "            1.19127311e-01, -1.48293591e+01,  8.35268199e-01],\n",
       "          [ 3.60880554e-01,  4.50204194e-01, -4.04090852e-01, ...,\n",
       "            3.47740889e-01, -1.49496784e+01,  1.07891595e+00],\n",
       "          [ 3.85210484e-01,  5.77917039e-01, -4.43698674e-01, ...,\n",
       "            2.54687279e-01, -1.48353958e+01,  1.26943779e+00],\n",
       "          ...,\n",
       "          [ 2.43902788e-01,  5.93587577e-01, -7.29564190e-01, ...,\n",
       "            4.44514602e-01, -1.47973766e+01,  1.15406394e+00],\n",
       "          [ 9.02424902e-02,  4.75683451e-01, -6.06024206e-01, ...,\n",
       "            6.22508347e-01, -1.45791416e+01,  1.20916510e+00],\n",
       "          [ 1.54630363e-01,  4.08996463e-01, -1.40396369e+00, ...,\n",
       "            3.75628293e-01, -1.47995443e+01,  8.93072963e-01]],\n",
       " \n",
       "         [[-2.83121198e-01, -2.71084875e-01, -1.09801427e-01, ...,\n",
       "           -3.48777860e-01, -1.40160570e+01,  1.13393855e+00],\n",
       "          [ 4.11412299e-01,  4.15742964e-01,  4.26332861e-01, ...,\n",
       "           -2.84436554e-01, -1.42131968e+01,  1.12391448e+00],\n",
       "          [ 3.65276396e-01,  3.66705149e-01,  3.75088066e-01, ...,\n",
       "           -3.19019675e-01, -1.44402914e+01,  1.22576284e+00],\n",
       "          ...,\n",
       "          [ 3.05384159e-01,  4.18669760e-01,  2.49955118e-01, ...,\n",
       "           -1.77149624e-01, -1.38973198e+01,  1.18234253e+00],\n",
       "          [ 2.88874954e-01,  4.87984389e-01,  2.89078951e-01, ...,\n",
       "           -8.41334015e-02, -1.32848406e+01,  1.14735687e+00],\n",
       "          [-3.01796757e-02,  3.71810682e-02, -5.63462913e-01, ...,\n",
       "           -5.64644672e-02, -1.30275002e+01,  1.27476656e+00]]],\n",
       " \n",
       " \n",
       "        [[[-8.35933268e-01, -1.46750346e-01, -2.16721699e-01, ...,\n",
       "           -4.96192694e-01, -1.22542648e+01,  1.50173497e+00],\n",
       "          [ 9.18350220e-02,  8.14500824e-02,  1.97547391e-01, ...,\n",
       "           -5.60452700e-01, -1.30847559e+01,  1.31931329e+00],\n",
       "          [ 1.54089436e-01,  4.02876250e-02,  2.92671114e-01, ...,\n",
       "           -5.42847097e-01, -1.31390572e+01,  1.46603966e+00],\n",
       "          ...,\n",
       "          [ 3.08383197e-01,  3.30316991e-01, -7.52192130e-03, ...,\n",
       "           -5.37525594e-01, -1.42252216e+01,  1.20906162e+00],\n",
       "          [ 2.76629388e-01,  4.17751521e-01,  9.05667469e-02, ...,\n",
       "           -5.73598325e-01, -1.44119730e+01,  1.21334302e+00],\n",
       "          [ 1.90618664e-01,  5.89555860e-01, -5.07533491e-01, ...,\n",
       "           -4.47557241e-01, -1.32394915e+01,  1.24463332e+00]],\n",
       " \n",
       "         [[-7.33544052e-01, -4.03060853e-01, -7.73946285e-01, ...,\n",
       "            8.70345309e-02, -1.22046175e+01,  8.69183898e-01],\n",
       "          [ 3.77171114e-02,  2.76441336e-01, -3.19149137e-01, ...,\n",
       "            1.65543593e-02, -1.30932341e+01,  9.31351900e-01],\n",
       "          [ 2.96104372e-01,  4.21808749e-01, -3.45927030e-01, ...,\n",
       "           -6.60161451e-02, -1.36847534e+01,  1.18320251e+00],\n",
       "          ...,\n",
       "          [ 3.32193404e-01,  6.82956159e-01, -6.51679099e-01, ...,\n",
       "           -3.15463543e-02, -1.48711472e+01,  1.00246716e+00],\n",
       "          [ 4.92416769e-01,  5.91156483e-01, -5.15684605e-01, ...,\n",
       "            4.99700569e-03, -1.41130867e+01,  9.48687911e-01],\n",
       "          [ 3.86742204e-01,  6.89099371e-01, -1.25504863e+00, ...,\n",
       "           -1.30488217e-01, -1.33271551e+01,  1.04174507e+00]],\n",
       " \n",
       "         [[-7.46649921e-01, -3.04752678e-01, -9.51251328e-01, ...,\n",
       "            1.84821576e-01, -1.27189989e+01,  9.15400982e-01],\n",
       "          [ 2.22650647e-01,  4.30413544e-01, -4.17693198e-01, ...,\n",
       "            1.47965431e-01, -1.30649271e+01,  9.61823940e-01],\n",
       "          [ 3.16908181e-01,  6.57681942e-01, -4.75511044e-01, ...,\n",
       "            8.97276476e-02, -1.37184076e+01,  1.13619399e+00],\n",
       "          ...,\n",
       "          [ 3.96769971e-01,  8.93217027e-01, -6.82855129e-01, ...,\n",
       "            4.76409197e-02, -1.42876005e+01,  1.00007653e+00],\n",
       "          [ 5.11530280e-01,  9.06942010e-01, -5.16318917e-01, ...,\n",
       "            5.38745970e-02, -1.35957117e+01,  1.02798414e+00],\n",
       "          [ 1.81203663e-01,  5.60754001e-01, -1.24174678e+00, ...,\n",
       "           -2.26000957e-02, -1.33068552e+01,  1.04580450e+00]],\n",
       " \n",
       "         ...,\n",
       " \n",
       "         [[-4.44467723e-01, -1.51561454e-01, -9.54204559e-01, ...,\n",
       "            1.30553097e-01, -1.47020893e+01,  8.58739614e-01],\n",
       "          [ 4.23924237e-01,  4.80066359e-01, -4.63507682e-01, ...,\n",
       "            3.68213594e-01, -1.43965826e+01,  1.02976894e+00],\n",
       "          [ 4.80282515e-01,  5.57657838e-01, -5.05039692e-01, ...,\n",
       "            2.80159980e-01, -1.44001122e+01,  1.17440295e+00],\n",
       "          ...,\n",
       "          [ 3.72363061e-01,  5.84023714e-01, -7.08082438e-01, ...,\n",
       "            4.68956858e-01, -1.39426317e+01,  1.16834712e+00],\n",
       "          [ 1.47208452e-01,  3.42193782e-01, -6.07778847e-01, ...,\n",
       "            6.02430165e-01, -1.35511894e+01,  1.17431760e+00],\n",
       "          [ 7.41716474e-03,  2.63171226e-01, -1.41688943e+00, ...,\n",
       "            4.04230833e-01, -1.41039972e+01,  8.88866067e-01]],\n",
       " \n",
       "         [[-6.85647428e-01, -3.67922992e-01, -8.68174970e-01, ...,\n",
       "            1.20307766e-01, -1.48176746e+01,  8.33283305e-01],\n",
       "          [ 3.60443503e-01,  4.53007102e-01, -4.02407110e-01, ...,\n",
       "            3.48554760e-01, -1.49421349e+01,  1.07119608e+00],\n",
       "          [ 3.85037303e-01,  5.85111856e-01, -4.45187092e-01, ...,\n",
       "            2.56842464e-01, -1.48159885e+01,  1.25461721e+00],\n",
       "          ...,\n",
       "          [ 2.45150998e-01,  5.90925157e-01, -7.28575349e-01, ...,\n",
       "            4.44855303e-01, -1.47885523e+01,  1.15522385e+00],\n",
       "          [ 9.00310054e-02,  4.73923028e-01, -6.05586648e-01, ...,\n",
       "            6.23026371e-01, -1.45717926e+01,  1.21015429e+00],\n",
       "          [ 1.53994918e-01,  4.07928973e-01, -1.40426958e+00, ...,\n",
       "            3.76642913e-01, -1.47979507e+01,  8.93865108e-01]],\n",
       " \n",
       "         [[-2.82868803e-01, -2.70912498e-01, -1.09491281e-01, ...,\n",
       "           -3.49047005e-01, -1.40189199e+01,  1.13325930e+00],\n",
       "          [ 4.12013173e-01,  4.17691618e-01,  4.26846325e-01, ...,\n",
       "           -2.86031902e-01, -1.42206869e+01,  1.12331092e+00],\n",
       "          [ 3.64390105e-01,  3.68291527e-01,  3.75207543e-01, ...,\n",
       "           -3.21260691e-01, -1.44310026e+01,  1.22462440e+00],\n",
       "          ...,\n",
       "          [ 3.06213677e-01,  4.18589264e-01,  2.50031888e-01, ...,\n",
       "           -1.76349282e-01, -1.38956242e+01,  1.18235612e+00],\n",
       "          [ 2.89209902e-01,  4.87220764e-01,  2.89390713e-01, ...,\n",
       "           -8.35115388e-02, -1.32813902e+01,  1.14766693e+00],\n",
       "          [-3.05831656e-02,  3.67678665e-02, -5.63479483e-01, ...,\n",
       "           -5.59642054e-02, -1.30271854e+01,  1.27479887e+00]]],\n",
       " \n",
       " \n",
       "        [[[-8.24146867e-01, -1.43316537e-01, -2.17527196e-01, ...,\n",
       "           -4.98483270e-01, -1.22857323e+01,  1.50112391e+00],\n",
       "          [ 9.99460742e-02,  8.15530121e-02,  1.97946489e-01, ...,\n",
       "           -5.62972367e-01, -1.30829458e+01,  1.31740189e+00],\n",
       "          [ 1.57549113e-01,  4.08657789e-02,  2.92939782e-01, ...,\n",
       "           -5.44268072e-01, -1.31171894e+01,  1.46522379e+00],\n",
       "          ...,\n",
       "          [ 3.09146106e-01,  3.38311523e-01, -6.35073520e-03, ...,\n",
       "           -5.38233817e-01, -1.41724768e+01,  1.20979810e+00],\n",
       "          [ 2.76100636e-01,  4.22252685e-01,  9.06578898e-02, ...,\n",
       "           -5.71265638e-01, -1.43752298e+01,  1.21326053e+00],\n",
       "          [ 1.89864352e-01,  5.91206849e-01, -5.09104788e-01, ...,\n",
       "           -4.44026828e-01, -1.32316313e+01,  1.24430454e+00]],\n",
       " \n",
       "         [[-7.25279629e-01, -4.00066495e-01, -7.73002148e-01, ...,\n",
       "            8.32633078e-02, -1.22294378e+01,  8.68811727e-01],\n",
       "          [ 4.21453491e-02,  2.74822623e-01, -3.19636047e-01, ...,\n",
       "            1.70143768e-02, -1.30946512e+01,  9.29768622e-01],\n",
       "          [ 2.97509193e-01,  4.20374960e-01, -3.48833710e-01, ...,\n",
       "           -6.28664345e-02, -1.36613760e+01,  1.18081021e+00],\n",
       "          ...,\n",
       "          [ 3.27104390e-01,  6.94857776e-01, -6.49771214e-01, ...,\n",
       "           -4.53589857e-02, -1.48203125e+01,  1.00418353e+00],\n",
       "          [ 4.88229007e-01,  5.99569738e-01, -5.13128281e-01, ...,\n",
       "           -4.57108207e-03, -1.40560913e+01,  9.50581968e-01],\n",
       "          [ 3.81345868e-01,  6.92631006e-01, -1.25196099e+00, ...,\n",
       "           -1.32863492e-01, -1.32851858e+01,  1.04414988e+00]],\n",
       " \n",
       "         [[-7.43979573e-01, -3.01589400e-01, -9.51136410e-01, ...,\n",
       "            1.84531987e-01, -1.27616110e+01,  9.13342118e-01],\n",
       "          [ 2.26084203e-01,  4.31119740e-01, -4.19333011e-01, ...,\n",
       "            1.52143955e-01, -1.31040077e+01,  9.60016966e-01],\n",
       "          [ 3.18106413e-01,  6.57888949e-01, -4.83486652e-01, ...,\n",
       "            9.64657813e-02, -1.37288256e+01,  1.13010263e+00],\n",
       "          ...,\n",
       "          [ 3.87563050e-01,  8.98561478e-01, -6.81416214e-01, ...,\n",
       "            3.50012183e-02, -1.42739553e+01,  1.00425529e+00],\n",
       "          [ 4.99850839e-01,  9.11898315e-01, -5.16981244e-01, ...,\n",
       "            3.97253893e-02, -1.35638142e+01,  1.03397787e+00],\n",
       "          [ 1.69888377e-01,  5.55467367e-01, -1.23534858e+00, ...,\n",
       "           -2.87392922e-02, -1.32861156e+01,  1.04952335e+00]],\n",
       " \n",
       "         ...,\n",
       " \n",
       "         [[-4.43655282e-01, -1.50318444e-01, -9.51381028e-01, ...,\n",
       "            1.28912896e-01, -1.47211599e+01,  8.63128424e-01],\n",
       "          [ 4.19694245e-01,  4.77354676e-01, -4.58132744e-01, ...,\n",
       "            3.67429376e-01, -1.44190464e+01,  1.03596210e+00],\n",
       "          [ 4.79536384e-01,  5.51588476e-01, -4.97495562e-01, ...,\n",
       "            2.81267405e-01, -1.44300776e+01,  1.18694615e+00],\n",
       "          ...,\n",
       "          [ 3.73999476e-01,  5.87036610e-01, -7.10360050e-01, ...,\n",
       "            4.68544394e-01, -1.39675961e+01,  1.16711843e+00],\n",
       "          [ 1.50194019e-01,  3.47130686e-01, -6.09188318e-01, ...,\n",
       "            6.02213740e-01, -1.35554695e+01,  1.17346442e+00],\n",
       "          [ 5.83341345e-03,  2.65302151e-01, -1.41613352e+00, ...,\n",
       "            4.02294844e-01, -1.41049700e+01,  8.88387024e-01]],\n",
       " \n",
       "         [[-6.84181035e-01, -3.64523441e-01, -8.67644787e-01, ...,\n",
       "            1.19544409e-01, -1.48280792e+01,  8.35222483e-01],\n",
       "          [ 3.60563874e-01,  4.53859508e-01, -3.99879873e-01, ...,\n",
       "            3.47550333e-01, -1.49583797e+01,  1.07552457e+00],\n",
       "          [ 3.85051340e-01,  5.85661650e-01, -4.42384005e-01, ...,\n",
       "            2.56283492e-01, -1.48418531e+01,  1.26133966e+00],\n",
       "          ...,\n",
       "          [ 2.44264498e-01,  5.94577491e-01, -7.30444551e-01, ...,\n",
       "            4.44384396e-01, -1.47973299e+01,  1.15409613e+00],\n",
       "          [ 8.99307653e-02,  4.76035237e-01, -6.06220305e-01, ...,\n",
       "            6.22166574e-01, -1.45752211e+01,  1.20931077e+00],\n",
       "          [ 1.53732628e-01,  4.09248203e-01, -1.40345657e+00, ...,\n",
       "            3.75240594e-01, -1.47980928e+01,  8.92864704e-01]],\n",
       " \n",
       "         [[-2.82295614e-01, -2.70786732e-01, -1.08997270e-01, ...,\n",
       "           -3.50647330e-01, -1.40085545e+01,  1.13432360e+00],\n",
       "          [ 4.11160350e-01,  4.17104393e-01,  4.27447706e-01, ...,\n",
       "           -2.87483782e-01, -1.42054625e+01,  1.12412524e+00],\n",
       "          [ 3.64332050e-01,  3.67429018e-01,  3.75948191e-01, ...,\n",
       "           -3.21721703e-01, -1.44272890e+01,  1.22596800e+00],\n",
       "          ...,\n",
       "          [ 3.04900914e-01,  4.18945640e-01,  2.49736041e-01, ...,\n",
       "           -1.76878810e-01, -1.38957300e+01,  1.18220973e+00],\n",
       "          [ 2.87969708e-01,  4.88120139e-01,  2.89094120e-01, ...,\n",
       "           -8.39448422e-02, -1.32824821e+01,  1.14743567e+00],\n",
       "          [-3.07985507e-02,  3.74092869e-02, -5.63518286e-01, ...,\n",
       "           -5.65759093e-02, -1.30279379e+01,  1.27467036e+00]]],\n",
       " \n",
       " \n",
       "        [[[-8.25188518e-01, -1.45062655e-01, -2.15468571e-01, ...,\n",
       "           -4.96709049e-01, -1.22828550e+01,  1.50219512e+00],\n",
       "          [ 1.01200961e-01,  8.09050798e-02,  1.99131817e-01, ...,\n",
       "           -5.60737967e-01, -1.30707579e+01,  1.31970263e+00],\n",
       "          [ 1.56088829e-01,  3.98272276e-02,  2.95689404e-01, ...,\n",
       "           -5.42904139e-01, -1.30939054e+01,  1.46948910e+00],\n",
       "          ...,\n",
       "          [ 3.18069786e-01,  3.38729084e-01, -3.16647929e-03, ...,\n",
       "           -5.42547643e-01, -1.42262154e+01,  1.21307230e+00],\n",
       "          [ 2.81866610e-01,  4.28840339e-01,  9.57226008e-02, ...,\n",
       "           -5.79279304e-01, -1.44095621e+01,  1.21862876e+00],\n",
       "          [ 1.94434300e-01,  5.95775187e-01, -5.03613830e-01, ...,\n",
       "           -4.50599819e-01, -1.32394218e+01,  1.24858403e+00]],\n",
       " \n",
       "         [[-7.21614718e-01, -3.98713917e-01, -7.69673347e-01, ...,\n",
       "            8.42834339e-02, -1.22346020e+01,  8.70035470e-01],\n",
       "          [ 4.29741889e-02,  2.75997192e-01, -3.16715747e-01, ...,\n",
       "            1.65829286e-02, -1.30799837e+01,  9.32884693e-01],\n",
       "          [ 2.96483189e-01,  4.18276578e-01, -3.46232980e-01, ...,\n",
       "           -6.24211431e-02, -1.36385498e+01,  1.18590081e+00],\n",
       "          ...,\n",
       "          [ 3.38950425e-01,  6.96827769e-01, -6.41962886e-01, ...,\n",
       "           -4.49057072e-02, -1.48230114e+01,  1.00940526e+00],\n",
       "          [ 4.94640559e-01,  6.02229118e-01, -5.07023454e-01, ...,\n",
       "           -1.34007949e-02, -1.40235481e+01,  9.55829859e-01],\n",
       "          [ 3.75255525e-01,  6.97881281e-01, -1.24942362e+00, ...,\n",
       "           -1.40660405e-01, -1.32444172e+01,  1.04751730e+00]],\n",
       " \n",
       "         [[-7.35276699e-01, -2.98075289e-01, -9.47971046e-01, ...,\n",
       "            1.81876838e-01, -1.27545328e+01,  9.15356517e-01],\n",
       "          [ 2.22505569e-01,  4.33978409e-01, -4.15545344e-01, ...,\n",
       "            1.48292899e-01, -1.30714388e+01,  9.62503552e-01],\n",
       "          [ 3.11967701e-01,  6.57360196e-01, -4.80327874e-01, ...,\n",
       "            9.58425999e-02, -1.37049379e+01,  1.13588095e+00],\n",
       "          ...,\n",
       "          [ 3.97602260e-01,  9.00900543e-01, -6.69146717e-01, ...,\n",
       "            3.35499831e-02, -1.42371445e+01,  1.00918150e+00],\n",
       "          [ 5.08351982e-01,  9.17901993e-01, -5.05619466e-01, ...,\n",
       "            3.13401595e-02, -1.34926653e+01,  1.04164410e+00],\n",
       "          [ 1.59848824e-01,  5.62318861e-01, -1.23029649e+00, ...,\n",
       "           -4.03879061e-02, -1.32255745e+01,  1.05645025e+00]],\n",
       " \n",
       "         ...,\n",
       " \n",
       "         [[-4.45893139e-01, -1.54399663e-01, -9.53300953e-01, ...,\n",
       "            1.23065524e-01, -1.47102137e+01,  8.62547636e-01],\n",
       "          [ 4.17583168e-01,  4.66635078e-01, -4.62315083e-01, ...,\n",
       "            3.56146336e-01, -1.44028206e+01,  1.03758264e+00],\n",
       "          [ 4.79834825e-01,  5.44170856e-01, -4.94034559e-01, ...,\n",
       "            2.66404778e-01, -1.44127464e+01,  1.19653034e+00],\n",
       "          ...,\n",
       "          [ 3.74486476e-01,  5.85992515e-01, -7.08630383e-01, ...,\n",
       "            4.68167126e-01, -1.39618311e+01,  1.16582668e+00],\n",
       "          [ 1.51008621e-01,  3.46079916e-01, -6.09361649e-01, ...,\n",
       "            6.01170003e-01, -1.35583544e+01,  1.17216420e+00],\n",
       "          [ 9.55605321e-03,  2.67176747e-01, -1.41624975e+00, ...,\n",
       "            4.02114630e-01, -1.41048927e+01,  8.88187468e-01]],\n",
       " \n",
       "         [[-6.84905946e-01, -3.68320048e-01, -8.66630614e-01, ...,\n",
       "            1.15790926e-01, -1.48199339e+01,  8.35847139e-01],\n",
       "          [ 3.61732006e-01,  4.48115349e-01, -4.01957363e-01, ...,\n",
       "            3.41259778e-01, -1.49443321e+01,  1.07874537e+00],\n",
       "          [ 3.86399746e-01,  5.79646468e-01, -4.43042964e-01, ...,\n",
       "            2.49169260e-01, -1.48212547e+01,  1.27018380e+00],\n",
       "          ...,\n",
       "          [ 2.44912997e-01,  5.93682706e-01, -7.29863703e-01, ...,\n",
       "            4.44586068e-01, -1.48028164e+01,  1.15331507e+00],\n",
       "          [ 9.14570913e-02,  4.75783318e-01, -6.06465757e-01, ...,\n",
       "            6.22961283e-01, -1.45804310e+01,  1.20852160e+00],\n",
       "          [ 1.56157672e-01,  4.10182267e-01, -1.40369177e+00, ...,\n",
       "            3.75571132e-01, -1.47987995e+01,  8.92735124e-01]],\n",
       " \n",
       "         [[-2.81039327e-01, -2.70193785e-01, -1.08741313e-01, ...,\n",
       "           -3.50455940e-01, -1.40053749e+01,  1.13475382e+00],\n",
       "          [ 4.13554132e-01,  4.17123973e-01,  4.27601486e-01, ...,\n",
       "           -2.86897004e-01, -1.41978941e+01,  1.12576890e+00],\n",
       "          [ 3.67276013e-01,  3.66796196e-01,  3.76858205e-01, ...,\n",
       "           -3.21971387e-01, -1.44148483e+01,  1.22840428e+00],\n",
       "          ...,\n",
       "          [ 3.06035101e-01,  4.19743150e-01,  2.49384344e-01, ...,\n",
       "           -1.76236212e-01, -1.39087343e+01,  1.18205690e+00],\n",
       "          [ 2.89665878e-01,  4.88467187e-01,  2.88764715e-01, ...,\n",
       "           -8.31197724e-02, -1.32923546e+01,  1.14687359e+00],\n",
       "          [-2.95427814e-02,  3.72261927e-02, -5.63709736e-01, ...,\n",
       "           -5.59453703e-02, -1.30320959e+01,  1.27461028e+00]]]],\n",
       "       dtype=float32)]"
      ]
     },
     "execution_count": 203,
     "metadata": {},
     "output_type": "execute_result"
    }
   ],
   "source": [
    "pred"
   ]
  },
  {
   "cell_type": "code",
   "execution_count": 170,
   "metadata": {
    "ExecuteTime": {
     "end_time": "2020-01-09T06:12:52.943815Z",
     "start_time": "2020-01-09T06:12:52.925794Z"
    },
    "hidden": true
   },
   "outputs": [],
   "source": [
    "img = video.next_frame()"
   ]
  },
  {
   "cell_type": "code",
   "execution_count": 172,
   "metadata": {
    "ExecuteTime": {
     "end_time": "2020-01-09T06:13:02.215680Z",
     "start_time": "2020-01-09T06:13:02.211681Z"
    },
    "hidden": true
   },
   "outputs": [
    {
     "data": {
      "text/plain": [
       "NoneType"
      ]
     },
     "execution_count": 172,
     "metadata": {},
     "output_type": "execute_result"
    }
   ],
   "source": [
    "type(img)"
   ]
  },
  {
   "cell_type": "code",
   "execution_count": 179,
   "metadata": {
    "ExecuteTime": {
     "end_time": "2020-01-09T06:14:36.466475Z",
     "start_time": "2020-01-09T06:14:36.461470Z"
    },
    "hidden": true
   },
   "outputs": [
    {
     "data": {
      "text/plain": [
       "(1080, 1920, 3)"
      ]
     },
     "execution_count": 179,
     "metadata": {},
     "output_type": "execute_result"
    }
   ],
   "source": [
    "imgs[0].shape"
   ]
  },
  {
   "cell_type": "code",
   "execution_count": 178,
   "metadata": {
    "ExecuteTime": {
     "end_time": "2020-01-09T06:14:24.385772Z",
     "start_time": "2020-01-09T06:14:24.379774Z"
    },
    "hidden": true
   },
   "outputs": [
    {
     "data": {
      "text/plain": [
       "4"
      ]
     },
     "execution_count": 178,
     "metadata": {},
     "output_type": "execute_result"
    }
   ],
   "source": [
    "len(imgs)"
   ]
  },
  {
   "cell_type": "code",
   "execution_count": 8,
   "metadata": {
    "ExecuteTime": {
     "end_time": "2020-01-09T04:35:48.879272Z",
     "start_time": "2020-01-09T04:35:48.861242Z"
    },
    "hidden": true
   },
   "outputs": [],
   "source": [
    "classes_path = 'model_data/face_classes.txt'\n",
    "anchors_path = 'model_data/tiny_yolo_anchors.txt'\n",
    "class_names = get_classes(classes_path)\n",
    "num_classes = len(class_names)\n",
    "anchors = get_anchors(anchors_path)\n",
    "input_shape = (416,416) # multiple of 32, hw"
   ]
  },
  {
   "cell_type": "code",
   "execution_count": 9,
   "metadata": {
    "ExecuteTime": {
     "end_time": "2020-01-09T04:35:51.122372Z",
     "start_time": "2020-01-09T04:35:49.022244Z"
    },
    "hidden": true
   },
   "outputs": [
    {
     "name": "stdout",
     "output_type": "stream",
     "text": [
      "Create Tiny YOLOv3 model with 6 anchors and 1 classes.\n"
     ]
    }
   ],
   "source": [
    "model = create_tiny_model(input_shape, anchors, num_classes, freeze_body=2)"
   ]
  },
  {
   "cell_type": "code",
   "execution_count": 10,
   "metadata": {
    "ExecuteTime": {
     "end_time": "2020-01-09T04:35:51.194372Z",
     "start_time": "2020-01-09T04:35:51.123372Z"
    },
    "hidden": true
   },
   "outputs": [],
   "source": [
    "model.load_weights('tiny-yolov3.h5', by_name=True)"
   ]
  },
  {
   "cell_type": "code",
   "execution_count": 215,
   "metadata": {
    "ExecuteTime": {
     "end_time": "2020-01-09T06:26:39.692478Z",
     "start_time": "2020-01-09T06:26:39.688483Z"
    },
    "hidden": true
   },
   "outputs": [],
   "source": [
    "def read_img(path):\n",
    "    img = Image.open(path)\n",
    "#     boxed_image = letterbox_image(img, (416,416))\n",
    "#     image_data = np.array(boxed_image, dtype='float32')\n",
    "#     image_data /= 255.\n",
    "    \n",
    "    return img"
   ]
  },
  {
   "cell_type": "code",
   "execution_count": 217,
   "metadata": {
    "ExecuteTime": {
     "end_time": "2020-01-09T06:26:50.730205Z",
     "start_time": "2020-01-09T06:26:50.721207Z"
    },
    "hidden": true
   },
   "outputs": [],
   "source": [
    "image_data = []\n",
    "img = read_img('../face_detection/znrixntqqb_0.png')\n",
    "img2 = read_img('../face_detection/aidocisbby_0.png')\n",
    "img3 = read_img('../face_detection/xpwzoebyho_75.png')\n",
    "img4 = read_img('../face_detection/xpwzoebyho_75.png')\n",
    "image_data.append(img)\n",
    "image_data.append(img2)\n",
    "image_data.append(img3)\n",
    "image_data.append(img4)\n",
    "# image_data = np.array(image_data)\n",
    "# image_data = np.expand_dims(img, 0) "
   ]
  },
  {
   "cell_type": "code",
   "execution_count": 13,
   "metadata": {
    "ExecuteTime": {
     "end_time": "2020-01-09T04:35:53.178395Z",
     "start_time": "2020-01-09T04:35:51.470372Z"
    },
    "hidden": true
   },
   "outputs": [
    {
     "data": {
      "text/plain": [
       "[array([[[[-4.33202267e-01, -3.14866245e-01,  8.05195943e-02, ...,\n",
       "            1.28650805e-03, -1.34120998e+01,  1.22602880e+00],\n",
       "          [-6.32266700e-01, -9.82267022e-01,  1.68750972e-01, ...,\n",
       "           -4.53422554e-02, -1.38912973e+01,  1.52211189e+00],\n",
       "          [-2.38091663e-01, -8.88163388e-01,  1.90824658e-01, ...,\n",
       "           -5.72593659e-02, -1.40403919e+01,  1.56430185e+00],\n",
       "          ...,\n",
       "          [-3.53867143e-01, -1.18397224e+00,  2.43706778e-01, ...,\n",
       "           -1.00950450e-01, -1.43914490e+01,  1.80051422e+00],\n",
       "          [-3.50506961e-01, -1.11416781e+00,  1.14033952e-01, ...,\n",
       "           -1.06429063e-01, -1.46077042e+01,  1.82597709e+00],\n",
       "          [-8.33569542e-02, -8.38000238e-01, -5.63848972e-01, ...,\n",
       "           -4.25685048e-02, -1.38265724e+01,  1.55744076e+00]],\n",
       " \n",
       "         [[-2.28478506e-01, -8.37849602e-02, -1.14372529e-01, ...,\n",
       "           -8.60875472e-03, -1.28828545e+01,  1.31421685e+00],\n",
       "          [-1.31293431e-01, -4.32347059e-01,  6.76281229e-02, ...,\n",
       "           -5.64088561e-02, -1.33711824e+01,  1.68201470e+00],\n",
       "          [-2.61190273e-02, -2.76710629e-01,  1.23488307e-01, ...,\n",
       "           -8.09100941e-02, -1.34024620e+01,  1.74279964e+00],\n",
       "          ...,\n",
       "          [-7.21023381e-02, -2.15057567e-01,  1.47062108e-01, ...,\n",
       "           -1.47305965e-01, -1.41582813e+01,  2.07567668e+00],\n",
       "          [ 7.75984302e-02, -2.67796040e-01,  1.10927653e-02, ...,\n",
       "           -1.63678974e-01, -1.43934317e+01,  2.11738300e+00],\n",
       "          [ 1.31613910e-01, -4.78349417e-01, -8.65700066e-01, ...,\n",
       "           -8.96658003e-02, -1.30862293e+01,  1.67263150e+00]],\n",
       " \n",
       "         [[-5.50526977e-01,  2.41982982e-01, -1.56510189e-01, ...,\n",
       "            6.16485998e-02, -1.28709240e+01,  1.23546708e+00],\n",
       "          [ 4.87948768e-02, -2.39579827e-02, -4.44098050e-03, ...,\n",
       "            5.54942191e-02, -1.28952131e+01,  1.49923313e+00],\n",
       "          [-1.03881806e-01,  1.28297165e-01,  1.14375494e-01, ...,\n",
       "            2.05474012e-02, -1.31464977e+01,  1.58970976e+00],\n",
       "          ...,\n",
       "          [-5.03126442e-01,  6.03267848e-01,  2.43840277e-01, ...,\n",
       "           -5.63293956e-02, -1.32850389e+01,  1.77908003e+00],\n",
       "          [-1.76152542e-01,  1.03053913e-01,  1.13618232e-01, ...,\n",
       "           -9.22335386e-02, -1.37012529e+01,  1.93804502e+00],\n",
       "          [-4.90400642e-02, -5.52500129e-01, -6.73194826e-01, ...,\n",
       "           -4.34385464e-02, -1.25634890e+01,  1.58968842e+00]],\n",
       " \n",
       "         ...,\n",
       " \n",
       "         [[-2.73293555e-01, -3.64820808e-01,  1.65908754e-01, ...,\n",
       "           -3.89372408e-02, -1.41240501e+01,  1.43550539e+00],\n",
       "          [ 4.42955783e-03, -1.74390304e+00,  3.61668706e-01, ...,\n",
       "           -4.77695800e-02, -1.44912605e+01,  1.63896525e+00],\n",
       "          [ 3.59113485e-01, -2.02520585e+00,  7.10017920e-01, ...,\n",
       "           -5.66641614e-02, -1.47835512e+01,  1.56197762e+00],\n",
       "          ...,\n",
       "          [-8.54054213e-01, -1.36352336e+00,  5.25732338e-01, ...,\n",
       "           -1.41164601e-01, -1.55134954e+01,  1.65411186e+00],\n",
       "          [-2.02442929e-01, -1.61449564e+00,  1.95893586e-01, ...,\n",
       "           -1.54924318e-01, -1.64983025e+01,  1.88832569e+00],\n",
       "          [-6.63556159e-02, -1.66197228e+00, -7.86834002e-01, ...,\n",
       "           -8.03284794e-02, -1.45796194e+01,  1.67219841e+00]],\n",
       " \n",
       "         [[-9.63077769e-02,  2.42280737e-02,  3.04641366e-01, ...,\n",
       "           -8.58243033e-02, -1.45289526e+01,  1.72569561e+00],\n",
       "          [-1.29838675e-01, -7.72257566e-01,  2.67346203e-01, ...,\n",
       "           -1.46682590e-01, -1.48546181e+01,  2.06673694e+00],\n",
       "          [ 7.01327398e-02, -8.17813933e-01,  3.18429857e-01, ...,\n",
       "           -1.75737232e-01, -1.57064219e+01,  2.00560164e+00],\n",
       "          ...,\n",
       "          [-1.65900245e-01, -6.69147015e-01,  1.63031057e-01, ...,\n",
       "           -2.25345924e-01, -1.54495974e+01,  1.99294174e+00],\n",
       "          [ 1.30660966e-01, -7.54020333e-01, -6.35305513e-03, ...,\n",
       "           -2.27906466e-01, -1.58834944e+01,  2.15272331e+00],\n",
       "          [-1.12098619e-01, -1.07263374e+00, -9.39468026e-01, ...,\n",
       "           -1.25382572e-01, -1.39718456e+01,  1.80359423e+00]],\n",
       " \n",
       "         [[-1.81831360e-01,  5.96972346e-01,  2.39417106e-01, ...,\n",
       "           -4.89554107e-02, -1.32676954e+01,  1.47066605e+00],\n",
       "          [-3.53894055e-01,  4.79842186e-01,  1.74602523e-01, ...,\n",
       "           -1.04847215e-01, -1.36304770e+01,  1.76397288e+00],\n",
       "          [-3.67375165e-01,  5.73660910e-01,  1.09836236e-01, ...,\n",
       "           -1.24708727e-01, -1.41312351e+01,  1.77805877e+00],\n",
       "          ...,\n",
       "          [-1.55604839e-01,  2.10577026e-01,  5.24780154e-02, ...,\n",
       "           -1.42130345e-01, -1.31238165e+01,  1.75804043e+00],\n",
       "          [-8.59971344e-02,  2.16182068e-01, -2.80384291e-02, ...,\n",
       "           -1.42565206e-01, -1.32622099e+01,  1.81942177e+00],\n",
       "          [-2.85545647e-01, -3.23428541e-01, -6.02324665e-01, ...,\n",
       "           -7.04800114e-02, -1.21673975e+01,  1.54316115e+00]]],\n",
       " \n",
       " \n",
       "        [[[-6.74628675e-01, -3.70112062e-01,  7.05520883e-02, ...,\n",
       "            3.89384897e-03, -1.35230303e+01,  1.22030210e+00],\n",
       "          [-6.21043444e-01, -1.06518102e+00,  1.55777082e-01, ...,\n",
       "           -4.32529040e-02, -1.46296978e+01,  1.58200145e+00],\n",
       "          [-2.53117085e-01, -1.03103483e+00,  1.99494943e-01, ...,\n",
       "           -5.44642061e-02, -1.44726477e+01,  1.61450422e+00],\n",
       "          ...,\n",
       "          [-2.89506525e-01, -9.85273600e-01,  2.57334620e-01, ...,\n",
       "           -5.76092936e-02, -1.43073759e+01,  1.64177525e+00],\n",
       "          [-1.97033182e-01, -9.78541374e-01,  1.13586456e-01, ...,\n",
       "           -6.36267439e-02, -1.44875946e+01,  1.65838456e+00],\n",
       "          [-2.41643086e-01, -7.73937166e-01, -4.90749806e-01, ...,\n",
       "           -1.60999522e-02, -1.38387041e+01,  1.42761660e+00]],\n",
       " \n",
       "         [[-4.93705481e-01,  8.59625172e-03, -2.23810166e-01, ...,\n",
       "            2.36181878e-02, -1.28427038e+01,  1.26036859e+00],\n",
       "          [ 1.94842771e-01,  5.41824102e-02, -5.97582310e-02, ...,\n",
       "           -1.60715207e-02, -1.38240557e+01,  1.60630643e+00],\n",
       "          [ 1.10017113e-01,  2.12354839e-01,  4.55461144e-02, ...,\n",
       "           -5.06327823e-02, -1.37087269e+01,  1.66768384e+00],\n",
       "          ...,\n",
       "          [ 1.57588542e-01, -1.52242288e-01,  7.44334012e-02, ...,\n",
       "           -6.41625673e-02, -1.48088579e+01,  1.86243737e+00],\n",
       "          [ 8.65478590e-02, -3.72346967e-01,  2.57081017e-02, ...,\n",
       "           -8.63446966e-02, -1.50677242e+01,  1.89991355e+00],\n",
       "          [-3.54333401e-01, -7.14942992e-01, -6.32647038e-01, ...,\n",
       "           -4.07019369e-02, -1.40463638e+01,  1.57424355e+00]],\n",
       " \n",
       "         [[-4.97951508e-01,  5.93071342e-01,  1.15125909e-01, ...,\n",
       "            1.62342787e-01, -1.42719336e+01,  1.06295180e+00],\n",
       "          [ 4.63425070e-01,  9.73879576e-01,  3.23340148e-01, ...,\n",
       "            1.69767514e-01, -1.38224468e+01,  1.07156658e+00],\n",
       "          [ 2.63718009e-01,  1.15406632e+00,  4.27512825e-01, ...,\n",
       "            1.06160298e-01, -1.27361269e+01,  1.10845280e+00],\n",
       "          ...,\n",
       "          [ 1.24873608e-01,  1.18292689e+00,  1.58446133e-01, ...,\n",
       "            8.11292678e-02, -1.51984806e+01,  1.51974952e+00],\n",
       "          [-6.99710071e-01,  8.05512905e-01,  1.74075291e-01, ...,\n",
       "            2.53178626e-02, -1.42752323e+01,  1.57876551e+00],\n",
       "          [-1.26337683e+00, -1.89423338e-02, -2.68376172e-01, ...,\n",
       "            2.95896828e-02, -1.39660063e+01,  1.47576523e+00]],\n",
       " \n",
       "         ...,\n",
       " \n",
       "         [[ 3.43497276e-01,  5.17747998e-01, -1.51585206e-01, ...,\n",
       "            5.89569807e-02, -1.21977234e+01,  8.43059421e-01],\n",
       "          [-6.74265504e-01, -5.92334986e-01,  9.71634760e-02, ...,\n",
       "            4.24670242e-02, -1.10637283e+01,  9.34336364e-01],\n",
       "          [-5.15463114e-01, -4.75059241e-01,  8.22238177e-02, ...,\n",
       "            1.16526324e-03, -1.18620119e+01,  1.11245406e+00],\n",
       "          ...,\n",
       "          [-3.07342350e-01, -1.33311796e+00,  1.83961362e-01, ...,\n",
       "           -1.23888165e-01, -1.49311085e+01,  2.00562882e+00],\n",
       "          [-1.72967866e-01, -9.34702635e-01,  4.27060574e-02, ...,\n",
       "           -1.58894390e-01, -1.52166901e+01,  2.12295914e+00],\n",
       "          [-5.31420469e-01, -9.70829844e-01, -8.71156931e-01, ...,\n",
       "           -9.43836197e-02, -1.38732872e+01,  1.76309669e+00]],\n",
       " \n",
       "         [[ 3.78503710e-01, -1.17100803e-02, -1.28327338e-02, ...,\n",
       "           -4.91940640e-02, -1.40933437e+01,  1.41815853e+00],\n",
       "          [-2.25876272e-01, -1.07579374e+00,  9.44185406e-02, ...,\n",
       "           -1.05557770e-01, -1.43636522e+01,  1.76523674e+00],\n",
       "          [-1.03192762e-01, -8.76870036e-01,  9.32692084e-03, ...,\n",
       "           -1.33201718e-01, -1.51000938e+01,  1.87667799e+00],\n",
       "          ...,\n",
       "          [ 5.52372746e-02, -5.98795533e-01,  1.38699576e-01, ...,\n",
       "           -1.98036730e-01, -1.57630720e+01,  2.35507989e+00],\n",
       "          [ 8.40134323e-02, -6.35342002e-01,  5.51710948e-02, ...,\n",
       "           -2.04249054e-01, -1.54796047e+01,  2.34926844e+00],\n",
       "          [-4.88278955e-01, -1.04862845e+00, -9.31403100e-01, ...,\n",
       "           -1.19398192e-01, -1.36754551e+01,  1.87906075e+00]],\n",
       " \n",
       "         [[-5.53337485e-02,  4.85316187e-01,  1.18181676e-01, ...,\n",
       "           -3.98585796e-02, -1.30185490e+01,  1.39205086e+00],\n",
       "          [-3.95048350e-01,  2.93108493e-01,  8.84715244e-02, ...,\n",
       "           -9.56605673e-02, -1.34300919e+01,  1.70545340e+00],\n",
       "          [-3.35652024e-01,  4.29025084e-01,  1.03237126e-02, ...,\n",
       "           -1.09421000e-01, -1.38772402e+01,  1.78247154e+00],\n",
       "          ...,\n",
       "          [-1.15757786e-01,  4.62313682e-01,  5.66332638e-02, ...,\n",
       "           -1.29459977e-01, -1.37567005e+01,  1.94362223e+00],\n",
       "          [-1.68180525e-01,  3.54028612e-01, -3.02075408e-04, ...,\n",
       "           -1.31895632e-01, -1.34379883e+01,  1.92939997e+00],\n",
       "          [-4.72162783e-01, -2.40674913e-01, -5.94026685e-01, ...,\n",
       "           -6.98777884e-02, -1.22473774e+01,  1.59280717e+00]]],\n",
       " \n",
       " \n",
       "        [[[-2.20549375e-01, -4.72441278e-02,  1.66914791e-01, ...,\n",
       "           -4.25523669e-02, -1.35678434e+01,  1.36186671e+00],\n",
       "          [-6.45889938e-01, -1.01597667e+00,  5.24922907e-02, ...,\n",
       "           -6.29085451e-02, -1.35281134e+01,  1.53365624e+00],\n",
       "          [-1.36492595e-01, -9.13353145e-01,  9.80119854e-02, ...,\n",
       "            3.78341377e-02, -1.35999012e+01,  1.24803412e+00],\n",
       "          ...,\n",
       "          [-1.78892863e+00, -9.33298469e-01,  5.93888342e-01, ...,\n",
       "           -5.78355044e-02, -1.41842642e+01,  1.38697636e+00],\n",
       "          [-1.08388567e+00, -9.98185515e-01,  3.90277624e-01, ...,\n",
       "           -1.19215593e-01, -1.50285931e+01,  1.80725181e+00],\n",
       "          [-3.11648488e-01, -7.81251431e-01, -5.50388575e-01, ...,\n",
       "           -6.49220198e-02, -1.42560205e+01,  1.67942202e+00]],\n",
       " \n",
       "         [[ 1.41970202e-01,  1.16748251e-01,  5.73484898e-02, ...,\n",
       "           -1.06475867e-01, -1.32646723e+01,  1.61850429e+00],\n",
       "          [-1.70413926e-01, -7.92853236e-01, -1.74311817e-01, ...,\n",
       "           -1.49447188e-01, -1.31485233e+01,  1.86637080e+00],\n",
       "          [ 2.91325361e-01, -7.85942972e-01, -4.16162074e-01, ...,\n",
       "           -2.95216702e-02, -1.21964617e+01,  1.34623134e+00],\n",
       "          ...,\n",
       "          [-1.25480866e+00, -9.75511193e-01,  4.50907320e-01, ...,\n",
       "           -1.43470496e-01, -1.38319807e+01,  1.85998845e+00],\n",
       "          [-3.55103225e-01, -6.02496386e-01,  2.19980791e-01, ...,\n",
       "           -2.16967270e-01, -1.51107378e+01,  2.29116654e+00],\n",
       "          [-7.12350085e-02, -7.60705948e-01, -8.94920111e-01, ...,\n",
       "           -1.46914378e-01, -1.38662157e+01,  1.95743513e+00]],\n",
       " \n",
       "         [[ 5.90323843e-02,  1.38506174e-01,  1.17864467e-01, ...,\n",
       "           -1.17489852e-01, -1.34869843e+01,  1.80719173e+00],\n",
       "          [-3.45529824e-01, -7.68325984e-01, -1.17380336e-01, ...,\n",
       "           -1.66136846e-01, -1.33623095e+01,  2.11004782e+00],\n",
       "          [-3.15897260e-03, -1.12017739e+00, -6.29546165e-01, ...,\n",
       "           -4.78710346e-02, -1.19175148e+01,  1.58578813e+00],\n",
       "          ...,\n",
       "          [-9.01043057e-01, -8.53724480e-01,  4.57988858e-01, ...,\n",
       "           -1.64967746e-01, -1.40215445e+01,  2.19407248e+00],\n",
       "          [-3.44495028e-01, -5.42137623e-01,  2.85852104e-01, ...,\n",
       "           -2.32326522e-01, -1.53840599e+01,  2.54705167e+00],\n",
       "          [-1.86292782e-01, -9.02392328e-01, -9.36450064e-01, ...,\n",
       "           -1.63725212e-01, -1.36821356e+01,  2.11544251e+00]],\n",
       " \n",
       "         ...,\n",
       " \n",
       "         [[ 1.40095025e-01,  5.40503204e-01,  1.66945264e-01, ...,\n",
       "           -1.16026044e-01, -1.35858164e+01,  1.76557863e+00],\n",
       "          [ 2.78007127e-02, -8.00429761e-01, -1.12287952e-02, ...,\n",
       "           -1.24005735e-01, -1.36162319e+01,  1.89207530e+00],\n",
       "          [ 1.14706945e+00, -1.03505278e+00, -1.01916172e-01, ...,\n",
       "            2.64177658e-02, -1.25019341e+01,  1.14059353e+00],\n",
       "          ...,\n",
       "          [-1.32622004e+00, -4.33037549e-01,  4.94431049e-01, ...,\n",
       "           -1.02227200e-02, -1.42296839e+01,  1.42327988e+00],\n",
       "          [-4.41256732e-01, -1.31273255e-01,  3.76106828e-01, ...,\n",
       "           -1.44816130e-01, -1.50545750e+01,  2.11597586e+00],\n",
       "          [-4.62303698e-01, -6.27605081e-01, -8.13258290e-01, ...,\n",
       "           -1.27499282e-01, -1.35866299e+01,  1.97544956e+00]],\n",
       " \n",
       "         [[ 2.44334713e-01,  3.31762612e-01,  2.39774615e-01, ...,\n",
       "           -1.03670798e-01, -1.38309336e+01,  1.71257937e+00],\n",
       "          [-2.01807201e-01, -8.17471325e-01,  6.51583727e-03, ...,\n",
       "           -1.31101981e-01, -1.46419630e+01,  1.96414185e+00],\n",
       "          [ 5.59515715e-01, -1.39871323e+00, -9.82900262e-02, ...,\n",
       "           -2.70050578e-02, -1.50678167e+01,  1.57445931e+00],\n",
       "          ...,\n",
       "          [-5.32868743e-01, -1.08897185e+00,  1.96573898e-01, ...,\n",
       "           -6.81649372e-02, -1.47715740e+01,  1.63964105e+00],\n",
       "          [-1.31743610e-01, -4.66452360e-01,  2.49141023e-01, ...,\n",
       "           -1.53590918e-01, -1.53668938e+01,  2.15688920e+00],\n",
       "          [-4.75642681e-01, -7.99669147e-01, -8.18781734e-01, ...,\n",
       "           -1.16974026e-01, -1.37187920e+01,  1.95664144e+00]],\n",
       " \n",
       "         [[-1.58836067e-01,  3.15707713e-01,  1.94857642e-01, ...,\n",
       "           -5.10004424e-02, -1.26527834e+01,  1.43771243e+00],\n",
       "          [-4.89820182e-01, -1.43780515e-01, -4.32428066e-03, ...,\n",
       "           -8.52189064e-02, -1.28025436e+01,  1.64144528e+00],\n",
       "          [-1.70223638e-02, -4.28202927e-01, -1.05109297e-01, ...,\n",
       "           -4.96795848e-02, -1.27696714e+01,  1.47679877e+00],\n",
       "          ...,\n",
       "          [-1.43211037e-01,  1.17210485e-01, -8.02089088e-03, ...,\n",
       "           -7.67201334e-02, -1.33963556e+01,  1.46351659e+00],\n",
       "          [-2.36749128e-01,  3.68164569e-01,  3.38099822e-02, ...,\n",
       "           -1.09574683e-01, -1.34570208e+01,  1.76664758e+00],\n",
       "          [-4.48901236e-01, -9.34408754e-02, -5.20348966e-01, ...,\n",
       "           -6.66735917e-02, -1.24540415e+01,  1.60495400e+00]]],\n",
       " \n",
       " \n",
       "        [[[-2.20549375e-01, -4.72441278e-02,  1.66914791e-01, ...,\n",
       "           -4.25523669e-02, -1.35678434e+01,  1.36186671e+00],\n",
       "          [-6.45889938e-01, -1.01597667e+00,  5.24922907e-02, ...,\n",
       "           -6.29085451e-02, -1.35281134e+01,  1.53365624e+00],\n",
       "          [-1.36492595e-01, -9.13353145e-01,  9.80119854e-02, ...,\n",
       "            3.78341377e-02, -1.35999012e+01,  1.24803412e+00],\n",
       "          ...,\n",
       "          [-1.78892863e+00, -9.33298469e-01,  5.93888342e-01, ...,\n",
       "           -5.78355044e-02, -1.41842642e+01,  1.38697636e+00],\n",
       "          [-1.08388567e+00, -9.98185515e-01,  3.90277624e-01, ...,\n",
       "           -1.19215593e-01, -1.50285931e+01,  1.80725181e+00],\n",
       "          [-3.11648488e-01, -7.81251431e-01, -5.50388575e-01, ...,\n",
       "           -6.49220198e-02, -1.42560205e+01,  1.67942202e+00]],\n",
       " \n",
       "         [[ 1.41970202e-01,  1.16748251e-01,  5.73484898e-02, ...,\n",
       "           -1.06475867e-01, -1.32646723e+01,  1.61850429e+00],\n",
       "          [-1.70413926e-01, -7.92853236e-01, -1.74311817e-01, ...,\n",
       "           -1.49447188e-01, -1.31485233e+01,  1.86637080e+00],\n",
       "          [ 2.91325361e-01, -7.85942972e-01, -4.16162074e-01, ...,\n",
       "           -2.95216702e-02, -1.21964617e+01,  1.34623134e+00],\n",
       "          ...,\n",
       "          [-1.25480866e+00, -9.75511193e-01,  4.50907320e-01, ...,\n",
       "           -1.43470496e-01, -1.38319807e+01,  1.85998845e+00],\n",
       "          [-3.55103225e-01, -6.02496386e-01,  2.19980791e-01, ...,\n",
       "           -2.16967270e-01, -1.51107378e+01,  2.29116654e+00],\n",
       "          [-7.12350085e-02, -7.60705948e-01, -8.94920111e-01, ...,\n",
       "           -1.46914378e-01, -1.38662157e+01,  1.95743513e+00]],\n",
       " \n",
       "         [[ 5.90323843e-02,  1.38506174e-01,  1.17864467e-01, ...,\n",
       "           -1.17489852e-01, -1.34869843e+01,  1.80719173e+00],\n",
       "          [-3.45529824e-01, -7.68325984e-01, -1.17380336e-01, ...,\n",
       "           -1.66136846e-01, -1.33623095e+01,  2.11004782e+00],\n",
       "          [-3.15897260e-03, -1.12017739e+00, -6.29546165e-01, ...,\n",
       "           -4.78710346e-02, -1.19175148e+01,  1.58578813e+00],\n",
       "          ...,\n",
       "          [-9.01043057e-01, -8.53724480e-01,  4.57988858e-01, ...,\n",
       "           -1.64967746e-01, -1.40215445e+01,  2.19407248e+00],\n",
       "          [-3.44495028e-01, -5.42137623e-01,  2.85852104e-01, ...,\n",
       "           -2.32326522e-01, -1.53840599e+01,  2.54705167e+00],\n",
       "          [-1.86292782e-01, -9.02392328e-01, -9.36450064e-01, ...,\n",
       "           -1.63725212e-01, -1.36821356e+01,  2.11544251e+00]],\n",
       " \n",
       "         ...,\n",
       " \n",
       "         [[ 1.40095025e-01,  5.40503204e-01,  1.66945264e-01, ...,\n",
       "           -1.16026044e-01, -1.35858164e+01,  1.76557863e+00],\n",
       "          [ 2.78007127e-02, -8.00429761e-01, -1.12287952e-02, ...,\n",
       "           -1.24005735e-01, -1.36162319e+01,  1.89207530e+00],\n",
       "          [ 1.14706945e+00, -1.03505278e+00, -1.01916172e-01, ...,\n",
       "            2.64177658e-02, -1.25019341e+01,  1.14059353e+00],\n",
       "          ...,\n",
       "          [-1.32622004e+00, -4.33037549e-01,  4.94431049e-01, ...,\n",
       "           -1.02227200e-02, -1.42296839e+01,  1.42327988e+00],\n",
       "          [-4.41256732e-01, -1.31273255e-01,  3.76106828e-01, ...,\n",
       "           -1.44816130e-01, -1.50545750e+01,  2.11597586e+00],\n",
       "          [-4.62303698e-01, -6.27605081e-01, -8.13258290e-01, ...,\n",
       "           -1.27499282e-01, -1.35866299e+01,  1.97544956e+00]],\n",
       " \n",
       "         [[ 2.44334713e-01,  3.31762612e-01,  2.39774615e-01, ...,\n",
       "           -1.03670798e-01, -1.38309336e+01,  1.71257937e+00],\n",
       "          [-2.01807201e-01, -8.17471325e-01,  6.51583727e-03, ...,\n",
       "           -1.31101981e-01, -1.46419630e+01,  1.96414185e+00],\n",
       "          [ 5.59515715e-01, -1.39871323e+00, -9.82900262e-02, ...,\n",
       "           -2.70050578e-02, -1.50678167e+01,  1.57445931e+00],\n",
       "          ...,\n",
       "          [-5.32868743e-01, -1.08897185e+00,  1.96573898e-01, ...,\n",
       "           -6.81649372e-02, -1.47715740e+01,  1.63964105e+00],\n",
       "          [-1.31743610e-01, -4.66452360e-01,  2.49141023e-01, ...,\n",
       "           -1.53590918e-01, -1.53668938e+01,  2.15688920e+00],\n",
       "          [-4.75642681e-01, -7.99669147e-01, -8.18781734e-01, ...,\n",
       "           -1.16974026e-01, -1.37187920e+01,  1.95664144e+00]],\n",
       " \n",
       "         [[-1.58836067e-01,  3.15707713e-01,  1.94857642e-01, ...,\n",
       "           -5.10004424e-02, -1.26527834e+01,  1.43771243e+00],\n",
       "          [-4.89820182e-01, -1.43780515e-01, -4.32428066e-03, ...,\n",
       "           -8.52189064e-02, -1.28025436e+01,  1.64144528e+00],\n",
       "          [-1.70223638e-02, -4.28202927e-01, -1.05109297e-01, ...,\n",
       "           -4.96795848e-02, -1.27696714e+01,  1.47679877e+00],\n",
       "          ...,\n",
       "          [-1.43211037e-01,  1.17210485e-01, -8.02089088e-03, ...,\n",
       "           -7.67201334e-02, -1.33963556e+01,  1.46351659e+00],\n",
       "          [-2.36749128e-01,  3.68164569e-01,  3.38099822e-02, ...,\n",
       "           -1.09574683e-01, -1.34570208e+01,  1.76664758e+00],\n",
       "          [-4.48901236e-01, -9.34408754e-02, -5.20348966e-01, ...,\n",
       "           -6.66735917e-02, -1.24540415e+01,  1.60495400e+00]]]],\n",
       "       dtype=float32),\n",
       " array([[[[-9.20662105e-01, -1.85503632e-01, -1.24075606e-01, ...,\n",
       "           -5.16048074e-01, -1.24204111e+01,  1.57760930e+00],\n",
       "          [ 1.26001313e-01,  6.35850504e-02,  2.70067364e-01, ...,\n",
       "           -6.25063241e-01, -1.37152309e+01,  1.42037654e+00],\n",
       "          [ 2.50165999e-01,  5.54660968e-02,  4.07858938e-01, ...,\n",
       "           -6.41607881e-01, -1.32821016e+01,  1.60353971e+00],\n",
       "          ...,\n",
       "          [ 2.54071176e-01,  2.20520720e-01,  1.13929145e-01, ...,\n",
       "           -3.93198699e-01, -1.33230762e+01,  1.38515949e+00],\n",
       "          [ 1.57366142e-01,  2.56519347e-01,  1.37047544e-01, ...,\n",
       "           -3.39451611e-01, -1.39863205e+01,  1.21439624e+00],\n",
       "          [ 2.65534788e-01,  4.60190535e-01, -5.93715608e-01, ...,\n",
       "           -3.11754555e-01, -1.35354767e+01,  1.14742374e+00]],\n",
       " \n",
       "         [[-8.19974482e-01, -4.94974643e-01, -6.58280194e-01, ...,\n",
       "            4.48030382e-02, -1.27715807e+01,  9.19586778e-01],\n",
       "          [ 1.50181845e-01,  2.23966122e-01, -1.55151784e-01, ...,\n",
       "           -1.65366709e-01, -1.43677320e+01,  1.06175876e+00],\n",
       "          [ 4.99068707e-01,  3.74076694e-01, -1.89436913e-01, ...,\n",
       "           -3.02789658e-01, -1.43334484e+01,  1.40333557e+00],\n",
       "          ...,\n",
       "          [ 3.13629210e-01,  5.00077307e-01, -5.36568046e-01, ...,\n",
       "            2.11117268e-01, -1.40859957e+01,  1.05440772e+00],\n",
       "          [ 3.71886373e-01,  4.09685403e-01, -4.73864049e-01, ...,\n",
       "            2.99374402e-01, -1.36054440e+01,  9.96005952e-01],\n",
       "          [ 5.23848772e-01,  5.97822785e-01, -1.35783184e+00, ...,\n",
       "            8.18605423e-02, -1.32097912e+01,  1.02463341e+00]],\n",
       " \n",
       "         [[-9.35173929e-01, -5.18383384e-01, -8.25562596e-01, ...,\n",
       "            1.20333873e-01, -1.40533943e+01,  9.73537505e-01],\n",
       "          [ 2.85411119e-01,  1.97369233e-01, -2.01733798e-01, ...,\n",
       "           -2.46449038e-02, -1.53979321e+01,  1.13404512e+00],\n",
       "          [ 5.25894761e-01,  4.92277950e-01, -2.36993477e-01, ...,\n",
       "           -1.50438070e-01, -1.53291063e+01,  1.38200915e+00],\n",
       "          ...,\n",
       "          [ 3.55789125e-01,  7.23165393e-01, -6.75571978e-01, ...,\n",
       "            3.35464656e-01, -1.40327892e+01,  1.03288519e+00],\n",
       "          [ 4.45430219e-01,  7.09676147e-01, -5.48851132e-01, ...,\n",
       "            3.72174054e-01, -1.32870979e+01,  1.07085800e+00],\n",
       "          [ 3.30730349e-01,  5.24247944e-01, -1.35529160e+00, ...,\n",
       "            2.21495688e-01, -1.30757856e+01,  9.89410877e-01]],\n",
       " \n",
       "         ...,\n",
       " \n",
       "         [[-4.34395075e-01, -1.95689693e-01, -9.40153837e-01, ...,\n",
       "            1.55068010e-01, -1.52252455e+01,  9.00856495e-01],\n",
       "          [ 5.03636479e-01,  4.24481332e-01, -4.32250172e-01, ...,\n",
       "            3.47890824e-01, -1.51384048e+01,  1.11648536e+00],\n",
       "          [ 5.55167198e-01,  5.05941868e-01, -4.70086932e-01, ...,\n",
       "            2.63881892e-01, -1.48341999e+01,  1.28503871e+00],\n",
       "          ...,\n",
       "          [ 4.85424548e-01,  6.39844596e-01, -8.28037024e-01, ...,\n",
       "            6.03990674e-01, -1.40894299e+01,  8.27753782e-01],\n",
       "          [ 3.33751738e-01,  4.07139748e-01, -6.74286067e-01, ...,\n",
       "            6.46735668e-01, -1.36960735e+01,  9.58935440e-01],\n",
       "          [ 2.18959197e-01,  3.45806509e-01, -1.48697031e+00, ...,\n",
       "            4.21317577e-01, -1.39362516e+01,  8.37628961e-01]],\n",
       " \n",
       "         [[-6.05049431e-01, -3.24183166e-01, -8.57728601e-01, ...,\n",
       "            1.15680851e-01, -1.50111151e+01,  8.72950613e-01],\n",
       "          [ 4.33051109e-01,  5.11461079e-01, -3.88396233e-01, ...,\n",
       "            3.04664999e-01, -1.51565390e+01,  1.14768839e+00],\n",
       "          [ 4.73869860e-01,  6.15610957e-01, -4.13354248e-01, ...,\n",
       "            2.13871270e-01, -1.48254719e+01,  1.35893667e+00],\n",
       "          ...,\n",
       "          [ 3.38746846e-01,  5.69853961e-01, -7.67099261e-01, ...,\n",
       "            5.61411202e-01, -1.48208132e+01,  1.02205968e+00],\n",
       "          [ 2.24148661e-01,  4.11152184e-01, -5.92081547e-01, ...,\n",
       "            6.96607828e-01, -1.46593161e+01,  1.15646577e+00],\n",
       "          [ 2.99806356e-01,  3.59789222e-01, -1.43052876e+00, ...,\n",
       "            4.28400278e-01, -1.48190413e+01,  9.17999089e-01]],\n",
       " \n",
       "         [[-2.22789422e-01, -2.78537601e-01, -8.19353759e-02, ...,\n",
       "           -3.55103642e-01, -1.39106903e+01,  1.15540624e+00],\n",
       "          [ 4.57748443e-01,  4.19345260e-01,  4.60315078e-01, ...,\n",
       "           -2.84593165e-01, -1.39827938e+01,  1.17613435e+00],\n",
       "          [ 4.32103753e-01,  3.60214651e-01,  4.18332636e-01, ...,\n",
       "           -3.28780532e-01, -1.41358576e+01,  1.29038286e+00],\n",
       "          ...,\n",
       "          [ 3.53235513e-01,  4.38332736e-01,  2.44664431e-01, ...,\n",
       "           -1.31322220e-01, -1.42821856e+01,  1.14366055e+00],\n",
       "          [ 3.50300342e-01,  4.99251664e-01,  2.80900925e-01, ...,\n",
       "           -3.80574055e-02, -1.37832737e+01,  1.12441063e+00],\n",
       "          [ 6.36990815e-02,  1.49702802e-02, -5.89306772e-01, ...,\n",
       "           -2.34612357e-02, -1.33414927e+01,  1.28583312e+00]]],\n",
       " \n",
       " \n",
       "        [[[-1.00406349e+00, -2.29658335e-01, -1.16267949e-01, ...,\n",
       "           -5.13758183e-01, -1.20187683e+01,  1.58989954e+00],\n",
       "          [ 7.31905848e-02,  1.90426800e-02,  2.81316787e-01, ...,\n",
       "           -6.28991604e-01, -1.37568140e+01,  1.47789168e+00],\n",
       "          [ 2.67221510e-01,  3.50585859e-03,  4.14329261e-01, ...,\n",
       "           -6.49223983e-01, -1.34819632e+01,  1.65023708e+00],\n",
       "          ...,\n",
       "          [ 3.37230116e-01,  1.93237036e-01,  2.14968145e-01, ...,\n",
       "           -4.86049145e-01, -1.35344648e+01,  1.48231602e+00],\n",
       "          [ 1.58984736e-01,  2.29035303e-01,  2.16505930e-01, ...,\n",
       "           -4.01022315e-01, -1.38492661e+01,  1.28852367e+00],\n",
       "          [ 2.16658667e-01,  4.50557172e-01, -5.32754898e-01, ...,\n",
       "           -3.43561858e-01, -1.34035311e+01,  1.18506980e+00]],\n",
       " \n",
       "         [[-9.50004935e-01, -5.42290211e-01, -6.88693464e-01, ...,\n",
       "            3.84704880e-02, -1.22987413e+01,  9.99328196e-01],\n",
       "          [ 1.24278486e-01,  2.15049893e-01, -1.20748252e-01, ...,\n",
       "           -2.11295158e-01, -1.46703644e+01,  1.09921956e+00],\n",
       "          [ 5.35874426e-01,  3.66815925e-01, -1.61317781e-01, ...,\n",
       "           -3.14854294e-01, -1.48887749e+01,  1.43878341e+00],\n",
       "          ...,\n",
       "          [ 3.83766383e-01,  5.13267517e-01, -3.86977971e-01, ...,\n",
       "            3.71407196e-02, -1.45156813e+01,  1.19590402e+00],\n",
       "          [ 3.59939933e-01,  3.68919343e-01, -3.68664503e-01, ...,\n",
       "            1.86670840e-01, -1.35664549e+01,  1.08261061e+00],\n",
       "          [ 3.99021417e-01,  5.64557970e-01, -1.28332436e+00, ...,\n",
       "            1.23563670e-02, -1.31403303e+01,  1.07660294e+00]],\n",
       " \n",
       "         [[-1.09155405e+00, -5.59542656e-01, -8.15067351e-01, ...,\n",
       "            1.07636817e-01, -1.36356344e+01,  1.05939627e+00],\n",
       "          [ 2.01567188e-01,  2.42326856e-01, -1.43800363e-01, ...,\n",
       "           -1.56390965e-01, -1.60808010e+01,  1.17997336e+00],\n",
       "          [ 5.49881637e-01,  5.43014884e-01, -1.81567460e-01, ...,\n",
       "           -2.30964839e-01, -1.60302715e+01,  1.42834747e+00],\n",
       "          ...,\n",
       "          [ 3.83684188e-01,  6.45559728e-01, -4.46193129e-01, ...,\n",
       "            9.29383636e-02, -1.48292608e+01,  1.24186921e+00],\n",
       "          [ 4.00628507e-01,  5.68693817e-01, -3.69965404e-01, ...,\n",
       "            1.76087052e-01, -1.34705658e+01,  1.24229765e+00],\n",
       "          [ 1.51528597e-01,  4.39372063e-01, -1.25100327e+00, ...,\n",
       "            9.67821032e-02, -1.33121357e+01,  1.06867802e+00]],\n",
       " \n",
       "         ...,\n",
       " \n",
       "         [[-4.63711470e-01, -3.12413454e-01, -9.13941860e-01, ...,\n",
       "            1.18234910e-01, -1.38651514e+01,  9.27651405e-01],\n",
       "          [ 3.53809655e-01,  1.41844392e-01, -3.88869166e-01, ...,\n",
       "            3.30747247e-01, -1.35266809e+01,  1.22049534e+00],\n",
       "          [ 3.87201250e-01,  3.93961310e-01, -4.23142433e-01, ...,\n",
       "            2.18634605e-01, -1.38706226e+01,  1.39804745e+00],\n",
       "          ...,\n",
       "          [ 4.21884805e-01,  5.67303121e-01, -7.30867624e-01, ...,\n",
       "            4.75765765e-01, -1.36545515e+01,  1.14208412e+00],\n",
       "          [ 1.92197457e-01,  3.22892100e-01, -6.25882328e-01, ...,\n",
       "            5.86656451e-01, -1.33243093e+01,  1.15082502e+00],\n",
       "          [ 9.24433991e-02,  2.77255654e-01, -1.43671525e+00, ...,\n",
       "            3.62779766e-01, -1.39037781e+01,  8.85599196e-01]],\n",
       " \n",
       "         [[-6.38988256e-01, -4.26156551e-01, -8.53705823e-01, ...,\n",
       "            1.31683797e-01, -1.41952705e+01,  8.71461570e-01],\n",
       "          [ 3.12390924e-01,  3.45333725e-01, -3.97925049e-01, ...,\n",
       "            3.42581391e-01, -1.41849174e+01,  1.21686625e+00],\n",
       "          [ 2.79742599e-01,  5.65041006e-01, -4.63894129e-01, ...,\n",
       "            2.28593618e-01, -1.43330307e+01,  1.39301920e+00],\n",
       "          ...,\n",
       "          [ 3.04350048e-01,  5.06561399e-01, -7.00623274e-01, ...,\n",
       "            4.71317530e-01, -1.49073029e+01,  1.15051556e+00],\n",
       "          [ 1.46730244e-01,  4.10640270e-01, -5.90497851e-01, ...,\n",
       "            6.17564440e-01, -1.47409382e+01,  1.19965506e+00],\n",
       "          [ 2.56289124e-01,  3.39683324e-01, -1.40402782e+00, ...,\n",
       "            3.55918497e-01, -1.49577541e+01,  8.94191325e-01]],\n",
       " \n",
       "         [[-2.20090196e-01, -3.07865590e-01, -9.74070504e-02, ...,\n",
       "           -3.38883638e-01, -1.34933996e+01,  1.16223001e+00],\n",
       "          [ 4.06175584e-01,  4.20354694e-01,  4.26256120e-01, ...,\n",
       "           -2.50702649e-01, -1.34308643e+01,  1.16794062e+00],\n",
       "          [ 3.40060860e-01,  3.68687510e-01,  3.92457694e-01, ...,\n",
       "           -3.08982491e-01, -1.36232233e+01,  1.27603626e+00],\n",
       "          ...,\n",
       "          [ 3.69656891e-01,  4.41668034e-01,  2.45649517e-01, ...,\n",
       "           -1.54058754e-01, -1.43178043e+01,  1.16077280e+00],\n",
       "          [ 3.56575817e-01,  5.09645522e-01,  2.73723781e-01, ...,\n",
       "           -6.32483363e-02, -1.37967520e+01,  1.12045908e+00],\n",
       "          [ 6.26885667e-02,  3.08056604e-02, -5.85240483e-01, ...,\n",
       "           -6.02687262e-02, -1.34094076e+01,  1.27293086e+00]]],\n",
       " \n",
       " \n",
       "        [[[-7.08552420e-01, -1.37671307e-01, -2.42557108e-01, ...,\n",
       "           -4.70372051e-01, -1.26117430e+01,  1.45830250e+00],\n",
       "          [ 1.23979986e-01,  3.20735648e-02,  2.06813872e-01, ...,\n",
       "           -5.04929960e-01, -1.30531454e+01,  1.28137946e+00],\n",
       "          [ 1.33379817e-01, -3.59207876e-02,  2.94658870e-01, ...,\n",
       "           -4.80810821e-01, -1.33361263e+01,  1.42627299e+00],\n",
       "          ...,\n",
       "          [ 2.55735904e-01,  1.67712033e-01,  1.78771257e-01, ...,\n",
       "           -3.55512172e-01, -1.40478754e+01,  1.46439719e+00],\n",
       "          [ 1.92336977e-01,  1.99287996e-01,  1.37671053e-01, ...,\n",
       "           -2.85612762e-01, -1.44888573e+01,  1.24546742e+00],\n",
       "          [ 2.58978754e-01,  4.46819872e-01, -6.49085701e-01, ...,\n",
       "           -2.73623437e-01, -1.38954525e+01,  1.09673285e+00]],\n",
       " \n",
       "         [[-5.70761919e-01, -3.42116207e-01, -7.70520270e-01, ...,\n",
       "            1.14396997e-01, -1.26030989e+01,  8.43589067e-01],\n",
       "          [ 9.09457728e-02,  2.49711141e-01, -3.12940300e-01, ...,\n",
       "            1.20704599e-01, -1.30611696e+01,  9.16782260e-01],\n",
       "          [ 2.90755749e-01,  2.93324202e-01, -3.47926021e-01, ...,\n",
       "            4.94519249e-02, -1.38646097e+01,  1.19716072e+00],\n",
       "          ...,\n",
       "          [ 3.66593212e-01,  5.26682913e-01, -5.41850865e-01, ...,\n",
       "            3.31184715e-01, -1.47873640e+01,  1.08357668e+00],\n",
       "          [ 3.99530351e-01,  4.44169074e-01, -5.07552683e-01, ...,\n",
       "            4.33367521e-01, -1.43658981e+01,  9.61084366e-01],\n",
       "          [ 5.49206078e-01,  6.02864265e-01, -1.37712789e+00, ...,\n",
       "            2.07325399e-01, -1.38522100e+01,  9.60452557e-01]],\n",
       " \n",
       "         [[-5.59769869e-01, -2.10738316e-01, -9.42643702e-01, ...,\n",
       "            2.39461124e-01, -1.29845724e+01,  9.00347829e-01],\n",
       "          [ 2.43130848e-01,  4.69969064e-01, -4.29620087e-01, ...,\n",
       "            3.04485291e-01, -1.28736868e+01,  9.53939557e-01],\n",
       "          [ 3.04459900e-01,  5.93728960e-01, -4.83890057e-01, ...,\n",
       "            2.55850255e-01, -1.36126776e+01,  1.14483714e+00],\n",
       "          ...,\n",
       "          [ 4.37947452e-01,  8.24268997e-01, -7.38953173e-01, ...,\n",
       "            5.02876163e-01, -1.43418245e+01,  1.03881204e+00],\n",
       "          [ 4.66569602e-01,  8.22527587e-01, -6.42020941e-01, ...,\n",
       "            5.61560810e-01, -1.38238144e+01,  9.77519214e-01],\n",
       "          [ 4.18959588e-01,  6.24981463e-01, -1.41617906e+00, ...,\n",
       "            3.41634721e-01, -1.36695538e+01,  8.79039645e-01]],\n",
       " \n",
       "         ...,\n",
       " \n",
       "         [[-7.15662390e-02, -1.85132518e-01, -7.68591702e-01, ...,\n",
       "            1.40335858e-01, -1.43070860e+01,  1.01003397e+00],\n",
       "          [ 4.84572262e-01,  4.38988954e-01, -4.03277785e-01, ...,\n",
       "            5.10267198e-01, -1.35559616e+01,  1.27743995e+00],\n",
       "          [ 4.75255489e-01,  5.48742533e-01, -4.74520624e-01, ...,\n",
       "            3.35073709e-01, -1.45187502e+01,  1.36991954e+00],\n",
       "          ...,\n",
       "          [ 3.57020140e-01,  5.31406462e-01, -7.41093099e-01, ...,\n",
       "            5.18432677e-01, -1.42975435e+01,  1.22054935e+00],\n",
       "          [ 2.44363502e-01,  3.79407644e-01, -6.28525376e-01, ...,\n",
       "            5.77236772e-01, -1.44061670e+01,  1.18075252e+00],\n",
       "          [ 1.74697593e-01,  3.36768448e-01, -1.43451297e+00, ...,\n",
       "            3.70038629e-01, -1.44023209e+01,  8.99254739e-01]],\n",
       " \n",
       "         [[-4.50873584e-01, -4.52153563e-01, -7.82231092e-01, ...,\n",
       "            1.63355619e-01, -1.47870340e+01,  9.54678535e-01],\n",
       "          [ 3.71148527e-01,  4.41388130e-01, -4.03854996e-01, ...,\n",
       "            4.84256566e-01, -1.47442636e+01,  1.27268946e+00],\n",
       "          [ 3.76431555e-01,  5.96534848e-01, -5.19395411e-01, ...,\n",
       "            2.96135485e-01, -1.54250240e+01,  1.34192133e+00],\n",
       "          ...,\n",
       "          [ 2.44299844e-01,  5.44871926e-01, -7.49945641e-01, ...,\n",
       "            5.31844616e-01, -1.54280109e+01,  1.18158436e+00],\n",
       "          [ 1.78798199e-01,  4.81488585e-01, -6.21049464e-01, ...,\n",
       "            6.42961323e-01, -1.54716253e+01,  1.21249199e+00],\n",
       "          [ 3.00764084e-01,  3.91497374e-01, -1.39925981e+00, ...,\n",
       "            3.71652693e-01, -1.53136215e+01,  8.97152066e-01]],\n",
       " \n",
       "         [[-2.13119403e-01, -2.98418671e-01, -9.39407945e-02, ...,\n",
       "           -3.02763939e-01, -1.42319012e+01,  1.18586934e+00],\n",
       "          [ 4.29288268e-01,  4.94146824e-01,  4.52489495e-01, ...,\n",
       "           -1.78205013e-01, -1.43261099e+01,  1.15504336e+00],\n",
       "          [ 3.87922406e-01,  4.44781691e-01,  3.38063210e-01, ...,\n",
       "           -2.14526296e-01, -1.50558081e+01,  1.20632505e+00],\n",
       "          ...,\n",
       "          [ 3.75200242e-01,  4.83602703e-01,  2.12454140e-01, ...,\n",
       "           -9.72131416e-02, -1.44379921e+01,  1.15305018e+00],\n",
       "          [ 3.64244044e-01,  5.47686398e-01,  2.67227083e-01, ...,\n",
       "           -2.11941320e-02, -1.39523048e+01,  1.12685704e+00],\n",
       "          [ 6.56730905e-02,  5.86909838e-02, -5.88871241e-01, ...,\n",
       "           -5.09020425e-02, -1.34050941e+01,  1.26482582e+00]]],\n",
       " \n",
       " \n",
       "        [[[-7.08552420e-01, -1.37671307e-01, -2.42557108e-01, ...,\n",
       "           -4.70372051e-01, -1.26117430e+01,  1.45830250e+00],\n",
       "          [ 1.23979986e-01,  3.20735648e-02,  2.06813872e-01, ...,\n",
       "           -5.04929960e-01, -1.30531454e+01,  1.28137946e+00],\n",
       "          [ 1.33379817e-01, -3.59207876e-02,  2.94658870e-01, ...,\n",
       "           -4.80810821e-01, -1.33361263e+01,  1.42627299e+00],\n",
       "          ...,\n",
       "          [ 2.55735904e-01,  1.67712033e-01,  1.78771257e-01, ...,\n",
       "           -3.55512172e-01, -1.40478754e+01,  1.46439719e+00],\n",
       "          [ 1.92336977e-01,  1.99287996e-01,  1.37671053e-01, ...,\n",
       "           -2.85612762e-01, -1.44888573e+01,  1.24546742e+00],\n",
       "          [ 2.58978754e-01,  4.46819872e-01, -6.49085701e-01, ...,\n",
       "           -2.73623437e-01, -1.38954525e+01,  1.09673285e+00]],\n",
       " \n",
       "         [[-5.70761919e-01, -3.42116207e-01, -7.70520270e-01, ...,\n",
       "            1.14396997e-01, -1.26030989e+01,  8.43589067e-01],\n",
       "          [ 9.09457728e-02,  2.49711141e-01, -3.12940300e-01, ...,\n",
       "            1.20704599e-01, -1.30611696e+01,  9.16782260e-01],\n",
       "          [ 2.90755749e-01,  2.93324202e-01, -3.47926021e-01, ...,\n",
       "            4.94519249e-02, -1.38646097e+01,  1.19716072e+00],\n",
       "          ...,\n",
       "          [ 3.66593212e-01,  5.26682913e-01, -5.41850865e-01, ...,\n",
       "            3.31184715e-01, -1.47873640e+01,  1.08357668e+00],\n",
       "          [ 3.99530351e-01,  4.44169074e-01, -5.07552683e-01, ...,\n",
       "            4.33367521e-01, -1.43658981e+01,  9.61084366e-01],\n",
       "          [ 5.49206078e-01,  6.02864265e-01, -1.37712789e+00, ...,\n",
       "            2.07325399e-01, -1.38522100e+01,  9.60452557e-01]],\n",
       " \n",
       "         [[-5.59769869e-01, -2.10738316e-01, -9.42643702e-01, ...,\n",
       "            2.39461124e-01, -1.29845724e+01,  9.00347829e-01],\n",
       "          [ 2.43130848e-01,  4.69969064e-01, -4.29620087e-01, ...,\n",
       "            3.04485291e-01, -1.28736868e+01,  9.53939557e-01],\n",
       "          [ 3.04459900e-01,  5.93728960e-01, -4.83890057e-01, ...,\n",
       "            2.55850255e-01, -1.36126776e+01,  1.14483714e+00],\n",
       "          ...,\n",
       "          [ 4.37947452e-01,  8.24268997e-01, -7.38953173e-01, ...,\n",
       "            5.02876163e-01, -1.43418245e+01,  1.03881204e+00],\n",
       "          [ 4.66569602e-01,  8.22527587e-01, -6.42020941e-01, ...,\n",
       "            5.61560810e-01, -1.38238144e+01,  9.77519214e-01],\n",
       "          [ 4.18959588e-01,  6.24981463e-01, -1.41617906e+00, ...,\n",
       "            3.41634721e-01, -1.36695538e+01,  8.79039645e-01]],\n",
       " \n",
       "         ...,\n",
       " \n",
       "         [[-7.15662390e-02, -1.85132518e-01, -7.68591702e-01, ...,\n",
       "            1.40335858e-01, -1.43070860e+01,  1.01003397e+00],\n",
       "          [ 4.84572262e-01,  4.38988954e-01, -4.03277785e-01, ...,\n",
       "            5.10267198e-01, -1.35559616e+01,  1.27743995e+00],\n",
       "          [ 4.75255489e-01,  5.48742533e-01, -4.74520624e-01, ...,\n",
       "            3.35073709e-01, -1.45187502e+01,  1.36991954e+00],\n",
       "          ...,\n",
       "          [ 3.57020140e-01,  5.31406462e-01, -7.41093099e-01, ...,\n",
       "            5.18432677e-01, -1.42975435e+01,  1.22054935e+00],\n",
       "          [ 2.44363502e-01,  3.79407644e-01, -6.28525376e-01, ...,\n",
       "            5.77236772e-01, -1.44061670e+01,  1.18075252e+00],\n",
       "          [ 1.74697593e-01,  3.36768448e-01, -1.43451297e+00, ...,\n",
       "            3.70038629e-01, -1.44023209e+01,  8.99254739e-01]],\n",
       " \n",
       "         [[-4.50873584e-01, -4.52153563e-01, -7.82231092e-01, ...,\n",
       "            1.63355619e-01, -1.47870340e+01,  9.54678535e-01],\n",
       "          [ 3.71148527e-01,  4.41388130e-01, -4.03854996e-01, ...,\n",
       "            4.84256566e-01, -1.47442636e+01,  1.27268946e+00],\n",
       "          [ 3.76431555e-01,  5.96534848e-01, -5.19395411e-01, ...,\n",
       "            2.96135485e-01, -1.54250240e+01,  1.34192133e+00],\n",
       "          ...,\n",
       "          [ 2.44299844e-01,  5.44871926e-01, -7.49945641e-01, ...,\n",
       "            5.31844616e-01, -1.54280109e+01,  1.18158436e+00],\n",
       "          [ 1.78798199e-01,  4.81488585e-01, -6.21049464e-01, ...,\n",
       "            6.42961323e-01, -1.54716253e+01,  1.21249199e+00],\n",
       "          [ 3.00764084e-01,  3.91497374e-01, -1.39925981e+00, ...,\n",
       "            3.71652693e-01, -1.53136215e+01,  8.97152066e-01]],\n",
       " \n",
       "         [[-2.13119403e-01, -2.98418671e-01, -9.39407945e-02, ...,\n",
       "           -3.02763939e-01, -1.42319012e+01,  1.18586934e+00],\n",
       "          [ 4.29288268e-01,  4.94146824e-01,  4.52489495e-01, ...,\n",
       "           -1.78205013e-01, -1.43261099e+01,  1.15504336e+00],\n",
       "          [ 3.87922406e-01,  4.44781691e-01,  3.38063210e-01, ...,\n",
       "           -2.14526296e-01, -1.50558081e+01,  1.20632505e+00],\n",
       "          ...,\n",
       "          [ 3.75200242e-01,  4.83602703e-01,  2.12454140e-01, ...,\n",
       "           -9.72131416e-02, -1.44379921e+01,  1.15305018e+00],\n",
       "          [ 3.64244044e-01,  5.47686398e-01,  2.67227083e-01, ...,\n",
       "           -2.11941320e-02, -1.39523048e+01,  1.12685704e+00],\n",
       "          [ 6.56730905e-02,  5.86909838e-02, -5.88871241e-01, ...,\n",
       "           -5.09020425e-02, -1.34050941e+01,  1.26482582e+00]]]],\n",
       "       dtype=float32)]"
      ]
     },
     "execution_count": 13,
     "metadata": {},
     "output_type": "execute_result"
    }
   ],
   "source": [
    "pred = model.predict(image_data)\n",
    "pred"
   ]
  },
  {
   "cell_type": "code",
   "execution_count": 14,
   "metadata": {
    "ExecuteTime": {
     "end_time": "2020-01-09T04:35:53.183396Z",
     "start_time": "2020-01-09T04:35:53.179371Z"
    },
    "hidden": true
   },
   "outputs": [],
   "source": [
    "num_layers = len(anchors)//3\n",
    "yolo_outputs = pred[:num_layers]\n",
    "anchor_mask = [[3,4,5], [1,2,3]]"
   ]
  },
  {
   "cell_type": "code",
   "execution_count": 152,
   "metadata": {
    "ExecuteTime": {
     "end_time": "2020-01-09T05:49:57.929206Z",
     "start_time": "2020-01-09T05:49:57.882198Z"
    },
    "hidden": true
   },
   "outputs": [],
   "source": [
    "# layer_boxes = []\n",
    "# layer_boxes = [[] for x in range(num_layers)]\n",
    "layer_boxes = [[] for x in range(pred[0].shape[0])]\n",
    "for l in range(num_layers):\n",
    "    input_shape = K.cast(K.shape(tf.convert_to_tensor(yolo_outputs[l]))[1:3] * 32, \\\n",
    "                         K.dtype(tf.convert_to_tensor(yolo_outputs[l])))\n",
    "    m = K.shape(yolo_outputs[0])[0] # batch size, tensor\n",
    "    mf = K.cast(m, K.dtype(tf.convert_to_tensor(yolo_outputs[0])))\n",
    "\n",
    "    grid, raw_pred, pred_xy, pred_wh = yolo_head(tf.convert_to_tensor(yolo_outputs[l]),\n",
    "         anchors[anchor_mask[l]], num_classes, input_shape, calc_loss=True)\n",
    "    pred_box = K.concatenate([pred_xy, pred_wh])\n",
    "    \n",
    "    box_xy, box_wh, box_confidence, box_class_probs = yolo_head(tf.convert_to_tensor(yolo_outputs[l]),\n",
    "     anchors[anchor_mask[l]], num_classes, input_shape)\n",
    "\n",
    "    boxes = yolo_correct_boxes(box_xy, box_wh, input_shape, (416, 416))\n",
    "    boxes = K.reshape(boxes, [-1, 4])\n",
    "    box_scores = box_confidence * box_class_probs\n",
    "    box_scores = K.reshape(box_scores, [-1, num_classes])\n",
    "    \n",
    "    cutoff = 0.7\n",
    "    bpp = len(boxes)/pred[0].shape[0]\n",
    "    cutoff_boxes = []\n",
    "    for i in range(pred[0].shape[0]):\n",
    "        b = boxes.numpy()[int(i*bpp):int((i+1)*bpp)]\n",
    "        bs = box_scores.numpy()[int(i*bpp):int((i+1)*bpp)]\n",
    "        if b[np.argwhere(bs>cutoff)[:, 0]].shape[0] > 0:\n",
    "            layer_boxes[i].extend([b[np.argwhere(bs>cutoff)[:, 0]].tolist(), bs[np.argwhere(bs>cutoff)[:, 0]].flatten().tolist()])\n",
    "#     break\n",
    "    # layer_boxes.append(cutoff_boxes)"
   ]
  },
  {
   "cell_type": "code",
   "execution_count": 142,
   "metadata": {
    "ExecuteTime": {
     "end_time": "2020-01-09T05:48:42.158191Z",
     "start_time": "2020-01-09T05:48:42.151215Z"
    },
    "hidden": true
   },
   "outputs": [
    {
     "data": {
      "text/plain": [
       "(0, 4)"
      ]
     },
     "execution_count": 142,
     "metadata": {},
     "output_type": "execute_result"
    }
   ],
   "source": [
    "if b[np.argwhere(bs>cutoff)[:, 0]].shape[0] > 0:"
   ]
  },
  {
   "cell_type": "code",
   "execution_count": 159,
   "metadata": {
    "ExecuteTime": {
     "end_time": "2020-01-09T05:50:17.462195Z",
     "start_time": "2020-01-09T05:50:17.457192Z"
    },
    "hidden": true
   },
   "outputs": [
    {
     "data": {
      "text/plain": [
       "[[[[165.03623962402344,\n",
       "    216.1962127685547,\n",
       "    182.18804931640625,\n",
       "    238.88119506835938]],\n",
       "  [0.9072004556655884]],\n",
       " [[[159.50103759765625,\n",
       "    209.0535430908203,\n",
       "    177.72056579589844,\n",
       "    233.44802856445312],\n",
       "   [160.3238525390625,\n",
       "    213.9207763671875,\n",
       "    179.68377685546875,\n",
       "    241.02853393554688]],\n",
       "  [0.8007109761238098, 0.9550710320472717]],\n",
       " [[[205.37551879882812,\n",
       "    205.0868377685547,\n",
       "    221.0983123779297,\n",
       "    224.9710235595703],\n",
       "   [204.73268127441406,\n",
       "    205.90756225585938,\n",
       "    220.26649475097656,\n",
       "    225.7814178466797]],\n",
       "  [0.7365660667419434, 0.9098683595657349]],\n",
       " [[[205.37551879882812,\n",
       "    205.0868377685547,\n",
       "    221.0983123779297,\n",
       "    224.9710235595703],\n",
       "   [204.73268127441406,\n",
       "    205.90756225585938,\n",
       "    220.26649475097656,\n",
       "    225.7814178466797]],\n",
       "  [0.7365660667419434, 0.9098683595657349]]]"
      ]
     },
     "execution_count": 159,
     "metadata": {},
     "output_type": "execute_result"
    }
   ],
   "source": [
    "layer_boxes"
   ]
  },
  {
   "cell_type": "code",
   "execution_count": 158,
   "metadata": {
    "ExecuteTime": {
     "end_time": "2020-01-09T05:50:15.663879Z",
     "start_time": "2020-01-09T05:50:15.658904Z"
    },
    "hidden": true
   },
   "outputs": [
    {
     "data": {
      "text/plain": [
       "[[[165.03623962402344,\n",
       "   216.1962127685547,\n",
       "   182.18804931640625,\n",
       "   238.88119506835938]],\n",
       " [0.9072004556655884]]"
      ]
     },
     "execution_count": 158,
     "metadata": {},
     "output_type": "execute_result"
    }
   ],
   "source": [
    "layer_boxes[0]"
   ]
  },
  {
   "cell_type": "code",
   "execution_count": 157,
   "metadata": {
    "ExecuteTime": {
     "end_time": "2020-01-09T05:50:11.901576Z",
     "start_time": "2020-01-09T05:50:11.896571Z"
    },
    "hidden": true
   },
   "outputs": [
    {
     "data": {
      "text/plain": [
       "[[159.50103759765625,\n",
       "  209.0535430908203,\n",
       "  177.72056579589844,\n",
       "  233.44802856445312],\n",
       " [160.3238525390625,\n",
       "  213.9207763671875,\n",
       "  179.68377685546875,\n",
       "  241.02853393554688]]"
      ]
     },
     "execution_count": 157,
     "metadata": {},
     "output_type": "execute_result"
    }
   ],
   "source": [
    "layer_boxes[1][0]"
   ]
  },
  {
   "cell_type": "code",
   "execution_count": 125,
   "metadata": {
    "ExecuteTime": {
     "end_time": "2020-01-09T05:47:09.647222Z",
     "start_time": "2020-01-09T05:47:09.642223Z"
    },
    "hidden": true
   },
   "outputs": [
    {
     "data": {
      "text/plain": [
       "[[205.37551879882812, 205.0868377685547, 221.0983123779297, 224.9710235595703],\n",
       " [204.73268127441406,\n",
       "  205.90756225585938,\n",
       "  220.26649475097656,\n",
       "  225.7814178466797]]"
      ]
     },
     "execution_count": 125,
     "metadata": {},
     "output_type": "execute_result"
    }
   ],
   "source": [
    "b[np.argwhere(bs>cutoff)[:, 0]].tolist()"
   ]
  },
  {
   "cell_type": "code",
   "execution_count": 104,
   "metadata": {
    "ExecuteTime": {
     "end_time": "2020-01-09T05:40:00.883643Z",
     "start_time": "2020-01-09T05:40:00.879640Z"
    },
    "hidden": true
   },
   "outputs": [],
   "source": [
    "layer_boxes[l][i] = 1"
   ]
  },
  {
   "cell_type": "code",
   "execution_count": 105,
   "metadata": {
    "ExecuteTime": {
     "end_time": "2020-01-09T05:40:01.075900Z",
     "start_time": "2020-01-09T05:40:01.072925Z"
    },
    "hidden": true
   },
   "outputs": [
    {
     "data": {
      "text/plain": [
       "1"
      ]
     },
     "execution_count": 105,
     "metadata": {},
     "output_type": "execute_result"
    }
   ],
   "source": [
    "layer_boxes[l][0]"
   ]
  },
  {
   "cell_type": "code",
   "execution_count": 117,
   "metadata": {
    "ExecuteTime": {
     "end_time": "2020-01-09T05:41:20.194725Z",
     "start_time": "2020-01-09T05:41:20.191728Z"
    },
    "hidden": true
   },
   "outputs": [
    {
     "data": {
      "text/plain": [
       "[[[1], [1], [1]], [], [], []]"
      ]
     },
     "execution_count": 117,
     "metadata": {},
     "output_type": "execute_result"
    }
   ],
   "source": [
    "layer_boxes"
   ]
  },
  {
   "cell_type": "code",
   "execution_count": 88,
   "metadata": {
    "ExecuteTime": {
     "end_time": "2020-01-09T05:37:08.402616Z",
     "start_time": "2020-01-09T05:37:08.397617Z"
    },
    "hidden": true
   },
   "outputs": [
    {
     "data": {
      "text/plain": [
       "[]"
      ]
     },
     "execution_count": 88,
     "metadata": {},
     "output_type": "execute_result"
    }
   ],
   "source": [
    "layer_boxes[l][i]"
   ]
  },
  {
   "cell_type": "code",
   "execution_count": 81,
   "metadata": {
    "ExecuteTime": {
     "end_time": "2020-01-09T05:36:00.839577Z",
     "start_time": "2020-01-09T05:36:00.832577Z"
    },
    "hidden": true
   },
   "outputs": [
    {
     "data": {
      "text/plain": [
       "array([[205.37552, 205.08684, 221.09831, 224.97102],\n",
       "       [204.73268, 205.90756, 220.2665 , 225.78142]], dtype=float32)"
      ]
     },
     "execution_count": 81,
     "metadata": {},
     "output_type": "execute_result"
    }
   ],
   "source": [
    "b[np.argwhere(bs>cutoff)[:, 0]]"
   ]
  },
  {
   "cell_type": "code",
   "execution_count": 85,
   "metadata": {
    "ExecuteTime": {
     "end_time": "2020-01-09T05:36:23.027246Z",
     "start_time": "2020-01-09T05:36:23.020244Z"
    },
    "hidden": true
   },
   "outputs": [
    {
     "data": {
      "text/plain": [
       "[[[[array([], shape=(0, 4), dtype=float32), array([], dtype=float32)]],\n",
       "  [[array([], shape=(0, 4), dtype=float32), array([], dtype=float32)]],\n",
       "  [[array([], shape=(0, 4), dtype=float32), array([], dtype=float32)]],\n",
       "  [[array([], shape=(0, 4), dtype=float32), array([], dtype=float32)]]],\n",
       " [[[array([[165.03624, 216.19621, 182.18805, 238.8812 ]], dtype=float32),\n",
       "    array([0.90720046], dtype=float32)]],\n",
       "  [[array([[165.03624, 216.19621, 182.18805, 238.8812 ]], dtype=float32),\n",
       "    array([0.90720046], dtype=float32)]],\n",
       "  [[array([[165.03624, 216.19621, 182.18805, 238.8812 ]], dtype=float32),\n",
       "    array([0.90720046], dtype=float32)]],\n",
       "  [[array([[165.03624, 216.19621, 182.18805, 238.8812 ]], dtype=float32),\n",
       "    array([0.90720046], dtype=float32)]]]]"
      ]
     },
     "execution_count": 85,
     "metadata": {},
     "output_type": "execute_result"
    }
   ],
   "source": [
    "layer_boxes"
   ]
  },
  {
   "cell_type": "code",
   "execution_count": 73,
   "metadata": {
    "ExecuteTime": {
     "end_time": "2020-01-09T05:31:37.618779Z",
     "start_time": "2020-01-09T05:31:37.613781Z"
    },
    "hidden": true
   },
   "outputs": [
    {
     "data": {
      "text/plain": [
       "[[], [], []]"
      ]
     },
     "execution_count": 73,
     "metadata": {},
     "output_type": "execute_result"
    }
   ],
   "source": [
    "[[]]*3"
   ]
  },
  {
   "cell_type": "code",
   "execution_count": 74,
   "metadata": {
    "ExecuteTime": {
     "end_time": "2020-01-09T05:31:46.938326Z",
     "start_time": "2020-01-09T05:31:46.932352Z"
    },
    "hidden": true
   },
   "outputs": [
    {
     "data": {
      "text/plain": [
       "[[[], [], [], []], [[], [], [], []]]"
      ]
     },
     "execution_count": 74,
     "metadata": {},
     "output_type": "execute_result"
    }
   ],
   "source": [
    "[[[]]*pred[0].shape[0] for x in range(num_layers)]"
   ]
  },
  {
   "cell_type": "code",
   "execution_count": null,
   "metadata": {
    "hidden": true
   },
   "outputs": [],
   "source": [
    "layer_boxes = [[]* for x in range(num_layers)]"
   ]
  },
  {
   "cell_type": "code",
   "execution_count": 68,
   "metadata": {
    "ExecuteTime": {
     "end_time": "2020-01-09T05:28:29.305957Z",
     "start_time": "2020-01-09T05:28:29.300985Z"
    },
    "hidden": true
   },
   "outputs": [
    {
     "data": {
      "text/plain": [
       "[array([], shape=(0, 4), dtype=float32), array([], dtype=float32)]"
      ]
     },
     "execution_count": 68,
     "metadata": {},
     "output_type": "execute_result"
    }
   ],
   "source": [
    "layer_boxes[0][0]"
   ]
  },
  {
   "cell_type": "code",
   "execution_count": 66,
   "metadata": {
    "ExecuteTime": {
     "end_time": "2020-01-09T05:27:32.424113Z",
     "start_time": "2020-01-09T05:27:32.416114Z"
    },
    "hidden": true
   },
   "outputs": [
    {
     "data": {
      "text/plain": [
       "[[[array([], shape=(0, 4), dtype=float32), array([], dtype=float32)],\n",
       "  [array([], shape=(0, 4), dtype=float32), array([], dtype=float32)],\n",
       "  [array([], shape=(0, 4), dtype=float32), array([], dtype=float32)],\n",
       "  [array([], shape=(0, 4), dtype=float32), array([], dtype=float32)]],\n",
       " [[array([[165.03624, 216.19621, 182.18805, 238.8812 ]], dtype=float32),\n",
       "   array([0.90720046], dtype=float32)],\n",
       "  [array([[159.50104, 209.05354, 177.72057, 233.44803],\n",
       "          [160.32385, 213.92078, 179.68378, 241.02853]], dtype=float32),\n",
       "   array([0.800711  , 0.95507103], dtype=float32)],\n",
       "  [array([[205.37552, 205.08684, 221.09831, 224.97102],\n",
       "          [204.73268, 205.90756, 220.2665 , 225.78142]], dtype=float32),\n",
       "   array([0.73656607, 0.90986836], dtype=float32)],\n",
       "  [array([[205.37552, 205.08684, 221.09831, 224.97102],\n",
       "          [204.73268, 205.90756, 220.2665 , 225.78142]], dtype=float32),\n",
       "   array([0.73656607, 0.90986836], dtype=float32)]]]"
      ]
     },
     "execution_count": 66,
     "metadata": {},
     "output_type": "execute_result"
    }
   ],
   "source": [
    "layer_boxes"
   ]
  },
  {
   "cell_type": "code",
   "execution_count": 43,
   "metadata": {
    "ExecuteTime": {
     "end_time": "2020-01-09T05:16:04.023746Z",
     "start_time": "2020-01-09T05:16:04.018748Z"
    },
    "hidden": true
   },
   "outputs": [],
   "source": [
    "layer_boxes = [[] for x in range(num_layers)]"
   ]
  },
  {
   "cell_type": "code",
   "execution_count": 58,
   "metadata": {
    "ExecuteTime": {
     "end_time": "2020-01-09T05:18:37.014219Z",
     "start_time": "2020-01-09T05:18:37.009215Z"
    },
    "hidden": true
   },
   "outputs": [
    {
     "data": {
      "text/plain": [
       "[array([], shape=(0, 4), dtype=float32), array([], dtype=float32)]"
      ]
     },
     "execution_count": 58,
     "metadata": {},
     "output_type": "execute_result"
    }
   ],
   "source": [
    "layer_boxes[0][0]"
   ]
  },
  {
   "cell_type": "code",
   "execution_count": 60,
   "metadata": {
    "ExecuteTime": {
     "end_time": "2020-01-09T05:19:26.599557Z",
     "start_time": "2020-01-09T05:19:26.596556Z"
    },
    "hidden": true
   },
   "outputs": [],
   "source": [
    "layer_boxes[1][0].append(layer_boxes[0][0])"
   ]
  },
  {
   "cell_type": "code",
   "execution_count": 61,
   "metadata": {
    "ExecuteTime": {
     "end_time": "2020-01-09T05:19:34.373656Z",
     "start_time": "2020-01-09T05:19:34.366660Z"
    },
    "hidden": true
   },
   "outputs": [
    {
     "data": {
      "text/plain": [
       "[array([[165.03624, 216.19621, 182.18805, 238.8812 ]], dtype=float32),\n",
       " array([0.90720046], dtype=float32),\n",
       " [array([], shape=(0, 4), dtype=float32), array([], dtype=float32)]]"
      ]
     },
     "execution_count": 61,
     "metadata": {},
     "output_type": "execute_result"
    }
   ],
   "source": [
    "layer_boxes[1][0]"
   ]
  },
  {
   "cell_type": "code",
   "execution_count": 54,
   "metadata": {
    "ExecuteTime": {
     "end_time": "2020-01-09T05:17:33.386507Z",
     "start_time": "2020-01-09T05:17:33.382532Z"
    },
    "hidden": true
   },
   "outputs": [
    {
     "data": {
      "text/plain": [
       "[[array([], shape=(0, 4), dtype=float32), array([], dtype=float32)],\n",
       " [array([], shape=(0, 4), dtype=float32), array([], dtype=float32)],\n",
       " [array([], shape=(0, 4), dtype=float32), array([], dtype=float32)],\n",
       " [array([], shape=(0, 4), dtype=float32), array([], dtype=float32)]]"
      ]
     },
     "execution_count": 54,
     "metadata": {},
     "output_type": "execute_result"
    }
   ],
   "source": [
    "layer_boxes[0]"
   ]
  },
  {
   "cell_type": "code",
   "execution_count": 17,
   "metadata": {
    "ExecuteTime": {
     "end_time": "2020-01-09T04:35:53.232375Z",
     "start_time": "2020-01-09T04:35:53.227372Z"
    },
    "hidden": true
   },
   "outputs": [
    {
     "data": {
      "text/plain": [
       "[array([[9.4238994e-06],\n",
       "        [7.3200857e-07],\n",
       "        [1.1750835e-06],\n",
       "        ...,\n",
       "        [6.9621983e-06],\n",
       "        [1.4765332e-06],\n",
       "        [3.2261687e-06]], dtype=float32), array([[1.3443485e-05],\n",
       "        [6.9641992e-06],\n",
       "        [3.3841907e-06],\n",
       "        ...,\n",
       "        [5.7007155e-06],\n",
       "        [2.7727701e-06],\n",
       "        [1.2085586e-06]], dtype=float32)]"
      ]
     },
     "execution_count": 17,
     "metadata": {},
     "output_type": "execute_result"
    }
   ],
   "source": [
    "layer_box_scores"
   ]
  },
  {
   "cell_type": "code",
   "execution_count": null,
   "metadata": {
    "hidden": true
   },
   "outputs": [],
   "source": []
  },
  {
   "cell_type": "code",
   "execution_count": 18,
   "metadata": {
    "ExecuteTime": {
     "end_time": "2020-01-09T04:35:53.246371Z",
     "start_time": "2020-01-09T04:35:53.234371Z"
    },
    "hidden": true
   },
   "outputs": [],
   "source": [
    "box_xy, box_wh, box_confidence, box_class_probs = yolo_head(tf.convert_to_tensor(yolo_outputs[l]),\n",
    "     anchors[anchor_mask[l]], num_classes, input_shape)\n",
    "\n",
    "boxes = yolo_correct_boxes(box_xy, box_wh, input_shape, (416, 416))\n",
    "boxes = K.reshape(boxes, [-1, 4])\n",
    "box_scores = box_confidence * box_class_probs\n",
    "box_scores = K.reshape(box_scores, [-1, num_classes])"
   ]
  },
  {
   "cell_type": "code",
   "execution_count": 19,
   "metadata": {
    "ExecuteTime": {
     "end_time": "2020-01-09T04:35:53.253372Z",
     "start_time": "2020-01-09T04:35:53.247372Z"
    },
    "hidden": true
   },
   "outputs": [
    {
     "data": {
      "text/plain": [
       "4"
      ]
     },
     "execution_count": 19,
     "metadata": {},
     "output_type": "execute_result"
    }
   ],
   "source": [
    "pred[0].shape[0]"
   ]
  },
  {
   "cell_type": "code",
   "execution_count": 37,
   "metadata": {
    "ExecuteTime": {
     "end_time": "2020-01-09T04:45:59.371604Z",
     "start_time": "2020-01-09T04:45:59.357608Z"
    },
    "hidden": true
   },
   "outputs": [
    {
     "name": "stdout",
     "output_type": "stream",
     "text": [
      "0\n",
      "1\n",
      "2\n",
      "3\n"
     ]
    }
   ],
   "source": [
    "cutoff = 0.7\n",
    "bpp = len(boxes)/pred[0].shape[0]\n",
    "cutoff_boxes = []\n",
    "for i in range(pred[0].shape[0]):\n",
    "    b = boxes.numpy()[int(i*bpp):int((i+1)*bpp)]\n",
    "    bs = box_scores.numpy()[int(i*bpp):int((i+1)*bpp)]\n",
    "    cutoff_boxes.append([b[np.argwhere(bs>cutoff)[:, 0]], bs[np.argwhere(bs>cutoff)[:, 0]].flatten()])\n",
    "    print(i)"
   ]
  },
  {
   "cell_type": "code",
   "execution_count": 38,
   "metadata": {
    "ExecuteTime": {
     "end_time": "2020-01-09T04:45:59.819026Z",
     "start_time": "2020-01-09T04:45:59.813029Z"
    },
    "hidden": true
   },
   "outputs": [
    {
     "data": {
      "text/plain": [
       "array([0.73656607, 0.90986836], dtype=float32)"
      ]
     },
     "execution_count": 38,
     "metadata": {},
     "output_type": "execute_result"
    }
   ],
   "source": [
    "bs[np.argwhere(bs>cutoff)[:, 0]].flatten()"
   ]
  },
  {
   "cell_type": "code",
   "execution_count": 40,
   "metadata": {
    "ExecuteTime": {
     "end_time": "2020-01-09T05:00:39.313049Z",
     "start_time": "2020-01-09T05:00:39.308076Z"
    },
    "hidden": true
   },
   "outputs": [
    {
     "data": {
      "text/plain": [
       "4"
      ]
     },
     "execution_count": 40,
     "metadata": {},
     "output_type": "execute_result"
    }
   ],
   "source": [
    "len(cutoff_boxes)"
   ]
  },
  {
   "cell_type": "code",
   "execution_count": 21,
   "metadata": {
    "ExecuteTime": {
     "end_time": "2020-01-09T04:35:53.268370Z",
     "start_time": "2020-01-09T04:35:53.263370Z"
    },
    "hidden": true
   },
   "outputs": [
    {
     "data": {
      "text/plain": [
       "array([[0.73656607],\n",
       "       [0.90986836]], dtype=float32)"
      ]
     },
     "execution_count": 21,
     "metadata": {},
     "output_type": "execute_result"
    }
   ],
   "source": [
    "bs[np.argwhere(bs>cutoff)[:, 0]]"
   ]
  },
  {
   "cell_type": "code",
   "execution_count": 22,
   "metadata": {
    "ExecuteTime": {
     "end_time": "2020-01-09T04:35:53.275370Z",
     "start_time": "2020-01-09T04:35:53.269371Z"
    },
    "hidden": true
   },
   "outputs": [
    {
     "data": {
      "text/plain": [
       "array([[205.37552, 205.08684, 221.09831, 224.97102],\n",
       "       [204.73268, 205.90756, 220.2665 , 225.78142]], dtype=float32)"
      ]
     },
     "execution_count": 22,
     "metadata": {},
     "output_type": "execute_result"
    }
   ],
   "source": [
    "b[np.argwhere(bs>cutoff)[:, 0]]"
   ]
  },
  {
   "cell_type": "code",
   "execution_count": 23,
   "metadata": {
    "ExecuteTime": {
     "end_time": "2020-01-09T04:35:53.281372Z",
     "start_time": "2020-01-09T04:35:53.276371Z"
    },
    "hidden": true
   },
   "outputs": [
    {
     "data": {
      "text/plain": [
       "array([0.      , 3.105774], dtype=float32)"
      ]
     },
     "execution_count": 23,
     "metadata": {},
     "output_type": "execute_result"
    }
   ],
   "source": [
    "np.sum(np.abs(b[np.argwhere(bs>cutoff)[:, 0]][0] - b[np.argwhere(bs>cutoff)[:, 0]]), axis=1)"
   ]
  },
  {
   "cell_type": "code",
   "execution_count": 24,
   "metadata": {
    "ExecuteTime": {
     "end_time": "2020-01-09T04:35:53.288371Z",
     "start_time": "2020-01-09T04:35:53.282373Z"
    },
    "hidden": true
   },
   "outputs": [
    {
     "data": {
      "text/plain": [
       "array([[0.73656607],\n",
       "       [0.90986836],\n",
       "       [0.73656607],\n",
       "       [0.90986836]], dtype=float32)"
      ]
     },
     "execution_count": 24,
     "metadata": {},
     "output_type": "execute_result"
    }
   ],
   "source": [
    "np.concatenate((bs[np.argwhere(bs>cutoff)[:, 0]],bs[np.argwhere(bs>cutoff)[:, 0]]))"
   ]
  },
  {
   "cell_type": "code",
   "execution_count": 25,
   "metadata": {
    "ExecuteTime": {
     "end_time": "2020-01-09T04:35:53.294371Z",
     "start_time": "2020-01-09T04:35:53.289372Z"
    },
    "hidden": true
   },
   "outputs": [
    {
     "data": {
      "text/plain": [
       "array([[205.37552, 205.08684, 221.09831, 224.97102],\n",
       "       [204.73268, 205.90756, 220.2665 , 225.78142],\n",
       "       [205.37552, 205.08684, 221.09831, 224.97102],\n",
       "       [204.73268, 205.90756, 220.2665 , 225.78142]], dtype=float32)"
      ]
     },
     "execution_count": 25,
     "metadata": {},
     "output_type": "execute_result"
    }
   ],
   "source": [
    "np.concatenate((b[np.argwhere(bs>cutoff)[:, 0]],b[np.argwhere(bs>cutoff)[:, 0]]))"
   ]
  },
  {
   "cell_type": "code",
   "execution_count": 51,
   "metadata": {
    "ExecuteTime": {
     "end_time": "2020-01-08T07:37:04.736951Z",
     "start_time": "2020-01-08T07:37:04.723926Z"
    },
    "hidden": true
   },
   "outputs": [
    {
     "ename": "TypeError",
     "evalue": "list() takes at most 1 argument (2 given)",
     "output_type": "error",
     "traceback": [
      "\u001b[1;31m---------------------------------------------------------------------------\u001b[0m",
      "\u001b[1;31mTypeError\u001b[0m                                 Traceback (most recent call last)",
      "\u001b[1;32m<ipython-input-51-15100191420b>\u001b[0m in \u001b[0;36m<module>\u001b[1;34m\u001b[0m\n\u001b[1;32m----> 1\u001b[1;33m \u001b[0mlist\u001b[0m\u001b[1;33m(\u001b[0m\u001b[0mb\u001b[0m\u001b[1;33m[\u001b[0m\u001b[0mnp\u001b[0m\u001b[1;33m.\u001b[0m\u001b[0margwhere\u001b[0m\u001b[1;33m(\u001b[0m\u001b[0mbs\u001b[0m\u001b[1;33m>\u001b[0m\u001b[0mcutoff\u001b[0m\u001b[1;33m)\u001b[0m\u001b[1;33m[\u001b[0m\u001b[1;33m:\u001b[0m\u001b[1;33m,\u001b[0m \u001b[1;36m0\u001b[0m\u001b[1;33m]\u001b[0m\u001b[1;33m]\u001b[0m\u001b[1;33m,\u001b[0m \u001b[0mbs\u001b[0m\u001b[1;33m[\u001b[0m\u001b[0mnp\u001b[0m\u001b[1;33m.\u001b[0m\u001b[0margwhere\u001b[0m\u001b[1;33m(\u001b[0m\u001b[0mbs\u001b[0m\u001b[1;33m>\u001b[0m\u001b[0mcutoff\u001b[0m\u001b[1;33m)\u001b[0m\u001b[1;33m[\u001b[0m\u001b[1;33m:\u001b[0m\u001b[1;33m,\u001b[0m \u001b[1;36m0\u001b[0m\u001b[1;33m]\u001b[0m\u001b[1;33m]\u001b[0m\u001b[1;33m)\u001b[0m\u001b[1;33m\u001b[0m\u001b[1;33m\u001b[0m\u001b[0m\n\u001b[0m",
      "\u001b[1;31mTypeError\u001b[0m: list() takes at most 1 argument (2 given)"
     ]
    }
   ],
   "source": []
  },
  {
   "cell_type": "code",
   "execution_count": 23,
   "metadata": {
    "ExecuteTime": {
     "end_time": "2020-01-08T07:03:54.105552Z",
     "start_time": "2020-01-08T07:03:54.102573Z"
    },
    "hidden": true
   },
   "outputs": [
    {
     "data": {
      "text/plain": [
       "8112"
      ]
     },
     "execution_count": 23,
     "metadata": {},
     "output_type": "execute_result"
    }
   ],
   "source": [
    "int((i+1)*bpp)"
   ]
  },
  {
   "cell_type": "code",
   "execution_count": 24,
   "metadata": {
    "ExecuteTime": {
     "end_time": "2020-01-08T07:03:55.468314Z",
     "start_time": "2020-01-08T07:03:55.460305Z"
    },
    "hidden": true
   },
   "outputs": [
    {
     "data": {
      "text/plain": [
       "array([[  0.8874654,   0.767142 ,  14.0129   ,   9.790259 ],\n",
       "       [ -7.341978 ,   1.8721727,  21.631058 ,  12.668908 ],\n",
       "       [ -4.5331726, -15.617149 ,  21.08239  ,  24.762459 ],\n",
       "       ...,\n",
       "       [398.72498  , 405.07162  , 417.74442  , 411.45358  ],\n",
       "       [381.18124  , 404.1366   , 431.003    , 412.4868   ],\n",
       "       [389.9903   , 389.90283  , 428.95557  , 421.67435  ]],\n",
       "      dtype=float32)"
      ]
     },
     "execution_count": 24,
     "metadata": {},
     "output_type": "execute_result"
    }
   ],
   "source": [
    "boxes.numpy()[int(i*bpp):int((i+1)*bpp)]"
   ]
  },
  {
   "cell_type": "code",
   "execution_count": 25,
   "metadata": {
    "ExecuteTime": {
     "end_time": "2020-01-08T07:03:56.257665Z",
     "start_time": "2020-01-08T07:03:56.252664Z"
    },
    "hidden": true
   },
   "outputs": [
    {
     "data": {
      "text/plain": [
       "2028.0"
      ]
     },
     "execution_count": 25,
     "metadata": {},
     "output_type": "execute_result"
    }
   ],
   "source": [
    "len(boxes)/pred[0].shape[0]"
   ]
  },
  {
   "cell_type": "code",
   "execution_count": 26,
   "metadata": {
    "ExecuteTime": {
     "end_time": "2020-01-08T07:03:57.313059Z",
     "start_time": "2020-01-08T07:03:57.310061Z"
    },
    "hidden": true
   },
   "outputs": [
    {
     "data": {
      "text/plain": [
       "8112"
      ]
     },
     "execution_count": 26,
     "metadata": {},
     "output_type": "execute_result"
    }
   ],
   "source": [
    "len(boxes)"
   ]
  },
  {
   "cell_type": "code",
   "execution_count": null,
   "metadata": {
    "ExecuteTime": {
     "end_time": "2020-01-08T07:02:59.165298Z",
     "start_time": "2020-01-08T07:02:48.639Z"
    },
    "hidden": true
   },
   "outputs": [],
   "source": [
    "cutoff = 0.7\n",
    "box_scores.numpy()[np.argwhere(box_scores.numpy()>cutoff)[:, :1]]"
   ]
  },
  {
   "cell_type": "code",
   "execution_count": null,
   "metadata": {
    "ExecuteTime": {
     "end_time": "2020-01-08T07:02:59.166298Z",
     "start_time": "2020-01-08T07:02:48.640Z"
    },
    "hidden": true
   },
   "outputs": [],
   "source": [
    "boxes.numpy()[np.argwhere(box_scores.numpy()>cutoff)[:, :1]]"
   ]
  },
  {
   "cell_type": "code",
   "execution_count": null,
   "metadata": {
    "ExecuteTime": {
     "end_time": "2020-01-08T07:02:59.167299Z",
     "start_time": "2020-01-08T07:02:48.642Z"
    },
    "hidden": true
   },
   "outputs": [],
   "source": [
    "face = boxes.numpy()[np.argwhere(box_scores.numpy()>cutoff)[:, :1]][0][0]"
   ]
  },
  {
   "cell_type": "code",
   "execution_count": 170,
   "metadata": {
    "ExecuteTime": {
     "end_time": "2020-01-08T01:21:21.037211Z",
     "start_time": "2020-01-08T01:21:21.033230Z"
    },
    "hidden": true
   },
   "outputs": [
    {
     "data": {
      "text/plain": [
       "array([204.73268, 205.90756, 220.2665 , 225.7814 ], dtype=float32)"
      ]
     },
     "execution_count": 170,
     "metadata": {},
     "output_type": "execute_result"
    }
   ],
   "source": [
    "face"
   ]
  },
  {
   "cell_type": "code",
   "execution_count": 171,
   "metadata": {
    "ExecuteTime": {
     "end_time": "2020-01-08T01:21:21.633055Z",
     "start_time": "2020-01-08T01:21:21.629054Z"
    },
    "hidden": true
   },
   "outputs": [],
   "source": [
    "# image_with_box = cv2.rectangle(np.asarray(boxed_image), \\\n",
    "#                                (int(face[1]-20), int(face[0]-30)), (int(face[3]+20), int(face[2]+30)), (255, 0, 0), 2) \n",
    "# # image_with_box = cv2.rectangle(np.asarray(boxed_image), (216, 165), (238+10, 182+15), (255, 0, 0), 2) "
   ]
  },
  {
   "cell_type": "code",
   "execution_count": 172,
   "metadata": {
    "ExecuteTime": {
     "end_time": "2020-01-08T01:21:21.855627Z",
     "start_time": "2020-01-08T01:21:21.850626Z"
    },
    "hidden": true
   },
   "outputs": [],
   "source": [
    "image_with_box = cv2.rectangle(np.asarray(boxed_image), \\\n",
    "                               (int(face[1]-x_diff), int(face[0]-y_diff)), (int(face[3]+x_diff), int(face[2]+y_diff)), (255, 0, 0), 2) \n",
    "# image_with_box = cv2.rectangle(np.asarray(boxed_image), (216, 165), (238+10, 182+15), (255, 0, 0), 2) "
   ]
  },
  {
   "cell_type": "code",
   "execution_count": 173,
   "metadata": {
    "ExecuteTime": {
     "end_time": "2020-01-08T01:21:22.246977Z",
     "start_time": "2020-01-08T01:21:22.106947Z"
    },
    "hidden": true
   },
   "outputs": [
    {
     "data": {
      "text/plain": [
       "<matplotlib.image.AxesImage at 0x23118e5bc88>"
      ]
     },
     "execution_count": 173,
     "metadata": {},
     "output_type": "execute_result"
    },
    {
     "data": {
      "image/png": "[encoded data removed]",
      "text/plain": [
       "<Figure size 432x288 with 1 Axes>"
      ]
     },
     "metadata": {
      "needs_background": "light"
     },
     "output_type": "display_data"
    }
   ],
   "source": [
    "plt.imshow(image_with_box)"
   ]
  },
  {
   "cell_type": "code",
   "execution_count": 100,
   "metadata": {
    "ExecuteTime": {
     "end_time": "2020-01-08T01:10:32.220655Z",
     "start_time": "2020-01-08T01:10:32.215654Z"
    },
    "hidden": true
   },
   "outputs": [],
   "source": [
    "x_diff = np.abs(face[3] - face[1])/1.5\n",
    "y_diff = np.abs(face[2] - face[0])*1.4"
   ]
  },
  {
   "cell_type": "code",
   "execution_count": null,
   "metadata": {
    "hidden": true
   },
   "outputs": [],
   "source": []
  }
 ],
 "metadata": {
  "kernelspec": {
   "display_name": "Python 3",
   "language": "python",
   "name": "python3"
  },
  "language_info": {
   "codemirror_mode": {
    "name": "ipython",
    "version": 3
   },
   "file_extension": ".py",
   "mimetype": "text/x-python",
   "name": "python",
   "nbconvert_exporter": "python",
   "pygments_lexer": "ipython3",
   "version": "3.6.9"
  }
 },
 "nbformat": 4,
 "nbformat_minor": 2
}
