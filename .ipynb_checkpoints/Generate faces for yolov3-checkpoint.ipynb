{
 "cells": [
  {
   "cell_type": "code",
   "execution_count": 1,
   "metadata": {
    "ExecuteTime": {
     "end_time": "2019-12-30T03:00:05.596268Z",
     "start_time": "2019-12-30T02:59:57.132145Z"
    }
   },
   "outputs": [
    {
     "name": "stderr",
     "output_type": "stream",
     "text": [
      "C:\\Users\\Anti\\Anaconda3\\envs\\ml\\lib\\site-packages\\h5py\\__init__.py:36: FutureWarning: Conversion of the second argument of issubdtype from `float` to `np.floating` is deprecated. In future, it will be treated as `np.float64 == np.dtype(float).type`.\n",
      "  from ._conv import register_converters as _register_converters\n",
      "Using TensorFlow backend.\n"
     ]
    }
   ],
   "source": [
    "import os\n",
    "import pandas as pd\n",
    "import json\n",
    "import imageio\n",
    "import matplotlib.pyplot as plt\n",
    "import cv2\n",
    "import numpy as np\n",
    "import sklearn\n",
    "import pickle\n",
    "from sklearn.cluster import KMeans\n",
    "from mtcnn.mtcnn import MTCNN\n",
    "from PIL import Image\n",
    "from imageio import imwrite"
   ]
  },
  {
   "cell_type": "markdown",
   "metadata": {},
   "source": [
    "* Validate face feature detection speed\n",
    "* Train on bigger boxes as it is important to get the face inside the box, box does not have to be that tight"
   ]
  },
  {
   "cell_type": "markdown",
   "metadata": {},
   "source": [
    "## Load data"
   ]
  },
  {
   "cell_type": "code",
   "execution_count": 2,
   "metadata": {
    "ExecuteTime": {
     "end_time": "2019-12-30T03:00:05.663269Z",
     "start_time": "2019-12-30T03:00:05.598246Z"
    },
    "code_folding": []
   },
   "outputs": [],
   "source": [
    "# Video files\n",
    "videos_folder = '../deepfake-detection-challenge/train_sample_videos/'\n",
    "videos = list(set(os.listdir(videos_folder)) - set(['metadata.json']))\n",
    "with open(os.path.join(videos_folder, 'metadata.json')) as json_file:\n",
    "    metadata = json.load(json_file)\n",
    "    \n",
    "# Video into df\n",
    "df = pd.DataFrame(metadata).T\n",
    "df.reset_index(level=0, inplace=True)\n",
    "df.rename(index={'index': 'vide'}, inplace=True)"
   ]
  },
  {
   "cell_type": "code",
   "execution_count": 3,
   "metadata": {
    "ExecuteTime": {
     "end_time": "2019-12-30T03:00:05.672250Z",
     "start_time": "2019-12-30T03:00:05.664245Z"
    },
    "scrolled": true
   },
   "outputs": [
    {
     "data": {
      "text/plain": [
       "['bmjmjmbglm.mp4',\n",
       " 'bqdjzqhcft.mp4',\n",
       " 'aslsvlvpth.mp4',\n",
       " 'dsgpbgsrdm.mp4',\n",
       " 'bddjdhzfze.mp4',\n",
       " 'dfbpceeaox.mp4',\n",
       " 'avssvvsdhz.mp4',\n",
       " 'btugrnoton.mp4',\n",
       " 'cizlkenljw.mp4',\n",
       " 'crezycjqyk.mp4',\n",
       " 'aorjvbyxhw.mp4',\n",
       " 'atkdltyyen.mp4',\n",
       " 'errocgcham.mp4',\n",
       " 'ellavthztb.mp4',\n",
       " 'acqfdwsrhi.mp4',\n",
       " 'chviwxsfhg.mp4',\n",
       " 'augtsuxpzc.mp4',\n",
       " 'dgzklxjmix.mp4',\n",
       " 'dwediigjit.mp4',\n",
       " 'eprybmbpba.mp4',\n",
       " 'cnilkgvfei.mp4',\n",
       " 'bctvsmddgq.mp4',\n",
       " 'bpapbctoao.mp4',\n",
       " 'eekozbeafq.mp4',\n",
       " 'abofeumbvv.mp4',\n",
       " 'coadfnerlk.mp4',\n",
       " 'awnwkrqibf.mp4',\n",
       " 'dhkwmjxwrn.mp4',\n",
       " 'bggsurpgpr.mp4',\n",
       " 'bffwsjxghk.mp4',\n",
       " 'bbhtdfuqxq.mp4',\n",
       " 'dkzvdrzcnr.mp4',\n",
       " 'btmsngnqhv.mp4',\n",
       " 'bopqhhalml.mp4',\n",
       " 'ajwpjhrbcv.mp4',\n",
       " 'bnbuonyoje.mp4',\n",
       " 'dhevettufk.mp4',\n",
       " 'altziddtxi.mp4',\n",
       " 'dsjbknkujw.mp4',\n",
       " 'eukvucdetx.mp4',\n",
       " 'cycacemkmt.mp4',\n",
       " 'dkrvorliqc.mp4',\n",
       " 'edyncaijwx.mp4',\n",
       " 'bulkxhhknf.mp4',\n",
       " 'emgjphonqb.mp4',\n",
       " 'bgaogsjehq.mp4',\n",
       " 'eczrseixwq.mp4',\n",
       " 'avfitoutyn.mp4',\n",
       " 'btjwbtsgln.mp4',\n",
       " 'amaivqofda.mp4',\n",
       " 'dvakowbgbt.mp4',\n",
       " 'cglxirfaey.mp4',\n",
       " 'eebrkicpry.mp4',\n",
       " 'dhoqofwoxa.mp4',\n",
       " 'ebywfrmhtd.mp4',\n",
       " 'atxvxouljq.mp4',\n",
       " 'avmjormvsx.mp4',\n",
       " 'ekcrtigpab.mp4',\n",
       " 'ahqqqilsxt.mp4',\n",
       " 'ctzmavwror.mp4',\n",
       " 'chtapglbcj.mp4',\n",
       " 'ehccixxzoe.mp4',\n",
       " 'epymyyiblu.mp4',\n",
       " 'cpjxareypw.mp4',\n",
       " 'bguwlyazau.mp4',\n",
       " 'bqeiblbxtl.mp4',\n",
       " 'bvzjkezkms.mp4',\n",
       " 'asaxgevnnp.mp4',\n",
       " 'bsqgziaylx.mp4',\n",
       " 'acxwigylke.mp4',\n",
       " 'crzfebnfgb.mp4',\n",
       " 'ecuvtoltue.mp4',\n",
       " 'eivxffliio.mp4',\n",
       " 'dbhoxkblzx.mp4',\n",
       " 'dtbpmdqvao.mp4',\n",
       " 'djvutyvaio.mp4',\n",
       " 'ehdkmxgtxh.mp4',\n",
       " 'bgwmmujlmc.mp4',\n",
       " 'bmehkyanbj.mp4',\n",
       " 'elginszwtk.mp4',\n",
       " 'bofqajtwve.mp4',\n",
       " 'ciyoudyhly.mp4',\n",
       " 'clihsshdkq.mp4',\n",
       " 'ckkuyewywx.mp4',\n",
       " 'bmioepcpsx.mp4',\n",
       " 'esyrimvzsa.mp4',\n",
       " 'bilnggbxgu.mp4',\n",
       " 'bkmdzhfzfh.mp4',\n",
       " 'bqkdbcqjvb.mp4',\n",
       " 'duycddgtrl.mp4',\n",
       " 'cferslmfwh.mp4',\n",
       " 'cksanfsjhc.mp4',\n",
       " 'bxzakyopjf.mp4',\n",
       " 'cqrskwiqng.mp4',\n",
       " 'bjsmaqefoi.mp4',\n",
       " 'eepezmygaq.mp4',\n",
       " 'eoewqcpbgt.mp4',\n",
       " 'egbbcxcuqy.mp4',\n",
       " 'etejaapnxh.mp4',\n",
       " 'acxnxvbsxk.mp4',\n",
       " 'arlmiizoob.mp4',\n",
       " 'crktehraph.mp4',\n",
       " 'dptrzdvwpg.mp4',\n",
       " 'dntkzzzcdh.mp4',\n",
       " 'cffffbcywc.mp4',\n",
       " 'bdxuhamuqx.mp4',\n",
       " 'afoovlsmtx.mp4',\n",
       " 'ekhacizpah.mp4',\n",
       " 'avvdgsennp.mp4',\n",
       " 'andaxzscny.mp4',\n",
       " 'cxttmymlbn.mp4',\n",
       " 'cgvrgibpfo.mp4',\n",
       " 'cwsbspfzck.mp4',\n",
       " 'bgvhtpzknn.mp4',\n",
       " 'dbzcqmxzaj.mp4',\n",
       " 'axczxisdtb.mp4',\n",
       " 'bhbdugnurr.mp4',\n",
       " 'dkwjwbwgey.mp4',\n",
       " 'djxdyjopjd.mp4',\n",
       " 'bpxckdzddv.mp4',\n",
       " 'cvaksbpssm.mp4',\n",
       " 'diopzaywor.mp4',\n",
       " 'bdbhekrrwo.mp4',\n",
       " 'dqqtjcryjv.mp4',\n",
       " 'ehieahnhte.mp4',\n",
       " 'awhmfnnjih.mp4',\n",
       " 'blzydqdfem.mp4',\n",
       " 'diomeixhrg.mp4',\n",
       " 'byyqectxqa.mp4',\n",
       " 'axwgcsyphv.mp4',\n",
       " 'dubiroskqn.mp4',\n",
       " 'ddjggcasdw.mp4',\n",
       " 'dhcselezer.mp4',\n",
       " 'dsndhujjjb.mp4',\n",
       " 'bpwzipqtxf.mp4',\n",
       " 'dafhtipaml.mp4',\n",
       " 'duvyaxbzvp.mp4',\n",
       " 'aczrgyricp.mp4',\n",
       " 'cfxkpiweqt.mp4',\n",
       " 'dzvyfiarrq.mp4',\n",
       " 'asdpeebotb.mp4',\n",
       " 'cdyakrxkia.mp4',\n",
       " 'asvcrfdpnq.mp4',\n",
       " 'brhalypwoo.mp4',\n",
       " 'dbhrpizyeq.mp4',\n",
       " 'ckjaibzfxa.mp4',\n",
       " 'ddpvuimigj.mp4',\n",
       " 'aagfhgtpmv.mp4',\n",
       " 'cepxysienc.mp4',\n",
       " 'aettqgevhz.mp4',\n",
       " 'czmqpxrqoh.mp4',\n",
       " 'bqtuuwzdtr.mp4',\n",
       " 'ahbweevwpv.mp4',\n",
       " 'dlpoieqvfb.mp4',\n",
       " 'caqbrkogkb.mp4',\n",
       " 'dhcndnuwta.mp4',\n",
       " 'dgmevclvzy.mp4',\n",
       " 'bwhlgysghg.mp4',\n",
       " 'efwfxwwlbw.mp4',\n",
       " 'aybgughjxh.mp4',\n",
       " 'atzdznmder.mp4',\n",
       " 'dtocdfbwca.mp4',\n",
       " 'aqpnvjhuzw.mp4',\n",
       " 'dakqwktlbi.mp4',\n",
       " 'curpwogllm.mp4',\n",
       " 'bnjcdrfuov.mp4',\n",
       " 'bmjzrlszhi.mp4',\n",
       " 'eahlqmfvtj.mp4',\n",
       " 'cdbsbdymzd.mp4',\n",
       " 'cyclgfjdrv.mp4',\n",
       " 'dakiztgtnw.mp4',\n",
       " 'efdyrflcpg.mp4',\n",
       " 'axoygtekut.mp4',\n",
       " 'bsfmwclnqy.mp4',\n",
       " 'bhsluedavd.mp4',\n",
       " 'byijojkdba.mp4',\n",
       " 'apatcsqejh.mp4',\n",
       " 'ebebgmtlcu.mp4',\n",
       " 'ayqvfdhslr.mp4',\n",
       " 'aladcziidp.mp4',\n",
       " 'cwwandrkus.mp4',\n",
       " 'degpbqvcay.mp4',\n",
       " 'bhaaboftbc.mp4',\n",
       " 'eggbjzxnmg.mp4',\n",
       " 'dkhlttuvmx.mp4',\n",
       " 'drtbksnpol.mp4',\n",
       " 'emaalmsonj.mp4',\n",
       " 'adhsbajydo.mp4',\n",
       " 'azpuxunqyo.mp4',\n",
       " 'bseamdrpbj.mp4',\n",
       " 'cprhtltsjp.mp4',\n",
       " 'byunigvnay.mp4',\n",
       " 'dcamvmuors.mp4',\n",
       " 'ahdbuwqxit.mp4',\n",
       " 'beyebyhrph.mp4',\n",
       " 'egghxjjmfg.mp4',\n",
       " 'eiwopxzjfn.mp4',\n",
       " 'apogckdfrz.mp4',\n",
       " 'btohlidmru.mp4',\n",
       " 'cdaxixbosp.mp4',\n",
       " 'doanjploai.mp4',\n",
       " 'beboztfcme.mp4',\n",
       " 'amowujxmzc.mp4',\n",
       " 'bdgipnyobr.mp4',\n",
       " 'czkdanyadc.mp4',\n",
       " 'ecwaxgutkc.mp4',\n",
       " 'bwipwzzxxu.mp4',\n",
       " 'bqhtpqmmqp.mp4',\n",
       " 'dnyvfblxpm.mp4',\n",
       " 'aelfnikyqj.mp4',\n",
       " 'etohcvnzbj.mp4',\n",
       " 'aneclqfpbt.mp4',\n",
       " 'aipfdnwpoo.mp4',\n",
       " 'adohikbdaz.mp4',\n",
       " 'diqraixiov.mp4',\n",
       " 'ensyyivobf.mp4',\n",
       " 'etmcruaihe.mp4',\n",
       " 'awukslzjra.mp4',\n",
       " 'dkuayagnmc.mp4',\n",
       " 'ejkqesyvam.mp4',\n",
       " 'brwrlczjvi.mp4',\n",
       " 'apgjqzkoma.mp4',\n",
       " 'drgjzlxzxj.mp4',\n",
       " 'btiysiskpf.mp4',\n",
       " 'aevrfsexku.mp4',\n",
       " 'arrhsnjqku.mp4',\n",
       " 'ddhfabwpuz.mp4',\n",
       " 'asmpfjfzif.mp4',\n",
       " 'dptbnjnkdg.mp4',\n",
       " 'bbhpvrmbse.mp4',\n",
       " 'eeyhxisdfh.mp4',\n",
       " 'cyboodqqyr.mp4',\n",
       " 'dvumqqhoac.mp4',\n",
       " 'eckvhdusax.mp4',\n",
       " 'cdphtzqrvp.mp4',\n",
       " 'dzqwgqewhu.mp4',\n",
       " 'bghphrsfxf.mp4',\n",
       " 'avnqydkqjj.mp4',\n",
       " 'ebeknhudxq.mp4',\n",
       " 'byofowlkki.mp4',\n",
       " 'cobjrlugvp.mp4',\n",
       " 'esckbnkkvb.mp4',\n",
       " 'byqzyxifza.mp4',\n",
       " 'dhxctgyoqj.mp4',\n",
       " 'bkwxhglwct.mp4',\n",
       " 'cwrtyzndpx.mp4',\n",
       " 'bmhvktyiwp.mp4',\n",
       " 'cxfujlvsuw.mp4',\n",
       " 'avywawptfc.mp4',\n",
       " 'esxrvsgpvb.mp4',\n",
       " 'dgxrqjdomn.mp4',\n",
       " 'dozyddhild.mp4',\n",
       " 'azsmewqghg.mp4',\n",
       " 'btunxncpjh.mp4',\n",
       " 'dsdoseflas.mp4',\n",
       " 'czfunozvwp.mp4',\n",
       " 'ehevsxtecd.mp4',\n",
       " 'dboxtiehng.mp4',\n",
       " 'boovltmuwi.mp4',\n",
       " 'ceymbecxnj.mp4',\n",
       " 'axntxmycwd.mp4',\n",
       " 'aufmsmnoye.mp4',\n",
       " 'bndybcqhfr.mp4',\n",
       " 'ctpqeykqdp.mp4',\n",
       " 'cmxcfkrjiv.mp4',\n",
       " 'ckbdwedgmc.mp4',\n",
       " 'cbbibzcoih.mp4',\n",
       " 'bydaidkpdp.mp4',\n",
       " 'ekkdjkirzq.mp4',\n",
       " 'btjlfpzbdu.mp4',\n",
       " 'bweezhfpzp.mp4',\n",
       " 'aelzhcnwgf.mp4',\n",
       " 'eudeqjhdfd.mp4',\n",
       " 'bhpwpydzpo.mp4',\n",
       " 'bqqpbzjgup.mp4',\n",
       " 'dxuliowugt.mp4',\n",
       " 'ehbnclaukr.mp4',\n",
       " 'bjjbwsqjir.mp4',\n",
       " 'cknyxaqouy.mp4',\n",
       " 'anpuvshzoo.mp4',\n",
       " 'bvgwelbeof.mp4',\n",
       " 'bzmdrafeex.mp4',\n",
       " 'drcyabprvt.mp4',\n",
       " 'esgftaficx.mp4',\n",
       " 'ebchwmwayp.mp4',\n",
       " 'eqvuznuwsa.mp4',\n",
       " 'esnntzzajv.mp4',\n",
       " 'cmbzllswnl.mp4',\n",
       " 'aapnvogymq.mp4',\n",
       " 'etdcqxabww.mp4',\n",
       " 'bzythlfnhq.mp4',\n",
       " 'ecujsjhscd.mp4',\n",
       " 'cqfugiqupm.mp4',\n",
       " 'dxuplhwvig.mp4',\n",
       " 'aklqzsddfl.mp4',\n",
       " 'emfbhytfhc.mp4',\n",
       " 'djvtbgwdcc.mp4',\n",
       " 'bjkmjilrxp.mp4',\n",
       " 'bchnbulevv.mp4',\n",
       " 'dkdwxmtpuo.mp4',\n",
       " 'alaijyygdv.mp4',\n",
       " 'bdnaqemxmr.mp4',\n",
       " 'akxoopqjqz.mp4',\n",
       " 'byfenovjnf.mp4',\n",
       " 'dbnygxtwek.mp4',\n",
       " 'dbzpcjntve.mp4',\n",
       " 'dzyuwjkjui.mp4',\n",
       " 'axwovszumc.mp4',\n",
       " 'bkvetcojbt.mp4',\n",
       " 'cbltdtxglo.mp4',\n",
       " 'ccmonzqfrz.mp4',\n",
       " 'erqgqacbqe.mp4',\n",
       " 'cwbacdwrzo.mp4',\n",
       " 'btxlttbpkj.mp4',\n",
       " 'dofusvhnib.mp4',\n",
       " 'cqhngvpgyi.mp4',\n",
       " 'elvvackpjh.mp4',\n",
       " 'cuzrgrbvil.mp4',\n",
       " 'cyxlcuyznd.mp4',\n",
       " 'erlvuvjsjf.mp4',\n",
       " 'bbvgxeczei.mp4',\n",
       " 'covdcysmbi.mp4',\n",
       " 'deywhkarol.mp4',\n",
       " 'cthdnahrkh.mp4',\n",
       " 'cttqtsjvgn.mp4',\n",
       " 'bqnymlsayl.mp4',\n",
       " 'eixwxvxbbn.mp4',\n",
       " 'atyntldecu.mp4',\n",
       " 'duzuusuajr.mp4',\n",
       " 'eejswgycjc.mp4',\n",
       " 'esyhwdfnxs.mp4',\n",
       " 'benmsfzfaz.mp4',\n",
       " 'adylbeequz.mp4',\n",
       " 'chzieimrwu.mp4',\n",
       " 'avtycwsgyb.mp4',\n",
       " 'dnhvalzvrt.mp4',\n",
       " 'avibnnhwhp.mp4',\n",
       " 'dxbqjxrhin.mp4',\n",
       " 'cfyduhpbps.mp4',\n",
       " 'blpchvmhxx.mp4',\n",
       " 'cettndmvzl.mp4',\n",
       " 'aybumesmpk.mp4',\n",
       " 'dqnyszdong.mp4',\n",
       " 'diuzrpqjli.mp4',\n",
       " 'ehtdtkmmli.mp4',\n",
       " 'abqwwspghj.mp4',\n",
       " 'dqzreruvje.mp4',\n",
       " 'aknbdpmgua.mp4',\n",
       " 'bwuwstvsbw.mp4',\n",
       " 'akzbnazxtz.mp4',\n",
       " 'cwqlvzefpg.mp4',\n",
       " 'bmbbkwmxqj.mp4',\n",
       " 'aytzyidmgs.mp4',\n",
       " 'eajlrktemq.mp4',\n",
       " 'arkroixhey.mp4',\n",
       " 'clrycekyst.mp4',\n",
       " 'acifjvzvpm.mp4',\n",
       " 'eqnoqyfquo.mp4',\n",
       " 'eebserckhh.mp4',\n",
       " 'dcuiiorugd.mp4',\n",
       " 'dlrsbscitn.mp4',\n",
       " 'dulanfulol.mp4',\n",
       " 'dzwkmcwkwl.mp4',\n",
       " 'dqswpjoepo.mp4',\n",
       " 'alvgwypubw.mp4',\n",
       " 'ddepeddixj.mp4',\n",
       " 'agrmhtjdlk.mp4',\n",
       " 'eqjscdagiv.mp4',\n",
       " 'ajqslcypsw.mp4',\n",
       " 'cxrfacemmq.mp4',\n",
       " 'drsakwyvqv.mp4',\n",
       " 'bejhvclboh.mp4',\n",
       " 'ddqccgmtka.mp4',\n",
       " 'ahfazfbntc.mp4',\n",
       " 'dhjmzhrcav.mp4',\n",
       " 'agqphdxmwt.mp4',\n",
       " 'bahdpoesir.mp4',\n",
       " 'caifxvsozs.mp4',\n",
       " 'bntlodcfeg.mp4',\n",
       " 'dbtbbhakdv.mp4',\n",
       " 'ccfoszqabv.mp4',\n",
       " 'avgiuextiz.mp4',\n",
       " 'aknmpoonls.mp4',\n",
       " 'deyyistcrd.mp4',\n",
       " 'dnexlwbcxq.mp4',\n",
       " 'cppdvdejkc.mp4',\n",
       " 'eiriyukqqy.mp4',\n",
       " 'abarnvbtwb.mp4',\n",
       " 'dqppxmoqdl.mp4',\n",
       " 'atvmxvwyns.mp4',\n",
       " 'alninxcyhg.mp4',\n",
       " 'ehfiekigla.mp4',\n",
       " 'agdkmztvby.mp4',\n",
       " 'brvqtabyxj.mp4',\n",
       " 'bgmlwsoamc.mp4',\n",
       " 'dzieklokdr.mp4',\n",
       " 'bourlmzsio.mp4',\n",
       " 'akvmwkdyuv.mp4',\n",
       " 'ecnihjlfyt.mp4',\n",
       " 'ebkzwjgjhq.mp4']"
      ]
     },
     "execution_count": 3,
     "metadata": {},
     "output_type": "execute_result"
    }
   ],
   "source": [
    "videos"
   ]
  },
  {
   "cell_type": "code",
   "execution_count": 4,
   "metadata": {
    "ExecuteTime": {
     "end_time": "2019-12-30T03:00:05.687272Z",
     "start_time": "2019-12-30T03:00:05.673247Z"
    },
    "scrolled": false
   },
   "outputs": [
    {
     "data": {
      "text/html": [
       "<div>\n",
       "<style scoped>\n",
       "    .dataframe tbody tr th:only-of-type {\n",
       "        vertical-align: middle;\n",
       "    }\n",
       "\n",
       "    .dataframe tbody tr th {\n",
       "        vertical-align: top;\n",
       "    }\n",
       "\n",
       "    .dataframe thead th {\n",
       "        text-align: right;\n",
       "    }\n",
       "</style>\n",
       "<table border=\"1\" class=\"dataframe\">\n",
       "  <thead>\n",
       "    <tr style=\"text-align: right;\">\n",
       "      <th></th>\n",
       "      <th>index</th>\n",
       "      <th>label</th>\n",
       "      <th>split</th>\n",
       "      <th>original</th>\n",
       "    </tr>\n",
       "  </thead>\n",
       "  <tbody>\n",
       "    <tr>\n",
       "      <th>0</th>\n",
       "      <td>aagfhgtpmv.mp4</td>\n",
       "      <td>FAKE</td>\n",
       "      <td>train</td>\n",
       "      <td>vudstovrck.mp4</td>\n",
       "    </tr>\n",
       "    <tr>\n",
       "      <th>1</th>\n",
       "      <td>aapnvogymq.mp4</td>\n",
       "      <td>FAKE</td>\n",
       "      <td>train</td>\n",
       "      <td>jdubbvfswz.mp4</td>\n",
       "    </tr>\n",
       "    <tr>\n",
       "      <th>2</th>\n",
       "      <td>abarnvbtwb.mp4</td>\n",
       "      <td>REAL</td>\n",
       "      <td>train</td>\n",
       "      <td>None</td>\n",
       "    </tr>\n",
       "    <tr>\n",
       "      <th>3</th>\n",
       "      <td>abofeumbvv.mp4</td>\n",
       "      <td>FAKE</td>\n",
       "      <td>train</td>\n",
       "      <td>atvmxvwyns.mp4</td>\n",
       "    </tr>\n",
       "    <tr>\n",
       "      <th>4</th>\n",
       "      <td>abqwwspghj.mp4</td>\n",
       "      <td>FAKE</td>\n",
       "      <td>train</td>\n",
       "      <td>qzimuostzz.mp4</td>\n",
       "    </tr>\n",
       "    <tr>\n",
       "      <th>...</th>\n",
       "      <td>...</td>\n",
       "      <td>...</td>\n",
       "      <td>...</td>\n",
       "      <td>...</td>\n",
       "    </tr>\n",
       "    <tr>\n",
       "      <th>395</th>\n",
       "      <td>etejaapnxh.mp4</td>\n",
       "      <td>FAKE</td>\n",
       "      <td>train</td>\n",
       "      <td>wtreibcmgm.mp4</td>\n",
       "    </tr>\n",
       "    <tr>\n",
       "      <th>396</th>\n",
       "      <td>etmcruaihe.mp4</td>\n",
       "      <td>FAKE</td>\n",
       "      <td>train</td>\n",
       "      <td>afoovlsmtx.mp4</td>\n",
       "    </tr>\n",
       "    <tr>\n",
       "      <th>397</th>\n",
       "      <td>etohcvnzbj.mp4</td>\n",
       "      <td>FAKE</td>\n",
       "      <td>train</td>\n",
       "      <td>bdnaqemxmr.mp4</td>\n",
       "    </tr>\n",
       "    <tr>\n",
       "      <th>398</th>\n",
       "      <td>eudeqjhdfd.mp4</td>\n",
       "      <td>REAL</td>\n",
       "      <td>train</td>\n",
       "      <td>None</td>\n",
       "    </tr>\n",
       "    <tr>\n",
       "      <th>399</th>\n",
       "      <td>eukvucdetx.mp4</td>\n",
       "      <td>FAKE</td>\n",
       "      <td>train</td>\n",
       "      <td>gjypopglvi.mp4</td>\n",
       "    </tr>\n",
       "  </tbody>\n",
       "</table>\n",
       "<p>400 rows × 4 columns</p>\n",
       "</div>"
      ],
      "text/plain": [
       "              index label  split        original\n",
       "0    aagfhgtpmv.mp4  FAKE  train  vudstovrck.mp4\n",
       "1    aapnvogymq.mp4  FAKE  train  jdubbvfswz.mp4\n",
       "2    abarnvbtwb.mp4  REAL  train            None\n",
       "3    abofeumbvv.mp4  FAKE  train  atvmxvwyns.mp4\n",
       "4    abqwwspghj.mp4  FAKE  train  qzimuostzz.mp4\n",
       "..              ...   ...    ...             ...\n",
       "395  etejaapnxh.mp4  FAKE  train  wtreibcmgm.mp4\n",
       "396  etmcruaihe.mp4  FAKE  train  afoovlsmtx.mp4\n",
       "397  etohcvnzbj.mp4  FAKE  train  bdnaqemxmr.mp4\n",
       "398  eudeqjhdfd.mp4  REAL  train            None\n",
       "399  eukvucdetx.mp4  FAKE  train  gjypopglvi.mp4\n",
       "\n",
       "[400 rows x 4 columns]"
      ]
     },
     "execution_count": 4,
     "metadata": {},
     "output_type": "execute_result"
    }
   ],
   "source": [
    "df"
   ]
  },
  {
   "cell_type": "markdown",
   "metadata": {},
   "source": [
    "## Load video"
   ]
  },
  {
   "cell_type": "code",
   "execution_count": 5,
   "metadata": {
    "ExecuteTime": {
     "end_time": "2019-12-30T03:00:05.694245Z",
     "start_time": "2019-12-30T03:00:05.688248Z"
    }
   },
   "outputs": [],
   "source": [
    "class Video:\n",
    "    def __init__(self, path):\n",
    "        self.path = path\n",
    "        self.container = imageio.get_reader(path, 'ffmpeg')\n",
    "        self.length = self.container.count_frames()\n",
    "        self.fps = self.container.get_meta_data()['fps']\n",
    "    \n",
    "    def init_head(self):\n",
    "        self.container.set_image_index(0)\n",
    "    \n",
    "    def next_frame(self):\n",
    "        self.container.get_next_data()\n",
    "    \n",
    "    def get(self, key):\n",
    "        return self.container.get_data(key)\n",
    "    \n",
    "    def __call__(self, key):\n",
    "        return self.get(key)\n",
    "    \n",
    "    def __len__(self):\n",
    "        return self.length"
   ]
  },
  {
   "cell_type": "markdown",
   "metadata": {},
   "source": [
    "## Prepare faces for SSD300/SSD512"
   ]
  },
  {
   "cell_type": "code",
   "execution_count": 6,
   "metadata": {
    "ExecuteTime": {
     "end_time": "2019-12-30T03:00:05.699245Z",
     "start_time": "2019-12-30T03:00:05.695246Z"
    }
   },
   "outputs": [],
   "source": [
    "def save_obj(obj, name, path):\n",
    "    with open(path + name + '.pkl', 'wb') as f:\n",
    "        pickle.dump(obj, f, pickle.HIGHEST_PROTOCOL)\n",
    "\n",
    "def load_obj(name, path):\n",
    "    with open(path + name + '.pkl', 'rb') as f:\n",
    "        return pickle.load(f)"
   ]
  },
  {
   "cell_type": "code",
   "execution_count": 7,
   "metadata": {
    "ExecuteTime": {
     "end_time": "2019-12-30T03:00:05.710244Z",
     "start_time": "2019-12-30T03:00:05.700246Z"
    }
   },
   "outputs": [],
   "source": [
    "class FacesFromVideo:\n",
    "    def __init__(self, video, video_file_name, frame_interval, detector, total_frames=None):\n",
    "        self.video = video\n",
    "        self.detector = detector\n",
    "        self.video_file_name = video_file_name\n",
    "        self.frame_interval = frame_interval\n",
    "        self.max_frame = video.__len__() if total_frames == None \\\n",
    "            else np.minimum(total_frames * self.frame_interval, video.__len__())\n",
    "        \n",
    "    def extract_faces_from_img(self, img, frame_nr):\n",
    "        faces = {}\n",
    "        results = self.detector.detect_faces(img)\n",
    "        for idx, res in enumerate(results): # Iterate each face per image\n",
    "            box = np.array(res['box'])\n",
    "            box[box < 0] = 0\n",
    "            x1, y1, width, height = box\n",
    "            x2, y2 = x1 + width, y1 + height\n",
    "            face = img[y1:y2, x1:x2]\n",
    "            key = str(str(frame_nr) + '_' + str(idx))\n",
    "            if res['confidence'] > 0.95:\n",
    "                faces[key] = {}\n",
    "                faces[key]['coordinates'] = {'x1': x1, \n",
    "                                             'y1': y1, \n",
    "                                             'width': width, \n",
    "                                             'height': height}\n",
    "                faces[key]['keypoints'] = res['keypoints']\n",
    "                faces[key]['confidence'] = res['confidence']\n",
    "\n",
    "        return faces\n",
    "    \n",
    "    def save_img(self, img, frame_nr):\n",
    "        image = Image.fromarray(img)\n",
    "        image.save('../face_detection/{}_{}.{}'.format(self.video_file_name.split('.')[0], frame_nr, 'png'))\n",
    "    \n",
    "    def start(self):\n",
    "        faces_per_frame = {}\n",
    "        for frame_nr in range(0, self.max_frame, self.frame_interval):\n",
    "            img = video.get(frame_nr)\n",
    "            try:\n",
    "                faces = self.extract_faces_from_img(img, frame_nr)\n",
    "                self.save_img(img, frame_nr)\n",
    "                faces_per_frame.update(faces)\n",
    "            except KeyboardInterrupt:\n",
    "                print('Interrupted')\n",
    "                raise\n",
    "            except:\n",
    "                print('something went wrong with ' + self.video_file_name)\n",
    "\n",
    "        return faces_per_frame"
   ]
  },
  {
   "cell_type": "code",
   "execution_count": 8,
   "metadata": {
    "ExecuteTime": {
     "end_time": "2019-12-30T03:00:07.194247Z",
     "start_time": "2019-12-30T03:00:05.712245Z"
    }
   },
   "outputs": [],
   "source": [
    "train_path = '../deepfake_train_full'\n",
    "train_folders = [os.path.join(train_path, x) for x in os.listdir(train_path) if x[-1] != 'p']\n",
    "train_video_folders = [os.path.join(x, os.listdir(x)[0]) for x in train_folders]\n",
    "detector = MTCNN()"
   ]
  },
  {
   "cell_type": "code",
   "execution_count": 9,
   "metadata": {
    "ExecuteTime": {
     "end_time": "2019-12-30T03:00:07.403268Z",
     "start_time": "2019-12-30T03:00:07.195245Z"
    }
   },
   "outputs": [],
   "source": [
    "face_coordinates_per_video = load_obj('face_coordinates_per_video', '../face_detection/')"
   ]
  },
  {
   "cell_type": "code",
   "execution_count": 10,
   "metadata": {
    "ExecuteTime": {
     "end_time": "2019-12-30T12:48:45.108015Z",
     "start_time": "2019-12-30T03:00:07.404248Z"
    },
    "scrolled": true
   },
   "outputs": [
    {
     "ename": "KeyboardInterrupt",
     "evalue": "",
     "output_type": "error",
     "traceback": [
      "\u001b[1;31m---------------------------------------------------------------------------\u001b[0m",
      "\u001b[1;31mKeyboardInterrupt\u001b[0m                         Traceback (most recent call last)",
      "\u001b[1;32m<ipython-input-10-ac581eed6896>\u001b[0m in \u001b[0;36m<module>\u001b[1;34m\u001b[0m\n\u001b[0;32m      7\u001b[0m         faces_from_video = FacesFromVideo(video=video, video_file_name=video_file_name, \\\n\u001b[0;32m      8\u001b[0m                                           frame_interval=75, detector=detector, total_frames=3)\n\u001b[1;32m----> 9\u001b[1;33m         \u001b[0mfaces_per_frame\u001b[0m \u001b[1;33m=\u001b[0m \u001b[0mfaces_from_video\u001b[0m\u001b[1;33m.\u001b[0m\u001b[0mstart\u001b[0m\u001b[1;33m(\u001b[0m\u001b[1;33m)\u001b[0m\u001b[1;33m\u001b[0m\u001b[1;33m\u001b[0m\u001b[0m\n\u001b[0m\u001b[0;32m     10\u001b[0m         \u001b[0mface_coordinates_per_video\u001b[0m\u001b[1;33m[\u001b[0m\u001b[0mvideo_file_name\u001b[0m\u001b[1;33m]\u001b[0m \u001b[1;33m=\u001b[0m \u001b[0mfaces_per_frame\u001b[0m\u001b[1;33m\u001b[0m\u001b[1;33m\u001b[0m\u001b[0m\n\u001b[0;32m     11\u001b[0m         \u001b[1;32mif\u001b[0m \u001b[0midx\u001b[0m \u001b[1;33m%\u001b[0m \u001b[1;36m20\u001b[0m \u001b[1;33m==\u001b[0m \u001b[1;36m0\u001b[0m\u001b[1;33m:\u001b[0m\u001b[1;33m\u001b[0m\u001b[1;33m\u001b[0m\u001b[0m\n",
      "\u001b[1;32m<ipython-input-7-d32ddd7e66c9>\u001b[0m in \u001b[0;36mstart\u001b[1;34m(self)\u001b[0m\n\u001b[0;32m     36\u001b[0m         \u001b[0mfaces_per_frame\u001b[0m \u001b[1;33m=\u001b[0m \u001b[1;33m{\u001b[0m\u001b[1;33m}\u001b[0m\u001b[1;33m\u001b[0m\u001b[1;33m\u001b[0m\u001b[0m\n\u001b[0;32m     37\u001b[0m         \u001b[1;32mfor\u001b[0m \u001b[0mframe_nr\u001b[0m \u001b[1;32min\u001b[0m \u001b[0mrange\u001b[0m\u001b[1;33m(\u001b[0m\u001b[1;36m0\u001b[0m\u001b[1;33m,\u001b[0m \u001b[0mself\u001b[0m\u001b[1;33m.\u001b[0m\u001b[0mmax_frame\u001b[0m\u001b[1;33m,\u001b[0m \u001b[0mself\u001b[0m\u001b[1;33m.\u001b[0m\u001b[0mframe_interval\u001b[0m\u001b[1;33m)\u001b[0m\u001b[1;33m:\u001b[0m\u001b[1;33m\u001b[0m\u001b[1;33m\u001b[0m\u001b[0m\n\u001b[1;32m---> 38\u001b[1;33m             \u001b[0mimg\u001b[0m \u001b[1;33m=\u001b[0m \u001b[0mvideo\u001b[0m\u001b[1;33m.\u001b[0m\u001b[0mget\u001b[0m\u001b[1;33m(\u001b[0m\u001b[0mframe_nr\u001b[0m\u001b[1;33m)\u001b[0m\u001b[1;33m\u001b[0m\u001b[1;33m\u001b[0m\u001b[0m\n\u001b[0m\u001b[0;32m     39\u001b[0m             \u001b[1;32mtry\u001b[0m\u001b[1;33m:\u001b[0m\u001b[1;33m\u001b[0m\u001b[1;33m\u001b[0m\u001b[0m\n\u001b[0;32m     40\u001b[0m                 \u001b[0mfaces\u001b[0m \u001b[1;33m=\u001b[0m \u001b[0mself\u001b[0m\u001b[1;33m.\u001b[0m\u001b[0mextract_faces_from_img\u001b[0m\u001b[1;33m(\u001b[0m\u001b[0mimg\u001b[0m\u001b[1;33m,\u001b[0m \u001b[0mframe_nr\u001b[0m\u001b[1;33m)\u001b[0m\u001b[1;33m\u001b[0m\u001b[1;33m\u001b[0m\u001b[0m\n",
      "\u001b[1;32m<ipython-input-5-0175b86cd53d>\u001b[0m in \u001b[0;36mget\u001b[1;34m(self, key)\u001b[0m\n\u001b[0;32m     13\u001b[0m \u001b[1;33m\u001b[0m\u001b[0m\n\u001b[0;32m     14\u001b[0m     \u001b[1;32mdef\u001b[0m \u001b[0mget\u001b[0m\u001b[1;33m(\u001b[0m\u001b[0mself\u001b[0m\u001b[1;33m,\u001b[0m \u001b[0mkey\u001b[0m\u001b[1;33m)\u001b[0m\u001b[1;33m:\u001b[0m\u001b[1;33m\u001b[0m\u001b[1;33m\u001b[0m\u001b[0m\n\u001b[1;32m---> 15\u001b[1;33m         \u001b[1;32mreturn\u001b[0m \u001b[0mself\u001b[0m\u001b[1;33m.\u001b[0m\u001b[0mcontainer\u001b[0m\u001b[1;33m.\u001b[0m\u001b[0mget_data\u001b[0m\u001b[1;33m(\u001b[0m\u001b[0mkey\u001b[0m\u001b[1;33m)\u001b[0m\u001b[1;33m\u001b[0m\u001b[1;33m\u001b[0m\u001b[0m\n\u001b[0m\u001b[0;32m     16\u001b[0m \u001b[1;33m\u001b[0m\u001b[0m\n\u001b[0;32m     17\u001b[0m     \u001b[1;32mdef\u001b[0m \u001b[0m__call__\u001b[0m\u001b[1;33m(\u001b[0m\u001b[0mself\u001b[0m\u001b[1;33m,\u001b[0m \u001b[0mkey\u001b[0m\u001b[1;33m)\u001b[0m\u001b[1;33m:\u001b[0m\u001b[1;33m\u001b[0m\u001b[1;33m\u001b[0m\u001b[0m\n",
      "\u001b[1;32m~\\Anaconda3\\envs\\ml\\lib\\site-packages\\imageio\\core\\format.py\u001b[0m in \u001b[0;36mget_data\u001b[1;34m(self, index, **kwargs)\u001b[0m\n\u001b[0;32m    337\u001b[0m             \u001b[0mself\u001b[0m\u001b[1;33m.\u001b[0m\u001b[0m_BaseReaderWriter_last_index\u001b[0m \u001b[1;33m=\u001b[0m \u001b[0mindex\u001b[0m\u001b[1;33m\u001b[0m\u001b[1;33m\u001b[0m\u001b[0m\n\u001b[0;32m    338\u001b[0m             \u001b[1;32mtry\u001b[0m\u001b[1;33m:\u001b[0m\u001b[1;33m\u001b[0m\u001b[1;33m\u001b[0m\u001b[0m\n\u001b[1;32m--> 339\u001b[1;33m                 \u001b[0mim\u001b[0m\u001b[1;33m,\u001b[0m \u001b[0mmeta\u001b[0m \u001b[1;33m=\u001b[0m \u001b[0mself\u001b[0m\u001b[1;33m.\u001b[0m\u001b[0m_get_data\u001b[0m\u001b[1;33m(\u001b[0m\u001b[0mindex\u001b[0m\u001b[1;33m,\u001b[0m \u001b[1;33m**\u001b[0m\u001b[0mkwargs\u001b[0m\u001b[1;33m)\u001b[0m\u001b[1;33m\u001b[0m\u001b[1;33m\u001b[0m\u001b[0m\n\u001b[0m\u001b[0;32m    340\u001b[0m             \u001b[1;32mexcept\u001b[0m \u001b[0mStopIteration\u001b[0m\u001b[1;33m:\u001b[0m\u001b[1;33m\u001b[0m\u001b[1;33m\u001b[0m\u001b[0m\n\u001b[0;32m    341\u001b[0m                 \u001b[1;32mraise\u001b[0m \u001b[0mIndexError\u001b[0m\u001b[1;33m(\u001b[0m\u001b[0mindex\u001b[0m\u001b[1;33m)\u001b[0m\u001b[1;33m\u001b[0m\u001b[1;33m\u001b[0m\u001b[0m\n",
      "\u001b[1;32m~\\Anaconda3\\envs\\ml\\lib\\site-packages\\imageio\\plugins\\ffmpeg.py\u001b[0m in \u001b[0;36m_get_data\u001b[1;34m(self, index)\u001b[0m\n\u001b[0;32m    381\u001b[0m                     \u001b[0mself\u001b[0m\u001b[1;33m.\u001b[0m\u001b[0m_initialize\u001b[0m\u001b[1;33m(\u001b[0m\u001b[0mindex\u001b[0m\u001b[1;33m)\u001b[0m\u001b[1;33m\u001b[0m\u001b[1;33m\u001b[0m\u001b[0m\n\u001b[0;32m    382\u001b[0m                 \u001b[1;32melse\u001b[0m\u001b[1;33m:\u001b[0m\u001b[1;33m\u001b[0m\u001b[1;33m\u001b[0m\u001b[0m\n\u001b[1;32m--> 383\u001b[1;33m                     \u001b[0mself\u001b[0m\u001b[1;33m.\u001b[0m\u001b[0m_skip_frames\u001b[0m\u001b[1;33m(\u001b[0m\u001b[0mindex\u001b[0m \u001b[1;33m-\u001b[0m \u001b[0mself\u001b[0m\u001b[1;33m.\u001b[0m\u001b[0m_pos\u001b[0m \u001b[1;33m-\u001b[0m \u001b[1;36m1\u001b[0m\u001b[1;33m)\u001b[0m\u001b[1;33m\u001b[0m\u001b[1;33m\u001b[0m\u001b[0m\n\u001b[0m\u001b[0;32m    384\u001b[0m                 \u001b[0mresult\u001b[0m\u001b[1;33m,\u001b[0m \u001b[0mis_new\u001b[0m \u001b[1;33m=\u001b[0m \u001b[0mself\u001b[0m\u001b[1;33m.\u001b[0m\u001b[0m_read_frame\u001b[0m\u001b[1;33m(\u001b[0m\u001b[1;33m)\u001b[0m\u001b[1;33m\u001b[0m\u001b[1;33m\u001b[0m\u001b[0m\n\u001b[0;32m    385\u001b[0m                 \u001b[0mself\u001b[0m\u001b[1;33m.\u001b[0m\u001b[0m_pos\u001b[0m \u001b[1;33m=\u001b[0m \u001b[0mindex\u001b[0m\u001b[1;33m\u001b[0m\u001b[1;33m\u001b[0m\u001b[0m\n",
      "\u001b[1;32m~\\Anaconda3\\envs\\ml\\lib\\site-packages\\imageio\\plugins\\ffmpeg.py\u001b[0m in \u001b[0;36m_skip_frames\u001b[1;34m(self, n)\u001b[0m\n\u001b[0;32m    471\u001b[0m             \u001b[1;34m\"\"\" Reads and throws away n frames \"\"\"\u001b[0m\u001b[1;33m\u001b[0m\u001b[1;33m\u001b[0m\u001b[0m\n\u001b[0;32m    472\u001b[0m             \u001b[1;32mfor\u001b[0m \u001b[0mi\u001b[0m \u001b[1;32min\u001b[0m \u001b[0mrange\u001b[0m\u001b[1;33m(\u001b[0m\u001b[0mn\u001b[0m\u001b[1;33m)\u001b[0m\u001b[1;33m:\u001b[0m\u001b[1;33m\u001b[0m\u001b[1;33m\u001b[0m\u001b[0m\n\u001b[1;32m--> 473\u001b[1;33m                 \u001b[0mself\u001b[0m\u001b[1;33m.\u001b[0m\u001b[0m_read_gen\u001b[0m\u001b[1;33m.\u001b[0m\u001b[0m__next__\u001b[0m\u001b[1;33m(\u001b[0m\u001b[1;33m)\u001b[0m\u001b[1;33m\u001b[0m\u001b[1;33m\u001b[0m\u001b[0m\n\u001b[0m\u001b[0;32m    474\u001b[0m             \u001b[0mself\u001b[0m\u001b[1;33m.\u001b[0m\u001b[0m_pos\u001b[0m \u001b[1;33m+=\u001b[0m \u001b[0mn\u001b[0m\u001b[1;33m\u001b[0m\u001b[1;33m\u001b[0m\u001b[0m\n\u001b[0;32m    475\u001b[0m \u001b[1;33m\u001b[0m\u001b[0m\n",
      "\u001b[1;32m~\\Anaconda3\\envs\\ml\\lib\\site-packages\\imageio_ffmpeg\\_io.py\u001b[0m in \u001b[0;36mread_frames\u001b[1;34m(path, pix_fmt, bpp, input_params, output_params)\u001b[0m\n\u001b[0;32m    166\u001b[0m                 \u001b[0mbb\u001b[0m \u001b[1;33m=\u001b[0m \u001b[0mbytes\u001b[0m\u001b[1;33m(\u001b[0m\u001b[1;33m)\u001b[0m\u001b[1;33m\u001b[0m\u001b[1;33m\u001b[0m\u001b[0m\n\u001b[0;32m    167\u001b[0m                 \u001b[1;32mwhile\u001b[0m \u001b[0mlen\u001b[0m\u001b[1;33m(\u001b[0m\u001b[0mbb\u001b[0m\u001b[1;33m)\u001b[0m \u001b[1;33m<\u001b[0m \u001b[0mframesize\u001b[0m\u001b[1;33m:\u001b[0m\u001b[1;33m\u001b[0m\u001b[1;33m\u001b[0m\u001b[0m\n\u001b[1;32m--> 168\u001b[1;33m                     \u001b[0mextra_bytes\u001b[0m \u001b[1;33m=\u001b[0m \u001b[0mp\u001b[0m\u001b[1;33m.\u001b[0m\u001b[0mstdout\u001b[0m\u001b[1;33m.\u001b[0m\u001b[0mread\u001b[0m\u001b[1;33m(\u001b[0m\u001b[0mframesize\u001b[0m \u001b[1;33m-\u001b[0m \u001b[0mlen\u001b[0m\u001b[1;33m(\u001b[0m\u001b[0mbb\u001b[0m\u001b[1;33m)\u001b[0m\u001b[1;33m)\u001b[0m\u001b[1;33m\u001b[0m\u001b[1;33m\u001b[0m\u001b[0m\n\u001b[0m\u001b[0;32m    169\u001b[0m                     \u001b[1;32mif\u001b[0m \u001b[1;32mnot\u001b[0m \u001b[0mextra_bytes\u001b[0m\u001b[1;33m:\u001b[0m\u001b[1;33m\u001b[0m\u001b[1;33m\u001b[0m\u001b[0m\n\u001b[0;32m    170\u001b[0m                         \u001b[1;32mif\u001b[0m \u001b[0mlen\u001b[0m\u001b[1;33m(\u001b[0m\u001b[0mbb\u001b[0m\u001b[1;33m)\u001b[0m \u001b[1;33m==\u001b[0m \u001b[1;36m0\u001b[0m\u001b[1;33m:\u001b[0m\u001b[1;33m\u001b[0m\u001b[1;33m\u001b[0m\u001b[0m\n",
      "\u001b[1;31mKeyboardInterrupt\u001b[0m: "
     ]
    }
   ],
   "source": [
    "# face_coordinates_per_video = {}\n",
    "for train_video_folder in train_video_folders[9:]:\n",
    "    train_videos = [os.path.join(train_video_folder, x) for x in os.listdir(train_video_folder) if x[-1] == '4']\n",
    "    for idx, train_video in enumerate(train_videos):\n",
    "        video_file_name = train_video.split('\\\\')[-1]\n",
    "        video = Video(train_video)\n",
    "        faces_from_video = FacesFromVideo(video=video, video_file_name=video_file_name, \\\n",
    "                                          frame_interval=75, detector=detector, total_frames=3)\n",
    "        faces_per_frame = faces_from_video.start()\n",
    "        face_coordinates_per_video[video_file_name] = faces_per_frame\n",
    "        if idx % 20 == 0:\n",
    "            save_obj(face_coordinates_per_video, 'face_coordinates_per_video', '../face_detection/')"
   ]
  },
  {
   "cell_type": "code",
   "execution_count": 11,
   "metadata": {
    "ExecuteTime": {
     "end_time": "2019-12-30T12:49:02.085445Z",
     "start_time": "2019-12-30T12:49:02.080469Z"
    }
   },
   "outputs": [
    {
     "data": {
      "text/plain": [
       "'../deepfake_train_full\\\\dfdc_train_part_09\\\\dfdc_train_part_9'"
      ]
     },
     "execution_count": 11,
     "metadata": {},
     "output_type": "execute_result"
    }
   ],
   "source": [
    "train_video_folder"
   ]
  },
  {
   "cell_type": "code",
   "execution_count": 12,
   "metadata": {
    "ExecuteTime": {
     "end_time": "2019-12-30T12:49:11.618004Z",
     "start_time": "2019-12-30T12:49:11.613997Z"
    },
    "scrolled": true
   },
   "outputs": [
    {
     "data": {
      "text/plain": [
       "['../deepfake_train_full\\\\dfdc_train_part_09\\\\dfdc_train_part_9',\n",
       " '../deepfake_train_full\\\\dfdc_train_part_10\\\\dfdc_train_part_10',\n",
       " '../deepfake_train_full\\\\dfdc_train_part_11\\\\dfdc_train_part_11',\n",
       " '../deepfake_train_full\\\\dfdc_train_part_12\\\\dfdc_train_part_12',\n",
       " '../deepfake_train_full\\\\dfdc_train_part_13\\\\dfdc_train_part_13',\n",
       " '../deepfake_train_full\\\\dfdc_train_part_14\\\\dfdc_train_part_14',\n",
       " '../deepfake_train_full\\\\dfdc_train_part_15\\\\dfdc_train_part_15',\n",
       " '../deepfake_train_full\\\\dfdc_train_part_16\\\\dfdc_train_part_16',\n",
       " '../deepfake_train_full\\\\dfdc_train_part_17\\\\dfdc_train_part_17',\n",
       " '../deepfake_train_full\\\\dfdc_train_part_18\\\\dfdc_train_part_18',\n",
       " '../deepfake_train_full\\\\dfdc_train_part_19\\\\dfdc_train_part_19',\n",
       " '../deepfake_train_full\\\\dfdc_train_part_20\\\\dfdc_train_part_20',\n",
       " '../deepfake_train_full\\\\dfdc_train_part_21\\\\dfdc_train_part_21',\n",
       " '../deepfake_train_full\\\\dfdc_train_part_22\\\\dfdc_train_part_22',\n",
       " '../deepfake_train_full\\\\dfdc_train_part_23\\\\dfdc_train_part_23',\n",
       " '../deepfake_train_full\\\\dfdc_train_part_24\\\\dfdc_train_part_24',\n",
       " '../deepfake_train_full\\\\dfdc_train_part_25\\\\dfdc_train_part_25',\n",
       " '../deepfake_train_full\\\\dfdc_train_part_26\\\\dfdc_train_part_26',\n",
       " '../deepfake_train_full\\\\dfdc_train_part_27\\\\dfdc_train_part_27',\n",
       " '../deepfake_train_full\\\\dfdc_train_part_28\\\\dfdc_train_part_28',\n",
       " '../deepfake_train_full\\\\dfdc_train_part_29\\\\dfdc_train_part_29',\n",
       " '../deepfake_train_full\\\\dfdc_train_part_30\\\\dfdc_train_part_30',\n",
       " '../deepfake_train_full\\\\dfdc_train_part_31\\\\dfdc_train_part_31',\n",
       " '../deepfake_train_full\\\\dfdc_train_part_32\\\\dfdc_train_part_32',\n",
       " '../deepfake_train_full\\\\dfdc_train_part_33\\\\dfdc_train_part_33',\n",
       " '../deepfake_train_full\\\\dfdc_train_part_34\\\\dfdc_train_part_34',\n",
       " '../deepfake_train_full\\\\dfdc_train_part_35\\\\dfdc_train_part_35',\n",
       " '../deepfake_train_full\\\\dfdc_train_part_36\\\\dfdc_train_part_36',\n",
       " '../deepfake_train_full\\\\dfdc_train_part_37\\\\dfdc_train_part_37',\n",
       " '../deepfake_train_full\\\\dfdc_train_part_38\\\\dfdc_train_part_38',\n",
       " '../deepfake_train_full\\\\dfdc_train_part_39\\\\dfdc_train_part_39',\n",
       " '../deepfake_train_full\\\\dfdc_train_part_40\\\\dfdc_train_part_40',\n",
       " '../deepfake_train_full\\\\dfdc_train_part_41\\\\dfdc_train_part_41',\n",
       " '../deepfake_train_full\\\\dfdc_train_part_42\\\\dfdc_train_part_42',\n",
       " '../deepfake_train_full\\\\dfdc_train_part_43\\\\dfdc_train_part_43',\n",
       " '../deepfake_train_full\\\\dfdc_train_part_44\\\\dfdc_train_part_44',\n",
       " '../deepfake_train_full\\\\dfdc_train_part_45\\\\dfdc_train_part_45',\n",
       " '../deepfake_train_full\\\\dfdc_train_part_46\\\\dfdc_train_part_46',\n",
       " '../deepfake_train_full\\\\dfdc_train_part_47\\\\dfdc_train_part_47',\n",
       " '../deepfake_train_full\\\\dfdc_train_part_48\\\\dfdc_train_part_48',\n",
       " '../deepfake_train_full\\\\dfdc_train_part_49\\\\dfdc_train_part_49']"
      ]
     },
     "execution_count": 12,
     "metadata": {},
     "output_type": "execute_result"
    }
   ],
   "source": [
    "train_video_folders[9:]"
   ]
  },
  {
   "cell_type": "code",
   "execution_count": 10,
   "metadata": {
    "ExecuteTime": {
     "end_time": "2019-12-29T11:06:34.283262Z",
     "start_time": "2019-12-29T11:06:34.278267Z"
    }
   },
   "outputs": [
    {
     "data": {
      "text/plain": [
       "4574"
      ]
     },
     "execution_count": 10,
     "metadata": {},
     "output_type": "execute_result"
    }
   ],
   "source": [
    "len(face_coordinates_per_video.keys())"
   ]
  },
  {
   "cell_type": "code",
   "execution_count": 149,
   "metadata": {
    "ExecuteTime": {
     "end_time": "2019-12-28T11:11:28.763908Z",
     "start_time": "2019-12-28T11:11:28.759904Z"
    }
   },
   "outputs": [],
   "source": [
    "save_obj(face_coordinates_per_video, 'face_coordinates_per_video', '../face_detection/')"
   ]
  },
  {
   "cell_type": "code",
   "execution_count": 150,
   "metadata": {
    "ExecuteTime": {
     "end_time": "2019-12-28T11:12:23.643555Z",
     "start_time": "2019-12-28T11:12:23.631552Z"
    }
   },
   "outputs": [
    {
     "data": {
      "text/plain": [
       "{'aagfhgtpmv.mp4': {'0_0': {'coordinates': {'x1': 338,\n",
       "    'y1': 167,\n",
       "    'width': 219,\n",
       "    'height': 291},\n",
       "   'keypoints': {'left_eye': (416, 279),\n",
       "    'right_eye': (514, 266),\n",
       "    'nose': (495, 316),\n",
       "    'mouth_left': (452, 393),\n",
       "    'mouth_right': (527, 384)},\n",
       "   'confidence': 0.9999223947525024},\n",
       "  '75_0': {'coordinates': {'x1': 851, 'y1': 202, 'width': 198, 'height': 267},\n",
       "   'keypoints': {'left_eye': (900, 306),\n",
       "    'right_eye': (992, 303),\n",
       "    'nose': (943, 349),\n",
       "    'mouth_left': (910, 412),\n",
       "    'mouth_right': (985, 410)},\n",
       "   'confidence': 0.9999959468841553},\n",
       "  '150_0': {'coordinates': {'x1': 1020,\n",
       "    'y1': 189,\n",
       "    'width': 192,\n",
       "    'height': 275},\n",
       "   'keypoints': {'left_eye': (1058, 292),\n",
       "    'right_eye': (1146, 294),\n",
       "    'nose': (1081, 339),\n",
       "    'mouth_left': (1056, 396),\n",
       "    'mouth_right': (1132, 402)},\n",
       "   'confidence': 0.9999614953994751}}}"
      ]
     },
     "execution_count": 150,
     "metadata": {},
     "output_type": "execute_result"
    }
   ],
   "source": [
    "load_obj('face_coordinates_per_video', '../face_detection/')"
   ]
  },
  {
   "cell_type": "markdown",
   "metadata": {
    "heading_collapsed": true
   },
   "source": [
    "## Other"
   ]
  },
  {
   "cell_type": "code",
   "execution_count": null,
   "metadata": {
    "hidden": true
   },
   "outputs": [],
   "source": []
  },
  {
   "cell_type": "code",
   "execution_count": null,
   "metadata": {
    "hidden": true
   },
   "outputs": [],
   "source": []
  },
  {
   "cell_type": "code",
   "execution_count": null,
   "metadata": {
    "hidden": true
   },
   "outputs": [],
   "source": []
  },
  {
   "cell_type": "code",
   "execution_count": null,
   "metadata": {
    "hidden": true
   },
   "outputs": [],
   "source": []
  },
  {
   "cell_type": "code",
   "execution_count": null,
   "metadata": {
    "hidden": true
   },
   "outputs": [],
   "source": []
  },
  {
   "cell_type": "code",
   "execution_count": 117,
   "metadata": {
    "ExecuteTime": {
     "end_time": "2019-12-27T18:05:55.708142Z",
     "start_time": "2019-12-27T18:05:02.738708Z"
    },
    "hidden": true,
    "scrolled": true
   },
   "outputs": [
    {
     "name": "stdout",
     "output_type": "stream",
     "text": [
      "aagfhgtpmv.mp4\n"
     ]
    },
    {
     "ename": "OSError",
     "evalue": "Could not load meta information\n=== stderr ===\n\n",
     "output_type": "error",
     "traceback": [
      "\u001b[1;31m---------------------------------------------------------------------------\u001b[0m",
      "\u001b[1;31mOSError\u001b[0m                                   Traceback (most recent call last)",
      "\u001b[1;32m<ipython-input-117-af7292d1a233>\u001b[0m in \u001b[0;36m<module>\u001b[1;34m\u001b[0m\n\u001b[0;32m      2\u001b[0m \u001b[1;32mfor\u001b[0m \u001b[0mfake_video_file_name\u001b[0m \u001b[1;32min\u001b[0m \u001b[0mdf\u001b[0m\u001b[1;33m[\u001b[0m\u001b[0mdf\u001b[0m\u001b[1;33m[\u001b[0m\u001b[1;34m'label'\u001b[0m\u001b[1;33m]\u001b[0m \u001b[1;33m==\u001b[0m \u001b[1;34m'FAKE'\u001b[0m\u001b[1;33m]\u001b[0m\u001b[1;33m[\u001b[0m\u001b[1;34m'index'\u001b[0m\u001b[1;33m]\u001b[0m\u001b[1;33m.\u001b[0m\u001b[0mto_numpy\u001b[0m\u001b[1;33m(\u001b[0m\u001b[1;33m)\u001b[0m\u001b[1;33m:\u001b[0m\u001b[1;33m\u001b[0m\u001b[1;33m\u001b[0m\u001b[0m\n\u001b[0;32m      3\u001b[0m     \u001b[0mprint\u001b[0m\u001b[1;33m(\u001b[0m\u001b[0mfake_video_file_name\u001b[0m\u001b[1;33m)\u001b[0m\u001b[1;33m\u001b[0m\u001b[1;33m\u001b[0m\u001b[0m\n\u001b[1;32m----> 4\u001b[1;33m     \u001b[0mvideo\u001b[0m \u001b[1;33m=\u001b[0m \u001b[0mVideo\u001b[0m\u001b[1;33m(\u001b[0m\u001b[0mos\u001b[0m\u001b[1;33m.\u001b[0m\u001b[0mpath\u001b[0m\u001b[1;33m.\u001b[0m\u001b[0mjoin\u001b[0m\u001b[1;33m(\u001b[0m\u001b[0mvideos_folder\u001b[0m\u001b[1;33m,\u001b[0m \u001b[0mfake_video_file_name\u001b[0m\u001b[1;33m)\u001b[0m\u001b[1;33m)\u001b[0m\u001b[1;33m\u001b[0m\u001b[1;33m\u001b[0m\u001b[0m\n\u001b[0m\u001b[0;32m      5\u001b[0m     \u001b[0mfaces_from_video\u001b[0m \u001b[1;33m=\u001b[0m \u001b[0mFacesFromVideo\u001b[0m\u001b[1;33m(\u001b[0m\u001b[0mvideo\u001b[0m\u001b[1;33m=\u001b[0m\u001b[0mvideo\u001b[0m\u001b[1;33m,\u001b[0m \u001b[0mframe_interval\u001b[0m\u001b[1;33m=\u001b[0m\u001b[1;36m25\u001b[0m\u001b[1;33m,\u001b[0m \u001b[0mtotal_frames\u001b[0m\u001b[1;33m=\u001b[0m\u001b[1;36m5\u001b[0m\u001b[1;33m)\u001b[0m\u001b[1;33m\u001b[0m\u001b[1;33m\u001b[0m\u001b[0m\n\u001b[0;32m      6\u001b[0m     \u001b[1;32mbreak\u001b[0m\u001b[1;33m\u001b[0m\u001b[1;33m\u001b[0m\u001b[0m\n",
      "\u001b[1;32m<ipython-input-87-0175b86cd53d>\u001b[0m in \u001b[0;36m__init__\u001b[1;34m(self, path)\u001b[0m\n\u001b[0;32m      2\u001b[0m     \u001b[1;32mdef\u001b[0m \u001b[0m__init__\u001b[0m\u001b[1;33m(\u001b[0m\u001b[0mself\u001b[0m\u001b[1;33m,\u001b[0m \u001b[0mpath\u001b[0m\u001b[1;33m)\u001b[0m\u001b[1;33m:\u001b[0m\u001b[1;33m\u001b[0m\u001b[1;33m\u001b[0m\u001b[0m\n\u001b[0;32m      3\u001b[0m         \u001b[0mself\u001b[0m\u001b[1;33m.\u001b[0m\u001b[0mpath\u001b[0m \u001b[1;33m=\u001b[0m \u001b[0mpath\u001b[0m\u001b[1;33m\u001b[0m\u001b[1;33m\u001b[0m\u001b[0m\n\u001b[1;32m----> 4\u001b[1;33m         \u001b[0mself\u001b[0m\u001b[1;33m.\u001b[0m\u001b[0mcontainer\u001b[0m \u001b[1;33m=\u001b[0m \u001b[0mimageio\u001b[0m\u001b[1;33m.\u001b[0m\u001b[0mget_reader\u001b[0m\u001b[1;33m(\u001b[0m\u001b[0mpath\u001b[0m\u001b[1;33m,\u001b[0m \u001b[1;34m'ffmpeg'\u001b[0m\u001b[1;33m)\u001b[0m\u001b[1;33m\u001b[0m\u001b[1;33m\u001b[0m\u001b[0m\n\u001b[0m\u001b[0;32m      5\u001b[0m         \u001b[0mself\u001b[0m\u001b[1;33m.\u001b[0m\u001b[0mlength\u001b[0m \u001b[1;33m=\u001b[0m \u001b[0mself\u001b[0m\u001b[1;33m.\u001b[0m\u001b[0mcontainer\u001b[0m\u001b[1;33m.\u001b[0m\u001b[0mcount_frames\u001b[0m\u001b[1;33m(\u001b[0m\u001b[1;33m)\u001b[0m\u001b[1;33m\u001b[0m\u001b[1;33m\u001b[0m\u001b[0m\n\u001b[0;32m      6\u001b[0m         \u001b[0mself\u001b[0m\u001b[1;33m.\u001b[0m\u001b[0mfps\u001b[0m \u001b[1;33m=\u001b[0m \u001b[0mself\u001b[0m\u001b[1;33m.\u001b[0m\u001b[0mcontainer\u001b[0m\u001b[1;33m.\u001b[0m\u001b[0mget_meta_data\u001b[0m\u001b[1;33m(\u001b[0m\u001b[1;33m)\u001b[0m\u001b[1;33m[\u001b[0m\u001b[1;34m'fps'\u001b[0m\u001b[1;33m]\u001b[0m\u001b[1;33m\u001b[0m\u001b[1;33m\u001b[0m\u001b[0m\n",
      "\u001b[1;32m~\\Anaconda3\\envs\\ml\\lib\\site-packages\\imageio\\core\\functions.py\u001b[0m in \u001b[0;36mget_reader\u001b[1;34m(uri, format, mode, **kwargs)\u001b[0m\n\u001b[0;32m    184\u001b[0m \u001b[1;33m\u001b[0m\u001b[0m\n\u001b[0;32m    185\u001b[0m     \u001b[1;31m# Return its reader object\u001b[0m\u001b[1;33m\u001b[0m\u001b[1;33m\u001b[0m\u001b[1;33m\u001b[0m\u001b[0m\n\u001b[1;32m--> 186\u001b[1;33m     \u001b[1;32mreturn\u001b[0m \u001b[0mformat\u001b[0m\u001b[1;33m.\u001b[0m\u001b[0mget_reader\u001b[0m\u001b[1;33m(\u001b[0m\u001b[0mrequest\u001b[0m\u001b[1;33m)\u001b[0m\u001b[1;33m\u001b[0m\u001b[1;33m\u001b[0m\u001b[0m\n\u001b[0m\u001b[0;32m    187\u001b[0m \u001b[1;33m\u001b[0m\u001b[0m\n\u001b[0;32m    188\u001b[0m \u001b[1;33m\u001b[0m\u001b[0m\n",
      "\u001b[1;32m~\\Anaconda3\\envs\\ml\\lib\\site-packages\\imageio\\core\\format.py\u001b[0m in \u001b[0;36mget_reader\u001b[1;34m(self, request)\u001b[0m\n\u001b[0;32m    162\u001b[0m                 \u001b[1;34m\"Format %s cannot read in mode %r\"\u001b[0m \u001b[1;33m%\u001b[0m \u001b[1;33m(\u001b[0m\u001b[0mself\u001b[0m\u001b[1;33m.\u001b[0m\u001b[0mname\u001b[0m\u001b[1;33m,\u001b[0m \u001b[0mselect_mode\u001b[0m\u001b[1;33m)\u001b[0m\u001b[1;33m\u001b[0m\u001b[1;33m\u001b[0m\u001b[0m\n\u001b[0;32m    163\u001b[0m             )\n\u001b[1;32m--> 164\u001b[1;33m         \u001b[1;32mreturn\u001b[0m \u001b[0mself\u001b[0m\u001b[1;33m.\u001b[0m\u001b[0mReader\u001b[0m\u001b[1;33m(\u001b[0m\u001b[0mself\u001b[0m\u001b[1;33m,\u001b[0m \u001b[0mrequest\u001b[0m\u001b[1;33m)\u001b[0m\u001b[1;33m\u001b[0m\u001b[1;33m\u001b[0m\u001b[0m\n\u001b[0m\u001b[0;32m    165\u001b[0m \u001b[1;33m\u001b[0m\u001b[0m\n\u001b[0;32m    166\u001b[0m     \u001b[1;32mdef\u001b[0m \u001b[0mget_writer\u001b[0m\u001b[1;33m(\u001b[0m\u001b[0mself\u001b[0m\u001b[1;33m,\u001b[0m \u001b[0mrequest\u001b[0m\u001b[1;33m)\u001b[0m\u001b[1;33m:\u001b[0m\u001b[1;33m\u001b[0m\u001b[1;33m\u001b[0m\u001b[0m\n",
      "\u001b[1;32m~\\Anaconda3\\envs\\ml\\lib\\site-packages\\imageio\\core\\format.py\u001b[0m in \u001b[0;36m__init__\u001b[1;34m(self, format, request)\u001b[0m\n\u001b[0;32m    212\u001b[0m             \u001b[0mself\u001b[0m\u001b[1;33m.\u001b[0m\u001b[0m_request\u001b[0m \u001b[1;33m=\u001b[0m \u001b[0mrequest\u001b[0m\u001b[1;33m\u001b[0m\u001b[1;33m\u001b[0m\u001b[0m\n\u001b[0;32m    213\u001b[0m             \u001b[1;31m# Open the reader/writer\u001b[0m\u001b[1;33m\u001b[0m\u001b[1;33m\u001b[0m\u001b[1;33m\u001b[0m\u001b[0m\n\u001b[1;32m--> 214\u001b[1;33m             \u001b[0mself\u001b[0m\u001b[1;33m.\u001b[0m\u001b[0m_open\u001b[0m\u001b[1;33m(\u001b[0m\u001b[1;33m**\u001b[0m\u001b[0mself\u001b[0m\u001b[1;33m.\u001b[0m\u001b[0mrequest\u001b[0m\u001b[1;33m.\u001b[0m\u001b[0mkwargs\u001b[0m\u001b[1;33m.\u001b[0m\u001b[0mcopy\u001b[0m\u001b[1;33m(\u001b[0m\u001b[1;33m)\u001b[0m\u001b[1;33m)\u001b[0m\u001b[1;33m\u001b[0m\u001b[1;33m\u001b[0m\u001b[0m\n\u001b[0m\u001b[0;32m    215\u001b[0m \u001b[1;33m\u001b[0m\u001b[0m\n\u001b[0;32m    216\u001b[0m         \u001b[1;33m@\u001b[0m\u001b[0mproperty\u001b[0m\u001b[1;33m\u001b[0m\u001b[1;33m\u001b[0m\u001b[0m\n",
      "\u001b[1;32m~\\Anaconda3\\envs\\ml\\lib\\site-packages\\imageio\\plugins\\ffmpeg.py\u001b[0m in \u001b[0;36m_open\u001b[1;34m(self, loop, size, dtype, pixelformat, print_info, ffmpeg_params, input_params, output_params, fps)\u001b[0m\n\u001b[0;32m    321\u001b[0m \u001b[1;33m\u001b[0m\u001b[0m\n\u001b[0;32m    322\u001b[0m             \u001b[1;31m# Start ffmpeg subprocess and get meta information\u001b[0m\u001b[1;33m\u001b[0m\u001b[1;33m\u001b[0m\u001b[1;33m\u001b[0m\u001b[0m\n\u001b[1;32m--> 323\u001b[1;33m             \u001b[0mself\u001b[0m\u001b[1;33m.\u001b[0m\u001b[0m_initialize\u001b[0m\u001b[1;33m(\u001b[0m\u001b[1;33m)\u001b[0m\u001b[1;33m\u001b[0m\u001b[1;33m\u001b[0m\u001b[0m\n\u001b[0m\u001b[0;32m    324\u001b[0m \u001b[1;33m\u001b[0m\u001b[0m\n\u001b[0;32m    325\u001b[0m             \u001b[1;31m# For cameras, create thread that keeps reading the images\u001b[0m\u001b[1;33m\u001b[0m\u001b[1;33m\u001b[0m\u001b[1;33m\u001b[0m\u001b[0m\n",
      "\u001b[1;32m~\\Anaconda3\\envs\\ml\\lib\\site-packages\\imageio\\plugins\\ffmpeg.py\u001b[0m in \u001b[0;36m_initialize\u001b[1;34m(self, index)\u001b[0m\n\u001b[0;32m    464\u001b[0m                     \u001b[0mself\u001b[0m\u001b[1;33m.\u001b[0m\u001b[0m_meta\u001b[0m\u001b[1;33m.\u001b[0m\u001b[0mupdate\u001b[0m\u001b[1;33m(\u001b[0m\u001b[0mmeta\u001b[0m\u001b[1;33m)\u001b[0m\u001b[1;33m\u001b[0m\u001b[1;33m\u001b[0m\u001b[0m\n\u001b[0;32m    465\u001b[0m             \u001b[1;32melif\u001b[0m \u001b[0mindex\u001b[0m \u001b[1;33m==\u001b[0m \u001b[1;36m0\u001b[0m\u001b[1;33m:\u001b[0m\u001b[1;33m\u001b[0m\u001b[1;33m\u001b[0m\u001b[0m\n\u001b[1;32m--> 466\u001b[1;33m                 \u001b[0mself\u001b[0m\u001b[1;33m.\u001b[0m\u001b[0m_meta\u001b[0m\u001b[1;33m.\u001b[0m\u001b[0mupdate\u001b[0m\u001b[1;33m(\u001b[0m\u001b[0mself\u001b[0m\u001b[1;33m.\u001b[0m\u001b[0m_read_gen\u001b[0m\u001b[1;33m.\u001b[0m\u001b[0m__next__\u001b[0m\u001b[1;33m(\u001b[0m\u001b[1;33m)\u001b[0m\u001b[1;33m)\u001b[0m\u001b[1;33m\u001b[0m\u001b[1;33m\u001b[0m\u001b[0m\n\u001b[0m\u001b[0;32m    467\u001b[0m             \u001b[1;32melse\u001b[0m\u001b[1;33m:\u001b[0m\u001b[1;33m\u001b[0m\u001b[1;33m\u001b[0m\u001b[0m\n\u001b[0;32m    468\u001b[0m                 \u001b[0mself\u001b[0m\u001b[1;33m.\u001b[0m\u001b[0m_read_gen\u001b[0m\u001b[1;33m.\u001b[0m\u001b[0m__next__\u001b[0m\u001b[1;33m(\u001b[0m\u001b[1;33m)\u001b[0m  \u001b[1;31m# we already have meta data\u001b[0m\u001b[1;33m\u001b[0m\u001b[1;33m\u001b[0m\u001b[0m\n",
      "\u001b[1;32m~\\Anaconda3\\envs\\ml\\lib\\site-packages\\imageio_ffmpeg\\_io.py\u001b[0m in \u001b[0;36mread_frames\u001b[1;34m(path, pix_fmt, bpp, input_params, output_params)\u001b[0m\n\u001b[0;32m    148\u001b[0m             \u001b[0merr2\u001b[0m \u001b[1;33m=\u001b[0m \u001b[0mlog_catcher\u001b[0m\u001b[1;33m.\u001b[0m\u001b[0mget_text\u001b[0m\u001b[1;33m(\u001b[0m\u001b[1;36m0.2\u001b[0m\u001b[1;33m)\u001b[0m\u001b[1;33m\u001b[0m\u001b[1;33m\u001b[0m\u001b[0m\n\u001b[0;32m    149\u001b[0m             \u001b[0mfmt\u001b[0m \u001b[1;33m=\u001b[0m \u001b[1;34m\"Could not load meta information\\n=== stderr ===\\n{}\"\u001b[0m\u001b[1;33m\u001b[0m\u001b[1;33m\u001b[0m\u001b[0m\n\u001b[1;32m--> 150\u001b[1;33m             \u001b[1;32mraise\u001b[0m \u001b[0mIOError\u001b[0m\u001b[1;33m(\u001b[0m\u001b[0mfmt\u001b[0m\u001b[1;33m.\u001b[0m\u001b[0mformat\u001b[0m\u001b[1;33m(\u001b[0m\u001b[0merr2\u001b[0m\u001b[1;33m)\u001b[0m\u001b[1;33m)\u001b[0m\u001b[1;33m\u001b[0m\u001b[1;33m\u001b[0m\u001b[0m\n\u001b[0m\u001b[0;32m    151\u001b[0m         \u001b[1;32melif\u001b[0m \u001b[1;34m\"No such file or directory\"\u001b[0m \u001b[1;32min\u001b[0m \u001b[0mlog_catcher\u001b[0m\u001b[1;33m.\u001b[0m\u001b[0mheader\u001b[0m\u001b[1;33m:\u001b[0m\u001b[1;33m\u001b[0m\u001b[1;33m\u001b[0m\u001b[0m\n\u001b[0;32m    152\u001b[0m             \u001b[1;32mraise\u001b[0m \u001b[0mIOError\u001b[0m\u001b[1;33m(\u001b[0m\u001b[1;34m\"{} not found! Wrong path?\"\u001b[0m\u001b[1;33m.\u001b[0m\u001b[0mformat\u001b[0m\u001b[1;33m(\u001b[0m\u001b[0mpath\u001b[0m\u001b[1;33m)\u001b[0m\u001b[1;33m)\u001b[0m\u001b[1;33m\u001b[0m\u001b[1;33m\u001b[0m\u001b[0m\n",
      "\u001b[1;31mOSError\u001b[0m: Could not load meta information\n=== stderr ===\n\n"
     ]
    }
   ],
   "source": [
    "crops = {}\n",
    "for fake_video_file_name in df[df['label'] == 'FAKE']['index'].to_numpy():\n",
    "    print(fake_video_file_name)\n",
    "    video = Video(os.path.join(videos_folder, fake_video_file_name))\n",
    "    faces_from_video = FacesFromVideo(video=video, frame_interval=25, total_frames=5)\n",
    "    break\n",
    "    \n",
    "    \n",
    "    \n",
    "#     faces_from_video = extract_faces_from_video(video, 25, max_frames=20)\n",
    "#     save_crops('../to_be_annotated_fake/', fake_video_file_name.split('.')[0], faces_from_video)\n",
    "#     remove_img_from_faces_from_video(faces_from_video)\n",
    "#     crops[fake_video_file_name] = faces_from_video\n",
    "# save_obj(crops, 'crops')"
   ]
  },
  {
   "cell_type": "code",
   "execution_count": null,
   "metadata": {
    "hidden": true
   },
   "outputs": [],
   "source": []
  },
  {
   "cell_type": "code",
   "execution_count": 98,
   "metadata": {
    "ExecuteTime": {
     "end_time": "2019-12-27T17:06:51.165868Z",
     "start_time": "2019-12-27T17:06:51.161866Z"
    },
    "hidden": true
   },
   "outputs": [],
   "source": [
    "train_path = '../deepfake_train_full'\n",
    "train_folders = [os.path.join(train_path, x) for x in os.listdir(train_path) if x[-1] != 'p']\n",
    "train_video_folders = [os.path.join(x, os.listdir(x)[0]) for x in train_folders]"
   ]
  },
  {
   "cell_type": "code",
   "execution_count": 111,
   "metadata": {
    "ExecuteTime": {
     "end_time": "2019-12-27T17:18:01.600420Z",
     "start_time": "2019-12-27T17:18:01.592423Z"
    },
    "hidden": true,
    "scrolled": true
   },
   "outputs": [],
   "source": [
    "train_folders = [os.path.join(train_path, x) for x in os.listdir(train_path) if x[-1] != 'p']\n",
    "train_video_folders = [os.path.join(x, os.listdir(x)[0]) for x in train_folders]"
   ]
  },
  {
   "cell_type": "code",
   "execution_count": 112,
   "metadata": {
    "ExecuteTime": {
     "end_time": "2019-12-27T17:18:05.065540Z",
     "start_time": "2019-12-27T17:18:05.061541Z"
    },
    "hidden": true
   },
   "outputs": [
    {
     "data": {
      "text/plain": [
       "'../deepfake_train_full\\\\dfdc_train_part_00\\\\dfdc_train_part_0'"
      ]
     },
     "execution_count": 112,
     "metadata": {},
     "output_type": "execute_result"
    }
   ],
   "source": [
    "train_video_folders[0]"
   ]
  },
  {
   "cell_type": "code",
   "execution_count": 114,
   "metadata": {
    "ExecuteTime": {
     "end_time": "2019-12-27T17:18:09.879540Z",
     "start_time": "2019-12-27T17:18:09.863538Z"
    },
    "hidden": true
   },
   "outputs": [
    {
     "data": {
      "text/plain": [
       "['aaqaifqrwn.mp4',\n",
       " 'aayrffkzxn.mp4',\n",
       " 'abhggqdift.mp4',\n",
       " 'acagallncj.mp4',\n",
       " 'acdkfksyev.mp4',\n",
       " 'achdeirhym.mp4',\n",
       " 'acryukkddn.mp4',\n",
       " 'adftmlvzfs.mp4',\n",
       " 'aegvtnwqoe.mp4',\n",
       " 'aejvkfbtxs.mp4',\n",
       " 'aeqpxjlbwu.mp4',\n",
       " 'ahhdprhoww.mp4',\n",
       " 'aimzesksew.mp4',\n",
       " 'aiuimrebtg.mp4',\n",
       " 'ajeegjgyzk.mp4',\n",
       " 'akpuczgfpk.mp4',\n",
       " 'alhqaurncj.mp4',\n",
       " 'alidfjtwvg.mp4',\n",
       " 'alnkzqihau.mp4',\n",
       " 'alpkghdgrv.mp4',\n",
       " 'ambabjrwbt.mp4',\n",
       " 'amluexcfvi.mp4',\n",
       " 'ansbtntiqu.mp4',\n",
       " 'aoydktojny.mp4',\n",
       " 'apedduehoy.mp4',\n",
       " 'apmzxocjio.mp4',\n",
       " 'apvzjkvnwn.mp4',\n",
       " 'apzckowxpy.mp4',\n",
       " 'arwyjgnvlp.mp4',\n",
       " 'asdzplbhnm.mp4',\n",
       " 'asxhhsants.mp4',\n",
       " 'atpngxfnhr.mp4',\n",
       " 'atrteuctxr.mp4',\n",
       " 'atzwrsivnb.mp4',\n",
       " 'augowetyej.mp4',\n",
       " 'augwyjvlqa.mp4',\n",
       " 'auquqlmsts.mp4',\n",
       " 'avoqheikrk.mp4',\n",
       " 'avznxuwvbx.mp4',\n",
       " 'awfjdqqygu.mp4',\n",
       " 'awigxxbbpb.mp4',\n",
       " 'awnfpubqmo.mp4',\n",
       " 'axbvoepbdc.mp4',\n",
       " 'axfhbpkdlc.mp4',\n",
       " 'axzjovaktp.mp4',\n",
       " 'aylqthgnhe.mp4',\n",
       " 'aymlynzeni.mp4',\n",
       " 'baiyzipjbr.mp4',\n",
       " 'bbnesewcot.mp4',\n",
       " 'bbxqtnztyy.mp4',\n",
       " 'bdnoxibdvz.mp4',\n",
       " 'bemkbovwsz.mp4',\n",
       " 'bfktkdugru.mp4',\n",
       " 'bhvnfaylpk.mp4',\n",
       " 'biatmogsbv.mp4',\n",
       " 'bihlajjbnl.mp4',\n",
       " 'birmbtezni.mp4',\n",
       " 'bjxasekfcx.mp4',\n",
       " 'bkcztuqxbp.mp4',\n",
       " 'bldeizqycp.mp4',\n",
       " 'blwvnvsbmz.mp4',\n",
       " 'bmfkkzheii.mp4',\n",
       " 'bmhghysucl.mp4',\n",
       " 'bnitzihcqs.mp4',\n",
       " 'bobihhgccf.mp4',\n",
       " 'bpguesjrfa.mp4',\n",
       " 'bqamrsyvnf.mp4',\n",
       " 'bqefygjsnx.mp4',\n",
       " 'bqvhlqlrba.mp4',\n",
       " 'brihlutndc.mp4',\n",
       " 'brpkkgdggv.mp4',\n",
       " 'brtujopkby.mp4',\n",
       " 'btizoxwqwp.mp4',\n",
       " 'btyxvpjgcc.mp4',\n",
       " 'buzdtxdyid.mp4',\n",
       " 'bwjqcwhpfr.mp4',\n",
       " 'bwlxucgxro.mp4',\n",
       " 'bwsytelwkm.mp4',\n",
       " 'bxdhnnffvw.mp4',\n",
       " 'bxgbpdjgjv.mp4',\n",
       " 'bxooifrfzo.mp4',\n",
       " 'bykgnyykta.mp4',\n",
       " 'bytfrsxnwi.mp4',\n",
       " 'bztdemptfg.mp4',\n",
       " 'bzvzpwrabw.mp4',\n",
       " 'bzxauvpscl.mp4',\n",
       " 'bzyawroeif.mp4',\n",
       " 'calhtslbzf.mp4',\n",
       " 'cbybbxuusl.mp4',\n",
       " 'cbzxykepbl.mp4',\n",
       " 'ccjiwxnihq.mp4',\n",
       " 'ccrrlidqnp.mp4',\n",
       " 'cdcdoqbdmi.mp4',\n",
       " 'cdyotmvujc.mp4',\n",
       " 'cefpmcqwex.mp4',\n",
       " 'cemftmsxis.mp4',\n",
       " 'cerwqpmouj.mp4',\n",
       " 'cfhejdmemu.mp4',\n",
       " 'cfyayetydv.mp4',\n",
       " 'chqqxfuuzi.mp4',\n",
       " 'chzqptmqxv.mp4',\n",
       " 'citnmpozjl.mp4',\n",
       " 'cjhwsuzeuz.mp4',\n",
       " 'cjndhcclqi.mp4',\n",
       " 'cjxbcxpbqi.mp4',\n",
       " 'ckfqqhpbph.mp4',\n",
       " 'clpvgmopjx.mp4',\n",
       " 'clzkcmoyhb.mp4',\n",
       " 'cmoizyxqcc.mp4',\n",
       " 'cmvymfbmlb.mp4',\n",
       " 'cogcvbbjcm.mp4',\n",
       " 'coujjnypba.mp4',\n",
       " 'cqbhgsmffd.mp4',\n",
       " 'cqhwesrciw.mp4',\n",
       " 'cqomufbzpp.mp4',\n",
       " 'cqpdqjzgcs.mp4',\n",
       " 'cqroxivqio.mp4',\n",
       " 'cqtxrekabh.mp4',\n",
       " 'crflaflooj.mp4',\n",
       " 'crwzrpozbv.mp4',\n",
       " 'csofafwrts.mp4',\n",
       " 'csqojsqtgn.mp4',\n",
       " 'cthdrbnhpo.mp4',\n",
       " 'ctooqkhtgp.mp4',\n",
       " 'ctzgudcdyu.mp4',\n",
       " 'culaevxduf.mp4',\n",
       " 'cvboojbsxa.mp4',\n",
       " 'cvdrzlkwdf.mp4',\n",
       " 'cvmcvcqpgn.mp4',\n",
       " 'cvqyddpcxj.mp4',\n",
       " 'cvycgtwfsi.mp4',\n",
       " 'cwqycdjevy.mp4',\n",
       " 'cwvpcctjgs.mp4',\n",
       " 'cxgieqcozm.mp4',\n",
       " 'cxgsjamupo.mp4',\n",
       " 'cxjtjcinqt.mp4',\n",
       " 'cybnhobdyh.mp4',\n",
       " 'cygixvotoj.mp4',\n",
       " 'cyhxxnezbo.mp4',\n",
       " 'cyifdylbln.mp4',\n",
       " 'cythdgxpdi.mp4',\n",
       " 'dabysiasvf.mp4',\n",
       " 'dahvuijxob.mp4',\n",
       " 'dbgztzhbhb.mp4',\n",
       " 'dbhthsgych.mp4',\n",
       " 'dcwnkxrsgg.mp4',\n",
       " 'ddqtkrkmjn.mp4',\n",
       " 'ddtbarpcgo.mp4',\n",
       " 'demuhxssgl.mp4',\n",
       " 'dfcoyuhhex.mp4',\n",
       " 'dflpzzixje.mp4',\n",
       " 'dghhdvdzrb.mp4',\n",
       " 'dgyeaodnzw.mp4',\n",
       " 'dhjnjkzuhq.mp4',\n",
       " 'dhyybsrvwc.mp4',\n",
       " 'dibwmyrpql.mp4',\n",
       " 'didzujjhtg.mp4',\n",
       " 'dilfhyevdv.mp4',\n",
       " 'djgbahezbh.mp4',\n",
       " 'dkenctaoes.mp4',\n",
       " 'dkojxwpvza.mp4',\n",
       " 'dlfuxshert.mp4',\n",
       " 'dlpaibcwsy.mp4',\n",
       " 'dlrcprykef.mp4',\n",
       " 'dlybulufda.mp4',\n",
       " 'dmirtsrziw.mp4',\n",
       " 'doiljuhamq.mp4',\n",
       " 'dolynaukae.mp4',\n",
       " 'doniqevxeg.mp4',\n",
       " 'dootttqtvv.mp4',\n",
       " 'dpevefkefv.mp4',\n",
       " 'dqlmffnywx.mp4',\n",
       " 'drjwafunon.mp4',\n",
       " 'drlkcilgmc.mp4',\n",
       " 'drmtvuyoam.mp4',\n",
       " 'drooaxkvib.mp4',\n",
       " 'dsgswagtvp.mp4',\n",
       " 'dsiirbwwyt.mp4',\n",
       " 'dsvopuhqiz.mp4',\n",
       " 'dtfyluocuh.mp4',\n",
       " 'dtjcyzgdts.mp4',\n",
       " 'dtmlspmqqp.mp4',\n",
       " 'dtwxxkuvox.mp4',\n",
       " 'dtwzjhoizi.mp4',\n",
       " 'duciovvndy.mp4',\n",
       " 'duczhwighk.mp4',\n",
       " 'dvrnrzlqdo.mp4',\n",
       " 'dwkkqhxclz.mp4',\n",
       " 'dxdzrfikon.mp4',\n",
       " 'dxfdovivlw.mp4',\n",
       " 'dxrqdhegop.mp4',\n",
       " 'dyjklprkoc.mp4',\n",
       " 'dypesfpwyi.mp4',\n",
       " 'dywronddes.mp4',\n",
       " 'dzlpfpszyv.mp4',\n",
       " 'dzpokpqpxr.mp4',\n",
       " 'ealulizawd.mp4',\n",
       " 'eauhakbohz.mp4',\n",
       " 'ebzsqgfpgh.mp4',\n",
       " 'echdilwfig.mp4',\n",
       " 'eckloytegm.mp4',\n",
       " 'ecnmwevrxo.mp4',\n",
       " 'edqhdckynd.mp4',\n",
       " 'eefzpdrrji.mp4',\n",
       " 'efktbhpilh.mp4',\n",
       " 'ehfmarmsvo.mp4',\n",
       " 'eilfbdisof.mp4',\n",
       " 'eisofhptvk.mp4',\n",
       " 'eiwtggvtfp.mp4',\n",
       " 'ejhhdlzpjg.mp4',\n",
       " 'ekkheaisuo.mp4',\n",
       " 'elxflqcpgp.mp4',\n",
       " 'embmaestpq.mp4',\n",
       " 'eneofiltbk.mp4',\n",
       " 'enhiqdvfpu.mp4',\n",
       " 'enqxsifggs.mp4',\n",
       " 'eowsoapzuj.mp4',\n",
       " 'epeyujjlhn.mp4',\n",
       " 'eppmwpntfi.mp4',\n",
       " 'eppyqpgewp.mp4',\n",
       " 'epwesrdmpt.mp4',\n",
       " 'eqakbrnwmd.mp4',\n",
       " 'erbfxwbqic.mp4',\n",
       " 'erbgcpjuzj.mp4',\n",
       " 'ernfzaruwz.mp4',\n",
       " 'escwylyxap.mp4',\n",
       " 'esjdyghhog.mp4',\n",
       " 'espkiocpxq.mp4',\n",
       " 'etdliwticv.mp4',\n",
       " 'etychryvty.mp4',\n",
       " 'euavjxseoz.mp4',\n",
       " 'eugcprxhvd.mp4',\n",
       " 'eurhttghny.mp4',\n",
       " 'euzlhrwolz.mp4',\n",
       " 'ewknjjmzqb.mp4',\n",
       " 'exseruhiuk.mp4',\n",
       " 'exxqlfpnbz.mp4',\n",
       " 'eyyigsrqff.mp4',\n",
       " 'ezzfdnllnp.mp4',\n",
       " 'fahrejqccb.mp4',\n",
       " 'faktmhmtpb.mp4',\n",
       " 'fbgfjwjrzl.mp4',\n",
       " 'fbxpssbrqp.mp4',\n",
       " 'fckxaqjbxk.mp4',\n",
       " 'fdpisghkmd.mp4',\n",
       " 'fdqafjiqtn.mp4',\n",
       " 'fdzrcjpewd.mp4',\n",
       " 'fecaapkwdm.mp4',\n",
       " 'fedcdqtboz.mp4',\n",
       " 'fgbopxbkam.mp4',\n",
       " 'fgobmbcami.mp4',\n",
       " 'fhgnmqzfca.mp4',\n",
       " 'fhtmnfeqft.mp4',\n",
       " 'fhzdtfiqrh.mp4',\n",
       " 'fjafyicjlw.mp4',\n",
       " 'fjrueenjyp.mp4',\n",
       " 'flilazlokf.mp4',\n",
       " 'fmeptfderu.mp4',\n",
       " 'fnkkqtouoz.mp4',\n",
       " 'fnslimfagb.mp4',\n",
       " 'fokjbuazgr.mp4',\n",
       " 'fonrexmbzz.mp4',\n",
       " 'fopjiyxiqd.mp4',\n",
       " 'fpcncmwzxf.mp4',\n",
       " 'fqmfvshgns.mp4',\n",
       " 'frmzkdhkzw.mp4',\n",
       " 'frqhofmoob.mp4',\n",
       " 'frsjawvaoq.mp4',\n",
       " 'fsaronfupy.mp4',\n",
       " 'fsdrwikhge.mp4',\n",
       " 'fsiunpwpqx.mp4',\n",
       " 'fswszwicfw.mp4',\n",
       " 'fufcmupzen.mp4',\n",
       " 'fuiglusbnl.mp4',\n",
       " 'furvgnwfln.mp4',\n",
       " 'fuzdxjsqvp.mp4',\n",
       " 'fxredodlkl.mp4',\n",
       " 'fxuxxtryjn.mp4',\n",
       " 'fybkxkgstv.mp4',\n",
       " 'fydhhlvjsj.mp4',\n",
       " 'fyrckgsqvg.mp4',\n",
       " 'fzkzqwoghs.mp4',\n",
       " 'fzqnoyzhbm.mp4',\n",
       " 'fzvpbrzssi.mp4',\n",
       " 'gbatfzbsjs.mp4',\n",
       " 'gbgtzspdnv.mp4',\n",
       " 'gccnvdoknm.mp4',\n",
       " 'gcdtglsoqj.mp4',\n",
       " 'gcnhqdxwqd.mp4',\n",
       " 'gcphojsohr.mp4',\n",
       " 'gczieafvpe.mp4',\n",
       " 'gecrjewspu.mp4',\n",
       " 'geknowufwz.mp4',\n",
       " 'gepzcywmsx.mp4',\n",
       " 'getmctvhmd.mp4',\n",
       " 'gfcycflhbo.mp4',\n",
       " 'gfdjzwnpyp.mp4',\n",
       " 'gfkdvulbfo.mp4',\n",
       " 'gfknvvudwk.mp4',\n",
       " 'gfncmhgdio.mp4',\n",
       " 'gfoozygynw.mp4',\n",
       " 'gilzdnbpep.mp4',\n",
       " 'gjiziopvis.mp4',\n",
       " 'gjjpzsgigh.mp4',\n",
       " 'gjxfowkaeo.mp4',\n",
       " 'gkicllwmyb.mp4',\n",
       " 'gkqitjodaa.mp4',\n",
       " 'gldlvkplzy.mp4',\n",
       " 'gmaghrdamw.mp4',\n",
       " 'gmctmgmyob.mp4',\n",
       " 'gmonvwaujc.mp4',\n",
       " 'gnlvnyrpfq.mp4',\n",
       " 'gnmmhlbzge.mp4',\n",
       " 'gnslnjrgnx.mp4',\n",
       " 'gnxgiwcknq.mp4',\n",
       " 'gnxlbuwucy.mp4',\n",
       " 'gohsbddbhu.mp4',\n",
       " 'goxbkycgkg.mp4',\n",
       " 'goyrhrvden.mp4',\n",
       " 'gozbrlxguv.mp4',\n",
       " 'gpjhljtyoq.mp4',\n",
       " 'gpskwigkxd.mp4',\n",
       " 'gpzwvdkuie.mp4',\n",
       " 'gqnaxievjx.mp4',\n",
       " 'gqnkarjtmh.mp4',\n",
       " 'grqyyhfexr.mp4',\n",
       " 'gtdjfweoyr.mp4',\n",
       " 'gtfwzfrxml.mp4',\n",
       " 'gtinxlhder.mp4',\n",
       " 'gudedkpnie.mp4',\n",
       " 'gujnhuvarb.mp4',\n",
       " 'gumgvhycum.mp4',\n",
       " 'guqayoypew.mp4',\n",
       " 'gvasarkpfh.mp4',\n",
       " 'gvbcwuyaot.mp4',\n",
       " 'gvcrwbnzpa.mp4',\n",
       " 'gvlraqlweh.mp4',\n",
       " 'gwsmeakcic.mp4',\n",
       " 'gwzfugbidx.mp4',\n",
       " 'gxonqiyzpk.mp4',\n",
       " 'gxzdueambi.mp4',\n",
       " 'gyosvoeamf.mp4',\n",
       " 'gyrdgpiygb.mp4',\n",
       " 'gzkggvloao.mp4',\n",
       " 'hasjjkoygr.mp4',\n",
       " 'haxnhfvqvs.mp4',\n",
       " 'hbdvyzpqny.mp4',\n",
       " 'hbtcuqhwyy.mp4',\n",
       " 'hcanfkwivl.mp4',\n",
       " 'hclsparpth.mp4',\n",
       " 'hcqxrwzgxt.mp4',\n",
       " 'hdgfgvcoqk.mp4',\n",
       " 'hdytjaiglk.mp4',\n",
       " 'hectzcuzdv.mp4',\n",
       " 'hefisnapds.mp4',\n",
       " 'heiyoojifp.mp4',\n",
       " 'hfeacozznh.mp4',\n",
       " 'hgjdosshpt.mp4',\n",
       " 'hhddxuhorq.mp4',\n",
       " 'hhyxweyjlt.mp4',\n",
       " 'hicjuubiau.mp4',\n",
       " 'hitfycdavv.mp4',\n",
       " 'hivnldfvyl.mp4',\n",
       " 'hjddjiqcpb.mp4',\n",
       " 'hjxckindzx.mp4',\n",
       " 'hkvcbcfulf.mp4',\n",
       " 'hldhchyhfg.mp4',\n",
       " 'hnalkvbcim.mp4',\n",
       " 'horutnradk.mp4',\n",
       " 'hphiyksrth.mp4',\n",
       " 'hplxtssgnz.mp4',\n",
       " 'hpwdlgshqg.mp4',\n",
       " 'hqcrauawma.mp4',\n",
       " 'hqxfenmiis.mp4',\n",
       " 'hqzwudvhih.mp4',\n",
       " 'hrbkraauwx.mp4',\n",
       " 'hrovzkcyjw.mp4',\n",
       " 'hsbljbsgxr.mp4',\n",
       " 'hsbrwaeaah.mp4',\n",
       " 'hsbwhlolsn.mp4',\n",
       " 'hsosrxlnzk.mp4',\n",
       " 'hsvbimzuza.mp4',\n",
       " 'hsxrmrcaqh.mp4',\n",
       " 'hthuorhwdn.mp4',\n",
       " 'htorvhbcae.mp4',\n",
       " 'hurcutcxpb.mp4',\n",
       " 'huznbaakma.mp4',\n",
       " 'hvlqewtbbf.mp4',\n",
       " 'hvqfhieetb.mp4',\n",
       " 'hwcnsgqzld.mp4',\n",
       " 'hwibtynenh.mp4',\n",
       " 'hwtupajxgl.mp4',\n",
       " 'hyjqolupxn.mp4',\n",
       " 'hzmppzxsuy.mp4',\n",
       " 'iafvzgpbix.mp4',\n",
       " 'iagkfqsiqf.mp4',\n",
       " 'iazovjywij.mp4',\n",
       " 'ibjomudxdp.mp4',\n",
       " 'idczhqbbqz.mp4',\n",
       " 'idmruoiylw.mp4',\n",
       " 'idsupeszcp.mp4',\n",
       " 'ielrrtwsdr.mp4',\n",
       " 'iffvaaswwj.mp4',\n",
       " 'ifjzcxxvcd.mp4',\n",
       " 'iftluclqfd.mp4',\n",
       " 'ihnhxathkq.mp4',\n",
       " 'ihrjvevuce.mp4',\n",
       " 'iimnvjpgoy.mp4',\n",
       " 'ijehzkozkp.mp4',\n",
       " 'ijgcwhjkua.mp4',\n",
       " 'ikjlhrwzeo.mp4',\n",
       " 'ikpyxzpiiv.mp4',\n",
       " 'ilflslfgbn.mp4',\n",
       " 'imndwwlfui.mp4',\n",
       " 'inwiunnxmr.mp4',\n",
       " 'inxftbkcqq.mp4',\n",
       " 'inzrlbgtul.mp4',\n",
       " 'iocjgjemeb.mp4',\n",
       " 'iodwjkqblp.mp4',\n",
       " 'iojmxrzvxe.mp4',\n",
       " 'ioolqahamw.mp4',\n",
       " 'iorrnxiyyo.mp4',\n",
       " 'irlgidcrvj.mp4',\n",
       " 'isgjlgucub.mp4',\n",
       " 'itfsvvmslp.mp4',\n",
       " 'itwvssoevj.mp4',\n",
       " 'iugnysiwao.mp4',\n",
       " 'iurmztyqed.mp4',\n",
       " 'ivdlxktqvk.mp4',\n",
       " 'ivtbbwejej.mp4',\n",
       " 'iwswulwtjp.mp4',\n",
       " 'iwtjnrbcbb.mp4',\n",
       " 'iyhkhsdhma.mp4',\n",
       " 'iyhzzwoqmi.mp4',\n",
       " 'iyswglziib.mp4',\n",
       " 'izjvqhjokl.mp4',\n",
       " 'jakregbmuf.mp4',\n",
       " 'jaurxwocly.mp4',\n",
       " 'jawgcggquk.mp4',\n",
       " 'jbwtvoixgc.mp4',\n",
       " 'jbxjvkdnci.mp4',\n",
       " 'jbxviammiv.mp4',\n",
       " 'jccvzepxjn.mp4',\n",
       " 'jdfaxqtpjk.mp4',\n",
       " 'jdkvgcjxje.mp4',\n",
       " 'jdzgjbqksy.mp4',\n",
       " 'jeblbsmlij.mp4',\n",
       " 'jeosukfzow.mp4',\n",
       " 'jfvsrcfame.mp4',\n",
       " 'jgdzqmqalr.mp4',\n",
       " 'jgybxxtltz.mp4',\n",
       " 'jgzwhkcrcc.mp4',\n",
       " 'jhczqfefgw.mp4',\n",
       " 'jhetgmikln.mp4',\n",
       " 'jinomojicv.mp4',\n",
       " 'jjguwagxur.mp4',\n",
       " 'jjxzidyitl.mp4',\n",
       " 'jkfoehpdnd.mp4',\n",
       " 'jkqivqkrnc.mp4',\n",
       " 'jkxjvuioek.mp4',\n",
       " 'jmcryhnksj.mp4',\n",
       " 'jmhqbsgzrg.mp4',\n",
       " 'jmkjrabiak.mp4',\n",
       " 'jmkqtjuuqu.mp4',\n",
       " 'jorfifqxhq.mp4',\n",
       " 'jphmkhpoeb.mp4',\n",
       " 'jppzzcldui.mp4',\n",
       " 'jqlsethxvz.mp4',\n",
       " 'jquevmhdvc.mp4',\n",
       " 'jqypqwufdv.mp4',\n",
       " 'jranrlmuyk.mp4',\n",
       " 'jrgfabamaa.mp4',\n",
       " 'jsbpkpxwew.mp4',\n",
       " 'jstwvimaml.mp4',\n",
       " 'jtpupxzgoa.mp4',\n",
       " 'jtrbieopvk.mp4',\n",
       " 'juzjntqofi.mp4',\n",
       " 'jvadnjprqn.mp4',\n",
       " 'jvtjxreizj.mp4',\n",
       " 'jwkgjrmfxp.mp4',\n",
       " 'jxlhrgwjdt.mp4',\n",
       " 'jxqibxwhlc.mp4',\n",
       " 'jxvoarslil.mp4',\n",
       " 'jytrvwlewz.mp4',\n",
       " 'jzupayeuln.mp4',\n",
       " 'kadzgvxsii.mp4',\n",
       " 'kafmsctues.mp4',\n",
       " 'kajzbtxqdk.mp4',\n",
       " 'kanuhxwqaa.mp4',\n",
       " 'kbssbcdcxx.mp4',\n",
       " 'kcidxranvr.mp4',\n",
       " 'kdiokpezzi.mp4',\n",
       " 'kdycxkmnnw.mp4',\n",
       " 'kdzirwrnyk.mp4',\n",
       " 'kedahvzait.mp4',\n",
       " 'keuvybqsbr.mp4',\n",
       " 'kezvvweubg.mp4',\n",
       " 'kfbdnasciu.mp4',\n",
       " 'kfgdvqjuzu.mp4',\n",
       " 'kfhmhoxjtx.mp4',\n",
       " 'kfnrvxndoj.mp4',\n",
       " 'kgcbejdwal.mp4',\n",
       " 'kgfcupxgur.mp4',\n",
       " 'khfyqlxazq.mp4',\n",
       " 'khtwrijuqn.mp4',\n",
       " 'kihrpdtbwy.mp4',\n",
       " 'kiswvzlayw.mp4',\n",
       " 'kiyuduxzuc.mp4',\n",
       " 'kjpxvgjsal.mp4',\n",
       " 'kjwnylvwuo.mp4',\n",
       " 'kjzyrkhnaf.mp4',\n",
       " 'kkemhrscxz.mp4',\n",
       " 'kkhrtmftlq.mp4',\n",
       " 'kkxgqvpusd.mp4',\n",
       " 'kmcdjxmnoa.mp4',\n",
       " 'kmhiqddyhh.mp4',\n",
       " 'knxltsvzyu.mp4',\n",
       " 'komngcqveq.mp4',\n",
       " 'koxwykmawn.mp4',\n",
       " 'kpdsblcqvg.mp4',\n",
       " 'kpmieleslf.mp4',\n",
       " 'kpwwhpqfkx.mp4',\n",
       " 'kqlvggiqee.mp4',\n",
       " 'kqsjsvinkd.mp4',\n",
       " 'kquembvlju.mp4',\n",
       " 'ksjpgrujqv.mp4',\n",
       " 'kssj"
      ]
     },
     "execution_count": 114,
     "metadata": {},
     "output_type": "execute_result"
    },
    {
     "data": {
      "text/html": [
       "<b>limit_output extension: Maximum message size of 10000 exceeded with 19004 characters</b>"
      ]
     },
     "metadata": {},
     "output_type": "display_data"
    }
   ],
   "source": [
    "os.listdir(train_video_folders[0])"
   ]
  },
  {
   "cell_type": "markdown",
   "metadata": {
    "heading_collapsed": true
   },
   "source": [
    "## Get faces from videos using CV"
   ]
  },
  {
   "cell_type": "code",
   "execution_count": 19,
   "metadata": {
    "ExecuteTime": {
     "end_time": "2019-12-26T14:01:28.391717Z",
     "start_time": "2019-12-26T14:01:28.373741Z"
    },
    "code_folding": [
     17
    ],
    "hidden": true
   },
   "outputs": [],
   "source": [
    "# extract a single face from a given photograph\n",
    "def extract_faces_from_video(video, frame_interval, max_frames=None):\n",
    "    faces_from_video = {}\n",
    "    stop = video.__len__() if max_frames == None else max_frames*frame_interval\n",
    "    stop = stop if stop <= video.__len__() else video.__len__()\n",
    "    for frame_nr in range(0, stop, frame_interval):\n",
    "        img = video.get(frame_nr)\n",
    "        faces = extract_faces_from_img(img, frame_nr)\n",
    "        faces_from_video.update(faces)\n",
    "        \n",
    "    # faces_from_video = filter_true_faces(faces_from_video)\n",
    "    return faces_from_video\n",
    "\n",
    "def get_max_faces_per_video(faces_from_video):\n",
    "    return len(np.unique(np.array([int(x.split('_')[1]) for x in faces_from_video.keys()])))\n",
    "\n",
    "def filter_true_faces(faces_from_video):\n",
    "    max_faces_per_video = get_max_faces_per_video(faces_from_video)\n",
    "    if max_faces_per_video == 1:\n",
    "        return max_faces_per_video\n",
    "    # Coordinates into dict\n",
    "    coordinates = {}\n",
    "    for key in  faces_from_video:\n",
    "        coordinates[key] = []\n",
    "        coordinates[key].append(faces_from_video[key]['coordinates'])\n",
    "            \n",
    "    #  Coordinates into array\n",
    "    data = []\n",
    "    for key in coordinates.keys():\n",
    "        for c in coordinates[key]:\n",
    "            data.append([c['x1'], c['y1'], c['width'], c['height']])\n",
    "    x = np.array(data)\n",
    "    \n",
    "    # Cluster important images only\n",
    "    kmeans = KMeans(n_clusters=max_faces_per_video, random_state=0).fit(x)\n",
    "    u, c = np.unique(kmeans.labels_, return_counts=True)\n",
    "    y = u[c == c.max()]\n",
    "    if len(y) > 1:\n",
    "        print('multiple faces equally present')\n",
    "        return faces_from_video\n",
    "    else:\n",
    "        idx = np.where(kmeans.labels_ == y[0])[0]\n",
    "        faces_keys = np.array(list(faces_from_video.keys()))[list(idx)]\n",
    "        faces_from_video = { key: faces_from_video[key] for key in faces_keys }\n",
    "\n",
    "    return faces_from_video\n",
    "\n",
    "def extract_faces_from_img(img, frame_nr):\n",
    "    faces = {}\n",
    "    detector = MTCNN()\n",
    "    results = detector.detect_faces(img)\n",
    "    for idx, res in enumerate(results):\n",
    "        box = np.array(res['box'])\n",
    "        box[box < 0] = 0\n",
    "        x1, y1, width, height = box\n",
    "        x2, y2 = x1 + width, y1 + height\n",
    "        face = img[y1:y2, x1:x2]\n",
    "        image = Image.fromarray(face)\n",
    "        key = str(str(frame_nr) + '_' + str(idx))\n",
    "        if res['confidence'] > 0.95:\n",
    "            faces[key] = {}\n",
    "            faces[key]['img'] = image\n",
    "            faces[key]['coordinates'] = {'x1': x1, \n",
    "                                         'y1': y1, \n",
    "                                         'width': width, \n",
    "                                         'height': height}\n",
    "            faces[key]['keypoints'] = res['keypoints']\n",
    "            faces[key]['confidence'] = res['confidence']\n",
    "        \n",
    "    return faces\n",
    "\n",
    "def save_crops(path, video_file_name, crops):\n",
    "    os.makedirs(path, exist_ok=True)\n",
    "    for key in crops.keys():\n",
    "        crop = crops[key]['img']\n",
    "        imwrite(os.path.join(path, '{}_{}.{}'.format(video_file_name, key, 'png')), crop)\n",
    "\n",
    "def remove_img_from_faces_from_video(faces_from_video):\n",
    "    for key in faces_from_video.keys():\n",
    "        del faces_from_video[key]['img']\n",
    "        \n",
    "def save_obj(obj, name, fake=True):\n",
    "    fake_or_true = 'fake' if fake else 'real'\n",
    "    with open('../to_be_annotated_{}/'.format(fake_or_true) + name + '.pkl', 'wb') as f:\n",
    "        pickle.dump(obj, f, pickle.HIGHEST_PROTOCOL)\n",
    "\n",
    "def load_obj(name, fake=True):\n",
    "    fake_or_true = 'fake' if fake else 'real'\n",
    "    with open('../to_be_annotated_{}/'.format(fake_or_true) + name + '.pkl', 'rb') as f:\n",
    "        return pickle.load(f)"
   ]
  },
  {
   "cell_type": "code",
   "execution_count": 245,
   "metadata": {
    "ExecuteTime": {
     "end_time": "2019-12-26T04:17:41.018437Z",
     "start_time": "2019-12-26T02:00:54.036126Z"
    },
    "deletable": false,
    "editable": false,
    "hidden": true,
    "run_control": {
     "frozen": true
    },
    "scrolled": true
   },
   "outputs": [
    {
     "name": "stdout",
     "output_type": "stream",
     "text": [
      "aagfhgtpmv.mp4\n",
      "aapnvogymq.mp4\n",
      "abofeumbvv.mp4\n",
      "abqwwspghj.mp4\n",
      "acifjvzvpm.mp4\n",
      "acqfdwsrhi.mp4\n",
      "acxnxvbsxk.mp4\n",
      "acxwigylke.mp4\n",
      "aczrgyricp.mp4\n",
      "adhsbajydo.mp4\n",
      "adohikbdaz.mp4\n",
      "adylbeequz.mp4\n",
      "aelzhcnwgf.mp4\n",
      "aettqgevhz.mp4\n",
      "aevrfsexku.mp4\n",
      "agdkmztvby.mp4\n",
      "agqphdxmwt.mp4\n",
      "ahbweevwpv.mp4\n",
      "ahdbuwqxit.mp4\n",
      "ahfazfbntc.mp4\n",
      "aipfdnwpoo.mp4\n",
      "ajwpjhrbcv.mp4\n",
      "aklqzsddfl.mp4\n",
      "aknbdpmgua.mp4\n",
      "aknmpoonls.mp4\n",
      "akvmwkdyuv.mp4\n",
      "akxoopqjqz.mp4\n",
      "akzbnazxtz.mp4\n",
      "aladcziidp.mp4\n",
      "alaijyygdv.mp4\n",
      "alninxcyhg.mp4\n",
      "altziddtxi.mp4\n",
      "alvgwypubw.mp4\n",
      "amaivqofda.mp4\n",
      "amowujxmzc.mp4\n",
      "andaxzscny.mp4\n",
      "aneclqfpbt.mp4\n",
      "aorjvbyxhw.mp4\n",
      "apatcsqejh.mp4\n",
      "apgjqzkoma.mp4\n",
      "apogckdfrz.mp4\n",
      "aqpnvjhuzw.mp4\n",
      "arkroixhey.mp4\n",
      "arlmiizoob.mp4\n",
      "arrhsnjqku.mp4\n",
      "asdpeebotb.mp4\n",
      "aslsvlvpth.mp4\n",
      "asmpfjfzif.mp4\n",
      "asvcrfdpnq.mp4\n",
      "atxvxouljq.mp4\n",
      "atyntldecu.mp4\n",
      "atzdznmder.mp4\n",
      "aufmsmnoye.mp4\n",
      "augtsuxpzc.mp4\n",
      "avfitoutyn.mp4\n",
      "avgiuextiz.mp4\n",
      "avibnnhwhp.mp4\n",
      "avnqydkqjj.mp4\n",
      "avssvvsdhz.mp4\n",
      "avtycwsgyb.mp4\n",
      "avvdgsennp.mp4\n",
      "avywawptfc.mp4\n",
      "awhmfnnjih.mp4\n",
      "awnwkrqibf.mp4\n",
      "awukslzjra.mp4\n",
      "axczxisdtb.mp4\n",
      "axoygtekut.mp4\n",
      "axwgcsyphv.mp4\n",
      "axwovszumc.mp4\n",
      "ayqvfdhslr.mp4\n",
      "azpuxunqyo.mp4\n",
      "azsmewqghg.mp4\n",
      "bahdpoesir.mp4\n",
      "bbhpvrmbse.mp4\n",
      "bbhtdfuqxq.mp4\n",
      "bbvgxeczei.mp4\n",
      "bchnbulevv.mp4\n",
      "bctvsmddgq.mp4\n",
      "bdbhekrrwo.mp4\n",
      "bdgipnyobr.mp4\n",
      "bdxuhamuqx.mp4\n",
      "benmsfzfaz.mp4\n",
      "bgaogsjehq.mp4\n",
      "bggsurpgpr.mp4\n",
      "bghphrsfxf.mp4\n",
      "bgmlwsoamc.mp4\n",
      "bguwlyazau.mp4\n",
      "bhaaboftbc.mp4\n",
      "bhbdugnurr.mp4\n",
      "bhpwpydzpo.mp4\n",
      "bhsluedavd.mp4\n",
      "bjjbwsqjir.mp4\n",
      "bjkmjilrxp.mp4\n",
      "bjsmaqefoi.mp4\n",
      "bkmdzhfzfh.mp4\n",
      "bkvetcojbt.mp4\n",
      "bkwxhglwct.mp4\n",
      "blpchvmhxx.mp4\n",
      "blzydqdfem.mp4\n",
      "bmbbkwmxqj.mp4\n",
      "bmehkyanbj.mp4\n",
      "bmhvktyiwp.mp4\n",
      "bmioepcpsx.mp4\n",
      "bmjmjmbglm.mp4\n",
      "bnbuonyoje.mp4\n",
      "bndybcqhfr.mp4\n",
      "bnjcdrfuov.mp4\n",
      "bntlodcfeg.mp4\n",
      "bofqajtwve.mp4\n",
      "boovltmuwi.mp4\n",
      "bopqhhalml.mp4\n",
      "bourlmzsio.mp4\n",
      "bpwzipqtxf.mp4\n",
      "bpxckdzddv.mp4\n",
      "bqdjzqhcft.mp4\n",
      "bqeiblbxtl.mp4\n",
      "bqhtpqmmqp.mp4\n",
      "bqkdbcqjvb.mp4\n",
      "bqnymlsayl.mp4\n",
      "bqqpbzjgup.mp4\n",
      "bqtuuwzdtr.mp4\n",
      "brhalypwoo.mp4\n",
      "brvqtabyxj.mp4\n",
      "bseamdrpbj.mp4\n",
      "bsfmwclnqy.mp4\n",
      "bsqgziaylx.mp4\n",
      "btiysiskpf.mp4\n",
      "btjlfpzbdu.mp4\n",
      "btjwbtsgln.mp4\n",
      "btmsngnqhv.mp4\n",
      "btohlidmru.mp4\n",
      "btugrnoton.mp4\n",
      "btunxncpjh.mp4\n",
      "btxlttbpkj.mp4\n",
      "bvgwelbeof.mp4\n",
      "bvzjkezkms.mp4\n",
      "bweezhfpzp.mp4\n",
      "bwuwstvsbw.mp4\n",
      "bydaidkpdp.mp4\n",
      "byfenovjnf.mp4\n",
      "byijojkdba.mp4\n",
      "byofowlkki.mp4\n",
      "byqzyxifza.mp4\n",
      "byunigvnay.mp4\n",
      "byyqectxqa.mp4\n",
      "bzmdrafeex.mp4\n",
      "caqbrkogkb.mp4\n",
      "cbbibzcoih.mp4\n",
      "cbltdtxglo.mp4\n",
      "ccmonzqfrz.mp4\n",
      "cdaxixbosp.mp4\n",
      "cdbsbdymzd.mp4\n",
      "cdphtzqrvp.mp4\n",
      "cdyakrxkia.mp4\n",
      "cepxysienc.mp4\n",
      "cettndmvzl.mp4\n",
      "ceymbecxnj.mp4\n",
      "cferslmfwh.mp4\n",
      "cffffbcywc.mp4\n",
      "cfyduhpbps.mp4\n",
      "cglxirfaey.mp4\n",
      "cgvrgibpfo.mp4\n",
      "chzieimrwu.mp4\n",
      "ckbdwedgmc.mp4\n",
      "cknyxaqouy.mp4\n",
      "cksanfsjhc.mp4\n",
      "clihsshdkq.mp4\n",
      "cmxcfkrjiv.mp4\n",
      "cnilkgvfei.mp4\n",
      "coadfnerlk.mp4\n",
      "covdcysmbi.mp4\n",
      "cqfugiqupm.mp4\n",
      "cqhngvpgyi.mp4\n",
      "cqrskwiqng.mp4\n",
      "crktehraph.mp4\n",
      "crzfebnfgb.mp4\n",
      "cthdnahrkh.mp4\n",
      "ctpqeykqdp.mp4\n",
      "cttqtsjvgn.mp4\n",
      "ctzmavwror.mp4\n",
      "curpwogllm.mp4\n",
      "cuzrgrbvil.mp4\n",
      "cvaksbpssm.mp4\n",
      "cwbacdwrzo.mp4\n",
      "cwqlvzefpg.mp4\n",
      "cwrtyzndpx.mp4\n",
      "cwsbspfzck.mp4\n",
      "cwwandrkus.mp4\n",
      "cxfujlvsuw.mp4\n",
      "cxrfacemmq.mp4\n",
      "cxttmymlbn.mp4\n",
      "cyboodqqyr.mp4\n",
      "cycacemkmt.mp4\n",
      "cyclgfjdrv.mp4\n",
      "czfunozvwp.mp4\n",
      "czkdanyadc.mp4\n",
      "czmqpxrqoh.mp4\n",
      "dafhtipaml.mp4\n",
      "dakqwktlbi.mp4\n",
      "dbhoxkblzx.mp4\n",
      "dbhrpizyeq.mp4\n",
      "dboxtiehng.mp4\n",
      "dbzcqmxzaj.mp4\n",
      "dbzpcjntve.mp4\n",
      "dcamvmuors.mp4\n",
      "dcuiiorugd.mp4\n",
      "ddhfabwpuz.mp4\n",
      "ddjggcasdw.mp4\n",
      "ddpvuimigj.mp4\n",
      "ddqccgmtka.mp4\n",
      "degpbqvcay.mp4\n",
      "deywhkarol.mp4\n",
      "deyyistcrd.mp4\n",
      "dfbpceeaox.mp4\n",
      "dgmevclvzy.mp4\n",
      "dgxrqjdomn.mp4\n",
      "dgzklxjmix.mp4\n",
      "dhcselezer.mp4\n",
      "dhevettufk.mp4\n",
      "dhjmzhrcav.mp4\n",
      "dhkwmjxwrn.mp4\n",
      "dhoqofwoxa.mp4\n",
      "diomeixhrg.mp4\n",
      "diopzaywor.mp4\n",
      "diqraixiov.mp4\n",
      "diuzrpqjli.mp4\n",
      "djvtbgwdcc.mp4\n",
      "djvutyvaio.mp4\n",
      "dkdwxmtpuo.mp4\n",
      "dkhlttuvmx.mp4\n",
      "dkrvorliqc.mp4\n",
      "dkwjwbwgey.mp4\n",
      "dlrsbscitn.mp4\n",
      "dnexlwbcxq.mp4\n",
      "dnhvalzvrt.mp4\n",
      "dntkzzzcdh.mp4\n",
      "dnyvfblxpm.mp4\n",
      "doanjploai.mp4\n",
      "dofusvhnib.mp4\n",
      "dozyddhild.mp4\n",
      "dptbnjnkdg.mp4\n",
      "dptrzdvwpg.mp4\n",
      "dqnyszdong.mp4\n",
      "dqppxmoqdl.mp4\n",
      "dqqtjcryjv.mp4\n"
     ]
    },
    {
     "ename": "ResourceExhaustedError",
     "evalue": " OOM when allocating tensor with shape[1,1150,646,10] and type float on /job:localhost/replica:0/task:0/device:GPU:0 by allocator GPU_0_bfc\n\t [[{{node p_re_lu_38773/Relu_1-0-0-TransposeNCHWToNHWC-LayoutOptimizer}}]]\nHint: If you want to see a list of allocated tensors when OOM happens, add report_tensor_allocations_upon_oom to RunOptions for current allocation info.\n [Op:__inference_keras_scratch_graph_3695396]\n\nFunction call stack:\nkeras_scratch_graph\n",
     "output_type": "error",
     "traceback": [
      "\u001b[1;31m---------------------------------------------------------------------------\u001b[0m",
      "\u001b[1;31mResourceExhaustedError\u001b[0m                    Traceback (most recent call last)",
      "\u001b[1;32m<ipython-input-245-a2ba00e1bdd3>\u001b[0m in \u001b[0;36m<module>\u001b[1;34m\u001b[0m\n\u001b[0;32m      3\u001b[0m     \u001b[0mprint\u001b[0m\u001b[1;33m(\u001b[0m\u001b[0mfake_video_file_name\u001b[0m\u001b[1;33m)\u001b[0m\u001b[1;33m\u001b[0m\u001b[1;33m\u001b[0m\u001b[0m\n\u001b[0;32m      4\u001b[0m     \u001b[0mvideo\u001b[0m \u001b[1;33m=\u001b[0m \u001b[0mVideo\u001b[0m\u001b[1;33m(\u001b[0m\u001b[0mos\u001b[0m\u001b[1;33m.\u001b[0m\u001b[0mpath\u001b[0m\u001b[1;33m.\u001b[0m\u001b[0mjoin\u001b[0m\u001b[1;33m(\u001b[0m\u001b[0mvideos_folder\u001b[0m\u001b[1;33m,\u001b[0m \u001b[0mfake_video_file_name\u001b[0m\u001b[1;33m)\u001b[0m\u001b[1;33m)\u001b[0m\u001b[1;33m\u001b[0m\u001b[1;33m\u001b[0m\u001b[0m\n\u001b[1;32m----> 5\u001b[1;33m     \u001b[0mfaces_from_video\u001b[0m \u001b[1;33m=\u001b[0m \u001b[0mextract_faces_from_video\u001b[0m\u001b[1;33m(\u001b[0m\u001b[0mvideo\u001b[0m\u001b[1;33m,\u001b[0m \u001b[1;36m25\u001b[0m\u001b[1;33m,\u001b[0m \u001b[0mmax_frames\u001b[0m\u001b[1;33m=\u001b[0m\u001b[1;36m20\u001b[0m\u001b[1;33m)\u001b[0m\u001b[1;33m\u001b[0m\u001b[1;33m\u001b[0m\u001b[0m\n\u001b[0m\u001b[0;32m      6\u001b[0m     \u001b[0msave_crops\u001b[0m\u001b[1;33m(\u001b[0m\u001b[1;34m'../to_be_annotated/'\u001b[0m\u001b[1;33m,\u001b[0m \u001b[0mfake_video_file_name\u001b[0m\u001b[1;33m.\u001b[0m\u001b[0msplit\u001b[0m\u001b[1;33m(\u001b[0m\u001b[1;34m'.'\u001b[0m\u001b[1;33m)\u001b[0m\u001b[1;33m[\u001b[0m\u001b[1;36m0\u001b[0m\u001b[1;33m]\u001b[0m\u001b[1;33m,\u001b[0m \u001b[0mfaces_from_video\u001b[0m\u001b[1;33m)\u001b[0m\u001b[1;33m\u001b[0m\u001b[1;33m\u001b[0m\u001b[0m\n\u001b[0;32m      7\u001b[0m     \u001b[0mremove_img_from_faces_from_video\u001b[0m\u001b[1;33m(\u001b[0m\u001b[0mfaces_from_video\u001b[0m\u001b[1;33m)\u001b[0m\u001b[1;33m\u001b[0m\u001b[1;33m\u001b[0m\u001b[0m\n",
      "\u001b[1;32m<ipython-input-243-e731e3549ab1>\u001b[0m in \u001b[0;36mextract_faces_from_video\u001b[1;34m(video, frame_interval, max_frames)\u001b[0m\n\u001b[0;32m      6\u001b[0m     \u001b[1;32mfor\u001b[0m \u001b[0mframe_nr\u001b[0m \u001b[1;32min\u001b[0m \u001b[0mrange\u001b[0m\u001b[1;33m(\u001b[0m\u001b[1;36m0\u001b[0m\u001b[1;33m,\u001b[0m \u001b[0mstop\u001b[0m\u001b[1;33m,\u001b[0m \u001b[0mframe_interval\u001b[0m\u001b[1;33m)\u001b[0m\u001b[1;33m:\u001b[0m\u001b[1;33m\u001b[0m\u001b[1;33m\u001b[0m\u001b[0m\n\u001b[0;32m      7\u001b[0m         \u001b[0mimg\u001b[0m \u001b[1;33m=\u001b[0m \u001b[0mvideo\u001b[0m\u001b[1;33m.\u001b[0m\u001b[0mget\u001b[0m\u001b[1;33m(\u001b[0m\u001b[0mframe_nr\u001b[0m\u001b[1;33m)\u001b[0m\u001b[1;33m\u001b[0m\u001b[1;33m\u001b[0m\u001b[0m\n\u001b[1;32m----> 8\u001b[1;33m         \u001b[0mfaces\u001b[0m \u001b[1;33m=\u001b[0m \u001b[0mextract_faces_from_img\u001b[0m\u001b[1;33m(\u001b[0m\u001b[0mimg\u001b[0m\u001b[1;33m,\u001b[0m \u001b[0mframe_nr\u001b[0m\u001b[1;33m)\u001b[0m\u001b[1;33m\u001b[0m\u001b[1;33m\u001b[0m\u001b[0m\n\u001b[0m\u001b[0;32m      9\u001b[0m         \u001b[0mfaces_from_video\u001b[0m\u001b[1;33m.\u001b[0m\u001b[0mupdate\u001b[0m\u001b[1;33m(\u001b[0m\u001b[0mfaces\u001b[0m\u001b[1;33m)\u001b[0m\u001b[1;33m\u001b[0m\u001b[1;33m\u001b[0m\u001b[0m\n\u001b[0;32m     10\u001b[0m \u001b[1;33m\u001b[0m\u001b[0m\n",
      "\u001b[1;32m<ipython-input-243-e731e3549ab1>\u001b[0m in \u001b[0;36mextract_faces_from_img\u001b[1;34m(img, frame_nr)\u001b[0m\n\u001b[0;32m     49\u001b[0m     \u001b[0mfaces\u001b[0m \u001b[1;33m=\u001b[0m \u001b[1;33m{\u001b[0m\u001b[1;33m}\u001b[0m\u001b[1;33m\u001b[0m\u001b[1;33m\u001b[0m\u001b[0m\n\u001b[0;32m     50\u001b[0m     \u001b[0mdetector\u001b[0m \u001b[1;33m=\u001b[0m \u001b[0mMTCNN\u001b[0m\u001b[1;33m(\u001b[0m\u001b[1;33m)\u001b[0m\u001b[1;33m\u001b[0m\u001b[1;33m\u001b[0m\u001b[0m\n\u001b[1;32m---> 51\u001b[1;33m     \u001b[0mresults\u001b[0m \u001b[1;33m=\u001b[0m \u001b[0mdetector\u001b[0m\u001b[1;33m.\u001b[0m\u001b[0mdetect_faces\u001b[0m\u001b[1;33m(\u001b[0m\u001b[0mimg\u001b[0m\u001b[1;33m)\u001b[0m\u001b[1;33m\u001b[0m\u001b[1;33m\u001b[0m\u001b[0m\n\u001b[0m\u001b[0;32m     52\u001b[0m     \u001b[1;32mfor\u001b[0m \u001b[0midx\u001b[0m\u001b[1;33m,\u001b[0m \u001b[0mres\u001b[0m \u001b[1;32min\u001b[0m \u001b[0menumerate\u001b[0m\u001b[1;33m(\u001b[0m\u001b[0mresults\u001b[0m\u001b[1;33m)\u001b[0m\u001b[1;33m:\u001b[0m\u001b[1;33m\u001b[0m\u001b[1;33m\u001b[0m\u001b[0m\n\u001b[0;32m     53\u001b[0m         \u001b[0mbox\u001b[0m \u001b[1;33m=\u001b[0m \u001b[0mnp\u001b[0m\u001b[1;33m.\u001b[0m\u001b[0marray\u001b[0m\u001b[1;33m(\u001b[0m\u001b[0mres\u001b[0m\u001b[1;33m[\u001b[0m\u001b[1;34m'box'\u001b[0m\u001b[1;33m]\u001b[0m\u001b[1;33m)\u001b[0m\u001b[1;33m\u001b[0m\u001b[1;33m\u001b[0m\u001b[0m\n",
      "\u001b[1;32m~\\Anaconda3\\envs\\ml\\lib\\site-packages\\mtcnn\\mtcnn.py\u001b[0m in \u001b[0;36mdetect_faces\u001b[1;34m(self, img)\u001b[0m\n\u001b[0;32m    300\u001b[0m         \u001b[1;31m# We pipe here each of the stages\u001b[0m\u001b[1;33m\u001b[0m\u001b[1;33m\u001b[0m\u001b[1;33m\u001b[0m\u001b[0m\n\u001b[0;32m    301\u001b[0m         \u001b[1;32mfor\u001b[0m \u001b[0mstage\u001b[0m \u001b[1;32min\u001b[0m \u001b[0mstages\u001b[0m\u001b[1;33m:\u001b[0m\u001b[1;33m\u001b[0m\u001b[1;33m\u001b[0m\u001b[0m\n\u001b[1;32m--> 302\u001b[1;33m             \u001b[0mresult\u001b[0m \u001b[1;33m=\u001b[0m \u001b[0mstage\u001b[0m\u001b[1;33m(\u001b[0m\u001b[0mimg\u001b[0m\u001b[1;33m,\u001b[0m \u001b[0mresult\u001b[0m\u001b[1;33m[\u001b[0m\u001b[1;36m0\u001b[0m\u001b[1;33m]\u001b[0m\u001b[1;33m,\u001b[0m \u001b[0mresult\u001b[0m\u001b[1;33m[\u001b[0m\u001b[1;36m1\u001b[0m\u001b[1;33m]\u001b[0m\u001b[1;33m)\u001b[0m\u001b[1;33m\u001b[0m\u001b[1;33m\u001b[0m\u001b[0m\n\u001b[0m\u001b[0;32m    303\u001b[0m \u001b[1;33m\u001b[0m\u001b[0m\n\u001b[0;32m    304\u001b[0m         \u001b[1;33m[\u001b[0m\u001b[0mtotal_boxes\u001b[0m\u001b[1;33m,\u001b[0m \u001b[0mpoints\u001b[0m\u001b[1;33m]\u001b[0m \u001b[1;33m=\u001b[0m \u001b[0mresult\u001b[0m\u001b[1;33m\u001b[0m\u001b[1;33m\u001b[0m\u001b[0m\n",
      "\u001b[1;32m~\\Anaconda3\\envs\\ml\\lib\\site-packages\\mtcnn\\mtcnn.py\u001b[0m in \u001b[0;36m__stage1\u001b[1;34m(self, image, scales, stage_status)\u001b[0m\n\u001b[0;32m    340\u001b[0m             \u001b[0mimg_y\u001b[0m \u001b[1;33m=\u001b[0m \u001b[0mnp\u001b[0m\u001b[1;33m.\u001b[0m\u001b[0mtranspose\u001b[0m\u001b[1;33m(\u001b[0m\u001b[0mimg_x\u001b[0m\u001b[1;33m,\u001b[0m \u001b[1;33m(\u001b[0m\u001b[1;36m0\u001b[0m\u001b[1;33m,\u001b[0m \u001b[1;36m2\u001b[0m\u001b[1;33m,\u001b[0m \u001b[1;36m1\u001b[0m\u001b[1;33m,\u001b[0m \u001b[1;36m3\u001b[0m\u001b[1;33m)\u001b[0m\u001b[1;33m)\u001b[0m\u001b[1;33m\u001b[0m\u001b[1;33m\u001b[0m\u001b[0m\n\u001b[0;32m    341\u001b[0m \u001b[1;33m\u001b[0m\u001b[0m\n\u001b[1;32m--> 342\u001b[1;33m             \u001b[0mout\u001b[0m \u001b[1;33m=\u001b[0m \u001b[0mself\u001b[0m\u001b[1;33m.\u001b[0m\u001b[0m_pnet\u001b[0m\u001b[1;33m.\u001b[0m\u001b[0mpredict\u001b[0m\u001b[1;33m(\u001b[0m\u001b[0mimg_y\u001b[0m\u001b[1;33m)\u001b[0m\u001b[1;33m\u001b[0m\u001b[1;33m\u001b[0m\u001b[0m\n\u001b[0m\u001b[0;32m    343\u001b[0m \u001b[1;33m\u001b[0m\u001b[0m\n\u001b[0;32m    344\u001b[0m             \u001b[0mout0\u001b[0m \u001b[1;33m=\u001b[0m \u001b[0mnp\u001b[0m\u001b[1;33m.\u001b[0m\u001b[0mtranspose\u001b[0m\u001b[1;33m(\u001b[0m\u001b[0mout\u001b[0m\u001b[1;33m[\u001b[0m\u001b[1;36m0\u001b[0m\u001b[1;33m]\u001b[0m\u001b[1;33m,\u001b[0m \u001b[1;33m(\u001b[0m\u001b[1;36m0\u001b[0m\u001b[1;33m,\u001b[0m \u001b[1;36m2\u001b[0m\u001b[1;33m,\u001b[0m \u001b[1;36m1\u001b[0m\u001b[1;33m,\u001b[0m \u001b[1;36m3\u001b[0m\u001b[1;33m)\u001b[0m\u001b[1;33m)\u001b[0m\u001b[1;33m\u001b[0m\u001b[1;33m\u001b[0m\u001b[0m\n",
      "\u001b[1;32m~\\Anaconda3\\envs\\ml\\lib\\site-packages\\keras\\engine\\training.py\u001b[0m in \u001b[0;36mpredict\u001b[1;34m(self, x, batch_size, verbose, steps, callbacks, max_queue_size, workers, use_multiprocessing)\u001b[0m\n\u001b[0;32m   1460\u001b[0m                                             \u001b[0mverbose\u001b[0m\u001b[1;33m=\u001b[0m\u001b[0mverbose\u001b[0m\u001b[1;33m,\u001b[0m\u001b[1;33m\u001b[0m\u001b[1;33m\u001b[0m\u001b[0m\n\u001b[0;32m   1461\u001b[0m                                             \u001b[0msteps\u001b[0m\u001b[1;33m=\u001b[0m\u001b[0msteps\u001b[0m\u001b[1;33m,\u001b[0m\u001b[1;33m\u001b[0m\u001b[1;33m\u001b[0m\u001b[0m\n\u001b[1;32m-> 1462\u001b[1;33m                                             callbacks=callbacks)\n\u001b[0m\u001b[0;32m   1463\u001b[0m \u001b[1;33m\u001b[0m\u001b[0m\n\u001b[0;32m   1464\u001b[0m     def train_on_batch(self, x, y,\n",
      "\u001b[1;32m~\\Anaconda3\\envs\\ml\\lib\\site-packages\\keras\\engine\\training_arrays.py\u001b[0m in \u001b[0;36mpredict_loop\u001b[1;34m(model, f, ins, batch_size, verbose, steps, callbacks)\u001b[0m\n\u001b[0;32m    322\u001b[0m             \u001b[0mbatch_logs\u001b[0m \u001b[1;33m=\u001b[0m \u001b[1;33m{\u001b[0m\u001b[1;34m'batch'\u001b[0m\u001b[1;33m:\u001b[0m \u001b[0mbatch_index\u001b[0m\u001b[1;33m,\u001b[0m \u001b[1;34m'size'\u001b[0m\u001b[1;33m:\u001b[0m \u001b[0mlen\u001b[0m\u001b[1;33m(\u001b[0m\u001b[0mbatch_ids\u001b[0m\u001b[1;33m)\u001b[0m\u001b[1;33m}\u001b[0m\u001b[1;33m\u001b[0m\u001b[1;33m\u001b[0m\u001b[0m\n\u001b[0;32m    323\u001b[0m             \u001b[0mcallbacks\u001b[0m\u001b[1;33m.\u001b[0m\u001b[0m_call_batch_hook\u001b[0m\u001b[1;33m(\u001b[0m\u001b[1;34m'predict'\u001b[0m\u001b[1;33m,\u001b[0m \u001b[1;34m'begin'\u001b[0m\u001b[1;33m,\u001b[0m \u001b[0mbatch_index\u001b[0m\u001b[1;33m,\u001b[0m \u001b[0mbatch_logs\u001b[0m\u001b[1;33m)\u001b[0m\u001b[1;33m\u001b[0m\u001b[1;33m\u001b[0m\u001b[0m\n\u001b[1;32m--> 324\u001b[1;33m             \u001b[0mbatch_outs\u001b[0m \u001b[1;33m=\u001b[0m \u001b[0mf\u001b[0m\u001b[1;33m(\u001b[0m\u001b[0mins_batch\u001b[0m\u001b[1;33m)\u001b[0m\u001b[1;33m\u001b[0m\u001b[1;33m\u001b[0m\u001b[0m\n\u001b[0m\u001b[0;32m    325\u001b[0m             \u001b[0mbatch_outs\u001b[0m \u001b[1;33m=\u001b[0m \u001b[0mto_list\u001b[0m\u001b[1;33m(\u001b[0m\u001b[0mbatch_outs\u001b[0m\u001b[1;33m)\u001b[0m\u001b[1;33m\u001b[0m\u001b[1;33m\u001b[0m\u001b[0m\n\u001b[0;32m    326\u001b[0m             \u001b[1;32mif\u001b[0m \u001b[0mbatch_index\u001b[0m \u001b[1;33m==\u001b[0m \u001b[1;36m0\u001b[0m\u001b[1;33m:\u001b[0m\u001b[1;33m\u001b[0m\u001b[1;33m\u001b[0m\u001b[0m\n",
      "\u001b[1;32m~\\Anaconda3\\envs\\ml\\lib\\site-packages\\tensorflow_core\\python\\keras\\backend.py\u001b[0m in \u001b[0;36m__call__\u001b[1;34m(self, inputs)\u001b[0m\n\u001b[0;32m   3738\u001b[0m         \u001b[0mvalue\u001b[0m \u001b[1;33m=\u001b[0m \u001b[0mmath_ops\u001b[0m\u001b[1;33m.\u001b[0m\u001b[0mcast\u001b[0m\u001b[1;33m(\u001b[0m\u001b[0mvalue\u001b[0m\u001b[1;33m,\u001b[0m \u001b[0mtensor\u001b[0m\u001b[1;33m.\u001b[0m\u001b[0mdtype\u001b[0m\u001b[1;33m)\u001b[0m\u001b[1;33m\u001b[0m\u001b[1;33m\u001b[0m\u001b[0m\n\u001b[0;32m   3739\u001b[0m       \u001b[0mconverted_inputs\u001b[0m\u001b[1;33m.\u001b[0m\u001b[0mappend\u001b[0m\u001b[1;33m(\u001b[0m\u001b[0mvalue\u001b[0m\u001b[1;33m)\u001b[0m\u001b[1;33m\u001b[0m\u001b[1;33m\u001b[0m\u001b[0m\n\u001b[1;32m-> 3740\u001b[1;33m     \u001b[0moutputs\u001b[0m \u001b[1;33m=\u001b[0m \u001b[0mself\u001b[0m\u001b[1;33m.\u001b[0m\u001b[0m_graph_fn\u001b[0m\u001b[1;33m(\u001b[0m\u001b[1;33m*\u001b[0m\u001b[0mconverted_inputs\u001b[0m\u001b[1;33m)\u001b[0m\u001b[1;33m\u001b[0m\u001b[1;33m\u001b[0m\u001b[0m\n\u001b[0m\u001b[0;32m   3741\u001b[0m \u001b[1;33m\u001b[0m\u001b[0m\n\u001b[0;32m   3742\u001b[0m     \u001b[1;31m# EagerTensor.numpy() will often make a copy to ensure memory safety.\u001b[0m\u001b[1;33m\u001b[0m\u001b[1;33m\u001b[0m\u001b[1;33m\u001b[0m\u001b[0m\n",
      "\u001b[1;32m~\\Anaconda3\\envs\\ml\\lib\\site-packages\\tensorflow_core\\python\\eager\\function.py\u001b[0m in \u001b[0;36m__call__\u001b[1;34m(self, *args, **kwargs)\u001b[0m\n\u001b[0;32m   1079\u001b[0m       \u001b[0mTypeError\u001b[0m\u001b[1;33m:\u001b[0m \u001b[0mFor\u001b[0m \u001b[0minvalid\u001b[0m \u001b[0mpositional\u001b[0m\u001b[1;33m/\u001b[0m\u001b[0mkeyword\u001b[0m \u001b[0margument\u001b[0m \u001b[0mcombinations\u001b[0m\u001b[1;33m.\u001b[0m\u001b[1;33m\u001b[0m\u001b[1;33m\u001b[0m\u001b[0m\n\u001b[0;32m   1080\u001b[0m     \"\"\"\n\u001b[1;32m-> 1081\u001b[1;33m     \u001b[1;32mreturn\u001b[0m \u001b[0mself\u001b[0m\u001b[1;33m.\u001b[0m\u001b[0m_call_impl\u001b[0m\u001b[1;33m(\u001b[0m\u001b[0margs\u001b[0m\u001b[1;33m,\u001b[0m \u001b[0mkwargs\u001b[0m\u001b[1;33m)\u001b[0m\u001b[1;33m\u001b[0m\u001b[1;33m\u001b[0m\u001b[0m\n\u001b[0m\u001b[0;32m   1082\u001b[0m \u001b[1;33m\u001b[0m\u001b[0m\n\u001b[0;32m   1083\u001b[0m   \u001b[1;32mdef\u001b[0m \u001b[0m_call_impl\u001b[0m\u001b[1;33m(\u001b[0m\u001b[0mself\u001b[0m\u001b[1;33m,\u001b[0m \u001b[0margs\u001b[0m\u001b[1;33m,\u001b[0m \u001b[0mkwargs\u001b[0m\u001b[1;33m,\u001b[0m \u001b[0mcancellation_manager\u001b[0m\u001b[1;33m=\u001b[0m\u001b[1;32mNone\u001b[0m\u001b[1;33m)\u001b[0m\u001b[1;33m:\u001b[0m\u001b[1;33m\u001b[0m\u001b[1;33m\u001b[0m\u001b[0m\n",
      "\u001b[1;32m~\\Anaconda3\\envs\\ml\\lib\\site-packages\\tensorflow_core\\python\\eager\\function.py\u001b[0m in \u001b[0;36m_call_impl\u001b[1;34m(self, args, kwargs, cancellation_manager)\u001b[0m\n\u001b[0;32m   1119\u001b[0m       raise TypeError(\"Keyword arguments {} unknown. Expected {}.\".format(\n\u001b[0;32m   1120\u001b[0m           list(kwargs.keys()), list(self._arg_keywords)))\n\u001b[1;32m-> 1121\u001b[1;33m     \u001b[1;32mreturn\u001b[0m \u001b[0mself\u001b[0m\u001b[1;33m.\u001b[0m\u001b[0m_call_flat\u001b[0m\u001b[1;33m(\u001b[0m\u001b[0margs\u001b[0m\u001b[1;33m,\u001b[0m \u001b[0mself\u001b[0m\u001b[1;33m.\u001b[0m\u001b[0mcaptured_inputs\u001b[0m\u001b[1;33m,\u001b[0m \u001b[0mcancellation_manager\u001b[0m\u001b[1;33m)\u001b[0m\u001b[1;33m\u001b[0m\u001b[1;33m\u001b[0m\u001b[0m\n\u001b[0m\u001b[0;32m   1122\u001b[0m \u001b[1;33m\u001b[0m\u001b[0m\n\u001b[0;32m   1123\u001b[0m   \u001b[1;32mdef\u001b[0m \u001b[0m_filtered_call\u001b[0m\u001b[1;33m(\u001b[0m\u001b[0mself\u001b[0m\u001b[1;33m,\u001b[0m \u001b[0margs\u001b[0m\u001b[1;33m,\u001b[0m \u001b[0mkwargs\u001b[0m\u001b[1;33m)\u001b[0m\u001b[1;33m:\u001b[0m\u001b[1;33m\u001b[0m\u001b[1;33m\u001b[0m\u001b[0m\n",
      "\u001b[1;32m~\\Anaconda3\\envs\\ml\\lib\\site-packages\\tensorflow_core\\python\\eager\\function.py\u001b[0m in \u001b[0;36m_call_flat\u001b[1;34m(self, args, captured_inputs, cancellation_manager)\u001b[0m\n\u001b[0;32m   1222\u001b[0m     \u001b[1;32mif\u001b[0m \u001b[0mexecuting_eagerly\u001b[0m\u001b[1;33m:\u001b[0m\u001b[1;33m\u001b[0m\u001b[1;33m\u001b[0m\u001b[0m\n\u001b[0;32m   1223\u001b[0m       flat_outputs = forward_function.call(\n\u001b[1;32m-> 1224\u001b[1;33m           ctx, args, cancellation_manager=cancellation_manager)\n\u001b[0m\u001b[0;32m   1225\u001b[0m     \u001b[1;32melse\u001b[0m\u001b[1;33m:\u001b[0m\u001b[1;33m\u001b[0m\u001b[1;33m\u001b[0m\u001b[0m\n\u001b[0;32m   1226\u001b[0m       \u001b[0mgradient_name\u001b[0m \u001b[1;33m=\u001b[0m \u001b[0mself\u001b[0m\u001b[1;33m.\u001b[0m\u001b[0m_delayed_rewrite_functions\u001b[0m\u001b[1;33m.\u001b[0m\u001b[0mregister\u001b[0m\u001b[1;33m(\u001b[0m\u001b[1;33m)\u001b[0m\u001b[1;33m\u001b[0m\u001b[1;33m\u001b[0m\u001b[0m\n",
      "\u001b[1;32m~\\Anaconda3\\envs\\ml\\lib\\site-packages\\tensorflow_core\\python\\eager\\function.py\u001b[0m in \u001b[0;36mcall\u001b[1;34m(self, ctx, args, cancellation_manager)\u001b[0m\n\u001b[0;32m    509\u001b[0m               \u001b[0minputs\u001b[0m\u001b[1;33m=\u001b[0m\u001b[0margs\u001b[0m\u001b[1;33m,\u001b[0m\u001b[1;33m\u001b[0m\u001b[1;33m\u001b[0m\u001b[0m\n\u001b[0;32m    510\u001b[0m               \u001b[0mattrs\u001b[0m\u001b[1;33m=\u001b[0m\u001b[1;33m(\u001b[0m\u001b[1;34m\"executor_type\"\u001b[0m\u001b[1;33m,\u001b[0m \u001b[0mexecutor_type\u001b[0m\u001b[1;33m,\u001b[0m \u001b[1;34m\"config_proto\"\u001b[0m\u001b[1;33m,\u001b[0m \u001b[0mconfig\u001b[0m\u001b[1;33m)\u001b[0m\u001b[1;33m,\u001b[0m\u001b[1;33m\u001b[0m\u001b[1;33m\u001b[0m\u001b[0m\n\u001b[1;32m--> 511\u001b[1;33m               ctx=ctx)\n\u001b[0m\u001b[0;32m    512\u001b[0m         \u001b[1;32melse\u001b[0m\u001b[1;33m:\u001b[0m\u001b[1;33m\u001b[0m\u001b[1;33m\u001b[0m\u001b[0m\n\u001b[0;32m    513\u001b[0m           outputs = execute.execute_with_cancellation(\n",
      "\u001b[1;32m~\\Anaconda3\\envs\\ml\\lib\\site-packages\\tensorflow_core\\python\\eager\\execute.py\u001b[0m in \u001b[0;36mquick_execute\u001b[1;34m(op_name, num_outputs, inputs, attrs, ctx, name)\u001b[0m\n\u001b[0;32m     65\u001b[0m     \u001b[1;32melse\u001b[0m\u001b[1;33m:\u001b[0m\u001b[1;33m\u001b[0m\u001b[1;33m\u001b[0m\u001b[0m\n\u001b[0;32m     66\u001b[0m       \u001b[0mmessage\u001b[0m \u001b[1;33m=\u001b[0m \u001b[0me\u001b[0m\u001b[1;33m.\u001b[0m\u001b[0mmessage\u001b[0m\u001b[1;33m\u001b[0m\u001b[1;33m\u001b[0m\u001b[0m\n\u001b[1;32m---> 67\u001b[1;33m     \u001b[0msix\u001b[0m\u001b[1;33m.\u001b[0m\u001b[0mraise_from\u001b[0m\u001b[1;33m(\u001b[0m\u001b[0mcore\u001b[0m\u001b[1;33m.\u001b[0m\u001b[0m_status_to_exception\u001b[0m\u001b[1;33m(\u001b[0m\u001b[0me\u001b[0m\u001b[1;33m.\u001b[0m\u001b[0mcode\u001b[0m\u001b[1;33m,\u001b[0m \u001b[0mmessage\u001b[0m\u001b[1;33m)\u001b[0m\u001b[1;33m,\u001b[0m \u001b[1;32mNone\u001b[0m\u001b[1;33m)\u001b[0m\u001b[1;33m\u001b[0m\u001b[1;33m\u001b[0m\u001b[0m\n\u001b[0m\u001b[0;32m     68\u001b[0m   \u001b[1;32mexcept\u001b[0m \u001b[0mTypeError\u001b[0m \u001b[1;32mas\u001b[0m \u001b[0me\u001b[0m\u001b[1;33m:\u001b[0m\u001b[1;33m\u001b[0m\u001b[1;33m\u001b[0m\u001b[0m\n\u001b[0;32m     69\u001b[0m     keras_symbolic_tensors = [\n",
      "\u001b[1;32m~\\Anaconda3\\envs\\ml\\lib\\site-packages\\six.py\u001b[0m in \u001b[0;36mraise_from\u001b[1;34m(value, from_value)\u001b[0m\n",
      "\u001b[1;31mResourceExhaustedError\u001b[0m:  OOM when allocating tensor with shape[1,1150,646,10] and type float on /job:localhost/replica:0/task:0/device:GPU:0 by allocator GPU_0_bfc\n\t [[{{node p_re_lu_38773/Relu_1-0-0-TransposeNCHWToNHWC-LayoutOptimizer}}]]\nHint: If you want to see a list of allocated tensors when OOM happens, add report_tensor_allocations_upon_oom to RunOptions for current allocation info.\n [Op:__inference_keras_scratch_graph_3695396]\n\nFunction call stack:\nkeras_scratch_graph\n"
     ]
    }
   ],
   "source": [
    "crops = {}\n",
    "for fake_video_file_name in df[df['label'] == 'FAKE']['index'].to_numpy():\n",
    "    print(fake_video_file_name)\n",
    "    video = Video(os.path.join(videos_folder, fake_video_file_name))\n",
    "    faces_from_video = extract_faces_from_video(video, 25, max_frames=20)\n",
    "    save_crops('../to_be_annotated_fake/', fake_video_file_name.split('.')[0], faces_from_video)\n",
    "    remove_img_from_faces_from_video(faces_from_video)\n",
    "    crops[fake_video_file_name] = faces_from_video\n",
    "save_obj(crops, 'crops')"
   ]
  },
  {
   "cell_type": "code",
   "execution_count": 22,
   "metadata": {
    "ExecuteTime": {
     "end_time": "2019-12-26T14:31:39.661567Z",
     "start_time": "2019-12-26T14:06:38.085655Z"
    },
    "deletable": false,
    "editable": false,
    "hidden": true,
    "run_control": {
     "frozen": true
    },
    "scrolled": true
   },
   "outputs": [
    {
     "name": "stdout",
     "output_type": "stream",
     "text": [
      "abarnvbtwb.mp4\n",
      "aelfnikyqj.mp4\n",
      "afoovlsmtx.mp4\n",
      "agrmhtjdlk.mp4\n",
      "ahqqqilsxt.mp4\n",
      "ajqslcypsw.mp4\n",
      "anpuvshzoo.mp4\n",
      "asaxgevnnp.mp4\n",
      "atkdltyyen.mp4\n",
      "atvmxvwyns.mp4\n",
      "avmjormvsx.mp4\n",
      "axntxmycwd.mp4\n",
      "aybgughjxh.mp4\n",
      "aybumesmpk.mp4\n",
      "aytzyidmgs.mp4\n",
      "bddjdhzfze.mp4\n",
      "bdnaqemxmr.mp4\n",
      "beboztfcme.mp4\n",
      "bejhvclboh.mp4\n",
      "beyebyhrph.mp4\n",
      "bffwsjxghk.mp4\n",
      "bgvhtpzknn.mp4\n",
      "bgwmmujlmc.mp4\n",
      "bilnggbxgu.mp4\n",
      "bmjzrlszhi.mp4\n",
      "bpapbctoao.mp4\n",
      "brwrlczjvi.mp4\n",
      "bulkxhhknf.mp4\n",
      "bwhlgysghg.mp4\n",
      "bwipwzzxxu.mp4\n",
      "bxzakyopjf.mp4\n",
      "bzythlfnhq.mp4\n",
      "caifxvsozs.mp4\n",
      "ccfoszqabv.mp4\n",
      "cfxkpiweqt.mp4\n",
      "chtapglbcj.mp4\n",
      "chviwxsfhg.mp4\n",
      "ciyoudyhly.mp4\n",
      "cizlkenljw.mp4\n",
      "ckjaibzfxa.mp4\n",
      "ckkuyewywx.mp4\n",
      "clrycekyst.mp4\n",
      "cmbzllswnl.mp4\n",
      "cobjrlugvp.mp4\n",
      "cpjxareypw.mp4\n",
      "cppdvdejkc.mp4\n",
      "cprhtltsjp.mp4\n",
      "crezycjqyk.mp4\n",
      "cyxlcuyznd.mp4\n",
      "dakiztgtnw.mp4\n",
      "dbnygxtwek.mp4\n",
      "dbtbbhakdv.mp4\n",
      "ddepeddixj.mp4\n",
      "dhcndnuwta.mp4\n",
      "dhxctgyoqj.mp4\n",
      "djxdyjopjd.mp4\n",
      "dkuayagnmc.mp4\n",
      "dkzvdrzcnr.mp4\n",
      "dlpoieqvfb.mp4\n",
      "drcyabprvt.mp4\n",
      "dsjbknkujw.mp4\n",
      "duycddgtrl.mp4\n",
      "dxbqjxrhin.mp4\n",
      "dzyuwjkjui.mp4\n",
      "eckvhdusax.mp4\n",
      "ecujsjhscd.mp4\n",
      "edyncaijwx.mp4\n",
      "efwfxwwlbw.mp4\n",
      "eggbjzxnmg.mp4\n",
      "egghxjjmfg.mp4\n",
      "ehccixxzoe.mp4\n",
      "ehtdtkmmli.mp4\n",
      "ekcrtigpab.mp4\n",
      "ellavthztb.mp4\n",
      "eqnoqyfquo.mp4\n",
      "erlvuvjsjf.mp4\n",
      "eudeqjhdfd.mp4\n"
     ]
    }
   ],
   "source": [
    "crops = {}\n",
    "for fake_video_file_name in df[df['label'] == 'REAL']['index'].to_numpy():\n",
    "    print(fake_video_file_name)\n",
    "    video = Video(os.path.join(videos_folder, fake_video_file_name))\n",
    "    faces_from_video = extract_faces_from_video(video, 25, max_frames=20)\n",
    "    save_crops('../to_be_annotated_real/', fake_video_file_name.split('.')[0], faces_from_video)\n",
    "    remove_img_from_faces_from_video(faces_from_video)\n",
    "    crops[fake_video_file_name] = faces_from_video\n",
    "save_obj(crops, 'crops_real', fake=False)"
   ]
  },
  {
   "cell_type": "code",
   "execution_count": null,
   "metadata": {
    "hidden": true
   },
   "outputs": [],
   "source": []
  },
  {
   "cell_type": "code",
   "execution_count": 23,
   "metadata": {
    "ExecuteTime": {
     "end_time": "2019-12-26T15:10:37.813648Z",
     "start_time": "2019-12-26T15:10:37.786648Z"
    },
    "hidden": true
   },
   "outputs": [],
   "source": [
    "crops_real = load_obj('crops_real', fake=False)\n",
    "crops_fake = load_obj('crops_fake', fake=True)"
   ]
  },
  {
   "cell_type": "code",
   "execution_count": 24,
   "metadata": {
    "ExecuteTime": {
     "end_time": "2019-12-26T15:10:41.680260Z",
     "start_time": "2019-12-26T15:10:41.377259Z"
    },
    "hidden": true
   },
   "outputs": [
    {
     "data": {
      "text/plain": [
       "{'abarnvbtwb.mp4': {'0_0': {'coordinates': {'x1': 789,\n",
       "    'y1': 198,\n",
       "    'width': 206,\n",
       "    'height': 211},\n",
       "   'keypoints': {'left_eye': (847, 301),\n",
       "    'right_eye': (918, 248),\n",
       "    'nose': (908, 294),\n",
       "    'mouth_left': (903, 359),\n",
       "    'mouth_right': (962, 315)},\n",
       "   'confidence': 0.9996341466903687},\n",
       "  '25_0': {'coordinates': {'x1': 852, 'y1': 162, 'width': 198, 'height': 232},\n",
       "   'keypoints': {'left_eye': (911, 264),\n",
       "    'right_eye': (996, 240),\n",
       "    'nose': (973, 279),\n",
       "    'mouth_left': (940, 339),\n",
       "    'mouth_right': (1022, 317)},\n",
       "   'confidence': 0.9999998807907104},\n",
       "  '50_0': {'coordinates': {'x1': 939, 'y1': 156, 'width': 177, 'height': 243},\n",
       "   'keypoints': {'left_eye': (1033, 249),\n",
       "    'right_eye': (1108, 264),\n",
       "    'nose': (1087, 294),\n",
       "    'mouth_left': (1017, 325),\n",
       "    'mouth_right': (1095, 341)},\n",
       "   'confidence': 0.9999992847442627},\n",
       "  '75_0': {'coordinates': {'x1': 906, 'y1': 152, 'width': 185, 'height': 241},\n",
       "   'keypoints': {'left_eye': (972, 248),\n",
       "    'right_eye': (1057, 250),\n",
       "    'nose': (1022, 289),\n",
       "    'mouth_left': (967, 325),\n",
       "    'mouth_right': (1055, 329)},\n",
       "   'confidence': 1.0},\n",
       "  '100_0': {'coordinates': {'x1': 899, 'y1': 147, 'width': 184, 'height': 236},\n",
       "   'keypoints': {'left_eye': (958, 239),\n",
       "    'right_eye': (1043, 235),\n",
       "    'nose': (1004, 275),\n",
       "    'mouth_left': (958, 316),\n",
       "    'mouth_right': (1048, 315)},\n",
       "   'confidence': 0.9999920129776001},\n",
       "  '125_0': {'coordinates': {'x1': 900, 'y1': 148, 'width': 179, 'height': 225},\n",
       "   'keypoints': {'left_eye': (960, 233),\n",
       "    'right_eye': (1044, 230),\n",
       "    'nose': (1010, 263),\n",
       "    'mouth_left': (973, 316),\n",
       "    'mouth_right': (1041, 314)},\n",
       "   'confidence': 0.9999997615814209},\n",
       "  '150_0': {'coordinates': {'x1': 895, 'y1': 184, 'width': 194, 'height': 264},\n",
       "   'keypoints': {'left_eye': (961, 293),\n",
       "    'right_eye': (1047, 290),\n",
       "    'nose': (1009, 338),\n",
       "    'mouth_left': (970, 385),\n",
       "    'mouth_right': (1042, 385)},\n",
       "   'confidence': 0.9999947547912598},\n",
       "  '175_0': {'coordinates': {'x1': 895, 'y1': 182, 'width': 183, 'height': 252},\n",
       "   'keypoints': {'left_eye': (952, 278),\n",
       "    'right_eye': (1034, 275),\n",
       "    'nose': (998, 323),\n",
       "    'mouth_left': (962, 373),\n",
       "    'mouth_right': (1030, 371)},\n",
       "   'confidence': 0.9999897480010986},\n",
       "  '200_0': {'coordinates': {'x1': 883, 'y1': 180, 'width': 186, 'height': 249},\n",
       "   'keypoints': {'left_eye': (949, 285),\n",
       "    'right_eye': (1031, 281),\n",
       "    'nose': (992, 327),\n",
       "    'mouth_left': (956, 375),\n",
       "    'mouth_right': (1024, 372)},\n",
       "   'confidence': 0.9999992847442627},\n",
       "  '225_0': {'coordinates': {'x1': 889, 'y1': 165, 'width': 188, 'height': 242},\n",
       "   'keypoints': {'left_eye': (951, 259),\n",
       "    'right_eye': (1037, 256),\n",
       "    'nose': (1001, 297),\n",
       "    'mouth_left': (951, 336),\n",
       "    'mouth_right': (1041, 335)},\n",
       "   'confidence': 0.9999998807907104},\n",
       "  '250_0': {'coordinates': {'x1': 912, 'y1': 166, 'width': 183, 'height': 252},\n",
       "   'keypoints': {'left_eye': (985, 261),\n",
       "    'right_eye': (1068, 277),\n",
       "    'nose': (1028, 312),\n",
       "    'mouth_left': (964, 338),\n",
       "    'mouth_right': (1057, 354)},\n",
       "   'confidence': 1.0},\n",
       "  '275_0': {'coordinates': {'x1': 950, 'y1': 159, 'width': 197, 'height': 252},\n",
       "   'keypoints': {'left_eye': (1030, 247),\n",
       "    'right_eye': (1112, 275),\n",
       "    'nose': (1064, 300),\n",
       "    'mouth_left': (1008, 339),\n",
       "    'mouth_right': (1073, 361)},\n",
       "   'confidence': 0.9999920129776001}},\n",
       " 'aelfnikyqj.mp4': {'0_0': {'coordinates': {'x1': 908,\n",
       "    'y1': 61,\n",
       "    'width': 95,\n",
       "    'height': 128},\n",
       "   'keypoints': {'left_eye': (933, 112),\n",
       "    'right_eye': (979, 109),\n",
       "    'nose': (958, 134),\n",
       "    'mouth_left': (941, 161),\n",
       "    'mouth_right': (976, 161)},\n",
       "   'confidence': 0.9999853372573853},\n",
       "  '25_0': {'coordinates': {'x1': 928, 'y1': 59, 'width': 93, 'height': 126},\n",
       "   'keypoints': {'left_eye': (954, 107),\n",
       "    'right_eye': (999, 105),\n",
       "    'nose': (981, 128),\n",
       "    'mouth_left': (961, 157),\n",
       "    'mouth_right': (999, 157)},\n",
       "   'confidence': 0.9999964237213135},\n",
       "  '50_0': {'coordinates': {'x1': 921, 'y1': 64, 'width': 94, 'height': 127},\n",
       "   'keypoints': {'left_eye': (947, 113),\n",
       "    'right_eye': (992, 109),\n",
       "    'nose': (973, 134),\n",
       "    'mouth_left': (955, 162),\n",
       "    'mouth_right': (993, 160)},\n",
       "   'confidence': 0.9999946355819702},\n",
       "  '75_0': {'coordinates': {'x1': 916, 'y1': 61, 'width': 97, 'height': 131},\n",
       "   'keypoints': {'left_eye': (942, 112),\n",
       "    'right_eye': (988, 108),\n",
       "    'nose': (967, 133),\n",
       "    'mouth_left': (951, 162),\n",
       "    'mouth_right': (987, 161)},\n",
       "   'confidence': 0.9999858140945435},\n",
       "  '100_0': {'coordinates': {'x1': 914, 'y1': 47, 'width': 100, 'height': 135},\n",
       "   'keypoints': {'left_eye': (946, 99),\n",
       "    'right_eye': (992, 100),\n",
       "    'nose': (975, 122),\n",
       "    'mouth_left': (953, 151),\n",
       "    'mouth_right': (989, 152)},\n",
       "   'confidence': 0.9999979734420776},\n",
       "  '125_0': {'coordinates': {'x1': 911, 'y1': 53, 'width': 100, 'height': 135},\n",
       "   'keypoints': {'left_eye': (941, 104),\n",
       "    'right_eye': (988, 104),\n",
       "    'nose': (969, 127),\n",
       "    'mouth_left': (948, 157),\n",
       "    'mouth_right': (984, 158)},\n",
       "   'confidence': 0.9999873638153076},\n",
       "  '150_0': {'coordinates': {'x1': 916, 'y1': 59, 'width': 97, 'height': 134},\n",
       "   'keypoints': {'left_eye': (947, 108),\n",
       "    'right_eye': (991, 110),\n",
       "    'nose': (973, 130),\n",
       "    'mouth_left': (949, 159),\n",
       "    'mouth_right': (988, 161)},\n",
       "   'confidence': 0.9999971389770508},\n",
       "  '175_0': {'coordinates': {'x1': 904, 'y1': 60, 'width': 95, 'height': 132},\n",
       "   'keypoints': {'left_eye': (934, 110),\n",
       "    'right_eye': (979, 108),\n",
       "    'nose': (961, 132),\n",
       "    'mouth_left': (938, 160),\n",
       "    'mouth_right': (977, 159)},\n",
       "   'confidence': 0.9998842477798462},\n",
       "  '200_0': {'coordinates': {'x1': 902, 'y1': 54, 'width': 95, 'height': 133},\n",
       "   'keypoints': {'left_eye': (924, 108),\n",
       "    'right_eye': (969, 101),\n",
       "    'nose': (948, 128),\n",
       "    'mouth_left': (933, 159),\n",
       "    'mouth_right': (972, 154)},\n",
       "   'confidence': 0.9999864101409912},\n",
       "  '225_0': {'coordinates': {'x1': 900, 'y1': 62, 'width': 94, 'height': 129},\n",
       "   'keypoints': {'left_eye': (924, 112),\n",
       "    'right_eye': (969, 106),\n",
       "    'nose': (949, 131),\n",
       "    'mouth_left': (935, 163),\n",
       "    'mouth_right': (970, 159)},\n",
       "   'confidence': 0.9999905824661255},\n",
       "  '250_0': {'coordinates': {'x1': 901, 'y1': 64, 'width': 97, 'height': 129},\n",
       "   'keypoints': {'left_eye': (928, 116),\n",
       "    'right_eye': (973, 110),\n",
       "    'nose': (954, 136),\n",
       "    'mouth_left': (939, 165),\n",
       "    'mouth_right': (976, 161)},\n",
       "   'confidence': 0.9999939203262329},\n",
       "  '250_1': {'coordinates': {'x1': 468, 'y1': 640, 'width': 27, 'height': 30},\n",
       "   'keypoints': {'left_eye': (472, 648),\n",
       "    'right_eye': (485, 648),\n",
       "    'nose': (473, 654),\n",
       "    'mouth_left': (471, 663),\n",
       "    'mouth_right': (480, 663)},\n",
       "   'confidence': 0.9621386528015137},\n",
       "  '275_0': {'coordinates': {'x1': 912, 'y1': 59, 'width': 98, 'height': 138},\n",
       "   'keypoints': {'left_eye': (936, 111),\n",
       "    'right_eye': (981, 108),\n",
       "    'nose': (960, 130),\n",
       "    'mouth_left': (943, 163),\n",
       "    'mouth_right': (981, 161)},\n",
       "   'confidence': 0.9999946355819702},\n",
       "  '275_1': {'coordinates': {'x1': 468, 'y1': 640, 'width': 26, 'height': 28},\n",
       "   'keypoints': {'left_eye': (472, 649),\n",
       "    'right_eye': (484, 648),\n",
       "    'nose': (473, 654),\n",
       "    'mouth_left': (472, 663),\n",
       "    'mouth_right': (481, 663)},\n",
       "   'confidence': 0.9642264246940613}},\n",
       " 'afoovlsmtx.mp4': {'0_0': {'coordinates': {'x1': 328,\n",
       "    'y1': 675,\n",
       "    'width': 251,\n",
       "    'height': 329},\n",
       "   'keypoints': {'left_eye': (381, 800),\n",
       "    'right_eye': (492, 799),\n",
       "    'nose': (425, 831),\n",
       "    'mouth_left': (386, 917),\n",
       "    'mouth_right': (482, 918)},\n",
       "   'confidence': 0.9997612833976746},\n",
       "  '25_0': {'coordinates': {'x1': 331, 'y1': 678, 'width': 234, 'height': 318},\n",
       "   'keypoints': {'left_eye': (382, 796),\n",
       "    'right_eye': (490, 795),\n",
       "    'nose': (432, 830),\n",
       "    'mouth_left': (393, 905),\n",
       "    'mouth_right': (482, 902)},\n",
       "   'confidence': 0.9999977350234985},\n",
       "  '50_0': {'coordinates': {'x1': 321, 'y1': 687, 'width': 250, 'height': 324},\n",
       "   'keypoints': {'left_eye': (380, 815),\n",
       "    'right_eye': (488, 814),\n",
       "    'nose': (425, 854),\n",
       "    'mouth_left': (392, 929),\n",
       "    'mouth_right': (485, 931)},\n",
       "   'confidence': 0.9999864101409912},\n",
       "  '75_0': {'coordinates': {'x1': 347, 'y1': 705, 'width': 222, 'height': 290},\n",
       "   'keypoints': {'left_eye': (414, 814),\n",
       "    'right_eye': (516, 818),\n",
       "    'nose': (473, 858),\n",
       "    'mouth_left': (429, 922),\n",
       "    'mouth_right': (503, 926)},\n",
       "   'confidence': 0.9999949932098389},\n",
       "  '100_0': {'coordinates': {'x1': 331, 'y1': 700, 'width': 225, 'height': 296},\n",
       "   'keypoints': {'left_eye': (393, 823),\n",
       "    'right_eye': (500, 825),\n",
       "    'nose': (447, 862),\n",
       "    'mouth_left': (396, 930),\n",
       "    'mouth_right': (488, 935)},\n",
       "   'confidence': 0.9999840259552002},\n",
       "  '125_0': {'coordinates': {'x1': 327, 'y1': 692, 'width': 226, 'height': 291},\n",
       "   'keypoints': {'left_eye': (387, 815),\n",
       "    'right_eye': (486, 807),\n",
       "    'nose': (442, 859),\n",
       "    'mouth_left': (407, 921),\n",
       "    'mouth_right': (488, 913)},\n",
       "   'confidence': 0.9999496936798096},\n",
       "  '150_0': {'coordinates': {'x1': 316, 'y1': 699, 'width': 242, 'height': 316},\n",
       "   'keypoints': {'left_eye': (386, 826),\n",
       "    'right_eye': (496, 826),\n",
       "    'nose': (437, 863),\n",
       "    'mouth_left': (401, 934),\n",
       "    'mouth_right': (493, 939)},\n",
       "   'confidence': 0.9999878406524658},\n",
       "  '175_0': {'coordinates': {'x1': 287, 'y1': 697, 'width': 222, 'height': 300},\n",
       "   'keypoints': {'left_eye': (337, 822),\n",
       "    'right_eye': (438, 817),\n",
       "    'nose': (382, 866),\n",
       "    'mouth_left': (352, 932),\n",
       "    'mouth_right': (431, 925)},\n",
       "   'confidence': 0.9999754428863525},\n",
       "  '200_0': {'coordinates': {'x1': 312, 'y1': 699, 'width': 240, 'height': 308},\n",
       "   'keypoints': {'left_eye': (378, 820),\n",
       "    'right_eye': (486, 824),\n",
       "    'nose': (428, 854),\n",
       "    'mouth_left': (383, 931),\n",
       "    'mouth_right': (481, 936)},\n",
       "   'confidence': 0.9999862909317017},\n",
       "  '225_0': {'coordinates': {'x1': 318, 'y1': 689, 'width': 240, 'height': 295},\n",
       "   'keypoints': {'left_eye': (380, 810),\n",
       "    'right_eye': (487, 822),\n",
       "    'nose': (417, 859),\n",
       "    'mouth_left': (367, 909),\n",
       "    'mouth_right': (473, 918)},\n",
       "   'confidence': 0.999998927116394},\n",
       "  '250_0': {'coordinates': {'x1': 332, 'y1': 744, 'width': 221, 'height': 265},\n",
       "   '"
      ]
     },
     "execution_count": 24,
     "metadata": {},
     "output_type": "execute_result"
    },
    {
     "data": {
      "text/html": [
       "<b>limit_output extension: Maximum message size of 10000 exceeded with 297186 characters</b>"
      ]
     },
     "metadata": {},
     "output_type": "display_data"
    }
   ],
   "source": [
    "crops_real"
   ]
  },
  {
   "cell_type": "code",
   "execution_count": 25,
   "metadata": {
    "ExecuteTime": {
     "end_time": "2019-12-26T15:10:45.954260Z",
     "start_time": "2019-12-26T15:10:45.084283Z"
    },
    "hidden": true
   },
   "outputs": [
    {
     "data": {
      "text/plain": [
       "{'aagfhgtpmv.mp4': {'0_0': {'coordinates': {'x1': 338,\n",
       "    'y1': 167,\n",
       "    'width': 219,\n",
       "    'height': 291},\n",
       "   'keypoints': {'left_eye': (416, 279),\n",
       "    'right_eye': (514, 266),\n",
       "    'nose': (495, 316),\n",
       "    'mouth_left': (452, 393),\n",
       "    'mouth_right': (527, 384)},\n",
       "   'confidence': 0.9999223947525024},\n",
       "  '25_0': {'coordinates': {'x1': 503, 'y1': 173, 'width': 220, 'height': 286},\n",
       "   'keypoints': {'left_eye': (588, 267),\n",
       "    'right_eye': (690, 287),\n",
       "    'nose': (648, 316),\n",
       "    'mouth_left': (588, 382),\n",
       "    'mouth_right': (667, 399)},\n",
       "   'confidence': 0.9999939203262329},\n",
       "  '50_0': {'coordinates': {'x1': 458, 'y1': 177, 'width': 219, 'height': 290},\n",
       "   'keypoints': {'left_eye': (520, 276),\n",
       "    'right_eye': (624, 288),\n",
       "    'nose': (556, 321),\n",
       "    'mouth_left': (508, 389),\n",
       "    'mouth_right': (602, 401)},\n",
       "   'confidence': 0.9999035596847534},\n",
       "  '75_0': {'coordinates': {'x1': 851, 'y1': 202, 'width': 198, 'height': 267},\n",
       "   'keypoints': {'left_eye': (900, 306),\n",
       "    'right_eye': (992, 303),\n",
       "    'nose': (943, 349),\n",
       "    'mouth_left': (910, 412),\n",
       "    'mouth_right': (985, 410)},\n",
       "   'confidence': 0.9999959468841553},\n",
       "  '100_0': {'coordinates': {'x1': 1072,\n",
       "    'y1': 199,\n",
       "    'width': 204,\n",
       "    'height': 288},\n",
       "   'keypoints': {'left_eye': (1121, 300),\n",
       "    'right_eye': (1222, 314),\n",
       "    'nose': (1154, 350),\n",
       "    'mouth_left': (1106, 408),\n",
       "    'mouth_right': (1196, 424)},\n",
       "   'confidence': 0.9999788999557495},\n",
       "  '125_0': {'coordinates': {'x1': 1091,\n",
       "    'y1': 167,\n",
       "    'width': 206,\n",
       "    'height': 284},\n",
       "   'keypoints': {'left_eye': (1138, 278),\n",
       "    'right_eye': (1237, 273),\n",
       "    'nose': (1182, 319),\n",
       "    'mouth_left': (1147, 386),\n",
       "    'mouth_right': (1232, 384)},\n",
       "   'confidence': 0.9995755553245544},\n",
       "  '150_0': {'coordinates': {'x1': 1020,\n",
       "    'y1': 189,\n",
       "    'width': 192,\n",
       "    'height': 275},\n",
       "   'keypoints': {'left_eye': (1058, 292),\n",
       "    'right_eye': (1146, 294),\n",
       "    'nose': (1081, 339),\n",
       "    'mouth_left': (1056, 396),\n",
       "    'mouth_right': (1132, 402)},\n",
       "   'confidence': 0.9999614953994751},\n",
       "  '175_0': {'coordinates': {'x1': 1060,\n",
       "    'y1': 120,\n",
       "    'width': 206,\n",
       "    'height': 266},\n",
       "   'keypoints': {'left_eye': (1107, 222),\n",
       "    'right_eye': (1202, 230),\n",
       "    'nose': (1133, 263),\n",
       "    'mouth_left': (1092, 318),\n",
       "    'mouth_right': (1180, 329)},\n",
       "   'confidence': 0.9999535083770752},\n",
       "  '200_0': {'coordinates': {'x1': 925, 'y1': 110, 'width': 206, 'height': 269},\n",
       "   'keypoints': {'left_eye': (981, 220),\n",
       "    'right_eye': (1075, 207),\n",
       "    'nose': (1036, 257),\n",
       "    'mouth_left': (1005, 318),\n",
       "    'mouth_right': (1081, 310)},\n",
       "   'confidence': 0.999936580657959},\n",
       "  '225_0': {'coordinates': {'x1': 937, 'y1': 117, 'width': 199, 'height': 269},\n",
       "   'keypoints': {'left_eye': (992, 218),\n",
       "    'right_eye': (1085, 211),\n",
       "    'nose': (1049, 253),\n",
       "    'mouth_left': (1010, 318),\n",
       "    'mouth_right': (1090, 314)},\n",
       "   'confidence': 0.9998329877853394},\n",
       "  '250_0': {'coordinates': {'x1': 940, 'y1': 156, 'width': 183, 'height': 250},\n",
       "   'keypoints': {'left_eye': (1002, 251),\n",
       "    'right_eye': (1088, 250),\n",
       "    'nose': (1057, 295),\n",
       "    'mouth_left': (1018, 353),\n",
       "    'mouth_right': (1082, 353)},\n",
       "   'confidence': 0.9999988079071045},\n",
       "  '275_0': {'coordinates': {'x1': 618, 'y1': 142, 'width': 211, 'height': 281},\n",
       "   'keypoints': {'left_eye': (694, 252),\n",
       "    'right_eye': (790, 249),\n",
       "    'nose': (760, 299),\n",
       "    'mouth_left': (712, 359),\n",
       "    'mouth_right': (788, 357)},\n",
       "   'confidence': 0.9999850988388062}},\n",
       " 'aapnvogymq.mp4': {'0_0': {'coordinates': {'x1': 1189,\n",
       "    'y1': 192,\n",
       "    'width': 146,\n",
       "    'height': 185},\n",
       "   'keypoints': {'left_eye': (1209, 262),\n",
       "    'right_eye': (1248, 255),\n",
       "    'nose': (1210, 300),\n",
       "    'mouth_left': (1231, 338),\n",
       "    'mouth_right': (1260, 333)},\n",
       "   'confidence': 0.9999994039535522},\n",
       "  '0_1': {'coordinates': {'x1': 585, 'y1': 241, 'width': 126, 'height': 191},\n",
       "   'keypoints': {'left_eye': (664, 318),\n",
       "    'right_eye': (697, 316),\n",
       "    'nose': (707, 350),\n",
       "    'mouth_left': (673, 389),\n",
       "    'mouth_right': (696, 387)},\n",
       "   'confidence': 0.9999772310256958},\n",
       "  '25_0': {'coordinates': {'x1': 1183, 'y1': 184, 'width': 153, 'height': 190},\n",
       "   'keypoints': {'left_eye': (1217, 258),\n",
       "    'right_eye': (1269, 246),\n",
       "    'nose': (1233, 289),\n",
       "    'mouth_left': (1239, 333),\n",
       "    'mouth_right': (1279, 325)},\n",
       "   'confidence': 0.9999915361404419},\n",
       "  '25_1': {'coordinates': {'x1': 554, 'y1': 234, 'width': 137, 'height': 215},\n",
       "   'keypoints': {'left_eye': (641, 315),\n",
       "    'right_eye': (677, 307),\n",
       "    'nose': (694, 349),\n",
       "    'mouth_left': (656, 399),\n",
       "    'mouth_right': (685, 393)},\n",
       "   'confidence': 0.9998846054077148},\n",
       "  '50_0': {'coordinates': {'x1': 1181, 'y1': 190, 'width': 144, 'height': 186},\n",
       "   'keypoints': {'left_eye': (1196, 264),\n",
       "    'right_eye': (1241, 257),\n",
       "    'nose': (1199, 301),\n",
       "    'mouth_left': (1217, 342),\n",
       "    'mouth_right': (1253, 335)},\n",
       "   'confidence': 0.9999994039535522},\n",
       "  '50_1': {'coordinates': {'x1': 557, 'y1': 224, 'width': 142, 'height': 206},\n",
       "   'keypoints': {'left_eye': (629, 300),\n",
       "    'right_eye': (686, 304),\n",
       "    'nose': (679, 338),\n",
       "    'mouth_left': (634, 380),\n",
       "    'mouth_right': (683, 381)},\n",
       "   'confidence': 0.999972939491272},\n",
       "  '75_0': {'coordinates': {'x1': 1179, 'y1': 186, 'width': 143, 'height': 188},\n",
       "   'keypoints': {'left_eye': (1193, 263),\n",
       "    'right_eye': (1237, 256),\n",
       "    'nose': (1197, 299),\n",
       "    'mouth_left': (1214, 341),\n",
       "    'mouth_right': (1248, 335)},\n",
       "   'confidence': 0.9999995231628418},\n",
       "  '75_1': {'coordinates': {'x1': 551, 'y1': 225, 'width': 144, 'height': 200},\n",
       "   'keypoints': {'left_eye': (615, 305),\n",
       "    'right_eye': (675, 301),\n",
       "    'nose': (666, 336),\n",
       "    'mouth_left': (626, 378),\n",
       "    'mouth_right': (677, 373)},\n",
       "   'confidence': 0.9999712705612183},\n",
       "  '100_0': {'coordinates': {'x1': 1174,\n",
       "    'y1': 185,\n",
       "    'width': 146,\n",
       "    'height': 192},\n",
       "   'keypoints': {'left_eye': (1188, 261),\n",
       "    'right_eye': (1236, 254),\n",
       "    'nose': (1193, 298),\n",
       "    'mouth_left': (1209, 341),\n",
       "    'mouth_right': (1247, 335)},\n",
       "   'confidence': 0.9999994039535522},\n",
       "  '100_1': {'coordinates': {'x1': 550, 'y1': 212, 'width': 153, 'height': 224},\n",
       "   'keypoints': {'left_eye': (622, 302),\n",
       "    'right_eye': (682, 299),\n",
       "    'nose': (675, 334),\n",
       "    'mouth_left': (627, 380),\n",
       "    'mouth_right': (681, 374)},\n",
       "   'confidence': 0.9999619722366333},\n",
       "  '125_0': {'coordinates': {'x1': 1173,\n",
       "    'y1': 187,\n",
       "    'width': 143,\n",
       "    'height': 187},\n",
       "   'keypoints': {'left_eye': (1186, 261),\n",
       "    'right_eye': (1234, 253),\n",
       "    'nose': (1192, 297),\n",
       "    'mouth_left': (1207, 340),\n",
       "    'mouth_right': (1244, 333)},\n",
       "   'confidence': 0.9999996423721313},\n",
       "  '125_1': {'coordinates': {'x1': 535, 'y1': 238, 'width': 141, 'height': 198},\n",
       "   'keypoints': {'left_eye': (613, 312),\n",
       "    'right_eye': (666, 314),\n",
       "    'nose': (664, 351),\n",
       "    'mouth_left': (622, 392),\n",
       "    'mouth_right': (666, 392)},\n",
       "   'confidence': 0.9987745881080627},\n",
       "  '150_0': {'coordinates': {'x1': 1168,\n",
       "    'y1': 187,\n",
       "    'width': 143,\n",
       "    'height': 186},\n",
       "   'keypoints': {'left_eye': (1183, 263),\n",
       "    'right_eye': (1231, 253),\n",
       "    'nose': (1191, 298),\n",
       "    'mouth_left': (1205, 341),\n",
       "    'mouth_right': (1243, 333)},\n",
       "   'confidence': 0.9999995231628418},\n",
       "  '150_1': {'coordinates': {'x1': 534, 'y1': 236, 'width': 142, 'height': 206},\n",
       "   'keypoints': {'left_eye': (612, 313),\n",
       "    'right_eye': (667, 319),\n",
       "    'nose': (662, 353),\n",
       "    'mouth_left': (612, 395),\n",
       "    'mouth_right': (660, 397)},\n",
       "   'confidence': 0.9990805387496948},\n",
       "  '175_0': {'coordinates': {'x1': 1158,\n",
       "    'y1': 185,\n",
       "    'width': 145,\n",
       "    'height': 188},\n",
       "   'keypoints': {'left_eye': (1175, 262),\n",
       "    'right_eye': (1226, 253),\n",
       "    'nose': (1185, 299),\n",
       "    'mouth_left': (1197, 341),\n",
       "    'mouth_right': (1234, 333)},\n",
       "   'confidence': 0.9999995231628418},\n",
       "  '175_1': {'coordinates': {'x1': 563, 'y1': 219, 'width': 141, 'height': 237},\n",
       "   'keypoints': {'left_eye': (654, 308),\n",
       "    'right_eye': (686, 306),\n",
       "    'nose': (699, 350),\n",
       "    'mouth_left': (658, 397),\n",
       "    'mouth_right': (680, 396)},\n",
       "   'confidence': 0.9999889135360718},\n",
       "  '200_0': {'coordinates': {'x1': 1161,\n",
       "    'y1': 189,\n",
       "    'width': 158,\n",
       "    'height': 187},\n",
       "   'keypoints': {'left_eye': (1191, 274),\n",
       "    'right_eye': (1255, 262),\n",
       "    'nose': (1218, 310),\n",
       "    'mouth_left': (1212, 345),\n",
       "    'mouth_right': (1268, 333)},\n",
       "   'confidence': 0.9999996423721313},\n",
       "  '200_1': {'coordinates': {'x1': 545, 'y1': 225, 'width': 135, 'height': 223},\n",
       "   'keypoints': {'left_eye': (633, 306),\n",
       "    'right_eye': (672, 308),\n",
       "    'nose': (680, 345),\n",
       "    'mouth_left': (631, 388),\n",
       "    'mouth_right': (666, 390)},\n",
       "   'confidence': 0.9999912977218628},\n",
       "  '225_0': {'coordinates': {'x1': 1157,\n",
       "    'y1': 184,\n",
       "    'width': 141,\n",
       "    'height': 186},\n",
       "   'keypoints': {'left_eye': (1169, 256),\n",
       "    'right_eye': (1219, 251),\n",
       "    'nose': (1174, 292),\n",
       "    'mouth_left': (1187, 334),\n",
       "    'mouth_right': (1225, 331)},\n",
       "   'confidence': 0.9999996423721313},\n",
       "  '225_1': {'coordinates': {'x1': 526, 'y1': 220, 'width': 149, 'height': 211},\n",
       "   'keypoints': {'left_eye': (591, 301),\n",
       "    'right_eye': (655, 304),\n",
       "    'nose': (638, 336),\n",
       "    'mouth_left': (593, 375),\n",
       "    'mouth_right': (653, 376)},\n",
       "   'confidence': 0.9999985694885254},\n",
       "  '250_0': {'coordinates': {'x1': 1172,\n",
       "    'y1': 180,\n",
       "    'width': 142,\n",
       "    'height': 189},\n",
       "   'keypoints': {'left_eye': (1185, 254),\n",
       "    'right_eye': (1234, 248),\n",
       "    'nose': (1191, 292),\n",
       "    'mouth_left': (1202, 334),\n",
       "    'mouth_right': (1240, 330)},\n",
       "   'confidence': 0.9999998807907104},\n",
       "  '250_1': {'coordinates': {'x1': 535, 'y1': 227, 'width': 144, 'height': 200},\n",
       "   'keypoints': {'left_eye': (605, 305),\n",
       "    'right_eye': (663, 302),\n",
       "    'nose': (653, 343),\n",
       "    'mouth_left': (611, 383),\n",
       "    'mouth_right': (660, 381)},\n",
       "   'confidence': 0.9990209341049194},\n",
       "  '275_0': {'coordinates': {'x1': 1179,\n",
       "    'y1': 177,\n",
       "    'width': 146,\n",
       "    'height': 195},\n",
       "   'keypoints': {'left_eye': (1193, 252),\n",
       "    'right_eye': (1244, 248),\n",
       "    'nose': (1198, 292),\n",
       "    'mouth_left': (1210, 334),\n",
       "    'mouth_right': (1248, 332)},\n",
       "   'confidence': 0.9999992847442627},\n",
       "  '275_1': {'coordinates': {'x1': 535, 'y1': 226, 'width': 140, 'height': 213},\n",
       "   'keypoints': {'left_eye': (611"
      ]
     },
     "execution_count": 25,
     "metadata": {},
     "output_type": "execute_result"
    },
    {
     "data": {
      "text/html": [
       "<b>limit_output extension: Maximum message size of 10000 exceeded with 829018 characters</b>"
      ]
     },
     "metadata": {},
     "output_type": "display_data"
    }
   ],
   "source": [
    "crops_fake"
   ]
  },
  {
   "cell_type": "code",
   "execution_count": 33,
   "metadata": {
    "ExecuteTime": {
     "end_time": "2019-12-26T15:15:53.405837Z",
     "start_time": "2019-12-26T15:15:53.402834Z"
    },
    "hidden": true,
    "scrolled": true
   },
   "outputs": [],
   "source": [
    "keys = [x for x in crops_fake['aagfhgtpmv.mp4'].keys() if x.split('_')[1] == '0']"
   ]
  },
  {
   "cell_type": "code",
   "execution_count": 43,
   "metadata": {
    "ExecuteTime": {
     "end_time": "2019-12-26T15:19:48.467395Z",
     "start_time": "2019-12-26T15:19:48.463421Z"
    },
    "hidden": true
   },
   "outputs": [],
   "source": [
    "d = {key: crops_fake['aagfhgtpmv.mp4'][key] for key in keys}"
   ]
  },
  {
   "cell_type": "code",
   "execution_count": 44,
   "metadata": {
    "ExecuteTime": {
     "end_time": "2019-12-26T15:19:49.041911Z",
     "start_time": "2019-12-26T15:19:49.037909Z"
    },
    "hidden": true
   },
   "outputs": [
    {
     "data": {
      "text/plain": [
       "dict_keys(['0_0', '25_0', '50_0', '75_0', '100_0', '125_0', '150_0', '175_0', '200_0', '225_0', '250_0', '275_0'])"
      ]
     },
     "execution_count": 44,
     "metadata": {},
     "output_type": "execute_result"
    }
   ],
   "source": [
    "d.keys()"
   ]
  },
  {
   "cell_type": "code",
   "execution_count": 47,
   "metadata": {
    "ExecuteTime": {
     "end_time": "2019-12-26T15:20:55.781788Z",
     "start_time": "2019-12-26T15:20:55.778815Z"
    },
    "hidden": true,
    "scrolled": true
   },
   "outputs": [],
   "source": [
    "obj = d['0_0']"
   ]
  },
  {
   "cell_type": "code",
   "execution_count": 54,
   "metadata": {
    "ExecuteTime": {
     "end_time": "2019-12-26T15:23:50.931433Z",
     "start_time": "2019-12-26T15:23:50.927431Z"
    },
    "hidden": true
   },
   "outputs": [
    {
     "data": {
      "text/plain": [
       "{'coordinates': {'x1': 338, 'y1': 167, 'width': 219, 'height': 291},\n",
       " 'keypoints': {'left_eye': (416, 279),\n",
       "  'right_eye': (514, 266),\n",
       "  'nose': (495, 316),\n",
       "  'mouth_left': (452, 393),\n",
       "  'mouth_right': (527, 384)},\n",
       " 'confidence': 0.9999223947525024}"
      ]
     },
     "execution_count": 54,
     "metadata": {},
     "output_type": "execute_result"
    }
   ],
   "source": [
    "obj"
   ]
  },
  {
   "cell_type": "code",
   "execution_count": 56,
   "metadata": {
    "ExecuteTime": {
     "end_time": "2019-12-26T15:24:18.282945Z",
     "start_time": "2019-12-26T15:24:18.279923Z"
    },
    "hidden": true
   },
   "outputs": [],
   "source": [
    "obj2 = d['25_0']"
   ]
  },
  {
   "cell_type": "code",
   "execution_count": 80,
   "metadata": {
    "ExecuteTime": {
     "end_time": "2019-12-26T15:32:53.621674Z",
     "start_time": "2019-12-26T15:32:53.613675Z"
    },
    "hidden": true
   },
   "outputs": [],
   "source": [
    "def sum_distances(keypoints):\n",
    "    k = keypoints\n",
    "    return np.array([np.sum(np.abs(np.array(k['left_eye']) - np.array(k['right_eye']))),\n",
    "                  np.sum(np.abs(np.array(k['left_eye']) - np.array(k['nose']))),\n",
    "                  np.sum(np.abs(np.array(k['right_eye']) - np.array(k['nose']))),\n",
    "                  np.sum(np.abs(np.array(k['mouth_left']) - np.array(k['mouth_right'])))])"
   ]
  },
  {
   "cell_type": "code",
   "execution_count": 81,
   "metadata": {
    "ExecuteTime": {
     "end_time": "2019-12-26T15:33:41.290213Z",
     "start_time": "2019-12-26T15:33:41.286208Z"
    },
    "hidden": true
   },
   "outputs": [],
   "source": [
    "res = []\n",
    "for key in d.keys():\n",
    "    res.append(sum_distances(d[key]['keypoints']))"
   ]
  },
  {
   "cell_type": "code",
   "execution_count": 82,
   "metadata": {
    "ExecuteTime": {
     "end_time": "2019-12-26T15:33:41.911213Z",
     "start_time": "2019-12-26T15:33:41.905213Z"
    },
    "hidden": true
   },
   "outputs": [
    {
     "data": {
      "text/plain": [
       "[array([111, 116,  69,  84]),\n",
       " array([122, 109,  71,  96]),\n",
       " array([116,  81, 101, 106]),\n",
       " array([95, 86, 95, 77]),\n",
       " array([115,  83, 104, 106]),\n",
       " array([104,  85, 101,  87]),\n",
       " array([ 90,  70, 110,  82]),\n",
       " array([103,  67, 102,  99]),\n",
       " array([107,  92,  89,  84]),\n",
       " array([100,  92,  78,  84]),\n",
       " array([87, 99, 76, 64]),\n",
       " array([ 99, 113,  80,  78])]"
      ]
     },
     "execution_count": 82,
     "metadata": {},
     "output_type": "execute_result"
    }
   ],
   "source": [
    "res"
   ]
  },
  {
   "cell_type": "code",
   "execution_count": 77,
   "metadata": {
    "ExecuteTime": {
     "end_time": "2019-12-26T15:28:58.728260Z",
     "start_time": "2019-12-26T15:28:58.720273Z"
    },
    "hidden": true
   },
   "outputs": [],
   "source": [
    "k = obj['keypoints']\n",
    "first = np.array([np.sum(np.abs(np.array(k['left_eye']) - np.array(k['right_eye']))),\n",
    "                  np.sum(np.abs(np.array(k['left_eye']) - np.array(k['nose']))),\n",
    "                  np.sum(np.abs(np.array(k['right_eye']) - np.array(k['nose']))),\n",
    "                  np.sum(np.abs(np.array(k['mouth_left']) - np.array(k['mouth_right'])))])\n",
    "# first = np.array([k['left_eye'], k['right_eye'], k['nose'], k['mouth_left'], k['mouth_right']])\n",
    "k = obj2['keypoints']\n",
    "other = np.array([np.sum(np.abs(np.array(k['left_eye']) - np.array(k['right_eye']))),\n",
    "                  np.sum(np.abs(np.array(k['left_eye']) - np.array(k['nose']))),\n",
    "                  np.sum(np.abs(np.array(k['right_eye']) - np.array(k['nose']))),\n",
    "                  np.sum(np.abs(np.array(k['mouth_left']) - np.array(k['mouth_right'])))])"
   ]
  },
  {
   "cell_type": "code",
   "execution_count": 78,
   "metadata": {
    "ExecuteTime": {
     "end_time": "2019-12-26T15:28:59.327751Z",
     "start_time": "2019-12-26T15:28:59.322782Z"
    },
    "hidden": true
   },
   "outputs": [
    {
     "data": {
      "text/plain": [
       "array([111, 116,  69,  84])"
      ]
     },
     "execution_count": 78,
     "metadata": {},
     "output_type": "execute_result"
    }
   ],
   "source": [
    "first"
   ]
  },
  {
   "cell_type": "code",
   "execution_count": 79,
   "metadata": {
    "ExecuteTime": {
     "end_time": "2019-12-26T15:29:00.047273Z",
     "start_time": "2019-12-26T15:29:00.042272Z"
    },
    "hidden": true
   },
   "outputs": [
    {
     "data": {
      "text/plain": [
       "array([122, 109,  71,  96])"
      ]
     },
     "execution_count": 79,
     "metadata": {},
     "output_type": "execute_result"
    }
   ],
   "source": [
    "other"
   ]
  },
  {
   "cell_type": "code",
   "execution_count": 66,
   "metadata": {
    "ExecuteTime": {
     "end_time": "2019-12-26T15:25:20.311820Z",
     "start_time": "2019-12-26T15:25:20.307800Z"
    },
    "hidden": true
   },
   "outputs": [
    {
     "data": {
      "text/plain": [
       "(588, 267)"
      ]
     },
     "execution_count": 66,
     "metadata": {},
     "output_type": "execute_result"
    }
   ],
   "source": [
    "k['left_eye']"
   ]
  },
  {
   "cell_type": "code",
   "execution_count": 67,
   "metadata": {
    "ExecuteTime": {
     "end_time": "2019-12-26T15:25:26.598035Z",
     "start_time": "2019-12-26T15:25:26.593036Z"
    },
    "hidden": true
   },
   "outputs": [
    {
     "data": {
      "text/plain": [
       "(690, 287)"
      ]
     },
     "execution_count": 67,
     "metadata": {},
     "output_type": "execute_result"
    }
   ],
   "source": [
    "k['right_eye']"
   ]
  },
  {
   "cell_type": "code",
   "execution_count": null,
   "metadata": {
    "hidden": true
   },
   "outputs": [],
   "source": []
  },
  {
   "cell_type": "code",
   "execution_count": null,
   "metadata": {
    "hidden": true
   },
   "outputs": [],
   "source": []
  },
  {
   "cell_type": "code",
   "execution_count": 8,
   "metadata": {
    "ExecuteTime": {
     "end_time": "2019-12-26T13:58:12.670744Z",
     "start_time": "2019-12-26T13:58:12.663749Z"
    },
    "hidden": true
   },
   "outputs": [
    {
     "data": {
      "text/plain": [
       "(77, 4)"
      ]
     },
     "execution_count": 8,
     "metadata": {},
     "output_type": "execute_result"
    }
   ],
   "source": [
    "df[df['label'] == 'REAL'].shape"
   ]
  },
  {
   "cell_type": "code",
   "execution_count": 11,
   "metadata": {
    "ExecuteTime": {
     "end_time": "2019-12-26T13:58:28.517440Z",
     "start_time": "2019-12-26T13:58:28.510442Z"
    },
    "hidden": true
   },
   "outputs": [
    {
     "data": {
      "text/plain": [
       "(323, 4)"
      ]
     },
     "execution_count": 11,
     "metadata": {},
     "output_type": "execute_result"
    }
   ],
   "source": [
    "df[df['label'] == 'FAKE'].shape"
   ]
  },
  {
   "cell_type": "code",
   "execution_count": null,
   "metadata": {
    "hidden": true
   },
   "outputs": [],
   "source": []
  },
  {
   "cell_type": "code",
   "execution_count": 20,
   "metadata": {
    "ExecuteTime": {
     "end_time": "2019-12-26T14:01:30.231711Z",
     "start_time": "2019-12-26T14:01:30.195715Z"
    },
    "hidden": true
   },
   "outputs": [],
   "source": [
    "crops = load_obj('crops_fake')"
   ]
  },
  {
   "cell_type": "code",
   "execution_count": 16,
   "metadata": {
    "ExecuteTime": {
     "end_time": "2019-12-26T14:00:58.936053Z",
     "start_time": "2019-12-26T14:00:58.932051Z"
    },
    "hidden": true
   },
   "outputs": [
    {
     "data": {
      "text/plain": [
       "'../to_be_annotated_t/'"
      ]
     },
     "execution_count": 16,
     "metadata": {},
     "output_type": "execute_result"
    }
   ],
   "source": [
    "'../to_be_annotated_{}/'.format('t')"
   ]
  },
  {
   "cell_type": "code",
   "execution_count": 21,
   "metadata": {
    "ExecuteTime": {
     "end_time": "2019-12-26T14:01:32.766842Z",
     "start_time": "2019-12-26T14:01:31.829840Z"
    },
    "hidden": true,
    "scrolled": true
   },
   "outputs": [
    {
     "data": {
      "text/plain": [
       "{'aagfhgtpmv.mp4': {'0_0': {'coordinates': {'x1': 338,\n",
       "    'y1': 167,\n",
       "    'width': 219,\n",
       "    'height': 291},\n",
       "   'keypoints': {'left_eye': (416, 279),\n",
       "    'right_eye': (514, 266),\n",
       "    'nose': (495, 316),\n",
       "    'mouth_left': (452, 393),\n",
       "    'mouth_right': (527, 384)},\n",
       "   'confidence': 0.9999223947525024},\n",
       "  '25_0': {'coordinates': {'x1': 503, 'y1': 173, 'width': 220, 'height': 286},\n",
       "   'keypoints': {'left_eye': (588, 267),\n",
       "    'right_eye': (690, 287),\n",
       "    'nose': (648, 316),\n",
       "    'mouth_left': (588, 382),\n",
       "    'mouth_right': (667, 399)},\n",
       "   'confidence': 0.9999939203262329},\n",
       "  '50_0': {'coordinates': {'x1': 458, 'y1': 177, 'width': 219, 'height': 290},\n",
       "   'keypoints': {'left_eye': (520, 276),\n",
       "    'right_eye': (624, 288),\n",
       "    'nose': (556, 321),\n",
       "    'mouth_left': (508, 389),\n",
       "    'mouth_right': (602, 401)},\n",
       "   'confidence': 0.9999035596847534},\n",
       "  '75_0': {'coordinates': {'x1': 851, 'y1': 202, 'width': 198, 'height': 267},\n",
       "   'keypoints': {'left_eye': (900, 306),\n",
       "    'right_eye': (992, 303),\n",
       "    'nose': (943, 349),\n",
       "    'mouth_left': (910, 412),\n",
       "    'mouth_right': (985, 410)},\n",
       "   'confidence': 0.9999959468841553},\n",
       "  '100_0': {'coordinates': {'x1': 1072,\n",
       "    'y1': 199,\n",
       "    'width': 204,\n",
       "    'height': 288},\n",
       "   'keypoints': {'left_eye': (1121, 300),\n",
       "    'right_eye': (1222, 314),\n",
       "    'nose': (1154, 350),\n",
       "    'mouth_left': (1106, 408),\n",
       "    'mouth_right': (1196, 424)},\n",
       "   'confidence': 0.9999788999557495},\n",
       "  '125_0': {'coordinates': {'x1': 1091,\n",
       "    'y1': 167,\n",
       "    'width': 206,\n",
       "    'height': 284},\n",
       "   'keypoints': {'left_eye': (1138, 278),\n",
       "    'right_eye': (1237, 273),\n",
       "    'nose': (1182, 319),\n",
       "    'mouth_left': (1147, 386),\n",
       "    'mouth_right': (1232, 384)},\n",
       "   'confidence': 0.9995755553245544},\n",
       "  '150_0': {'coordinates': {'x1': 1020,\n",
       "    'y1': 189,\n",
       "    'width': 192,\n",
       "    'height': 275},\n",
       "   'keypoints': {'left_eye': (1058, 292),\n",
       "    'right_eye': (1146, 294),\n",
       "    'nose': (1081, 339),\n",
       "    'mouth_left': (1056, 396),\n",
       "    'mouth_right': (1132, 402)},\n",
       "   'confidence': 0.9999614953994751},\n",
       "  '175_0': {'coordinates': {'x1': 1060,\n",
       "    'y1': 120,\n",
       "    'width': 206,\n",
       "    'height': 266},\n",
       "   'keypoints': {'left_eye': (1107, 222),\n",
       "    'right_eye': (1202, 230),\n",
       "    'nose': (1133, 263),\n",
       "    'mouth_left': (1092, 318),\n",
       "    'mouth_right': (1180, 329)},\n",
       "   'confidence': 0.9999535083770752},\n",
       "  '200_0': {'coordinates': {'x1': 925, 'y1': 110, 'width': 206, 'height': 269},\n",
       "   'keypoints': {'left_eye': (981, 220),\n",
       "    'right_eye': (1075, 207),\n",
       "    'nose': (1036, 257),\n",
       "    'mouth_left': (1005, 318),\n",
       "    'mouth_right': (1081, 310)},\n",
       "   'confidence': 0.999936580657959},\n",
       "  '225_0': {'coordinates': {'x1': 937, 'y1': 117, 'width': 199, 'height': 269},\n",
       "   'keypoints': {'left_eye': (992, 218),\n",
       "    'right_eye': (1085, 211),\n",
       "    'nose': (1049, 253),\n",
       "    'mouth_left': (1010, 318),\n",
       "    'mouth_right': (1090, 314)},\n",
       "   'confidence': 0.9998329877853394},\n",
       "  '250_0': {'coordinates': {'x1': 940, 'y1': 156, 'width': 183, 'height': 250},\n",
       "   'keypoints': {'left_eye': (1002, 251),\n",
       "    'right_eye': (1088, 250),\n",
       "    'nose': (1057, 295),\n",
       "    'mouth_left': (1018, 353),\n",
       "    'mouth_right': (1082, 353)},\n",
       "   'confidence': 0.9999988079071045},\n",
       "  '275_0': {'coordinates': {'x1': 618, 'y1': 142, 'width': 211, 'height': 281},\n",
       "   'keypoints': {'left_eye': (694, 252),\n",
       "    'right_eye': (790, 249),\n",
       "    'nose': (760, 299),\n",
       "    'mouth_left': (712, 359),\n",
       "    'mouth_right': (788, 357)},\n",
       "   'confidence': 0.9999850988388062}},\n",
       " 'aapnvogymq.mp4': {'0_0': {'coordinates': {'x1': 1189,\n",
       "    'y1': 192,\n",
       "    'width': 146,\n",
       "    'height': 185},\n",
       "   'keypoints': {'left_eye': (1209, 262),\n",
       "    'right_eye': (1248, 255),\n",
       "    'nose': (1210, 300),\n",
       "    'mouth_left': (1231, 338),\n",
       "    'mouth_right': (1260, 333)},\n",
       "   'confidence': 0.9999994039535522},\n",
       "  '0_1': {'coordinates': {'x1': 585, 'y1': 241, 'width': 126, 'height': 191},\n",
       "   'keypoints': {'left_eye': (664, 318),\n",
       "    'right_eye': (697, 316),\n",
       "    'nose': (707, 350),\n",
       "    'mouth_left': (673, 389),\n",
       "    'mouth_right': (696, 387)},\n",
       "   'confidence': 0.9999772310256958},\n",
       "  '25_0': {'coordinates': {'x1': 1183, 'y1': 184, 'width': 153, 'height': 190},\n",
       "   'keypoints': {'left_eye': (1217, 258),\n",
       "    'right_eye': (1269, 246),\n",
       "    'nose': (1233, 289),\n",
       "    'mouth_left': (1239, 333),\n",
       "    'mouth_right': (1279, 325)},\n",
       "   'confidence': 0.9999915361404419},\n",
       "  '25_1': {'coordinates': {'x1': 554, 'y1': 234, 'width': 137, 'height': 215},\n",
       "   'keypoints': {'left_eye': (641, 315),\n",
       "    'right_eye': (677, 307),\n",
       "    'nose': (694, 349),\n",
       "    'mouth_left': (656, 399),\n",
       "    'mouth_right': (685, 393)},\n",
       "   'confidence': 0.9998846054077148},\n",
       "  '50_0': {'coordinates': {'x1': 1181, 'y1': 190, 'width': 144, 'height': 186},\n",
       "   'keypoints': {'left_eye': (1196, 264),\n",
       "    'right_eye': (1241, 257),\n",
       "    'nose': (1199, 301),\n",
       "    'mouth_left': (1217, 342),\n",
       "    'mouth_right': (1253, 335)},\n",
       "   'confidence': 0.9999994039535522},\n",
       "  '50_1': {'coordinates': {'x1': 557, 'y1': 224, 'width': 142, 'height': 206},\n",
       "   'keypoints': {'left_eye': (629, 300),\n",
       "    'right_eye': (686, 304),\n",
       "    'nose': (679, 338),\n",
       "    'mouth_left': (634, 380),\n",
       "    'mouth_right': (683, 381)},\n",
       "   'confidence': 0.999972939491272},\n",
       "  '75_0': {'coordinates': {'x1': 1179, 'y1': 186, 'width': 143, 'height': 188},\n",
       "   'keypoints': {'left_eye': (1193, 263),\n",
       "    'right_eye': (1237, 256),\n",
       "    'nose': (1197, 299),\n",
       "    'mouth_left': (1214, 341),\n",
       "    'mouth_right': (1248, 335)},\n",
       "   'confidence': 0.9999995231628418},\n",
       "  '75_1': {'coordinates': {'x1': 551, 'y1': 225, 'width': 144, 'height': 200},\n",
       "   'keypoints': {'left_eye': (615, 305),\n",
       "    'right_eye': (675, 301),\n",
       "    'nose': (666, 336),\n",
       "    'mouth_left': (626, 378),\n",
       "    'mouth_right': (677, 373)},\n",
       "   'confidence': 0.9999712705612183},\n",
       "  '100_0': {'coordinates': {'x1': 1174,\n",
       "    'y1': 185,\n",
       "    'width': 146,\n",
       "    'height': 192},\n",
       "   'keypoints': {'left_eye': (1188, 261),\n",
       "    'right_eye': (1236, 254),\n",
       "    'nose': (1193, 298),\n",
       "    'mouth_left': (1209, 341),\n",
       "    'mouth_right': (1247, 335)},\n",
       "   'confidence': 0.9999994039535522},\n",
       "  '100_1': {'coordinates': {'x1': 550, 'y1': 212, 'width': 153, 'height': 224},\n",
       "   'keypoints': {'left_eye': (622, 302),\n",
       "    'right_eye': (682, 299),\n",
       "    'nose': (675, 334),\n",
       "    'mouth_left': (627, 380),\n",
       "    'mouth_right': (681, 374)},\n",
       "   'confidence': 0.9999619722366333},\n",
       "  '125_0': {'coordinates': {'x1': 1173,\n",
       "    'y1': 187,\n",
       "    'width': 143,\n",
       "    'height': 187},\n",
       "   'keypoints': {'left_eye': (1186, 261),\n",
       "    'right_eye': (1234, 253),\n",
       "    'nose': (1192, 297),\n",
       "    'mouth_left': (1207, 340),\n",
       "    'mouth_right': (1244, 333)},\n",
       "   'confidence': 0.9999996423721313},\n",
       "  '125_1': {'coordinates': {'x1': 535, 'y1': 238, 'width': 141, 'height': 198},\n",
       "   'keypoints': {'left_eye': (613, 312),\n",
       "    'right_eye': (666, 314),\n",
       "    'nose': (664, 351),\n",
       "    'mouth_left': (622, 392),\n",
       "    'mouth_right': (666, 392)},\n",
       "   'confidence': 0.9987745881080627},\n",
       "  '150_0': {'coordinates': {'x1': 1168,\n",
       "    'y1': 187,\n",
       "    'width': 143,\n",
       "    'height': 186},\n",
       "   'keypoints': {'left_eye': (1183, 263),\n",
       "    'right_eye': (1231, 253),\n",
       "    'nose': (1191, 298),\n",
       "    'mouth_left': (1205, 341),\n",
       "    'mouth_right': (1243, 333)},\n",
       "   'confidence': 0.9999995231628418},\n",
       "  '150_1': {'coordinates': {'x1': 534, 'y1': 236, 'width': 142, 'height': 206},\n",
       "   'keypoints': {'left_eye': (612, 313),\n",
       "    'right_eye': (667, 319),\n",
       "    'nose': (662, 353),\n",
       "    'mouth_left': (612, 395),\n",
       "    'mouth_right': (660, 397)},\n",
       "   'confidence': 0.9990805387496948},\n",
       "  '175_0': {'coordinates': {'x1': 1158,\n",
       "    'y1': 185,\n",
       "    'width': 145,\n",
       "    'height': 188},\n",
       "   'keypoints': {'left_eye': (1175, 262),\n",
       "    'right_eye': (1226, 253),\n",
       "    'nose': (1185, 299),\n",
       "    'mouth_left': (1197, 341),\n",
       "    'mouth_right': (1234, 333)},\n",
       "   'confidence': 0.9999995231628418},\n",
       "  '175_1': {'coordinates': {'x1': 563, 'y1': 219, 'width': 141, 'height': 237},\n",
       "   'keypoints': {'left_eye': (654, 308),\n",
       "    'right_eye': (686, 306),\n",
       "    'nose': (699, 350),\n",
       "    'mouth_left': (658, 397),\n",
       "    'mouth_right': (680, 396)},\n",
       "   'confidence': 0.9999889135360718},\n",
       "  '200_0': {'coordinates': {'x1': 1161,\n",
       "    'y1': 189,\n",
       "    'width': 158,\n",
       "    'height': 187},\n",
       "   'keypoints': {'left_eye': (1191, 274),\n",
       "    'right_eye': (1255, 262),\n",
       "    'nose': (1218, 310),\n",
       "    'mouth_left': (1212, 345),\n",
       "    'mouth_right': (1268, 333)},\n",
       "   'confidence': 0.9999996423721313},\n",
       "  '200_1': {'coordinates': {'x1': 545, 'y1': 225, 'width': 135, 'height': 223},\n",
       "   'keypoints': {'left_eye': (633, 306),\n",
       "    'right_eye': (672, 308),\n",
       "    'nose': (680, 345),\n",
       "    'mouth_left': (631, 388),\n",
       "    'mouth_right': (666, 390)},\n",
       "   'confidence': 0.9999912977218628},\n",
       "  '225_0': {'coordinates': {'x1': 1157,\n",
       "    'y1': 184,\n",
       "    'width': 141,\n",
       "    'height': 186},\n",
       "   'keypoints': {'left_eye': (1169, 256),\n",
       "    'right_eye': (1219, 251),\n",
       "    'nose': (1174, 292),\n",
       "    'mouth_left': (1187, 334),\n",
       "    'mouth_right': (1225, 331)},\n",
       "   'confidence': 0.9999996423721313},\n",
       "  '225_1': {'coordinates': {'x1': 526, 'y1': 220, 'width': 149, 'height': 211},\n",
       "   'keypoints': {'left_eye': (591, 301),\n",
       "    'right_eye': (655, 304),\n",
       "    'nose': (638, 336),\n",
       "    'mouth_left': (593, 375),\n",
       "    'mouth_right': (653, 376)},\n",
       "   'confidence': 0.9999985694885254},\n",
       "  '250_0': {'coordinates': {'x1': 1172,\n",
       "    'y1': 180,\n",
       "    'width': 142,\n",
       "    'height': 189},\n",
       "   'keypoints': {'left_eye': (1185, 254),\n",
       "    'right_eye': (1234, 248),\n",
       "    'nose': (1191, 292),\n",
       "    'mouth_left': (1202, 334),\n",
       "    'mouth_right': (1240, 330)},\n",
       "   'confidence': 0.9999998807907104},\n",
       "  '250_1': {'coordinates': {'x1': 535, 'y1': 227, 'width': 144, 'height': 200},\n",
       "   'keypoints': {'left_eye': (605, 305),\n",
       "    'right_eye': (663, 302),\n",
       "    'nose': (653, 343),\n",
       "    'mouth_left': (611, 383),\n",
       "    'mouth_right': (660, 381)},\n",
       "   'confidence': 0.9990209341049194},\n",
       "  '275_0': {'coordinates': {'x1': 1179,\n",
       "    'y1': 177,\n",
       "    'width': 146,\n",
       "    'height': 195},\n",
       "   'keypoints': {'left_eye': (1193, 252),\n",
       "    'right_eye': (1244, 248),\n",
       "    'nose': (1198, 292),\n",
       "    'mouth_left': (1210, 334),\n",
       "    'mouth_right': (1248, 332)},\n",
       "   'confidence': 0.9999992847442627},\n",
       "  '275_1': {'coordinates': {'x1': 535, 'y1': 226, 'width': 140, 'height': 213},\n",
       "   'keypoints': {'left_eye': (611"
      ]
     },
     "execution_count": 21,
     "metadata": {},
     "output_type": "execute_result"
    },
    {
     "data": {
      "text/html": [
       "<b>limit_output extension: Maximum message size of 10000 exceeded with 829018 characters</b>"
      ]
     },
     "metadata": {},
     "output_type": "display_data"
    }
   ],
   "source": [
    "crops"
   ]
  },
  {
   "cell_type": "code",
   "execution_count": 250,
   "metadata": {
    "ExecuteTime": {
     "end_time": "2019-12-26T12:34:16.991336Z",
     "start_time": "2019-12-26T12:34:16.973338Z"
    },
    "hidden": true
   },
   "outputs": [
    {
     "data": {
      "text/html": [
       "<div>\n",
       "<style scoped>\n",
       "    .dataframe tbody tr th:only-of-type {\n",
       "        vertical-align: middle;\n",
       "    }\n",
       "\n",
       "    .dataframe tbody tr th {\n",
       "        vertical-align: top;\n",
       "    }\n",
       "\n",
       "    .dataframe thead th {\n",
       "        text-align: right;\n",
       "    }\n",
       "</style>\n",
       "<table border=\"1\" class=\"dataframe\">\n",
       "  <thead>\n",
       "    <tr style=\"text-align: right;\">\n",
       "      <th></th>\n",
       "      <th>index</th>\n",
       "      <th>label</th>\n",
       "      <th>split</th>\n",
       "      <th>original</th>\n",
       "    </tr>\n",
       "  </thead>\n",
       "  <tbody>\n",
       "    <tr>\n",
       "      <th>9</th>\n",
       "      <td>aczrgyricp.mp4</td>\n",
       "      <td>FAKE</td>\n",
       "      <td>train</td>\n",
       "      <td>slwkmefgde.mp4</td>\n",
       "    </tr>\n",
       "  </tbody>\n",
       "</table>\n",
       "</div>"
      ],
      "text/plain": [
       "            index label  split        original\n",
       "9  aczrgyricp.mp4  FAKE  train  slwkmefgde.mp4"
      ]
     },
     "execution_count": 250,
     "metadata": {},
     "output_type": "execute_result"
    }
   ],
   "source": [
    "df[df['index'] == 'aczrgyricp.mp4']"
   ]
  },
  {
   "cell_type": "code",
   "execution_count": null,
   "metadata": {
    "hidden": true
   },
   "outputs": [],
   "source": []
  },
  {
   "cell_type": "code",
   "execution_count": null,
   "metadata": {
    "hidden": true
   },
   "outputs": [],
   "source": []
  },
  {
   "cell_type": "code",
   "execution_count": null,
   "metadata": {
    "hidden": true
   },
   "outputs": [],
   "source": []
  },
  {
   "cell_type": "code",
   "execution_count": 241,
   "metadata": {
    "ExecuteTime": {
     "end_time": "2019-12-26T01:59:14.761027Z",
     "start_time": "2019-12-26T01:59:14.753051Z"
    },
    "hidden": true
   },
   "outputs": [],
   "source": [
    "# crops = load_obj('crops')"
   ]
  },
  {
   "cell_type": "code",
   "execution_count": 35,
   "metadata": {
    "ExecuteTime": {
     "end_time": "2019-12-26T00:24:44.840173Z",
     "start_time": "2019-12-26T00:24:44.837173Z"
    },
    "hidden": true
   },
   "outputs": [],
   "source": [
    "img = video.get(275)"
   ]
  },
  {
   "cell_type": "code",
   "execution_count": 55,
   "metadata": {
    "ExecuteTime": {
     "end_time": "2019-12-26T00:36:45.963464Z",
     "start_time": "2019-12-26T00:36:45.958493Z"
    },
    "hidden": true
   },
   "outputs": [
    {
     "data": {
      "text/plain": [
       "(1080, 1920, 3)"
      ]
     },
     "execution_count": 55,
     "metadata": {},
     "output_type": "execute_result"
    }
   ],
   "source": [
    "img.shape"
   ]
  },
  {
   "cell_type": "code",
   "execution_count": 56,
   "metadata": {
    "ExecuteTime": {
     "end_time": "2019-12-26T00:36:46.646645Z",
     "start_time": "2019-12-26T00:36:46.643645Z"
    },
    "hidden": true
   },
   "outputs": [],
   "source": [
    "h, w, d = img.shape"
   ]
  },
  {
   "cell_type": "code",
   "execution_count": 222,
   "metadata": {
    "ExecuteTime": {
     "end_time": "2019-12-26T01:45:49.178047Z",
     "start_time": "2019-12-26T01:45:48.846053Z"
    },
    "hidden": true
   },
   "outputs": [],
   "source": [
    "detector = MTCNN()\n",
    "img = video.get(275)"
   ]
  },
  {
   "cell_type": "code",
   "execution_count": 223,
   "metadata": {
    "ExecuteTime": {
     "end_time": "2019-12-26T01:45:50.287048Z",
     "start_time": "2019-12-26T01:45:49.607047Z"
    },
    "hidden": true
   },
   "outputs": [],
   "source": [
    "results = detector.detect_faces(img)"
   ]
  },
  {
   "cell_type": "code",
   "execution_count": 225,
   "metadata": {
    "ExecuteTime": {
     "end_time": "2019-12-26T01:46:51.872196Z",
     "start_time": "2019-12-26T01:46:51.866188Z"
    },
    "hidden": true
   },
   "outputs": [
    {
     "data": {
      "text/plain": [
       "[{'box': [618, 142, 211, 281],\n",
       "  'confidence': 0.9999850988388062,\n",
       "  'keypoints': {'left_eye': (694, 252),\n",
       "   'right_eye': (790, 249),\n",
       "   'nose': (760, 299),\n",
       "   'mouth_left': (712, 359),\n",
       "   'mouth_right': (788, 357)}},\n",
       " {'box': [-5, 769, 120, 148],\n",
       "  'confidence': 0.7400879859924316,\n",
       "  'keypoints': {'left_eye': (26, 827),\n",
       "   'right_eye': (69, 820),\n",
       "   'nose': (39, 858),\n",
       "   'mouth_left': (33, 882),\n",
       "   'mouth_right': (69, 875)}}]"
      ]
     },
     "execution_count": 225,
     "metadata": {},
     "output_type": "execute_result"
    }
   ],
   "source": [
    "results"
   ]
  },
  {
   "cell_type": "code",
   "execution_count": 227,
   "metadata": {
    "ExecuteTime": {
     "end_time": "2019-12-26T01:47:08.029191Z",
     "start_time": "2019-12-26T01:47:08.023194Z"
    },
    "hidden": true
   },
   "outputs": [
    {
     "data": {
      "text/plain": [
       "0.9999850988388062"
      ]
     },
     "execution_count": 227,
     "metadata": {},
     "output_type": "execute_result"
    }
   ],
   "source": [
    "results[0]['confidence']"
   ]
  },
  {
   "cell_type": "code",
   "execution_count": null,
   "metadata": {
    "hidden": true
   },
   "outputs": [],
   "source": []
  },
  {
   "cell_type": "code",
   "execution_count": null,
   "metadata": {
    "hidden": true
   },
   "outputs": [],
   "source": []
  },
  {
   "cell_type": "code",
   "execution_count": null,
   "metadata": {
    "hidden": true
   },
   "outputs": [],
   "source": []
  },
  {
   "cell_type": "code",
   "execution_count": null,
   "metadata": {
    "hidden": true
   },
   "outputs": [],
   "source": []
  },
  {
   "cell_type": "markdown",
   "metadata": {
    "heading_collapsed": true
   },
   "source": [
    "## Get faces from videos using CV"
   ]
  },
  {
   "cell_type": "code",
   "execution_count": 6,
   "metadata": {
    "ExecuteTime": {
     "end_time": "2019-12-24T00:48:48.803034Z",
     "start_time": "2019-12-24T00:48:48.765012Z"
    },
    "hidden": true
   },
   "outputs": [],
   "source": [
    "# Load the cascade\n",
    "face_cascade = cv2.CascadeClassifier('C:\\\\Users\\\\Anti\\\\Anaconda3\\\\envs\\\\ml\\\\Library\\\\etc\\\\haarcascades\\\\haarcascade_frontalface_default.xml')\n",
    "\n",
    "def return_face_coordinates(img):\n",
    "    gray = cv2.cvtColor(img, cv2.COLOR_BGR2GRAY)\n",
    "    # Detect faces\n",
    "    faces = face_cascade.detectMultiScale(gray, 1.1, 4)\n",
    "    \n",
    "    return faces\n",
    "\n",
    "def return_face_crops(img):\n",
    "    face_coordinates = return_face_coordinates(img)\n",
    "    crops = []\n",
    "    for (x, y, w, h) in face_coordinates:\n",
    "#         cv2.rectangle(img, (x, y), (x+w, y+h), (255, 0, 0), 2)\n",
    "        crops.append({'img': img[y:y+h, x:x+w], 'coordinates': {'x':x, 'y':y, 'w':w, 'h':h}})\n",
    "    \n",
    "    return crops\n",
    "\n",
    "def get_face_crops_from_video(video, frame_interval):\n",
    "    crops = {}\n",
    "    for frame in range(0, video.__len__(), frame_interval):\n",
    "        img = video.get(frame)\n",
    "        c = return_face_crops(img)\n",
    "        crops[frame] = c\n",
    "        \n",
    "    return crops\n",
    "\n",
    "def save_crops(path, video_file_name, crops):\n",
    "    os.makedirs(path, exist_ok=True)\n",
    "    for key in crops.keys():\n",
    "        cnt = 0\n",
    "        for crop in crops[key]:\n",
    "            imwrite(os.path.join(path, '{}_{}_{}.{}'.format(video_file_name, key, cnt, 'png')), crop['img'])\n",
    "            cnt = cnt + 1"
   ]
  },
  {
   "cell_type": "code",
   "execution_count": 7,
   "metadata": {
    "ExecuteTime": {
     "end_time": "2019-12-24T00:49:01.028622Z",
     "start_time": "2019-12-24T00:48:48.804010Z"
    },
    "hidden": true,
    "scrolled": true
   },
   "outputs": [
    {
     "name": "stdout",
     "output_type": "stream",
     "text": [
      "aagfhgtpmv.mp4\n"
     ]
    }
   ],
   "source": [
    "crops = {}\n",
    "for fake_video_file_name in df[df['label'] == 'FAKE']['index'].to_numpy():\n",
    "    print(fake_video_file_name)\n",
    "    video = Video(os.path.join(videos_folder, fake_video_file_name))\n",
    "    crops = get_face_crops_from_video(video, 15)\n",
    "#     crops[fake_video_file_name] = get_face_crops_from_video(video, 30)\n",
    "    save_crops('../to_be_annotated/', fake_video_file_name.split('.')[0], crops)\n",
    "    break\n",
    "    # crops = get_face_crops_from_video(video, 30)"
   ]
  },
  {
   "cell_type": "code",
   "execution_count": 8,
   "metadata": {
    "ExecuteTime": {
     "end_time": "2019-12-24T00:49:04.307676Z",
     "start_time": "2019-12-24T00:49:01.035629Z"
    },
    "hidden": true
   },
   "outputs": [],
   "source": [
    "save_crops('../to_be_annotated/', fake_video_file_name.split('.')[0], crops)"
   ]
  },
  {
   "cell_type": "code",
   "execution_count": 9,
   "metadata": {
    "ExecuteTime": {
     "end_time": "2019-12-24T00:49:04.313629Z",
     "start_time": "2019-12-24T00:49:04.309666Z"
    },
    "hidden": true
   },
   "outputs": [],
   "source": [
    "coordinates = {}\n",
    "for key in crops.keys():\n",
    "    coordinates[key] = []\n",
    "    for crop in crops[key]:\n",
    "        coordinates[key].append(crop['coordinates'])"
   ]
  },
  {
   "cell_type": "code",
   "execution_count": 10,
   "metadata": {
    "ExecuteTime": {
     "end_time": "2019-12-24T00:49:04.331628Z",
     "start_time": "2019-12-24T00:49:04.315630Z"
    },
    "hidden": true,
    "scrolled": true
   },
   "outputs": [
    {
     "data": {
      "text/plain": [
       "{0: [{'x': 69, 'y': 1020, 'w': 58, 'h': 58},\n",
       "  {'x': 1703, 'y': 512, 'w': 108, 'h': 108},\n",
       "  {'x': 351, 'y': 173, 'w': 245, 'h': 245}],\n",
       " 15: [{'x': 1461, 'y': 511, 'w': 102, 'h': 102},\n",
       "  {'x': 415, 'y': 178, 'w': 272, 'h': 272},\n",
       "  {'x': 91, 'y': 738, 'w': 50, 'h': 50}],\n",
       " 30: [{'x': 1420, 'y': 663, 'w': 62, 'h': 62},\n",
       "  {'x': 1220, 'y': 505, 'w': 101, 'h': 101},\n",
       "  {'x': 1425, 'y': 977, 'w': 73, 'h': 73},\n",
       "  {'x': 502, 'y': 174, 'w': 271, 'h': 271},\n",
       "  {'x': 1689, 'y': 421, 'w': 77, 'h': 77}],\n",
       " 45: [{'x': 1312, 'y': 661, 'w': 60, 'h': 60},\n",
       "  {'x': 1321, 'y': 973, 'w': 65, 'h': 65},\n",
       "  {'x': 1111, 'y': 503, 'w': 100, 'h': 100},\n",
       "  {'x': 412, 'y': 177, 'w': 268, 'h': 268},\n",
       "  {'x': 1573, 'y': 417, 'w': 79, 'h': 79}],\n",
       " 60: [{'x': 1490, 'y': 503, 'w': 119, 'h': 119},\n",
       "  {'x': 617, 'y': 184, 'w': 268, 'h': 268}],\n",
       " 75: [{'x': 1114, 'y': 288, 'w': 58, 'h': 58},\n",
       "  {'x': 816, 'y': 202, 'w': 259, 'h': 259}],\n",
       " 90: [{'x': 942, 'y': 219, 'w': 274, 'h': 274},\n",
       "  {'x': 1366, 'y': 803, 'w': 186, 'h': 186},\n",
       "  {'x': 146, 'y': 910, 'w': 103, 'h': 103}],\n",
       " 105: [{'x': 767, 'y': 372, 'w': 34, 'h': 34},\n",
       "  {'x': 1059, 'y': 182, 'w': 287, 'h': 287},\n",
       "  {'x': 486, 'y': 903, 'w': 98, 'h': 98}],\n",
       " 120: [{'x': 50, 'y': 41, 'w': 91, 'h': 91},\n",
       "  {'x': 1068, 'y': 168, 'w': 285, 'h': 285},\n",
       "  {'x': 788, 'y': 898, 'w': 96, 'h': 96}],\n",
       " 135: [{'x': 378, 'y': 65, 'w': 70, 'h': 70},\n",
       "  {'x': 1016, 'y': 176, 'w': 256, 'h': 256}],\n",
       " 150: [{'x': 455, 'y': 10, 'w': 117, 'h': 117},\n",
       "  {'x': 1526, 'y': 454, 'w': 65, 'h': 65},\n",
       "  {'x': 830, 'y': 224, 'w': 110, 'h': 110},\n",
       "  {'x': 978, 'y': 197, 'w': 250, 'h': 250},\n",
       "  {'x': 899, 'y': 181, 'w': 54, 'h': 54},\n",
       "  {'x': 621, 'y': 72, 'w': 67, 'h': 67}],\n",
       " 165: [{'x': 1528, 'y': 920, 'w': 100, 'h': 100},\n",
       "  {'x': 1326, 'y': 579, 'w': 59, 'h': 59},\n",
       "  {'x': 674, 'y': 17, 'w': 117, 'h': 117},\n",
       "  {'x': 990, 'y': 152, 'w': 250, 'h': 250},\n",
       "  {'x': 1757, 'y': 461, 'w': 61, 'h': 61},\n",
       "  {'x': 835, 'y': 74, 'w': 73, 'h': 73},\n",
       "  {'x': 323, 'y': 446, 'w': 105, 'h': 105}],\n",
       " 180: [{'x': 1789, 'y': 937, 'w': 103, 'h': 103},\n",
       "  {'x': 1004, 'y': 113, 'w': 273, 'h': 273},\n",
       "  {'x': 223, 'y': 355, 'w': 187, 'h': 187}],\n",
       " 195: [{'x': 1396, 'y': 490, 'w': 69, 'h': 69},\n",
       "  {'x': 1067, 'y': 378, 'w': 88, 'h': 88},\n",
       "  {'x': 442, 'y': 367, 'w': 169, 'h': 169},\n",
       "  {'x': 951, 'y': 99, 'w': 256, 'h': 256},\n",
       "  {'x': 100, 'y': 455, 'w': 81, 'h': 81},\n",
       "  {'x': 1283, 'y': 78, 'w': 76, 'h': 76}],\n",
       " 210: [{'x': 536, 'y': 370, 'w': 169, 'h': 169},\n",
       "  {'x': 1619, 'y': 510, 'w': 28, 'h': 28},\n",
       "  {'x': 894, 'y': 110, 'w': 251, 'h': 251},\n",
       "  {'x': 1491, 'y': 491, 'w': 74, 'h': 74},\n",
       "  {'x': 203, 'y': 456, 'w': 81, 'h': 81},\n",
       "  {'x': 1479, 'y': 620, 'w': 60, 'h': 60},\n",
       "  {'x': 1381, 'y': 77, 'w': 77, 'h': 77}],\n",
       " 225: [{'x': 1600, 'y': 509, 'w': 29, 'h': 29},\n",
       "  {'x': 918, 'y': 116, 'w': 248, 'h': 248},\n",
       "  {'x': 1332, 'y': 599, 'w': 60, 'h': 60},\n",
       "  {'x': 99, 'y': 456, 'w': 66, 'h': 66},\n",
       "  {'x': 1474, 'y': 491, 'w': 76, 'h': 76},\n",
       "  {'x': 179, 'y': 453, 'w': 86, 'h': 86},\n",
       "  {'x': 510, 'y': 361, 'w': 178, 'h': 178},\n",
       "  {'x': 1459, 'y': 619, 'w': 65, 'h': 65},\n",
       "  {'x': 1362, 'y': 78, 'w': 77, 'h': 77}],\n",
       " 240: [{'x': 358, 'y': 920, 'w': 150, 'h': 150},\n",
       "  {'x': 302, 'y': 365, 'w': 172, 'h': 172},\n",
       "  {'x': 1011, 'y': 142, 'w': 243, 'h': 243}],\n",
       " 255: [{'x': 1754, 'y': 361, 'w': 27, 'h': 27},\n",
       "  {'x': 1446, 'y': 916, 'w': 99, 'h': 99},\n",
       "  {'x': 1336, 'y': 88, 'w': 119, 'h': 119},\n",
       "  {'x': 834, 'y': 161, 'w': 233, 'h': 233},\n",
       "  {'x': 1095, 'y': 972, 'w': 53, 'h': 53}],\n",
       " 270: [{'x': 661, 'y': 157, 'w': 255, 'h': 255},\n",
       "  {'x': 1141, 'y': 906, 'w': 94, 'h': 94}],\n",
       " 285: [{'x': 495, 'y': 129, 'w': 274, 'h': 274}]}"
      ]
     },
     "execution_count": 10,
     "metadata": {},
     "output_type": "execute_result"
    }
   ],
   "source": [
    "coordinates"
   ]
  },
  {
   "cell_type": "code",
   "execution_count": null,
   "metadata": {
    "hidden": true
   },
   "outputs": [],
   "source": []
  },
  {
   "cell_type": "code",
   "execution_count": 17,
   "metadata": {
    "ExecuteTime": {
     "end_time": "2019-12-24T00:52:39.523806Z",
     "start_time": "2019-12-24T00:52:39.519766Z"
    },
    "hidden": true
   },
   "outputs": [],
   "source": [
    "from keras_vggface.vggface import VGGFace\n",
    "from keras_vggface.utils import preprocess_input"
   ]
  },
  {
   "cell_type": "code",
   "execution_count": 31,
   "metadata": {
    "ExecuteTime": {
     "end_time": "2019-12-24T01:01:25.560733Z",
     "start_time": "2019-12-24T01:01:25.557733Z"
    },
    "hidden": true
   },
   "outputs": [],
   "source": [
    "from mtcnn.mtcnn import MTCNN\n",
    "from PIL import Image"
   ]
  },
  {
   "cell_type": "code",
   "execution_count": 32,
   "metadata": {
    "ExecuteTime": {
     "end_time": "2019-12-24T01:01:26.327965Z",
     "start_time": "2019-12-24T01:01:26.322999Z"
    },
    "hidden": true
   },
   "outputs": [],
   "source": [
    "# extract a single face from a given photograph\n",
    "def extract_face(img, required_size=(224, 224)):\n",
    "    # create the detector, using default weights\n",
    "    detector = MTCNN()\n",
    "    # detect faces in the image\n",
    "    results = detector.detect_faces(img)\n",
    "    # extract the bounding box from the first face\n",
    "    x1, y1, width, height = results[0]['box']\n",
    "    x2, y2 = x1 + width, y1 + height\n",
    "    # extract the face\n",
    "    face = img[y1:y2, x1:x2]\n",
    "    # resize pixels to the model size\n",
    "    image = Image.fromarray(face)\n",
    "    image = image.resize(required_size)\n",
    "    face_array = np.asarray(image)\n",
    "    return face_array"
   ]
  },
  {
   "cell_type": "code",
   "execution_count": 34,
   "metadata": {
    "ExecuteTime": {
     "end_time": "2019-12-24T01:02:15.279030Z",
     "start_time": "2019-12-24T01:02:14.248033Z"
    },
    "hidden": true,
    "scrolled": true
   },
   "outputs": [],
   "source": [
    "face = extract_face(img)"
   ]
  },
  {
   "cell_type": "code",
   "execution_count": 39,
   "metadata": {
    "ExecuteTime": {
     "end_time": "2019-12-24T01:03:58.182722Z",
     "start_time": "2019-12-24T01:03:58.006685Z"
    },
    "hidden": true,
    "scrolled": true
   },
   "outputs": [
    {
     "data": {
      "text/plain": [
       "<matplotlib.image.AxesImage at 0x235a69da208>"
      ]
     },
     "execution_count": 39,
     "metadata": {},
     "output_type": "execute_result"
    },
    {
     "data": {
      "image/png": "[encoded data removed]",
      "text/plain": [
       "<Figure size 432x288 with 1 Axes>"
      ]
     },
     "metadata": {
      "needs_background": "light"
     },
     "output_type": "display_data"
    }
   ],
   "source": [
    "plt.imshow(face)"
   ]
  },
  {
   "cell_type": "code",
   "execution_count": null,
   "metadata": {
    "hidden": true
   },
   "outputs": [],
   "source": []
  },
  {
   "cell_type": "code",
   "execution_count": null,
   "metadata": {
    "hidden": true
   },
   "outputs": [],
   "source": []
  },
  {
   "cell_type": "code",
   "execution_count": 12,
   "metadata": {
    "ExecuteTime": {
     "end_time": "2019-12-24T00:49:51.319932Z",
     "start_time": "2019-12-24T00:49:17.198312Z"
    },
    "hidden": true
   },
   "outputs": [
    {
     "name": "stdout",
     "output_type": "stream",
     "text": [
      "Downloading data from https://github.com/rcmalli/keras-vggface/releases/download/v2.0/rcmalli_vggface_tf_senet50.h5\n",
      " 25239552/175688524 [===>..........................] - ETA: 31"
     ]
    },
    {
     "data": {
      "text/html": [
       "<b>limit_output extension: Maximum message size of 10000 exceeded with 10126 characters</b>"
      ]
     },
     "metadata": {},
     "output_type": "display_data"
    }
   ],
   "source": [
    "vggface = VGGFace(model='senet50')"
   ]
  },
  {
   "cell_type": "code",
   "execution_count": 14,
   "metadata": {
    "ExecuteTime": {
     "end_time": "2019-12-24T00:51:34.533688Z",
     "start_time": "2019-12-24T00:51:34.528722Z"
    },
    "hidden": true
   },
   "outputs": [
    {
     "name": "stdout",
     "output_type": "stream",
     "text": [
      "Inputs: [<tf.Tensor 'input_1:0' shape=(None, 224, 224, 3) dtype=float32>]\n",
      "Outputs: [<tf.Tensor 'classifier/Softmax:0' shape=(None, 8631) dtype=float32>]\n"
     ]
    }
   ],
   "source": [
    "print('Inputs: %s' % vggface.inputs)\n",
    "print('Outputs: %s' % vggface.outputs)"
   ]
  },
  {
   "cell_type": "code",
   "execution_count": 16,
   "metadata": {
    "ExecuteTime": {
     "end_time": "2019-12-24T00:52:18.684050Z",
     "start_time": "2019-12-24T00:52:18.503055Z"
    },
    "hidden": true
   },
   "outputs": [],
   "source": [
    "img = video.get(0)"
   ]
  },
  {
   "cell_type": "code",
   "execution_count": 20,
   "metadata": {
    "ExecuteTime": {
     "end_time": "2019-12-24T00:53:24.331036Z",
     "start_time": "2019-12-24T00:53:24.325036Z"
    },
    "hidden": true
   },
   "outputs": [
    {
     "data": {
      "text/plain": [
       "(1, 1080, 1920, 3)"
      ]
     },
     "execution_count": 20,
     "metadata": {},
     "output_type": "execute_result"
    }
   ],
   "source": [
    "np.expand_dims(img, axis=0).shape"
   ]
  },
  {
   "cell_type": "code",
   "execution_count": 35,
   "metadata": {
    "ExecuteTime": {
     "end_time": "2019-12-24T01:02:30.814131Z",
     "start_time": "2019-12-24T01:02:30.809140Z"
    },
    "hidden": true
   },
   "outputs": [],
   "source": [
    "face_proccesed = preprocess_input(np.expand_dims(face.astype('float32'), axis=0), version=2)"
   ]
  },
  {
   "cell_type": "code",
   "execution_count": 36,
   "metadata": {
    "ExecuteTime": {
     "end_time": "2019-12-24T01:02:35.524334Z",
     "start_time": "2019-12-24T01:02:31.601835Z"
    },
    "hidden": true
   },
   "outputs": [
    {
     "data": {
      "text/plain": [
       "array([[1.9510621e-06, 5.7944007e-06, 9.5319929e-06, ..., 1.0868226e-06,\n",
       "        2.1479169e-08, 1.7774062e-06]], dtype=float32)"
      ]
     },
     "execution_count": 36,
     "metadata": {},
     "output_type": "execute_result"
    }
   ],
   "source": [
    "vggface.predict(face_proccesed)"
   ]
  },
  {
   "cell_type": "code",
   "execution_count": null,
   "metadata": {
    "hidden": true
   },
   "outputs": [],
   "source": []
  },
  {
   "cell_type": "code",
   "execution_count": null,
   "metadata": {
    "hidden": true
   },
   "outputs": [],
   "source": []
  },
  {
   "cell_type": "code",
   "execution_count": null,
   "metadata": {
    "hidden": true
   },
   "outputs": [],
   "source": []
  },
  {
   "cell_type": "code",
   "execution_count": null,
   "metadata": {
    "hidden": true
   },
   "outputs": [],
   "source": []
  },
  {
   "cell_type": "code",
   "execution_count": 12,
   "metadata": {
    "ExecuteTime": {
     "end_time": "2019-12-24T00:27:39.175463Z",
     "start_time": "2019-12-24T00:27:39.170464Z"
    },
    "hidden": true
   },
   "outputs": [],
   "source": [
    "import face_recognition"
   ]
  },
  {
   "cell_type": "code",
   "execution_count": 13,
   "metadata": {
    "ExecuteTime": {
     "end_time": "2019-12-24T00:27:39.194462Z",
     "start_time": "2019-12-24T00:27:39.188465Z"
    },
    "hidden": true
   },
   "outputs": [
    {
     "data": {
      "text/plain": [
       "'aagfhgtpmv.mp4'"
      ]
     },
     "execution_count": 13,
     "metadata": {},
     "output_type": "execute_result"
    }
   ],
   "source": [
    "fake_video_file_name"
   ]
  },
  {
   "cell_type": "code",
   "execution_count": 14,
   "metadata": {
    "ExecuteTime": {
     "end_time": "2019-12-24T00:27:42.623462Z",
     "start_time": "2019-12-24T00:27:39.196465Z"
    },
    "hidden": true
   },
   "outputs": [],
   "source": [
    "batch_img = []\n",
    "for frame in range(0, video.__len__(), 15):\n",
    "    img = video.get(frame)\n",
    "    batch_img.append(img)"
   ]
  },
  {
   "cell_type": "code",
   "execution_count": 15,
   "metadata": {
    "ExecuteTime": {
     "end_time": "2019-12-24T00:27:42.896462Z",
     "start_time": "2019-12-24T00:27:42.624458Z"
    },
    "hidden": true
   },
   "outputs": [
    {
     "data": {
      "text/plain": [
       "<matplotlib.image.AxesImage at 0x1c6cfdac2e8>"
      ]
     },
     "execution_count": 15,
     "metadata": {},
     "output_type": "execute_result"
    },
    {
     "data": {
      "image/png": "[encoded data removed]",
      "text/plain": [
       "<Figure size 432x288 with 1 Axes>"
      ]
     },
     "metadata": {
      "needs_background": "light"
     },
     "output_type": "display_data"
    }
   ],
   "source": [
    "plt.imshow(img)"
   ]
  },
  {
   "cell_type": "code",
   "execution_count": 17,
   "metadata": {
    "ExecuteTime": {
     "end_time": "2019-12-24T00:27:59.014703Z",
     "start_time": "2019-12-24T00:27:55.647632Z"
    },
    "hidden": true
   },
   "outputs": [
    {
     "data": {
      "text/plain": [
       "[[(153, 608, 436, 325)],\n",
       " [(181, 658, 417, 423)],\n",
       " [(181, 730, 417, 494)],\n",
       " [(181, 658, 417, 423)],\n",
       " [(181, 850, 417, 614)],\n",
       " [(228, 1064, 464, 829)],\n",
       " [(228, 1184, 464, 948)],\n",
       " [(205, 1303, 440, 1067)],\n",
       " [(181, 1353, 464, 1070)],\n",
       " [(205, 1248, 402, 1051)],\n",
       " [(228, 1208, 464, 972)],\n",
       " [(157, 1232, 393, 996)],\n",
       " [(165, 1228, 362, 1031)],\n",
       " [(109, 1160, 345, 924)],\n",
       " [(125, 1108, 322, 912)],\n",
       " [(145, 1128, 342, 932)],\n",
       " [(165, 1208, 362, 1011)],\n",
       " [(165, 1029, 362, 832)],\n",
       " [(157, 873, 393, 638)],\n",
       " [(133, 730, 369, 494)]]"
      ]
     },
     "execution_count": 17,
     "metadata": {},
     "output_type": "execute_result"
    }
   ],
   "source": [
    " face_recognition.batch_face_locations(batch_img, number_of_times_to_upsample=0)"
   ]
  },
  {
   "cell_type": "code",
   "execution_count": null,
   "metadata": {
    "hidden": true
   },
   "outputs": [],
   "source": []
  },
  {
   "cell_type": "code",
   "execution_count": 17,
   "metadata": {
    "ExecuteTime": {
     "end_time": "2019-12-23T23:05:22.591025Z",
     "start_time": "2019-12-23T23:05:22.587025Z"
    },
    "hidden": true
   },
   "outputs": [
    {
     "data": {
      "text/plain": [
       "20"
      ]
     },
     "execution_count": 17,
     "metadata": {},
     "output_type": "execute_result"
    }
   ],
   "source": [
    "len(batch_img)"
   ]
  },
  {
   "cell_type": "code",
   "execution_count": null,
   "metadata": {
    "hidden": true
   },
   "outputs": [],
   "source": []
  },
  {
   "cell_type": "code",
   "execution_count": 16,
   "metadata": {
    "ExecuteTime": {
     "end_time": "2019-12-23T23:05:18.544034Z",
     "start_time": "2019-12-23T23:05:17.260059Z"
    },
    "hidden": true
   },
   "outputs": [],
   "source": [
    "face_locations = face_recognition.face_locations(img)"
   ]
  },
  {
   "cell_type": "code",
   "execution_count": 17,
   "metadata": {
    "ExecuteTime": {
     "end_time": "2019-12-23T22:57:40.100924Z",
     "start_time": "2019-12-23T22:57:40.095923Z"
    },
    "hidden": true
   },
   "outputs": [
    {
     "data": {
      "text/plain": [
       "[(217, 588, 440, 365)]"
      ]
     },
     "execution_count": 17,
     "metadata": {},
     "output_type": "execute_result"
    }
   ],
   "source": [
    "face_locations"
   ]
  },
  {
   "cell_type": "code",
   "execution_count": 58,
   "metadata": {
    "ExecuteTime": {
     "end_time": "2019-12-23T22:03:57.031256Z",
     "start_time": "2019-12-23T22:03:57.023256Z"
    },
    "hidden": true
   },
   "outputs": [
    {
     "data": {
      "text/plain": [
       "[{'img': Array([[[253, 253, 253],\n",
       "          [253, 253, 253],\n",
       "          [255, 255, 255],\n",
       "          ...,\n",
       "          [204, 209, 187],\n",
       "          [204, 209, 187],\n",
       "          [204, 209, 187]],\n",
       "  \n",
       "         [[253, 253, 253],\n",
       "          [253, 253, 253],\n",
       "          [252, 252, 252],\n",
       "          ...,\n",
       "          [204, 209, 187],\n",
       "          [204, 209, 187],\n",
       "          [204, 209, 187]],\n",
       "  \n",
       "         [[253, 253, 253],\n",
       "          [253, 252, 255],\n",
       "          [252, 251, 254],\n",
       "          ...,\n",
       "          [204, 209, 189],\n",
       "          [204, 209, 189],\n",
       "          [204, 209, 187]],\n",
       "  \n",
       "         ...,\n",
       "  \n",
       "         [[239, 253, 164],\n",
       "          [238, 251, 167],\n",
       "          [236, 249, 165],\n",
       "          ...,\n",
       "          [204, 208, 191],\n",
       "          [204, 208, 191],\n",
       "          [204, 208, 191]],\n",
       "  \n",
       "         [[244, 253, 197],\n",
       "          [242, 251, 191],\n",
       "          [238, 247, 187],\n",
       "          ...,\n",
       "          [204, 208, 191],\n",
       "          [204, 208, 191],\n",
       "          [204, 208, 191]],\n",
       "  \n",
       "         [[250, 255, 203],\n",
       "          [248, 255, 197],\n",
       "          [246, 255, 195],\n",
       "          ...,\n",
       "          [204, 208, 191],\n",
       "          [204, 208, 191],\n",
       "          [204, 208, 191]]], dtype=uint8),\n",
       "  'coordinates': {'x': 1703, 'y': 512, 'w': 108, 'h': 108}},\n",
       " {'img': Array([[[126, 107,  95],\n",
       "          [118, 106,  96],\n",
       "          [112, 100,  90],\n",
       "          ...,\n",
       "          [112,  91,  80],\n",
       "          [115,  94,  83],\n",
       "          [117,  95,  87]],\n",
       "  \n",
       "         [[130, 111,  99],\n",
       "          [121, 109,  99],\n",
       "          [114, 102,  92],\n",
       "          ...,\n",
       "          [109,  88,  77],\n",
       "          [111,  90,  79],\n",
       "          [113,  91,  83]],\n",
       "  \n",
       "         [[132, 113, 101],\n",
       "          [123, 111, 101],\n",
       "          [117, 105,  95],\n",
       "          ...,\n",
       "          [100,  83,  73],\n",
       "          [103,  86,  76],\n",
       "          [107,  90,  82]],\n",
       "  \n",
       "         ...,\n",
       "  \n",
       "         [[ 91,  75,  60],\n",
       "          [ 97,  76,  63],\n",
       "          [102,  81,  68],\n",
       "          ...,\n",
       "          [ 94,  77,  67],\n",
       "          [ 92,  75,  65],\n",
       "          [ 92,  75,  67]],\n",
       "  \n",
       "         [[ 92,  76,  61],\n",
       "          [ 98,  77,  64],\n",
       "          [103,  82,  69],\n",
       "          ...,\n",
       "          [ 88,  71,  61],\n",
       "          [ 85,  68,  58],\n",
       "          [ 85,  68,  60]],\n",
       "  \n",
       "         [[ 94,  78,  63],\n",
       "          [100,  79,  66],\n",
       "          [104,  83,  70],\n",
       "          ...,\n",
       "          [ 85,  68,  58],\n",
       "          [ 80,  63,  53],\n",
       "          [ 80,  63,  55]]], dtype=uint8),\n",
       "  'coordinates': {'x': 69, 'y': 1020, 'w': 58, 'h': 58}},\n",
       " {'img': Array([[[119, 110,  93],\n",
       "          [116, 107,  92],\n",
       "          [114, 105,  90],\n",
       "          ...,\n",
       "          [ 85, 117,  86],\n",
       "          [ 84, 116,  87],\n",
       "          [ 82, 114,  85]],\n",
       "  \n",
       "         [[118, 109,  92],\n",
       "          [114, 105,  90],\n",
       "          [109, 100,  85],\n",
       "          ...,\n",
       "          [ 92, 124,  93],\n",
       "          [ 87, 119,  90],\n",
       "          [ 83, 115,  86]],\n",
       "  \n",
       "         [[110, 101,  84],\n",
       "          [108,  99,  84],\n",
       "          [104,  95,  80],\n",
       "          ...,\n",
       "          [ 92, 124,  93],\n",
       "          [ 87, 119,  90],\n",
       "          [ 83, 115,  86]],\n",
       "  \n",
       "         ...,\n",
       "  \n",
       "         [[ 66,  55,  50],\n",
       "          [ 76,  59,  49],\n",
       "          [ 80,  63,  53],\n",
       "          ...,\n",
       "          [218, 199, 142],\n",
       "          [216, 197, 140],\n",
       "          [216, 197, 140]],\n",
       "  \n",
       "         [[ 70,  54,  48],\n",
       "          [ 76,  59,  51],\n",
       "          [ 80,  63,  55],\n",
       "          ...,\n",
       "          [217, 201, 143],\n",
       "          [214, 198, 140],\n",
       "          [214, 198, 140]],\n",
       "  \n",
       "         [[ 71,  55,  49],\n",
       "          [ 76,  59,  51],\n",
       "          [ 79,  62,  54],\n",
       "          ...,\n",
       "          [218, 202, 144],\n",
       "          [216, 200, 142],\n",
       "          [214, 198, 140]]], dtype=uint8),\n",
       "  'coordinates': {'x': 351, 'y': 173, 'w': 245, 'h': 245}}]"
      ]
     },
     "execution_count": 58,
     "metadata": {},
     "output_type": "execute_result"
    }
   ],
   "source": [
    "crops[key]"
   ]
  },
  {
   "cell_type": "code",
   "execution_count": null,
   "metadata": {
    "hidden": true
   },
   "outputs": [],
   "source": []
  },
  {
   "cell_type": "code",
   "execution_count": 47,
   "metadata": {
    "ExecuteTime": {
     "end_time": "2019-12-23T21:54:25.577201Z",
     "start_time": "2019-12-23T21:54:25.573201Z"
    },
    "hidden": true
   },
   "outputs": [
    {
     "data": {
      "text/plain": [
       "'aagfhgtpmv'"
      ]
     },
     "execution_count": 47,
     "metadata": {},
     "output_type": "execute_result"
    }
   ],
   "source": [
    "fake_video_file_name.split('.')[0]"
   ]
  },
  {
   "cell_type": "code",
   "execution_count": 42,
   "metadata": {
    "ExecuteTime": {
     "end_time": "2019-12-23T21:46:50.004600Z",
     "start_time": "2019-12-23T21:46:49.996601Z"
    },
    "hidden": true
   },
   "outputs": [
    {
     "data": {
      "text/plain": [
       "dict_keys([0, 30, 60, 90, 120, 150, 180, 210, 240, 270])"
      ]
     },
     "execution_count": 42,
     "metadata": {},
     "output_type": "execute_result"
    }
   ],
   "source": [
    "crops['aagfhgtpmv.mp4'].keys()"
   ]
  },
  {
   "cell_type": "code",
   "execution_count": null,
   "metadata": {
    "hidden": true
   },
   "outputs": [],
   "source": [
    "scipy.misc.imsave(os.path.join('../to_be_annotated/'), image_array)"
   ]
  },
  {
   "cell_type": "code",
   "execution_count": 18,
   "metadata": {
    "ExecuteTime": {
     "end_time": "2019-12-23T21:39:44.098629Z",
     "start_time": "2019-12-23T21:39:43.809604Z"
    },
    "hidden": true
   },
   "outputs": [],
   "source": [
    "video = Video(os.path.join(videos_folder, videos[5]))"
   ]
  },
  {
   "cell_type": "code",
   "execution_count": 19,
   "metadata": {
    "ExecuteTime": {
     "end_time": "2019-12-23T21:39:48.746122Z",
     "start_time": "2019-12-23T21:39:44.218605Z"
    },
    "hidden": true
   },
   "outputs": [],
   "source": [
    "crops = get_face_crops_from_video(video, 30)"
   ]
  },
  {
   "cell_type": "code",
   "execution_count": 20,
   "metadata": {
    "ExecuteTime": {
     "end_time": "2019-12-23T21:39:48.874045Z",
     "start_time": "2019-12-23T21:39:48.870044Z"
    },
    "hidden": true
   },
   "outputs": [
    {
     "data": {
      "text/plain": [
       "10"
      ]
     },
     "execution_count": 20,
     "metadata": {},
     "output_type": "execute_result"
    }
   ],
   "source": [
    "len(crops)"
   ]
  },
  {
   "cell_type": "code",
   "execution_count": 31,
   "metadata": {
    "ExecuteTime": {
     "end_time": "2019-12-23T21:43:12.089990Z",
     "start_time": "2019-12-23T21:43:12.084987Z"
    },
    "hidden": true
   },
   "outputs": [
    {
     "data": {
      "text/plain": [
       "2"
      ]
     },
     "execution_count": 31,
     "metadata": {},
     "output_type": "execute_result"
    }
   ],
   "source": [
    "len(crops[0])"
   ]
  },
  {
   "cell_type": "code",
   "execution_count": 21,
   "metadata": {
    "ExecuteTime": {
     "end_time": "2019-12-23T21:39:49.007046Z",
     "start_time": "2019-12-23T21:39:49.002048Z"
    },
    "hidden": true
   },
   "outputs": [
    {
     "data": {
      "text/plain": [
       "150"
      ]
     },
     "execution_count": 21,
     "metadata": {},
     "output_type": "execute_result"
    }
   ],
   "source": [
    "len(crops[0][0])"
   ]
  },
  {
   "cell_type": "code",
   "execution_count": 22,
   "metadata": {
    "ExecuteTime": {
     "end_time": "2019-12-23T21:39:49.134048Z",
     "start_time": "2019-12-23T21:39:49.130045Z"
    },
    "hidden": true
   },
   "outputs": [
    {
     "data": {
      "text/plain": [
       "(150, 150, 3)"
      ]
     },
     "execution_count": 22,
     "metadata": {},
     "output_type": "execute_result"
    }
   ],
   "source": [
    "crops[0][0].shape"
   ]
  },
  {
   "cell_type": "code",
   "execution_count": 33,
   "metadata": {
    "ExecuteTime": {
     "end_time": "2019-12-23T21:43:47.813745Z",
     "start_time": "2019-12-23T21:43:47.684743Z"
    },
    "hidden": true
   },
   "outputs": [
    {
     "data": {
      "text/plain": [
       "<matplotlib.image.AxesImage at 0x1cf1554da20>"
      ]
     },
     "execution_count": 33,
     "metadata": {},
     "output_type": "execute_result"
    },
    {
     "data": {
      "image/png": "[encoded data removed]",
      "text/plain": [
       "<Figure size 432x288 with 1 Axes>"
      ]
     },
     "metadata": {
      "needs_background": "light"
     },
     "output_type": "display_data"
    }
   ],
   "source": [
    "plt.imshow(crops[0][0])"
   ]
  },
  {
   "cell_type": "code",
   "execution_count": 34,
   "metadata": {
    "ExecuteTime": {
     "end_time": "2019-12-23T21:43:50.167226Z",
     "start_time": "2019-12-23T21:43:50.033226Z"
    },
    "hidden": true
   },
   "outputs": [
    {
     "data": {
      "text/plain": [
       "<matplotlib.image.AxesImage at 0x1cf14d01198>"
      ]
     },
     "execution_count": 34,
     "metadata": {},
     "output_type": "execute_result"
    },
    {
     "data": {
      "image/png": "[encoded data removed]",
      "text/plain": [
       "<Figure size 432x288 with 1 Axes>"
      ]
     },
     "metadata": {
      "needs_background": "light"
     },
     "output_type": "display_data"
    }
   ],
   "source": [
    "plt.imshow(crops[0][1])"
   ]
  },
  {
   "cell_type": "code",
   "execution_count": null,
   "metadata": {
    "hidden": true
   },
   "outputs": [],
   "source": []
  },
  {
   "cell_type": "code",
   "execution_count": null,
   "metadata": {
    "hidden": true
   },
   "outputs": [],
   "source": []
  },
  {
   "cell_type": "code",
   "execution_count": null,
   "metadata": {
    "hidden": true
   },
   "outputs": [],
   "source": []
  }
 ],
 "metadata": {
  "kernelspec": {
   "display_name": "Python 3",
   "language": "python",
   "name": "python3"
  },
  "language_info": {
   "codemirror_mode": {
    "name": "ipython",
    "version": 3
   },
   "file_extension": ".py",
   "mimetype": "text/x-python",
   "name": "python",
   "nbconvert_exporter": "python",
   "pygments_lexer": "ipython3",
   "version": "3.6.9"
  },
  "varInspector": {
   "cols": {
    "lenName": 16,
    "lenType": 16,
    "lenVar": 40
   },
   "kernels_config": {
    "python": {
     "delete_cmd_postfix": "",
     "delete_cmd_prefix": "del ",
     "library": "var_list.py",
     "varRefreshCmd": "print(var_dic_list())"
    },
    "r": {
     "delete_cmd_postfix": ") ",
     "delete_cmd_prefix": "rm(",
     "library": "var_list.r",
     "varRefreshCmd": "cat(var_dic_list()) "
    }
   },
   "position": {
    "height": "251px",
    "left": "992px",
    "right": "20px",
    "top": "127px",
    "width": "338px"
   },
   "types_to_exclude": [
    "module",
    "function",
    "builtin_function_or_method",
    "instance",
    "_Feature"
   ],
   "window_display": false
  }
 },
 "nbformat": 4,
 "nbformat_minor": 2
}
